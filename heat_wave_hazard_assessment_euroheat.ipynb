{
 "cells": [
  {
   "cell_type": "markdown",
   "id": "66cd5d38-1e96-43a0-802e-1bc31e97737c",
   "metadata": {},
   "source": [
    "# Heatwave: Change under climate scenarios workflow [Hazard assessment]"
   ]
  },
  {
   "cell_type": "markdown",
   "id": "eb0d77a0-683b-462b-82e5-bed19689ebbb",
   "metadata": {},
   "source": [
    "## Step 1: Description"
   ]
  },
  {
   "cell_type": "markdown",
   "id": "e1a98f98-1c6f-4754-99d2-48f4740ec03d",
   "metadata": {},
   "source": [
    "**Content:**\n",
    "- **1.1** Sources of the Heat-related products provided by **CDS** and **Climate adapt**\n",
    "- **1.2** Heat-wave hazard estimation based on the **Euroheat** methodology."
   ]
  },
  {
   "cell_type": "markdown",
   "id": "d00ef501",
   "metadata": {},
   "source": [
    "### 1.1 Heat-Wave Hazard methodology description"
   ]
  },
  {
   "cell_type": "markdown",
   "id": "5b20de6a-e50c-48e0-88e3-e3fbc6895595",
   "metadata": {},
   "source": [
    "#### Heatwave based on the EUROheat data [[EUROheat](https://climate-adapt.eea.europa.eu/en/metadata/tools/euroheat-online-heatwave-forecast)]"
   ]
  },
  {
   "cell_type": "markdown",
   "id": "db47b670-7787-4523-803f-a00da6602d22",
   "metadata": {},
   "source": [
    "- Methodology based on the EUROheat project [[source](https://confluence.ecmwf.int/display/CKB/Heat+waves+and+cold+spells+in+Europe+derived+from+climate+projections+documentation)]:\n",
    "-  **For the health-related** EU-wide definition, we rely on the results of the EUROheat project. For the summer period of June to August, heat waves were defined as days in which the maximal apparent temperature (Tappmax) exceeds the threshold (90th percentile of Tappmax for each month) and the minimum temperature (Tmin) exceeds its threshold (90th percentile of Tmin for each month) for at least two days. The apparent temperature is a measure of relative discomfort due to combined heat and high humidity, developed based on physiological studies on evaporative skin cooling. It can be calculated as a combination of air and dew point temperature.\n",
    "-  **For National-related**. Each nation uses a different methodology [[source](https://confluence.ecmwf.int/display/CKB/Heat+waves+and+cold+spells+in+Europe+derived+from+climate+projections+documentation)] e.g. for Belgium, a heat wave day is a day on which both the three-day running daily minimal and maximal temperature exceeds a threshold of 18.2 °C and 29.6 °C between April and September. This condition has to be met for three consecutive days. The source of the heat wave definition is the Belgian federal public health agency.\n",
    "\n",
    "-  **Data source** from CDS [[source](https://cds.climate.copernicus.eu/cdsapp#!/dataset/sis-heat-and-cold-spells?tab=overview)]\n",
    " \n",
    "**Pros [+]**\n",
    "- Less data for downloading (in comparison with the PESETAIV and XCLIM) \n",
    "- precomputed data = fast processing\n",
    "- 12x12km grid for years 1986-2085 for the whole EU\n",
    "- preprocessed data, no need for calculation, only the visualization of the results.\n",
    "- calculated from the maximum and minimum temperatures, suitable also for the regions where the temperature can significantly drop during the nights\n",
    "  \n",
    "**Cons [-]**\n",
    "- without the possibility of changing thresholds for temperature and days for the heat wave estimation, these thresholds are fixedly set by the EUROheat\n",
    "- only yearly values\n",
    "- national-related estimations are not available for each EU state. "
   ]
  },
  {
   "cell_type": "markdown",
   "id": "e8807817-b472-4d82-9c18-39aa1570b01e",
   "metadata": {},
   "source": [
    "## Step 2: Prepare a workspace and load a libraries"
   ]
  },
  {
   "cell_type": "markdown",
   "id": "ab3b4a3c-28e6-4f21-8999-c98904083dd5",
   "metadata": {},
   "source": [
    "### 2.1 Import packages"
   ]
  },
  {
   "cell_type": "markdown",
   "id": "c3a4731a-c4ca-4eb7-a1f9-d44628123876",
   "metadata": {},
   "source": [
    ":::{admonition} In this notebook we will use the following Python libraries:\n",
    ":class: hint dropdown\n",
    "* [zipfile](https://docs.python.org/3/library/zipfile.html) - Provides tools for creating, reading, writing, and extracting ZIP files.\n",
    "* [os](https://docs.python.org/3/library/os.html) - Provides functions for interacting with the operating system, such as file and directory manipulation.\n",
    "* [pathlib](https://docs.python.org/3/library/pathlib.html) - Provides classes for manipulating filesystem paths in a more readable and object-oriented way.\n",
    "* [cdsapi](https://cds.climate.copernicus.eu/api-how-to) - A library to request data from the datasets listed in the CDS catalogue.\n",
    "* [numpy](https://numpy.org/doc/stable/) - A powerful library for numerical computations in Python, widely used for array operations and mathematical functions.\n",
    "* [xarray](https://docs.xarray.dev/en/stable/) - Introduces labels in the form of dimensions, coordinates, and attributes on top of raw NumPy-like arrays for a more intuitive experience.\n",
    "* [matplotlib](https://matplotlib.org/stable/) - A versatile plotting library in Python, commonly used for creating static, animated, and interactive visualizations.\n",
    "* [rasterio](https://rasterio.readthedocs.io/en/latest/) - A library for reading and writing geospatial raster data.\n",
    "* [plotly](https://plotly.com/) - A Python Graphing Library.\n",
    "* [sklearn](https://scikit-learn.org/stable/modules/linear_model.html#linear-regression) - Module for performing linear regression, part of the scikit-learn machine learning library.\n",
    "* [ipyleaflet](https://ipyleaflet.readthedocs.io/en/stable/) - Enables interactive maps in Jupyter notebooks using the Leaflet.js library.\n",
    "* [ipywidgets](https://ipywidgets.readthedocs.io/en/stable/) - Provides interactive HTML widgets for Jupyter notebooks.\n",
    "* [leafmap](https://leafmap.org/) - Simplifies interactive mapping with Python in Jupyter notebooks, leveraging Leaflet.js.\n",
    "* [localtileserver](https://localtileserver.readthedocs.io/en/latest/) - Serves local raster tiles for visualization n Leaflet maps.\n"
   ]
  },
  {
   "cell_type": "code",
   "execution_count": 1,
   "id": "8ed05ac2-988a-48e4-8e95-9de9879a57fd",
   "metadata": {},
   "outputs": [],
   "source": [
    "# Provides tools for creating, reading, writing, and extracting ZIP files.\n",
    "import zipfile\n",
    "# Provides functions for interacting with the operating system, such as file and directory manipulation.\n",
    "import os\n",
    "# Provides classes for manipulating filesystem paths in a more readable and object-oriented way.\n",
    "from pathlib import Path\n",
    "# Client library for the Climate Data Store (CDS) API, used for downloading climate and weather data.\n",
    "import cdsapi\n",
    "# Fundamental package for numerical computations in Python, especially for 2-3D array data handling.\n",
    "import numpy as np\n",
    "# Powerful library for handling multi-dimensional labeled arrays and datasets, often used in geosciences.\n",
    "import xarray as xr\n",
    "# Comprehensive library for creating static, animated, and interactive visualizations in Python.\n",
    "import matplotlib.pyplot as plt\n",
    "# Provides classes and functions for handling Coordinate Reference Systems (CRS) in raster data.\n",
    "from rasterio.crs import CRS\n",
    "# Matplotlib's procedural interface for plotting and visualization.\n",
    "from pylab import pcolormesh, show, colorbar, plot, title, legend, subplot, savefig\n",
    "# Another interface for Matplotlib, designed to have a similar feel to MATLAB.\n",
    "from matplotlib import pyplot\n",
    "# Helper function from Rasterio for visualizing raster data.\n",
    "from rasterio.plot import show\n",
    "# Library for reading and writing geospatial raster data.\n",
    "import rasterio as rio\n",
    "# Provides a high-level interface for creating interactive plots with Plotly.\n",
    "import plotly.graph_objects as go\n",
    "# Module for performing linear regression, part of the scikit-learn machine learning library.\n",
    "from sklearn.linear_model import LinearRegression\n",
    "# Enables interactive maps in Jupyter notebooks using the Leaflet.js library.\n",
    "from ipyleaflet import Map, DrawControl, Marker, LayersControl\n",
    "# Provides interactive HTML widgets for Jupyter notebooks.\n",
    "import ipywidgets as widgets\n",
    "# Simplifies interactive mapping with Python in Jupyter notebooks, leveraging Leaflet.js.\n",
    "import leafmap.leafmap as leafmap\n",
    "# Serves local raster tiles for visualization in Leaflet maps.\n",
    "from localtileserver import get_leaflet_tile_layer, TileClient"
   ]
  },
  {
   "cell_type": "markdown",
   "id": "cdfaccfc-ac2e-40e3-989a-c0a30b001689",
   "metadata": {},
   "source": [
    "### 2.2 Create a directory structure"
   ]
  },
  {
   "cell_type": "code",
   "execution_count": 2,
   "id": "bad1ecb3-8f4e-4de7-9476-8a2ddb02b084",
   "metadata": {},
   "outputs": [],
   "source": [
    "# Define the directory for the flashflood workflow preprocess\n",
    "workflow_folder = 'Heat_test2'\n",
    "# Define directories for data and results within the previously defined workflow directory\n",
    "data_dir = os.path.join(workflow_folder,'data')\n",
    "results_dir = os.path.join(workflow_folder,'results')\n",
    "# Check if the workflow directory exists, if not, create it along with subdirectories for data and results\n",
    "if not os.path.exists(workflow_folder):\n",
    "    os.makedirs(workflow_folder)\n",
    "    os.makedirs(os.path.join(data_dir))\n",
    "    os.makedirs(os.path.join(results_dir))"
   ]
  },
  {
   "cell_type": "markdown",
   "id": "9cb758d6-3098-4ac4-b807-5864d4848e25",
   "metadata": {},
   "source": [
    "## Step 3: Calculation of the Heat wave occurence"
   ]
  },
  {
   "cell_type": "markdown",
   "id": "31773dce-424a-4102-b662-4a402984e2dc",
   "metadata": {},
   "source": [
    "Heat-wave occurence based on the Euroheat methodology."
   ]
  },
  {
   "cell_type": "markdown",
   "id": "f250b360-8a07-4526-a8cc-10dca0fa6f7e",
   "metadata": {},
   "source": [
    "### 3.1 Download a data from the CDS"
   ]
  },
  {
   "cell_type": "markdown",
   "id": "5e3a7fa3-3ff4-4963-890a-2daf2b5872c4",
   "metadata": {},
   "source": [
    "- You can download a data from the CDS with the API - look at [[How to change your API KEY](https://cds.climate.copernicus.eu/api-how-to)] and change the KEY\n"
   ]
  },
  {
   "cell_type": "code",
   "execution_count": 4,
   "id": "6ebbcef3-1dd9-4b02-8d61-7527e050e908",
   "metadata": {},
   "outputs": [],
   "source": [
    "URL = \"https://cds.climate.copernicus.eu/api/v2\"\n",
    "KEY = \"PUT-HERE-YOUR-KEY!!!\" ### put here your key!!!"
   ]
  },
  {
   "cell_type": "markdown",
   "id": "64a27fb8-8937-4a9a-8c66-1791087df74b",
   "metadata": {},
   "source": [
    "#### 3.1.1 Heat health-related data from Euroheat [[source](https://cds.climate.copernicus.eu/cdsapp#!/dataset/sis-heat-and-cold-spells?tab=form)]"
   ]
  },
  {
   "cell_type": "code",
   "execution_count": null,
   "id": "b69ea094-82ac-4cb7-8a04-95fd509ef4ca",
   "metadata": {},
   "outputs": [],
   "source": [
    "# Heat waves and cold spells in Europe derived from climate projections\n",
    "c = cdsapi.Client(url=URL, key=KEY)\n",
    "c.retrieve(\n",
    "    'sis-heat-and-cold-spells',\n",
    "    {\n",
    "        'variable': 'heat_wave_days',\n",
    "        'definition': 'health_related',\n",
    "        'experiment': [\n",
    "            'rcp4_5', 'rcp8_5',\n",
    "        ],\n",
    "        'ensemble_statistic': [\n",
    "            'ensemble_members_average', 'ensemble_members_standard_deviation',\n",
    "        ],\n",
    "        'format': 'zip',\n",
    "    },\n",
    "   f\"{data_dir}/heat_spells_health_1986_2085.zip\")"
   ]
  },
  {
   "cell_type": "code",
   "execution_count": 4,
   "id": "70192262-2064-4d53-ba0a-ca1faecd01be",
   "metadata": {},
   "outputs": [],
   "source": [
    "# This code unzips the downloaded files in your working directory, so they will be ready for computing\n",
    "# Define zip file's absolute path\n",
    "zip_path = os.path.join(data_dir, 'heat_spells_health_1986_2085.zip')\n",
    "# Extract from zip file\n",
    "with zipfile.ZipFile(zip_path, 'r') as zObject:\n",
    "    zObject.extractall(path=data_dir)"
   ]
  },
  {
   "cell_type": "markdown",
   "id": "92af4728-991a-4672-8b1c-b9113cc4c21d",
   "metadata": {},
   "source": [
    "#### 3.1.2 Heat national-related data from Euroheat [[source](https://cds.climate.copernicus.eu/cdsapp#!/dataset/sis-heat-and-cold-spells?tab=form)]"
   ]
  },
  {
   "cell_type": "code",
   "execution_count": null,
   "id": "6fdbf730-a95e-4c8a-aa4a-c0b6e84becc3",
   "metadata": {},
   "outputs": [],
   "source": [
    "# Heat waves and cold spells in Europe derived from climate projections\n",
    "c = cdsapi.Client(url=URL, key=KEY)\n",
    "c.retrieve(\n",
    "    'sis-heat-and-cold-spells',\n",
    "    {\n",
    "        'variable': 'heat_wave_days',\n",
    "        'definition': 'country_related',\n",
    "        'experiment': [\n",
    "            'rcp4_5', 'rcp8_5',\n",
    "        ],\n",
    "        'ensemble_statistic': [\n",
    "            'ensemble_members_average', 'ensemble_members_standard_deviation',\n",
    "        ],\n",
    "        'format': 'zip',\n",
    "    },\n",
    "   f\"{data_dir}/heat_spells_country_1986_2085.zip\")"
   ]
  },
  {
   "cell_type": "code",
   "execution_count": 3,
   "id": "23eb346c-8d8a-43fd-be6d-3564dbfc38c4",
   "metadata": {},
   "outputs": [],
   "source": [
    "zip_path = os.path.join(data_dir, 'heat_spells_country_1986_2085.zip')\n",
    "# Extract from zip file\n",
    "with zipfile.ZipFile(zip_path, 'r') as zObject:\n",
    "    zObject.extractall(path=data_dir)"
   ]
  },
  {
   "cell_type": "markdown",
   "id": "b781f542-f9f4-491c-a36d-6fccde12b67d",
   "metadata": {},
   "source": [
    "### 3.2 Prepare data for plotting"
   ]
  },
  {
   "cell_type": "markdown",
   "id": "e1ee94f7-0778-452f-961c-9757cf9eddd7",
   "metadata": {},
   "source": [
    "- In this step we prepare a data for plotting the results for the selected pixel on the EU map. "
   ]
  },
  {
   "cell_type": "code",
   "execution_count": 3,
   "id": "8c95d239-6aec-416a-8f49-267ba0c22c83",
   "metadata": {
    "scrolled": true
   },
   "outputs": [
    {
     "data": {
      "text/html": [
       "<div><svg style=\"position: absolute; width: 0; height: 0; overflow: hidden\">\n",
       "<defs>\n",
       "<symbol id=\"icon-database\" viewBox=\"0 0 32 32\">\n",
       "<path d=\"M16 0c-8.837 0-16 2.239-16 5v4c0 2.761 7.163 5 16 5s16-2.239 16-5v-4c0-2.761-7.163-5-16-5z\"></path>\n",
       "<path d=\"M16 17c-8.837 0-16-2.239-16-5v6c0 2.761 7.163 5 16 5s16-2.239 16-5v-6c0 2.761-7.163 5-16 5z\"></path>\n",
       "<path d=\"M16 26c-8.837 0-16-2.239-16-5v6c0 2.761 7.163 5 16 5s16-2.239 16-5v-6c0 2.761-7.163 5-16 5z\"></path>\n",
       "</symbol>\n",
       "<symbol id=\"icon-file-text2\" viewBox=\"0 0 32 32\">\n",
       "<path d=\"M28.681 7.159c-0.694-0.947-1.662-2.053-2.724-3.116s-2.169-2.030-3.116-2.724c-1.612-1.182-2.393-1.319-2.841-1.319h-15.5c-1.378 0-2.5 1.121-2.5 2.5v27c0 1.378 1.122 2.5 2.5 2.5h23c1.378 0 2.5-1.122 2.5-2.5v-19.5c0-0.448-0.137-1.23-1.319-2.841zM24.543 5.457c0.959 0.959 1.712 1.825 2.268 2.543h-4.811v-4.811c0.718 0.556 1.584 1.309 2.543 2.268zM28 29.5c0 0.271-0.229 0.5-0.5 0.5h-23c-0.271 0-0.5-0.229-0.5-0.5v-27c0-0.271 0.229-0.5 0.5-0.5 0 0 15.499-0 15.5 0v7c0 0.552 0.448 1 1 1h7v19.5z\"></path>\n",
       "<path d=\"M23 26h-14c-0.552 0-1-0.448-1-1s0.448-1 1-1h14c0.552 0 1 0.448 1 1s-0.448 1-1 1z\"></path>\n",
       "<path d=\"M23 22h-14c-0.552 0-1-0.448-1-1s0.448-1 1-1h14c0.552 0 1 0.448 1 1s-0.448 1-1 1z\"></path>\n",
       "<path d=\"M23 18h-14c-0.552 0-1-0.448-1-1s0.448-1 1-1h14c0.552 0 1 0.448 1 1s-0.448 1-1 1z\"></path>\n",
       "</symbol>\n",
       "</defs>\n",
       "</svg>\n",
       "<style>/* CSS stylesheet for displaying xarray objects in jupyterlab.\n",
       " *\n",
       " */\n",
       "\n",
       ":root {\n",
       "  --xr-font-color0: var(--jp-content-font-color0, rgba(0, 0, 0, 1));\n",
       "  --xr-font-color2: var(--jp-content-font-color2, rgba(0, 0, 0, 0.54));\n",
       "  --xr-font-color3: var(--jp-content-font-color3, rgba(0, 0, 0, 0.38));\n",
       "  --xr-border-color: var(--jp-border-color2, #e0e0e0);\n",
       "  --xr-disabled-color: var(--jp-layout-color3, #bdbdbd);\n",
       "  --xr-background-color: var(--jp-layout-color0, white);\n",
       "  --xr-background-color-row-even: var(--jp-layout-color1, white);\n",
       "  --xr-background-color-row-odd: var(--jp-layout-color2, #eeeeee);\n",
       "}\n",
       "\n",
       "html[theme=dark],\n",
       "body[data-theme=dark],\n",
       "body.vscode-dark {\n",
       "  --xr-font-color0: rgba(255, 255, 255, 1);\n",
       "  --xr-font-color2: rgba(255, 255, 255, 0.54);\n",
       "  --xr-font-color3: rgba(255, 255, 255, 0.38);\n",
       "  --xr-border-color: #1F1F1F;\n",
       "  --xr-disabled-color: #515151;\n",
       "  --xr-background-color: #111111;\n",
       "  --xr-background-color-row-even: #111111;\n",
       "  --xr-background-color-row-odd: #313131;\n",
       "}\n",
       "\n",
       ".xr-wrap {\n",
       "  display: block !important;\n",
       "  min-width: 300px;\n",
       "  max-width: 700px;\n",
       "}\n",
       "\n",
       ".xr-text-repr-fallback {\n",
       "  /* fallback to plain text repr when CSS is not injected (untrusted notebook) */\n",
       "  display: none;\n",
       "}\n",
       "\n",
       ".xr-header {\n",
       "  padding-top: 6px;\n",
       "  padding-bottom: 6px;\n",
       "  margin-bottom: 4px;\n",
       "  border-bottom: solid 1px var(--xr-border-color);\n",
       "}\n",
       "\n",
       ".xr-header > div,\n",
       ".xr-header > ul {\n",
       "  display: inline;\n",
       "  margin-top: 0;\n",
       "  margin-bottom: 0;\n",
       "}\n",
       "\n",
       ".xr-obj-type,\n",
       ".xr-array-name {\n",
       "  margin-left: 2px;\n",
       "  margin-right: 10px;\n",
       "}\n",
       "\n",
       ".xr-obj-type {\n",
       "  color: var(--xr-font-color2);\n",
       "}\n",
       "\n",
       ".xr-sections {\n",
       "  padding-left: 0 !important;\n",
       "  display: grid;\n",
       "  grid-template-columns: 150px auto auto 1fr 20px 20px;\n",
       "}\n",
       "\n",
       ".xr-section-item {\n",
       "  display: contents;\n",
       "}\n",
       "\n",
       ".xr-section-item input {\n",
       "  display: none;\n",
       "}\n",
       "\n",
       ".xr-section-item input + label {\n",
       "  color: var(--xr-disabled-color);\n",
       "}\n",
       "\n",
       ".xr-section-item input:enabled + label {\n",
       "  cursor: pointer;\n",
       "  color: var(--xr-font-color2);\n",
       "}\n",
       "\n",
       ".xr-section-item input:enabled + label:hover {\n",
       "  color: var(--xr-font-color0);\n",
       "}\n",
       "\n",
       ".xr-section-summary {\n",
       "  grid-column: 1;\n",
       "  color: var(--xr-font-color2);\n",
       "  font-weight: 500;\n",
       "}\n",
       "\n",
       ".xr-section-summary > span {\n",
       "  display: inline-block;\n",
       "  padding-left: 0.5em;\n",
       "}\n",
       "\n",
       ".xr-section-summary-in:disabled + label {\n",
       "  color: var(--xr-font-color2);\n",
       "}\n",
       "\n",
       ".xr-section-summary-in + label:before {\n",
       "  display: inline-block;\n",
       "  content: '►';\n",
       "  font-size: 11px;\n",
       "  width: 15px;\n",
       "  text-align: center;\n",
       "}\n",
       "\n",
       ".xr-section-summary-in:disabled + label:before {\n",
       "  color: var(--xr-disabled-color);\n",
       "}\n",
       "\n",
       ".xr-section-summary-in:checked + label:before {\n",
       "  content: '▼';\n",
       "}\n",
       "\n",
       ".xr-section-summary-in:checked + label > span {\n",
       "  display: none;\n",
       "}\n",
       "\n",
       ".xr-section-summary,\n",
       ".xr-section-inline-details {\n",
       "  padding-top: 4px;\n",
       "  padding-bottom: 4px;\n",
       "}\n",
       "\n",
       ".xr-section-inline-details {\n",
       "  grid-column: 2 / -1;\n",
       "}\n",
       "\n",
       ".xr-section-details {\n",
       "  display: none;\n",
       "  grid-column: 1 / -1;\n",
       "  margin-bottom: 5px;\n",
       "}\n",
       "\n",
       ".xr-section-summary-in:checked ~ .xr-section-details {\n",
       "  display: contents;\n",
       "}\n",
       "\n",
       ".xr-array-wrap {\n",
       "  grid-column: 1 / -1;\n",
       "  display: grid;\n",
       "  grid-template-columns: 20px auto;\n",
       "}\n",
       "\n",
       ".xr-array-wrap > label {\n",
       "  grid-column: 1;\n",
       "  vertical-align: top;\n",
       "}\n",
       "\n",
       ".xr-preview {\n",
       "  color: var(--xr-font-color3);\n",
       "}\n",
       "\n",
       ".xr-array-preview,\n",
       ".xr-array-data {\n",
       "  padding: 0 5px !important;\n",
       "  grid-column: 2;\n",
       "}\n",
       "\n",
       ".xr-array-data,\n",
       ".xr-array-in:checked ~ .xr-array-preview {\n",
       "  display: none;\n",
       "}\n",
       "\n",
       ".xr-array-in:checked ~ .xr-array-data,\n",
       ".xr-array-preview {\n",
       "  display: inline-block;\n",
       "}\n",
       "\n",
       ".xr-dim-list {\n",
       "  display: inline-block !important;\n",
       "  list-style: none;\n",
       "  padding: 0 !important;\n",
       "  margin: 0;\n",
       "}\n",
       "\n",
       ".xr-dim-list li {\n",
       "  display: inline-block;\n",
       "  padding: 0;\n",
       "  margin: 0;\n",
       "}\n",
       "\n",
       ".xr-dim-list:before {\n",
       "  content: '(';\n",
       "}\n",
       "\n",
       ".xr-dim-list:after {\n",
       "  content: ')';\n",
       "}\n",
       "\n",
       ".xr-dim-list li:not(:last-child):after {\n",
       "  content: ',';\n",
       "  padding-right: 5px;\n",
       "}\n",
       "\n",
       ".xr-has-index {\n",
       "  font-weight: bold;\n",
       "}\n",
       "\n",
       ".xr-var-list,\n",
       ".xr-var-item {\n",
       "  display: contents;\n",
       "}\n",
       "\n",
       ".xr-var-item > div,\n",
       ".xr-var-item label,\n",
       ".xr-var-item > .xr-var-name span {\n",
       "  background-color: var(--xr-background-color-row-even);\n",
       "  margin-bottom: 0;\n",
       "}\n",
       "\n",
       ".xr-var-item > .xr-var-name:hover span {\n",
       "  padding-right: 5px;\n",
       "}\n",
       "\n",
       ".xr-var-list > li:nth-child(odd) > div,\n",
       ".xr-var-list > li:nth-child(odd) > label,\n",
       ".xr-var-list > li:nth-child(odd) > .xr-var-name span {\n",
       "  background-color: var(--xr-background-color-row-odd);\n",
       "}\n",
       "\n",
       ".xr-var-name {\n",
       "  grid-column: 1;\n",
       "}\n",
       "\n",
       ".xr-var-dims {\n",
       "  grid-column: 2;\n",
       "}\n",
       "\n",
       ".xr-var-dtype {\n",
       "  grid-column: 3;\n",
       "  text-align: right;\n",
       "  color: var(--xr-font-color2);\n",
       "}\n",
       "\n",
       ".xr-var-preview {\n",
       "  grid-column: 4;\n",
       "}\n",
       "\n",
       ".xr-index-preview {\n",
       "  grid-column: 2 / 5;\n",
       "  color: var(--xr-font-color2);\n",
       "}\n",
       "\n",
       ".xr-var-name,\n",
       ".xr-var-dims,\n",
       ".xr-var-dtype,\n",
       ".xr-preview,\n",
       ".xr-attrs dt {\n",
       "  white-space: nowrap;\n",
       "  overflow: hidden;\n",
       "  text-overflow: ellipsis;\n",
       "  padding-right: 10px;\n",
       "}\n",
       "\n",
       ".xr-var-name:hover,\n",
       ".xr-var-dims:hover,\n",
       ".xr-var-dtype:hover,\n",
       ".xr-attrs dt:hover {\n",
       "  overflow: visible;\n",
       "  width: auto;\n",
       "  z-index: 1;\n",
       "}\n",
       "\n",
       ".xr-var-attrs,\n",
       ".xr-var-data,\n",
       ".xr-index-data {\n",
       "  display: none;\n",
       "  background-color: var(--xr-background-color) !important;\n",
       "  padding-bottom: 5px !important;\n",
       "}\n",
       "\n",
       ".xr-var-attrs-in:checked ~ .xr-var-attrs,\n",
       ".xr-var-data-in:checked ~ .xr-var-data,\n",
       ".xr-index-data-in:checked ~ .xr-index-data {\n",
       "  display: block;\n",
       "}\n",
       "\n",
       ".xr-var-data > table {\n",
       "  float: right;\n",
       "}\n",
       "\n",
       ".xr-var-name span,\n",
       ".xr-var-data,\n",
       ".xr-index-name div,\n",
       ".xr-index-data,\n",
       ".xr-attrs {\n",
       "  padding-left: 25px !important;\n",
       "}\n",
       "\n",
       ".xr-attrs,\n",
       ".xr-var-attrs,\n",
       ".xr-var-data,\n",
       ".xr-index-data {\n",
       "  grid-column: 1 / -1;\n",
       "}\n",
       "\n",
       "dl.xr-attrs {\n",
       "  padding: 0;\n",
       "  margin: 0;\n",
       "  display: grid;\n",
       "  grid-template-columns: 125px auto;\n",
       "}\n",
       "\n",
       ".xr-attrs dt,\n",
       ".xr-attrs dd {\n",
       "  padding: 0;\n",
       "  margin: 0;\n",
       "  float: left;\n",
       "  padding-right: 10px;\n",
       "  width: auto;\n",
       "}\n",
       "\n",
       ".xr-attrs dt {\n",
       "  font-weight: normal;\n",
       "  grid-column: 1;\n",
       "}\n",
       "\n",
       ".xr-attrs dt:hover span {\n",
       "  display: inline-block;\n",
       "  background: var(--xr-background-color);\n",
       "  padding-right: 10px;\n",
       "}\n",
       "\n",
       ".xr-attrs dd {\n",
       "  grid-column: 2;\n",
       "  white-space: pre-wrap;\n",
       "  word-break: break-all;\n",
       "}\n",
       "\n",
       ".xr-icon-database,\n",
       ".xr-icon-file-text2,\n",
       ".xr-no-icon {\n",
       "  display: inline-block;\n",
       "  vertical-align: middle;\n",
       "  width: 1em;\n",
       "  height: 1.5em !important;\n",
       "  stroke-width: 0;\n",
       "  stroke: currentColor;\n",
       "  fill: currentColor;\n",
       "}\n",
       "</style><pre class='xr-text-repr-fallback'>&lt;xarray.Dataset&gt; Size: 102MB\n",
       "Dimensions:      (lat: 425, lon: 599, time: 100)\n",
       "Coordinates:\n",
       "    height       float64 8B ...\n",
       "  * lat          (lat) float64 3kB 30.1 30.2 30.3 30.4 ... 72.2 72.3 72.4 72.5\n",
       "  * lon          (lon) float64 5kB -24.9 -24.8 -24.7 -24.6 ... 34.7 34.8 34.9\n",
       "  * time         (time) datetime64[ns] 800B 1986-01-01 1987-01-01 ... 2085-01-01\n",
       "    spatial_ref  int32 4B 0\n",
       "Data variables:\n",
       "    HWD_merged   (time, lat, lon) float32 102MB ...\n",
       "Attributes:\n",
       "    title:          Processed EURO-CORDEX future climate data for the health ...\n",
       "    conventions:    CF-1.6\n",
       "    project:        Copernicus Climate Change Service Sectoral Information Sy...\n",
       "    source:         Processing of bias-corrected EURO-CORDEX data by VITO\n",
       "    contact:        bd_rma@vito.be\n",
       "    creation_date:  Thu May  9 14:08:15 2019\n",
       "    institution:    VITO (https://vito.be/en)\n",
       "    history:        Mon Jul 15 13:48:58 2019: ncatted -O -a units,HWD_merged,...\n",
       "    NCO:            netCDF Operators version 4.7.5 (Homepage = http://nco.sf....</pre><div class='xr-wrap' style='display:none'><div class='xr-header'><div class='xr-obj-type'>xarray.Dataset</div></div><ul class='xr-sections'><li class='xr-section-item'><input id='section-4c1ff72a-83f1-401f-99ff-3e0fcf87c176' class='xr-section-summary-in' type='checkbox' disabled ><label for='section-4c1ff72a-83f1-401f-99ff-3e0fcf87c176' class='xr-section-summary'  title='Expand/collapse section'>Dimensions:</label><div class='xr-section-inline-details'><ul class='xr-dim-list'><li><span class='xr-has-index'>lat</span>: 425</li><li><span class='xr-has-index'>lon</span>: 599</li><li><span class='xr-has-index'>time</span>: 100</li></ul></div><div class='xr-section-details'></div></li><li class='xr-section-item'><input id='section-ef3868f0-ad9c-4117-bd0b-b38e18af4447' class='xr-section-summary-in' type='checkbox'  checked><label for='section-ef3868f0-ad9c-4117-bd0b-b38e18af4447' class='xr-section-summary' >Coordinates: <span>(5)</span></label><div class='xr-section-inline-details'></div><div class='xr-section-details'><ul class='xr-var-list'><li class='xr-var-item'><div class='xr-var-name'><span>height</span></div><div class='xr-var-dims'>()</div><div class='xr-var-dtype'>float64</div><div class='xr-var-preview xr-preview'>...</div><input id='attrs-11829525-44a8-41df-9984-61a1e954d052' class='xr-var-attrs-in' type='checkbox' ><label for='attrs-11829525-44a8-41df-9984-61a1e954d052' title='Show/Hide attributes'><svg class='icon xr-icon-file-text2'><use xlink:href='#icon-file-text2'></use></svg></label><input id='data-737dad08-86e8-42cc-a876-74c9bf00c14e' class='xr-var-data-in' type='checkbox'><label for='data-737dad08-86e8-42cc-a876-74c9bf00c14e' title='Show/Hide data repr'><svg class='icon xr-icon-database'><use xlink:href='#icon-database'></use></svg></label><div class='xr-var-attrs'><dl class='xr-attrs'><dt><span>units :</span></dt><dd>m</dd><dt><span>axis :</span></dt><dd>Z</dd><dt><span>positive :</span></dt><dd>up</dd><dt><span>long_name :</span></dt><dd>height</dd><dt><span>standard_name :</span></dt><dd>height</dd></dl></div><div class='xr-var-data'><pre>[1 values with dtype=float64]</pre></div></li><li class='xr-var-item'><div class='xr-var-name'><span class='xr-has-index'>lat</span></div><div class='xr-var-dims'>(lat)</div><div class='xr-var-dtype'>float64</div><div class='xr-var-preview xr-preview'>30.1 30.2 30.3 ... 72.3 72.4 72.5</div><input id='attrs-cb88f50e-c307-413f-9299-43719db45dd7' class='xr-var-attrs-in' type='checkbox' ><label for='attrs-cb88f50e-c307-413f-9299-43719db45dd7' title='Show/Hide attributes'><svg class='icon xr-icon-file-text2'><use xlink:href='#icon-file-text2'></use></svg></label><input id='data-7fdb8579-9af4-4b5b-9368-5891f0b59e41' class='xr-var-data-in' type='checkbox'><label for='data-7fdb8579-9af4-4b5b-9368-5891f0b59e41' title='Show/Hide data repr'><svg class='icon xr-icon-database'><use xlink:href='#icon-database'></use></svg></label><div class='xr-var-attrs'><dl class='xr-attrs'><dt><span>units :</span></dt><dd>degrees_north</dd><dt><span>standard_name :</span></dt><dd>latitude</dd></dl></div><div class='xr-var-data'><pre>array([30.1, 30.2, 30.3, ..., 72.3, 72.4, 72.5])</pre></div></li><li class='xr-var-item'><div class='xr-var-name'><span class='xr-has-index'>lon</span></div><div class='xr-var-dims'>(lon)</div><div class='xr-var-dtype'>float64</div><div class='xr-var-preview xr-preview'>-24.9 -24.8 -24.7 ... 34.8 34.9</div><input id='attrs-1a41634e-bad6-465a-83cc-0d08758bc568' class='xr-var-attrs-in' type='checkbox' ><label for='attrs-1a41634e-bad6-465a-83cc-0d08758bc568' title='Show/Hide attributes'><svg class='icon xr-icon-file-text2'><use xlink:href='#icon-file-text2'></use></svg></label><input id='data-a0c8af6c-3b3d-474c-8ba7-f85f45fe8bdc' class='xr-var-data-in' type='checkbox'><label for='data-a0c8af6c-3b3d-474c-8ba7-f85f45fe8bdc' title='Show/Hide data repr'><svg class='icon xr-icon-database'><use xlink:href='#icon-database'></use></svg></label><div class='xr-var-attrs'><dl class='xr-attrs'><dt><span>units :</span></dt><dd>degrees_east</dd><dt><span>standard_name :</span></dt><dd>longitude</dd></dl></div><div class='xr-var-data'><pre>array([-24.9, -24.8, -24.7, ...,  34.7,  34.8,  34.9])</pre></div></li><li class='xr-var-item'><div class='xr-var-name'><span class='xr-has-index'>time</span></div><div class='xr-var-dims'>(time)</div><div class='xr-var-dtype'>datetime64[ns]</div><div class='xr-var-preview xr-preview'>1986-01-01 ... 2085-01-01</div><input id='attrs-8ee688a9-dd7b-472e-b9f7-022ea2ca8313' class='xr-var-attrs-in' type='checkbox' ><label for='attrs-8ee688a9-dd7b-472e-b9f7-022ea2ca8313' title='Show/Hide attributes'><svg class='icon xr-icon-file-text2'><use xlink:href='#icon-file-text2'></use></svg></label><input id='data-92bb5ef6-11f9-4e30-b3f2-246e69ef9dcc' class='xr-var-data-in' type='checkbox'><label for='data-92bb5ef6-11f9-4e30-b3f2-246e69ef9dcc' title='Show/Hide data repr'><svg class='icon xr-icon-database'><use xlink:href='#icon-database'></use></svg></label><div class='xr-var-attrs'><dl class='xr-attrs'><dt><span>standard_name :</span></dt><dd>time</dd></dl></div><div class='xr-var-data'><pre>array([&#x27;1986-01-01T00:00:00.000000000&#x27;, &#x27;1987-01-01T00:00:00.000000000&#x27;,\n",
       "       &#x27;1988-01-01T00:00:00.000000000&#x27;, &#x27;1989-01-01T00:00:00.000000000&#x27;,\n",
       "       &#x27;1990-01-01T00:00:00.000000000&#x27;, &#x27;1991-01-01T00:00:00.000000000&#x27;,\n",
       "       &#x27;1992-01-01T00:00:00.000000000&#x27;, &#x27;1993-01-01T00:00:00.000000000&#x27;,\n",
       "       &#x27;1994-01-01T00:00:00.000000000&#x27;, &#x27;1995-01-01T00:00:00.000000000&#x27;,\n",
       "       &#x27;1996-01-01T00:00:00.000000000&#x27;, &#x27;1997-01-01T00:00:00.000000000&#x27;,\n",
       "       &#x27;1998-01-01T00:00:00.000000000&#x27;, &#x27;1999-01-01T00:00:00.000000000&#x27;,\n",
       "       &#x27;2000-01-01T00:00:00.000000000&#x27;, &#x27;2001-01-01T00:00:00.000000000&#x27;,\n",
       "       &#x27;2002-01-01T00:00:00.000000000&#x27;, &#x27;2003-01-01T00:00:00.000000000&#x27;,\n",
       "       &#x27;2004-01-01T00:00:00.000000000&#x27;, &#x27;2005-01-01T00:00:00.000000000&#x27;,\n",
       "       &#x27;2006-01-01T00:00:00.000000000&#x27;, &#x27;2007-01-01T00:00:00.000000000&#x27;,\n",
       "       &#x27;2008-01-01T00:00:00.000000000&#x27;, &#x27;2009-01-01T00:00:00.000000000&#x27;,\n",
       "       &#x27;2010-01-01T00:00:00.000000000&#x27;, &#x27;2011-01-01T00:00:00.000000000&#x27;,\n",
       "       &#x27;2012-01-01T00:00:00.000000000&#x27;, &#x27;2013-01-01T00:00:00.000000000&#x27;,\n",
       "       &#x27;2014-01-01T00:00:00.000000000&#x27;, &#x27;2015-01-01T00:00:00.000000000&#x27;,\n",
       "       &#x27;2016-01-01T00:00:00.000000000&#x27;, &#x27;2017-01-01T00:00:00.000000000&#x27;,\n",
       "       &#x27;2018-01-01T00:00:00.000000000&#x27;, &#x27;2019-01-01T00:00:00.000000000&#x27;,\n",
       "       &#x27;2020-01-01T00:00:00.000000000&#x27;, &#x27;2021-01-01T00:00:00.000000000&#x27;,\n",
       "       &#x27;2022-01-01T00:00:00.000000000&#x27;, &#x27;2023-01-01T00:00:00.000000000&#x27;,\n",
       "       &#x27;2024-01-01T00:00:00.000000000&#x27;, &#x27;2025-01-01T00:00:00.000000000&#x27;,\n",
       "       &#x27;2026-01-01T00:00:00.000000000&#x27;, &#x27;2027-01-01T00:00:00.000000000&#x27;,\n",
       "       &#x27;2028-01-01T00:00:00.000000000&#x27;, &#x27;2029-01-01T00:00:00.000000000&#x27;,\n",
       "       &#x27;2030-01-01T00:00:00.000000000&#x27;, &#x27;2031-01-01T00:00:00.000000000&#x27;,\n",
       "       &#x27;2032-01-01T00:00:00.000000000&#x27;, &#x27;2033-01-01T00:00:00.000000000&#x27;,\n",
       "       &#x27;2034-01-01T00:00:00.000000000&#x27;, &#x27;2035-01-01T00:00:00.000000000&#x27;,\n",
       "       &#x27;2036-01-01T00:00:00.000000000&#x27;, &#x27;2037-01-01T00:00:00.000000000&#x27;,\n",
       "       &#x27;2038-01-01T00:00:00.000000000&#x27;, &#x27;2039-01-01T00:00:00.000000000&#x27;,\n",
       "       &#x27;2040-01-01T00:00:00.000000000&#x27;, &#x27;2041-01-01T00:00:00.000000000&#x27;,\n",
       "       &#x27;2042-01-01T00:00:00.000000000&#x27;, &#x27;2043-01-01T00:00:00.000000000&#x27;,\n",
       "       &#x27;2044-01-01T00:00:00.000000000&#x27;, &#x27;2045-01-01T00:00:00.000000000&#x27;,\n",
       "       &#x27;2046-01-01T00:00:00.000000000&#x27;, &#x27;2047-01-01T00:00:00.000000000&#x27;,\n",
       "       &#x27;2048-01-01T00:00:00.000000000&#x27;, &#x27;2049-01-01T00:00:00.000000000&#x27;,\n",
       "       &#x27;2050-01-01T00:00:00.000000000&#x27;, &#x27;2051-01-01T00:00:00.000000000&#x27;,\n",
       "       &#x27;2052-01-01T00:00:00.000000000&#x27;, &#x27;2053-01-01T00:00:00.000000000&#x27;,\n",
       "       &#x27;2054-01-01T00:00:00.000000000&#x27;, &#x27;2055-01-01T00:00:00.000000000&#x27;,\n",
       "       &#x27;2056-01-01T00:00:00.000000000&#x27;, &#x27;2057-01-01T00:00:00.000000000&#x27;,\n",
       "       &#x27;2058-01-01T00:00:00.000000000&#x27;, &#x27;2059-01-01T00:00:00.000000000&#x27;,\n",
       "       &#x27;2060-01-01T00:00:00.000000000&#x27;, &#x27;2061-01-01T00:00:00.000000000&#x27;,\n",
       "       &#x27;2062-01-01T00:00:00.000000000&#x27;, &#x27;2063-01-01T00:00:00.000000000&#x27;,\n",
       "       &#x27;2064-01-01T00:00:00.000000000&#x27;, &#x27;2065-01-01T00:00:00.000000000&#x27;,\n",
       "       &#x27;2066-01-01T00:00:00.000000000&#x27;, &#x27;2067-01-01T00:00:00.000000000&#x27;,\n",
       "       &#x27;2068-01-01T00:00:00.000000000&#x27;, &#x27;2069-01-01T00:00:00.000000000&#x27;,\n",
       "       &#x27;2070-01-01T00:00:00.000000000&#x27;, &#x27;2071-01-01T00:00:00.000000000&#x27;,\n",
       "       &#x27;2072-01-01T00:00:00.000000000&#x27;, &#x27;2073-01-01T00:00:00.000000000&#x27;,\n",
       "       &#x27;2074-01-01T00:00:00.000000000&#x27;, &#x27;2075-01-01T00:00:00.000000000&#x27;,\n",
       "       &#x27;2076-01-01T00:00:00.000000000&#x27;, &#x27;2077-01-01T00:00:00.000000000&#x27;,\n",
       "       &#x27;2078-01-01T00:00:00.000000000&#x27;, &#x27;2079-01-01T00:00:00.000000000&#x27;,\n",
       "       &#x27;2080-01-01T00:00:00.000000000&#x27;, &#x27;2081-01-01T00:00:00.000000000&#x27;,\n",
       "       &#x27;2082-01-01T00:00:00.000000000&#x27;, &#x27;2083-01-01T00:00:00.000000000&#x27;,\n",
       "       &#x27;2084-01-01T00:00:00.000000000&#x27;, &#x27;2085-01-01T00:00:00.000000000&#x27;],\n",
       "      dtype=&#x27;datetime64[ns]&#x27;)</pre></div></li><li class='xr-var-item'><div class='xr-var-name'><span>spatial_ref</span></div><div class='xr-var-dims'>()</div><div class='xr-var-dtype'>int32</div><div class='xr-var-preview xr-preview'>0</div><input id='attrs-4c424a35-5546-48ec-9f55-cecb2e0885b0' class='xr-var-attrs-in' type='checkbox' ><label for='attrs-4c424a35-5546-48ec-9f55-cecb2e0885b0' title='Show/Hide attributes'><svg class='icon xr-icon-file-text2'><use xlink:href='#icon-file-text2'></use></svg></label><input id='data-476e6dde-4235-44c8-a4e5-228db5a8acbc' class='xr-var-data-in' type='checkbox'><label for='data-476e6dde-4235-44c8-a4e5-228db5a8acbc' title='Show/Hide data repr'><svg class='icon xr-icon-database'><use xlink:href='#icon-database'></use></svg></label><div class='xr-var-attrs'><dl class='xr-attrs'><dt><span>crs_wkt :</span></dt><dd>GEOGCS[&quot;WGS 84&quot;,DATUM[&quot;WGS_1984&quot;,SPHEROID[&quot;WGS 84&quot;,6378137,298.257223563,AUTHORITY[&quot;EPSG&quot;,&quot;7030&quot;]],AUTHORITY[&quot;EPSG&quot;,&quot;6326&quot;]],PRIMEM[&quot;Greenwich&quot;,0,AUTHORITY[&quot;EPSG&quot;,&quot;8901&quot;]],UNIT[&quot;degree&quot;,0.0174532925199433,AUTHORITY[&quot;EPSG&quot;,&quot;9122&quot;]],AXIS[&quot;Latitude&quot;,NORTH],AXIS[&quot;Longitude&quot;,EAST],AUTHORITY[&quot;EPSG&quot;,&quot;4326&quot;]]</dd><dt><span>semi_major_axis :</span></dt><dd>6378137.0</dd><dt><span>semi_minor_axis :</span></dt><dd>6356752.314245179</dd><dt><span>inverse_flattening :</span></dt><dd>298.257223563</dd><dt><span>reference_ellipsoid_name :</span></dt><dd>WGS 84</dd><dt><span>longitude_of_prime_meridian :</span></dt><dd>0.0</dd><dt><span>prime_meridian_name :</span></dt><dd>Greenwich</dd><dt><span>geographic_crs_name :</span></dt><dd>WGS 84</dd><dt><span>horizontal_datum_name :</span></dt><dd>World Geodetic System 1984</dd><dt><span>grid_mapping_name :</span></dt><dd>latitude_longitude</dd><dt><span>spatial_ref :</span></dt><dd>GEOGCS[&quot;WGS 84&quot;,DATUM[&quot;WGS_1984&quot;,SPHEROID[&quot;WGS 84&quot;,6378137,298.257223563,AUTHORITY[&quot;EPSG&quot;,&quot;7030&quot;]],AUTHORITY[&quot;EPSG&quot;,&quot;6326&quot;]],PRIMEM[&quot;Greenwich&quot;,0,AUTHORITY[&quot;EPSG&quot;,&quot;8901&quot;]],UNIT[&quot;degree&quot;,0.0174532925199433,AUTHORITY[&quot;EPSG&quot;,&quot;9122&quot;]],AXIS[&quot;Latitude&quot;,NORTH],AXIS[&quot;Longitude&quot;,EAST],AUTHORITY[&quot;EPSG&quot;,&quot;4326&quot;]]</dd></dl></div><div class='xr-var-data'><pre>array(0)</pre></div></li></ul></div></li><li class='xr-section-item'><input id='section-9eb7d8b4-fe8f-47a7-9488-36fbaddfc52a' class='xr-section-summary-in' type='checkbox'  checked><label for='section-9eb7d8b4-fe8f-47a7-9488-36fbaddfc52a' class='xr-section-summary' >Data variables: <span>(1)</span></label><div class='xr-section-inline-details'></div><div class='xr-section-details'><ul class='xr-var-list'><li class='xr-var-item'><div class='xr-var-name'><span>HWD_merged</span></div><div class='xr-var-dims'>(time, lat, lon)</div><div class='xr-var-dtype'>float32</div><div class='xr-var-preview xr-preview'>...</div><input id='attrs-7ae735c0-e8c3-47b5-877e-285af8ebbd7e' class='xr-var-attrs-in' type='checkbox' ><label for='attrs-7ae735c0-e8c3-47b5-877e-285af8ebbd7e' title='Show/Hide attributes'><svg class='icon xr-icon-file-text2'><use xlink:href='#icon-file-text2'></use></svg></label><input id='data-98c0bf4e-bc0c-478a-af63-48c58053d125' class='xr-var-data-in' type='checkbox'><label for='data-98c0bf4e-bc0c-478a-af63-48c58053d125' title='Show/Hide data repr'><svg class='icon xr-icon-database'><use xlink:href='#icon-database'></use></svg></label><div class='xr-var-attrs'><dl class='xr-attrs'><dt><span>long_name :</span></dt><dd>Ensemble members average number of heat-wave days according to the Belgium definition for future climate under rcp85</dd><dt><span>units :</span></dt><dd>day</dd></dl></div><div class='xr-var-data'><pre>[25457500 values with dtype=float32]</pre></div></li></ul></div></li><li class='xr-section-item'><input id='section-bcc879e7-236c-4330-a3c7-f4f8a56b4a94' class='xr-section-summary-in' type='checkbox'  ><label for='section-bcc879e7-236c-4330-a3c7-f4f8a56b4a94' class='xr-section-summary' >Indexes: <span>(3)</span></label><div class='xr-section-inline-details'></div><div class='xr-section-details'><ul class='xr-var-list'><li class='xr-var-item'><div class='xr-index-name'><div>lat</div></div><div class='xr-index-preview'>PandasIndex</div><div></div><input id='index-43f92965-5780-4252-bbd5-b843931aefe3' class='xr-index-data-in' type='checkbox'/><label for='index-43f92965-5780-4252-bbd5-b843931aefe3' title='Show/Hide index repr'><svg class='icon xr-icon-database'><use xlink:href='#icon-database'></use></svg></label><div class='xr-index-data'><pre>PandasIndex(Index([              30.1, 30.200000000000003,               30.3,\n",
       "                     30.4,               30.5,               30.6,\n",
       "       30.700000000000003,               30.8,               30.9,\n",
       "                     31.0,\n",
       "       ...\n",
       "                     71.6,               71.7,  71.80000000000001,\n",
       "                     71.9,               72.0,               72.1,\n",
       "                     72.2,  72.30000000000001,               72.4,\n",
       "                     72.5],\n",
       "      dtype=&#x27;float64&#x27;, name=&#x27;lat&#x27;, length=425))</pre></div></li><li class='xr-var-item'><div class='xr-index-name'><div>lon</div></div><div class='xr-index-preview'>PandasIndex</div><div></div><input id='index-9a11cb0d-55e9-49f2-ba86-4b7030c08071' class='xr-index-data-in' type='checkbox'/><label for='index-9a11cb0d-55e9-49f2-ba86-4b7030c08071' title='Show/Hide index repr'><svg class='icon xr-icon-database'><use xlink:href='#icon-database'></use></svg></label><div class='xr-index-data'><pre>PandasIndex(Index([             -24.9,              -24.8,              -24.7,\n",
       "                    -24.6,              -24.5,              -24.4,\n",
       "                    -24.3,              -24.2,              -24.1,\n",
       "                    -24.0,\n",
       "       ...\n",
       "        34.00000000000001,               34.1,  34.20000000000001,\n",
       "       34.300000000000004,               34.4,  34.50000000000001,\n",
       "                     34.6,  34.70000000000001, 34.800000000000004,\n",
       "                     34.9],\n",
       "      dtype=&#x27;float64&#x27;, name=&#x27;lon&#x27;, length=599))</pre></div></li><li class='xr-var-item'><div class='xr-index-name'><div>time</div></div><div class='xr-index-preview'>PandasIndex</div><div></div><input id='index-3a5a2627-7e8d-480e-bb9a-24fefa485aef' class='xr-index-data-in' type='checkbox'/><label for='index-3a5a2627-7e8d-480e-bb9a-24fefa485aef' title='Show/Hide index repr'><svg class='icon xr-icon-database'><use xlink:href='#icon-database'></use></svg></label><div class='xr-index-data'><pre>PandasIndex(DatetimeIndex([&#x27;1986-01-01&#x27;, &#x27;1987-01-01&#x27;, &#x27;1988-01-01&#x27;, &#x27;1989-01-01&#x27;,\n",
       "               &#x27;1990-01-01&#x27;, &#x27;1991-01-01&#x27;, &#x27;1992-01-01&#x27;, &#x27;1993-01-01&#x27;,\n",
       "               &#x27;1994-01-01&#x27;, &#x27;1995-01-01&#x27;, &#x27;1996-01-01&#x27;, &#x27;1997-01-01&#x27;,\n",
       "               &#x27;1998-01-01&#x27;, &#x27;1999-01-01&#x27;, &#x27;2000-01-01&#x27;, &#x27;2001-01-01&#x27;,\n",
       "               &#x27;2002-01-01&#x27;, &#x27;2003-01-01&#x27;, &#x27;2004-01-01&#x27;, &#x27;2005-01-01&#x27;,\n",
       "               &#x27;2006-01-01&#x27;, &#x27;2007-01-01&#x27;, &#x27;2008-01-01&#x27;, &#x27;2009-01-01&#x27;,\n",
       "               &#x27;2010-01-01&#x27;, &#x27;2011-01-01&#x27;, &#x27;2012-01-01&#x27;, &#x27;2013-01-01&#x27;,\n",
       "               &#x27;2014-01-01&#x27;, &#x27;2015-01-01&#x27;, &#x27;2016-01-01&#x27;, &#x27;2017-01-01&#x27;,\n",
       "               &#x27;2018-01-01&#x27;, &#x27;2019-01-01&#x27;, &#x27;2020-01-01&#x27;, &#x27;2021-01-01&#x27;,\n",
       "               &#x27;2022-01-01&#x27;, &#x27;2023-01-01&#x27;, &#x27;2024-01-01&#x27;, &#x27;2025-01-01&#x27;,\n",
       "               &#x27;2026-01-01&#x27;, &#x27;2027-01-01&#x27;, &#x27;2028-01-01&#x27;, &#x27;2029-01-01&#x27;,\n",
       "               &#x27;2030-01-01&#x27;, &#x27;2031-01-01&#x27;, &#x27;2032-01-01&#x27;, &#x27;2033-01-01&#x27;,\n",
       "               &#x27;2034-01-01&#x27;, &#x27;2035-01-01&#x27;, &#x27;2036-01-01&#x27;, &#x27;2037-01-01&#x27;,\n",
       "               &#x27;2038-01-01&#x27;, &#x27;2039-01-01&#x27;, &#x27;2040-01-01&#x27;, &#x27;2041-01-01&#x27;,\n",
       "               &#x27;2042-01-01&#x27;, &#x27;2043-01-01&#x27;, &#x27;2044-01-01&#x27;, &#x27;2045-01-01&#x27;,\n",
       "               &#x27;2046-01-01&#x27;, &#x27;2047-01-01&#x27;, &#x27;2048-01-01&#x27;, &#x27;2049-01-01&#x27;,\n",
       "               &#x27;2050-01-01&#x27;, &#x27;2051-01-01&#x27;, &#x27;2052-01-01&#x27;, &#x27;2053-01-01&#x27;,\n",
       "               &#x27;2054-01-01&#x27;, &#x27;2055-01-01&#x27;, &#x27;2056-01-01&#x27;, &#x27;2057-01-01&#x27;,\n",
       "               &#x27;2058-01-01&#x27;, &#x27;2059-01-01&#x27;, &#x27;2060-01-01&#x27;, &#x27;2061-01-01&#x27;,\n",
       "               &#x27;2062-01-01&#x27;, &#x27;2063-01-01&#x27;, &#x27;2064-01-01&#x27;, &#x27;2065-01-01&#x27;,\n",
       "               &#x27;2066-01-01&#x27;, &#x27;2067-01-01&#x27;, &#x27;2068-01-01&#x27;, &#x27;2069-01-01&#x27;,\n",
       "               &#x27;2070-01-01&#x27;, &#x27;2071-01-01&#x27;, &#x27;2072-01-01&#x27;, &#x27;2073-01-01&#x27;,\n",
       "               &#x27;2074-01-01&#x27;, &#x27;2075-01-01&#x27;, &#x27;2076-01-01&#x27;, &#x27;2077-01-01&#x27;,\n",
       "               &#x27;2078-01-01&#x27;, &#x27;2079-01-01&#x27;, &#x27;2080-01-01&#x27;, &#x27;2081-01-01&#x27;,\n",
       "               &#x27;2082-01-01&#x27;, &#x27;2083-01-01&#x27;, &#x27;2084-01-01&#x27;, &#x27;2085-01-01&#x27;],\n",
       "              dtype=&#x27;datetime64[ns]&#x27;, name=&#x27;time&#x27;, freq=None))</pre></div></li></ul></div></li><li class='xr-section-item'><input id='section-5310773c-32cd-4214-ad80-fb43ae7b43ad' class='xr-section-summary-in' type='checkbox'  checked><label for='section-5310773c-32cd-4214-ad80-fb43ae7b43ad' class='xr-section-summary' >Attributes: <span>(9)</span></label><div class='xr-section-inline-details'></div><div class='xr-section-details'><dl class='xr-attrs'><dt><span>title :</span></dt><dd>Processed EURO-CORDEX future climate data for the health sector</dd><dt><span>conventions :</span></dt><dd>CF-1.6</dd><dt><span>project :</span></dt><dd>Copernicus Climate Change Service Sectoral Information System European Health</dd><dt><span>source :</span></dt><dd>Processing of bias-corrected EURO-CORDEX data by VITO</dd><dt><span>contact :</span></dt><dd>bd_rma@vito.be</dd><dt><span>creation_date :</span></dt><dd>Thu May  9 14:08:15 2019</dd><dt><span>institution :</span></dt><dd>VITO (https://vito.be/en)</dd><dt><span>history :</span></dt><dd>Mon Jul 15 13:48:58 2019: ncatted -O -a units,HWD_merged,o,c,day HWD_national_rcp85_mean_v1.0.nc</dd><dt><span>NCO :</span></dt><dd>netCDF Operators version 4.7.5 (Homepage = http://nco.sf.net, Code = http://github.com/nco/nco)</dd></dl></div></li></ul></div></div>"
      ],
      "text/plain": [
       "<xarray.Dataset> Size: 102MB\n",
       "Dimensions:      (lat: 425, lon: 599, time: 100)\n",
       "Coordinates:\n",
       "    height       float64 8B ...\n",
       "  * lat          (lat) float64 3kB 30.1 30.2 30.3 30.4 ... 72.2 72.3 72.4 72.5\n",
       "  * lon          (lon) float64 5kB -24.9 -24.8 -24.7 -24.6 ... 34.7 34.8 34.9\n",
       "  * time         (time) datetime64[ns] 800B 1986-01-01 1987-01-01 ... 2085-01-01\n",
       "    spatial_ref  int32 4B 0\n",
       "Data variables:\n",
       "    HWD_merged   (time, lat, lon) float32 102MB ...\n",
       "Attributes:\n",
       "    title:          Processed EURO-CORDEX future climate data for the health ...\n",
       "    conventions:    CF-1.6\n",
       "    project:        Copernicus Climate Change Service Sectoral Information Sy...\n",
       "    source:         Processing of bias-corrected EURO-CORDEX data by VITO\n",
       "    contact:        bd_rma@vito.be\n",
       "    creation_date:  Thu May  9 14:08:15 2019\n",
       "    institution:    VITO (https://vito.be/en)\n",
       "    history:        Mon Jul 15 13:48:58 2019: ncatted -O -a units,HWD_merged,...\n",
       "    NCO:            netCDF Operators version 4.7.5 (Homepage = http://nco.sf...."
      ]
     },
     "execution_count": 3,
     "metadata": {},
     "output_type": "execute_result"
    }
   ],
   "source": [
    "# This code loads a data form data dir and sets the CRS\n",
    "hwd45h = xr.open_dataset(f'{data_dir}/HWD_EU_health_rcp45_mean_v1.0.nc', decode_coords='all')\n",
    "hwd85h = xr.open_dataset(f'{data_dir}/HWD_EU_health_rcp85_mean_v1.0.nc', decode_coords='all')\n",
    "hwd45n = xr.open_dataset(f'{data_dir}/HWD_national_rcp45_mean_v1.0.nc', decode_coords='all')\n",
    "hwd85n = xr.open_dataset(f'{data_dir}/HWD_national_rcp85_mean_v1.0.nc', decode_coords='all')\n",
    "hwd45h.rio.write_crs(\"epsg:4326\", inplace=True)\n",
    "hwd85h.rio.write_crs(\"epsg:4326\", inplace=True)\n",
    "hwd45n.rio.write_crs(\"epsg:4326\", inplace=True)\n",
    "hwd85n.rio.write_crs(\"epsg:4326\", inplace=True)"
   ]
  },
  {
   "cell_type": "code",
   "execution_count": 4,
   "id": "9820279e-614e-4b05-930e-bbbd9ec22304",
   "metadata": {},
   "outputs": [],
   "source": [
    "# This code selects a variable for plotting\n",
    "hwd45h=hwd45h['HWD_EU_health']\n",
    "hwd85h=hwd85h['HWD_EU_health']\n",
    "hwd45n=hwd45n['HWD_merged']\n",
    "hwd85n=hwd85n['HWD_merged']"
   ]
  },
  {
   "cell_type": "code",
   "execution_count": 5,
   "id": "bdbf7d88-19b2-42fb-95cf-9ba70f88d642",
   "metadata": {},
   "outputs": [],
   "source": [
    "hwd45health= hwd45h.mean(dim='time', skipna=True, keep_attrs=True)\n",
    "hwd45health.rio.to_raster(raster_path=f'{data_dir}/hwd45_health_mean.tif')\n",
    "hwd45h.rio.to_raster(raster_path=f'{data_dir}/hwd45_health.tif')\n",
    "#\n",
    "hwd85health= hwd85h.mean(dim='time', skipna=True, keep_attrs=True)\n",
    "hwd85health.rio.to_raster(raster_path=f'{data_dir}/hwd85_health_mean.tif')\n",
    "hwd85h.rio.to_raster(raster_path=f'{data_dir}/hwd85_health.tif')\n",
    "#\n",
    "hwd45national= hwd45n.mean(dim='time', skipna=True, keep_attrs=True)\n",
    "hwd45national.rio.to_raster(raster_path=f'{data_dir}/hwd45_national_mean.tif')\n",
    "hwd45n.rio.to_raster(raster_path=f'{data_dir}/hwd45_national.tif')\n",
    "#\n",
    "hwd85national= hwd85n.mean(dim='time', skipna=True, keep_attrs=True)\n",
    "hwd85national.rio.to_raster(raster_path=f'{data_dir}/hwd85_national_mean.tif')\n",
    "hwd85n.rio.to_raster(raster_path=f'{data_dir}/hwd85_national.tif')"
   ]
  },
  {
   "cell_type": "markdown",
   "id": "43971f9f-41c8-4497-8d1f-df2480d508eb",
   "metadata": {},
   "source": [
    "### 3.3 Select a pixel for plotting"
   ]
  },
  {
   "cell_type": "code",
   "execution_count": 4,
   "id": "fb428994-f0d5-44cd-b4e5-781a31671fa2",
   "metadata": {},
   "outputs": [
    {
     "data": {
      "application/vnd.jupyter.widget-view+json": {
       "model_id": "5bc79084d4b746f3bd103707018b87cd",
       "version_major": 2,
       "version_minor": 0
      },
      "text/plain": [
       "VBox(children=(Map(center=[51.3, 5.0000000000000036], controls=(ZoomControl(options=['position', 'zoom_in_text…"
      ]
     },
     "metadata": {},
     "output_type": "display_data"
    }
   ],
   "source": [
    "# This code plots the map where we need to select the point for the plot of the graphs for computed indices\n",
    "# First, create a tile server from local raster file\n",
    "client1 = TileClient(f'{data_dir}/hwd45_health_mean.tif')\n",
    "client2 = TileClient(f'{data_dir}/hwd45_national_mean.tif')\n",
    "client3 = TileClient(f'{data_dir}/hwd85_health_mean.tif')\n",
    "client4 = TileClient(f'{data_dir}/hwd85_national_mean.tif')\n",
    "# Create ipyleaflet tile layer from that server\n",
    "t1 = get_leaflet_tile_layer(client1, cmap='Reds', opacity=0.5, nodata=0, name='Heat-wave health rcp 4.5')\n",
    "t2 = get_leaflet_tile_layer(client2, cmap='Reds', opacity=0.5, nodata=0, name='Heat-wave national rcp 4.5')\n",
    "t3 = get_leaflet_tile_layer(client3, cmap='Reds', opacity=0.5, nodata=0, name='Heat-wave health rcp 8.5')\n",
    "t4 = get_leaflet_tile_layer(client4, cmap='Reds', opacity=0.5, nodata=0, name='Heat-wave national rcp 8.5')\n",
    "#m = Map(center=client1.center(), zoom=client1.default_zoom)\n",
    "m = Map(center=client1.center(), zoom=client1.default_zoom)\n",
    "m = Map(center=client2.center(), zoom=client2.default_zoom)\n",
    "m = Map(center=client3.center(), zoom=client1.default_zoom)\n",
    "m = Map(center=client4.center(), zoom=client2.default_zoom)\n",
    "m.add(t1)\n",
    "m.add(t2)\n",
    "m.add(t3)\n",
    "m.add(t4)\n",
    "control = LayersControl(position='topright')\n",
    "m.add_control(control)\n",
    "# Create lists to store point coordinates\n",
    "point_lon_list = []\n",
    "point_lat_list = []\n",
    "# Create a DrawControl with point drawing enabled\n",
    "draw_control = DrawControl(marker={'shapeOptions': {'color': '#FF0000'}})\n",
    "# Add the DrawControl to the map\n",
    "m.add_control(draw_control)\n",
    "# Create a text widget to display coordinates\n",
    "coord_output = widgets.Text(placeholder='Coordinates will appear here', disabled=True)\n",
    "# Define a function to handle draw events\n",
    "def handle_draw(self, action, geo_json):\n",
    "    if action == 'created':\n",
    "        if geo_json['geometry']['type'] == 'Point':\n",
    "            # Extract coordinates of the point\n",
    "            lon, lat = geo_json['geometry']['coordinates']\n",
    "            # Update text widget with coordinates\n",
    "            coord_output.value = f'Coordinates: ({lon:.2f}, {lat:.2f})'\n",
    "            # Append coordinates to lists\n",
    "            point_lon_list.append(lon)\n",
    "            point_lat_list.append(lat)\n",
    "            # Create and add a marker to the map\n",
    "            marker = Marker(location=(lat, lon))\n",
    "            #m.add_layer(marker)\n",
    "# Attach the event handler to the DrawControl\n",
    "draw_control.on_draw(handle_draw)\n",
    "# Arrange the map and text widget vertically\n",
    "display(widgets.VBox([m, coord_output]))"
   ]
  },
  {
   "cell_type": "markdown",
   "id": "8a8dc919-6f8d-48e1-9a3a-70545ac6f035",
   "metadata": {},
   "source": [
    "\n",
    "- **Select the map with the top right panel.**\n",
    "- **Zoom with [+]/[-] to your area**\n",
    "- **Select a pixel for plotting the values, with \"Draw a marker\" from the left panel**\n",
    "- On the map above you can see the mean values of the heat-wave occurrence for the years 1986-2085 for the **rcp 4.5 and 8.5** based on the **health and national related** data.\n",
    "- The total number of heat occurrences for this map is not important, important is to see which areas can be most influenced by the heat. "
   ]
  },
  {
   "cell_type": "code",
   "execution_count": 10,
   "id": "aaa0e336-57ea-4c0a-97c2-e181c7751e5c",
   "metadata": {},
   "outputs": [],
   "source": [
    "# This code extracts the data values for the selected pixel\n",
    "hwd45h = xr.open_dataset(f'{data_dir}/hwd45_health.tif')\n",
    "hwd85h = xr.open_dataset(f'{data_dir}/hwd85_health.tif')\n",
    "hwd45n = xr.open_dataset(f'{data_dir}/hwd45_national.tif')\n",
    "hwd85n = xr.open_dataset(f'{data_dir}/hwd85_national.tif')\n",
    "lat = point_lat_list[0] \n",
    "lon = point_lon_list[0]\n",
    "extracted_data1 = hwd45h.sel(y=lat, x=lon, method='nearest')\n",
    "extracted_data2 = hwd85h.sel(y=lat, x=lon, method='nearest')\n",
    "extracted_data3 = hwd45n.sel(y=lat, x=lon, method='nearest')\n",
    "extracted_data4 = hwd85n.sel(y=lat, x=lon, method='nearest')\n",
    "d1=extracted_data1['band_data']\n",
    "hwd45h = d1.values.tolist()\n",
    "d2=extracted_data2['band_data']\n",
    "hwd85h = d2.values.tolist()\n",
    "d3=extracted_data3['band_data']\n",
    "hwd45n = d3.values.tolist()\n",
    "d4=extracted_data4['band_data']\n",
    "hwd85n = d4.values.tolist()"
   ]
  },
  {
   "cell_type": "markdown",
   "id": "0795af7c-b3bf-4a4e-bee7-69fdda65fd52",
   "metadata": {},
   "source": [
    "### 3.4 Plots results for EuroHeat for selected pixel"
   ]
  },
  {
   "cell_type": "markdown",
   "id": "d30b308a-b511-40ec-81e3-6f1db97ec1dd",
   "metadata": {},
   "source": [
    "#### 3.4.1 Plots results for health-related data"
   ]
  },
  {
   "cell_type": "code",
   "execution_count": 12,
   "id": "2d2fbc4b-a782-43ba-915f-637393fe28ad",
   "metadata": {},
   "outputs": [
    {
     "data": {
      "application/vnd.plotly.v1+json": {
       "config": {
        "plotlyServerURL": "https://plot.ly"
       },
       "data": [
        {
         "marker": {
          "color": "blue"
         },
         "name": "RCP 4.5",
         "type": "bar",
         "x": [
          1986,
          1987,
          1988,
          1989,
          1990,
          1991,
          1992,
          1993,
          1994,
          1995,
          1996,
          1997,
          1998,
          1999,
          2000,
          2001,
          2002,
          2003,
          2004,
          2005,
          2006,
          2007,
          2008,
          2009,
          2010,
          2011,
          2012,
          2013,
          2014,
          2015,
          2016,
          2017,
          2018,
          2019,
          2020,
          2021,
          2022,
          2023,
          2024,
          2025,
          2026,
          2027,
          2028,
          2029,
          2030,
          2031,
          2032,
          2033,
          2034,
          2035,
          2036,
          2037,
          2038,
          2039,
          2040,
          2041,
          2042,
          2043,
          2044,
          2045,
          2046,
          2047,
          2048,
          2049,
          2050,
          2051,
          2052,
          2053,
          2054,
          2055,
          2056,
          2057,
          2058,
          2059,
          2060,
          2061,
          2062,
          2063,
          2064,
          2065,
          2066,
          2067,
          2068,
          2069,
          2070,
          2071,
          2072,
          2073,
          2074,
          2075,
          2076,
          2077,
          2078,
          2079,
          2080,
          2081,
          2082,
          2083,
          2084,
          2085
         ],
         "y": [
          3.3640294075012207,
          3.5502026081085205,
          3.6390514373779297,
          3.5445780754089355,
          3.651085615158081,
          3.8474559783935547,
          3.991057872772217,
          4.121419429779053,
          4.094544887542725,
          4.149128437042236,
          4.264863014221191,
          4.483415603637695,
          4.702900409698486,
          4.716760158538818,
          4.802911281585693,
          4.976897239685059,
          5.237977027893066,
          5.339874267578125,
          5.648218631744385,
          5.724161624908447,
          5.733438014984131,
          5.829665660858154,
          5.970389366149902,
          6.015806198120117,
          6.125976085662842,
          6.513882160186768,
          6.7897539138793945,
          7.181371212005615,
          7.375664234161377,
          7.577512264251709,
          7.675588130950928,
          7.858850002288818,
          7.749634265899658,
          8.025506019592285,
          8.240346908569336,
          8.120840072631836,
          8.3596773147583,
          8.40787410736084,
          8.750603675842285,
          9.311924934387207,
          9.46842098236084,
          9.728689193725586,
          9.779682159423828,
          9.926063537597656,
          10.074199676513672,
          10.392681121826172,
          10.600932121276855,
          11.176875114440918,
          11.308283805847168,
          11.464754104614258,
          12.142631530761719,
          12.352017402648926,
          12.734407424926758,
          13.078843116760254,
          13.492741584777832,
          13.787225723266602,
          14.319686889648438,
          14.276266098022461,
          14.438420295715332,
          14.872735023498535,
          15.313496589660645,
          15.425530433654785,
          15.781989097595215,
          16.24046516418457,
          16.47178077697754,
          16.805997848510742,
          17.08563995361328,
          17.559839248657227,
          17.54775619506836,
          17.205015182495117,
          17.23729705810547,
          17.168622970581055,
          17.282522201538086,
          17.36383819580078,
          17.902734756469727,
          17.856555938720703,
          17.94373321533203,
          17.917850494384766,
          17.910547256469727,
          18.25319480895996,
          18.398326873779297,
          18.922224044799805,
          18.604616165161133,
          18.567581176757812,
          18.767520904541016,
          18.333375930786133,
          18.449182510375977,
          18.779674530029297,
          18.807554244995117,
          18.79935073852539,
          18.617033004760742,
          18.55316162109375,
          18.505037307739258,
          18.456899642944336,
          18.531993865966797,
          18.923709869384766,
          18.987546920776367,
          19.099498748779297,
          19.55593490600586,
          19.582843780517578
         ]
        },
        {
         "marker": {
          "color": "red"
         },
         "name": "RCP 8.5",
         "opacity": 0.5,
         "type": "bar",
         "x": [
          1986,
          1987,
          1988,
          1989,
          1990,
          1991,
          1992,
          1993,
          1994,
          1995,
          1996,
          1997,
          1998,
          1999,
          2000,
          2001,
          2002,
          2003,
          2004,
          2005,
          2006,
          2007,
          2008,
          2009,
          2010,
          2011,
          2012,
          2013,
          2014,
          2015,
          2016,
          2017,
          2018,
          2019,
          2020,
          2021,
          2022,
          2023,
          2024,
          2025,
          2026,
          2027,
          2028,
          2029,
          2030,
          2031,
          2032,
          2033,
          2034,
          2035,
          2036,
          2037,
          2038,
          2039,
          2040,
          2041,
          2042,
          2043,
          2044,
          2045,
          2046,
          2047,
          2048,
          2049,
          2050,
          2051,
          2052,
          2053,
          2054,
          2055,
          2056,
          2057,
          2058,
          2059,
          2060,
          2061,
          2062,
          2063,
          2064,
          2065,
          2066,
          2067,
          2068,
          2069,
          2070,
          2071,
          2072,
          2073,
          2074,
          2075,
          2076,
          2077,
          2078,
          2079,
          2080,
          2081,
          2082,
          2083,
          2084,
          2085
         ],
         "y": [
          3.3640294075012207,
          3.5502026081085205,
          3.6390514373779297,
          3.5445780754089355,
          3.651085615158081,
          3.8474559783935547,
          3.9844789505004883,
          3.874248743057251,
          4.140915393829346,
          4.108573913574219,
          4.298403739929199,
          4.451292991638184,
          4.465262413024902,
          4.481879711151123,
          4.6624555587768555,
          5.117970943450928,
          5.265295505523682,
          5.502400875091553,
          5.7384538650512695,
          6.056014060974121,
          6.306074619293213,
          6.492297172546387,
          6.690460205078125,
          6.839468002319336,
          7.046809196472168,
          7.303267478942871,
          7.599446773529053,
          7.806776523590088,
          8.025269508361816,
          8.253026962280273,
          8.135356903076172,
          8.240850448608398,
          8.437100410461426,
          8.710286140441895,
          9.0159330368042,
          9.228849411010742,
          9.455735206604004,
          9.801925659179688,
          9.62779712677002,
          9.924025535583496,
          10.047161102294922,
          10.214677810668945,
          10.724825859069824,
          11.204326629638672,
          11.644156455993652,
          11.601716041564941,
          12.142335891723633,
          12.293376922607422,
          12.366660118103027,
          12.589022636413574,
          12.79001522064209,
          13.407591819763184,
          13.87146282196045,
          14.374378204345703,
          14.667048454284668,
          15.549378395080566,
          16.215112686157227,
          16.75502586364746,
          16.838407516479492,
          17.218101501464844,
          17.813528060913086,
          18.32472801208496,
          18.681236267089844,
          19.168270111083984,
          19.565475463867188,
          19.854290008544922,
          20.117326736450195,
          20.32213020324707,
          21.529640197753906,
          22.104650497436523,
          22.99803352355957,
          23.65079116821289,
          23.94342803955078,
          23.961050033569336,
          24.37866973876953,
          25.205352783203125,
          25.71000862121582,
          26.703271865844727,
          27.618013381958008,
          28.507673263549805,
          29.028841018676758,
          29.37974739074707,
          29.699138641357422,
          30.530536651611328,
          31.332433700561523,
          31.345508575439453,
          31.71040916442871,
          32.22795867919922,
          33.0677604675293,
          34.114070892333984,
          35.23335266113281,
          35.94993209838867,
          36.402740478515625,
          37.30634689331055,
          37.98219680786133,
          38.91654586791992,
          40.0054817199707,
          40.73124313354492,
          41.00895309448242,
          41.69697952270508
         ]
        },
        {
         "line": {
          "color": "blue"
         },
         "mode": "lines",
         "name": "RCP 4.5 trend",
         "type": "scatter",
         "x": [
          1986,
          1987,
          1988,
          1989,
          1990,
          1991,
          1992,
          1993,
          1994,
          1995,
          1996,
          1997,
          1998,
          1999,
          2000,
          2001,
          2002,
          2003,
          2004,
          2005,
          2006,
          2007,
          2008,
          2009,
          2010,
          2011,
          2012,
          2013,
          2014,
          2015,
          2016,
          2017,
          2018,
          2019,
          2020,
          2021,
          2022,
          2023,
          2024,
          2025,
          2026,
          2027,
          2028,
          2029,
          2030,
          2031,
          2032,
          2033,
          2034,
          2035,
          2036,
          2037,
          2038,
          2039,
          2040,
          2041,
          2042,
          2043,
          2044,
          2045,
          2046,
          2047,
          2048,
          2049,
          2050,
          2051,
          2052,
          2053,
          2054,
          2055,
          2056,
          2057,
          2058,
          2059,
          2060,
          2061,
          2062,
          2063,
          2064,
          2065,
          2066,
          2067,
          2068,
          2069,
          2070,
          2071,
          2072,
          2073,
          2074,
          2075,
          2076,
          2077,
          2078,
          2079,
          2080,
          2081,
          2082,
          2083,
          2084,
          2085
         ],
         "y": [
          1.8180468499195306,
          2.0488565657737623,
          2.278850481319787,
          2.508028596557604,
          2.736390911487214,
          2.9639374261086164,
          3.1906681404218116,
          3.416583054426799,
          3.6416821681235794,
          3.8659654815121525,
          4.089432994592518,
          4.312084707364676,
          4.533920619828627,
          4.754940731984371,
          4.9751450438319065,
          5.194533555371236,
          5.413106266602357,
          5.630863177525271,
          5.847804288139978,
          6.063929598446478,
          6.279239108444768,
          6.493732818134854,
          6.707410727516731,
          6.920272836590401,
          7.132319145355863,
          7.343549653813119,
          7.5539643619621675,
          7.763563269803008,
          7.97234637733564,
          8.180313684560065,
          8.387465191476284,
          8.593800898084295,
          8.799320804384099,
          9.004024910375696,
          9.207913216059085,
          9.410985721434265,
          9.61324242650124,
          9.814683331260007,
          10.015308435710567,
          10.215117739852918,
          10.414111243687064,
          10.612288947213,
          10.80965085043073,
          11.006196953340254,
          11.20192725594157,
          11.396841758234677,
          11.590940460219578,
          11.78422336189627,
          11.976690463264758,
          12.168341764325035,
          12.359177265077108,
          12.54919696552097,
          12.738400865656626,
          12.926788965484077,
          13.114361265003318,
          13.301117764214352,
          13.48705846311718,
          13.672183361711799,
          13.85649245999821,
          14.039985757976416,
          14.222663255646413,
          14.404524953008204,
          14.585570850061787,
          14.765800946807161,
          14.94521524324433,
          15.12381373937329,
          15.301596435194043,
          15.47856333070659,
          15.654714425910928,
          15.83004972080706,
          16.004569215394984,
          16.1782729096747,
          16.35116080364621,
          16.523232897309512,
          16.694489190664605,
          16.864929683711495,
          17.03455437645017,
          17.203363268880647,
          17.37135636100291,
          17.538533652816966,
          17.704895144322816,
          17.87044083552046,
          18.035170726409895,
          18.199084816991125,
          18.362183107264144,
          18.524465597228957,
          18.685932286885564,
          18.846583176233963,
          19.006418265274156,
          19.16543755400614,
          19.323641042429916,
          19.481028730545482,
          19.637600618352845,
          19.793356705852002,
          19.94829699304295,
          20.102421479925688,
          20.255730166500218,
          20.408223052766548,
          20.559900138724664,
          20.710761424374574
         ]
        },
        {
         "line": {
          "color": "red"
         },
         "mode": "lines",
         "name": "RCP 8.5 trend",
         "type": "scatter",
         "x": [
          1986,
          1987,
          1988,
          1989,
          1990,
          1991,
          1992,
          1993,
          1994,
          1995,
          1996,
          1997,
          1998,
          1999,
          2000,
          2001,
          2002,
          2003,
          2004,
          2005,
          2006,
          2007,
          2008,
          2009,
          2010,
          2011,
          2012,
          2013,
          2014,
          2015,
          2016,
          2017,
          2018,
          2019,
          2020,
          2021,
          2022,
          2023,
          2024,
          2025,
          2026,
          2027,
          2028,
          2029,
          2030,
          2031,
          2032,
          2033,
          2034,
          2035,
          2036,
          2037,
          2038,
          2039,
          2040,
          2041,
          2042,
          2043,
          2044,
          2045,
          2046,
          2047,
          2048,
          2049,
          2050,
          2051,
          2052,
          2053,
          2054,
          2055,
          2056,
          2057,
          2058,
          2059,
          2060,
          2061,
          2062,
          2063,
          2064,
          2065,
          2066,
          2067,
          2068,
          2069,
          2070,
          2071,
          2072,
          2073,
          2074,
          2075,
          2076,
          2077,
          2078,
          2079,
          2080,
          2081,
          2082,
          2083,
          2084,
          2085
         ],
         "y": [
          4.110847155500717,
          4.116303201905266,
          4.1293469736545605,
          4.149978470748601,
          4.178197693187387,
          4.21400464097092,
          4.257399314099199,
          4.308381712572222,
          4.366951836389992,
          4.433109685552509,
          4.506855260059771,
          4.588188559911778,
          4.677109585108532,
          4.773618335650031,
          4.877714811536277,
          4.989399012767269,
          5.108670939343006,
          5.2355305912634895,
          5.369977968528719,
          5.512013071138694,
          5.661635899093414,
          5.818846452392881,
          5.983644731037094,
          6.156030735026053,
          6.336004464359757,
          6.523565919038207,
          6.718715099061404,
          6.921452004429346,
          7.131776635142034,
          7.349688991199468,
          7.575189072601649,
          7.808276879348575,
          8.048952411440247,
          8.297215668876664,
          8.553066651657826,
          8.816505359783736,
          9.087531793254392,
          9.366145952069793,
          9.652347836229941,
          9.946137445734834,
          10.247514780584474,
          10.556479840778858,
          10.873032626317988,
          11.197173137201865,
          11.528901373430488,
          11.868217335003855,
          12.21512102192197,
          12.56961243418483,
          12.931691571792438,
          13.301358434744788,
          13.678613023041887,
          14.063455336683731,
          14.45588537567032,
          14.855903140001658,
          15.263508629677741,
          15.678701844698566,
          16.10148278506414,
          16.531851450774457,
          16.969807841829525,
          17.415351958229337,
          17.86848379997389,
          18.329203367063194,
          18.797510659497245,
          19.27340567727604,
          19.75688842039958,
          20.247958888867867,
          20.7466170826809,
          21.252863001838676,
          21.7666966463412,
          22.28811801618847,
          22.81712711138049,
          23.353723931917248,
          23.897908477798758,
          24.449680749025013,
          25.00904074559601,
          25.575988467511756,
          26.15052391477225,
          26.732647087377483,
          27.32235798532747,
          27.919656608622198,
          28.524542957261673,
          29.137017031245897,
          29.75707883057486,
          30.384728355248573,
          31.01996560526703,
          31.662790580630237,
          32.31320328133819,
          32.97120370739088,
          33.63679185878832,
          34.30996773553051,
          34.99073133761745,
          35.67908266504913,
          36.375021717825554,
          37.07854849594672,
          37.78966299941264,
          38.508365228223305,
          39.23465518237871,
          39.96853286187887,
          40.709998266723765,
          41.45905139691342
         ]
        },
        {
         "fill": "toself",
         "fillcolor": "rgba(0,0,255,0.2)",
         "hoverinfo": "skip",
         "line": {
          "color": "rgba(255,255,255,0)"
         },
         "showlegend": false,
         "type": "scatter",
         "x": [
          1986,
          1987,
          1988,
          1989,
          1990,
          1991,
          1992,
          1993,
          1994,
          1995,
          1996,
          1997,
          1998,
          1999,
          2000,
          2001,
          2002,
          2003,
          2004,
          2005,
          2006,
          2007,
          2008,
          2009,
          2010,
          2011,
          2012,
          2013,
          2014,
          2015,
          2016,
          2017,
          2018,
          2019,
          2020,
          2021,
          2022,
          2023,
          2024,
          2025,
          2026,
          2027,
          2028,
          2029,
          2030,
          2031,
          2032,
          2033,
          2034,
          2035,
          2036,
          2037,
          2038,
          2039,
          2040,
          2041,
          2042,
          2043,
          2044,
          2045,
          2046,
          2047,
          2048,
          2049,
          2050,
          2051,
          2052,
          2053,
          2054,
          2055,
          2056,
          2057,
          2058,
          2059,
          2060,
          2061,
          2062,
          2063,
          2064,
          2065,
          2066,
          2067,
          2068,
          2069,
          2070,
          2071,
          2072,
          2073,
          2074,
          2075,
          2076,
          2077,
          2078,
          2079,
          2080,
          2081,
          2082,
          2083,
          2084,
          2085,
          2085,
          2084,
          2083,
          2082,
          2081,
          2080,
          2079,
          2078,
          2077,
          2076,
          2075,
          2074,
          2073,
          2072,
          2071,
          2070,
          2069,
          2068,
          2067,
          2066,
          2065,
          2064,
          2063,
          2062,
          2061,
          2060,
          2059,
          2058,
          2057,
          2056,
          2055,
          2054,
          2053,
          2052,
          2051,
          2050,
          2049,
          2048,
          2047,
          2046,
          2045,
          2044,
          2043,
          2042,
          2041,
          2040,
          2039,
          2038,
          2037,
          2036,
          2035,
          2034,
          2033,
          2032,
          2031,
          2030,
          2029,
          2028,
          2027,
          2026,
          2025,
          2024,
          2023,
          2022,
          2021,
          2020,
          2019,
          2018,
          2017,
          2016,
          2015,
          2014,
          2013,
          2012,
          2011,
          2010,
          2009,
          2008,
          2007,
          2006,
          2005,
          2004,
          2003,
          2002,
          2001,
          2000,
          1999,
          1998,
          1997,
          1996,
          1995,
          1994,
          1993,
          1992,
          1991,
          1990,
          1989,
          1988,
          1987,
          1986
         ],
         "y": [
          2.7548814270565587,
          2.9856911429107904,
          3.215685058456815,
          3.4448631736946322,
          3.673225488624242,
          3.9007720032456445,
          4.12750271755884,
          4.353417631563827,
          4.5785167452606075,
          4.802800058649181,
          5.026267571729546,
          5.248919284501704,
          5.470755196965655,
          5.691775309121399,
          5.911979620968935,
          6.131368132508264,
          6.349940843739385,
          6.567697754662299,
          6.784638865277006,
          7.000764175583506,
          7.216073685581796,
          7.430567395271882,
          7.644245304653759,
          7.857107413727429,
          8.069153722492892,
          8.280384230950148,
          8.490798939099196,
          8.700397846940037,
          8.909180954472669,
          9.117148261697094,
          9.324299768613313,
          9.530635475221324,
          9.736155381521128,
          9.940859487512725,
          10.144747793196114,
          10.347820298571294,
          10.550077003638268,
          10.751517908397036,
          10.952143012847596,
          11.151952316989947,
          11.350945820824093,
          11.54912352435003,
          11.746485427567759,
          11.943031530477283,
          12.138761833078599,
          12.333676335371706,
          12.527775037356607,
          12.7210579390333,
          12.913525040401787,
          13.105176341462064,
          13.296011842214137,
          13.486031542657999,
          13.675235442793655,
          13.863623542621106,
          14.051195842140347,
          14.23795234135138,
          14.423893040254208,
          14.609017938848828,
          14.793327037135239,
          14.976820335113445,
          15.159497832783442,
          15.341359530145233,
          15.522405427198816,
          15.70263552394419,
          15.88204982038136,
          16.060648316510317,
          16.23843101233107,
          16.41539790784362,
          16.591549003047955,
          16.766884297944088,
          16.94140379253201,
          17.115107486811727,
          17.287995380783236,
          17.46006747444654,
          17.631323767801632,
          17.801764260848522,
          17.971388953587198,
          18.140197846017674,
          18.308190938139937,
          18.475368229953993,
          18.641729721459843,
          18.807275412657486,
          18.972005303546922,
          19.135919394128152,
          19.29901768440117,
          19.461300174365984,
          19.62276686402259,
          19.78341775337099,
          19.943252842411184,
          20.102272131143167,
          20.260475619566943,
          20.41786330768251,
          20.574435195489873,
          20.73019128298903,
          20.885131570179976,
          21.039256057062715,
          21.192564743637245,
          21.345057629903575,
          21.49673471586169,
          21.6475960015116,
          19.773926847237547,
          19.623065561587637,
          19.47138847562952,
          19.31889558936319,
          19.16558690278866,
          19.01146241590592,
          18.856522128714975,
          18.700766041215818,
          18.544194153408455,
          18.38680646529289,
          18.228602976869112,
          18.06958368813713,
          17.909748599096936,
          17.749097709748536,
          17.58763102009193,
          17.425348530127117,
          17.262250239854097,
          17.098336149272868,
          16.93360625838343,
          16.76806056718579,
          16.60169907567994,
          16.434521783865883,
          16.26652869174362,
          16.097719799313143,
          15.928095106574466,
          15.757654613527576,
          15.586398320172483,
          15.41432622650918,
          15.24143833253767,
          15.067734638257955,
          14.89321514367003,
          14.717879848773899,
          14.541728753569561,
          14.364761858057014,
          14.18697916223626,
          14.008380666107302,
          13.828966369670132,
          13.648736272924758,
          13.467690375871175,
          13.285828678509384,
          13.103151180839387,
          12.91965788286118,
          12.73534878457477,
          12.55022388598015,
          12.364283187077323,
          12.177526687866289,
          11.989954388347048,
          11.801566288519597,
          11.612362388383941,
          11.422342687940079,
          11.231507187188006,
          11.039855886127729,
          10.847388784759241,
          10.654105883082549,
          10.460007181097648,
          10.26509267880454,
          10.069362376203225,
          9.8728162732937,
          9.675454370075972,
          9.477276666550035,
          9.278283162715889,
          9.078473858573538,
          8.877848754122978,
          8.67640784936421,
          8.474151144297236,
          8.271078638922056,
          8.067190333238667,
          7.862486227247071,
          7.656966320947267,
          7.450630614339256,
          7.243479107423037,
          7.035511800198612,
          6.82672869266598,
          6.617129784825139,
          6.4067150766760905,
          6.195484568218835,
          5.983438259453373,
          5.770576150379703,
          5.556898240997826,
          5.34240453130774,
          5.12709502130945,
          4.9109697110029495,
          4.6940286003882425,
          4.476271689465329,
          4.257698978234208,
          4.038310466694878,
          3.818106154847343,
          3.5970860426915987,
          3.3752501302276476,
          3.15259841745549,
          2.9291309043751244,
          2.7048475909865513,
          2.479748477289771,
          2.2538335632847835,
          2.0271028489715883,
          1.7995563343501857,
          1.571194019420576,
          1.3420159041827588,
          1.1120219886367342,
          0.8812122727825024
         ]
        },
        {
         "fill": "toself",
         "fillcolor": "rgba(255,0,0,0.2)",
         "hoverinfo": "skip",
         "line": {
          "color": "rgba(255,255,255,0)"
         },
         "showlegend": false,
         "type": "scatter",
         "x": [
          1986,
          1987,
          1988,
          1989,
          1990,
          1991,
          1992,
          1993,
          1994,
          1995,
          1996,
          1997,
          1998,
          1999,
          2000,
          2001,
          2002,
          2003,
          2004,
          2005,
          2006,
          2007,
          2008,
          2009,
          2010,
          2011,
          2012,
          2013,
          2014,
          2015,
          2016,
          2017,
          2018,
          2019,
          2020,
          2021,
          2022,
          2023,
          2024,
          2025,
          2026,
          2027,
          2028,
          2029,
          2030,
          2031,
          2032,
          2033,
          2034,
          2035,
          2036,
          2037,
          2038,
          2039,
          2040,
          2041,
          2042,
          2043,
          2044,
          2045,
          2046,
          2047,
          2048,
          2049,
          2050,
          2051,
          2052,
          2053,
          2054,
          2055,
          2056,
          2057,
          2058,
          2059,
          2060,
          2061,
          2062,
          2063,
          2064,
          2065,
          2066,
          2067,
          2068,
          2069,
          2070,
          2071,
          2072,
          2073,
          2074,
          2075,
          2076,
          2077,
          2078,
          2079,
          2080,
          2081,
          2082,
          2083,
          2084,
          2085,
          2085,
          2084,
          2083,
          2082,
          2081,
          2080,
          2079,
          2078,
          2077,
          2076,
          2075,
          2074,
          2073,
          2072,
          2071,
          2070,
          2069,
          2068,
          2067,
          2066,
          2065,
          2064,
          2063,
          2062,
          2061,
          2060,
          2059,
          2058,
          2057,
          2056,
          2055,
          2054,
          2053,
          2052,
          2051,
          2050,
          2049,
          2048,
          2047,
          2046,
          2045,
          2044,
          2043,
          2042,
          2041,
          2040,
          2039,
          2038,
          2037,
          2036,
          2035,
          2034,
          2033,
          2032,
          2031,
          2030,
          2029,
          2028,
          2027,
          2026,
          2025,
          2024,
          2023,
          2022,
          2021,
          2020,
          2019,
          2018,
          2017,
          2016,
          2015,
          2014,
          2013,
          2012,
          2011,
          2010,
          2009,
          2008,
          2007,
          2006,
          2005,
          2004,
          2003,
          2002,
          2001,
          2000,
          1999,
          1998,
          1997,
          1996,
          1995,
          1994,
          1993,
          1992,
          1991,
          1990,
          1989,
          1988,
          1987,
          1986
         ],
         "y": [
          4.567261927777129,
          4.572717974181678,
          4.585761745930973,
          4.606393243025013,
          4.6346124654638,
          4.670419413247332,
          4.713814086375611,
          4.764796484848635,
          4.823366608666404,
          4.889524457828921,
          4.963270032336183,
          5.04460333218819,
          5.133524357384944,
          5.2300331079264435,
          5.33412958381269,
          5.445813785043681,
          5.565085711619418,
          5.691945363539902,
          5.826392740805131,
          5.968427843415106,
          6.118050671369827,
          6.275261224669293,
          6.440059503313506,
          6.612445507302465,
          6.792419236636169,
          6.979980691314619,
          7.175129871337816,
          7.377866776705758,
          7.588191407418447,
          7.80610376347588,
          8.031603844878061,
          8.264691651624986,
          8.50536718371666,
          8.753630441153076,
          9.009481423934238,
          9.272920132060149,
          9.543946565530804,
          9.822560724346205,
          10.108762608506353,
          10.402552218011246,
          10.703929552860886,
          11.01289461305527,
          11.3294473985944,
          11.653587909478277,
          11.9853161457069,
          12.324632107280268,
          12.671535794198382,
          13.026027206461242,
          13.38810634406885,
          13.7577732070212,
          14.1350277953183,
          14.519870108960143,
          14.912300147946732,
          15.31231791227807,
          15.719923401954153,
          16.135116616974976,
          16.55789755734055,
          16.988266223050868,
          17.426222614105935,
          17.871766730505747,
          18.3248985722503,
          18.785618139339604,
          19.253925431773656,
          19.72982044955245,
          20.21330319267599,
          20.704373661144277,
          21.20303185495731,
          21.709277774115087,
          22.22311141861761,
          22.74453278846488,
          23.2735418836569,
          23.81013870419366,
          24.35432325007517,
          24.906095521301424,
          25.46545551787242,
          26.032403239788167,
          26.60693868704866,
          27.189061859653894,
          27.778772757603882,
          28.37607138089861,
          28.980957729538083,
          29.593431803522307,
          30.21349360285127,
          30.841143127524983,
          31.47638037754344,
          32.11920535290665,
          32.7696180536146,
          33.42761847966729,
          34.09320663106473,
          34.766382507806924,
          35.44714610989386,
          36.13549743732554,
          36.831436490101964,
          37.53496326822313,
          38.24607777168905,
          38.964780000499715,
          39.69106995465512,
          40.42494763415528,
          41.166413039000176,
          41.91546616918983,
          41.002636624637006,
          40.253583494447355,
          39.51211808960246,
          38.7782404101023,
          38.051950455946894,
          37.33324822713623,
          36.62213372367031,
          35.91860694554914,
          35.22266789277272,
          34.53431656534104,
          33.8535529632541,
          33.18037708651191,
          32.51478893511447,
          31.85678850906178,
          31.206375808353826,
          30.563550832990618,
          29.928313582972162,
          29.300664058298448,
          28.680602258969486,
          28.068128184985262,
          27.463241836345787,
          26.86594321305106,
          26.276232315101073,
          25.69410914249584,
          25.119573695235346,
          24.5526259733196,
          23.993265976748603,
          23.441493705522348,
          22.897309159640837,
          22.36071233910408,
          21.83170324391206,
          21.31028187406479,
          20.796448229562266,
          20.29020231040449,
          19.791544116591457,
          19.30047364812317,
          18.816990904999628,
          18.341095887220835,
          17.872788594786783,
          17.41206902769748,
          16.958937185952927,
          16.513393069553114,
          16.075436678498047,
          15.645068012787727,
          15.222287072422153,
          14.807093857401329,
          14.399488367725246,
          13.999470603393908,
          13.607040564407319,
          13.222198250765475,
          12.844943662468376,
          12.475276799516026,
          12.113197661908417,
          11.758706249645558,
          11.411802562727443,
          11.072486601154075,
          10.740758364925453,
          10.416617854041576,
          10.100065068502445,
          9.791100008308062,
          9.489722673458422,
          9.195933063953529,
          8.909731179793381,
          8.63111702097798,
          8.360090587507324,
          8.096651879381414,
          7.840800896600252,
          7.592537639163835,
          7.351862107072162,
          7.118774300325237,
          6.893274218923056,
          6.675361862865622,
          6.465037232152934,
          6.262300326784992,
          6.067151146761795,
          5.879589692083345,
          5.6996159627496406,
          5.527229958760682,
          5.362431680116469,
          5.205221126817002,
          5.055598298862281,
          4.913563196252307,
          4.779115818987077,
          4.652256167066594,
          4.5329842404908565,
          4.421300039259865,
          4.317203563373619,
          4.22069481283212,
          4.131773787635366,
          4.050440487783359,
          3.9766949132760967,
          3.91053706411358,
          3.85196694029581,
          3.8009845418227863,
          3.7575898686945077,
          3.721782920910975,
          3.6935636984721887,
          3.6729322013781482,
          3.659888429628854,
          3.6544323832243046
         ]
        }
       ],
       "layout": {
        "height": 500,
        "legend": {
         "orientation": "h",
         "traceorder": "normal",
         "x": 0,
         "y": 1
        },
        "template": {
         "data": {
          "bar": [
           {
            "error_x": {
             "color": "#2a3f5f"
            },
            "error_y": {
             "color": "#2a3f5f"
            },
            "marker": {
             "line": {
              "color": "#E5ECF6",
              "width": 0.5
             },
             "pattern": {
              "fillmode": "overlay",
              "size": 10,
              "solidity": 0.2
             }
            },
            "type": "bar"
           }
          ],
          "barpolar": [
           {
            "marker": {
             "line": {
              "color": "#E5ECF6",
              "width": 0.5
             },
             "pattern": {
              "fillmode": "overlay",
              "size": 10,
              "solidity": 0.2
             }
            },
            "type": "barpolar"
           }
          ],
          "carpet": [
           {
            "aaxis": {
             "endlinecolor": "#2a3f5f",
             "gridcolor": "white",
             "linecolor": "white",
             "minorgridcolor": "white",
             "startlinecolor": "#2a3f5f"
            },
            "baxis": {
             "endlinecolor": "#2a3f5f",
             "gridcolor": "white",
             "linecolor": "white",
             "minorgridcolor": "white",
             "startlinecolor": "#2a3f5f"
            },
            "type": "carpet"
           }
          ],
          "choropleth": [
           {
            "colorbar": {
             "outlinewidth": 0,
             "ticks": ""
            },
            "type": "choropleth"
           }
          ],
          "contour": [
           {
            "colorbar": {
             "outlinewidth": 0,
             "ticks": ""
            },
            "colorscale": [
             [
              0,
              "#0d0887"
             ],
             [
              0.1111111111111111,
              "#46039f"
             ],
             [
              0.2222222222222222,
              "#7201a8"
             ],
             [
              0.3333333333333333,
              "#9c179e"
             ],
             [
              0.4444444444444444,
              "#bd3786"
             ],
             [
              0.5555555555555556,
              "#d8576b"
             ],
             [
              0.6666666666666666,
              "#ed7953"
             ],
             [
              0.7777777777777778,
              "#fb9f3a"
             ],
             [
              0.8888888888888888,
              "#fdca26"
             ],
             [
              1,
              "#f0f921"
             ]
            ],
            "type": "contour"
           }
          ],
          "contourcarpet": [
           {
            "colorbar": {
             "outlinewidth": 0,
             "ticks": ""
            },
            "type": "contourcarpet"
           }
          ],
          "heatmap": [
           {
            "colorbar": {
             "outlinewidth": 0,
             "ticks": ""
            },
            "colorscale": [
             [
              0,
              "#0d0887"
             ],
             [
              0.1111111111111111,
              "#46039f"
             ],
             [
              0.2222222222222222,
              "#7201a8"
             ],
             [
              0.3333333333333333,
              "#9c179e"
             ],
             [
              0.4444444444444444,
              "#bd3786"
             ],
             [
              0.5555555555555556,
              "#d8576b"
             ],
             [
              0.6666666666666666,
              "#ed7953"
             ],
             [
              0.7777777777777778,
              "#fb9f3a"
             ],
             [
              0.8888888888888888,
              "#fdca26"
             ],
             [
              1,
              "#f0f921"
             ]
            ],
            "type": "heatmap"
           }
          ],
          "heatmapgl": [
           {
            "colorbar": {
             "outlinewidth": 0,
             "ticks": ""
            },
            "colorscale": [
             [
              0,
              "#0d0887"
             ],
             [
              0.1111111111111111,
              "#46039f"
             ],
             [
              0.2222222222222222,
              "#7201a8"
             ],
             [
              0.3333333333333333,
              "#9c179e"
             ],
             [
              0.4444444444444444,
              "#bd3786"
             ],
             [
              0.5555555555555556,
              "#d8576b"
             ],
             [
              0.6666666666666666,
              "#ed7953"
             ],
             [
              0.7777777777777778,
              "#fb9f3a"
             ],
             [
              0.8888888888888888,
              "#fdca26"
             ],
             [
              1,
              "#f0f921"
             ]
            ],
            "type": "heatmapgl"
           }
          ],
          "histogram": [
           {
            "marker": {
             "pattern": {
              "fillmode": "overlay",
              "size": 10,
              "solidity": 0.2
             }
            },
            "type": "histogram"
           }
          ],
          "histogram2d": [
           {
            "colorbar": {
             "outlinewidth": 0,
             "ticks": ""
            },
            "colorscale": [
             [
              0,
              "#0d0887"
             ],
             [
              0.1111111111111111,
              "#46039f"
             ],
             [
              0.2222222222222222,
              "#7201a8"
             ],
             [
              0.3333333333333333,
              "#9c179e"
             ],
             [
              0.4444444444444444,
              "#bd3786"
             ],
             [
              0.5555555555555556,
              "#d8576b"
             ],
             [
              0.6666666666666666,
              "#ed7953"
             ],
             [
              0.7777777777777778,
              "#fb9f3a"
             ],
             [
              0.8888888888888888,
              "#fdca26"
             ],
             [
              1,
              "#f0f921"
             ]
            ],
            "type": "histogram2d"
           }
          ],
          "histogram2dcontour": [
           {
            "colorbar": {
             "outlinewidth": 0,
             "ticks": ""
            },
            "colorscale": [
             [
              0,
              "#0d0887"
             ],
             [
              0.1111111111111111,
              "#46039f"
             ],
             [
              0.2222222222222222,
              "#7201a8"
             ],
             [
              0.3333333333333333,
              "#9c179e"
             ],
             [
              0.4444444444444444,
              "#bd3786"
             ],
             [
              0.5555555555555556,
              "#d8576b"
             ],
             [
              0.6666666666666666,
              "#ed7953"
             ],
             [
              0.7777777777777778,
              "#fb9f3a"
             ],
             [
              0.8888888888888888,
              "#fdca26"
             ],
             [
              1,
              "#f0f921"
             ]
            ],
            "type": "histogram2dcontour"
           }
          ],
          "mesh3d": [
           {
            "colorbar": {
             "outlinewidth": 0,
             "ticks": ""
            },
            "type": "mesh3d"
           }
          ],
          "parcoords": [
           {
            "line": {
             "colorbar": {
              "outlinewidth": 0,
              "ticks": ""
             }
            },
            "type": "parcoords"
           }
          ],
          "pie": [
           {
            "automargin": true,
            "type": "pie"
           }
          ],
          "scatter": [
           {
            "fillpattern": {
             "fillmode": "overlay",
             "size": 10,
             "solidity": 0.2
            },
            "type": "scatter"
           }
          ],
          "scatter3d": [
           {
            "line": {
             "colorbar": {
              "outlinewidth": 0,
              "ticks": ""
             }
            },
            "marker": {
             "colorbar": {
              "outlinewidth": 0,
              "ticks": ""
             }
            },
            "type": "scatter3d"
           }
          ],
          "scattercarpet": [
           {
            "marker": {
             "colorbar": {
              "outlinewidth": 0,
              "ticks": ""
             }
            },
            "type": "scattercarpet"
           }
          ],
          "scattergeo": [
           {
            "marker": {
             "colorbar": {
              "outlinewidth": 0,
              "ticks": ""
             }
            },
            "type": "scattergeo"
           }
          ],
          "scattergl": [
           {
            "marker": {
             "colorbar": {
              "outlinewidth": 0,
              "ticks": ""
             }
            },
            "type": "scattergl"
           }
          ],
          "scattermapbox": [
           {
            "marker": {
             "colorbar": {
              "outlinewidth": 0,
              "ticks": ""
             }
            },
            "type": "scattermapbox"
           }
          ],
          "scatterpolar": [
           {
            "marker": {
             "colorbar": {
              "outlinewidth": 0,
              "ticks": ""
             }
            },
            "type": "scatterpolar"
           }
          ],
          "scatterpolargl": [
           {
            "marker": {
             "colorbar": {
              "outlinewidth": 0,
              "ticks": ""
             }
            },
            "type": "scatterpolargl"
           }
          ],
          "scatterternary": [
           {
            "marker": {
             "colorbar": {
              "outlinewidth": 0,
              "ticks": ""
             }
            },
            "type": "scatterternary"
           }
          ],
          "surface": [
           {
            "colorbar": {
             "outlinewidth": 0,
             "ticks": ""
            },
            "colorscale": [
             [
              0,
              "#0d0887"
             ],
             [
              0.1111111111111111,
              "#46039f"
             ],
             [
              0.2222222222222222,
              "#7201a8"
             ],
             [
              0.3333333333333333,
              "#9c179e"
             ],
             [
              0.4444444444444444,
              "#bd3786"
             ],
             [
              0.5555555555555556,
              "#d8576b"
             ],
             [
              0.6666666666666666,
              "#ed7953"
             ],
             [
              0.7777777777777778,
              "#fb9f3a"
             ],
             [
              0.8888888888888888,
              "#fdca26"
             ],
             [
              1,
              "#f0f921"
             ]
            ],
            "type": "surface"
           }
          ],
          "table": [
           {
            "cells": {
             "fill": {
              "color": "#EBF0F8"
             },
             "line": {
              "color": "white"
             }
            },
            "header": {
             "fill": {
              "color": "#C8D4E3"
             },
             "line": {
              "color": "white"
             }
            },
            "type": "table"
           }
          ]
         },
         "layout": {
          "annotationdefaults": {
           "arrowcolor": "#2a3f5f",
           "arrowhead": 0,
           "arrowwidth": 1
          },
          "autotypenumbers": "strict",
          "coloraxis": {
           "colorbar": {
            "outlinewidth": 0,
            "ticks": ""
           }
          },
          "colorscale": {
           "diverging": [
            [
             0,
             "#8e0152"
            ],
            [
             0.1,
             "#c51b7d"
            ],
            [
             0.2,
             "#de77ae"
            ],
            [
             0.3,
             "#f1b6da"
            ],
            [
             0.4,
             "#fde0ef"
            ],
            [
             0.5,
             "#f7f7f7"
            ],
            [
             0.6,
             "#e6f5d0"
            ],
            [
             0.7,
             "#b8e186"
            ],
            [
             0.8,
             "#7fbc41"
            ],
            [
             0.9,
             "#4d9221"
            ],
            [
             1,
             "#276419"
            ]
           ],
           "sequential": [
            [
             0,
             "#0d0887"
            ],
            [
             0.1111111111111111,
             "#46039f"
            ],
            [
             0.2222222222222222,
             "#7201a8"
            ],
            [
             0.3333333333333333,
             "#9c179e"
            ],
            [
             0.4444444444444444,
             "#bd3786"
            ],
            [
             0.5555555555555556,
             "#d8576b"
            ],
            [
             0.6666666666666666,
             "#ed7953"
            ],
            [
             0.7777777777777778,
             "#fb9f3a"
            ],
            [
             0.8888888888888888,
             "#fdca26"
            ],
            [
             1,
             "#f0f921"
            ]
           ],
           "sequentialminus": [
            [
             0,
             "#0d0887"
            ],
            [
             0.1111111111111111,
             "#46039f"
            ],
            [
             0.2222222222222222,
             "#7201a8"
            ],
            [
             0.3333333333333333,
             "#9c179e"
            ],
            [
             0.4444444444444444,
             "#bd3786"
            ],
            [
             0.5555555555555556,
             "#d8576b"
            ],
            [
             0.6666666666666666,
             "#ed7953"
            ],
            [
             0.7777777777777778,
             "#fb9f3a"
            ],
            [
             0.8888888888888888,
             "#fdca26"
            ],
            [
             1,
             "#f0f921"
            ]
           ]
          },
          "colorway": [
           "#636efa",
           "#EF553B",
           "#00cc96",
           "#ab63fa",
           "#FFA15A",
           "#19d3f3",
           "#FF6692",
           "#B6E880",
           "#FF97FF",
           "#FECB52"
          ],
          "font": {
           "color": "#2a3f5f"
          },
          "geo": {
           "bgcolor": "white",
           "lakecolor": "white",
           "landcolor": "#E5ECF6",
           "showlakes": true,
           "showland": true,
           "subunitcolor": "white"
          },
          "hoverlabel": {
           "align": "left"
          },
          "hovermode": "closest",
          "mapbox": {
           "style": "light"
          },
          "paper_bgcolor": "white",
          "plot_bgcolor": "#E5ECF6",
          "polar": {
           "angularaxis": {
            "gridcolor": "white",
            "linecolor": "white",
            "ticks": ""
           },
           "bgcolor": "#E5ECF6",
           "radialaxis": {
            "gridcolor": "white",
            "linecolor": "white",
            "ticks": ""
           }
          },
          "scene": {
           "xaxis": {
            "backgroundcolor": "#E5ECF6",
            "gridcolor": "white",
            "gridwidth": 2,
            "linecolor": "white",
            "showbackground": true,
            "ticks": "",
            "zerolinecolor": "white"
           },
           "yaxis": {
            "backgroundcolor": "#E5ECF6",
            "gridcolor": "white",
            "gridwidth": 2,
            "linecolor": "white",
            "showbackground": true,
            "ticks": "",
            "zerolinecolor": "white"
           },
           "zaxis": {
            "backgroundcolor": "#E5ECF6",
            "gridcolor": "white",
            "gridwidth": 2,
            "linecolor": "white",
            "showbackground": true,
            "ticks": "",
            "zerolinecolor": "white"
           }
          },
          "shapedefaults": {
           "line": {
            "color": "#2a3f5f"
           }
          },
          "ternary": {
           "aaxis": {
            "gridcolor": "white",
            "linecolor": "white",
            "ticks": ""
           },
           "baxis": {
            "gridcolor": "white",
            "linecolor": "white",
            "ticks": ""
           },
           "bgcolor": "#E5ECF6",
           "caxis": {
            "gridcolor": "white",
            "linecolor": "white",
            "ticks": ""
           }
          },
          "title": {
           "x": 0.05
          },
          "xaxis": {
           "automargin": true,
           "gridcolor": "white",
           "linecolor": "white",
           "ticks": "",
           "title": {
            "standoff": 15
           },
           "zerolinecolor": "white",
           "zerolinewidth": 2
          },
          "yaxis": {
           "automargin": true,
           "gridcolor": "white",
           "linecolor": "white",
           "ticks": "",
           "title": {
            "standoff": 15
           },
           "zerolinecolor": "white",
           "zerolinewidth": 2
          }
         }
        },
        "title": {
         "text": "Heat wave occurrence in Selected pixel by year for the period 1986-2086 rcp4.5 and 8.5 [health related]"
        },
        "width": 1100,
        "xaxis": {
         "autorange": true,
         "range": [
          1985.5,
          2085.5
         ],
         "title": {
          "text": "Year"
         },
         "type": "linear"
        },
        "yaxis": {
         "autorange": true,
         "range": [
          -1.3984684992401264,
          44.19514694121246
         ],
         "title": {
          "text": "Number of Heat-waves"
         },
         "type": "linear"
        }
       }
      },
      "image/png": "[encoded data removed]",
      "text/html": [
       "<div>                            <div id=\"aad5f950-f871-4afd-8cf4-56a106787d2e\" class=\"plotly-graph-div\" style=\"height:500px; width:1100px;\"></div>            <script type=\"text/javascript\">                require([\"plotly\"], function(Plotly) {                    window.PLOTLYENV=window.PLOTLYENV || {};                                    if (document.getElementById(\"aad5f950-f871-4afd-8cf4-56a106787d2e\")) {                    Plotly.newPlot(                        \"aad5f950-f871-4afd-8cf4-56a106787d2e\",                        [{\"marker\":{\"color\":\"blue\"},\"name\":\"RCP 4.5\",\"x\":[1986,1987,1988,1989,1990,1991,1992,1993,1994,1995,1996,1997,1998,1999,2000,2001,2002,2003,2004,2005,2006,2007,2008,2009,2010,2011,2012,2013,2014,2015,2016,2017,2018,2019,2020,2021,2022,2023,2024,2025,2026,2027,2028,2029,2030,2031,2032,2033,2034,2035,2036,2037,2038,2039,2040,2041,2042,2043,2044,2045,2046,2047,2048,2049,2050,2051,2052,2053,2054,2055,2056,2057,2058,2059,2060,2061,2062,2063,2064,2065,2066,2067,2068,2069,2070,2071,2072,2073,2074,2075,2076,2077,2078,2079,2080,2081,2082,2083,2084,2085],\"y\":[3.3640294075012207,3.5502026081085205,3.6390514373779297,3.5445780754089355,3.651085615158081,3.8474559783935547,3.991057872772217,4.121419429779053,4.094544887542725,4.149128437042236,4.264863014221191,4.483415603637695,4.702900409698486,4.716760158538818,4.802911281585693,4.976897239685059,5.237977027893066,5.339874267578125,5.648218631744385,5.724161624908447,5.733438014984131,5.829665660858154,5.970389366149902,6.015806198120117,6.125976085662842,6.513882160186768,6.7897539138793945,7.181371212005615,7.375664234161377,7.577512264251709,7.675588130950928,7.858850002288818,7.749634265899658,8.025506019592285,8.240346908569336,8.120840072631836,8.3596773147583,8.40787410736084,8.750603675842285,9.311924934387207,9.46842098236084,9.728689193725586,9.779682159423828,9.926063537597656,10.074199676513672,10.392681121826172,10.600932121276855,11.176875114440918,11.308283805847168,11.464754104614258,12.142631530761719,12.352017402648926,12.734407424926758,13.078843116760254,13.492741584777832,13.787225723266602,14.319686889648438,14.276266098022461,14.438420295715332,14.872735023498535,15.313496589660645,15.425530433654785,15.781989097595215,16.24046516418457,16.47178077697754,16.805997848510742,17.08563995361328,17.559839248657227,17.54775619506836,17.205015182495117,17.23729705810547,17.168622970581055,17.282522201538086,17.36383819580078,17.902734756469727,17.856555938720703,17.94373321533203,17.917850494384766,17.910547256469727,18.25319480895996,18.398326873779297,18.922224044799805,18.604616165161133,18.567581176757812,18.767520904541016,18.333375930786133,18.449182510375977,18.779674530029297,18.807554244995117,18.79935073852539,18.617033004760742,18.55316162109375,18.505037307739258,18.456899642944336,18.531993865966797,18.923709869384766,18.987546920776367,19.099498748779297,19.55593490600586,19.582843780517578],\"type\":\"bar\"},{\"marker\":{\"color\":\"red\"},\"name\":\"RCP 8.5\",\"opacity\":0.5,\"x\":[1986,1987,1988,1989,1990,1991,1992,1993,1994,1995,1996,1997,1998,1999,2000,2001,2002,2003,2004,2005,2006,2007,2008,2009,2010,2011,2012,2013,2014,2015,2016,2017,2018,2019,2020,2021,2022,2023,2024,2025,2026,2027,2028,2029,2030,2031,2032,2033,2034,2035,2036,2037,2038,2039,2040,2041,2042,2043,2044,2045,2046,2047,2048,2049,2050,2051,2052,2053,2054,2055,2056,2057,2058,2059,2060,2061,2062,2063,2064,2065,2066,2067,2068,2069,2070,2071,2072,2073,2074,2075,2076,2077,2078,2079,2080,2081,2082,2083,2084,2085],\"y\":[3.3640294075012207,3.5502026081085205,3.6390514373779297,3.5445780754089355,3.651085615158081,3.8474559783935547,3.9844789505004883,3.874248743057251,4.140915393829346,4.108573913574219,4.298403739929199,4.451292991638184,4.465262413024902,4.481879711151123,4.6624555587768555,5.117970943450928,5.265295505523682,5.502400875091553,5.7384538650512695,6.056014060974121,6.306074619293213,6.492297172546387,6.690460205078125,6.839468002319336,7.046809196472168,7.303267478942871,7.599446773529053,7.806776523590088,8.025269508361816,8.253026962280273,8.135356903076172,8.240850448608398,8.437100410461426,8.710286140441895,9.0159330368042,9.228849411010742,9.455735206604004,9.801925659179688,9.62779712677002,9.924025535583496,10.047161102294922,10.214677810668945,10.724825859069824,11.204326629638672,11.644156455993652,11.601716041564941,12.142335891723633,12.293376922607422,12.366660118103027,12.589022636413574,12.79001522064209,13.407591819763184,13.87146282196045,14.374378204345703,14.667048454284668,15.549378395080566,16.215112686157227,16.75502586364746,16.838407516479492,17.218101501464844,17.813528060913086,18.32472801208496,18.681236267089844,19.168270111083984,19.565475463867188,19.854290008544922,20.117326736450195,20.32213020324707,21.529640197753906,22.104650497436523,22.99803352355957,23.65079116821289,23.94342803955078,23.961050033569336,24.37866973876953,25.205352783203125,25.71000862121582,26.703271865844727,27.618013381958008,28.507673263549805,29.028841018676758,29.37974739074707,29.699138641357422,30.530536651611328,31.332433700561523,31.345508575439453,31.71040916442871,32.22795867919922,33.0677604675293,34.114070892333984,35.23335266113281,35.94993209838867,36.402740478515625,37.30634689331055,37.98219680786133,38.91654586791992,40.0054817199707,40.73124313354492,41.00895309448242,41.69697952270508],\"type\":\"bar\"},{\"line\":{\"color\":\"blue\"},\"mode\":\"lines\",\"name\":\"RCP 4.5 trend\",\"x\":[1986,1987,1988,1989,1990,1991,1992,1993,1994,1995,1996,1997,1998,1999,2000,2001,2002,2003,2004,2005,2006,2007,2008,2009,2010,2011,2012,2013,2014,2015,2016,2017,2018,2019,2020,2021,2022,2023,2024,2025,2026,2027,2028,2029,2030,2031,2032,2033,2034,2035,2036,2037,2038,2039,2040,2041,2042,2043,2044,2045,2046,2047,2048,2049,2050,2051,2052,2053,2054,2055,2056,2057,2058,2059,2060,2061,2062,2063,2064,2065,2066,2067,2068,2069,2070,2071,2072,2073,2074,2075,2076,2077,2078,2079,2080,2081,2082,2083,2084,2085],\"y\":[1.8180468499195306,2.0488565657737623,2.278850481319787,2.508028596557604,2.736390911487214,2.9639374261086164,3.1906681404218116,3.416583054426799,3.6416821681235794,3.8659654815121525,4.089432994592518,4.312084707364676,4.533920619828627,4.754940731984371,4.9751450438319065,5.194533555371236,5.413106266602357,5.630863177525271,5.847804288139978,6.063929598446478,6.279239108444768,6.493732818134854,6.707410727516731,6.920272836590401,7.132319145355863,7.343549653813119,7.5539643619621675,7.763563269803008,7.97234637733564,8.180313684560065,8.387465191476284,8.593800898084295,8.799320804384099,9.004024910375696,9.207913216059085,9.410985721434265,9.61324242650124,9.814683331260007,10.015308435710567,10.215117739852918,10.414111243687064,10.612288947213,10.80965085043073,11.006196953340254,11.20192725594157,11.396841758234677,11.590940460219578,11.78422336189627,11.976690463264758,12.168341764325035,12.359177265077108,12.54919696552097,12.738400865656626,12.926788965484077,13.114361265003318,13.301117764214352,13.48705846311718,13.672183361711799,13.85649245999821,14.039985757976416,14.222663255646413,14.404524953008204,14.585570850061787,14.765800946807161,14.94521524324433,15.12381373937329,15.301596435194043,15.47856333070659,15.654714425910928,15.83004972080706,16.004569215394984,16.1782729096747,16.35116080364621,16.523232897309512,16.694489190664605,16.864929683711495,17.03455437645017,17.203363268880647,17.37135636100291,17.538533652816966,17.704895144322816,17.87044083552046,18.035170726409895,18.199084816991125,18.362183107264144,18.524465597228957,18.685932286885564,18.846583176233963,19.006418265274156,19.16543755400614,19.323641042429916,19.481028730545482,19.637600618352845,19.793356705852002,19.94829699304295,20.102421479925688,20.255730166500218,20.408223052766548,20.559900138724664,20.710761424374574],\"type\":\"scatter\"},{\"line\":{\"color\":\"red\"},\"mode\":\"lines\",\"name\":\"RCP 8.5 trend\",\"x\":[1986,1987,1988,1989,1990,1991,1992,1993,1994,1995,1996,1997,1998,1999,2000,2001,2002,2003,2004,2005,2006,2007,2008,2009,2010,2011,2012,2013,2014,2015,2016,2017,2018,2019,2020,2021,2022,2023,2024,2025,2026,2027,2028,2029,2030,2031,2032,2033,2034,2035,2036,2037,2038,2039,2040,2041,2042,2043,2044,2045,2046,2047,2048,2049,2050,2051,2052,2053,2054,2055,2056,2057,2058,2059,2060,2061,2062,2063,2064,2065,2066,2067,2068,2069,2070,2071,2072,2073,2074,2075,2076,2077,2078,2079,2080,2081,2082,2083,2084,2085],\"y\":[4.110847155500717,4.116303201905266,4.1293469736545605,4.149978470748601,4.178197693187387,4.21400464097092,4.257399314099199,4.308381712572222,4.366951836389992,4.433109685552509,4.506855260059771,4.588188559911778,4.677109585108532,4.773618335650031,4.877714811536277,4.989399012767269,5.108670939343006,5.2355305912634895,5.369977968528719,5.512013071138694,5.661635899093414,5.818846452392881,5.983644731037094,6.156030735026053,6.336004464359757,6.523565919038207,6.718715099061404,6.921452004429346,7.131776635142034,7.349688991199468,7.575189072601649,7.808276879348575,8.048952411440247,8.297215668876664,8.553066651657826,8.816505359783736,9.087531793254392,9.366145952069793,9.652347836229941,9.946137445734834,10.247514780584474,10.556479840778858,10.873032626317988,11.197173137201865,11.528901373430488,11.868217335003855,12.21512102192197,12.56961243418483,12.931691571792438,13.301358434744788,13.678613023041887,14.063455336683731,14.45588537567032,14.855903140001658,15.263508629677741,15.678701844698566,16.10148278506414,16.531851450774457,16.969807841829525,17.415351958229337,17.86848379997389,18.329203367063194,18.797510659497245,19.27340567727604,19.75688842039958,20.247958888867867,20.7466170826809,21.252863001838676,21.7666966463412,22.28811801618847,22.81712711138049,23.353723931917248,23.897908477798758,24.449680749025013,25.00904074559601,25.575988467511756,26.15052391477225,26.732647087377483,27.32235798532747,27.919656608622198,28.524542957261673,29.137017031245897,29.75707883057486,30.384728355248573,31.01996560526703,31.662790580630237,32.31320328133819,32.97120370739088,33.63679185878832,34.30996773553051,34.99073133761745,35.67908266504913,36.375021717825554,37.07854849594672,37.78966299941264,38.508365228223305,39.23465518237871,39.96853286187887,40.709998266723765,41.45905139691342],\"type\":\"scatter\"},{\"fill\":\"toself\",\"fillcolor\":\"rgba(0,0,255,0.2)\",\"hoverinfo\":\"skip\",\"line\":{\"color\":\"rgba(255,255,255,0)\"},\"showlegend\":false,\"x\":[1986,1987,1988,1989,1990,1991,1992,1993,1994,1995,1996,1997,1998,1999,2000,2001,2002,2003,2004,2005,2006,2007,2008,2009,2010,2011,2012,2013,2014,2015,2016,2017,2018,2019,2020,2021,2022,2023,2024,2025,2026,2027,2028,2029,2030,2031,2032,2033,2034,2035,2036,2037,2038,2039,2040,2041,2042,2043,2044,2045,2046,2047,2048,2049,2050,2051,2052,2053,2054,2055,2056,2057,2058,2059,2060,2061,2062,2063,2064,2065,2066,2067,2068,2069,2070,2071,2072,2073,2074,2075,2076,2077,2078,2079,2080,2081,2082,2083,2084,2085,2085,2084,2083,2082,2081,2080,2079,2078,2077,2076,2075,2074,2073,2072,2071,2070,2069,2068,2067,2066,2065,2064,2063,2062,2061,2060,2059,2058,2057,2056,2055,2054,2053,2052,2051,2050,2049,2048,2047,2046,2045,2044,2043,2042,2041,2040,2039,2038,2037,2036,2035,2034,2033,2032,2031,2030,2029,2028,2027,2026,2025,2024,2023,2022,2021,2020,2019,2018,2017,2016,2015,2014,2013,2012,2011,2010,2009,2008,2007,2006,2005,2004,2003,2002,2001,2000,1999,1998,1997,1996,1995,1994,1993,1992,1991,1990,1989,1988,1987,1986],\"y\":[2.7548814270565587,2.9856911429107904,3.215685058456815,3.4448631736946322,3.673225488624242,3.9007720032456445,4.12750271755884,4.353417631563827,4.5785167452606075,4.802800058649181,5.026267571729546,5.248919284501704,5.470755196965655,5.691775309121399,5.911979620968935,6.131368132508264,6.349940843739385,6.567697754662299,6.784638865277006,7.000764175583506,7.216073685581796,7.430567395271882,7.644245304653759,7.857107413727429,8.069153722492892,8.280384230950148,8.490798939099196,8.700397846940037,8.909180954472669,9.117148261697094,9.324299768613313,9.530635475221324,9.736155381521128,9.940859487512725,10.144747793196114,10.347820298571294,10.550077003638268,10.751517908397036,10.952143012847596,11.151952316989947,11.350945820824093,11.54912352435003,11.746485427567759,11.943031530477283,12.138761833078599,12.333676335371706,12.527775037356607,12.7210579390333,12.913525040401787,13.105176341462064,13.296011842214137,13.486031542657999,13.675235442793655,13.863623542621106,14.051195842140347,14.23795234135138,14.423893040254208,14.609017938848828,14.793327037135239,14.976820335113445,15.159497832783442,15.341359530145233,15.522405427198816,15.70263552394419,15.88204982038136,16.060648316510317,16.23843101233107,16.41539790784362,16.591549003047955,16.766884297944088,16.94140379253201,17.115107486811727,17.287995380783236,17.46006747444654,17.631323767801632,17.801764260848522,17.971388953587198,18.140197846017674,18.308190938139937,18.475368229953993,18.641729721459843,18.807275412657486,18.972005303546922,19.135919394128152,19.29901768440117,19.461300174365984,19.62276686402259,19.78341775337099,19.943252842411184,20.102272131143167,20.260475619566943,20.41786330768251,20.574435195489873,20.73019128298903,20.885131570179976,21.039256057062715,21.192564743637245,21.345057629903575,21.49673471586169,21.6475960015116,19.773926847237547,19.623065561587637,19.47138847562952,19.31889558936319,19.16558690278866,19.01146241590592,18.856522128714975,18.700766041215818,18.544194153408455,18.38680646529289,18.228602976869112,18.06958368813713,17.909748599096936,17.749097709748536,17.58763102009193,17.425348530127117,17.262250239854097,17.098336149272868,16.93360625838343,16.76806056718579,16.60169907567994,16.434521783865883,16.26652869174362,16.097719799313143,15.928095106574466,15.757654613527576,15.586398320172483,15.41432622650918,15.24143833253767,15.067734638257955,14.89321514367003,14.717879848773899,14.541728753569561,14.364761858057014,14.18697916223626,14.008380666107302,13.828966369670132,13.648736272924758,13.467690375871175,13.285828678509384,13.103151180839387,12.91965788286118,12.73534878457477,12.55022388598015,12.364283187077323,12.177526687866289,11.989954388347048,11.801566288519597,11.612362388383941,11.422342687940079,11.231507187188006,11.039855886127729,10.847388784759241,10.654105883082549,10.460007181097648,10.26509267880454,10.069362376203225,9.8728162732937,9.675454370075972,9.477276666550035,9.278283162715889,9.078473858573538,8.877848754122978,8.67640784936421,8.474151144297236,8.271078638922056,8.067190333238667,7.862486227247071,7.656966320947267,7.450630614339256,7.243479107423037,7.035511800198612,6.82672869266598,6.617129784825139,6.4067150766760905,6.195484568218835,5.983438259453373,5.770576150379703,5.556898240997826,5.34240453130774,5.12709502130945,4.9109697110029495,4.6940286003882425,4.476271689465329,4.257698978234208,4.038310466694878,3.818106154847343,3.5970860426915987,3.3752501302276476,3.15259841745549,2.9291309043751244,2.7048475909865513,2.479748477289771,2.2538335632847835,2.0271028489715883,1.7995563343501857,1.571194019420576,1.3420159041827588,1.1120219886367342,0.8812122727825024],\"type\":\"scatter\"},{\"fill\":\"toself\",\"fillcolor\":\"rgba(255,0,0,0.2)\",\"hoverinfo\":\"skip\",\"line\":{\"color\":\"rgba(255,255,255,0)\"},\"showlegend\":false,\"x\":[1986,1987,1988,1989,1990,1991,1992,1993,1994,1995,1996,1997,1998,1999,2000,2001,2002,2003,2004,2005,2006,2007,2008,2009,2010,2011,2012,2013,2014,2015,2016,2017,2018,2019,2020,2021,2022,2023,2024,2025,2026,2027,2028,2029,2030,2031,2032,2033,2034,2035,2036,2037,2038,2039,2040,2041,2042,2043,2044,2045,2046,2047,2048,2049,2050,2051,2052,2053,2054,2055,2056,2057,2058,2059,2060,2061,2062,2063,2064,2065,2066,2067,2068,2069,2070,2071,2072,2073,2074,2075,2076,2077,2078,2079,2080,2081,2082,2083,2084,2085,2085,2084,2083,2082,2081,2080,2079,2078,2077,2076,2075,2074,2073,2072,2071,2070,2069,2068,2067,2066,2065,2064,2063,2062,2061,2060,2059,2058,2057,2056,2055,2054,2053,2052,2051,2050,2049,2048,2047,2046,2045,2044,2043,2042,2041,2040,2039,2038,2037,2036,2035,2034,2033,2032,2031,2030,2029,2028,2027,2026,2025,2024,2023,2022,2021,2020,2019,2018,2017,2016,2015,2014,2013,2012,2011,2010,2009,2008,2007,2006,2005,2004,2003,2002,2001,2000,1999,1998,1997,1996,1995,1994,1993,1992,1991,1990,1989,1988,1987,1986],\"y\":[4.567261927777129,4.572717974181678,4.585761745930973,4.606393243025013,4.6346124654638,4.670419413247332,4.713814086375611,4.764796484848635,4.823366608666404,4.889524457828921,4.963270032336183,5.04460333218819,5.133524357384944,5.2300331079264435,5.33412958381269,5.445813785043681,5.565085711619418,5.691945363539902,5.826392740805131,5.968427843415106,6.118050671369827,6.275261224669293,6.440059503313506,6.612445507302465,6.792419236636169,6.979980691314619,7.175129871337816,7.377866776705758,7.588191407418447,7.80610376347588,8.031603844878061,8.264691651624986,8.50536718371666,8.753630441153076,9.009481423934238,9.272920132060149,9.543946565530804,9.822560724346205,10.108762608506353,10.402552218011246,10.703929552860886,11.01289461305527,11.3294473985944,11.653587909478277,11.9853161457069,12.324632107280268,12.671535794198382,13.026027206461242,13.38810634406885,13.7577732070212,14.1350277953183,14.519870108960143,14.912300147946732,15.31231791227807,15.719923401954153,16.135116616974976,16.55789755734055,16.988266223050868,17.426222614105935,17.871766730505747,18.3248985722503,18.785618139339604,19.253925431773656,19.72982044955245,20.21330319267599,20.704373661144277,21.20303185495731,21.709277774115087,22.22311141861761,22.74453278846488,23.2735418836569,23.81013870419366,24.35432325007517,24.906095521301424,25.46545551787242,26.032403239788167,26.60693868704866,27.189061859653894,27.778772757603882,28.37607138089861,28.980957729538083,29.593431803522307,30.21349360285127,30.841143127524983,31.47638037754344,32.11920535290665,32.7696180536146,33.42761847966729,34.09320663106473,34.766382507806924,35.44714610989386,36.13549743732554,36.831436490101964,37.53496326822313,38.24607777168905,38.964780000499715,39.69106995465512,40.42494763415528,41.166413039000176,41.91546616918983,41.002636624637006,40.253583494447355,39.51211808960246,38.7782404101023,38.051950455946894,37.33324822713623,36.62213372367031,35.91860694554914,35.22266789277272,34.53431656534104,33.8535529632541,33.18037708651191,32.51478893511447,31.85678850906178,31.206375808353826,30.563550832990618,29.928313582972162,29.300664058298448,28.680602258969486,28.068128184985262,27.463241836345787,26.86594321305106,26.276232315101073,25.69410914249584,25.119573695235346,24.5526259733196,23.993265976748603,23.441493705522348,22.897309159640837,22.36071233910408,21.83170324391206,21.31028187406479,20.796448229562266,20.29020231040449,19.791544116591457,19.30047364812317,18.816990904999628,18.341095887220835,17.872788594786783,17.41206902769748,16.958937185952927,16.513393069553114,16.075436678498047,15.645068012787727,15.222287072422153,14.807093857401329,14.399488367725246,13.999470603393908,13.607040564407319,13.222198250765475,12.844943662468376,12.475276799516026,12.113197661908417,11.758706249645558,11.411802562727443,11.072486601154075,10.740758364925453,10.416617854041576,10.100065068502445,9.791100008308062,9.489722673458422,9.195933063953529,8.909731179793381,8.63111702097798,8.360090587507324,8.096651879381414,7.840800896600252,7.592537639163835,7.351862107072162,7.118774300325237,6.893274218923056,6.675361862865622,6.465037232152934,6.262300326784992,6.067151146761795,5.879589692083345,5.6996159627496406,5.527229958760682,5.362431680116469,5.205221126817002,5.055598298862281,4.913563196252307,4.779115818987077,4.652256167066594,4.5329842404908565,4.421300039259865,4.317203563373619,4.22069481283212,4.131773787635366,4.050440487783359,3.9766949132760967,3.91053706411358,3.85196694029581,3.8009845418227863,3.7575898686945077,3.721782920910975,3.6935636984721887,3.6729322013781482,3.659888429628854,3.6544323832243046],\"type\":\"scatter\"}],                        {\"template\":{\"data\":{\"histogram2dcontour\":[{\"type\":\"histogram2dcontour\",\"colorbar\":{\"outlinewidth\":0,\"ticks\":\"\"},\"colorscale\":[[0.0,\"#0d0887\"],[0.1111111111111111,\"#46039f\"],[0.2222222222222222,\"#7201a8\"],[0.3333333333333333,\"#9c179e\"],[0.4444444444444444,\"#bd3786\"],[0.5555555555555556,\"#d8576b\"],[0.6666666666666666,\"#ed7953\"],[0.7777777777777778,\"#fb9f3a\"],[0.8888888888888888,\"#fdca26\"],[1.0,\"#f0f921\"]]}],\"choropleth\":[{\"type\":\"choropleth\",\"colorbar\":{\"outlinewidth\":0,\"ticks\":\"\"}}],\"histogram2d\":[{\"type\":\"histogram2d\",\"colorbar\":{\"outlinewidth\":0,\"ticks\":\"\"},\"colorscale\":[[0.0,\"#0d0887\"],[0.1111111111111111,\"#46039f\"],[0.2222222222222222,\"#7201a8\"],[0.3333333333333333,\"#9c179e\"],[0.4444444444444444,\"#bd3786\"],[0.5555555555555556,\"#d8576b\"],[0.6666666666666666,\"#ed7953\"],[0.7777777777777778,\"#fb9f3a\"],[0.8888888888888888,\"#fdca26\"],[1.0,\"#f0f921\"]]}],\"heatmap\":[{\"type\":\"heatmap\",\"colorbar\":{\"outlinewidth\":0,\"ticks\":\"\"},\"colorscale\":[[0.0,\"#0d0887\"],[0.1111111111111111,\"#46039f\"],[0.2222222222222222,\"#7201a8\"],[0.3333333333333333,\"#9c179e\"],[0.4444444444444444,\"#bd3786\"],[0.5555555555555556,\"#d8576b\"],[0.6666666666666666,\"#ed7953\"],[0.7777777777777778,\"#fb9f3a\"],[0.8888888888888888,\"#fdca26\"],[1.0,\"#f0f921\"]]}],\"heatmapgl\":[{\"type\":\"heatmapgl\",\"colorbar\":{\"outlinewidth\":0,\"ticks\":\"\"},\"colorscale\":[[0.0,\"#0d0887\"],[0.1111111111111111,\"#46039f\"],[0.2222222222222222,\"#7201a8\"],[0.3333333333333333,\"#9c179e\"],[0.4444444444444444,\"#bd3786\"],[0.5555555555555556,\"#d8576b\"],[0.6666666666666666,\"#ed7953\"],[0.7777777777777778,\"#fb9f3a\"],[0.8888888888888888,\"#fdca26\"],[1.0,\"#f0f921\"]]}],\"contourcarpet\":[{\"type\":\"contourcarpet\",\"colorbar\":{\"outlinewidth\":0,\"ticks\":\"\"}}],\"contour\":[{\"type\":\"contour\",\"colorbar\":{\"outlinewidth\":0,\"ticks\":\"\"},\"colorscale\":[[0.0,\"#0d0887\"],[0.1111111111111111,\"#46039f\"],[0.2222222222222222,\"#7201a8\"],[0.3333333333333333,\"#9c179e\"],[0.4444444444444444,\"#bd3786\"],[0.5555555555555556,\"#d8576b\"],[0.6666666666666666,\"#ed7953\"],[0.7777777777777778,\"#fb9f3a\"],[0.8888888888888888,\"#fdca26\"],[1.0,\"#f0f921\"]]}],\"surface\":[{\"type\":\"surface\",\"colorbar\":{\"outlinewidth\":0,\"ticks\":\"\"},\"colorscale\":[[0.0,\"#0d0887\"],[0.1111111111111111,\"#46039f\"],[0.2222222222222222,\"#7201a8\"],[0.3333333333333333,\"#9c179e\"],[0.4444444444444444,\"#bd3786\"],[0.5555555555555556,\"#d8576b\"],[0.6666666666666666,\"#ed7953\"],[0.7777777777777778,\"#fb9f3a\"],[0.8888888888888888,\"#fdca26\"],[1.0,\"#f0f921\"]]}],\"mesh3d\":[{\"type\":\"mesh3d\",\"colorbar\":{\"outlinewidth\":0,\"ticks\":\"\"}}],\"scatter\":[{\"fillpattern\":{\"fillmode\":\"overlay\",\"size\":10,\"solidity\":0.2},\"type\":\"scatter\"}],\"parcoords\":[{\"type\":\"parcoords\",\"line\":{\"colorbar\":{\"outlinewidth\":0,\"ticks\":\"\"}}}],\"scatterpolargl\":[{\"type\":\"scatterpolargl\",\"marker\":{\"colorbar\":{\"outlinewidth\":0,\"ticks\":\"\"}}}],\"bar\":[{\"error_x\":{\"color\":\"#2a3f5f\"},\"error_y\":{\"color\":\"#2a3f5f\"},\"marker\":{\"line\":{\"color\":\"#E5ECF6\",\"width\":0.5},\"pattern\":{\"fillmode\":\"overlay\",\"size\":10,\"solidity\":0.2}},\"type\":\"bar\"}],\"scattergeo\":[{\"type\":\"scattergeo\",\"marker\":{\"colorbar\":{\"outlinewidth\":0,\"ticks\":\"\"}}}],\"scatterpolar\":[{\"type\":\"scatterpolar\",\"marker\":{\"colorbar\":{\"outlinewidth\":0,\"ticks\":\"\"}}}],\"histogram\":[{\"marker\":{\"pattern\":{\"fillmode\":\"overlay\",\"size\":10,\"solidity\":0.2}},\"type\":\"histogram\"}],\"scattergl\":[{\"type\":\"scattergl\",\"marker\":{\"colorbar\":{\"outlinewidth\":0,\"ticks\":\"\"}}}],\"scatter3d\":[{\"type\":\"scatter3d\",\"line\":{\"colorbar\":{\"outlinewidth\":0,\"ticks\":\"\"}},\"marker\":{\"colorbar\":{\"outlinewidth\":0,\"ticks\":\"\"}}}],\"scattermapbox\":[{\"type\":\"scattermapbox\",\"marker\":{\"colorbar\":{\"outlinewidth\":0,\"ticks\":\"\"}}}],\"scatterternary\":[{\"type\":\"scatterternary\",\"marker\":{\"colorbar\":{\"outlinewidth\":0,\"ticks\":\"\"}}}],\"scattercarpet\":[{\"type\":\"scattercarpet\",\"marker\":{\"colorbar\":{\"outlinewidth\":0,\"ticks\":\"\"}}}],\"carpet\":[{\"aaxis\":{\"endlinecolor\":\"#2a3f5f\",\"gridcolor\":\"white\",\"linecolor\":\"white\",\"minorgridcolor\":\"white\",\"startlinecolor\":\"#2a3f5f\"},\"baxis\":{\"endlinecolor\":\"#2a3f5f\",\"gridcolor\":\"white\",\"linecolor\":\"white\",\"minorgridcolor\":\"white\",\"startlinecolor\":\"#2a3f5f\"},\"type\":\"carpet\"}],\"table\":[{\"cells\":{\"fill\":{\"color\":\"#EBF0F8\"},\"line\":{\"color\":\"white\"}},\"header\":{\"fill\":{\"color\":\"#C8D4E3\"},\"line\":{\"color\":\"white\"}},\"type\":\"table\"}],\"barpolar\":[{\"marker\":{\"line\":{\"color\":\"#E5ECF6\",\"width\":0.5},\"pattern\":{\"fillmode\":\"overlay\",\"size\":10,\"solidity\":0.2}},\"type\":\"barpolar\"}],\"pie\":[{\"automargin\":true,\"type\":\"pie\"}]},\"layout\":{\"autotypenumbers\":\"strict\",\"colorway\":[\"#636efa\",\"#EF553B\",\"#00cc96\",\"#ab63fa\",\"#FFA15A\",\"#19d3f3\",\"#FF6692\",\"#B6E880\",\"#FF97FF\",\"#FECB52\"],\"font\":{\"color\":\"#2a3f5f\"},\"hovermode\":\"closest\",\"hoverlabel\":{\"align\":\"left\"},\"paper_bgcolor\":\"white\",\"plot_bgcolor\":\"#E5ECF6\",\"polar\":{\"bgcolor\":\"#E5ECF6\",\"angularaxis\":{\"gridcolor\":\"white\",\"linecolor\":\"white\",\"ticks\":\"\"},\"radialaxis\":{\"gridcolor\":\"white\",\"linecolor\":\"white\",\"ticks\":\"\"}},\"ternary\":{\"bgcolor\":\"#E5ECF6\",\"aaxis\":{\"gridcolor\":\"white\",\"linecolor\":\"white\",\"ticks\":\"\"},\"baxis\":{\"gridcolor\":\"white\",\"linecolor\":\"white\",\"ticks\":\"\"},\"caxis\":{\"gridcolor\":\"white\",\"linecolor\":\"white\",\"ticks\":\"\"}},\"coloraxis\":{\"colorbar\":{\"outlinewidth\":0,\"ticks\":\"\"}},\"colorscale\":{\"sequential\":[[0.0,\"#0d0887\"],[0.1111111111111111,\"#46039f\"],[0.2222222222222222,\"#7201a8\"],[0.3333333333333333,\"#9c179e\"],[0.4444444444444444,\"#bd3786\"],[0.5555555555555556,\"#d8576b\"],[0.6666666666666666,\"#ed7953\"],[0.7777777777777778,\"#fb9f3a\"],[0.8888888888888888,\"#fdca26\"],[1.0,\"#f0f921\"]],\"sequentialminus\":[[0.0,\"#0d0887\"],[0.1111111111111111,\"#46039f\"],[0.2222222222222222,\"#7201a8\"],[0.3333333333333333,\"#9c179e\"],[0.4444444444444444,\"#bd3786\"],[0.5555555555555556,\"#d8576b\"],[0.6666666666666666,\"#ed7953\"],[0.7777777777777778,\"#fb9f3a\"],[0.8888888888888888,\"#fdca26\"],[1.0,\"#f0f921\"]],\"diverging\":[[0,\"#8e0152\"],[0.1,\"#c51b7d\"],[0.2,\"#de77ae\"],[0.3,\"#f1b6da\"],[0.4,\"#fde0ef\"],[0.5,\"#f7f7f7\"],[0.6,\"#e6f5d0\"],[0.7,\"#b8e186\"],[0.8,\"#7fbc41\"],[0.9,\"#4d9221\"],[1,\"#276419\"]]},\"xaxis\":{\"gridcolor\":\"white\",\"linecolor\":\"white\",\"ticks\":\"\",\"title\":{\"standoff\":15},\"zerolinecolor\":\"white\",\"automargin\":true,\"zerolinewidth\":2},\"yaxis\":{\"gridcolor\":\"white\",\"linecolor\":\"white\",\"ticks\":\"\",\"title\":{\"standoff\":15},\"zerolinecolor\":\"white\",\"automargin\":true,\"zerolinewidth\":2},\"scene\":{\"xaxis\":{\"backgroundcolor\":\"#E5ECF6\",\"gridcolor\":\"white\",\"linecolor\":\"white\",\"showbackground\":true,\"ticks\":\"\",\"zerolinecolor\":\"white\",\"gridwidth\":2},\"yaxis\":{\"backgroundcolor\":\"#E5ECF6\",\"gridcolor\":\"white\",\"linecolor\":\"white\",\"showbackground\":true,\"ticks\":\"\",\"zerolinecolor\":\"white\",\"gridwidth\":2},\"zaxis\":{\"backgroundcolor\":\"#E5ECF6\",\"gridcolor\":\"white\",\"linecolor\":\"white\",\"showbackground\":true,\"ticks\":\"\",\"zerolinecolor\":\"white\",\"gridwidth\":2}},\"shapedefaults\":{\"line\":{\"color\":\"#2a3f5f\"}},\"annotationdefaults\":{\"arrowcolor\":\"#2a3f5f\",\"arrowhead\":0,\"arrowwidth\":1},\"geo\":{\"bgcolor\":\"white\",\"landcolor\":\"#E5ECF6\",\"subunitcolor\":\"white\",\"showland\":true,\"showlakes\":true,\"lakecolor\":\"white\"},\"title\":{\"x\":0.05},\"mapbox\":{\"style\":\"light\"}}},\"legend\":{\"x\":0,\"y\":1,\"traceorder\":\"normal\",\"orientation\":\"h\"},\"title\":{\"text\":\"Heat wave occurrence in Selected pixel by year for the period 1986-2086 rcp4.5 and 8.5 [health related]\"},\"xaxis\":{\"title\":{\"text\":\"Year\"}},\"yaxis\":{\"title\":{\"text\":\"Number of Heat-waves\"}},\"width\":1100,\"height\":500},                        {\"responsive\": true}                    ).then(function(){\n",
       "                            \n",
       "var gd = document.getElementById('aad5f950-f871-4afd-8cf4-56a106787d2e');\n",
       "var x = new MutationObserver(function (mutations, observer) {{\n",
       "        var display = window.getComputedStyle(gd).display;\n",
       "        if (!display || display === 'none') {{\n",
       "            console.log([gd, 'removed!']);\n",
       "            Plotly.purge(gd);\n",
       "            observer.disconnect();\n",
       "        }}\n",
       "}});\n",
       "\n",
       "// Listen for the removal of the full notebook cells\n",
       "var notebookContainer = gd.closest('#notebook-container');\n",
       "if (notebookContainer) {{\n",
       "    x.observe(notebookContainer, {childList: true});\n",
       "}}\n",
       "\n",
       "// Listen for the clearing of the current output cell\n",
       "var outputEl = gd.closest('.output');\n",
       "if (outputEl) {{\n",
       "    x.observe(outputEl, {childList: true});\n",
       "}}\n",
       "\n",
       "                        })                };                });            </script>        </div>"
      ]
     },
     "metadata": {},
     "output_type": "display_data"
    }
   ],
   "source": [
    "b = hwd45h\n",
    "t = hwd85h\n",
    "# Define years\n",
    "year = list(range(1986, 2086))\n",
    "# Fit polynomial regression curves (degree 2 for simplicity)\n",
    "b_poly = np.polyfit(np.arange(len(b)), b, 2)\n",
    "t_poly = np.polyfit(np.arange(len(t)), t, 2)\n",
    "# Calculate polynomial values\n",
    "b_poly_values = np.polyval(b_poly, np.arange(len(b)))\n",
    "t_poly_values = np.polyval(t_poly, np.arange(len(t)))\n",
    "# Calculate the residuals and standard error for b\n",
    "b_residuals = b - b_poly_values\n",
    "b_std_error = np.std(b_residuals)\n",
    "# Calculate the residuals and standard error for t\n",
    "t_residuals = t - t_poly_values\n",
    "t_std_error = np.std(t_residuals)\n",
    "# Create figure\n",
    "fig = go.Figure()\n",
    "# Add bar trace for 'b'\n",
    "fig.add_trace(go.Bar(x=year, y=b, name='RCP 4.5', marker_color='blue'))\n",
    "# Add bar trace for 't'\n",
    "fig.add_trace(go.Bar(x=year, y=t, name='RCP 8.5', opacity=0.5, marker_color='red'))\n",
    "# Add polynomial regression curve for 'b'\n",
    "fig.add_trace(go.Scatter(x=year, y=b_poly_values, mode='lines', name='RCP 4.5 trend', line=dict(color='blue')))\n",
    "# Add polynomial regression curve for 't'\n",
    "fig.add_trace(go.Scatter(x=year, y=t_poly_values, mode='lines', name='RCP 8.5 trend', line=dict(color='red')))\n",
    "# Add standard error band for 'b'\n",
    "fig.add_trace(go.Scatter(\n",
    "    x=year + year[::-1],\n",
    "    y=list(b_poly_values + b_std_error) + list((b_poly_values - b_std_error)[::-1]),\n",
    "    fill='toself',\n",
    "    fillcolor='rgba(0,0,255,0.2)',\n",
    "    line=dict(color='rgba(255,255,255,0)'),\n",
    "    hoverinfo=\"skip\",\n",
    "    showlegend=False\n",
    "))\n",
    "# Add standard error band for 't'\n",
    "fig.add_trace(go.Scatter(\n",
    "    x=year + year[::-1],\n",
    "    y=list(t_poly_values + t_std_error) + list((t_poly_values - t_std_error)[::-1]),\n",
    "    fill='toself',\n",
    "    fillcolor='rgba(255,0,0,0.2)',\n",
    "    line=dict(color='rgba(255,255,255,0)'),\n",
    "    hoverinfo=\"skip\",\n",
    "    showlegend=False\n",
    "))\n",
    "# Update layout\n",
    "fig.update_layout(\n",
    "    title='Heatwave occurrence in Selected pixel by year for the period 1986-2086 rcp4.5 and 8.5 [health-related]',\n",
    "    xaxis_title='Year',\n",
    "    yaxis_title='Number of heatwaves',\n",
    "    legend=dict(x=0, y=1, traceorder='normal', orientation='h'),\n",
    "    width=1100,\n",
    "    height=500\n",
    ")\n",
    "fig.show()"
   ]
  },
  {
   "cell_type": "markdown",
   "id": "142795b3-7bfd-4270-9410-75cca940e4e7",
   "metadata": {},
   "source": [
    "- the graph above plots the heatwave occurrence for selected pixel for 1986-2086 for rcp 4.5 and 8.5\n",
    "- these results are based on the **heatlh-related** thresholds based on the EuroHEAT project [[source](https://confluence.ecmwf.int/display/CKB/Heat+waves+and+cold+spells+in+Europe+derived+from+climate+projections+documentation)]\n",
    "- the regression curve is plotted with the standard error around the line [[source](https://blog.minitab.com/en/adventures-in-statistics-2/regression-analysis-how-to-interpret-s-the-standard-error-of-the-regression)]"
   ]
  },
  {
   "cell_type": "markdown",
   "id": "94ad1a82-d0a4-4268-8255-a1f87d772a41",
   "metadata": {},
   "source": [
    "#### 3.4.2 Plots results for national-related data"
   ]
  },
  {
   "cell_type": "markdown",
   "id": "826408ae-ad4b-474a-b78a-24a55e061932",
   "metadata": {},
   "source": [
    "- **The national related data are available only for the few states in EU please see the map in 3.3!!!**"
   ]
  },
  {
   "cell_type": "code",
   "execution_count": 13,
   "id": "06eaeec0-3548-43b8-bdda-129abe2ace6c",
   "metadata": {},
   "outputs": [
    {
     "data": {
      "application/vnd.plotly.v1+json": {
       "config": {
        "plotlyServerURL": "https://plot.ly"
       },
       "data": [
        {
         "marker": {
          "color": "blue"
         },
         "name": "RCP 4.5",
         "type": "bar",
         "x": [
          1986,
          1987,
          1988,
          1989,
          1990,
          1991,
          1992,
          1993,
          1994,
          1995,
          1996,
          1997,
          1998,
          1999,
          2000,
          2001,
          2002,
          2003,
          2004,
          2005,
          2006,
          2007,
          2008,
          2009,
          2010,
          2011,
          2012,
          2013,
          2014,
          2015,
          2016,
          2017,
          2018,
          2019,
          2020,
          2021,
          2022,
          2023,
          2024,
          2025,
          2026,
          2027,
          2028,
          2029,
          2030,
          2031,
          2032,
          2033,
          2034,
          2035,
          2036,
          2037,
          2038,
          2039,
          2040,
          2041,
          2042,
          2043,
          2044,
          2045,
          2046,
          2047,
          2048,
          2049,
          2050,
          2051,
          2052,
          2053,
          2054,
          2055,
          2056,
          2057,
          2058,
          2059,
          2060,
          2061,
          2062,
          2063,
          2064,
          2065,
          2066,
          2067,
          2068,
          2069,
          2070,
          2071,
          2072,
          2073,
          2074,
          2075,
          2076,
          2077,
          2078,
          2079,
          2080,
          2081,
          2082,
          2083,
          2084,
          2085
         ],
         "y": [
          10.811174392700195,
          11.000615119934082,
          11.022808074951172,
          10.90704345703125,
          10.68472957611084,
          11.182002067565918,
          11.907514572143555,
          12.206653594970703,
          12.233057022094727,
          12.516505241394043,
          12.811382293701172,
          13.196516990661621,
          13.556640625,
          13.742175102233887,
          13.994930267333984,
          14.383702278137207,
          15.009547233581543,
          15.098752975463867,
          15.618182182312012,
          16.264497756958008,
          16.570514678955078,
          16.608369827270508,
          16.969133377075195,
          16.794538497924805,
          16.921480178833008,
          17.447025299072266,
          17.80674934387207,
          18.139102935791016,
          18.442882537841797,
          18.479066848754883,
          18.671194076538086,
          18.99892234802246,
          19.00127410888672,
          19.147125244140625,
          19.89531898498535,
          19.792552947998047,
          19.514850616455078,
          19.916667938232422,
          20.464853286743164,
          21.238018035888672,
          21.59823989868164,
          22.054290771484375,
          22.445871353149414,
          22.791357040405273,
          22.905672073364258,
          23.5252685546875,
          23.33453369140625,
          23.82988929748535,
          24.261890411376953,
          24.152645111083984,
          24.64763641357422,
          24.97273063659668,
          25.167003631591797,
          25.648557662963867,
          26.506845474243164,
          27.018905639648438,
          27.69256591796875,
          27.74907875061035,
          27.879093170166016,
          28.551183700561523,
          28.348426818847656,
          28.57110023498535,
          28.98123550415039,
          29.651172637939453,
          29.852025985717773,
          30.194576263427734,
          30.932878494262695,
          30.957368850708008,
          30.85603141784668,
          30.5860595703125,
          30.657791137695312,
          30.59900665283203,
          30.86911392211914,
          30.71314239501953,
          31.04320526123047,
          31.01405143737793,
          31.389118194580078,
          31.34166717529297,
          31.145872116088867,
          31.508451461791992,
          31.742656707763672,
          32.4273567199707,
          32.416358947753906,
          32.536338806152344,
          32.358482360839844,
          31.9394474029541,
          32.00713348388672,
          32.45619583129883,
          32.87137222290039,
          32.900634765625,
          33.27425003051758,
          33.07701110839844,
          33.21036148071289,
          33.36487579345703,
          33.48853302001953,
          34.05702209472656,
          33.97365951538086,
          34.10092544555664,
          34.34202575683594,
          34.27903747558594
         ]
        },
        {
         "marker": {
          "color": "red"
         },
         "name": "RCP 8.5",
         "opacity": 0.5,
         "type": "bar",
         "x": [
          1986,
          1987,
          1988,
          1989,
          1990,
          1991,
          1992,
          1993,
          1994,
          1995,
          1996,
          1997,
          1998,
          1999,
          2000,
          2001,
          2002,
          2003,
          2004,
          2005,
          2006,
          2007,
          2008,
          2009,
          2010,
          2011,
          2012,
          2013,
          2014,
          2015,
          2016,
          2017,
          2018,
          2019,
          2020,
          2021,
          2022,
          2023,
          2024,
          2025,
          2026,
          2027,
          2028,
          2029,
          2030,
          2031,
          2032,
          2033,
          2034,
          2035,
          2036,
          2037,
          2038,
          2039,
          2040,
          2041,
          2042,
          2043,
          2044,
          2045,
          2046,
          2047,
          2048,
          2049,
          2050,
          2051,
          2052,
          2053,
          2054,
          2055,
          2056,
          2057,
          2058,
          2059,
          2060,
          2061,
          2062,
          2063,
          2064,
          2065,
          2066,
          2067,
          2068,
          2069,
          2070,
          2071,
          2072,
          2073,
          2074,
          2075,
          2076,
          2077,
          2078,
          2079,
          2080,
          2081,
          2082,
          2083,
          2084,
          2085
         ],
         "y": [
          10.811174392700195,
          11.000615119934082,
          11.022808074951172,
          10.90704345703125,
          10.68472957611084,
          11.182002067565918,
          11.63426399230957,
          11.807478904724121,
          12.112106323242188,
          12.093183517456055,
          12.465943336486816,
          12.8677396774292,
          13.056539535522461,
          13.509293556213379,
          14.02072811126709,
          14.74478530883789,
          15.198472023010254,
          15.529423713684082,
          16.141536712646484,
          16.610034942626953,
          17.173463821411133,
          17.425703048706055,
          17.85530662536621,
          17.935832977294922,
          18.243642807006836,
          18.69285011291504,
          19.39006233215332,
          19.706186294555664,
          20.17987823486328,
          20.50395965576172,
          20.175289154052734,
          20.5331974029541,
          20.81844139099121,
          21.397661209106445,
          22.08933448791504,
          22.18695831298828,
          22.308269500732422,
          22.767961502075195,
          22.59579086303711,
          23.101211547851562,
          23.2326717376709,
          23.371580123901367,
          23.847997665405273,
          24.103044509887695,
          24.398408889770508,
          24.244295120239258,
          24.82676887512207,
          24.677265167236328,
          24.666627883911133,
          24.970884323120117,
          25.152767181396484,
          25.91478729248047,
          25.964853286743164,
          26.5329532623291,
          27.098819732666016,
          27.6728458404541,
          28.141895294189453,
          28.74248695373535,
          28.856258392333984,
          28.793827056884766,
          29.89384651184082,
          30.13224983215332,
          30.603485107421875,
          30.930814743041992,
          31.546092987060547,
          32.27116012573242,
          32.75860595703125,
          32.90896224975586,
          33.83489990234375,
          34.37114715576172,
          35.18329620361328,
          36.12312316894531,
          36.75593948364258,
          37.307708740234375,
          37.52027893066406,
          38.346675872802734,
          38.83906936645508,
          40.31319046020508,
          41.573875427246094,
          42.77802276611328,
          43.112361907958984,
          43.43601608276367,
          43.960514068603516,
          44.78684997558594,
          45.16407775878906,
          45.79890823364258,
          46.37240982055664,
          47.05935287475586,
          47.89866256713867,
          49.1143684387207,
          50.17781066894531,
          51.125404357910156,
          51.42299270629883,
          52.434051513671875,
          53.01036071777344,
          53.53300476074219,
          54.371986389160156,
          55.01689529418945,
          55.879783630371094,
          56.67048645019531
         ]
        },
        {
         "line": {
          "color": "blue"
         },
         "mode": "lines",
         "name": "RCP 4.5 trend",
         "type": "scatter",
         "x": [
          1986,
          1987,
          1988,
          1989,
          1990,
          1991,
          1992,
          1993,
          1994,
          1995,
          1996,
          1997,
          1998,
          1999,
          2000,
          2001,
          2002,
          2003,
          2004,
          2005,
          2006,
          2007,
          2008,
          2009,
          2010,
          2011,
          2012,
          2013,
          2014,
          2015,
          2016,
          2017,
          2018,
          2019,
          2020,
          2021,
          2022,
          2023,
          2024,
          2025,
          2026,
          2027,
          2028,
          2029,
          2030,
          2031,
          2032,
          2033,
          2034,
          2035,
          2036,
          2037,
          2038,
          2039,
          2040,
          2041,
          2042,
          2043,
          2044,
          2045,
          2046,
          2047,
          2048,
          2049,
          2050,
          2051,
          2052,
          2053,
          2054,
          2055,
          2056,
          2057,
          2058,
          2059,
          2060,
          2061,
          2062,
          2063,
          2064,
          2065,
          2066,
          2067,
          2068,
          2069,
          2070,
          2071,
          2072,
          2073,
          2074,
          2075,
          2076,
          2077,
          2078,
          2079,
          2080,
          2081,
          2082,
          2083,
          2084,
          2085
         ],
         "y": [
          9.21278402259062,
          9.58720912551095,
          9.959290719735714,
          10.329028805264906,
          10.69642338209853,
          11.061474450236584,
          11.424182009679072,
          11.784546060425988,
          12.142566602477334,
          12.498243635833113,
          12.851577160493322,
          13.202567176457963,
          13.551213683727035,
          13.897516682300534,
          14.241476172178468,
          14.58309215336083,
          14.922364625847624,
          15.259293589638851,
          15.593879044734507,
          15.926120991134594,
          16.25601942883911,
          16.58357435784806,
          16.90878577816144,
          17.23165368977925,
          17.552178092701492,
          17.870358986928167,
          18.186196372459268,
          18.4996902492948,
          18.810840617434764,
          19.119647476879162,
          19.426110827627987,
          19.730230669681248,
          20.032007003038935,
          20.331439827701054,
          20.628529143667603,
          20.923274950938584,
          21.215677249513995,
          21.505736039393838,
          21.793451320578114,
          22.078823093066816,
          22.36185135685995,
          22.64253611195752,
          22.920877358359515,
          23.196875096065945,
          23.470529325076804,
          23.74184004539209,
          24.010807257011813,
          24.277430959935963,
          24.541711154164545,
          24.80364783969756,
          25.063241016535002,
          25.320490684676876,
          25.575396844123183,
          25.827959494873923,
          26.07817863692909,
          26.326054270288687,
          26.571586394952718,
          26.814775010921174,
          27.05562011819407,
          27.294121716771386,
          27.53027980665314,
          27.76409438783933,
          27.995565460329935,
          28.22469302412499,
          28.45147707922446,
          28.675917625628365,
          28.898014663336703,
          29.117768192349473,
          29.33517821266667,
          29.550244724288305,
          29.762967727214367,
          29.97334722144486,
          30.18138320697978,
          30.387075683819134,
          30.59042465196292,
          30.791430111411138,
          30.990092062163782,
          31.18641050422086,
          31.38038543758237,
          31.572016862248304,
          31.76130477821868,
          31.94824918549348,
          32.13285008407271,
          32.315107473956374,
          32.495021355144466,
          32.67259172763699,
          32.84781859143395,
          33.02070194653533,
          33.191241792941156,
          33.359438130651405,
          33.52529095966608,
          33.68880027998519,
          33.84996609160873,
          34.0087883945367,
          34.1652671887691,
          34.31940247430594,
          34.471194251147196,
          34.62064251929289,
          34.76774727874302,
          34.91250852949758
         ]
        },
        {
         "line": {
          "color": "red"
         },
         "mode": "lines",
         "name": "RCP 8.5 trend",
         "type": "scatter",
         "x": [
          1986,
          1987,
          1988,
          1989,
          1990,
          1991,
          1992,
          1993,
          1994,
          1995,
          1996,
          1997,
          1998,
          1999,
          2000,
          2001,
          2002,
          2003,
          2004,
          2005,
          2006,
          2007,
          2008,
          2009,
          2010,
          2011,
          2012,
          2013,
          2014,
          2015,
          2016,
          2017,
          2018,
          2019,
          2020,
          2021,
          2022,
          2023,
          2024,
          2025,
          2026,
          2027,
          2028,
          2029,
          2030,
          2031,
          2032,
          2033,
          2034,
          2035,
          2036,
          2037,
          2038,
          2039,
          2040,
          2041,
          2042,
          2043,
          2044,
          2045,
          2046,
          2047,
          2048,
          2049,
          2050,
          2051,
          2052,
          2053,
          2054,
          2055,
          2056,
          2057,
          2058,
          2059,
          2060,
          2061,
          2062,
          2063,
          2064,
          2065,
          2066,
          2067,
          2068,
          2069,
          2070,
          2071,
          2072,
          2073,
          2074,
          2075,
          2076,
          2077,
          2078,
          2079,
          2080,
          2081,
          2082,
          2083,
          2084,
          2085
         ],
         "y": [
          11.92971661178331,
          12.062843873317572,
          12.202279601640033,
          12.348023796750693,
          12.500076458649554,
          12.658437587336614,
          12.823107182811874,
          12.994085245075334,
          13.171371774126994,
          13.354966769966852,
          13.54487023259491,
          13.741082162011168,
          13.943602558215627,
          14.152431421208282,
          14.36756875098914,
          14.589014547558197,
          14.816768810915452,
          15.050831541060909,
          15.291202737994563,
          15.537882401716418,
          15.790870532226473,
          16.050167129524727,
          16.31577219361118,
          16.587685724485834,
          16.865907722148684,
          17.15043818659974,
          17.44127711783899,
          17.73842451586644,
          18.041880380682095,
          18.351644712285946,
          18.667717510677996,
          18.990098775858243,
          19.318788507826696,
          19.653786706583343,
          19.995093372128196,
          20.342708504461243,
          20.696632103582488,
          21.056864169491938,
          21.423404702189586,
          21.796253701675433,
          22.175411167949477,
          22.560877101011727,
          22.952651500862167,
          23.350734367500813,
          23.755125700927657,
          24.165825501142702,
          24.582833768145946,
          25.00615050193739,
          25.435775702517034,
          25.87170936988488,
          26.313951504040922,
          26.762502104985163,
          27.217361172717606,
          27.678528707238247,
          28.146004708547085,
          28.619789176644126,
          29.099882111529368,
          29.586283513202808,
          30.07899338166445,
          30.57801171691429,
          31.083338518952328,
          31.594973787778564,
          32.112917523393,
          32.63716972579564,
          33.16773039498648,
          33.70459953096551,
          34.247777133732754,
          34.79726320328818,
          35.35305773963182,
          35.91516074276366,
          36.48357221268369,
          37.058292149391924,
          37.639320552888364,
          38.226657423172995,
          38.82030276024582,
          39.42025656410686,
          40.02651883475609,
          40.63908957219353,
          41.257968776419155,
          41.88315644743299,
          42.51465258523501,
          43.15245718982524,
          43.79657026120368,
          44.44699179937031,
          45.10372180432513,
          45.76676027606817,
          46.43610721459939,
          47.11176261991882,
          47.79372649202645,
          48.48199883092228,
          49.176579636606306,
          49.87746890907853,
          50.58466664833895,
          51.29817285438757,
          52.017987527224406,
          52.74411066684942,
          53.47654227326265,
          54.21528234646408,
          54.960330886453704,
          55.71168789323153
         ]
        },
        {
         "fill": "toself",
         "fillcolor": "rgba(0,0,255,0.2)",
         "hoverinfo": "skip",
         "line": {
          "color": "rgba(255,255,255,0)"
         },
         "showlegend": false,
         "type": "scatter",
         "x": [
          1986,
          1987,
          1988,
          1989,
          1990,
          1991,
          1992,
          1993,
          1994,
          1995,
          1996,
          1997,
          1998,
          1999,
          2000,
          2001,
          2002,
          2003,
          2004,
          2005,
          2006,
          2007,
          2008,
          2009,
          2010,
          2011,
          2012,
          2013,
          2014,
          2015,
          2016,
          2017,
          2018,
          2019,
          2020,
          2021,
          2022,
          2023,
          2024,
          2025,
          2026,
          2027,
          2028,
          2029,
          2030,
          2031,
          2032,
          2033,
          2034,
          2035,
          2036,
          2037,
          2038,
          2039,
          2040,
          2041,
          2042,
          2043,
          2044,
          2045,
          2046,
          2047,
          2048,
          2049,
          2050,
          2051,
          2052,
          2053,
          2054,
          2055,
          2056,
          2057,
          2058,
          2059,
          2060,
          2061,
          2062,
          2063,
          2064,
          2065,
          2066,
          2067,
          2068,
          2069,
          2070,
          2071,
          2072,
          2073,
          2074,
          2075,
          2076,
          2077,
          2078,
          2079,
          2080,
          2081,
          2082,
          2083,
          2084,
          2085,
          2085,
          2084,
          2083,
          2082,
          2081,
          2080,
          2079,
          2078,
          2077,
          2076,
          2075,
          2074,
          2073,
          2072,
          2071,
          2070,
          2069,
          2068,
          2067,
          2066,
          2065,
          2064,
          2063,
          2062,
          2061,
          2060,
          2059,
          2058,
          2057,
          2056,
          2055,
          2054,
          2053,
          2052,
          2051,
          2050,
          2049,
          2048,
          2047,
          2046,
          2045,
          2044,
          2043,
          2042,
          2041,
          2040,
          2039,
          2038,
          2037,
          2036,
          2035,
          2034,
          2033,
          2032,
          2031,
          2030,
          2029,
          2028,
          2027,
          2026,
          2025,
          2024,
          2023,
          2022,
          2021,
          2020,
          2019,
          2018,
          2017,
          2016,
          2015,
          2014,
          2013,
          2012,
          2011,
          2010,
          2009,
          2008,
          2007,
          2006,
          2005,
          2004,
          2003,
          2002,
          2001,
          2000,
          1999,
          1998,
          1997,
          1996,
          1995,
          1994,
          1993,
          1992,
          1991,
          1990,
          1989,
          1988,
          1987,
          1986
         ],
         "y": [
          9.967761975744999,
          10.34218707866533,
          10.714268672890093,
          11.084006758419285,
          11.451401335252909,
          11.816452403390963,
          12.17915996283345,
          12.539524013580367,
          12.897544555631713,
          13.253221588987492,
          13.606555113647701,
          13.957545129612342,
          14.306191636881413,
          14.652494635454913,
          14.996454125332846,
          15.33807010651521,
          15.677342579002003,
          16.01427154279323,
          16.348856997888888,
          16.681098944288973,
          17.01099738199349,
          17.33855231100244,
          17.66376373131582,
          17.98663164293363,
          18.307156045855873,
          18.625336940082548,
          18.941174325613648,
          19.25466820244918,
          19.565818570589144,
          19.874625430033543,
          20.181088780782368,
          20.48520862283563,
          20.786984956193315,
          21.086417780855435,
          21.383507096821983,
          21.678252904092965,
          21.970655202668375,
          22.26071399254822,
          22.548429273732495,
          22.833801046221197,
          23.11682931001433,
          23.3975140651119,
          23.675855311513896,
          23.951853049220325,
          24.225507278231184,
          24.496817998546472,
          24.765785210166193,
          25.032408913090343,
          25.296689107318926,
          25.55862579285194,
          25.818218969689383,
          26.075468637831257,
          26.330374797277564,
          26.582937448028304,
          26.83315659008347,
          27.081032223443067,
          27.326564348107098,
          27.569752964075555,
          27.81059807134845,
          28.049099669925766,
          28.28525775980752,
          28.51907234099371,
          28.750543413484316,
          28.97967097727937,
          29.20645503237884,
          29.430895578782746,
          29.652992616491083,
          29.872746145503854,
          30.09015616582105,
          30.305222677442686,
          30.517945680368747,
          30.72832517459924,
          30.93636116013416,
          31.142053636973515,
          31.3454026051173,
          31.54640806456552,
          31.745070015318163,
          31.94138845737524,
          32.13536339073675,
          32.326994815402685,
          32.51628273137306,
          32.70322713864786,
          32.88782803722709,
          33.070085427110754,
          33.24999930829885,
          33.42756968079137,
          33.60279654458833,
          33.77567989968971,
          33.94621974609554,
          34.114416083805786,
          34.28026891282046,
          34.44377823313957,
          34.60494404476311,
          34.76376634769108,
          34.92024514192348,
          35.07438042746032,
          35.22617220430158,
          35.375620472447274,
          35.522725231897404,
          35.66748648265196,
          34.1575305763432,
          34.01276932558864,
          33.86566456613851,
          33.716216297992815,
          33.56442452115156,
          33.41028923561472,
          33.25381044138232,
          33.09498813845435,
          32.93382232683081,
          32.7703130065117,
          32.604460177497025,
          32.436263839786776,
          32.26572399338095,
          32.09284063827957,
          31.91761377448261,
          31.740043401990086,
          31.560129520801993,
          31.377872130918327,
          31.1932712323391,
          31.0063268250643,
          30.817038909093924,
          30.62540748442799,
          30.43143255106648,
          30.2351141090094,
          30.036452158256758,
          29.83544669880854,
          29.632097730664753,
          29.4264052538254,
          29.21836926829048,
          29.007989774059986,
          28.795266771133925,
          28.58020025951229,
          28.362790239195093,
          28.143036710182322,
          27.920939672473985,
          27.69649912607008,
          27.469715070970608,
          27.240587507175555,
          27.009116434684948,
          26.77530185349876,
          26.539143763617005,
          26.30064216503969,
          26.059797057766794,
          25.816608441798337,
          25.571076317134306,
          25.323200683774708,
          25.072981541719543,
          24.820418890968803,
          24.565512731522496,
          24.308263063380622,
          24.04866988654318,
          23.786733201010165,
          23.522453006781582,
          23.255829303857432,
          22.98686209223771,
          22.715551371922423,
          22.441897142911564,
          22.165899405205135,
          21.887558158803138,
          21.60687340370557,
          21.323845139912436,
          21.038473367423734,
          20.750758086239458,
          20.460699296359614,
          20.168296997784203,
          19.873551190513222,
          19.576461874546673,
          19.277029049884554,
          18.975252716526867,
          18.671132874473606,
          18.364669523724782,
          18.055862664280383,
          17.74471229614042,
          17.431218419304887,
          17.115381033773787,
          16.79720013954711,
          16.47667573662487,
          16.15380782500706,
          15.828596404693682,
          15.501041475684731,
          15.171143037980215,
          14.838901091580128,
          14.504315636484472,
          14.167386672693246,
          13.828114200206452,
          13.486498219024089,
          13.142538729146155,
          12.796235730572656,
          12.447589223303584,
          12.096599207338944,
          11.743265682678734,
          11.387588649322955,
          11.02956810727161,
          10.669204056524693,
          10.306496497082206,
          9.941445428944151,
          9.574050852110528,
          9.204312766581335,
          8.832231172356572,
          8.457806069436241
         ]
        },
        {
         "fill": "toself",
         "fillcolor": "rgba(255,0,0,0.2)",
         "hoverinfo": "skip",
         "line": {
          "color": "rgba(255,255,255,0)"
         },
         "showlegend": false,
         "type": "scatter",
         "x": [
          1986,
          1987,
          1988,
          1989,
          1990,
          1991,
          1992,
          1993,
          1994,
          1995,
          1996,
          1997,
          1998,
          1999,
          2000,
          2001,
          2002,
          2003,
          2004,
          2005,
          2006,
          2007,
          2008,
          2009,
          2010,
          2011,
          2012,
          2013,
          2014,
          2015,
          2016,
          2017,
          2018,
          2019,
          2020,
          2021,
          2022,
          2023,
          2024,
          2025,
          2026,
          2027,
          2028,
          2029,
          2030,
          2031,
          2032,
          2033,
          2034,
          2035,
          2036,
          2037,
          2038,
          2039,
          2040,
          2041,
          2042,
          2043,
          2044,
          2045,
          2046,
          2047,
          2048,
          2049,
          2050,
          2051,
          2052,
          2053,
          2054,
          2055,
          2056,
          2057,
          2058,
          2059,
          2060,
          2061,
          2062,
          2063,
          2064,
          2065,
          2066,
          2067,
          2068,
          2069,
          2070,
          2071,
          2072,
          2073,
          2074,
          2075,
          2076,
          2077,
          2078,
          2079,
          2080,
          2081,
          2082,
          2083,
          2084,
          2085,
          2085,
          2084,
          2083,
          2082,
          2081,
          2080,
          2079,
          2078,
          2077,
          2076,
          2075,
          2074,
          2073,
          2072,
          2071,
          2070,
          2069,
          2068,
          2067,
          2066,
          2065,
          2064,
          2063,
          2062,
          2061,
          2060,
          2059,
          2058,
          2057,
          2056,
          2055,
          2054,
          2053,
          2052,
          2051,
          2050,
          2049,
          2048,
          2047,
          2046,
          2045,
          2044,
          2043,
          2042,
          2041,
          2040,
          2039,
          2038,
          2037,
          2036,
          2035,
          2034,
          2033,
          2032,
          2031,
          2030,
          2029,
          2028,
          2027,
          2026,
          2025,
          2024,
          2023,
          2022,
          2021,
          2020,
          2019,
          2018,
          2017,
          2016,
          2015,
          2014,
          2013,
          2012,
          2011,
          2010,
          2009,
          2008,
          2007,
          2006,
          2005,
          2004,
          2003,
          2002,
          2001,
          2000,
          1999,
          1998,
          1997,
          1996,
          1995,
          1994,
          1993,
          1992,
          1991,
          1990,
          1989,
          1988,
          1987,
          1986
         ],
         "y": [
          13.112753676742836,
          13.245880938277098,
          13.385316666599559,
          13.53106086171022,
          13.68311352360908,
          13.84147465229614,
          14.0061442477714,
          14.17712231003486,
          14.35440883908652,
          14.538003834926378,
          14.727907297554436,
          14.924119226970694,
          15.126639623175153,
          15.335468486167809,
          15.550605815948666,
          15.772051612517723,
          15.999805875874978,
          16.233868606020433,
          16.474239802954088,
          16.720919466675944,
          16.973907597186,
          17.23320419448425,
          17.498809258570706,
          17.770722789445358,
          18.04894478710821,
          18.333475251559264,
          18.624314182798514,
          18.921461580825966,
          19.22491744564162,
          19.53468177724547,
          19.85075457563752,
          20.173135840817768,
          20.50182557278622,
          20.836823771542868,
          21.17813043708772,
          21.525745569420767,
          21.879669168542012,
          22.239901234451462,
          22.60644176714911,
          22.979290766634957,
          23.358448232909,
          23.74391416597125,
          24.13568856582169,
          24.533771432460338,
          24.93816276588718,
          25.348862566102227,
          25.76587083310547,
          26.189187566896916,
          26.61881276747656,
          27.054746434844404,
          27.496988569000447,
          27.945539169944688,
          28.40039823767713,
          28.86156577219777,
          29.32904177350661,
          29.80282624160365,
          30.282919176488893,
          30.769320578162333,
          31.262030446623974,
          31.761048781873814,
          32.26637558391185,
          32.77801085273809,
          33.29595458835253,
          33.820206790755165,
          34.350767459946006,
          34.88763659592504,
          35.43081419869228,
          35.98030026824771,
          36.53609480459135,
          37.09819780772319,
          37.66660927764322,
          38.24132921435145,
          38.82235761784789,
          39.40969448813252,
          40.00333982520535,
          40.603293629066386,
          41.20955589971562,
          41.822126637153055,
          42.44100584137868,
          43.066193512392516,
          43.69768965019454,
          44.33549425478477,
          44.979607326163205,
          45.63002886432984,
          46.28675886928466,
          46.9497973410277,
          47.61914427955892,
          48.29479968487835,
          48.97676355698598,
          49.66503589588181,
          50.359616701565834,
          51.06050597403806,
          51.76770371329848,
          52.4812099193471,
          53.201024592183934,
          53.92714773180895,
          54.65957933822218,
          55.39831941142361,
          56.14336795141323,
          56.894724958191055,
          54.528650828272,
          53.777293821494176,
          53.03224528150455,
          52.293505208303124,
          51.561073601889895,
          50.83495046226488,
          50.115135789428045,
          49.401629583379425,
          48.694431844119,
          47.99354257164678,
          47.29896176596275,
          46.61068942706692,
          45.92872555495929,
          45.25307014963986,
          44.58372321110864,
          43.920684739365605,
          43.26395473441078,
          42.61353319624415,
          41.969420124865714,
          41.331615520275484,
          40.70011938247346,
          40.07493171145963,
          39.456052507234,
          38.84348176979656,
          38.23721949914733,
          37.637265695286295,
          37.04362035821347,
          36.456283487928836,
          35.875255084432396,
          35.30053514772416,
          34.73212367780413,
          34.170020674672294,
          33.614226138328654,
          33.064740068773226,
          32.52156246600598,
          31.984693330026953,
          31.454132660836112,
          30.929880458433477,
          30.41193672281904,
          29.900301453992803,
          29.394974651954765,
          28.895956316704925,
          28.403246448243284,
          27.916845046569843,
          27.4367521116846,
          26.96296764358756,
          26.495491642278722,
          26.03432410775808,
          25.57946504002564,
          25.130914439081398,
          24.688672304925355,
          24.25273863755751,
          23.823113436977867,
          23.39979670318642,
          22.982788436183178,
          22.572088635968132,
          22.16769730254129,
          21.769614435902643,
          21.377840036052202,
          20.992374102989952,
          20.613216636715908,
          20.24036763723006,
          19.873827104532413,
          19.513595038622963,
          19.159671439501718,
          18.81205630716867,
          18.47074964162382,
          18.13575144286717,
          17.80706171089872,
          17.48468044571847,
          17.16860764732642,
          16.85884331572257,
          16.555387450906917,
          16.258240052879465,
          15.967401121640213,
          15.682870657189158,
          15.404648659526307,
          15.132735128651655,
          14.8671300645652,
          14.607833467266946,
          14.354845336756892,
          14.108165673035037,
          13.867794476101382,
          13.633731745955926,
          13.40597748259867,
          13.184531686029613,
          12.969394356248756,
          12.7605654932561,
          12.558045097051641,
          12.361833167635384,
          12.171929705007326,
          11.988334709167468,
          11.811048180115808,
          11.640070117852348,
          11.475400522377088,
          11.317039393690028,
          11.164986731791167,
          11.019242536680506,
          10.879806808358046,
          10.746679546823783
         ]
        }
       ],
       "layout": {
        "height": 500,
        "legend": {
         "orientation": "h",
         "traceorder": "normal",
         "x": 0,
         "y": 1
        },
        "template": {
         "data": {
          "bar": [
           {
            "error_x": {
             "color": "#2a3f5f"
            },
            "error_y": {
             "color": "#2a3f5f"
            },
            "marker": {
             "line": {
              "color": "#E5ECF6",
              "width": 0.5
             },
             "pattern": {
              "fillmode": "overlay",
              "size": 10,
              "solidity": 0.2
             }
            },
            "type": "bar"
           }
          ],
          "barpolar": [
           {
            "marker": {
             "line": {
              "color": "#E5ECF6",
              "width": 0.5
             },
             "pattern": {
              "fillmode": "overlay",
              "size": 10,
              "solidity": 0.2
             }
            },
            "type": "barpolar"
           }
          ],
          "carpet": [
           {
            "aaxis": {
             "endlinecolor": "#2a3f5f",
             "gridcolor": "white",
             "linecolor": "white",
             "minorgridcolor": "white",
             "startlinecolor": "#2a3f5f"
            },
            "baxis": {
             "endlinecolor": "#2a3f5f",
             "gridcolor": "white",
             "linecolor": "white",
             "minorgridcolor": "white",
             "startlinecolor": "#2a3f5f"
            },
            "type": "carpet"
           }
          ],
          "choropleth": [
           {
            "colorbar": {
             "outlinewidth": 0,
             "ticks": ""
            },
            "type": "choropleth"
           }
          ],
          "contour": [
           {
            "colorbar": {
             "outlinewidth": 0,
             "ticks": ""
            },
            "colorscale": [
             [
              0,
              "#0d0887"
             ],
             [
              0.1111111111111111,
              "#46039f"
             ],
             [
              0.2222222222222222,
              "#7201a8"
             ],
             [
              0.3333333333333333,
              "#9c179e"
             ],
             [
              0.4444444444444444,
              "#bd3786"
             ],
             [
              0.5555555555555556,
              "#d8576b"
             ],
             [
              0.6666666666666666,
              "#ed7953"
             ],
             [
              0.7777777777777778,
              "#fb9f3a"
             ],
             [
              0.8888888888888888,
              "#fdca26"
             ],
             [
              1,
              "#f0f921"
             ]
            ],
            "type": "contour"
           }
          ],
          "contourcarpet": [
           {
            "colorbar": {
             "outlinewidth": 0,
             "ticks": ""
            },
            "type": "contourcarpet"
           }
          ],
          "heatmap": [
           {
            "colorbar": {
             "outlinewidth": 0,
             "ticks": ""
            },
            "colorscale": [
             [
              0,
              "#0d0887"
             ],
             [
              0.1111111111111111,
              "#46039f"
             ],
             [
              0.2222222222222222,
              "#7201a8"
             ],
             [
              0.3333333333333333,
              "#9c179e"
             ],
             [
              0.4444444444444444,
              "#bd3786"
             ],
             [
              0.5555555555555556,
              "#d8576b"
             ],
             [
              0.6666666666666666,
              "#ed7953"
             ],
             [
              0.7777777777777778,
              "#fb9f3a"
             ],
             [
              0.8888888888888888,
              "#fdca26"
             ],
             [
              1,
              "#f0f921"
             ]
            ],
            "type": "heatmap"
           }
          ],
          "heatmapgl": [
           {
            "colorbar": {
             "outlinewidth": 0,
             "ticks": ""
            },
            "colorscale": [
             [
              0,
              "#0d0887"
             ],
             [
              0.1111111111111111,
              "#46039f"
             ],
             [
              0.2222222222222222,
              "#7201a8"
             ],
             [
              0.3333333333333333,
              "#9c179e"
             ],
             [
              0.4444444444444444,
              "#bd3786"
             ],
             [
              0.5555555555555556,
              "#d8576b"
             ],
             [
              0.6666666666666666,
              "#ed7953"
             ],
             [
              0.7777777777777778,
              "#fb9f3a"
             ],
             [
              0.8888888888888888,
              "#fdca26"
             ],
             [
              1,
              "#f0f921"
             ]
            ],
            "type": "heatmapgl"
           }
          ],
          "histogram": [
           {
            "marker": {
             "pattern": {
              "fillmode": "overlay",
              "size": 10,
              "solidity": 0.2
             }
            },
            "type": "histogram"
           }
          ],
          "histogram2d": [
           {
            "colorbar": {
             "outlinewidth": 0,
             "ticks": ""
            },
            "colorscale": [
             [
              0,
              "#0d0887"
             ],
             [
              0.1111111111111111,
              "#46039f"
             ],
             [
              0.2222222222222222,
              "#7201a8"
             ],
             [
              0.3333333333333333,
              "#9c179e"
             ],
             [
              0.4444444444444444,
              "#bd3786"
             ],
             [
              0.5555555555555556,
              "#d8576b"
             ],
             [
              0.6666666666666666,
              "#ed7953"
             ],
             [
              0.7777777777777778,
              "#fb9f3a"
             ],
             [
              0.8888888888888888,
              "#fdca26"
             ],
             [
              1,
              "#f0f921"
             ]
            ],
            "type": "histogram2d"
           }
          ],
          "histogram2dcontour": [
           {
            "colorbar": {
             "outlinewidth": 0,
             "ticks": ""
            },
            "colorscale": [
             [
              0,
              "#0d0887"
             ],
             [
              0.1111111111111111,
              "#46039f"
             ],
             [
              0.2222222222222222,
              "#7201a8"
             ],
             [
              0.3333333333333333,
              "#9c179e"
             ],
             [
              0.4444444444444444,
              "#bd3786"
             ],
             [
              0.5555555555555556,
              "#d8576b"
             ],
             [
              0.6666666666666666,
              "#ed7953"
             ],
             [
              0.7777777777777778,
              "#fb9f3a"
             ],
             [
              0.8888888888888888,
              "#fdca26"
             ],
             [
              1,
              "#f0f921"
             ]
            ],
            "type": "histogram2dcontour"
           }
          ],
          "mesh3d": [
           {
            "colorbar": {
             "outlinewidth": 0,
             "ticks": ""
            },
            "type": "mesh3d"
           }
          ],
          "parcoords": [
           {
            "line": {
             "colorbar": {
              "outlinewidth": 0,
              "ticks": ""
             }
            },
            "type": "parcoords"
           }
          ],
          "pie": [
           {
            "automargin": true,
            "type": "pie"
           }
          ],
          "scatter": [
           {
            "fillpattern": {
             "fillmode": "overlay",
             "size": 10,
             "solidity": 0.2
            },
            "type": "scatter"
           }
          ],
          "scatter3d": [
           {
            "line": {
             "colorbar": {
              "outlinewidth": 0,
              "ticks": ""
             }
            },
            "marker": {
             "colorbar": {
              "outlinewidth": 0,
              "ticks": ""
             }
            },
            "type": "scatter3d"
           }
          ],
          "scattercarpet": [
           {
            "marker": {
             "colorbar": {
              "outlinewidth": 0,
              "ticks": ""
             }
            },
            "type": "scattercarpet"
           }
          ],
          "scattergeo": [
           {
            "marker": {
             "colorbar": {
              "outlinewidth": 0,
              "ticks": ""
             }
            },
            "type": "scattergeo"
           }
          ],
          "scattergl": [
           {
            "marker": {
             "colorbar": {
              "outlinewidth": 0,
              "ticks": ""
             }
            },
            "type": "scattergl"
           }
          ],
          "scattermapbox": [
           {
            "marker": {
             "colorbar": {
              "outlinewidth": 0,
              "ticks": ""
             }
            },
            "type": "scattermapbox"
           }
          ],
          "scatterpolar": [
           {
            "marker": {
             "colorbar": {
              "outlinewidth": 0,
              "ticks": ""
             }
            },
            "type": "scatterpolar"
           }
          ],
          "scatterpolargl": [
           {
            "marker": {
             "colorbar": {
              "outlinewidth": 0,
              "ticks": ""
             }
            },
            "type": "scatterpolargl"
           }
          ],
          "scatterternary": [
           {
            "marker": {
             "colorbar": {
              "outlinewidth": 0,
              "ticks": ""
             }
            },
            "type": "scatterternary"
           }
          ],
          "surface": [
           {
            "colorbar": {
             "outlinewidth": 0,
             "ticks": ""
            },
            "colorscale": [
             [
              0,
              "#0d0887"
             ],
             [
              0.1111111111111111,
              "#46039f"
             ],
             [
              0.2222222222222222,
              "#7201a8"
             ],
             [
              0.3333333333333333,
              "#9c179e"
             ],
             [
              0.4444444444444444,
              "#bd3786"
             ],
             [
              0.5555555555555556,
              "#d8576b"
             ],
             [
              0.6666666666666666,
              "#ed7953"
             ],
             [
              0.7777777777777778,
              "#fb9f3a"
             ],
             [
              0.8888888888888888,
              "#fdca26"
             ],
             [
              1,
              "#f0f921"
             ]
            ],
            "type": "surface"
           }
          ],
          "table": [
           {
            "cells": {
             "fill": {
              "color": "#EBF0F8"
             },
             "line": {
              "color": "white"
             }
            },
            "header": {
             "fill": {
              "color": "#C8D4E3"
             },
             "line": {
              "color": "white"
             }
            },
            "type": "table"
           }
          ]
         },
         "layout": {
          "annotationdefaults": {
           "arrowcolor": "#2a3f5f",
           "arrowhead": 0,
           "arrowwidth": 1
          },
          "autotypenumbers": "strict",
          "coloraxis": {
           "colorbar": {
            "outlinewidth": 0,
            "ticks": ""
           }
          },
          "colorscale": {
           "diverging": [
            [
             0,
             "#8e0152"
            ],
            [
             0.1,
             "#c51b7d"
            ],
            [
             0.2,
             "#de77ae"
            ],
            [
             0.3,
             "#f1b6da"
            ],
            [
             0.4,
             "#fde0ef"
            ],
            [
             0.5,
             "#f7f7f7"
            ],
            [
             0.6,
             "#e6f5d0"
            ],
            [
             0.7,
             "#b8e186"
            ],
            [
             0.8,
             "#7fbc41"
            ],
            [
             0.9,
             "#4d9221"
            ],
            [
             1,
             "#276419"
            ]
           ],
           "sequential": [
            [
             0,
             "#0d0887"
            ],
            [
             0.1111111111111111,
             "#46039f"
            ],
            [
             0.2222222222222222,
             "#7201a8"
            ],
            [
             0.3333333333333333,
             "#9c179e"
            ],
            [
             0.4444444444444444,
             "#bd3786"
            ],
            [
             0.5555555555555556,
             "#d8576b"
            ],
            [
             0.6666666666666666,
             "#ed7953"
            ],
            [
             0.7777777777777778,
             "#fb9f3a"
            ],
            [
             0.8888888888888888,
             "#fdca26"
            ],
            [
             1,
             "#f0f921"
            ]
           ],
           "sequentialminus": [
            [
             0,
             "#0d0887"
            ],
            [
             0.1111111111111111,
             "#46039f"
            ],
            [
             0.2222222222222222,
             "#7201a8"
            ],
            [
             0.3333333333333333,
             "#9c179e"
            ],
            [
             0.4444444444444444,
             "#bd3786"
            ],
            [
             0.5555555555555556,
             "#d8576b"
            ],
            [
             0.6666666666666666,
             "#ed7953"
            ],
            [
             0.7777777777777778,
             "#fb9f3a"
            ],
            [
             0.8888888888888888,
             "#fdca26"
            ],
            [
             1,
             "#f0f921"
            ]
           ]
          },
          "colorway": [
           "#636efa",
           "#EF553B",
           "#00cc96",
           "#ab63fa",
           "#FFA15A",
           "#19d3f3",
           "#FF6692",
           "#B6E880",
           "#FF97FF",
           "#FECB52"
          ],
          "font": {
           "color": "#2a3f5f"
          },
          "geo": {
           "bgcolor": "white",
           "lakecolor": "white",
           "landcolor": "#E5ECF6",
           "showlakes": true,
           "showland": true,
           "subunitcolor": "white"
          },
          "hoverlabel": {
           "align": "left"
          },
          "hovermode": "closest",
          "mapbox": {
           "style": "light"
          },
          "paper_bgcolor": "white",
          "plot_bgcolor": "#E5ECF6",
          "polar": {
           "angularaxis": {
            "gridcolor": "white",
            "linecolor": "white",
            "ticks": ""
           },
           "bgcolor": "#E5ECF6",
           "radialaxis": {
            "gridcolor": "white",
            "linecolor": "white",
            "ticks": ""
           }
          },
          "scene": {
           "xaxis": {
            "backgroundcolor": "#E5ECF6",
            "gridcolor": "white",
            "gridwidth": 2,
            "linecolor": "white",
            "showbackground": true,
            "ticks": "",
            "zerolinecolor": "white"
           },
           "yaxis": {
            "backgroundcolor": "#E5ECF6",
            "gridcolor": "white",
            "gridwidth": 2,
            "linecolor": "white",
            "showbackground": true,
            "ticks": "",
            "zerolinecolor": "white"
           },
           "zaxis": {
            "backgroundcolor": "#E5ECF6",
            "gridcolor": "white",
            "gridwidth": 2,
            "linecolor": "white",
            "showbackground": true,
            "ticks": "",
            "zerolinecolor": "white"
           }
          },
          "shapedefaults": {
           "line": {
            "color": "#2a3f5f"
           }
          },
          "ternary": {
           "aaxis": {
            "gridcolor": "white",
            "linecolor": "white",
            "ticks": ""
           },
           "baxis": {
            "gridcolor": "white",
            "linecolor": "white",
            "ticks": ""
           },
           "bgcolor": "#E5ECF6",
           "caxis": {
            "gridcolor": "white",
            "linecolor": "white",
            "ticks": ""
           }
          },
          "title": {
           "x": 0.05
          },
          "xaxis": {
           "automargin": true,
           "gridcolor": "white",
           "linecolor": "white",
           "ticks": "",
           "title": {
            "standoff": 15
           },
           "zerolinecolor": "white",
           "zerolinewidth": 2
          },
          "yaxis": {
           "automargin": true,
           "gridcolor": "white",
           "linecolor": "white",
           "ticks": "",
           "title": {
            "standoff": 15
           },
           "zerolinecolor": "white",
           "zerolinewidth": 2
          }
         }
        },
        "title": {
         "text": "Heat wave occurrence in Selected pixel by year for the period 1986-2086 rcp4.5 and 8.5 [health related]"
        },
        "width": 1100,
        "xaxis": {
         "autorange": true,
         "range": [
          1985.5,
          2085.5
         ],
         "title": {
          "text": "Year"
         },
         "type": "linear"
        },
        "yaxis": {
         "autorange": true,
         "range": [
          0,
          59.8891841665169
         ],
         "title": {
          "text": "Number of Heat-waves"
         },
         "type": "linear"
        }
       }
      },
      "image/png": "[encoded data removed]",
      "text/html": [
       "<div>                            <div id=\"8edfc186-cc27-47eb-84f9-22bbae6eadae\" class=\"plotly-graph-div\" style=\"height:500px; width:1100px;\"></div>            <script type=\"text/javascript\">                require([\"plotly\"], function(Plotly) {                    window.PLOTLYENV=window.PLOTLYENV || {};                                    if (document.getElementById(\"8edfc186-cc27-47eb-84f9-22bbae6eadae\")) {                    Plotly.newPlot(                        \"8edfc186-cc27-47eb-84f9-22bbae6eadae\",                        [{\"marker\":{\"color\":\"blue\"},\"name\":\"RCP 4.5\",\"x\":[1986,1987,1988,1989,1990,1991,1992,1993,1994,1995,1996,1997,1998,1999,2000,2001,2002,2003,2004,2005,2006,2007,2008,2009,2010,2011,2012,2013,2014,2015,2016,2017,2018,2019,2020,2021,2022,2023,2024,2025,2026,2027,2028,2029,2030,2031,2032,2033,2034,2035,2036,2037,2038,2039,2040,2041,2042,2043,2044,2045,2046,2047,2048,2049,2050,2051,2052,2053,2054,2055,2056,2057,2058,2059,2060,2061,2062,2063,2064,2065,2066,2067,2068,2069,2070,2071,2072,2073,2074,2075,2076,2077,2078,2079,2080,2081,2082,2083,2084,2085],\"y\":[10.811174392700195,11.000615119934082,11.022808074951172,10.90704345703125,10.68472957611084,11.182002067565918,11.907514572143555,12.206653594970703,12.233057022094727,12.516505241394043,12.811382293701172,13.196516990661621,13.556640625,13.742175102233887,13.994930267333984,14.383702278137207,15.009547233581543,15.098752975463867,15.618182182312012,16.264497756958008,16.570514678955078,16.608369827270508,16.969133377075195,16.794538497924805,16.921480178833008,17.447025299072266,17.80674934387207,18.139102935791016,18.442882537841797,18.479066848754883,18.671194076538086,18.99892234802246,19.00127410888672,19.147125244140625,19.89531898498535,19.792552947998047,19.514850616455078,19.916667938232422,20.464853286743164,21.238018035888672,21.59823989868164,22.054290771484375,22.445871353149414,22.791357040405273,22.905672073364258,23.5252685546875,23.33453369140625,23.82988929748535,24.261890411376953,24.152645111083984,24.64763641357422,24.97273063659668,25.167003631591797,25.648557662963867,26.506845474243164,27.018905639648438,27.69256591796875,27.74907875061035,27.879093170166016,28.551183700561523,28.348426818847656,28.57110023498535,28.98123550415039,29.651172637939453,29.852025985717773,30.194576263427734,30.932878494262695,30.957368850708008,30.85603141784668,30.5860595703125,30.657791137695312,30.59900665283203,30.86911392211914,30.71314239501953,31.04320526123047,31.01405143737793,31.389118194580078,31.34166717529297,31.145872116088867,31.508451461791992,31.742656707763672,32.4273567199707,32.416358947753906,32.536338806152344,32.358482360839844,31.9394474029541,32.00713348388672,32.45619583129883,32.87137222290039,32.900634765625,33.27425003051758,33.07701110839844,33.21036148071289,33.36487579345703,33.48853302001953,34.05702209472656,33.97365951538086,34.10092544555664,34.34202575683594,34.27903747558594],\"type\":\"bar\"},{\"marker\":{\"color\":\"red\"},\"name\":\"RCP 8.5\",\"opacity\":0.5,\"x\":[1986,1987,1988,1989,1990,1991,1992,1993,1994,1995,1996,1997,1998,1999,2000,2001,2002,2003,2004,2005,2006,2007,2008,2009,2010,2011,2012,2013,2014,2015,2016,2017,2018,2019,2020,2021,2022,2023,2024,2025,2026,2027,2028,2029,2030,2031,2032,2033,2034,2035,2036,2037,2038,2039,2040,2041,2042,2043,2044,2045,2046,2047,2048,2049,2050,2051,2052,2053,2054,2055,2056,2057,2058,2059,2060,2061,2062,2063,2064,2065,2066,2067,2068,2069,2070,2071,2072,2073,2074,2075,2076,2077,2078,2079,2080,2081,2082,2083,2084,2085],\"y\":[10.811174392700195,11.000615119934082,11.022808074951172,10.90704345703125,10.68472957611084,11.182002067565918,11.63426399230957,11.807478904724121,12.112106323242188,12.093183517456055,12.465943336486816,12.8677396774292,13.056539535522461,13.509293556213379,14.02072811126709,14.74478530883789,15.198472023010254,15.529423713684082,16.141536712646484,16.610034942626953,17.173463821411133,17.425703048706055,17.85530662536621,17.935832977294922,18.243642807006836,18.69285011291504,19.39006233215332,19.706186294555664,20.17987823486328,20.50395965576172,20.175289154052734,20.5331974029541,20.81844139099121,21.397661209106445,22.08933448791504,22.18695831298828,22.308269500732422,22.767961502075195,22.59579086303711,23.101211547851562,23.2326717376709,23.371580123901367,23.847997665405273,24.103044509887695,24.398408889770508,24.244295120239258,24.82676887512207,24.677265167236328,24.666627883911133,24.970884323120117,25.152767181396484,25.91478729248047,25.964853286743164,26.5329532623291,27.098819732666016,27.6728458404541,28.141895294189453,28.74248695373535,28.856258392333984,28.793827056884766,29.89384651184082,30.13224983215332,30.603485107421875,30.930814743041992,31.546092987060547,32.27116012573242,32.75860595703125,32.90896224975586,33.83489990234375,34.37114715576172,35.18329620361328,36.12312316894531,36.75593948364258,37.307708740234375,37.52027893066406,38.346675872802734,38.83906936645508,40.31319046020508,41.573875427246094,42.77802276611328,43.112361907958984,43.43601608276367,43.960514068603516,44.78684997558594,45.16407775878906,45.79890823364258,46.37240982055664,47.05935287475586,47.89866256713867,49.1143684387207,50.17781066894531,51.125404357910156,51.42299270629883,52.434051513671875,53.01036071777344,53.53300476074219,54.371986389160156,55.01689529418945,55.879783630371094,56.67048645019531],\"type\":\"bar\"},{\"line\":{\"color\":\"blue\"},\"mode\":\"lines\",\"name\":\"RCP 4.5 trend\",\"x\":[1986,1987,1988,1989,1990,1991,1992,1993,1994,1995,1996,1997,1998,1999,2000,2001,2002,2003,2004,2005,2006,2007,2008,2009,2010,2011,2012,2013,2014,2015,2016,2017,2018,2019,2020,2021,2022,2023,2024,2025,2026,2027,2028,2029,2030,2031,2032,2033,2034,2035,2036,2037,2038,2039,2040,2041,2042,2043,2044,2045,2046,2047,2048,2049,2050,2051,2052,2053,2054,2055,2056,2057,2058,2059,2060,2061,2062,2063,2064,2065,2066,2067,2068,2069,2070,2071,2072,2073,2074,2075,2076,2077,2078,2079,2080,2081,2082,2083,2084,2085],\"y\":[9.21278402259062,9.58720912551095,9.959290719735714,10.329028805264906,10.69642338209853,11.061474450236584,11.424182009679072,11.784546060425988,12.142566602477334,12.498243635833113,12.851577160493322,13.202567176457963,13.551213683727035,13.897516682300534,14.241476172178468,14.58309215336083,14.922364625847624,15.259293589638851,15.593879044734507,15.926120991134594,16.25601942883911,16.58357435784806,16.90878577816144,17.23165368977925,17.552178092701492,17.870358986928167,18.186196372459268,18.4996902492948,18.810840617434764,19.119647476879162,19.426110827627987,19.730230669681248,20.032007003038935,20.331439827701054,20.628529143667603,20.923274950938584,21.215677249513995,21.505736039393838,21.793451320578114,22.078823093066816,22.36185135685995,22.64253611195752,22.920877358359515,23.196875096065945,23.470529325076804,23.74184004539209,24.010807257011813,24.277430959935963,24.541711154164545,24.80364783969756,25.063241016535002,25.320490684676876,25.575396844123183,25.827959494873923,26.07817863692909,26.326054270288687,26.571586394952718,26.814775010921174,27.05562011819407,27.294121716771386,27.53027980665314,27.76409438783933,27.995565460329935,28.22469302412499,28.45147707922446,28.675917625628365,28.898014663336703,29.117768192349473,29.33517821266667,29.550244724288305,29.762967727214367,29.97334722144486,30.18138320697978,30.387075683819134,30.59042465196292,30.791430111411138,30.990092062163782,31.18641050422086,31.38038543758237,31.572016862248304,31.76130477821868,31.94824918549348,32.13285008407271,32.315107473956374,32.495021355144466,32.67259172763699,32.84781859143395,33.02070194653533,33.191241792941156,33.359438130651405,33.52529095966608,33.68880027998519,33.84996609160873,34.0087883945367,34.1652671887691,34.31940247430594,34.471194251147196,34.62064251929289,34.76774727874302,34.91250852949758],\"type\":\"scatter\"},{\"line\":{\"color\":\"red\"},\"mode\":\"lines\",\"name\":\"RCP 8.5 trend\",\"x\":[1986,1987,1988,1989,1990,1991,1992,1993,1994,1995,1996,1997,1998,1999,2000,2001,2002,2003,2004,2005,2006,2007,2008,2009,2010,2011,2012,2013,2014,2015,2016,2017,2018,2019,2020,2021,2022,2023,2024,2025,2026,2027,2028,2029,2030,2031,2032,2033,2034,2035,2036,2037,2038,2039,2040,2041,2042,2043,2044,2045,2046,2047,2048,2049,2050,2051,2052,2053,2054,2055,2056,2057,2058,2059,2060,2061,2062,2063,2064,2065,2066,2067,2068,2069,2070,2071,2072,2073,2074,2075,2076,2077,2078,2079,2080,2081,2082,2083,2084,2085],\"y\":[11.92971661178331,12.062843873317572,12.202279601640033,12.348023796750693,12.500076458649554,12.658437587336614,12.823107182811874,12.994085245075334,13.171371774126994,13.354966769966852,13.54487023259491,13.741082162011168,13.943602558215627,14.152431421208282,14.36756875098914,14.589014547558197,14.816768810915452,15.050831541060909,15.291202737994563,15.537882401716418,15.790870532226473,16.050167129524727,16.31577219361118,16.587685724485834,16.865907722148684,17.15043818659974,17.44127711783899,17.73842451586644,18.041880380682095,18.351644712285946,18.667717510677996,18.990098775858243,19.318788507826696,19.653786706583343,19.995093372128196,20.342708504461243,20.696632103582488,21.056864169491938,21.423404702189586,21.796253701675433,22.175411167949477,22.560877101011727,22.952651500862167,23.350734367500813,23.755125700927657,24.165825501142702,24.582833768145946,25.00615050193739,25.435775702517034,25.87170936988488,26.313951504040922,26.762502104985163,27.217361172717606,27.678528707238247,28.146004708547085,28.619789176644126,29.099882111529368,29.586283513202808,30.07899338166445,30.57801171691429,31.083338518952328,31.594973787778564,32.112917523393,32.63716972579564,33.16773039498648,33.70459953096551,34.247777133732754,34.79726320328818,35.35305773963182,35.91516074276366,36.48357221268369,37.058292149391924,37.639320552888364,38.226657423172995,38.82030276024582,39.42025656410686,40.02651883475609,40.63908957219353,41.257968776419155,41.88315644743299,42.51465258523501,43.15245718982524,43.79657026120368,44.44699179937031,45.10372180432513,45.76676027606817,46.43610721459939,47.11176261991882,47.79372649202645,48.48199883092228,49.176579636606306,49.87746890907853,50.58466664833895,51.29817285438757,52.017987527224406,52.74411066684942,53.47654227326265,54.21528234646408,54.960330886453704,55.71168789323153],\"type\":\"scatter\"},{\"fill\":\"toself\",\"fillcolor\":\"rgba(0,0,255,0.2)\",\"hoverinfo\":\"skip\",\"line\":{\"color\":\"rgba(255,255,255,0)\"},\"showlegend\":false,\"x\":[1986,1987,1988,1989,1990,1991,1992,1993,1994,1995,1996,1997,1998,1999,2000,2001,2002,2003,2004,2005,2006,2007,2008,2009,2010,2011,2012,2013,2014,2015,2016,2017,2018,2019,2020,2021,2022,2023,2024,2025,2026,2027,2028,2029,2030,2031,2032,2033,2034,2035,2036,2037,2038,2039,2040,2041,2042,2043,2044,2045,2046,2047,2048,2049,2050,2051,2052,2053,2054,2055,2056,2057,2058,2059,2060,2061,2062,2063,2064,2065,2066,2067,2068,2069,2070,2071,2072,2073,2074,2075,2076,2077,2078,2079,2080,2081,2082,2083,2084,2085,2085,2084,2083,2082,2081,2080,2079,2078,2077,2076,2075,2074,2073,2072,2071,2070,2069,2068,2067,2066,2065,2064,2063,2062,2061,2060,2059,2058,2057,2056,2055,2054,2053,2052,2051,2050,2049,2048,2047,2046,2045,2044,2043,2042,2041,2040,2039,2038,2037,2036,2035,2034,2033,2032,2031,2030,2029,2028,2027,2026,2025,2024,2023,2022,2021,2020,2019,2018,2017,2016,2015,2014,2013,2012,2011,2010,2009,2008,2007,2006,2005,2004,2003,2002,2001,2000,1999,1998,1997,1996,1995,1994,1993,1992,1991,1990,1989,1988,1987,1986],\"y\":[9.967761975744999,10.34218707866533,10.714268672890093,11.084006758419285,11.451401335252909,11.816452403390963,12.17915996283345,12.539524013580367,12.897544555631713,13.253221588987492,13.606555113647701,13.957545129612342,14.306191636881413,14.652494635454913,14.996454125332846,15.33807010651521,15.677342579002003,16.01427154279323,16.348856997888888,16.681098944288973,17.01099738199349,17.33855231100244,17.66376373131582,17.98663164293363,18.307156045855873,18.625336940082548,18.941174325613648,19.25466820244918,19.565818570589144,19.874625430033543,20.181088780782368,20.48520862283563,20.786984956193315,21.086417780855435,21.383507096821983,21.678252904092965,21.970655202668375,22.26071399254822,22.548429273732495,22.833801046221197,23.11682931001433,23.3975140651119,23.675855311513896,23.951853049220325,24.225507278231184,24.496817998546472,24.765785210166193,25.032408913090343,25.296689107318926,25.55862579285194,25.818218969689383,26.075468637831257,26.330374797277564,26.582937448028304,26.83315659008347,27.081032223443067,27.326564348107098,27.569752964075555,27.81059807134845,28.049099669925766,28.28525775980752,28.51907234099371,28.750543413484316,28.97967097727937,29.20645503237884,29.430895578782746,29.652992616491083,29.872746145503854,30.09015616582105,30.305222677442686,30.517945680368747,30.72832517459924,30.93636116013416,31.142053636973515,31.3454026051173,31.54640806456552,31.745070015318163,31.94138845737524,32.13536339073675,32.326994815402685,32.51628273137306,32.70322713864786,32.88782803722709,33.070085427110754,33.24999930829885,33.42756968079137,33.60279654458833,33.77567989968971,33.94621974609554,34.114416083805786,34.28026891282046,34.44377823313957,34.60494404476311,34.76376634769108,34.92024514192348,35.07438042746032,35.22617220430158,35.375620472447274,35.522725231897404,35.66748648265196,34.1575305763432,34.01276932558864,33.86566456613851,33.716216297992815,33.56442452115156,33.41028923561472,33.25381044138232,33.09498813845435,32.93382232683081,32.7703130065117,32.604460177497025,32.436263839786776,32.26572399338095,32.09284063827957,31.91761377448261,31.740043401990086,31.560129520801993,31.377872130918327,31.1932712323391,31.0063268250643,30.817038909093924,30.62540748442799,30.43143255106648,30.2351141090094,30.036452158256758,29.83544669880854,29.632097730664753,29.4264052538254,29.21836926829048,29.007989774059986,28.795266771133925,28.58020025951229,28.362790239195093,28.143036710182322,27.920939672473985,27.69649912607008,27.469715070970608,27.240587507175555,27.009116434684948,26.77530185349876,26.539143763617005,26.30064216503969,26.059797057766794,25.816608441798337,25.571076317134306,25.323200683774708,25.072981541719543,24.820418890968803,24.565512731522496,24.308263063380622,24.04866988654318,23.786733201010165,23.522453006781582,23.255829303857432,22.98686209223771,22.715551371922423,22.441897142911564,22.165899405205135,21.887558158803138,21.60687340370557,21.323845139912436,21.038473367423734,20.750758086239458,20.460699296359614,20.168296997784203,19.873551190513222,19.576461874546673,19.277029049884554,18.975252716526867,18.671132874473606,18.364669523724782,18.055862664280383,17.74471229614042,17.431218419304887,17.115381033773787,16.79720013954711,16.47667573662487,16.15380782500706,15.828596404693682,15.501041475684731,15.171143037980215,14.838901091580128,14.504315636484472,14.167386672693246,13.828114200206452,13.486498219024089,13.142538729146155,12.796235730572656,12.447589223303584,12.096599207338944,11.743265682678734,11.387588649322955,11.02956810727161,10.669204056524693,10.306496497082206,9.941445428944151,9.574050852110528,9.204312766581335,8.832231172356572,8.457806069436241],\"type\":\"scatter\"},{\"fill\":\"toself\",\"fillcolor\":\"rgba(255,0,0,0.2)\",\"hoverinfo\":\"skip\",\"line\":{\"color\":\"rgba(255,255,255,0)\"},\"showlegend\":false,\"x\":[1986,1987,1988,1989,1990,1991,1992,1993,1994,1995,1996,1997,1998,1999,2000,2001,2002,2003,2004,2005,2006,2007,2008,2009,2010,2011,2012,2013,2014,2015,2016,2017,2018,2019,2020,2021,2022,2023,2024,2025,2026,2027,2028,2029,2030,2031,2032,2033,2034,2035,2036,2037,2038,2039,2040,2041,2042,2043,2044,2045,2046,2047,2048,2049,2050,2051,2052,2053,2054,2055,2056,2057,2058,2059,2060,2061,2062,2063,2064,2065,2066,2067,2068,2069,2070,2071,2072,2073,2074,2075,2076,2077,2078,2079,2080,2081,2082,2083,2084,2085,2085,2084,2083,2082,2081,2080,2079,2078,2077,2076,2075,2074,2073,2072,2071,2070,2069,2068,2067,2066,2065,2064,2063,2062,2061,2060,2059,2058,2057,2056,2055,2054,2053,2052,2051,2050,2049,2048,2047,2046,2045,2044,2043,2042,2041,2040,2039,2038,2037,2036,2035,2034,2033,2032,2031,2030,2029,2028,2027,2026,2025,2024,2023,2022,2021,2020,2019,2018,2017,2016,2015,2014,2013,2012,2011,2010,2009,2008,2007,2006,2005,2004,2003,2002,2001,2000,1999,1998,1997,1996,1995,1994,1993,1992,1991,1990,1989,1988,1987,1986],\"y\":[13.112753676742836,13.245880938277098,13.385316666599559,13.53106086171022,13.68311352360908,13.84147465229614,14.0061442477714,14.17712231003486,14.35440883908652,14.538003834926378,14.727907297554436,14.924119226970694,15.126639623175153,15.335468486167809,15.550605815948666,15.772051612517723,15.999805875874978,16.233868606020433,16.474239802954088,16.720919466675944,16.973907597186,17.23320419448425,17.498809258570706,17.770722789445358,18.04894478710821,18.333475251559264,18.624314182798514,18.921461580825966,19.22491744564162,19.53468177724547,19.85075457563752,20.173135840817768,20.50182557278622,20.836823771542868,21.17813043708772,21.525745569420767,21.879669168542012,22.239901234451462,22.60644176714911,22.979290766634957,23.358448232909,23.74391416597125,24.13568856582169,24.533771432460338,24.93816276588718,25.348862566102227,25.76587083310547,26.189187566896916,26.61881276747656,27.054746434844404,27.496988569000447,27.945539169944688,28.40039823767713,28.86156577219777,29.32904177350661,29.80282624160365,30.282919176488893,30.769320578162333,31.262030446623974,31.761048781873814,32.26637558391185,32.77801085273809,33.29595458835253,33.820206790755165,34.350767459946006,34.88763659592504,35.43081419869228,35.98030026824771,36.53609480459135,37.09819780772319,37.66660927764322,38.24132921435145,38.82235761784789,39.40969448813252,40.00333982520535,40.603293629066386,41.20955589971562,41.822126637153055,42.44100584137868,43.066193512392516,43.69768965019454,44.33549425478477,44.979607326163205,45.63002886432984,46.28675886928466,46.9497973410277,47.61914427955892,48.29479968487835,48.97676355698598,49.66503589588181,50.359616701565834,51.06050597403806,51.76770371329848,52.4812099193471,53.201024592183934,53.92714773180895,54.65957933822218,55.39831941142361,56.14336795141323,56.894724958191055,54.528650828272,53.777293821494176,53.03224528150455,52.293505208303124,51.561073601889895,50.83495046226488,50.115135789428045,49.401629583379425,48.694431844119,47.99354257164678,47.29896176596275,46.61068942706692,45.92872555495929,45.25307014963986,44.58372321110864,43.920684739365605,43.26395473441078,42.61353319624415,41.969420124865714,41.331615520275484,40.70011938247346,40.07493171145963,39.456052507234,38.84348176979656,38.23721949914733,37.637265695286295,37.04362035821347,36.456283487928836,35.875255084432396,35.30053514772416,34.73212367780413,34.170020674672294,33.614226138328654,33.064740068773226,32.52156246600598,31.984693330026953,31.454132660836112,30.929880458433477,30.41193672281904,29.900301453992803,29.394974651954765,28.895956316704925,28.403246448243284,27.916845046569843,27.4367521116846,26.96296764358756,26.495491642278722,26.03432410775808,25.57946504002564,25.130914439081398,24.688672304925355,24.25273863755751,23.823113436977867,23.39979670318642,22.982788436183178,22.572088635968132,22.16769730254129,21.769614435902643,21.377840036052202,20.992374102989952,20.613216636715908,20.24036763723006,19.873827104532413,19.513595038622963,19.159671439501718,18.81205630716867,18.47074964162382,18.13575144286717,17.80706171089872,17.48468044571847,17.16860764732642,16.85884331572257,16.555387450906917,16.258240052879465,15.967401121640213,15.682870657189158,15.404648659526307,15.132735128651655,14.8671300645652,14.607833467266946,14.354845336756892,14.108165673035037,13.867794476101382,13.633731745955926,13.40597748259867,13.184531686029613,12.969394356248756,12.7605654932561,12.558045097051641,12.361833167635384,12.171929705007326,11.988334709167468,11.811048180115808,11.640070117852348,11.475400522377088,11.317039393690028,11.164986731791167,11.019242536680506,10.879806808358046,10.746679546823783],\"type\":\"scatter\"}],                        {\"template\":{\"data\":{\"histogram2dcontour\":[{\"type\":\"histogram2dcontour\",\"colorbar\":{\"outlinewidth\":0,\"ticks\":\"\"},\"colorscale\":[[0.0,\"#0d0887\"],[0.1111111111111111,\"#46039f\"],[0.2222222222222222,\"#7201a8\"],[0.3333333333333333,\"#9c179e\"],[0.4444444444444444,\"#bd3786\"],[0.5555555555555556,\"#d8576b\"],[0.6666666666666666,\"#ed7953\"],[0.7777777777777778,\"#fb9f3a\"],[0.8888888888888888,\"#fdca26\"],[1.0,\"#f0f921\"]]}],\"choropleth\":[{\"type\":\"choropleth\",\"colorbar\":{\"outlinewidth\":0,\"ticks\":\"\"}}],\"histogram2d\":[{\"type\":\"histogram2d\",\"colorbar\":{\"outlinewidth\":0,\"ticks\":\"\"},\"colorscale\":[[0.0,\"#0d0887\"],[0.1111111111111111,\"#46039f\"],[0.2222222222222222,\"#7201a8\"],[0.3333333333333333,\"#9c179e\"],[0.4444444444444444,\"#bd3786\"],[0.5555555555555556,\"#d8576b\"],[0.6666666666666666,\"#ed7953\"],[0.7777777777777778,\"#fb9f3a\"],[0.8888888888888888,\"#fdca26\"],[1.0,\"#f0f921\"]]}],\"heatmap\":[{\"type\":\"heatmap\",\"colorbar\":{\"outlinewidth\":0,\"ticks\":\"\"},\"colorscale\":[[0.0,\"#0d0887\"],[0.1111111111111111,\"#46039f\"],[0.2222222222222222,\"#7201a8\"],[0.3333333333333333,\"#9c179e\"],[0.4444444444444444,\"#bd3786\"],[0.5555555555555556,\"#d8576b\"],[0.6666666666666666,\"#ed7953\"],[0.7777777777777778,\"#fb9f3a\"],[0.8888888888888888,\"#fdca26\"],[1.0,\"#f0f921\"]]}],\"heatmapgl\":[{\"type\":\"heatmapgl\",\"colorbar\":{\"outlinewidth\":0,\"ticks\":\"\"},\"colorscale\":[[0.0,\"#0d0887\"],[0.1111111111111111,\"#46039f\"],[0.2222222222222222,\"#7201a8\"],[0.3333333333333333,\"#9c179e\"],[0.4444444444444444,\"#bd3786\"],[0.5555555555555556,\"#d8576b\"],[0.6666666666666666,\"#ed7953\"],[0.7777777777777778,\"#fb9f3a\"],[0.8888888888888888,\"#fdca26\"],[1.0,\"#f0f921\"]]}],\"contourcarpet\":[{\"type\":\"contourcarpet\",\"colorbar\":{\"outlinewidth\":0,\"ticks\":\"\"}}],\"contour\":[{\"type\":\"contour\",\"colorbar\":{\"outlinewidth\":0,\"ticks\":\"\"},\"colorscale\":[[0.0,\"#0d0887\"],[0.1111111111111111,\"#46039f\"],[0.2222222222222222,\"#7201a8\"],[0.3333333333333333,\"#9c179e\"],[0.4444444444444444,\"#bd3786\"],[0.5555555555555556,\"#d8576b\"],[0.6666666666666666,\"#ed7953\"],[0.7777777777777778,\"#fb9f3a\"],[0.8888888888888888,\"#fdca26\"],[1.0,\"#f0f921\"]]}],\"surface\":[{\"type\":\"surface\",\"colorbar\":{\"outlinewidth\":0,\"ticks\":\"\"},\"colorscale\":[[0.0,\"#0d0887\"],[0.1111111111111111,\"#46039f\"],[0.2222222222222222,\"#7201a8\"],[0.3333333333333333,\"#9c179e\"],[0.4444444444444444,\"#bd3786\"],[0.5555555555555556,\"#d8576b\"],[0.6666666666666666,\"#ed7953\"],[0.7777777777777778,\"#fb9f3a\"],[0.8888888888888888,\"#fdca26\"],[1.0,\"#f0f921\"]]}],\"mesh3d\":[{\"type\":\"mesh3d\",\"colorbar\":{\"outlinewidth\":0,\"ticks\":\"\"}}],\"scatter\":[{\"fillpattern\":{\"fillmode\":\"overlay\",\"size\":10,\"solidity\":0.2},\"type\":\"scatter\"}],\"parcoords\":[{\"type\":\"parcoords\",\"line\":{\"colorbar\":{\"outlinewidth\":0,\"ticks\":\"\"}}}],\"scatterpolargl\":[{\"type\":\"scatterpolargl\",\"marker\":{\"colorbar\":{\"outlinewidth\":0,\"ticks\":\"\"}}}],\"bar\":[{\"error_x\":{\"color\":\"#2a3f5f\"},\"error_y\":{\"color\":\"#2a3f5f\"},\"marker\":{\"line\":{\"color\":\"#E5ECF6\",\"width\":0.5},\"pattern\":{\"fillmode\":\"overlay\",\"size\":10,\"solidity\":0.2}},\"type\":\"bar\"}],\"scattergeo\":[{\"type\":\"scattergeo\",\"marker\":{\"colorbar\":{\"outlinewidth\":0,\"ticks\":\"\"}}}],\"scatterpolar\":[{\"type\":\"scatterpolar\",\"marker\":{\"colorbar\":{\"outlinewidth\":0,\"ticks\":\"\"}}}],\"histogram\":[{\"marker\":{\"pattern\":{\"fillmode\":\"overlay\",\"size\":10,\"solidity\":0.2}},\"type\":\"histogram\"}],\"scattergl\":[{\"type\":\"scattergl\",\"marker\":{\"colorbar\":{\"outlinewidth\":0,\"ticks\":\"\"}}}],\"scatter3d\":[{\"type\":\"scatter3d\",\"line\":{\"colorbar\":{\"outlinewidth\":0,\"ticks\":\"\"}},\"marker\":{\"colorbar\":{\"outlinewidth\":0,\"ticks\":\"\"}}}],\"scattermapbox\":[{\"type\":\"scattermapbox\",\"marker\":{\"colorbar\":{\"outlinewidth\":0,\"ticks\":\"\"}}}],\"scatterternary\":[{\"type\":\"scatterternary\",\"marker\":{\"colorbar\":{\"outlinewidth\":0,\"ticks\":\"\"}}}],\"scattercarpet\":[{\"type\":\"scattercarpet\",\"marker\":{\"colorbar\":{\"outlinewidth\":0,\"ticks\":\"\"}}}],\"carpet\":[{\"aaxis\":{\"endlinecolor\":\"#2a3f5f\",\"gridcolor\":\"white\",\"linecolor\":\"white\",\"minorgridcolor\":\"white\",\"startlinecolor\":\"#2a3f5f\"},\"baxis\":{\"endlinecolor\":\"#2a3f5f\",\"gridcolor\":\"white\",\"linecolor\":\"white\",\"minorgridcolor\":\"white\",\"startlinecolor\":\"#2a3f5f\"},\"type\":\"carpet\"}],\"table\":[{\"cells\":{\"fill\":{\"color\":\"#EBF0F8\"},\"line\":{\"color\":\"white\"}},\"header\":{\"fill\":{\"color\":\"#C8D4E3\"},\"line\":{\"color\":\"white\"}},\"type\":\"table\"}],\"barpolar\":[{\"marker\":{\"line\":{\"color\":\"#E5ECF6\",\"width\":0.5},\"pattern\":{\"fillmode\":\"overlay\",\"size\":10,\"solidity\":0.2}},\"type\":\"barpolar\"}],\"pie\":[{\"automargin\":true,\"type\":\"pie\"}]},\"layout\":{\"autotypenumbers\":\"strict\",\"colorway\":[\"#636efa\",\"#EF553B\",\"#00cc96\",\"#ab63fa\",\"#FFA15A\",\"#19d3f3\",\"#FF6692\",\"#B6E880\",\"#FF97FF\",\"#FECB52\"],\"font\":{\"color\":\"#2a3f5f\"},\"hovermode\":\"closest\",\"hoverlabel\":{\"align\":\"left\"},\"paper_bgcolor\":\"white\",\"plot_bgcolor\":\"#E5ECF6\",\"polar\":{\"bgcolor\":\"#E5ECF6\",\"angularaxis\":{\"gridcolor\":\"white\",\"linecolor\":\"white\",\"ticks\":\"\"},\"radialaxis\":{\"gridcolor\":\"white\",\"linecolor\":\"white\",\"ticks\":\"\"}},\"ternary\":{\"bgcolor\":\"#E5ECF6\",\"aaxis\":{\"gridcolor\":\"white\",\"linecolor\":\"white\",\"ticks\":\"\"},\"baxis\":{\"gridcolor\":\"white\",\"linecolor\":\"white\",\"ticks\":\"\"},\"caxis\":{\"gridcolor\":\"white\",\"linecolor\":\"white\",\"ticks\":\"\"}},\"coloraxis\":{\"colorbar\":{\"outlinewidth\":0,\"ticks\":\"\"}},\"colorscale\":{\"sequential\":[[0.0,\"#0d0887\"],[0.1111111111111111,\"#46039f\"],[0.2222222222222222,\"#7201a8\"],[0.3333333333333333,\"#9c179e\"],[0.4444444444444444,\"#bd3786\"],[0.5555555555555556,\"#d8576b\"],[0.6666666666666666,\"#ed7953\"],[0.7777777777777778,\"#fb9f3a\"],[0.8888888888888888,\"#fdca26\"],[1.0,\"#f0f921\"]],\"sequentialminus\":[[0.0,\"#0d0887\"],[0.1111111111111111,\"#46039f\"],[0.2222222222222222,\"#7201a8\"],[0.3333333333333333,\"#9c179e\"],[0.4444444444444444,\"#bd3786\"],[0.5555555555555556,\"#d8576b\"],[0.6666666666666666,\"#ed7953\"],[0.7777777777777778,\"#fb9f3a\"],[0.8888888888888888,\"#fdca26\"],[1.0,\"#f0f921\"]],\"diverging\":[[0,\"#8e0152\"],[0.1,\"#c51b7d\"],[0.2,\"#de77ae\"],[0.3,\"#f1b6da\"],[0.4,\"#fde0ef\"],[0.5,\"#f7f7f7\"],[0.6,\"#e6f5d0\"],[0.7,\"#b8e186\"],[0.8,\"#7fbc41\"],[0.9,\"#4d9221\"],[1,\"#276419\"]]},\"xaxis\":{\"gridcolor\":\"white\",\"linecolor\":\"white\",\"ticks\":\"\",\"title\":{\"standoff\":15},\"zerolinecolor\":\"white\",\"automargin\":true,\"zerolinewidth\":2},\"yaxis\":{\"gridcolor\":\"white\",\"linecolor\":\"white\",\"ticks\":\"\",\"title\":{\"standoff\":15},\"zerolinecolor\":\"white\",\"automargin\":true,\"zerolinewidth\":2},\"scene\":{\"xaxis\":{\"backgroundcolor\":\"#E5ECF6\",\"gridcolor\":\"white\",\"linecolor\":\"white\",\"showbackground\":true,\"ticks\":\"\",\"zerolinecolor\":\"white\",\"gridwidth\":2},\"yaxis\":{\"backgroundcolor\":\"#E5ECF6\",\"gridcolor\":\"white\",\"linecolor\":\"white\",\"showbackground\":true,\"ticks\":\"\",\"zerolinecolor\":\"white\",\"gridwidth\":2},\"zaxis\":{\"backgroundcolor\":\"#E5ECF6\",\"gridcolor\":\"white\",\"linecolor\":\"white\",\"showbackground\":true,\"ticks\":\"\",\"zerolinecolor\":\"white\",\"gridwidth\":2}},\"shapedefaults\":{\"line\":{\"color\":\"#2a3f5f\"}},\"annotationdefaults\":{\"arrowcolor\":\"#2a3f5f\",\"arrowhead\":0,\"arrowwidth\":1},\"geo\":{\"bgcolor\":\"white\",\"landcolor\":\"#E5ECF6\",\"subunitcolor\":\"white\",\"showland\":true,\"showlakes\":true,\"lakecolor\":\"white\"},\"title\":{\"x\":0.05},\"mapbox\":{\"style\":\"light\"}}},\"legend\":{\"x\":0,\"y\":1,\"traceorder\":\"normal\",\"orientation\":\"h\"},\"title\":{\"text\":\"Heat wave occurrence in Selected pixel by year for the period 1986-2086 rcp4.5 and 8.5 [health related]\"},\"xaxis\":{\"title\":{\"text\":\"Year\"}},\"yaxis\":{\"title\":{\"text\":\"Number of Heat-waves\"}},\"width\":1100,\"height\":500},                        {\"responsive\": true}                    ).then(function(){\n",
       "                            \n",
       "var gd = document.getElementById('8edfc186-cc27-47eb-84f9-22bbae6eadae');\n",
       "var x = new MutationObserver(function (mutations, observer) {{\n",
       "        var display = window.getComputedStyle(gd).display;\n",
       "        if (!display || display === 'none') {{\n",
       "            console.log([gd, 'removed!']);\n",
       "            Plotly.purge(gd);\n",
       "            observer.disconnect();\n",
       "        }}\n",
       "}});\n",
       "\n",
       "// Listen for the removal of the full notebook cells\n",
       "var notebookContainer = gd.closest('#notebook-container');\n",
       "if (notebookContainer) {{\n",
       "    x.observe(notebookContainer, {childList: true});\n",
       "}}\n",
       "\n",
       "// Listen for the clearing of the current output cell\n",
       "var outputEl = gd.closest('.output');\n",
       "if (outputEl) {{\n",
       "    x.observe(outputEl, {childList: true});\n",
       "}}\n",
       "\n",
       "                        })                };                });            </script>        </div>"
      ]
     },
     "metadata": {},
     "output_type": "display_data"
    }
   ],
   "source": [
    "b = hwd45n\n",
    "t = hwd85n\n",
    "# Define years\n",
    "year = list(range(1986, 2086))\n",
    "# Fit polynomial regression curves (degree 2 for simplicity)\n",
    "b_poly = np.polyfit(np.arange(len(b)), b, 2)\n",
    "t_poly = np.polyfit(np.arange(len(t)), t, 2)\n",
    "# Calculate polynomial values\n",
    "b_poly_values = np.polyval(b_poly, np.arange(len(b)))\n",
    "t_poly_values = np.polyval(t_poly, np.arange(len(t)))\n",
    "# Calculate the residuals and standard error for b\n",
    "b_residuals = b - b_poly_values\n",
    "b_std_error = np.std(b_residuals)\n",
    "# Calculate the residuals and standard error for t\n",
    "t_residuals = t - t_poly_values\n",
    "t_std_error = np.std(t_residuals)\n",
    "# Create figure\n",
    "fig = go.Figure()\n",
    "# Add bar trace for 'b'\n",
    "fig.add_trace(go.Bar(x=year, y=b, name='RCP 4.5', marker_color='blue'))\n",
    "# Add bar trace for 't'\n",
    "fig.add_trace(go.Bar(x=year, y=t, name='RCP 8.5', opacity=0.5, marker_color='red'))\n",
    "# Add polynomial regression curve for 'b'\n",
    "fig.add_trace(go.Scatter(x=year, y=b_poly_values, mode='lines', name='RCP 4.5 trend', line=dict(color='blue')))\n",
    "# Add polynomial regression curve for 't'\n",
    "fig.add_trace(go.Scatter(x=year, y=t_poly_values, mode='lines', name='RCP 8.5 trend', line=dict(color='red')))\n",
    "# Add standard error band for 'b'\n",
    "fig.add_trace(go.Scatter(\n",
    "    x=year + year[::-1],\n",
    "    y=list(b_poly_values + b_std_error) + list((b_poly_values - b_std_error)[::-1]),\n",
    "    fill='toself',\n",
    "    fillcolor='rgba(0,0,255,0.2)',\n",
    "    line=dict(color='rgba(255,255,255,0)'),\n",
    "    hoverinfo=\"skip\",\n",
    "    showlegend=False\n",
    "))\n",
    "# Add standard error band for 't'\n",
    "fig.add_trace(go.Scatter(\n",
    "    x=year + year[::-1],\n",
    "    y=list(t_poly_values + t_std_error) + list((t_poly_values - t_std_error)[::-1]),\n",
    "    fill='toself',\n",
    "    fillcolor='rgba(255,0,0,0.2)',\n",
    "    line=dict(color='rgba(255,255,255,0)'),\n",
    "    hoverinfo=\"skip\",\n",
    "    showlegend=False\n",
    "))\n",
    "# Update layout\n",
    "fig.update_layout(\n",
    "    title='Heatwave occurrence in selected pixel by year for the period 1986-2086 rcp4.5 and 8.5 [national-related]',\n",
    "    xaxis_title='Year',\n",
    "    yaxis_title='Number of heatwaves',\n",
    "    legend=dict(x=0, y=1, traceorder='normal', orientation='h'),\n",
    "    width=1100,\n",
    "    height=500\n",
    ")\n",
    "fig.show()"
   ]
  },
  {
   "cell_type": "markdown",
   "id": "d55d8908-ec76-4171-9937-72b092b3b807",
   "metadata": {},
   "source": [
    "- **These data are provided only for the selected countries in the EU** list of selected countries (Belgium, Hungary, Italy, United Kingdom, Sweden, Lithuania, Latvia, Estonia, Finland)\n",
    "- the graph above plots the heatwave occurrence for selected pixel for 1986-2086 for rcp 4.5 and 8.5\n",
    "- these results are based on the **national-related** thresholds based on the EuroHEAT project [[source](https://confluence.ecmwf.int/display/CKB/Heat+waves+and+cold+spells+in+Europe+derived+from+climate+projections+documentation)]\n",
    "- the regression cure is plotted with the standard error around the line [[source](https://blog.minitab.com/en/adventures-in-statistics-2/regression-analysis-how-to-interpret-s-the-standard-error-of-the-regression)]"
   ]
  },
  {
   "cell_type": "markdown",
   "id": "2b5fac25-ce02-428f-aeab-5a83dec52f33",
   "metadata": {},
   "source": [
    "## Step 4: Conclusion for the Euroheat results"
   ]
  },
  {
   "cell_type": "markdown",
   "id": "cbee8742-2722-4c35-8213-1bdf4c92761c",
   "metadata": {},
   "source": [
    "- This notebook provides the results based on the precomputed data from the CDS. You can also see the results directly on the CDS [[source](https://cds.climate.copernicus.eu/cdsapp#!/software/app-health-heat-waves-projections?tab=app)] for the NUTS3 administrative regions resolution. However, this notebook provides a way to extract results for the selected pixel (12.5 x 12.5km) over the EU. \n",
    "- The results of the Euroheat methodology show the heat-wave occurrence for each year. We can plot the results based on the health-related thresholds or national-related thresholds (see the methodologies description Step: 1).\n",
    "- The health-related data are available for the whole EU, but the national-related data are available only for a few states (see the plot in 3.3)"
   ]
  },
  {
   "cell_type": "markdown",
   "id": "dc4aeae9-0887-4b03-8c3c-3b83c7523149",
   "metadata": {},
   "source": [
    "## References "
   ]
  },
  {
   "cell_type": "markdown",
   "id": "61407432-aa1c-4b50-871b-af8a22090c3f",
   "metadata": {},
   "source": [
    "- Copernicus Climate Data Store, Heat wave days for European countries derived from climate projections (2021), https://cds.climate.copernicus.eu/cdsapp#!/software/app-health-heat-waves-projections?tab=app [2024-06-17]. \n",
    "\n",
    "- Copernicus Climate Data Store, Heat wave days for Europe derived from ERA5 reanalysis (2021), https://cds.climate.copernicus.eu/cdsapp#!/software/app-health-heat-waves-current-climate?tab=app [2024-06-17].\n",
    "\n",
    "- Copernicus Climate Data Store, Heat wave days and heat-related mortality for nine European cities (2021), https://cds.climate.copernicus.eu/cdsapp#!/software/app-health-urban-heat-related-mortality-projections?tab=app [2024-06-17].\n",
    "\n",
    "- Copernicus Climate Data Store, Heat waves and cold spells in Europe derived from climate projections (2019), https://cds.climate.copernicus.eu/cdsapp#!/dataset/sis-heat-and-cold-spells?tab=overview [2024-06-17].\n",
    "\n",
    "- Climate adapt, Apparent temperature heat-wave days (2021), https://climate-adapt.eea.europa.eu/en/metadata/indicators/apparent-temperature-heatwave-days [2024-06-17].\n",
    "\n",
    "- Hooyberghs, H., Berckmans, J., Lefebre, F., De Ridder, K. (2019): Heat waves and cold spells in Europe derived from climate projections. Copernicus Climate Change Service (C3S) Climate Data Store (CDS). DOI: 10.24381/cds.9e7ca677 (Accessed on 06-17-2024)\n",
    "\n",
    "- Climate adapt, Tropical nights (2021), https://climate-adapt.eea.europa.eu/en/observatory/++aq++metadata/indicators/tropical-nights/ [2024-06-17].\n",
    "\n",
    "- Climate adapt, High UTCI Days (2021), https://climate-adapt.eea.europa.eu/en/metadata/indicators/high-utci-days [2024-06-17].\n",
    "\n",
    "- Climate adapt, EuroHEATonline heat-wave forecast (2007), https://climate-adapt.eea.europa.eu/en/metadata/tools/euroheat-online-heatwave-forecast [2024-06-17]"
   ]
  },
  {
   "cell_type": "markdown",
   "id": "5165e9a9-c4b6-49f6-b1db-15731de5ecba",
   "metadata": {},
   "source": [
    "## Authors "
   ]
  },
  {
   "cell_type": "markdown",
   "id": "f8b3f662-92d4-40bf-9f56-711fdd54a847",
   "metadata": {},
   "source": [
    "- Martin Kuban, KAJO services (martin.kuban@kajoservices.com)\n",
    "- Milan Kalas, KAJO services (milan.kalas@kajoservices.com)"
   ]
  }
 ],
 "metadata": {
  "kernelspec": {
   "display_name": "Python 3 (ipykernel)",
   "language": "python",
   "name": "python3"
  },
  "language_info": {
   "codemirror_mode": {
    "name": "ipython",
    "version": 3
   },
   "file_extension": ".py",
   "mimetype": "text/x-python",
   "name": "python",
   "nbconvert_exporter": "python",
   "pygments_lexer": "ipython3",
   "version": "3.11.7"
  }
 },
 "nbformat": 4,
 "nbformat_minor": 5
}
