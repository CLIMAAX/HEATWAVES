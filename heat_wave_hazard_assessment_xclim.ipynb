{
 "cells": [
  {
   "cell_type": "markdown",
   "id": "66cd5d38-1e96-43a0-802e-1bc31e97737c",
   "metadata": {},
   "source": [
    "# Heatwave hazard assessment based on EURO-CORDEX data analysis"
   ]
  },
  {
   "cell_type": "markdown",
   "id": "b89c056e",
   "metadata": {},
   "source": [
    "## Description of the assessment"
   ]
  },
  {
   "cell_type": "markdown",
   "id": "e1a98f98-1c6f-4754-99d2-48f4740ec03d",
   "metadata": {},
   "source": [
    "In this workflow we will assess the heatwave hazard by directly analyzing EURO-CORDEX climate model data, making use of the [xclim package](https://xclim.readthedocs.io/en/stable/indices.html) to compute heatwave indicators.  \n",
    "\n",
    "Xclim package allows to identify hot and cold spells in the data, calculate heatwave frequency (per year) and total length of heatwaves.\n",
    "\n",
    "In this workflow the heatwave definition is based on user-defined absolute temperature thresholds for the maximum and minimum daily temperatures (i.e. day and night temperatures), and a mimimum time duration (e.g. 2 or 3 days). Using absolute thresholds for temperature requires input from the user, these limits can be made specific to the region of interest and based on expected health impacts.\n",
    "\n",
    "The calculation is based on climate data with resolution of 12x12km (EURO-CORDEX), where data is available for 1971-2100.\n",
    "\n",
    "**Advantages of using this methodology:**\n",
    "- Heatwave calculation based on the minimum and maximum temperature, suitable also for the regions where the temperature can significantly cool down at night.\n",
    "- Flexibility of the methodology: the possibility of changing the temperature thresholds according to the needs of the user.\n",
    "\n",
    "**Disadvantages:**\n",
    "- Computationally intensive due to the large amount of data.\n",
    "- Heatwaves are estimated on a yearly basis - not possible to analyze seasonal heatwaves."
   ]
  },
  {
   "cell_type": "markdown",
   "id": "e8807817-b472-4d82-9c18-39aa1570b01e",
   "metadata": {},
   "source": [
    "## Step 1: Preparation work"
   ]
  },
  {
   "cell_type": "markdown",
   "id": "ab3b4a3c-28e6-4f21-8999-c98904083dd5",
   "metadata": {},
   "source": [
    "### Import packages"
   ]
  },
  {
   "cell_type": "markdown",
   "id": "e67a11f1-3169-4166-9c74-381527558b47",
   "metadata": {},
   "source": [
    ":::{admonition} In this notebook we will use the following Python libraries:\n",
    ":class: hint dropdown\n",
    "* [zipfile](https://docs.python.org/3/library/zipfile.html) - Working with ZIP archive files (compression and extraction).\n",
    "* [os](https://docs.python.org/3/library/os.html) - Interacting with the operating system, including handling the current working directory.\n",
    "* [rasterio](https://rasterio.readthedocs.io/en/latest/) - Reading and writing geospatial raster data.\n",
    "* [cdsapi](https://cds.climate.copernicus.eu/api-how-to) - Interacting with the Climate Data Store (CDS) API for downloading climate data.\n",
    "* [numpy](https://numpy.org/doc/stable/) - Handling large, multi-dimensional arrays and matrices, along with a collection of mathematical functions to operate on these arrays.\n",
    "* [xarray](https://docs.xarray.dev/en/stable/) - Handling labeled multi-dimensional arrays, commonly used for 2D and 3D array data handling.\n",
    "* [dask](https://docs.dask.org/en/stable/index.html) - Efficient handling of large datasets and computations.\n",
    "* [cartopy](https://scitools.org.uk/cartopy/docs/latest/) - Cartographic projections and coordinate transformations for geospatial data.\n",
    "* [plotly](https://plotly.com/) - Creating interactive plots and visualizations.\n",
    "* [ipyleaflet](https://ipyleaflet.readthedocs.io/en/stable/) - Creating interactive maps in Jupyter notebooks.\n",
    "* [ipywidgets](https://ipywidgets.readthedocs.io/en/stable/) - Creating interactive HTML widgets for Jupyter notebooks.\n",
    "* [localtileserver](https://localtileserver.readthedocs.io/en/latest/) - Serving local raster data as tiles and integrating with Leaflet maps.\n",
    "* [xclim](https://xclim.readthedocs.io/en/stable/) - Climate indices computation and analysis based on netCDF files using xarray."
   ]
  },
  {
   "cell_type": "code",
   "execution_count": 1,
   "id": "942c3219-b97c-4f9f-87f7-cc5e8375ef31",
   "metadata": {},
   "outputs": [],
   "source": [
    "import zipfile\n",
    "import os\n",
    "from itertools import chain\n",
    "\n",
    "import rasterio\n",
    "import cdsapi\n",
    "import numpy as np\n",
    "import xarray as xr\n",
    "from dask.diagnostics import ProgressBar\n",
    "import cartopy.crs as ccrs\n",
    "import plotly.graph_objects as go\n",
    "from ipyleaflet import Map, DrawControl, Marker, LayersControl\n",
    "import ipywidgets as widgets\n",
    "from localtileserver import get_leaflet_tile_layer, TileClient\n",
    "import xclim.indices as xci\n",
    "import xclim"
   ]
  },
  {
   "cell_type": "code",
   "execution_count": 2,
   "id": "69a697cd-925e-41d3-9029-9453fc5d0001",
   "metadata": {},
   "outputs": [],
   "source": [
    "# Set host forwarding for remote jupyterlab sessions\n",
    "if 'JUPYTERHUB_SERVICE_PREFIX' in os.environ:\n",
    "    os.environ['LOCALTILESERVER_CLIENT_PREFIX'] = f\"{os.environ['JUPYTERHUB_SERVICE_PREFIX']}/proxy/{{port}}\""
   ]
  },
  {
   "cell_type": "markdown",
   "id": "cdfaccfc-ac2e-40e3-989a-c0a30b001689",
   "metadata": {},
   "source": [
    "### Create directory structure"
   ]
  },
  {
   "cell_type": "code",
   "execution_count": 3,
   "id": "bad1ecb3-8f4e-4de7-9476-8a2ddb02b084",
   "metadata": {},
   "outputs": [],
   "source": [
    "# Define the directory for the heatwave workflow preprocess\n",
    "workflow_folder = 'Heatwave_hazard_XCLIM'\n",
    "# Define directories for data and results within the previously defined workflow directory\n",
    "data_dir = os.path.join(workflow_folder,'data')\n",
    "results_dir = os.path.join(workflow_folder,'results')\n",
    "# Check if the workflow directory exists, if not, create it along with subdirectories for data and results\n",
    "if not os.path.exists(workflow_folder):\n",
    "    os.makedirs(workflow_folder)\n",
    "    os.makedirs(os.path.join(data_dir))\n",
    "    os.makedirs(os.path.join(results_dir))"
   ]
  },
  {
   "cell_type": "markdown",
   "id": "9cb758d6-3098-4ac4-b807-5864d4848e25",
   "metadata": {},
   "source": [
    "## Step 2: Retrieving data"
   ]
  },
  {
   "cell_type": "markdown",
   "id": "f250b360-8a07-4526-a8cc-10dca0fa6f7e",
   "metadata": {},
   "source": [
    "### Download climate data from the CDS"
   ]
  },
  {
   "cell_type": "markdown",
   "id": "5e3a7fa3-3ff4-4963-890a-2daf2b5872c4",
   "metadata": {},
   "source": [
    "You can download data from the CDS with the API - look at [[How to change your API KEY](https://cds.climate.copernicus.eu/api-how-to)] and change the KEY below for authentication.\n"
   ]
  },
  {
   "cell_type": "code",
   "execution_count": 73,
   "id": "8ac78b82-a37a-4c44-8fd8-b7e05e65ddd9",
   "metadata": {},
   "outputs": [],
   "source": [
    "URL = \"https://cds.climate.copernicus.eu/api/v2\"\n",
    "KEY = \"113407:5dad3912-4a84-408a-86ae-a6523b8a0f6d\" # put your key here\n",
    "\n",
    "c = cdsapi.Client(url=URL, key=KEY)"
   ]
  },
  {
   "cell_type": "markdown",
   "id": "e56adda8-1a54-48bd-ad5d-0ba1eaf581a5",
   "metadata": {},
   "source": [
    "We need to download the daily maximum and daily minimum air temperature at 2m height from the EURO-CORDEX dataset. The code below will download this data for the selected period and RCP scenario.\n",
    "- In the code below you can find information about selected locations, resolutions, models, periods, etc.\n",
    "- More information about the **data** you can find [here](https://cds.climate.copernicus.eu/cdsapp#!/dataset/projections-cordex-domains-single-levels?tab=form)\n",
    "- More information about **RCP** scenarios can be found [here](https://en.wikipedia.org/wiki/Representative_Concentration_Pathway)"
   ]
  },
  {
   "cell_type": "markdown",
   "id": "dac7c4fa",
   "metadata": {},
   "source": [
    "**Important:** we will only download data for a single combination of GCM and RCM models. Below you can specify which combination you would like to use. For a more reliable result of the assessment, it is recommended to make the analysis for several combinations of GCM-RCM. For an overview of available combinations see the [CDS download form](https://cds.climate.copernicus.eu/cdsapp#!/dataset/projections-cordex-domains-single-levels?tab=form) and [documentation on GCM-RCM models](https://confluence.ecmwf.int/display/CKB/CORDEX%3A+Regional+climate+projections#heading-DrivingGlobalClimateModelsandRegionalClimateModels)."
   ]
  },
  {
   "cell_type": "code",
   "execution_count": 4,
   "id": "9964c5a0",
   "metadata": {},
   "outputs": [],
   "source": [
    "gcm_model = 'cnrm_cerfacs_cm5'\n",
    "rcm_model = 'clmcom_clm_cclm4_8_17'"
   ]
  },
  {
   "cell_type": "markdown",
   "id": "2c5fe3dc-9182-41b1-99ec-139fad614885",
   "metadata": {},
   "source": [
    "First we download the daily maximum 2m temperature for 1971-2000."
   ]
  },
  {
   "cell_type": "code",
   "execution_count": 75,
   "id": "123c4ad4-ac89-42f8-9e50-c1b40b98eb92",
   "metadata": {},
   "outputs": [
    {
     "name": "stderr",
     "output_type": "stream",
     "text": [
      "2024-08-01 18:24:39,141 INFO Welcome to the CDS.\n",
      " As per our announcements on the Forum, this instance of CDS will soon be decommissioned.\n",
      " Please update your cdsapi package to a version >=0.7.0, create an account on CDS-Beta and update your .cdsapirc file. We strongly recommend users to check our Guidelines at https://confluence.ecmwf.int/x/uINmFw\n",
      " The current legacy system will be kept for a while, but we will reduce resources gradually until full decommissioning in September 2024.\n",
      "2024-08-01 18:24:39,143 WARNING MOVE TO CDS-Beta\n",
      "2024-08-01 18:24:39,145 INFO Sending request to https://cds.climate.copernicus.eu/api/v2/resources/projections-cordex-domains-single-levels\n",
      "2024-08-01 18:24:39,353 INFO Request is queued\n",
      "2024-08-01 18:24:40,416 INFO Request is running\n",
      "2024-08-01 18:25:55,189 INFO Request is completed\n",
      "2024-08-01 18:25:55,207 INFO Downloading https://download-0003-clone.copernicus-climate.eu/cache-compute-0003/cache/data6/dataset-projections-cordex-domains-single-levels-5d067087-0de6-4170-bd88-29f2cfcdf57d.zip to Heatwave_hazard_XCLIM\\data\\eurocordex_daily_t2m_eurmax_1971_2000.zip (667.8M)\n",
      "2024-08-01 18:27:33,282 INFO Download rate 6.8M/s  \n"
     ]
    }
   ],
   "source": [
    "# Define zip file's absolute path\n",
    "zip_path = os.path.join(data_dir, 'eurocordex_daily_t2m_eurmax_1971_2005.zip')\n",
    "\n",
    "# Download the data for the selected time-period and RCP\n",
    "c.retrieve(\n",
    "    'projections-cordex-domains-single-levels',\n",
    "    {\n",
    "        'format': 'zip',\n",
    "        'domain': 'europe',\n",
    "        'experiment': 'historical',\n",
    "        'horizontal_resolution': '0_11_degree_x_0_11_degree',\n",
    "        'temporal_resolution': 'daily_mean',\n",
    "        'variable': 'maximum_2m_temperature_in_the_last_24_hours',\n",
    "        'gcm_model': gcm_model,\n",
    "        'rcm_model': rcm_model,\n",
    "        'ensemble_member': 'r1i1p1',\n",
    "        'start_year': [\n",
    "            #'1971', '1976', '1981', '1986', '1991', '1996', \n",
    "            '2001', \n",
    "        ],\n",
    "        'end_year': [\n",
    "            #'1975', '1980', '1985', '1990', '1995', '2000', \n",
    "            '2005',\n",
    "        ],\n",
    "    },\n",
    "    zip_path)\n",
    "\n",
    "# Unzip the downloaded files so they are ready for computing \n",
    "with zipfile.ZipFile(zip_path, 'r') as zObject:\n",
    "    zObject.extractall(path=data_dir)\n",
    "\n",
    "# Remove the downloaded zip file after unpacking\n",
    "os.remove(zip_path)"
   ]
  },
  {
   "cell_type": "markdown",
   "id": "6afe1eea-3246-40d8-8454-35617e5d0e4f",
   "metadata": {},
   "source": [
    "Now we can download the daily minimum 2m temperature for 1971-2000."
   ]
  },
  {
   "cell_type": "code",
   "execution_count": 76,
   "id": "20f3cb31-8d00-45e9-a6c8-d366072b4713",
   "metadata": {},
   "outputs": [
    {
     "name": "stderr",
     "output_type": "stream",
     "text": [
      "2024-08-01 18:27:36,784 INFO Welcome to the CDS.\n",
      " As per our announcements on the Forum, this instance of CDS will soon be decommissioned.\n",
      " Please update your cdsapi package to a version >=0.7.0, create an account on CDS-Beta and update your .cdsapirc file. We strongly recommend users to check our Guidelines at https://confluence.ecmwf.int/x/uINmFw\n",
      " The current legacy system will be kept for a while, but we will reduce resources gradually until full decommissioning in September 2024.\n",
      "2024-08-01 18:27:36,785 WARNING MOVE TO CDS-Beta\n",
      "2024-08-01 18:27:36,787 INFO Sending request to https://cds.climate.copernicus.eu/api/v2/resources/projections-cordex-domains-single-levels\n",
      "2024-08-01 18:27:36,939 INFO Request is queued\n",
      "2024-08-01 18:27:38,062 INFO Request is running\n",
      "2024-08-01 18:28:52,581 INFO Request is completed\n",
      "2024-08-01 18:28:52,587 INFO Downloading https://download-0009-clone.copernicus-climate.eu/cache-compute-0009/cache/data3/dataset-projections-cordex-domains-single-levels-3850568d-20a8-498a-98bf-b2c0d3aab60c.zip to Heatwave_hazard_XCLIM\\data\\eurocordex_daily_t2m_eurmin_1971_2005.zip (665.1M)\n",
      " 42%|████▏     | 277M/665M [00:40<00:52, 7.72MB/s] "
     ]
    }
   ],
   "source": [
    "# Define zip file's absolute path\n",
    "zip_path = os.path.join(data_dir, 'eurocordex_daily_t2m_eurmin_1971_2005.zip')\n",
    "\n",
    "# Download the data for the selected time-period and RCP\n",
    "c.retrieve(\n",
    "    'projections-cordex-domains-single-levels',\n",
    "    {\n",
    "        'format': 'zip',\n",
    "        'domain': 'europe',\n",
    "        'experiment': 'historical',\n",
    "        'horizontal_resolution': '0_11_degree_x_0_11_degree',\n",
    "        'temporal_resolution': 'daily_mean',\n",
    "        'variable': 'minimum_2m_temperature_in_the_last_24_hours',\n",
    "        'gcm_model': gcm_model,\n",
    "        'rcm_model': rcm_model,\n",
    "        'ensemble_member': 'r1i1p1',\n",
    "        'start_year': [\n",
    "            #'1971', '1976', '1981', '1986', '1991', '1996', \n",
    "            '2001',\n",
    "        ],\n",
    "        'end_year': [\n",
    "            #'1975', '1980', '1985', '1990', '1995', '2000', \n",
    "            '2005',\n",
    "        ],\n",
    "    },\n",
    "    zip_path)\n",
    "\n",
    "# Unzip the downloaded files so they are ready for computing \n",
    "with zipfile.ZipFile(zip_path, 'r') as zObject:\n",
    "    zObject.extractall(path=data_dir)\n",
    "\n",
    "# Remove the downloaded zip file after unpacking\n",
    "os.remove(zip_path)"
   ]
  },
  {
   "cell_type": "markdown",
   "id": "dafc980e-e9a6-4883-ba9a-c4d0e09b483b",
   "metadata": {},
   "source": [
    "Next we download the daily **maximum** temperature at 2m for **RCP8.5**.\n",
    "\n",
    "You can select the period for download: 2011-2100 by default but you can select other shorter period (e.g. 2041-2070, 2071-2100) to limit the amount of data."
   ]
  },
  {
   "cell_type": "code",
   "execution_count": 8,
   "id": "5147a3f4-e570-4113-a868-3f241e9008fe",
   "metadata": {},
   "outputs": [
    {
     "name": "stderr",
     "output_type": "stream",
     "text": [
      "2024-07-29 17:00:57,799 INFO Welcome to the CDS.\n",
      " As per our announcements on the Forum, this instance of CDS will soon be decommissioned.\n",
      " Please update your cdsapi package to a version >=0.7.0, create an account on CDS-Beta and update your .cdsapirc file. We strongly recommend users to check our Guidelines at https://confluence.ecmwf.int/x/uINmFw\n",
      " The current legacy system will be kept for a while, but we will reduce resources gradually until full decommissioning in September 2024.\n",
      "2024-07-29 17:00:57,800 WARNING MOVE TO CDS-Beta\n",
      "2024-07-29 17:00:57,801 INFO Sending request to https://cds.climate.copernicus.eu/api/v2/resources/projections-cordex-domains-single-levels\n",
      "2024-07-29 17:00:58,216 INFO Request is queued\n",
      "2024-07-29 17:00:59,285 INFO Request is running\n",
      "2024-07-29 17:13:17,876 INFO Request is completed\n",
      "2024-07-29 17:13:17,883 INFO Downloading https://download-0018.copernicus-climate.eu/cache-compute-0018/cache/data7/dataset-projections-cordex-domains-single-levels-8a319c6d-b55c-4e9b-8b9a-5a5430494a82.zip to Heatwave_hazard_XCLIM\\data\\eurocordex_daily_t2m_eurminmax_2011_2100.zip (5.2G)\n",
      "2024-07-29 17:32:13,530 INFO Download rate 4.7M/s      \n"
     ]
    }
   ],
   "source": [
    "# Define zip file's absolute path\n",
    "zip_path = os.path.join(data_dir, 'eurocordex_daily_t2m_eurminmax_2006_2100.zip')\n",
    "\n",
    "# Download the data for the selected time-period and RCP\n",
    "c.retrieve(\n",
    "    'projections-cordex-domains-single-levels',\n",
    "    {\n",
    "        'format': 'zip',\n",
    "        'domain': 'europe',\n",
    "        'experiment': 'rcp_8_5',\n",
    "        'horizontal_resolution': '0_11_degree_x_0_11_degree',\n",
    "        'temporal_resolution': 'daily_mean',\n",
    "        'variable': 'maximum_2m_temperature_in_the_last_24_hours',\n",
    "        'gcm_model': gcm_model,\n",
    "        'rcm_model': rcm_model,\n",
    "        'ensemble_member': 'r1i1p1',\n",
    "        'start_year': [\n",
    "            '2006',#'2011', '2016', '2021', '2026', '2031', '2036', '2041', '2046', '2051', '2056', '2061', '2066', '2071', '2076', '2081', '2086', '2091', '2096'],\n",
    "        'end_year': [\n",
    "            '2010',#'2015', '2020', '2025', '2030', '2035', '2040', '2045', '2050', '2055', '2060', '2065', '2070', '2075', '2080', '2085', '2090', '2095', '2100'],\n",
    "    },\n",
    "    zip_path)\n",
    "\n",
    "# Unzip the downloaded files so they are ready for computing \n",
    "with zipfile.ZipFile(zip_path, 'r') as zObject:\n",
    "    zObject.extractall(path=data_dir)\n",
    "\n",
    "# Remove the downloaded zip file after unpacking\n",
    "os.remove(zip_path)"
   ]
  },
  {
   "cell_type": "markdown",
   "id": "678aee48-fdbc-44aa-984e-658b85372f53",
   "metadata": {},
   "source": [
    "Next we download the daily **minimum** temperature at 2m for **RCP8.5**.\n",
    "\n",
    "You can select the period for download: 2011-2100 by default but you can select other shorter period (e.g. 2041-2070, 2071-2100) to limit the amount of data."
   ]
  },
  {
   "cell_type": "code",
   "execution_count": 9,
   "id": "599ec6c0-118c-43ae-bfc3-ef52218209e6",
   "metadata": {},
   "outputs": [
    {
     "name": "stderr",
     "output_type": "stream",
     "text": [
      "2024-07-29 17:32:36,294 INFO Welcome to the CDS.\n",
      " As per our announcements on the Forum, this instance of CDS will soon be decommissioned.\n",
      " Please update your cdsapi package to a version >=0.7.0, create an account on CDS-Beta and update your .cdsapirc file. We strongly recommend users to check our Guidelines at https://confluence.ecmwf.int/x/uINmFw\n",
      " The current legacy system will be kept for a while, but we will reduce resources gradually until full decommissioning in September 2024.\n",
      "2024-07-29 17:32:36,297 WARNING MOVE TO CDS-Beta\n",
      "2024-07-29 17:32:36,300 INFO Sending request to https://cds.climate.copernicus.eu/api/v2/resources/projections-cordex-domains-single-levels\n",
      "2024-07-29 17:32:36,451 INFO Request is queued\n",
      "2024-07-29 17:32:37,514 INFO Request is running\n",
      "2024-07-29 17:46:56,314 INFO Request is completed\n",
      "2024-07-29 17:46:56,322 INFO Downloading https://download-0017.copernicus-climate.eu/cache-compute-0017/cache/data9/dataset-projections-cordex-domains-single-levels-4f3e45dd-b807-4f04-89de-b4b8a5111728.zip to Heatwave_hazard_XCLIM\\data\\eurocordex_daily_t2m_eurmin_2011_2100.zip (4.5G)\n",
      "2024-07-29 18:00:04,864 INFO Download rate 5.9M/s      \n"
     ]
    }
   ],
   "source": [
    "# Define zip file's absolute path\n",
    "zip_path = os.path.join(data_dir, 'eurocordex_daily_t2m_eurmin_2006_2100.zip')\n",
    "\n",
    "# Download the data for the selected time-period and RCP\n",
    "c.retrieve(\n",
    "    'projections-cordex-domains-single-levels',\n",
    "    {\n",
    "        'format': 'zip',\n",
    "        'domain': 'europe',\n",
    "        'experiment': 'rcp_8_5',\n",
    "        'horizontal_resolution': '0_11_degree_x_0_11_degree',\n",
    "        'temporal_resolution': 'daily_mean',\n",
    "        'variable': 'minimum_2m_temperature_in_the_last_24_hours',\n",
    "        'gcm_model': gcm_model,\n",
    "        'rcm_model': rcm_model,\n",
    "        'ensemble_member': 'r1i1p1',\n",
    "        'start_year': [\n",
    "            '2006',#'2011', '2016', '2021', '2026', '2031', '2036', '2041', '2046', '2051', '2056', '2061', '2066', '2071', '2076', '2081', '2086', '2091', '2096'],\n",
    "        'end_year': [\n",
    "            '2010',#'2015', '2020', '2025', '2030', '2035', '2040', '2045', '2050', '2055', '2060', '2065', '2070', '2075', '2080', '2085', '2090', '2095', '2100'],\n",
    "    },\n",
    "    zip_path)\n",
    "\n",
    "# Unzip the downloaded files so they are ready for computing \n",
    "with zipfile.ZipFile(zip_path, 'r') as zObject:\n",
    "    zObject.extractall(path=data_dir)\n",
    "\n",
    "# Remove the downloaded zip file after unpacking\n",
    "os.remove(zip_path)"
   ]
  },
  {
   "cell_type": "markdown",
   "id": "4b1a836d-c656-47d7-95c7-6462adb69671",
   "metadata": {},
   "source": [
    "Next we download the daily **maximum** temperature at 2m for **RCP4.5**.\n",
    "\n",
    "You can select the period for download: 2011-2100 by default but you can select other shorter period (e.g. 2041-2070, 2071-2100) to limit the amount of data."
   ]
  },
  {
   "cell_type": "code",
   "execution_count": 10,
   "id": "1fdf8bfa-e434-4a72-a866-5c77f04cdc0d",
   "metadata": {},
   "outputs": [
    {
     "name": "stderr",
     "output_type": "stream",
     "text": [
      "2024-07-29 18:00:38,964 INFO Welcome to the CDS.\n",
      " As per our announcements on the Forum, this instance of CDS will soon be decommissioned.\n",
      " Please update your cdsapi package to a version >=0.7.0, create an account on CDS-Beta and update your .cdsapirc file. We strongly recommend users to check our Guidelines at https://confluence.ecmwf.int/x/uINmFw\n",
      " The current legacy system will be kept for a while, but we will reduce resources gradually until full decommissioning in September 2024.\n",
      "2024-07-29 18:00:39,082 WARNING MOVE TO CDS-Beta\n",
      "2024-07-29 18:00:39,180 INFO Sending request to https://cds.climate.copernicus.eu/api/v2/resources/projections-cordex-domains-single-levels\n",
      "2024-07-29 18:00:39,698 INFO Request is queued\n",
      "2024-07-29 18:00:40,929 INFO Request is running\n"
     ]
    },
    {
     "ename": "KeyboardInterrupt",
     "evalue": "",
     "output_type": "error",
     "traceback": [
      "\u001b[1;31m---------------------------------------------------------------------------\u001b[0m",
      "\u001b[1;31mKeyboardInterrupt\u001b[0m                         Traceback (most recent call last)",
      "Cell \u001b[1;32mIn[10], line 5\u001b[0m\n\u001b[0;32m      2\u001b[0m zip_path \u001b[38;5;241m=\u001b[39m os\u001b[38;5;241m.\u001b[39mpath\u001b[38;5;241m.\u001b[39mjoin(data_dir, \u001b[38;5;124m'\u001b[39m\u001b[38;5;124meurocordex_daily_t2m_eurmax_rcp45_2011_2100.zip\u001b[39m\u001b[38;5;124m'\u001b[39m)\n\u001b[0;32m      4\u001b[0m \u001b[38;5;66;03m# Download the data for the selected time-period and RCP\u001b[39;00m\n\u001b[1;32m----> 5\u001b[0m \u001b[43mc\u001b[49m\u001b[38;5;241;43m.\u001b[39;49m\u001b[43mretrieve\u001b[49m\u001b[43m(\u001b[49m\n\u001b[0;32m      6\u001b[0m \u001b[43m    \u001b[49m\u001b[38;5;124;43m'\u001b[39;49m\u001b[38;5;124;43mprojections-cordex-domains-single-levels\u001b[39;49m\u001b[38;5;124;43m'\u001b[39;49m\u001b[43m,\u001b[49m\n\u001b[0;32m      7\u001b[0m \u001b[43m    \u001b[49m\u001b[43m{\u001b[49m\n\u001b[0;32m      8\u001b[0m \u001b[43m        \u001b[49m\u001b[38;5;124;43m'\u001b[39;49m\u001b[38;5;124;43mformat\u001b[39;49m\u001b[38;5;124;43m'\u001b[39;49m\u001b[43m:\u001b[49m\u001b[43m \u001b[49m\u001b[38;5;124;43m'\u001b[39;49m\u001b[38;5;124;43mzip\u001b[39;49m\u001b[38;5;124;43m'\u001b[39;49m\u001b[43m,\u001b[49m\n\u001b[0;32m      9\u001b[0m \u001b[43m        \u001b[49m\u001b[38;5;124;43m'\u001b[39;49m\u001b[38;5;124;43mdomain\u001b[39;49m\u001b[38;5;124;43m'\u001b[39;49m\u001b[43m:\u001b[49m\u001b[43m \u001b[49m\u001b[38;5;124;43m'\u001b[39;49m\u001b[38;5;124;43meurope\u001b[39;49m\u001b[38;5;124;43m'\u001b[39;49m\u001b[43m,\u001b[49m\n\u001b[0;32m     10\u001b[0m \u001b[43m        \u001b[49m\u001b[38;5;124;43m'\u001b[39;49m\u001b[38;5;124;43mexperiment\u001b[39;49m\u001b[38;5;124;43m'\u001b[39;49m\u001b[43m:\u001b[49m\u001b[43m \u001b[49m\u001b[38;5;124;43m'\u001b[39;49m\u001b[38;5;124;43mrcp_4_5\u001b[39;49m\u001b[38;5;124;43m'\u001b[39;49m\u001b[43m,\u001b[49m\n\u001b[0;32m     11\u001b[0m \u001b[43m        \u001b[49m\u001b[38;5;124;43m'\u001b[39;49m\u001b[38;5;124;43mhorizontal_resolution\u001b[39;49m\u001b[38;5;124;43m'\u001b[39;49m\u001b[43m:\u001b[49m\u001b[43m \u001b[49m\u001b[38;5;124;43m'\u001b[39;49m\u001b[38;5;124;43m0_11_degree_x_0_11_degree\u001b[39;49m\u001b[38;5;124;43m'\u001b[39;49m\u001b[43m,\u001b[49m\n\u001b[0;32m     12\u001b[0m \u001b[43m        \u001b[49m\u001b[38;5;124;43m'\u001b[39;49m\u001b[38;5;124;43mtemporal_resolution\u001b[39;49m\u001b[38;5;124;43m'\u001b[39;49m\u001b[43m:\u001b[49m\u001b[43m \u001b[49m\u001b[38;5;124;43m'\u001b[39;49m\u001b[38;5;124;43mdaily_mean\u001b[39;49m\u001b[38;5;124;43m'\u001b[39;49m\u001b[43m,\u001b[49m\n\u001b[0;32m     13\u001b[0m \u001b[43m        \u001b[49m\u001b[38;5;124;43m'\u001b[39;49m\u001b[38;5;124;43mvariable\u001b[39;49m\u001b[38;5;124;43m'\u001b[39;49m\u001b[43m:\u001b[49m\u001b[43m \u001b[49m\u001b[38;5;124;43m'\u001b[39;49m\u001b[38;5;124;43mmaximum_2m_temperature_in_the_last_24_hours\u001b[39;49m\u001b[38;5;124;43m'\u001b[39;49m\u001b[43m,\u001b[49m\n\u001b[0;32m     14\u001b[0m \u001b[43m        \u001b[49m\u001b[38;5;124;43m'\u001b[39;49m\u001b[38;5;124;43mgcm_model\u001b[39;49m\u001b[38;5;124;43m'\u001b[39;49m\u001b[43m:\u001b[49m\u001b[43m \u001b[49m\u001b[43mgcm_model\u001b[49m\u001b[43m,\u001b[49m\n\u001b[0;32m     15\u001b[0m \u001b[43m        \u001b[49m\u001b[38;5;124;43m'\u001b[39;49m\u001b[38;5;124;43mrcm_model\u001b[39;49m\u001b[38;5;124;43m'\u001b[39;49m\u001b[43m:\u001b[49m\u001b[43m \u001b[49m\u001b[43mrcm_model\u001b[49m\u001b[43m,\u001b[49m\n\u001b[0;32m     16\u001b[0m \u001b[43m        \u001b[49m\u001b[38;5;124;43m'\u001b[39;49m\u001b[38;5;124;43mensemble_member\u001b[39;49m\u001b[38;5;124;43m'\u001b[39;49m\u001b[43m:\u001b[49m\u001b[43m \u001b[49m\u001b[38;5;124;43m'\u001b[39;49m\u001b[38;5;124;43mr1i1p1\u001b[39;49m\u001b[38;5;124;43m'\u001b[39;49m\u001b[43m,\u001b[49m\n\u001b[0;32m     17\u001b[0m \u001b[43m        \u001b[49m\u001b[38;5;124;43m'\u001b[39;49m\u001b[38;5;124;43mstart_year\u001b[39;49m\u001b[38;5;124;43m'\u001b[39;49m\u001b[43m:\u001b[49m\u001b[43m \u001b[49m\u001b[43m[\u001b[49m\n\u001b[0;32m     18\u001b[0m \u001b[43m            \u001b[49m\u001b[38;5;124;43m'\u001b[39;49m\u001b[38;5;124;43m2011\u001b[39;49m\u001b[38;5;124;43m'\u001b[39;49m\u001b[43m,\u001b[49m\u001b[43m \u001b[49m\u001b[38;5;124;43m'\u001b[39;49m\u001b[38;5;124;43m2016\u001b[39;49m\u001b[38;5;124;43m'\u001b[39;49m\u001b[43m,\u001b[49m\u001b[43m \u001b[49m\u001b[38;5;124;43m'\u001b[39;49m\u001b[38;5;124;43m2021\u001b[39;49m\u001b[38;5;124;43m'\u001b[39;49m\u001b[43m,\u001b[49m\u001b[43m \u001b[49m\u001b[38;5;124;43m'\u001b[39;49m\u001b[38;5;124;43m2026\u001b[39;49m\u001b[38;5;124;43m'\u001b[39;49m\u001b[43m,\u001b[49m\u001b[43m \u001b[49m\u001b[38;5;124;43m'\u001b[39;49m\u001b[38;5;124;43m2031\u001b[39;49m\u001b[38;5;124;43m'\u001b[39;49m\u001b[43m,\u001b[49m\u001b[43m \u001b[49m\u001b[38;5;124;43m'\u001b[39;49m\u001b[38;5;124;43m2036\u001b[39;49m\u001b[38;5;124;43m'\u001b[39;49m\u001b[43m,\u001b[49m\u001b[43m \u001b[49m\u001b[38;5;124;43m'\u001b[39;49m\u001b[38;5;124;43m2041\u001b[39;49m\u001b[38;5;124;43m'\u001b[39;49m\u001b[43m,\u001b[49m\u001b[43m \u001b[49m\u001b[38;5;124;43m'\u001b[39;49m\u001b[38;5;124;43m2046\u001b[39;49m\u001b[38;5;124;43m'\u001b[39;49m\u001b[43m]\u001b[49m\u001b[43m,\u001b[49m\u001b[43m \u001b[49m\u001b[38;5;66;43;03m#, '2051', '2056', '2061', '2066', '2071', '2076', '2081', '2086', '2091', '2096'],\u001b[39;49;00m\n\u001b[0;32m     19\u001b[0m \u001b[43m        \u001b[49m\u001b[38;5;124;43m'\u001b[39;49m\u001b[38;5;124;43mend_year\u001b[39;49m\u001b[38;5;124;43m'\u001b[39;49m\u001b[43m:\u001b[49m\u001b[43m \u001b[49m\u001b[43m[\u001b[49m\n\u001b[0;32m     20\u001b[0m \u001b[43m            \u001b[49m\u001b[38;5;124;43m'\u001b[39;49m\u001b[38;5;124;43m2015\u001b[39;49m\u001b[38;5;124;43m'\u001b[39;49m\u001b[43m,\u001b[49m\u001b[43m \u001b[49m\u001b[38;5;124;43m'\u001b[39;49m\u001b[38;5;124;43m2020\u001b[39;49m\u001b[38;5;124;43m'\u001b[39;49m\u001b[43m,\u001b[49m\u001b[43m \u001b[49m\u001b[38;5;124;43m'\u001b[39;49m\u001b[38;5;124;43m2025\u001b[39;49m\u001b[38;5;124;43m'\u001b[39;49m\u001b[43m,\u001b[49m\u001b[43m \u001b[49m\u001b[38;5;124;43m'\u001b[39;49m\u001b[38;5;124;43m2030\u001b[39;49m\u001b[38;5;124;43m'\u001b[39;49m\u001b[43m,\u001b[49m\u001b[43m \u001b[49m\u001b[38;5;124;43m'\u001b[39;49m\u001b[38;5;124;43m2035\u001b[39;49m\u001b[38;5;124;43m'\u001b[39;49m\u001b[43m,\u001b[49m\u001b[43m \u001b[49m\u001b[38;5;124;43m'\u001b[39;49m\u001b[38;5;124;43m2040\u001b[39;49m\u001b[38;5;124;43m'\u001b[39;49m\u001b[43m,\u001b[49m\u001b[43m \u001b[49m\u001b[38;5;124;43m'\u001b[39;49m\u001b[38;5;124;43m2045\u001b[39;49m\u001b[38;5;124;43m'\u001b[39;49m\u001b[43m,\u001b[49m\u001b[43m \u001b[49m\u001b[38;5;124;43m'\u001b[39;49m\u001b[38;5;124;43m2050\u001b[39;49m\u001b[38;5;124;43m'\u001b[39;49m\u001b[43m]\u001b[49m\u001b[43m,\u001b[49m\u001b[43m    \u001b[49m\u001b[38;5;66;43;03m#, '2055', '2060', '2065', '2070', '2075', '2080', '2085', '2090', '2095', '2100'],\u001b[39;49;00m\n\u001b[0;32m     21\u001b[0m \u001b[43m    \u001b[49m\u001b[43m}\u001b[49m\u001b[43m,\u001b[49m\n\u001b[0;32m     22\u001b[0m \u001b[43m    \u001b[49m\u001b[43mzip_path\u001b[49m\u001b[43m)\u001b[49m\n\u001b[0;32m     24\u001b[0m \u001b[38;5;66;03m# Unzip the downloaded files so they are ready for computing \u001b[39;00m\n\u001b[0;32m     25\u001b[0m \u001b[38;5;28;01mwith\u001b[39;00m zipfile\u001b[38;5;241m.\u001b[39mZipFile(zip_path, \u001b[38;5;124m'\u001b[39m\u001b[38;5;124mr\u001b[39m\u001b[38;5;124m'\u001b[39m) \u001b[38;5;28;01mas\u001b[39;00m zObject:\n",
      "File \u001b[1;32mc:\\Users\\aleksand\\AppData\\Local\\mambaforge\\envs\\climaax_heatwaves2\\Lib\\site-packages\\cdsapi\\api.py:381\u001b[0m, in \u001b[0;36mClient.retrieve\u001b[1;34m(self, name, request, target)\u001b[0m\n\u001b[0;32m    380\u001b[0m \u001b[38;5;28;01mdef\u001b[39;00m \u001b[38;5;21mretrieve\u001b[39m(\u001b[38;5;28mself\u001b[39m, name, request, target\u001b[38;5;241m=\u001b[39m\u001b[38;5;28;01mNone\u001b[39;00m):\n\u001b[1;32m--> 381\u001b[0m     result \u001b[38;5;241m=\u001b[39m \u001b[38;5;28;43mself\u001b[39;49m\u001b[38;5;241;43m.\u001b[39;49m\u001b[43m_api\u001b[49m\u001b[43m(\u001b[49m\u001b[38;5;124;43m\"\u001b[39;49m\u001b[38;5;132;43;01m%s\u001b[39;49;00m\u001b[38;5;124;43m/resources/\u001b[39;49m\u001b[38;5;132;43;01m%s\u001b[39;49;00m\u001b[38;5;124;43m\"\u001b[39;49m\u001b[43m \u001b[49m\u001b[38;5;241;43m%\u001b[39;49m\u001b[43m \u001b[49m\u001b[43m(\u001b[49m\u001b[38;5;28;43mself\u001b[39;49m\u001b[38;5;241;43m.\u001b[39;49m\u001b[43murl\u001b[49m\u001b[43m,\u001b[49m\u001b[43m \u001b[49m\u001b[43mname\u001b[49m\u001b[43m)\u001b[49m\u001b[43m,\u001b[49m\u001b[43m \u001b[49m\u001b[43mrequest\u001b[49m\u001b[43m,\u001b[49m\u001b[43m \u001b[49m\u001b[38;5;124;43m\"\u001b[39;49m\u001b[38;5;124;43mPOST\u001b[39;49m\u001b[38;5;124;43m\"\u001b[39;49m\u001b[43m)\u001b[49m\n\u001b[0;32m    382\u001b[0m     \u001b[38;5;28;01mif\u001b[39;00m target \u001b[38;5;129;01mis\u001b[39;00m \u001b[38;5;129;01mnot\u001b[39;00m \u001b[38;5;28;01mNone\u001b[39;00m:\n\u001b[0;32m    383\u001b[0m         result\u001b[38;5;241m.\u001b[39mdownload(target)\n",
      "File \u001b[1;32mc:\\Users\\aleksand\\AppData\\Local\\mambaforge\\envs\\climaax_heatwaves2\\Lib\\site-packages\\cdsapi\\api.py:509\u001b[0m, in \u001b[0;36mClient._api\u001b[1;34m(self, url, request, method)\u001b[0m\n\u001b[0;32m    506\u001b[0m rid \u001b[38;5;241m=\u001b[39m reply[\u001b[38;5;124m\"\u001b[39m\u001b[38;5;124mrequest_id\u001b[39m\u001b[38;5;124m\"\u001b[39m]\n\u001b[0;32m    508\u001b[0m \u001b[38;5;28mself\u001b[39m\u001b[38;5;241m.\u001b[39mdebug(\u001b[38;5;124m\"\u001b[39m\u001b[38;5;124mRequest ID is \u001b[39m\u001b[38;5;132;01m%s\u001b[39;00m\u001b[38;5;124m, sleep \u001b[39m\u001b[38;5;132;01m%s\u001b[39;00m\u001b[38;5;124m\"\u001b[39m, rid, sleep)\n\u001b[1;32m--> 509\u001b[0m time\u001b[38;5;241m.\u001b[39msleep(sleep)\n\u001b[0;32m    510\u001b[0m sleep \u001b[38;5;241m*\u001b[39m\u001b[38;5;241m=\u001b[39m \u001b[38;5;241m1.5\u001b[39m\n\u001b[0;32m    511\u001b[0m \u001b[38;5;28;01mif\u001b[39;00m sleep \u001b[38;5;241m>\u001b[39m \u001b[38;5;28mself\u001b[39m\u001b[38;5;241m.\u001b[39msleep_max:\n",
      "\u001b[1;31mKeyboardInterrupt\u001b[0m: "
     ]
    }
   ],
   "source": [
    "# Define zip file's absolute path\n",
    "zip_path = os.path.join(data_dir, 'eurocordex_daily_t2m_eurmax_rcp45_2006_2100.zip')\n",
    "\n",
    "# Download the data for the selected time-period and RCP\n",
    "c.retrieve(\n",
    "    'projections-cordex-domains-single-levels',\n",
    "    {\n",
    "        'format': 'zip',\n",
    "        'domain': 'europe',\n",
    "        'experiment': 'rcp_4_5',\n",
    "        'horizontal_resolution': '0_11_degree_x_0_11_degree',\n",
    "        'temporal_resolution': 'daily_mean',\n",
    "        'variable': 'maximum_2m_temperature_in_the_last_24_hours',\n",
    "        'gcm_model': gcm_model,\n",
    "        'rcm_model': rcm_model,\n",
    "        'ensemble_member': 'r1i1p1',\n",
    "        'start_year': [\n",
    "            '2006',#'2011', '2016', '2021', '2026', '2031', '2036', '2041', '2046', '2051', '2056', '2061', '2066', '2071', '2076', '2081', '2086', '2091', '2096'],\n",
    "        'end_year': [\n",
    "            '2010',#'2015', '2020', '2025', '2030', '2035', '2040', '2045', '2050', '2055', '2060', '2065', '2070', '2075', '2080', '2085', '2090', '2095', '2100'],\n",
    "    },\n",
    "    zip_path)\n",
    "\n",
    "# Unzip the downloaded files so they are ready for computing \n",
    "with zipfile.ZipFile(zip_path, 'r') as zObject:\n",
    "    zObject.extractall(path=data_dir)\n",
    "\n",
    "# Remove the downloaded zip file after unpacking\n",
    "os.remove(zip_path)"
   ]
  },
  {
   "cell_type": "markdown",
   "id": "8979ad81-b3f6-4206-a788-972632d68f37",
   "metadata": {},
   "source": [
    "Next we download the daily **minimum** temperature at 2m for **RCP4.5**. \n",
    "\n",
    "You can select the period for download: 2011-2100 by default but you can select other shorter period (e.g. 2041-2070, 2071-2100) to limit the amount of data."
   ]
  },
  {
   "cell_type": "code",
   "execution_count": 23,
   "id": "5f0e76cf-8ba4-4df8-a2cb-bc66864b0cbc",
   "metadata": {
    "scrolled": true
   },
   "outputs": [
    {
     "name": "stderr",
     "output_type": "stream",
     "text": [
      "2024-07-29 19:24:57,962 INFO Welcome to the CDS.\n",
      " As per our announcements on the Forum, this instance of CDS will soon be decommissioned.\n",
      " Please update your cdsapi package to a version >=0.7.0, create an account on CDS-Beta and update your .cdsapirc file. We strongly recommend users to check our Guidelines at https://confluence.ecmwf.int/x/uINmFw\n",
      " The current legacy system will be kept for a while, but we will reduce resources gradually until full decommissioning in September 2024.\n",
      "2024-07-29 19:24:57,965 WARNING MOVE TO CDS-Beta\n",
      "2024-07-29 19:24:57,970 INFO Sending request to https://cds.climate.copernicus.eu/api/v2/resources/projections-cordex-domains-single-levels\n",
      "2024-07-29 19:24:58,180 INFO Request is queued\n",
      "2024-07-29 19:24:59,238 INFO Request is running\n",
      "2024-07-29 19:29:16,626 INFO Request is completed\n",
      "2024-07-29 19:29:16,628 INFO Downloading https://download-0005-clone.copernicus-climate.eu/cache-compute-0005/cache/data2/dataset-projections-cordex-domains-single-levels-eed184c2-6eba-43f9-82f4-88a1e7ac6dd2.zip to Heatwave_hazard_XCLIM\\data\\eurocordex_daily_t2m_eurmin_rcp45_2011_2100.zip (664.6M)\n",
      "2024-07-29 19:32:48,592 INFO Download rate 3.1M/s  \n"
     ]
    },
    {
     "ename": "PermissionError",
     "evalue": "[Errno 13] Permission denied",
     "output_type": "error",
     "traceback": [
      "\u001b[1;31m---------------------------------------------------------------------------\u001b[0m",
      "\u001b[1;31mPermissionError\u001b[0m                           Traceback (most recent call last)",
      "Cell \u001b[1;32mIn[23], line 30\u001b[0m\n\u001b[0;32m     28\u001b[0m \u001b[38;5;66;03m# Unzip the downloaded files so they are ready for computing \u001b[39;00m\n\u001b[0;32m     29\u001b[0m \u001b[38;5;28;01mwith\u001b[39;00m zipfile\u001b[38;5;241m.\u001b[39mZipFile(zip_path, \u001b[38;5;124m'\u001b[39m\u001b[38;5;124mr\u001b[39m\u001b[38;5;124m'\u001b[39m) \u001b[38;5;28;01mas\u001b[39;00m zObject:\n\u001b[1;32m---> 30\u001b[0m     \u001b[43mzObject\u001b[49m\u001b[38;5;241;43m.\u001b[39;49m\u001b[43mextractall\u001b[49m\u001b[43m(\u001b[49m\u001b[43mpath\u001b[49m\u001b[38;5;241;43m=\u001b[39;49m\u001b[43mdata_dir\u001b[49m\u001b[43m)\u001b[49m\n\u001b[0;32m     32\u001b[0m \u001b[38;5;66;03m# Remove the downloaded zip file after unpacking\u001b[39;00m\n\u001b[0;32m     33\u001b[0m os\u001b[38;5;241m.\u001b[39mremove(zip_path)\n",
      "File \u001b[1;32mc:\\Users\\aleksand\\AppData\\Local\\mambaforge\\envs\\climaax_heatwaves2\\Lib\\zipfile.py:1701\u001b[0m, in \u001b[0;36mZipFile.extractall\u001b[1;34m(self, path, members, pwd)\u001b[0m\n\u001b[0;32m   1698\u001b[0m     path \u001b[38;5;241m=\u001b[39m os\u001b[38;5;241m.\u001b[39mfspath(path)\n\u001b[0;32m   1700\u001b[0m \u001b[38;5;28;01mfor\u001b[39;00m zipinfo \u001b[38;5;129;01min\u001b[39;00m members:\n\u001b[1;32m-> 1701\u001b[0m     \u001b[38;5;28;43mself\u001b[39;49m\u001b[38;5;241;43m.\u001b[39;49m\u001b[43m_extract_member\u001b[49m\u001b[43m(\u001b[49m\u001b[43mzipinfo\u001b[49m\u001b[43m,\u001b[49m\u001b[43m \u001b[49m\u001b[43mpath\u001b[49m\u001b[43m,\u001b[49m\u001b[43m \u001b[49m\u001b[43mpwd\u001b[49m\u001b[43m)\u001b[49m\n",
      "File \u001b[1;32mc:\\Users\\aleksand\\AppData\\Local\\mambaforge\\envs\\climaax_heatwaves2\\Lib\\zipfile.py:1756\u001b[0m, in \u001b[0;36mZipFile._extract_member\u001b[1;34m(self, member, targetpath, pwd)\u001b[0m\n\u001b[0;32m   1752\u001b[0m     \u001b[38;5;28;01mreturn\u001b[39;00m targetpath\n\u001b[0;32m   1754\u001b[0m \u001b[38;5;28;01mwith\u001b[39;00m \u001b[38;5;28mself\u001b[39m\u001b[38;5;241m.\u001b[39mopen(member, pwd\u001b[38;5;241m=\u001b[39mpwd) \u001b[38;5;28;01mas\u001b[39;00m source, \\\n\u001b[0;32m   1755\u001b[0m      \u001b[38;5;28mopen\u001b[39m(targetpath, \u001b[38;5;124m\"\u001b[39m\u001b[38;5;124mwb\u001b[39m\u001b[38;5;124m\"\u001b[39m) \u001b[38;5;28;01mas\u001b[39;00m target:\n\u001b[1;32m-> 1756\u001b[0m     \u001b[43mshutil\u001b[49m\u001b[38;5;241;43m.\u001b[39;49m\u001b[43mcopyfileobj\u001b[49m\u001b[43m(\u001b[49m\u001b[43msource\u001b[49m\u001b[43m,\u001b[49m\u001b[43m \u001b[49m\u001b[43mtarget\u001b[49m\u001b[43m)\u001b[49m\n\u001b[0;32m   1758\u001b[0m \u001b[38;5;28;01mreturn\u001b[39;00m targetpath\n",
      "File \u001b[1;32mc:\\Users\\aleksand\\AppData\\Local\\mambaforge\\envs\\climaax_heatwaves2\\Lib\\shutil.py:200\u001b[0m, in \u001b[0;36mcopyfileobj\u001b[1;34m(fsrc, fdst, length)\u001b[0m\n\u001b[0;32m    198\u001b[0m \u001b[38;5;28;01mif\u001b[39;00m \u001b[38;5;129;01mnot\u001b[39;00m buf:\n\u001b[0;32m    199\u001b[0m     \u001b[38;5;28;01mbreak\u001b[39;00m\n\u001b[1;32m--> 200\u001b[0m fdst_write(buf)\n",
      "\u001b[1;31mPermissionError\u001b[0m: [Errno 13] Permission denied"
     ]
    }
   ],
   "source": [
    "# Define zip file's absolute path\n",
    "zip_path = os.path.join(data_dir, 'eurocordex_daily_t2m_eurmin_rcp45_2006_2100.zip')\n",
    "\n",
    "# Download the data for the selected time-period and RCP\n",
    "c.retrieve(\n",
    "    'projections-cordex-domains-single-levels',\n",
    "    {\n",
    "        'format': 'zip',\n",
    "        'domain': 'europe',\n",
    "        'experiment': 'rcp_4_5',\n",
    "        'horizontal_resolution': '0_11_degree_x_0_11_degree',\n",
    "        'temporal_resolution': 'daily_mean',\n",
    "        'variable': 'minimum_2m_temperature_in_the_last_24_hours',\n",
    "        'gcm_model': gcm_model,\n",
    "        'rcm_model': rcm_model,\n",
    "        'ensemble_member': 'r1i1p1',\n",
    "        'start_year': [\n",
    "            '2006',#'2011', '2016', '2021', '2026', '2031', '2036', '2041', '2046', '2051', '2056', '2061', '2066', '2071', '2076', '2081', '2086', '2091', '2096'],\n",
    "        'end_year': [\n",
    "            '2010',#'2015', '2020', '2025', '2030', '2035', '2040', '2045', '2050', '2055', '2060', '2065', '2070', '2075', '2080', '2085', '2090', '2095', '2100'],\n",
    "    },\n",
    "    zip_path)\n",
    "\n",
    "# Unzip the downloaded files so they are ready for computing \n",
    "with zipfile.ZipFile(zip_path, 'r') as zObject:\n",
    "    zObject.extractall(path=data_dir)\n",
    "\n",
    "# Remove the downloaded zip file after unpacking\n",
    "os.remove(zip_path)"
   ]
  },
  {
   "cell_type": "markdown",
   "id": "4305edb4-479e-410b-9961-94b07318f965",
   "metadata": {},
   "source": [
    "### Load data and  select region of interest\n",
    "\n",
    "Load data from your working directory, and set the coordinates system (CRS)"
   ]
  },
  {
   "cell_type": "code",
   "execution_count": 5,
   "id": "4437dc4d-57a7-48cf-be06-8607b7854591",
   "metadata": {},
   "outputs": [
    {
     "name": "stdout",
     "output_type": "stream",
     "text": [
      "Data loaded and crs has been set!\n"
     ]
    }
   ],
   "source": [
    "# General configuration for data loaders\n",
    "open_kwargs = {\n",
    "    \"decode_coords\": \"all\",\n",
    "    \"chunks\": { \"time\": 32 }\n",
    "}\n",
    "\n",
    "# Historical data maximum temperature\n",
    "dmaxh = xr.open_mfdataset(f'{data_dir}/tasmax*historical*.nc', **open_kwargs)\n",
    "rotated_pole = ccrs.RotatedPole(pole_latitude=39.25, pole_longitude=-162)\n",
    "dmaxh.rio.write_crs(rotated_pole, inplace=True)\n",
    "\n",
    "# Historical data minimum temperature\n",
    "dminh = xr.open_mfdataset(f'{data_dir}/tasmin*historical*.nc', **open_kwargs)\n",
    "rotated_pole = ccrs.RotatedPole(pole_latitude=39.25, pole_longitude=-162)\n",
    "dminh.rio.write_crs(rotated_pole, inplace=True)\n",
    "\n",
    "# Maximum temperature RCP4.5\n",
    "dmax45 = xr.open_mfdataset(f'{data_dir}/tasmax*rcp45*.nc', **open_kwargs)\n",
    "rotated_pole = ccrs.RotatedPole(pole_latitude=39.25, pole_longitude=-162)\n",
    "dmax45.rio.write_crs(rotated_pole, inplace=True)\n",
    "\n",
    "# Minimum temperature RCP4.5\n",
    "dmin45 = xr.open_mfdataset(f'{data_dir}/tasmin*rcp45*.nc', **open_kwargs)\n",
    "rotated_pole = ccrs.RotatedPole(pole_latitude=39.25, pole_longitude=-162)\n",
    "dmin45.rio.write_crs(rotated_pole, inplace=True)\n",
    "\n",
    "# Maximum temperature RCP8.5\n",
    "dmax85 = xr.open_mfdataset(f'{data_dir}/tasmax*rcp85*.nc', **open_kwargs)\n",
    "rotated_pole = ccrs.RotatedPole(pole_latitude=39.25, pole_longitude=-162)\n",
    "dmax85.rio.write_crs(rotated_pole, inplace=True)\n",
    "\n",
    "# Minimum temperature RCP8.5\n",
    "dmin85 = xr.open_mfdataset(f'{data_dir}/tasmin*rcp85*.nc', **open_kwargs)\n",
    "rotated_pole = ccrs.RotatedPole(pole_latitude=39.25, pole_longitude=-162)\n",
    "dmin85.rio.write_crs(rotated_pole, inplace=True)\n",
    "\n",
    "print(\"Data loaded and crs has been set!\")"
   ]
  },
  {
   "cell_type": "markdown",
   "id": "830e7aaa-e6a6-4995-8316-a317759b2427",
   "metadata": {},
   "source": [
    "### Selection of the region of interest"
   ]
  },
  {
   "cell_type": "markdown",
   "id": "2ebfada9-e268-4e27-a809-91bc08a21c7c",
   "metadata": {},
   "source": [
    "**Tip for the selection of the area:**\n",
    "Select at least the area of the region or state where you want to compute (bigger area is better for graphical comparison, for EURO-CORDEX resolution of 12x12km)\n",
    "- \"Zoom\" to your area with [+] (top left corner)\n",
    "- \"Click\" on the rectangle on the left panel\n",
    "- \"Select your area\" by left click and drag\n",
    "-  And run a code below which \"automatically\" takes the coordinates of your area and transforms it to rotated pole CRS which is used by the EuroCordex data"
   ]
  },
  {
   "cell_type": "code",
   "execution_count": 6,
   "id": "450833ce-7963-42d6-8d96-0a07d8938d45",
   "metadata": {},
   "outputs": [
    {
     "data": {
      "application/vnd.jupyter.widget-view+json": {
       "model_id": "b45e96b9a79b4716ac1865a62960f27c",
       "version_major": 2,
       "version_minor": 0
      },
      "text/plain": [
       "VBox(children=(Map(center=[0, 0], controls=(ZoomControl(options=['position', 'zoom_in_text', 'zoom_in_title', …"
      ]
     },
     "metadata": {},
     "output_type": "display_data"
    }
   ],
   "source": [
    "# This code plots a map where you need to select a bounding box, as an area for the heatwave estimation\n",
    "# Create a map centered at a specific location\n",
    "m = Map(center=(0, 0), zoom=2)\n",
    "# Create lists to store rectangle coordinates\n",
    "min_lon_list = []\n",
    "min_lat_list = []\n",
    "max_lon_list = []\n",
    "max_lat_list = []\n",
    "# Create a DrawControl with rectangle drawing enabled\n",
    "draw_control = DrawControl(rectangle={'shapeOptions': {'color': '#ff0000'}})\n",
    "# Add the DrawControl to the map\n",
    "m.add_control(draw_control)\n",
    "# Create a text widget to display coordinates\n",
    "coord_output = widgets.Text(placeholder='Coordinates will appear here', disabled=True)\n",
    "# Define a function to handle draw events\n",
    "def handle_draw(self, action, geo_json):\n",
    "    if action == 'created':\n",
    "        if geo_json['geometry']['type'] == 'Polygon':\n",
    "            # Extract coordinates of the rectangle\n",
    "            coords = geo_json['geometry']['coordinates'][0]\n",
    "            # Compute rectangle coordinates (min_lon, min_lat, max_lon, max_lat)\n",
    "            min_lon, min_lat = min(coord[0] for coord in coords), min(coord[1] for coord in coords)\n",
    "            max_lon, max_lat = max(coord[0] for coord in coords), max(coord[1] for coord in coords)\n",
    "            # Update text widget with coordinates\n",
    "            coord_output.value = f'Coordinates: ({min_lon:.2f}, {min_lat:.2f}), ({max_lon:.2f}, {max_lat:.2f})'\n",
    "            # Append coordinates to lists\n",
    "            min_lon_list.append(min_lon)\n",
    "            min_lat_list.append(min_lat)\n",
    "            max_lon_list.append(max_lon)\n",
    "            max_lat_list.append(max_lat)\n",
    "# Attach the event handler to the DrawControl\n",
    "draw_control.on_draw(handle_draw)\n",
    "# Arrange the map and text widget vertically\n",
    "display(widgets.VBox([m, coord_output]))"
   ]
  },
  {
   "cell_type": "markdown",
   "id": "b2ce54c6-5eca-464b-b6b4-05a5d4362f93",
   "metadata": {},
   "source": [
    "Note: the coordinates will be automatically taken to next steps, you do not need to copy them!"
   ]
  },
  {
   "cell_type": "code",
   "execution_count": 7,
   "id": "06d5af7e-1eac-441b-a4c7-8a7ed6355f19",
   "metadata": {},
   "outputs": [
    {
     "name": "stdout",
     "output_type": "stream",
     "text": [
      "WGS 84 Coordinates: [[4.128113, 51.930718], [4.578552, 52.20929]]\n",
      "Rotated Pole Coordinates: [(-8.506549435081341, 1.9789683881690656), (-8.183187336429466, 2.202222124419665)]\n"
     ]
    }
   ],
   "source": [
    "# This code extracts the coordinates from the bounding box selected above and transform it to Rotated pole coordinates\n",
    "a=min_lon_list + min_lat_list\n",
    "b=max_lon_list + max_lat_list\n",
    "# Define the source and destination coordinate reference systems\n",
    "source_crs = ccrs.PlateCarree()  # WGS84 CRS\n",
    "#dest_crs = ccrs.RotatedPole(pole_longitude=190, pole_latitude=39.25, central_rotated_longitude=0)\n",
    "dest_crs = ccrs.RotatedPole(pole_latitude=39.25, pole_longitude=-162)\n",
    "# Example coordinates in WGS 84\n",
    "#wgs84_coords = [(18.528168, 49.076529), (18.965041, 49.349247)]\n",
    "wgs84_coords = [(a), (b)]\n",
    "# Perform the transformation for each pair of coordinates\n",
    "rotated_pole_coords = []\n",
    "for lon, lat in wgs84_coords:\n",
    "    rotated_pole_coords.append(dest_crs.transform_point(lon, lat, source_crs))\n",
    "print(\"WGS 84 Coordinates:\", wgs84_coords)\n",
    "print(\"Rotated Pole Coordinates:\", rotated_pole_coords)"
   ]
  },
  {
   "cell_type": "code",
   "execution_count": 8,
   "id": "5f312cbe-956f-4328-9576-dcd99511daf1",
   "metadata": {},
   "outputs": [
    {
     "name": "stdout",
     "output_type": "stream",
     "text": [
      "(4.128113, 51.930718, 4.578552, 52.20929)\n"
     ]
    }
   ],
   "source": [
    "# This code will create a list from the coordinates in WGS84\n",
    "# Original list of tuples\n",
    "list_of_tuples = wgs84_coords\n",
    "# Convert the list of tuples to a single tuple\n",
    "bbox84 = tuple(chain.from_iterable(list_of_tuples))\n",
    "print(bbox84)"
   ]
  },
  {
   "cell_type": "code",
   "execution_count": 9,
   "id": "265dbf52-39fe-4048-9047-2ef268addaf4",
   "metadata": {},
   "outputs": [
    {
     "name": "stdout",
     "output_type": "stream",
     "text": [
      "(-8.506549435081341, 1.9789683881690656, -8.183187336429466, 2.202222124419665)\n"
     ]
    }
   ],
   "source": [
    "# This code will create a list from the coordinates in rotated pole\n",
    "# Original list of tuples\n",
    "list_of_tuples2 = rotated_pole_coords\n",
    "# Convert the list of tuples to a single tuple\n",
    "bbox = tuple(chain.from_iterable(list_of_tuples2))\n",
    "print(bbox)"
   ]
  },
  {
   "cell_type": "markdown",
   "id": "4a26b43e-0c60-42dd-9cc1-238578b0bde6",
   "metadata": {},
   "source": [
    "### Clip data to the region of interest\n",
    "The bouding box coordinates will be automatically copied after a selection of the bbox"
   ]
  },
  {
   "cell_type": "code",
   "execution_count": 10,
   "id": "a8933b85-ced5-40ee-b494-22dd3c60c171",
   "metadata": {},
   "outputs": [],
   "source": [
    "# This code crops the downloaded data from CDS to your selected bounding box (selected area)\n",
    "dmaxch=dmaxh.rio.clip_box(minx=bbox[0], miny=bbox[1], maxx=bbox[2], maxy=bbox[3])  \n",
    "dminch=dminh.rio.clip_box(minx=bbox[0], miny=bbox[1], maxx=bbox[2], maxy=bbox[3])\n",
    "dmaxc45=dmax45.rio.clip_box(minx=bbox[0], miny=bbox[1], maxx=bbox[2], maxy=bbox[3])  \n",
    "dminc45=dmin45.rio.clip_box(minx=bbox[0], miny=bbox[1], maxx=bbox[2], maxy=bbox[3])  \n",
    "dmaxc85=dmax85.rio.clip_box(minx=bbox[0], miny=bbox[1], maxx=bbox[2], maxy=bbox[3])  \n",
    "dminc85=dmin85.rio.clip_box(minx=bbox[0], miny=bbox[1], maxx=bbox[2], maxy=bbox[3])  "
   ]
  },
  {
   "cell_type": "markdown",
   "id": "9bf6aa2a-34ed-4e90-8b0a-ec61ee6bf8e4",
   "metadata": {},
   "source": [
    "## Step 3: Calculation of the heatwave occurrence based on the XCLIM methodology\n",
    "\n",
    "Convert the maximum temperature data from Kelvin (K) to Celsius (°C)"
   ]
  },
  {
   "cell_type": "code",
   "execution_count": 11,
   "id": "1c8c1c20-46c5-4e1e-98d1-94ff28964ea7",
   "metadata": {},
   "outputs": [],
   "source": [
    "# Max Temperature historical\n",
    "dmaxch = dmaxch['tasmax']\n",
    "tasmaxh = dmaxch - 273.15\n",
    "tasmaxh = tasmaxh.assign_attrs(dmaxch.attrs)\n",
    "tasmaxh.attrs['units']='°C'\n",
    "\n",
    "# Min Temperature historical\n",
    "dminch = dminch['tasmin']\n",
    "tasminh = dminch - 273.15\n",
    "tasminh = tasminh.assign_attrs(dminch.attrs)\n",
    "tasminh.attrs['units']='°C'\n",
    "\n",
    "# Max Temperature rcp 45\n",
    "dmaxc45 = dmaxc45['tasmax']\n",
    "tasmax45 = dmaxc45 - 273.15\n",
    "tasmax45 = tasmax45.assign_attrs(dmaxc45.attrs)\n",
    "tasmax45.attrs['units']='°C'\n",
    "\n",
    "# Min Temperature rcp 45\n",
    "dminc45 = dminc45['tasmin']\n",
    "tasmin45 = dminc45 - 273.15\n",
    "tasmin45 = tasmin45.assign_attrs(dminc45.attrs)\n",
    "tasmin45.attrs['units']='°C'\n",
    "\n",
    "# Max Temperature rcp 85\n",
    "dmaxc85 = dmaxc85['tasmax']\n",
    "tasmax85 = dmaxc85 - 273.15\n",
    "tasmax85 = tasmax85.assign_attrs(dmaxc85.attrs)\n",
    "tasmax85.attrs['units']='°C'\n",
    "\n",
    "# Min Temperature rcp 85\n",
    "dminc85 = dminc85['tasmin']\n",
    "tasmin85 = dminc85 - 273.15\n",
    "tasmin85 = tasmin85.assign_attrs(dminc85.attrs)\n",
    "tasmin85.attrs['units']='°C'"
   ]
  },
  {
   "cell_type": "markdown",
   "id": "2debc036-6c41-415a-a123-ecdef7f6d987",
   "metadata": {},
   "source": [
    "XCLIM is an operational Python library for climate services, providing numerous climate-related indicator tools with a framework for constructing custom climate indicators, statistical downscaling and bias adjustment of climate model simulations, as well as climate model ensemble analysis tools.\n",
    "XCLIM is built using xarray and can seamlessly benefit from the parallelization handling provided by dask. Its objective is to make it as simple as possible for users to perform typical climate data analyses. Leveraging xarray and dask, users can easily bias-adjust climate simulations over large spatial domains or compute indices from large climate datast [[XCLIM](https://xclim.readthedocs.io/en/stable/indicators.html)]\n",
    "\n",
    "\n",
    "Examples of the code for the computing of the climate indices.\n",
    "\n",
    "```python\n",
    "xclim.indices.heat_wave_max_length(tasmin, tasmax, thresh_tasmin='22.0 degC', thresh_tasmax='30 degC', window=3, freq='YS', op='>', resample_before_rl=True)\n",
    "```\n",
    "  \n",
    "In the example above (from XCLIM documentation) the thresholds of 22°C for night temperatures and 30°C for day temperatures were selected by Health Canada professionals, following a temperature–mortality analysis. These absolute temperature thresholds characterize the occurrence of hot weather events that can result in adverse health outcomes for Canadian communities [Casati et al., 2013]. For other regions these thresholds may need to be selected differently."
   ]
  },
  {
   "cell_type": "markdown",
   "id": "20e4e359-fb3d-48d7-a071-d86686070f4f",
   "metadata": {},
   "source": [
    "### Loading data"
   ]
  },
  {
   "cell_type": "code",
   "execution_count": 12,
   "id": "9840ba7c-32f6-45cb-b5d7-2ad6b48b2829",
   "metadata": {},
   "outputs": [],
   "source": [
    "# This code selects the periods and RCPs for the computation of the climate indices by the XCLIM\n",
    "# Max T\n",
    "tasmaxh = tasmaxh.sel(time=slice(\"1971-01-01\", \"2000-12-31\"))\n",
    "tasmaxp_45 = tasmax45.sel(time=slice(\"2011-01-01\", \"2100-12-31\"))\n",
    "tasmaxp_85 = tasmax85.sel(time=slice(\"2011-01-01\", \"2100-12-31\"))\n",
    "# Min T\n",
    "tasminh = tasminh.sel(time=slice(\"1971-01-01\", \"2000-12-31\"))\n",
    "tasminp_45 = tasmin45.sel(time=slice(\"2011-01-01\", \"2100-12-31\"))\n",
    "tasminp_85 = tasmin85.sel(time=slice(\"2011-01-01\", \"2100-12-31\"))"
   ]
  },
  {
   "cell_type": "markdown",
   "id": "3ce9626d-877c-49e1-9c6b-181d9b290f0e",
   "metadata": {},
   "source": [
    "### Defining the temperature and duration tresholds"
   ]
  },
  {
   "cell_type": "markdown",
   "id": "71f61292-7ac1-4a58-8caa-8f1d32d06824",
   "metadata": {},
   "source": [
    "Treshold temperatures based on the impact on human health:\n",
    "1. Based on the preferred studies e.g.: A multi-city epidemiologic study in Europe found that the mortality threshold for heat effects was 29.4 °C for Mediterranean cities and 23.3 °C for the north European cities [[Maximum temperature threshold for EU](https://pubmed.ncbi.nlm.nih.gov/18520615/)].\n",
    "2. Or use the thresholds for minimum and maximum temperature given by your national meteorological or health service.\n",
    "   \n",
    "\n",
    "We select three climate indices from the Xclim package:\n",
    "1. Heatwave index\n",
    "2. Heatwave frequency\n",
    "3. Heatwave total length\n",
    "\n",
    "But you can also choose others, all climate indices are listed on Xclim website [[source](https://xclim.readthedocs.io/en/stable/indices.html#)]\n"
   ]
  },
  {
   "cell_type": "markdown",
   "id": "32919988-629b-4843-ad0c-35b1ed4a702b",
   "metadata": {},
   "source": [
    "#### Calculating the heatwave index [[source](https://xclim.readthedocs.io/en/stable/indices.html#xclim.indices.heat_wave_index)]\n",
    "\n",
    "We need to specify the temperature threshold for maximum daily air temperature (in degC) and the duration threshold (in days)."
   ]
  },
  {
   "cell_type": "code",
   "execution_count": 64,
   "id": "4826c6d7",
   "metadata": {},
   "outputs": [],
   "source": [
    "thresh_tempmax = '25.0 degC' # maximum daily temperature threshold\n",
    "thresh_window = 5 #duration threshold in days"
   ]
  },
  {
   "cell_type": "code",
   "execution_count": 14,
   "id": "3c7695fd-ce3b-49e5-8db7-969a4e76acb6",
   "metadata": {},
   "outputs": [],
   "source": [
    "# This code uses the XCLIM package for the computation of the climate indices\n",
    "# heatwave index\n",
    "# RCP 4.5\n",
    "HWIp45 = xclim.indices.heat_wave_index(tasmaxp_45, thresh=thresh_tempmax, window=thresh_window, freq='YS', op='>', resample_before_rl=True)\n",
    "# RCP 8.5\n",
    "HWIp85 = xclim.indices.heat_wave_index(tasmaxp_85, thresh=thresh_tempmax, window=thresh_window, freq='YS', op='>', resample_before_rl=True)\n",
    "# Historical\n",
    "HWIh = xclim.indices.heat_wave_index(tasmaxh, thresh=thresh_tempmax, window=thresh_window, freq='YS', op='>', resample_before_rl=True)"
   ]
  },
  {
   "cell_type": "markdown",
   "id": "632c3d37-45cb-45e6-8b75-87817ed7ac21",
   "metadata": {},
   "source": [
    "#### Calculating the heatwave frequency [[source](https://xclim.readthedocs.io/en/stable/indices.html#xclim.indices.heat_wave_frequency)]\n",
    "We need to specify:\n",
    "- Temperature threshold for minimum daily air temperature (in degC) \n",
    "- Temperature threshold for maximum daily air temperature (in degC) \n",
    "- Duration threshold (in days)"
   ]
  },
  {
   "cell_type": "code",
   "execution_count": 69,
   "id": "69a52b47",
   "metadata": {},
   "outputs": [],
   "source": [
    "thresh_tasmin = '22.0 degC' # threshold for minimum daily air temperature\n",
    "thresh_tasmax = '28.0 degC' # threshold for maximum daily air temperature\n",
    "thresh_window_hfreq = 3 #duration threshold in days"
   ]
  },
  {
   "cell_type": "code",
   "execution_count": 16,
   "id": "b8e68745-e237-4678-a9fb-046030b82561",
   "metadata": {},
   "outputs": [],
   "source": [
    "# Heatwave frequency\n",
    "# RCP 4.5\n",
    "HWFp45 = xclim.indices.heat_wave_frequency(tasminp_45, tasmaxp_45, thresh_tasmin=thresh_tasmin, thresh_tasmax=thresh_tasmax, window=thresh_window_hfreq, freq='YS', op='>', resample_before_rl=True)\n",
    "# RCP 8.5\n",
    "HWFp85 = xclim.indices.heat_wave_frequency(tasminp_85, tasmaxp_85, thresh_tasmin=thresh_tasmin, thresh_tasmax=thresh_tasmax, window=thresh_window_hfreq, freq='YS', op='>', resample_before_rl=True)\n",
    "#Historical\n",
    "HWFh = xclim.indices.heat_wave_frequency(tasminh, tasmaxh, thresh_tasmin=thresh_tasmin, thresh_tasmax=thresh_tasmax, window=thresh_window_hfreq, freq='YS', op='>', resample_before_rl=True)\n",
    "\n",
    "# Data correction: set the right type\n",
    "HWFp45 = HWFp45.astype(np.float64)\n",
    "HWFp85 = HWFp85.astype(np.float64)\n",
    "HWFh = HWFh.astype(np.float64)"
   ]
  },
  {
   "cell_type": "markdown",
   "id": "2fe09176-b207-4542-8309-798c8af29e04",
   "metadata": {},
   "source": [
    "#### Calculating heatwave total length [[source](https://xclim.readthedocs.io/en/stable/indices.html#xclim.indices.heat_wave_total_length)]\n",
    "\n",
    "For this indicator we use the same thresholds as for the heatwave frequency indicator (above)."
   ]
  },
  {
   "cell_type": "code",
   "execution_count": 17,
   "id": "057236c1-3eb1-48d7-bb5c-3e535f980c1c",
   "metadata": {},
   "outputs": [],
   "source": [
    "# heatwave total length\n",
    "# RCP 4.5\n",
    "HWTLp45=xclim.indices.heat_wave_total_length(tasminp_45, tasmaxp_45, thresh_tasmin=thresh_tasmin, thresh_tasmax=thresh_tasmax, window=thresh_window, freq='YS', op='>', resample_before_rl=True)\n",
    "# RCP 8.5\n",
    "HWTLp85=xclim.indices.heat_wave_total_length(tasminp_85, tasmaxp_85, thresh_tasmin=thresh_tasmin, thresh_tasmax=thresh_tasmax, window=thresh_window, freq='YS', op='>', resample_before_rl=True)\n",
    "# Historical\n",
    "HWTLh=xclim.indices.heat_wave_total_length(tasminh, tasmaxh, thresh_tasmin=thresh_tasmin, thresh_tasmax=thresh_tasmax, window=thresh_window, freq='YS', op='>', resample_before_rl=True)"
   ]
  },
  {
   "cell_type": "code",
   "execution_count": 18,
   "id": "155e78f3-f0ee-43b3-992d-f8a94d35cc17",
   "metadata": {},
   "outputs": [
    {
     "name": "stdout",
     "output_type": "stream",
     "text": [
      "CRS written!\n"
     ]
    }
   ],
   "source": [
    "# This code sets the rotated pole CRS to the calculated data\n",
    "## CRS for Eurocordex data\n",
    "rotated_pole = ccrs.RotatedPole(pole_latitude=39.25, pole_longitude=-162)\n",
    "HWIp45.rio.write_crs(rotated_pole, inplace=True)\n",
    "HWIp85.rio.write_crs(rotated_pole, inplace=True)\n",
    "HWIh.rio.write_crs(rotated_pole, inplace=True)\n",
    "HWFp45.rio.write_crs(rotated_pole, inplace=True)\n",
    "HWFp85.rio.write_crs(rotated_pole, inplace=True)\n",
    "HWFh.rio.write_crs(rotated_pole, inplace=True)\n",
    "HWTLp45.rio.write_crs(rotated_pole, inplace=True)\n",
    "HWTLp85.rio.write_crs(rotated_pole, inplace=True)\n",
    "HWTLh.rio.write_crs(rotated_pole, inplace=True)\n",
    "print(\"CRS written!\")"
   ]
  },
  {
   "cell_type": "markdown",
   "id": "fac22036-94ec-47c5-8a91-c289d777b6b2",
   "metadata": {},
   "source": [
    "The next step will perform the calculations and save the result to the disk. Depending on your machine's computational capacity, this step may take some time."
   ]
  },
  {
   "cell_type": "code",
   "execution_count": 19,
   "id": "97349d05-226c-4494-89cc-bf7a38d8e26b",
   "metadata": {},
   "outputs": [
    {
     "name": "stdout",
     "output_type": "stream",
     "text": [
      "Heatwave index\n",
      "[########################################] | 100% Completed | 89.25 s\n",
      "[########################################] | 100% Completed | 102.67 s\n",
      "[########################################] | 100% Completed | 74.86 s\n",
      "Heatwave frequency\n",
      "[########################################] | 100% Completed | 183.37 s\n",
      "[########################################] | 100% Completed | 187.06 s\n",
      "[########################################] | 100% Completed | 105.43 s\n",
      "Heatwave total length\n",
      "[########################################] | 100% Completed | 93.60 s\n",
      "[########################################] | 100% Completed | 92.62 s\n",
      "[########################################] | 100% Completed | 79.34 s\n"
     ]
    }
   ],
   "source": [
    "# This code saves the computed indices in the disk in raster tif format \n",
    "with ProgressBar():\n",
    "    print(\"Heatwave index\")\n",
    "    HWIp45.rio.to_raster(raster_path=f'{data_dir}/HWIp45.tif')\n",
    "    HWIp85.rio.to_raster(raster_path=f'{data_dir}/HWIp85.tif')\n",
    "    HWIh.rio.to_raster(raster_path=f'{data_dir}/HWIh.tif')\n",
    "    print(\"Heatwave frequency\")\n",
    "    HWFp45.rio.to_raster(raster_path=f'{data_dir}/HWFp45.tif')\n",
    "    HWFp85.rio.to_raster(raster_path=f'{data_dir}/HWFp85.tif')\n",
    "    HWFh.rio.to_raster(raster_path=f'{data_dir}/HWFh.tif')\n",
    "    print(\"Heatwave total length\")\n",
    "    HWTLp45.rio.to_raster(raster_path=f'{data_dir}/HWTLp45.tif')\n",
    "    HWTLp85.rio.to_raster(raster_path=f'{data_dir}/HWTLp85.tif')\n",
    "    HWTLh.rio.to_raster(raster_path=f'{data_dir}/HWTLh.tif')"
   ]
  },
  {
   "cell_type": "markdown",
   "id": "3821c850-f504-4212-af84-ff2875368ac8",
   "metadata": {},
   "source": [
    "### Select location for plotting \n"
   ]
  },
  {
   "cell_type": "code",
   "execution_count": 20,
   "id": "2201a0cf-6e05-48a8-b40c-a46955aa3007",
   "metadata": {},
   "outputs": [
    {
     "name": "stderr",
     "output_type": "stream",
     "text": [
      "c:\\Users\\aleksand\\AppData\\Local\\mambaforge\\envs\\climaax_heatwaves2\\Lib\\site-packages\\numpy\\core\\fromnumeric.py:88: RuntimeWarning: overflow encountered in reduce\n",
      "  return ufunc.reduce(obj, axis, dtype, out, **passkwargs)\n",
      "c:\\Users\\aleksand\\AppData\\Local\\mambaforge\\envs\\climaax_heatwaves2\\Lib\\site-packages\\numpy\\core\\fromnumeric.py:88: RuntimeWarning: overflow encountered in reduce\n",
      "  return ufunc.reduce(obj, axis, dtype, out, **passkwargs)\n",
      "c:\\Users\\aleksand\\AppData\\Local\\mambaforge\\envs\\climaax_heatwaves2\\Lib\\site-packages\\numpy\\core\\fromnumeric.py:88: RuntimeWarning: overflow encountered in reduce\n",
      "  return ufunc.reduce(obj, axis, dtype, out, **passkwargs)\n",
      "c:\\Users\\aleksand\\AppData\\Local\\mambaforge\\envs\\climaax_heatwaves2\\Lib\\site-packages\\numpy\\core\\fromnumeric.py:88: RuntimeWarning: overflow encountered in reduce\n",
      "  return ufunc.reduce(obj, axis, dtype, out, **passkwargs)\n",
      "c:\\Users\\aleksand\\AppData\\Local\\mambaforge\\envs\\climaax_heatwaves2\\Lib\\site-packages\\numpy\\core\\fromnumeric.py:88: RuntimeWarning: overflow encountered in reduce\n",
      "  return ufunc.reduce(obj, axis, dtype, out, **passkwargs)\n",
      "c:\\Users\\aleksand\\AppData\\Local\\mambaforge\\envs\\climaax_heatwaves2\\Lib\\site-packages\\numpy\\core\\fromnumeric.py:88: RuntimeWarning: overflow encountered in reduce\n",
      "  return ufunc.reduce(obj, axis, dtype, out, **passkwargs)\n",
      "c:\\Users\\aleksand\\AppData\\Local\\mambaforge\\envs\\climaax_heatwaves2\\Lib\\site-packages\\numpy\\core\\fromnumeric.py:88: RuntimeWarning: overflow encountered in reduce\n",
      "  return ufunc.reduce(obj, axis, dtype, out, **passkwargs)\n",
      "c:\\Users\\aleksand\\AppData\\Local\\mambaforge\\envs\\climaax_heatwaves2\\Lib\\site-packages\\numpy\\core\\fromnumeric.py:88: RuntimeWarning: overflow encountered in reduce\n",
      "  return ufunc.reduce(obj, axis, dtype, out, **passkwargs)\n",
      "c:\\Users\\aleksand\\AppData\\Local\\mambaforge\\envs\\climaax_heatwaves2\\Lib\\site-packages\\numpy\\core\\fromnumeric.py:88: RuntimeWarning: overflow encountered in reduce\n",
      "  return ufunc.reduce(obj, axis, dtype, out, **passkwargs)\n"
     ]
    }
   ],
   "source": [
    "# This code reprojects the computed indices to the WGS84 (EPSG:4326)\n",
    "# Define the files and their corresponding variables\n",
    "file_variables = [\n",
    "    (\"HWIp45.tif\", \"HWIp45\"),\n",
    "    (\"HWIp85.tif\", \"HWIp85\"),\n",
    "    (\"HWIh.tif\", \"HWIh\"),\n",
    "    (\"HWFp45.tif\", \"HWFp45\"),\n",
    "    (\"HWFp85.tif\", \"HWFp85\"),\n",
    "    (\"HWFh.tif\", \"HWFh\"),\n",
    "    (\"HWTLp45.tif\", \"HWTLp45\"),\n",
    "    (\"HWTLp85.tif\", \"HWTLp85\"),\n",
    "    (\"HWTLh.tif\", \"HWTLh\")\n",
    "]\n",
    "# Define the target CRS\n",
    "target_crs = 'EPSG:4326'  # WGS84\n",
    "# Iterate over each file and variable\n",
    "for filename, var_name in file_variables:\n",
    "    # Open the raster dataset\n",
    "    data = xr.open_dataset(f'{data_dir}/{filename}')['band_data']   \n",
    "    # Write the CRS information to the dataset\n",
    "    data.rio.write_crs(rotated_pole, inplace=True)  \n",
    "    # Reproject the clipped raster dataset to the target CRS\n",
    "    reprojected_data = data.rio.reproject(target_crs)\n",
    "    # Replace NaN values\n",
    "    reprojected_data.where(reprojected_data != 1.7976931348623157e+308, np.nan)   \n",
    "    # Optionally, you can save the reprojected raster to a new file\n",
    "    reprojected_data.rio.to_raster(raster_path=f'{data_dir}/{var_name}_reprojected.tif') \n",
    "    # Calculate mean and save to file\n",
    "    mean_data = reprojected_data.mean(dim='band', skipna=True, keep_attrs=True)\n",
    "    mean_data.rio.to_raster(raster_path=f'{data_dir}/{var_name}_m.tif')"
   ]
  },
  {
   "cell_type": "markdown",
   "id": "3a85047c",
   "metadata": {},
   "source": [
    "With this code, you select the point on the map, for which you want to plot the bar and line graphs (select only one point, if you accidentally select multiple points, run this code (below) again and select the point again)."
   ]
  },
  {
   "cell_type": "code",
   "execution_count": 21,
   "id": "1a90323a-b9b8-4c71-a8b9-b1fa879a092a",
   "metadata": {},
   "outputs": [
    {
     "name": "stderr",
     "output_type": "stream",
     "text": [
      "c:\\Users\\aleksand\\AppData\\Local\\mambaforge\\envs\\climaax_heatwaves2\\Lib\\site-packages\\localtileserver\\widgets.py:90: UserWarning: The `cmap` keyword argument is deprecated. Please use `colormap` instead.\n",
      "  warnings.warn(\n"
     ]
    },
    {
     "data": {
      "application/vnd.jupyter.widget-view+json": {
       "model_id": "69b71619965745e48eda7792e05d2481",
       "version_major": 2,
       "version_minor": 0
      },
      "text/plain": [
       "VBox(children=(Map(center=[52.093740499999996, 4.4061565], controls=(ZoomControl(options=['position', 'zoom_in…"
      ]
     },
     "metadata": {},
     "output_type": "display_data"
    }
   ],
   "source": [
    "# This code plots the map where we need to select the point for the plot of the graphs for computed indices\n",
    "# First, create a tile server from local raster file\n",
    "client1 = TileClient(f'{data_dir}/HWIp85_m.tif')\n",
    "# Create ipyleaflet tile layer from that server\n",
    "t1 = get_leaflet_tile_layer(client1, cmap='Reds', opacity=0.5, nodata=0, name='heatwave index')\n",
    "m = Map(center=client1.center(), zoom=client1.default_zoom)\n",
    "m.add(t1)\n",
    "control = LayersControl(position='topright')\n",
    "m.add_control(control)\n",
    "# Create lists to store point coordinates\n",
    "point_lon_list = []\n",
    "point_lat_list = []\n",
    "# Create a DrawControl with point drawing enabled\n",
    "draw_control = DrawControl(marker={'shapeOptions': {'color': '#FF0000'}})\n",
    "# Add the DrawControl to the map\n",
    "m.add_control(draw_control)\n",
    "# Create a text widget to display coordinates\n",
    "coord_output = widgets.Text(placeholder='Coordinates will appear here', disabled=True)\n",
    "# Define a function to handle draw events\n",
    "def handle_draw(self, action, geo_json):\n",
    "    if action == 'created':\n",
    "        if geo_json['geometry']['type'] == 'Point':\n",
    "            # Extract coordinates of the point\n",
    "            lon, lat = geo_json['geometry']['coordinates']\n",
    "            # Update text widget with coordinates\n",
    "            coord_output.value = f'Coordinates: ({lon:.2f}, {lat:.2f})'\n",
    "            # Append coordinates to lists\n",
    "            point_lon_list.append(lon)\n",
    "            point_lat_list.append(lat)\n",
    "            # Create and add a marker to the map\n",
    "            marker = Marker(location=(lat, lon))\n",
    "            m.add_layer(marker)\n",
    "# Attach the event handler to the DrawControl\n",
    "draw_control.on_draw(handle_draw)\n",
    "# Arrange the map and text widget vertically\n",
    "display(widgets.VBox([m, coord_output]))"
   ]
  },
  {
   "cell_type": "markdown",
   "id": "4af397b5",
   "metadata": {},
   "source": [
    "In the picture above, we can find the plotted raster data in the area that we select by bbox at the beginning of the code.\n",
    "\n",
    "The shown data is based on the calculated heatwave index. This visual comparison is intended to help understand which locations in your selected area will suffer more from heat (dark red will be most affected).  \n",
    "\n",
    "For the visual comparison of the number of heat occurrences you need to select a point (flag) from the left panel and select a pixel that you prefer.\n",
    "The skewness of the rasters was caused by the transformation of the coordinates system."
   ]
  },
  {
   "cell_type": "code",
   "execution_count": 22,
   "id": "2e3547a8-5a3d-4e7d-af95-7a7c802a87aa",
   "metadata": {},
   "outputs": [],
   "source": [
    "# This code extracts the values from the computed indices for the selected pixel \n",
    "def get_pixel_values(raster_file, lat, lon):\n",
    "    with rasterio.open(raster_file) as src:\n",
    "        # Transform lat/lon coordinates to pixel coordinates\n",
    "        row, col = src.index(lon, lat)\n",
    "        \n",
    "        # Read pixel values from each band\n",
    "        pixel_values = [band[row, col] for band in src.read()]\n",
    "        \n",
    "        # Return pixel values for each band\n",
    "        return pixel_values\n",
    "\n",
    "# Example usage\n",
    "raster_file_hwi45 = f'{data_dir}/HWIp45_reprojected.tif'\n",
    "raster_file_hwi85 = f'{data_dir}/HWIp85_reprojected.tif'\n",
    "raster_file_hwih = f'{data_dir}/HWIh_reprojected.tif'\n",
    "raster_file_hwf45 = f'{data_dir}/HWFp45_reprojected.tif'\n",
    "raster_file_hwf85 = f'{data_dir}/HWFp85_reprojected.tif'\n",
    "raster_file_hwfh = f'{data_dir}/HWFh_reprojected.tif'\n",
    "raster_file_hwtl45 = f'{data_dir}/HWTLp45_reprojected.tif'\n",
    "raster_file_hwtl85 = f'{data_dir}/HWTLp85_reprojected.tif'\n",
    "raster_file_hwtlh = f'{data_dir}/HWTLh_reprojected.tif'\n",
    "# extract lat lon from map\n",
    "lat = point_lat_list[0]\n",
    "lon = point_lon_list[0]\n",
    "# extract values for selected pixel \n",
    "pixel_values_hwi45 = get_pixel_values(raster_file_hwi45, lat, lon)\n",
    "pixel_values_hwi85 = get_pixel_values(raster_file_hwi85, lat, lon)\n",
    "pixel_values_hwih = get_pixel_values(raster_file_hwih, lat, lon)\n",
    "pixel_values_hwf45 = get_pixel_values(raster_file_hwf45, lat, lon)\n",
    "pixel_values_hwf85 = get_pixel_values(raster_file_hwf85, lat, lon)\n",
    "pixel_values_hwfh = get_pixel_values(raster_file_hwfh, lat, lon)\n",
    "pixel_values_hwtl45 = get_pixel_values(raster_file_hwtl45, lat, lon)\n",
    "pixel_values_hwtl85 = get_pixel_values(raster_file_hwtl85, lat, lon)\n",
    "pixel_values_hwtlh = get_pixel_values(raster_file_hwtlh, lat, lon)"
   ]
  },
  {
   "cell_type": "markdown",
   "id": "8239435c-fa18-49e9-9e71-c15e244a1bd5",
   "metadata": {},
   "source": [
    "### Plot the heatwave index (HWI)\n",
    "Number of days that are part of a heatwave, defined as five or more consecutive days over a threshold of 25 degrees (or with other thresholds if specified differently above!)."
   ]
  },
  {
   "cell_type": "code",
   "execution_count": 65,
   "id": "051083af-484d-41f6-8d20-7f2f085fa618",
   "metadata": {},
   "outputs": [
    {
     "data": {
      "application/vnd.plotly.v1+json": {
       "config": {
        "plotlyServerURL": "https://plot.ly"
       },
       "data": [
        {
         "marker": {
          "color": "blue"
         },
         "name": "RCP4.5",
         "type": "bar",
         "x": [
          1971,
          1972,
          1973,
          1974,
          1975,
          1976,
          1977,
          1978,
          1979,
          1980,
          1981,
          1982,
          1983,
          1984,
          1985,
          1986,
          1987,
          1988,
          1989,
          1990,
          1991,
          1992,
          1993,
          1994,
          1995,
          1996,
          1997,
          1998,
          1999,
          2000,
          2011,
          2012,
          2013,
          2014,
          2015,
          2016,
          2017,
          2018,
          2019,
          2020,
          2021,
          2022,
          2023,
          2024,
          2025,
          2026,
          2027,
          2028,
          2029,
          2030,
          2031,
          2032,
          2033,
          2034,
          2035,
          2036,
          2037,
          2038,
          2039,
          2040,
          2041,
          2042,
          2043,
          2044,
          2045,
          2046,
          2047,
          2048,
          2049,
          2050,
          2051,
          2052,
          2053,
          2054,
          2055,
          2056,
          2057,
          2058,
          2059,
          2060,
          2061,
          2062,
          2063,
          2064,
          2065,
          2066,
          2067,
          2068,
          2069,
          2070,
          2071,
          2072,
          2073,
          2074,
          2075,
          2076,
          2077,
          2078,
          2079,
          2080,
          2081,
          2082,
          2083,
          2084,
          2085,
          2086,
          2087,
          2088,
          2089,
          2090,
          2091,
          2092,
          2093,
          2094,
          2095,
          2096,
          2097,
          2098,
          2099,
          2100
         ],
         "y": [
          6,
          0,
          0,
          5,
          0,
          0,
          0,
          18,
          0,
          0,
          0,
          0,
          0,
          0,
          7,
          6,
          0,
          12,
          7,
          5,
          5,
          0,
          0,
          7,
          0,
          7,
          0,
          0,
          8,
          0,
          0,
          0,
          0,
          6,
          7,
          5,
          0,
          5,
          0,
          0,
          0,
          0,
          0,
          7,
          0,
          5,
          0,
          0,
          6,
          0,
          0,
          0,
          5,
          5,
          0,
          0,
          0,
          0,
          0,
          0,
          5,
          0,
          0,
          0,
          0,
          6,
          6,
          15,
          10,
          11
         ]
        },
        {
         "marker": {
          "color": "red"
         },
         "name": "RCP8.5",
         "opacity": 0.5,
         "type": "bar",
         "x": [
          1971,
          1972,
          1973,
          1974,
          1975,
          1976,
          1977,
          1978,
          1979,
          1980,
          1981,
          1982,
          1983,
          1984,
          1985,
          1986,
          1987,
          1988,
          1989,
          1990,
          1991,
          1992,
          1993,
          1994,
          1995,
          1996,
          1997,
          1998,
          1999,
          2000,
          2011,
          2012,
          2013,
          2014,
          2015,
          2016,
          2017,
          2018,
          2019,
          2020,
          2021,
          2022,
          2023,
          2024,
          2025,
          2026,
          2027,
          2028,
          2029,
          2030,
          2031,
          2032,
          2033,
          2034,
          2035,
          2036,
          2037,
          2038,
          2039,
          2040,
          2041,
          2042,
          2043,
          2044,
          2045,
          2046,
          2047,
          2048,
          2049,
          2050,
          2051,
          2052,
          2053,
          2054,
          2055,
          2056,
          2057,
          2058,
          2059,
          2060,
          2061,
          2062,
          2063,
          2064,
          2065,
          2066,
          2067,
          2068,
          2069,
          2070,
          2071,
          2072,
          2073,
          2074,
          2075,
          2076,
          2077,
          2078,
          2079,
          2080,
          2081,
          2082,
          2083,
          2084,
          2085,
          2086,
          2087,
          2088,
          2089,
          2090,
          2091,
          2092,
          2093,
          2094,
          2095,
          2096,
          2097,
          2098,
          2099,
          2100
         ],
         "y": [
          6,
          0,
          0,
          5,
          0,
          0,
          0,
          18,
          0,
          0,
          0,
          0,
          0,
          0,
          7,
          6,
          0,
          12,
          7,
          5,
          5,
          0,
          0,
          7,
          0,
          7,
          0,
          0,
          8,
          0,
          0,
          0,
          5,
          12,
          0,
          0,
          5,
          14,
          10,
          0,
          5,
          7,
          5,
          0,
          16,
          11,
          11,
          5,
          10,
          7,
          0,
          19,
          16,
          0,
          0,
          10,
          5,
          12,
          8,
          10,
          16,
          6,
          7,
          6,
          0,
          5,
          0,
          9,
          5,
          17
         ]
        }
       ],
       "layout": {
        "annotations": [
         {
          "showarrow": false,
          "text": "GCM-RCM: cnrm_cerfacs_cm5 - clmcom_clm_cclm4_8_17",
          "x": 1,
          "xref": "paper",
          "y": -0.2,
          "yref": "paper"
         }
        ],
        "height": 500,
        "legend": {
         "orientation": "h",
         "traceorder": "normal",
         "x": 0,
         "y": 1
        },
        "template": {
         "data": {
          "bar": [
           {
            "error_x": {
             "color": "#2a3f5f"
            },
            "error_y": {
             "color": "#2a3f5f"
            },
            "marker": {
             "line": {
              "color": "#E5ECF6",
              "width": 0.5
             },
             "pattern": {
              "fillmode": "overlay",
              "size": 10,
              "solidity": 0.2
             }
            },
            "type": "bar"
           }
          ],
          "barpolar": [
           {
            "marker": {
             "line": {
              "color": "#E5ECF6",
              "width": 0.5
             },
             "pattern": {
              "fillmode": "overlay",
              "size": 10,
              "solidity": 0.2
             }
            },
            "type": "barpolar"
           }
          ],
          "carpet": [
           {
            "aaxis": {
             "endlinecolor": "#2a3f5f",
             "gridcolor": "white",
             "linecolor": "white",
             "minorgridcolor": "white",
             "startlinecolor": "#2a3f5f"
            },
            "baxis": {
             "endlinecolor": "#2a3f5f",
             "gridcolor": "white",
             "linecolor": "white",
             "minorgridcolor": "white",
             "startlinecolor": "#2a3f5f"
            },
            "type": "carpet"
           }
          ],
          "choropleth": [
           {
            "colorbar": {
             "outlinewidth": 0,
             "ticks": ""
            },
            "type": "choropleth"
           }
          ],
          "contour": [
           {
            "colorbar": {
             "outlinewidth": 0,
             "ticks": ""
            },
            "colorscale": [
             [
              0,
              "#0d0887"
             ],
             [
              0.1111111111111111,
              "#46039f"
             ],
             [
              0.2222222222222222,
              "#7201a8"
             ],
             [
              0.3333333333333333,
              "#9c179e"
             ],
             [
              0.4444444444444444,
              "#bd3786"
             ],
             [
              0.5555555555555556,
              "#d8576b"
             ],
             [
              0.6666666666666666,
              "#ed7953"
             ],
             [
              0.7777777777777778,
              "#fb9f3a"
             ],
             [
              0.8888888888888888,
              "#fdca26"
             ],
             [
              1,
              "#f0f921"
             ]
            ],
            "type": "contour"
           }
          ],
          "contourcarpet": [
           {
            "colorbar": {
             "outlinewidth": 0,
             "ticks": ""
            },
            "type": "contourcarpet"
           }
          ],
          "heatmap": [
           {
            "colorbar": {
             "outlinewidth": 0,
             "ticks": ""
            },
            "colorscale": [
             [
              0,
              "#0d0887"
             ],
             [
              0.1111111111111111,
              "#46039f"
             ],
             [
              0.2222222222222222,
              "#7201a8"
             ],
             [
              0.3333333333333333,
              "#9c179e"
             ],
             [
              0.4444444444444444,
              "#bd3786"
             ],
             [
              0.5555555555555556,
              "#d8576b"
             ],
             [
              0.6666666666666666,
              "#ed7953"
             ],
             [
              0.7777777777777778,
              "#fb9f3a"
             ],
             [
              0.8888888888888888,
              "#fdca26"
             ],
             [
              1,
              "#f0f921"
             ]
            ],
            "type": "heatmap"
           }
          ],
          "heatmapgl": [
           {
            "colorbar": {
             "outlinewidth": 0,
             "ticks": ""
            },
            "colorscale": [
             [
              0,
              "#0d0887"
             ],
             [
              0.1111111111111111,
              "#46039f"
             ],
             [
              0.2222222222222222,
              "#7201a8"
             ],
             [
              0.3333333333333333,
              "#9c179e"
             ],
             [
              0.4444444444444444,
              "#bd3786"
             ],
             [
              0.5555555555555556,
              "#d8576b"
             ],
             [
              0.6666666666666666,
              "#ed7953"
             ],
             [
              0.7777777777777778,
              "#fb9f3a"
             ],
             [
              0.8888888888888888,
              "#fdca26"
             ],
             [
              1,
              "#f0f921"
             ]
            ],
            "type": "heatmapgl"
           }
          ],
          "histogram": [
           {
            "marker": {
             "pattern": {
              "fillmode": "overlay",
              "size": 10,
              "solidity": 0.2
             }
            },
            "type": "histogram"
           }
          ],
          "histogram2d": [
           {
            "colorbar": {
             "outlinewidth": 0,
             "ticks": ""
            },
            "colorscale": [
             [
              0,
              "#0d0887"
             ],
             [
              0.1111111111111111,
              "#46039f"
             ],
             [
              0.2222222222222222,
              "#7201a8"
             ],
             [
              0.3333333333333333,
              "#9c179e"
             ],
             [
              0.4444444444444444,
              "#bd3786"
             ],
             [
              0.5555555555555556,
              "#d8576b"
             ],
             [
              0.6666666666666666,
              "#ed7953"
             ],
             [
              0.7777777777777778,
              "#fb9f3a"
             ],
             [
              0.8888888888888888,
              "#fdca26"
             ],
             [
              1,
              "#f0f921"
             ]
            ],
            "type": "histogram2d"
           }
          ],
          "histogram2dcontour": [
           {
            "colorbar": {
             "outlinewidth": 0,
             "ticks": ""
            },
            "colorscale": [
             [
              0,
              "#0d0887"
             ],
             [
              0.1111111111111111,
              "#46039f"
             ],
             [
              0.2222222222222222,
              "#7201a8"
             ],
             [
              0.3333333333333333,
              "#9c179e"
             ],
             [
              0.4444444444444444,
              "#bd3786"
             ],
             [
              0.5555555555555556,
              "#d8576b"
             ],
             [
              0.6666666666666666,
              "#ed7953"
             ],
             [
              0.7777777777777778,
              "#fb9f3a"
             ],
             [
              0.8888888888888888,
              "#fdca26"
             ],
             [
              1,
              "#f0f921"
             ]
            ],
            "type": "histogram2dcontour"
           }
          ],
          "mesh3d": [
           {
            "colorbar": {
             "outlinewidth": 0,
             "ticks": ""
            },
            "type": "mesh3d"
           }
          ],
          "parcoords": [
           {
            "line": {
             "colorbar": {
              "outlinewidth": 0,
              "ticks": ""
             }
            },
            "type": "parcoords"
           }
          ],
          "pie": [
           {
            "automargin": true,
            "type": "pie"
           }
          ],
          "scatter": [
           {
            "fillpattern": {
             "fillmode": "overlay",
             "size": 10,
             "solidity": 0.2
            },
            "type": "scatter"
           }
          ],
          "scatter3d": [
           {
            "line": {
             "colorbar": {
              "outlinewidth": 0,
              "ticks": ""
             }
            },
            "marker": {
             "colorbar": {
              "outlinewidth": 0,
              "ticks": ""
             }
            },
            "type": "scatter3d"
           }
          ],
          "scattercarpet": [
           {
            "marker": {
             "colorbar": {
              "outlinewidth": 0,
              "ticks": ""
             }
            },
            "type": "scattercarpet"
           }
          ],
          "scattergeo": [
           {
            "marker": {
             "colorbar": {
              "outlinewidth": 0,
              "ticks": ""
             }
            },
            "type": "scattergeo"
           }
          ],
          "scattergl": [
           {
            "marker": {
             "colorbar": {
              "outlinewidth": 0,
              "ticks": ""
             }
            },
            "type": "scattergl"
           }
          ],
          "scattermapbox": [
           {
            "marker": {
             "colorbar": {
              "outlinewidth": 0,
              "ticks": ""
             }
            },
            "type": "scattermapbox"
           }
          ],
          "scatterpolar": [
           {
            "marker": {
             "colorbar": {
              "outlinewidth": 0,
              "ticks": ""
             }
            },
            "type": "scatterpolar"
           }
          ],
          "scatterpolargl": [
           {
            "marker": {
             "colorbar": {
              "outlinewidth": 0,
              "ticks": ""
             }
            },
            "type": "scatterpolargl"
           }
          ],
          "scatterternary": [
           {
            "marker": {
             "colorbar": {
              "outlinewidth": 0,
              "ticks": ""
             }
            },
            "type": "scatterternary"
           }
          ],
          "surface": [
           {
            "colorbar": {
             "outlinewidth": 0,
             "ticks": ""
            },
            "colorscale": [
             [
              0,
              "#0d0887"
             ],
             [
              0.1111111111111111,
              "#46039f"
             ],
             [
              0.2222222222222222,
              "#7201a8"
             ],
             [
              0.3333333333333333,
              "#9c179e"
             ],
             [
              0.4444444444444444,
              "#bd3786"
             ],
             [
              0.5555555555555556,
              "#d8576b"
             ],
             [
              0.6666666666666666,
              "#ed7953"
             ],
             [
              0.7777777777777778,
              "#fb9f3a"
             ],
             [
              0.8888888888888888,
              "#fdca26"
             ],
             [
              1,
              "#f0f921"
             ]
            ],
            "type": "surface"
           }
          ],
          "table": [
           {
            "cells": {
             "fill": {
              "color": "#EBF0F8"
             },
             "line": {
              "color": "white"
             }
            },
            "header": {
             "fill": {
              "color": "#C8D4E3"
             },
             "line": {
              "color": "white"
             }
            },
            "type": "table"
           }
          ]
         },
         "layout": {
          "annotationdefaults": {
           "arrowcolor": "#2a3f5f",
           "arrowhead": 0,
           "arrowwidth": 1
          },
          "autotypenumbers": "strict",
          "coloraxis": {
           "colorbar": {
            "outlinewidth": 0,
            "ticks": ""
           }
          },
          "colorscale": {
           "diverging": [
            [
             0,
             "#8e0152"
            ],
            [
             0.1,
             "#c51b7d"
            ],
            [
             0.2,
             "#de77ae"
            ],
            [
             0.3,
             "#f1b6da"
            ],
            [
             0.4,
             "#fde0ef"
            ],
            [
             0.5,
             "#f7f7f7"
            ],
            [
             0.6,
             "#e6f5d0"
            ],
            [
             0.7,
             "#b8e186"
            ],
            [
             0.8,
             "#7fbc41"
            ],
            [
             0.9,
             "#4d9221"
            ],
            [
             1,
             "#276419"
            ]
           ],
           "sequential": [
            [
             0,
             "#0d0887"
            ],
            [
             0.1111111111111111,
             "#46039f"
            ],
            [
             0.2222222222222222,
             "#7201a8"
            ],
            [
             0.3333333333333333,
             "#9c179e"
            ],
            [
             0.4444444444444444,
             "#bd3786"
            ],
            [
             0.5555555555555556,
             "#d8576b"
            ],
            [
             0.6666666666666666,
             "#ed7953"
            ],
            [
             0.7777777777777778,
             "#fb9f3a"
            ],
            [
             0.8888888888888888,
             "#fdca26"
            ],
            [
             1,
             "#f0f921"
            ]
           ],
           "sequentialminus": [
            [
             0,
             "#0d0887"
            ],
            [
             0.1111111111111111,
             "#46039f"
            ],
            [
             0.2222222222222222,
             "#7201a8"
            ],
            [
             0.3333333333333333,
             "#9c179e"
            ],
            [
             0.4444444444444444,
             "#bd3786"
            ],
            [
             0.5555555555555556,
             "#d8576b"
            ],
            [
             0.6666666666666666,
             "#ed7953"
            ],
            [
             0.7777777777777778,
             "#fb9f3a"
            ],
            [
             0.8888888888888888,
             "#fdca26"
            ],
            [
             1,
             "#f0f921"
            ]
           ]
          },
          "colorway": [
           "#636efa",
           "#EF553B",
           "#00cc96",
           "#ab63fa",
           "#FFA15A",
           "#19d3f3",
           "#FF6692",
           "#B6E880",
           "#FF97FF",
           "#FECB52"
          ],
          "font": {
           "color": "#2a3f5f"
          },
          "geo": {
           "bgcolor": "white",
           "lakecolor": "white",
           "landcolor": "#E5ECF6",
           "showlakes": true,
           "showland": true,
           "subunitcolor": "white"
          },
          "hoverlabel": {
           "align": "left"
          },
          "hovermode": "closest",
          "mapbox": {
           "style": "light"
          },
          "paper_bgcolor": "white",
          "plot_bgcolor": "#E5ECF6",
          "polar": {
           "angularaxis": {
            "gridcolor": "white",
            "linecolor": "white",
            "ticks": ""
           },
           "bgcolor": "#E5ECF6",
           "radialaxis": {
            "gridcolor": "white",
            "linecolor": "white",
            "ticks": ""
           }
          },
          "scene": {
           "xaxis": {
            "backgroundcolor": "#E5ECF6",
            "gridcolor": "white",
            "gridwidth": 2,
            "linecolor": "white",
            "showbackground": true,
            "ticks": "",
            "zerolinecolor": "white"
           },
           "yaxis": {
            "backgroundcolor": "#E5ECF6",
            "gridcolor": "white",
            "gridwidth": 2,
            "linecolor": "white",
            "showbackground": true,
            "ticks": "",
            "zerolinecolor": "white"
           },
           "zaxis": {
            "backgroundcolor": "#E5ECF6",
            "gridcolor": "white",
            "gridwidth": 2,
            "linecolor": "white",
            "showbackground": true,
            "ticks": "",
            "zerolinecolor": "white"
           }
          },
          "shapedefaults": {
           "line": {
            "color": "#2a3f5f"
           }
          },
          "ternary": {
           "aaxis": {
            "gridcolor": "white",
            "linecolor": "white",
            "ticks": ""
           },
           "baxis": {
            "gridcolor": "white",
            "linecolor": "white",
            "ticks": ""
           },
           "bgcolor": "#E5ECF6",
           "caxis": {
            "gridcolor": "white",
            "linecolor": "white",
            "ticks": ""
           }
          },
          "title": {
           "x": 0.05
          },
          "xaxis": {
           "automargin": true,
           "gridcolor": "white",
           "linecolor": "white",
           "ticks": "",
           "title": {
            "standoff": 15
           },
           "zerolinecolor": "white",
           "zerolinewidth": 2
          },
          "yaxis": {
           "automargin": true,
           "gridcolor": "white",
           "linecolor": "white",
           "ticks": "",
           "title": {
            "standoff": 15
           },
           "zerolinecolor": "white",
           "zerolinewidth": 2
          }
         }
        },
        "title": {
         "text": "HEATWAVE INDEX<br>Number of days that are part of a heatwave defined as 5 or more consequtive days over a threshold of 25.0 degC<br>Location: lat 52.09°, lon 4.39°",
         "x": 0.5,
         "xanchor": "center"
        },
        "width": 1100,
        "xaxis": {
         "title": {
          "text": "Year"
         }
        },
        "yaxis": {
         "title": {
          "text": "Number of days"
         }
        }
       }
      }
     },
     "metadata": {},
     "output_type": "display_data"
    }
   ],
   "source": [
    "# This code plots the data with heatwave index for the selected pixel \n",
    "# Sample data\n",
    "b = pixel_values_hwih + pixel_values_hwi45\n",
    "t = pixel_values_hwih + pixel_values_hwi85 \n",
    "# Define years\n",
    "yearh = list(range(1971, 2001))\n",
    "yearp1 = list(range(2011, 2101))\n",
    "year = yearh + yearp1\n",
    "# Create figure\n",
    "fig = go.Figure()\n",
    "# Add bar trace for 'b'\n",
    "fig.add_trace(go.Bar(x=year, y=b, name='RCP4.5', marker_color='blue'))\n",
    "# Add bar trace for 't'\n",
    "fig.add_trace(go.Bar(x=year, y=t, name='RCP8.5', opacity=0.5, marker_color='red'))\n",
    "\n",
    "# Add information on models\n",
    "fig.add_annotation(xref='paper',yref='paper', y=-0.2,x=1, showarrow=False,\n",
    "            text=f'GCM-RCM: {gcm_model} - {rcm_model}')\n",
    "\n",
    "# Update layout\n",
    "fig.update_layout(\n",
    "    title={'text':f'HEATWAVE INDEX<br>Number of days that are part of a heatwave defined as {thresh_window} or more consequtive days over a threshold of {thresh_tempmax}<br>Location: lat {lat:.02f}\\u00B0, lon {lon:.02f}\\u00B0','x':0.5,'xanchor': 'center'},\n",
    "    xaxis_title='Year',\n",
    "    yaxis_title='Number of days',\n",
    "    legend=dict(x=0, y=1, traceorder='normal', orientation='h'),\n",
    "    width=1100,\n",
    "    height=500)"
   ]
  },
  {
   "cell_type": "markdown",
   "id": "e748669d-b79c-4126-a038-2afc4853eb5a",
   "metadata": {},
   "source": [
    "### Plot the heatwave frequency\n",
    "Number of heatwaves over a given period. A heatwave is defined as an event where the minimum and maximum daily temperature both exceed specific thresholds over a minimum number of days. The number of the heatwaves depends strictly on the threshold which we selected above."
   ]
  },
  {
   "cell_type": "code",
   "execution_count": 71,
   "id": "fbc92bdc-3ac4-46af-952e-352ada5c50f9",
   "metadata": {},
   "outputs": [
    {
     "data": {
      "application/vnd.plotly.v1+json": {
       "config": {
        "plotlyServerURL": "https://plot.ly"
       },
       "data": [
        {
         "marker": {
          "color": "blue"
         },
         "name": "RCP4.5",
         "type": "bar",
         "x": [
          1971,
          1972,
          1973,
          1974,
          1975,
          1976,
          1977,
          1978,
          1979,
          1980,
          1981,
          1982,
          1983,
          1984,
          1985,
          1986,
          1987,
          1988,
          1989,
          1990,
          1991,
          1992,
          1993,
          1994,
          1995,
          1996,
          1997,
          1998,
          1999,
          2000,
          2011,
          2012,
          2013,
          2014,
          2015,
          2016,
          2017,
          2018,
          2019,
          2020,
          2021,
          2022,
          2023,
          2024,
          2025,
          2026,
          2027,
          2028,
          2029,
          2030,
          2031,
          2032,
          2033,
          2034,
          2035,
          2036,
          2037,
          2038,
          2039,
          2040,
          2041,
          2042,
          2043,
          2044,
          2045,
          2046,
          2047,
          2048,
          2049,
          2050,
          2051,
          2052,
          2053,
          2054,
          2055,
          2056,
          2057,
          2058,
          2059,
          2060,
          2061,
          2062,
          2063,
          2064,
          2065,
          2066,
          2067,
          2068,
          2069,
          2070,
          2071,
          2072,
          2073,
          2074,
          2075,
          2076,
          2077,
          2078,
          2079,
          2080,
          2081,
          2082,
          2083,
          2084,
          2085,
          2086,
          2087,
          2088,
          2089,
          2090,
          2091,
          2092,
          2093,
          2094,
          2095,
          2096,
          2097,
          2098,
          2099,
          2100
         ],
         "y": [
          0,
          0,
          0,
          0,
          0,
          0,
          0,
          0,
          0,
          0,
          0,
          0,
          0,
          0,
          0,
          0,
          0,
          0,
          0,
          0,
          0,
          0,
          0,
          0,
          0,
          0,
          0,
          0,
          1,
          0,
          0,
          0,
          0,
          0,
          0,
          0,
          0,
          0,
          0,
          0,
          0,
          0,
          0,
          0,
          0,
          0,
          0,
          0,
          0,
          0,
          0,
          0,
          0,
          0,
          0,
          0,
          0,
          0,
          0,
          0,
          0,
          0,
          0,
          0,
          0
         ]
        },
        {
         "marker": {
          "color": "red"
         },
         "name": "RCP8.5",
         "opacity": 0.5,
         "type": "bar",
         "x": [
          1971,
          1972,
          1973,
          1974,
          1975,
          1976,
          1977,
          1978,
          1979,
          1980,
          1981,
          1982,
          1983,
          1984,
          1985,
          1986,
          1987,
          1988,
          1989,
          1990,
          1991,
          1992,
          1993,
          1994,
          1995,
          1996,
          1997,
          1998,
          1999,
          2000,
          2011,
          2012,
          2013,
          2014,
          2015,
          2016,
          2017,
          2018,
          2019,
          2020,
          2021,
          2022,
          2023,
          2024,
          2025,
          2026,
          2027,
          2028,
          2029,
          2030,
          2031,
          2032,
          2033,
          2034,
          2035,
          2036,
          2037,
          2038,
          2039,
          2040,
          2041,
          2042,
          2043,
          2044,
          2045,
          2046,
          2047,
          2048,
          2049,
          2050,
          2051,
          2052,
          2053,
          2054,
          2055,
          2056,
          2057,
          2058,
          2059,
          2060,
          2061,
          2062,
          2063,
          2064,
          2065,
          2066,
          2067,
          2068,
          2069,
          2070,
          2071,
          2072,
          2073,
          2074,
          2075,
          2076,
          2077,
          2078,
          2079,
          2080,
          2081,
          2082,
          2083,
          2084,
          2085,
          2086,
          2087,
          2088,
          2089,
          2090,
          2091,
          2092,
          2093,
          2094,
          2095,
          2096,
          2097,
          2098,
          2099,
          2100
         ],
         "y": [
          0,
          0,
          0,
          0,
          0,
          0,
          0,
          0,
          0,
          0,
          0,
          0,
          0,
          0,
          0,
          0,
          0,
          0,
          0,
          0,
          0,
          0,
          0,
          0,
          0,
          0,
          0,
          0,
          1,
          0,
          0,
          0,
          0,
          0,
          0,
          0,
          0,
          0,
          0,
          0,
          0,
          0,
          0,
          0,
          0,
          0,
          0,
          0,
          0,
          0,
          0,
          0,
          0,
          0,
          0,
          0,
          0,
          0,
          0,
          0,
          0,
          0,
          0,
          0,
          0
         ]
        }
       ],
       "layout": {
        "annotations": [
         {
          "showarrow": false,
          "text": "GCM-RCM: cnrm_cerfacs_cm5 - clmcom_clm_cclm4_8_17",
          "x": 1,
          "xref": "paper",
          "y": -0.2,
          "yref": "paper"
         }
        ],
        "height": 500,
        "legend": {
         "orientation": "h",
         "traceorder": "normal",
         "x": 0,
         "y": 1
        },
        "template": {
         "data": {
          "bar": [
           {
            "error_x": {
             "color": "#2a3f5f"
            },
            "error_y": {
             "color": "#2a3f5f"
            },
            "marker": {
             "line": {
              "color": "#E5ECF6",
              "width": 0.5
             },
             "pattern": {
              "fillmode": "overlay",
              "size": 10,
              "solidity": 0.2
             }
            },
            "type": "bar"
           }
          ],
          "barpolar": [
           {
            "marker": {
             "line": {
              "color": "#E5ECF6",
              "width": 0.5
             },
             "pattern": {
              "fillmode": "overlay",
              "size": 10,
              "solidity": 0.2
             }
            },
            "type": "barpolar"
           }
          ],
          "carpet": [
           {
            "aaxis": {
             "endlinecolor": "#2a3f5f",
             "gridcolor": "white",
             "linecolor": "white",
             "minorgridcolor": "white",
             "startlinecolor": "#2a3f5f"
            },
            "baxis": {
             "endlinecolor": "#2a3f5f",
             "gridcolor": "white",
             "linecolor": "white",
             "minorgridcolor": "white",
             "startlinecolor": "#2a3f5f"
            },
            "type": "carpet"
           }
          ],
          "choropleth": [
           {
            "colorbar": {
             "outlinewidth": 0,
             "ticks": ""
            },
            "type": "choropleth"
           }
          ],
          "contour": [
           {
            "colorbar": {
             "outlinewidth": 0,
             "ticks": ""
            },
            "colorscale": [
             [
              0,
              "#0d0887"
             ],
             [
              0.1111111111111111,
              "#46039f"
             ],
             [
              0.2222222222222222,
              "#7201a8"
             ],
             [
              0.3333333333333333,
              "#9c179e"
             ],
             [
              0.4444444444444444,
              "#bd3786"
             ],
             [
              0.5555555555555556,
              "#d8576b"
             ],
             [
              0.6666666666666666,
              "#ed7953"
             ],
             [
              0.7777777777777778,
              "#fb9f3a"
             ],
             [
              0.8888888888888888,
              "#fdca26"
             ],
             [
              1,
              "#f0f921"
             ]
            ],
            "type": "contour"
           }
          ],
          "contourcarpet": [
           {
            "colorbar": {
             "outlinewidth": 0,
             "ticks": ""
            },
            "type": "contourcarpet"
           }
          ],
          "heatmap": [
           {
            "colorbar": {
             "outlinewidth": 0,
             "ticks": ""
            },
            "colorscale": [
             [
              0,
              "#0d0887"
             ],
             [
              0.1111111111111111,
              "#46039f"
             ],
             [
              0.2222222222222222,
              "#7201a8"
             ],
             [
              0.3333333333333333,
              "#9c179e"
             ],
             [
              0.4444444444444444,
              "#bd3786"
             ],
             [
              0.5555555555555556,
              "#d8576b"
             ],
             [
              0.6666666666666666,
              "#ed7953"
             ],
             [
              0.7777777777777778,
              "#fb9f3a"
             ],
             [
              0.8888888888888888,
              "#fdca26"
             ],
             [
              1,
              "#f0f921"
             ]
            ],
            "type": "heatmap"
           }
          ],
          "heatmapgl": [
           {
            "colorbar": {
             "outlinewidth": 0,
             "ticks": ""
            },
            "colorscale": [
             [
              0,
              "#0d0887"
             ],
             [
              0.1111111111111111,
              "#46039f"
             ],
             [
              0.2222222222222222,
              "#7201a8"
             ],
             [
              0.3333333333333333,
              "#9c179e"
             ],
             [
              0.4444444444444444,
              "#bd3786"
             ],
             [
              0.5555555555555556,
              "#d8576b"
             ],
             [
              0.6666666666666666,
              "#ed7953"
             ],
             [
              0.7777777777777778,
              "#fb9f3a"
             ],
             [
              0.8888888888888888,
              "#fdca26"
             ],
             [
              1,
              "#f0f921"
             ]
            ],
            "type": "heatmapgl"
           }
          ],
          "histogram": [
           {
            "marker": {
             "pattern": {
              "fillmode": "overlay",
              "size": 10,
              "solidity": 0.2
             }
            },
            "type": "histogram"
           }
          ],
          "histogram2d": [
           {
            "colorbar": {
             "outlinewidth": 0,
             "ticks": ""
            },
            "colorscale": [
             [
              0,
              "#0d0887"
             ],
             [
              0.1111111111111111,
              "#46039f"
             ],
             [
              0.2222222222222222,
              "#7201a8"
             ],
             [
              0.3333333333333333,
              "#9c179e"
             ],
             [
              0.4444444444444444,
              "#bd3786"
             ],
             [
              0.5555555555555556,
              "#d8576b"
             ],
             [
              0.6666666666666666,
              "#ed7953"
             ],
             [
              0.7777777777777778,
              "#fb9f3a"
             ],
             [
              0.8888888888888888,
              "#fdca26"
             ],
             [
              1,
              "#f0f921"
             ]
            ],
            "type": "histogram2d"
           }
          ],
          "histogram2dcontour": [
           {
            "colorbar": {
             "outlinewidth": 0,
             "ticks": ""
            },
            "colorscale": [
             [
              0,
              "#0d0887"
             ],
             [
              0.1111111111111111,
              "#46039f"
             ],
             [
              0.2222222222222222,
              "#7201a8"
             ],
             [
              0.3333333333333333,
              "#9c179e"
             ],
             [
              0.4444444444444444,
              "#bd3786"
             ],
             [
              0.5555555555555556,
              "#d8576b"
             ],
             [
              0.6666666666666666,
              "#ed7953"
             ],
             [
              0.7777777777777778,
              "#fb9f3a"
             ],
             [
              0.8888888888888888,
              "#fdca26"
             ],
             [
              1,
              "#f0f921"
             ]
            ],
            "type": "histogram2dcontour"
           }
          ],
          "mesh3d": [
           {
            "colorbar": {
             "outlinewidth": 0,
             "ticks": ""
            },
            "type": "mesh3d"
           }
          ],
          "parcoords": [
           {
            "line": {
             "colorbar": {
              "outlinewidth": 0,
              "ticks": ""
             }
            },
            "type": "parcoords"
           }
          ],
          "pie": [
           {
            "automargin": true,
            "type": "pie"
           }
          ],
          "scatter": [
           {
            "fillpattern": {
             "fillmode": "overlay",
             "size": 10,
             "solidity": 0.2
            },
            "type": "scatter"
           }
          ],
          "scatter3d": [
           {
            "line": {
             "colorbar": {
              "outlinewidth": 0,
              "ticks": ""
             }
            },
            "marker": {
             "colorbar": {
              "outlinewidth": 0,
              "ticks": ""
             }
            },
            "type": "scatter3d"
           }
          ],
          "scattercarpet": [
           {
            "marker": {
             "colorbar": {
              "outlinewidth": 0,
              "ticks": ""
             }
            },
            "type": "scattercarpet"
           }
          ],
          "scattergeo": [
           {
            "marker": {
             "colorbar": {
              "outlinewidth": 0,
              "ticks": ""
             }
            },
            "type": "scattergeo"
           }
          ],
          "scattergl": [
           {
            "marker": {
             "colorbar": {
              "outlinewidth": 0,
              "ticks": ""
             }
            },
            "type": "scattergl"
           }
          ],
          "scattermapbox": [
           {
            "marker": {
             "colorbar": {
              "outlinewidth": 0,
              "ticks": ""
             }
            },
            "type": "scattermapbox"
           }
          ],
          "scatterpolar": [
           {
            "marker": {
             "colorbar": {
              "outlinewidth": 0,
              "ticks": ""
             }
            },
            "type": "scatterpolar"
           }
          ],
          "scatterpolargl": [
           {
            "marker": {
             "colorbar": {
              "outlinewidth": 0,
              "ticks": ""
             }
            },
            "type": "scatterpolargl"
           }
          ],
          "scatterternary": [
           {
            "marker": {
             "colorbar": {
              "outlinewidth": 0,
              "ticks": ""
             }
            },
            "type": "scatterternary"
           }
          ],
          "surface": [
           {
            "colorbar": {
             "outlinewidth": 0,
             "ticks": ""
            },
            "colorscale": [
             [
              0,
              "#0d0887"
             ],
             [
              0.1111111111111111,
              "#46039f"
             ],
             [
              0.2222222222222222,
              "#7201a8"
             ],
             [
              0.3333333333333333,
              "#9c179e"
             ],
             [
              0.4444444444444444,
              "#bd3786"
             ],
             [
              0.5555555555555556,
              "#d8576b"
             ],
             [
              0.6666666666666666,
              "#ed7953"
             ],
             [
              0.7777777777777778,
              "#fb9f3a"
             ],
             [
              0.8888888888888888,
              "#fdca26"
             ],
             [
              1,
              "#f0f921"
             ]
            ],
            "type": "surface"
           }
          ],
          "table": [
           {
            "cells": {
             "fill": {
              "color": "#EBF0F8"
             },
             "line": {
              "color": "white"
             }
            },
            "header": {
             "fill": {
              "color": "#C8D4E3"
             },
             "line": {
              "color": "white"
             }
            },
            "type": "table"
           }
          ]
         },
         "layout": {
          "annotationdefaults": {
           "arrowcolor": "#2a3f5f",
           "arrowhead": 0,
           "arrowwidth": 1
          },
          "autotypenumbers": "strict",
          "coloraxis": {
           "colorbar": {
            "outlinewidth": 0,
            "ticks": ""
           }
          },
          "colorscale": {
           "diverging": [
            [
             0,
             "#8e0152"
            ],
            [
             0.1,
             "#c51b7d"
            ],
            [
             0.2,
             "#de77ae"
            ],
            [
             0.3,
             "#f1b6da"
            ],
            [
             0.4,
             "#fde0ef"
            ],
            [
             0.5,
             "#f7f7f7"
            ],
            [
             0.6,
             "#e6f5d0"
            ],
            [
             0.7,
             "#b8e186"
            ],
            [
             0.8,
             "#7fbc41"
            ],
            [
             0.9,
             "#4d9221"
            ],
            [
             1,
             "#276419"
            ]
           ],
           "sequential": [
            [
             0,
             "#0d0887"
            ],
            [
             0.1111111111111111,
             "#46039f"
            ],
            [
             0.2222222222222222,
             "#7201a8"
            ],
            [
             0.3333333333333333,
             "#9c179e"
            ],
            [
             0.4444444444444444,
             "#bd3786"
            ],
            [
             0.5555555555555556,
             "#d8576b"
            ],
            [
             0.6666666666666666,
             "#ed7953"
            ],
            [
             0.7777777777777778,
             "#fb9f3a"
            ],
            [
             0.8888888888888888,
             "#fdca26"
            ],
            [
             1,
             "#f0f921"
            ]
           ],
           "sequentialminus": [
            [
             0,
             "#0d0887"
            ],
            [
             0.1111111111111111,
             "#46039f"
            ],
            [
             0.2222222222222222,
             "#7201a8"
            ],
            [
             0.3333333333333333,
             "#9c179e"
            ],
            [
             0.4444444444444444,
             "#bd3786"
            ],
            [
             0.5555555555555556,
             "#d8576b"
            ],
            [
             0.6666666666666666,
             "#ed7953"
            ],
            [
             0.7777777777777778,
             "#fb9f3a"
            ],
            [
             0.8888888888888888,
             "#fdca26"
            ],
            [
             1,
             "#f0f921"
            ]
           ]
          },
          "colorway": [
           "#636efa",
           "#EF553B",
           "#00cc96",
           "#ab63fa",
           "#FFA15A",
           "#19d3f3",
           "#FF6692",
           "#B6E880",
           "#FF97FF",
           "#FECB52"
          ],
          "font": {
           "color": "#2a3f5f"
          },
          "geo": {
           "bgcolor": "white",
           "lakecolor": "white",
           "landcolor": "#E5ECF6",
           "showlakes": true,
           "showland": true,
           "subunitcolor": "white"
          },
          "hoverlabel": {
           "align": "left"
          },
          "hovermode": "closest",
          "mapbox": {
           "style": "light"
          },
          "paper_bgcolor": "white",
          "plot_bgcolor": "#E5ECF6",
          "polar": {
           "angularaxis": {
            "gridcolor": "white",
            "linecolor": "white",
            "ticks": ""
           },
           "bgcolor": "#E5ECF6",
           "radialaxis": {
            "gridcolor": "white",
            "linecolor": "white",
            "ticks": ""
           }
          },
          "scene": {
           "xaxis": {
            "backgroundcolor": "#E5ECF6",
            "gridcolor": "white",
            "gridwidth": 2,
            "linecolor": "white",
            "showbackground": true,
            "ticks": "",
            "zerolinecolor": "white"
           },
           "yaxis": {
            "backgroundcolor": "#E5ECF6",
            "gridcolor": "white",
            "gridwidth": 2,
            "linecolor": "white",
            "showbackground": true,
            "ticks": "",
            "zerolinecolor": "white"
           },
           "zaxis": {
            "backgroundcolor": "#E5ECF6",
            "gridcolor": "white",
            "gridwidth": 2,
            "linecolor": "white",
            "showbackground": true,
            "ticks": "",
            "zerolinecolor": "white"
           }
          },
          "shapedefaults": {
           "line": {
            "color": "#2a3f5f"
           }
          },
          "ternary": {
           "aaxis": {
            "gridcolor": "white",
            "linecolor": "white",
            "ticks": ""
           },
           "baxis": {
            "gridcolor": "white",
            "linecolor": "white",
            "ticks": ""
           },
           "bgcolor": "#E5ECF6",
           "caxis": {
            "gridcolor": "white",
            "linecolor": "white",
            "ticks": ""
           }
          },
          "title": {
           "x": 0.05
          },
          "xaxis": {
           "automargin": true,
           "gridcolor": "white",
           "linecolor": "white",
           "ticks": "",
           "title": {
            "standoff": 15
           },
           "zerolinecolor": "white",
           "zerolinewidth": 2
          },
          "yaxis": {
           "automargin": true,
           "gridcolor": "white",
           "linecolor": "white",
           "ticks": "",
           "title": {
            "standoff": 15
           },
           "zerolinecolor": "white",
           "zerolinewidth": 2
          }
         }
        },
        "title": {
         "text": "HEATWAVE FREQUENCY<br>based on temperature thresholds for day and night: 28.0 degC and 22.0 degC, for at least 3 consequtive days<br>Location: lat 52.09°, lon 4.39°",
         "x": 0.5,
         "xanchor": "center"
        },
        "width": 1100,
        "xaxis": {
         "title": {
          "text": "Year"
         }
        },
        "yaxis": {
         "title": {
          "text": "Number of heatwaves per year"
         }
        }
       }
      }
     },
     "metadata": {},
     "output_type": "display_data"
    }
   ],
   "source": [
    "# This code plots the data with heatwave frequency for the selected pixel \n",
    "# Sample data\n",
    "b = pixel_values_hwfh + pixel_values_hwf45\n",
    "t = pixel_values_hwfh + pixel_values_hwf85 \n",
    "# Define years\n",
    "yearh = list(range(1971, 2001))\n",
    "yearp1 = list(range(2011, 2101))\n",
    "year = yearh + yearp1\n",
    "# Create figure\n",
    "fig = go.Figure()\n",
    "# Add bar trace for 'b'\n",
    "fig.add_trace(go.Bar(x=year, y=b, name='RCP4.5', marker_color='blue'))\n",
    "# Add bar trace for 't'\n",
    "fig.add_trace(go.Bar(x=year, y=t, name='RCP8.5', opacity=0.5, marker_color='red'))\n",
    "# Update layout\n",
    "\n",
    "# Add information on models\n",
    "fig.add_annotation(xref='paper',yref='paper', y=-0.2,x=1, showarrow=False,\n",
    "            text=f'GCM-RCM: {gcm_model} - {rcm_model}')\n",
    "\n",
    "fig.update_layout(\n",
    "    title={'text':f'HEATWAVE FREQUENCY<br>based on temperature thresholds for day and night: {thresh_tasmax} and {thresh_tasmin}, for at least {thresh_window_hfreq} consequtive days<br>Location: lat {lat:.02f}\\u00B0, lon {lon:.02f}\\u00B0','x':0.5,'xanchor': 'center'},\n",
    "    xaxis_title='Year',\n",
    "    yaxis_title='Number of heatwaves per year',\n",
    "    legend=dict(x=0, y=1, traceorder='normal', orientation='h'),\n",
    "    width=1100,\n",
    "    height=500)"
   ]
  },
  {
   "cell_type": "markdown",
   "id": "935a52f3-25f5-4389-a170-4c9b0c5ef005",
   "metadata": {},
   "source": [
    "### Plot the heatwave total length\n",
    "Total length of heatwaves over a given period. A heatwave is defined as an event where the minimum and maximum daily temperature both exceeds specific thresholds over a minimum number of days. This the sum of all days in such events."
   ]
  },
  {
   "cell_type": "code",
   "execution_count": 70,
   "id": "23af0f2e-fe1c-4001-9f33-30edfe41432e",
   "metadata": {},
   "outputs": [
    {
     "data": {
      "application/vnd.plotly.v1+json": {
       "config": {
        "plotlyServerURL": "https://plot.ly"
       },
       "data": [
        {
         "marker": {
          "color": "blue"
         },
         "name": "RCP4.5",
         "type": "bar",
         "x": [
          1971,
          1972,
          1973,
          1974,
          1975,
          1976,
          1977,
          1978,
          1979,
          1980,
          1981,
          1982,
          1983,
          1984,
          1985,
          1986,
          1987,
          1988,
          1989,
          1990,
          1991,
          1992,
          1993,
          1994,
          1995,
          1996,
          1997,
          1998,
          1999,
          2000,
          2011,
          2012,
          2013,
          2014,
          2015,
          2016,
          2017,
          2018,
          2019,
          2020,
          2021,
          2022,
          2023,
          2024,
          2025,
          2026,
          2027,
          2028,
          2029,
          2030,
          2031,
          2032,
          2033,
          2034,
          2035,
          2036,
          2037,
          2038,
          2039,
          2040,
          2041,
          2042,
          2043,
          2044,
          2045,
          2046,
          2047,
          2048,
          2049,
          2050,
          2051,
          2052,
          2053,
          2054,
          2055,
          2056,
          2057,
          2058,
          2059,
          2060,
          2061,
          2062,
          2063,
          2064,
          2065,
          2066,
          2067,
          2068,
          2069,
          2070,
          2071,
          2072,
          2073,
          2074,
          2075,
          2076,
          2077,
          2078,
          2079,
          2080,
          2081,
          2082,
          2083,
          2084,
          2085,
          2086,
          2087,
          2088,
          2089,
          2090,
          2091,
          2092,
          2093,
          2094,
          2095,
          2096,
          2097,
          2098,
          2099,
          2100
         ],
         "y": [
          0,
          0,
          0,
          0,
          0,
          0,
          0,
          0,
          0,
          0,
          0,
          0,
          0,
          0,
          0,
          0,
          0,
          0,
          0,
          0,
          0,
          0,
          0,
          0,
          0,
          0,
          0,
          0,
          3,
          0,
          0,
          0,
          0,
          0,
          0,
          0,
          0,
          0,
          0,
          0,
          0,
          0,
          0,
          0,
          0,
          0,
          0,
          0,
          0,
          0,
          0,
          0,
          0,
          0,
          0,
          0,
          0,
          0,
          0,
          0,
          0,
          0,
          0,
          0,
          0
         ]
        },
        {
         "marker": {
          "color": "red"
         },
         "name": "RCP8.5",
         "opacity": 0.5,
         "type": "bar",
         "x": [
          1971,
          1972,
          1973,
          1974,
          1975,
          1976,
          1977,
          1978,
          1979,
          1980,
          1981,
          1982,
          1983,
          1984,
          1985,
          1986,
          1987,
          1988,
          1989,
          1990,
          1991,
          1992,
          1993,
          1994,
          1995,
          1996,
          1997,
          1998,
          1999,
          2000,
          2011,
          2012,
          2013,
          2014,
          2015,
          2016,
          2017,
          2018,
          2019,
          2020,
          2021,
          2022,
          2023,
          2024,
          2025,
          2026,
          2027,
          2028,
          2029,
          2030,
          2031,
          2032,
          2033,
          2034,
          2035,
          2036,
          2037,
          2038,
          2039,
          2040,
          2041,
          2042,
          2043,
          2044,
          2045,
          2046,
          2047,
          2048,
          2049,
          2050,
          2051,
          2052,
          2053,
          2054,
          2055,
          2056,
          2057,
          2058,
          2059,
          2060,
          2061,
          2062,
          2063,
          2064,
          2065,
          2066,
          2067,
          2068,
          2069,
          2070,
          2071,
          2072,
          2073,
          2074,
          2075,
          2076,
          2077,
          2078,
          2079,
          2080,
          2081,
          2082,
          2083,
          2084,
          2085,
          2086,
          2087,
          2088,
          2089,
          2090,
          2091,
          2092,
          2093,
          2094,
          2095,
          2096,
          2097,
          2098,
          2099,
          2100
         ],
         "y": [
          0,
          0,
          0,
          0,
          0,
          0,
          0,
          0,
          0,
          0,
          0,
          0,
          0,
          0,
          0,
          0,
          0,
          0,
          0,
          0,
          0,
          0,
          0,
          0,
          0,
          0,
          0,
          0,
          3,
          0,
          0,
          0,
          0,
          0,
          0,
          0,
          0,
          0,
          0,
          0,
          0,
          0,
          0,
          0,
          0,
          0,
          0,
          0,
          0,
          0,
          0,
          0,
          0,
          0,
          0,
          0,
          0,
          0,
          0,
          0,
          0,
          0,
          0,
          0,
          0
         ]
        }
       ],
       "layout": {
        "annotations": [
         {
          "showarrow": false,
          "text": "GCM-RCM: cnrm_cerfacs_cm5 - clmcom_clm_cclm4_8_17",
          "x": 1,
          "xref": "paper",
          "y": -0.2,
          "yref": "paper"
         }
        ],
        "height": 500,
        "legend": {
         "orientation": "h",
         "traceorder": "normal",
         "x": 0,
         "y": 1
        },
        "template": {
         "data": {
          "bar": [
           {
            "error_x": {
             "color": "#2a3f5f"
            },
            "error_y": {
             "color": "#2a3f5f"
            },
            "marker": {
             "line": {
              "color": "#E5ECF6",
              "width": 0.5
             },
             "pattern": {
              "fillmode": "overlay",
              "size": 10,
              "solidity": 0.2
             }
            },
            "type": "bar"
           }
          ],
          "barpolar": [
           {
            "marker": {
             "line": {
              "color": "#E5ECF6",
              "width": 0.5
             },
             "pattern": {
              "fillmode": "overlay",
              "size": 10,
              "solidity": 0.2
             }
            },
            "type": "barpolar"
           }
          ],
          "carpet": [
           {
            "aaxis": {
             "endlinecolor": "#2a3f5f",
             "gridcolor": "white",
             "linecolor": "white",
             "minorgridcolor": "white",
             "startlinecolor": "#2a3f5f"
            },
            "baxis": {
             "endlinecolor": "#2a3f5f",
             "gridcolor": "white",
             "linecolor": "white",
             "minorgridcolor": "white",
             "startlinecolor": "#2a3f5f"
            },
            "type": "carpet"
           }
          ],
          "choropleth": [
           {
            "colorbar": {
             "outlinewidth": 0,
             "ticks": ""
            },
            "type": "choropleth"
           }
          ],
          "contour": [
           {
            "colorbar": {
             "outlinewidth": 0,
             "ticks": ""
            },
            "colorscale": [
             [
              0,
              "#0d0887"
             ],
             [
              0.1111111111111111,
              "#46039f"
             ],
             [
              0.2222222222222222,
              "#7201a8"
             ],
             [
              0.3333333333333333,
              "#9c179e"
             ],
             [
              0.4444444444444444,
              "#bd3786"
             ],
             [
              0.5555555555555556,
              "#d8576b"
             ],
             [
              0.6666666666666666,
              "#ed7953"
             ],
             [
              0.7777777777777778,
              "#fb9f3a"
             ],
             [
              0.8888888888888888,
              "#fdca26"
             ],
             [
              1,
              "#f0f921"
             ]
            ],
            "type": "contour"
           }
          ],
          "contourcarpet": [
           {
            "colorbar": {
             "outlinewidth": 0,
             "ticks": ""
            },
            "type": "contourcarpet"
           }
          ],
          "heatmap": [
           {
            "colorbar": {
             "outlinewidth": 0,
             "ticks": ""
            },
            "colorscale": [
             [
              0,
              "#0d0887"
             ],
             [
              0.1111111111111111,
              "#46039f"
             ],
             [
              0.2222222222222222,
              "#7201a8"
             ],
             [
              0.3333333333333333,
              "#9c179e"
             ],
             [
              0.4444444444444444,
              "#bd3786"
             ],
             [
              0.5555555555555556,
              "#d8576b"
             ],
             [
              0.6666666666666666,
              "#ed7953"
             ],
             [
              0.7777777777777778,
              "#fb9f3a"
             ],
             [
              0.8888888888888888,
              "#fdca26"
             ],
             [
              1,
              "#f0f921"
             ]
            ],
            "type": "heatmap"
           }
          ],
          "heatmapgl": [
           {
            "colorbar": {
             "outlinewidth": 0,
             "ticks": ""
            },
            "colorscale": [
             [
              0,
              "#0d0887"
             ],
             [
              0.1111111111111111,
              "#46039f"
             ],
             [
              0.2222222222222222,
              "#7201a8"
             ],
             [
              0.3333333333333333,
              "#9c179e"
             ],
             [
              0.4444444444444444,
              "#bd3786"
             ],
             [
              0.5555555555555556,
              "#d8576b"
             ],
             [
              0.6666666666666666,
              "#ed7953"
             ],
             [
              0.7777777777777778,
              "#fb9f3a"
             ],
             [
              0.8888888888888888,
              "#fdca26"
             ],
             [
              1,
              "#f0f921"
             ]
            ],
            "type": "heatmapgl"
           }
          ],
          "histogram": [
           {
            "marker": {
             "pattern": {
              "fillmode": "overlay",
              "size": 10,
              "solidity": 0.2
             }
            },
            "type": "histogram"
           }
          ],
          "histogram2d": [
           {
            "colorbar": {
             "outlinewidth": 0,
             "ticks": ""
            },
            "colorscale": [
             [
              0,
              "#0d0887"
             ],
             [
              0.1111111111111111,
              "#46039f"
             ],
             [
              0.2222222222222222,
              "#7201a8"
             ],
             [
              0.3333333333333333,
              "#9c179e"
             ],
             [
              0.4444444444444444,
              "#bd3786"
             ],
             [
              0.5555555555555556,
              "#d8576b"
             ],
             [
              0.6666666666666666,
              "#ed7953"
             ],
             [
              0.7777777777777778,
              "#fb9f3a"
             ],
             [
              0.8888888888888888,
              "#fdca26"
             ],
             [
              1,
              "#f0f921"
             ]
            ],
            "type": "histogram2d"
           }
          ],
          "histogram2dcontour": [
           {
            "colorbar": {
             "outlinewidth": 0,
             "ticks": ""
            },
            "colorscale": [
             [
              0,
              "#0d0887"
             ],
             [
              0.1111111111111111,
              "#46039f"
             ],
             [
              0.2222222222222222,
              "#7201a8"
             ],
             [
              0.3333333333333333,
              "#9c179e"
             ],
             [
              0.4444444444444444,
              "#bd3786"
             ],
             [
              0.5555555555555556,
              "#d8576b"
             ],
             [
              0.6666666666666666,
              "#ed7953"
             ],
             [
              0.7777777777777778,
              "#fb9f3a"
             ],
             [
              0.8888888888888888,
              "#fdca26"
             ],
             [
              1,
              "#f0f921"
             ]
            ],
            "type": "histogram2dcontour"
           }
          ],
          "mesh3d": [
           {
            "colorbar": {
             "outlinewidth": 0,
             "ticks": ""
            },
            "type": "mesh3d"
           }
          ],
          "parcoords": [
           {
            "line": {
             "colorbar": {
              "outlinewidth": 0,
              "ticks": ""
             }
            },
            "type": "parcoords"
           }
          ],
          "pie": [
           {
            "automargin": true,
            "type": "pie"
           }
          ],
          "scatter": [
           {
            "fillpattern": {
             "fillmode": "overlay",
             "size": 10,
             "solidity": 0.2
            },
            "type": "scatter"
           }
          ],
          "scatter3d": [
           {
            "line": {
             "colorbar": {
              "outlinewidth": 0,
              "ticks": ""
             }
            },
            "marker": {
             "colorbar": {
              "outlinewidth": 0,
              "ticks": ""
             }
            },
            "type": "scatter3d"
           }
          ],
          "scattercarpet": [
           {
            "marker": {
             "colorbar": {
              "outlinewidth": 0,
              "ticks": ""
             }
            },
            "type": "scattercarpet"
           }
          ],
          "scattergeo": [
           {
            "marker": {
             "colorbar": {
              "outlinewidth": 0,
              "ticks": ""
             }
            },
            "type": "scattergeo"
           }
          ],
          "scattergl": [
           {
            "marker": {
             "colorbar": {
              "outlinewidth": 0,
              "ticks": ""
             }
            },
            "type": "scattergl"
           }
          ],
          "scattermapbox": [
           {
            "marker": {
             "colorbar": {
              "outlinewidth": 0,
              "ticks": ""
             }
            },
            "type": "scattermapbox"
           }
          ],
          "scatterpolar": [
           {
            "marker": {
             "colorbar": {
              "outlinewidth": 0,
              "ticks": ""
             }
            },
            "type": "scatterpolar"
           }
          ],
          "scatterpolargl": [
           {
            "marker": {
             "colorbar": {
              "outlinewidth": 0,
              "ticks": ""
             }
            },
            "type": "scatterpolargl"
           }
          ],
          "scatterternary": [
           {
            "marker": {
             "colorbar": {
              "outlinewidth": 0,
              "ticks": ""
             }
            },
            "type": "scatterternary"
           }
          ],
          "surface": [
           {
            "colorbar": {
             "outlinewidth": 0,
             "ticks": ""
            },
            "colorscale": [
             [
              0,
              "#0d0887"
             ],
             [
              0.1111111111111111,
              "#46039f"
             ],
             [
              0.2222222222222222,
              "#7201a8"
             ],
             [
              0.3333333333333333,
              "#9c179e"
             ],
             [
              0.4444444444444444,
              "#bd3786"
             ],
             [
              0.5555555555555556,
              "#d8576b"
             ],
             [
              0.6666666666666666,
              "#ed7953"
             ],
             [
              0.7777777777777778,
              "#fb9f3a"
             ],
             [
              0.8888888888888888,
              "#fdca26"
             ],
             [
              1,
              "#f0f921"
             ]
            ],
            "type": "surface"
           }
          ],
          "table": [
           {
            "cells": {
             "fill": {
              "color": "#EBF0F8"
             },
             "line": {
              "color": "white"
             }
            },
            "header": {
             "fill": {
              "color": "#C8D4E3"
             },
             "line": {
              "color": "white"
             }
            },
            "type": "table"
           }
          ]
         },
         "layout": {
          "annotationdefaults": {
           "arrowcolor": "#2a3f5f",
           "arrowhead": 0,
           "arrowwidth": 1
          },
          "autotypenumbers": "strict",
          "coloraxis": {
           "colorbar": {
            "outlinewidth": 0,
            "ticks": ""
           }
          },
          "colorscale": {
           "diverging": [
            [
             0,
             "#8e0152"
            ],
            [
             0.1,
             "#c51b7d"
            ],
            [
             0.2,
             "#de77ae"
            ],
            [
             0.3,
             "#f1b6da"
            ],
            [
             0.4,
             "#fde0ef"
            ],
            [
             0.5,
             "#f7f7f7"
            ],
            [
             0.6,
             "#e6f5d0"
            ],
            [
             0.7,
             "#b8e186"
            ],
            [
             0.8,
             "#7fbc41"
            ],
            [
             0.9,
             "#4d9221"
            ],
            [
             1,
             "#276419"
            ]
           ],
           "sequential": [
            [
             0,
             "#0d0887"
            ],
            [
             0.1111111111111111,
             "#46039f"
            ],
            [
             0.2222222222222222,
             "#7201a8"
            ],
            [
             0.3333333333333333,
             "#9c179e"
            ],
            [
             0.4444444444444444,
             "#bd3786"
            ],
            [
             0.5555555555555556,
             "#d8576b"
            ],
            [
             0.6666666666666666,
             "#ed7953"
            ],
            [
             0.7777777777777778,
             "#fb9f3a"
            ],
            [
             0.8888888888888888,
             "#fdca26"
            ],
            [
             1,
             "#f0f921"
            ]
           ],
           "sequentialminus": [
            [
             0,
             "#0d0887"
            ],
            [
             0.1111111111111111,
             "#46039f"
            ],
            [
             0.2222222222222222,
             "#7201a8"
            ],
            [
             0.3333333333333333,
             "#9c179e"
            ],
            [
             0.4444444444444444,
             "#bd3786"
            ],
            [
             0.5555555555555556,
             "#d8576b"
            ],
            [
             0.6666666666666666,
             "#ed7953"
            ],
            [
             0.7777777777777778,
             "#fb9f3a"
            ],
            [
             0.8888888888888888,
             "#fdca26"
            ],
            [
             1,
             "#f0f921"
            ]
           ]
          },
          "colorway": [
           "#636efa",
           "#EF553B",
           "#00cc96",
           "#ab63fa",
           "#FFA15A",
           "#19d3f3",
           "#FF6692",
           "#B6E880",
           "#FF97FF",
           "#FECB52"
          ],
          "font": {
           "color": "#2a3f5f"
          },
          "geo": {
           "bgcolor": "white",
           "lakecolor": "white",
           "landcolor": "#E5ECF6",
           "showlakes": true,
           "showland": true,
           "subunitcolor": "white"
          },
          "hoverlabel": {
           "align": "left"
          },
          "hovermode": "closest",
          "mapbox": {
           "style": "light"
          },
          "paper_bgcolor": "white",
          "plot_bgcolor": "#E5ECF6",
          "polar": {
           "angularaxis": {
            "gridcolor": "white",
            "linecolor": "white",
            "ticks": ""
           },
           "bgcolor": "#E5ECF6",
           "radialaxis": {
            "gridcolor": "white",
            "linecolor": "white",
            "ticks": ""
           }
          },
          "scene": {
           "xaxis": {
            "backgroundcolor": "#E5ECF6",
            "gridcolor": "white",
            "gridwidth": 2,
            "linecolor": "white",
            "showbackground": true,
            "ticks": "",
            "zerolinecolor": "white"
           },
           "yaxis": {
            "backgroundcolor": "#E5ECF6",
            "gridcolor": "white",
            "gridwidth": 2,
            "linecolor": "white",
            "showbackground": true,
            "ticks": "",
            "zerolinecolor": "white"
           },
           "zaxis": {
            "backgroundcolor": "#E5ECF6",
            "gridcolor": "white",
            "gridwidth": 2,
            "linecolor": "white",
            "showbackground": true,
            "ticks": "",
            "zerolinecolor": "white"
           }
          },
          "shapedefaults": {
           "line": {
            "color": "#2a3f5f"
           }
          },
          "ternary": {
           "aaxis": {
            "gridcolor": "white",
            "linecolor": "white",
            "ticks": ""
           },
           "baxis": {
            "gridcolor": "white",
            "linecolor": "white",
            "ticks": ""
           },
           "bgcolor": "#E5ECF6",
           "caxis": {
            "gridcolor": "white",
            "linecolor": "white",
            "ticks": ""
           }
          },
          "title": {
           "x": 0.05
          },
          "xaxis": {
           "automargin": true,
           "gridcolor": "white",
           "linecolor": "white",
           "ticks": "",
           "title": {
            "standoff": 15
           },
           "zerolinecolor": "white",
           "zerolinewidth": 2
          },
          "yaxis": {
           "automargin": true,
           "gridcolor": "white",
           "linecolor": "white",
           "ticks": "",
           "title": {
            "standoff": 15
           },
           "zerolinecolor": "white",
           "zerolinewidth": 2
          }
         }
        },
        "title": {
         "text": "Total number of heatwave days<br>based on temperature thresholds for day and night: 28.0°C and 22.0°C, for at least 3 consequtive days<br>Location: lat 52.09°, lon 4.39°",
         "x": 0.5,
         "xanchor": "center"
        },
        "width": 1100,
        "xaxis": {
         "title": {
          "text": "Year"
         }
        },
        "yaxis": {
         "title": {
          "text": "Total number of days during heatwave events"
         }
        }
       }
      }
     },
     "metadata": {},
     "output_type": "display_data"
    }
   ],
   "source": [
    "# This code plots the data with heatwave total length for the selected pixel \n",
    "# Sample data\n",
    "b = pixel_values_hwtlh + pixel_values_hwtl45\n",
    "t = pixel_values_hwtlh + pixel_values_hwtl85 \n",
    "# Define years\n",
    "yearh = list(range(1971, 2001))\n",
    "yearp1 = list(range(2011, 2101))\n",
    "year = yearh + yearp1\n",
    "# Create figure\n",
    "fig = go.Figure()\n",
    "# Add bar trace for 'b'\n",
    "fig.add_trace(go.Bar(x=year, y=b, name='RCP4.5', marker_color='blue'))\n",
    "# Add bar trace for 't'\n",
    "fig.add_trace(go.Bar(x=year, y=t, name='RCP8.5', opacity=0.5, marker_color='red'))\n",
    "\n",
    "# Add information on models\n",
    "fig.add_annotation(xref='paper',yref='paper', y=-0.2,x=1, showarrow=False,\n",
    "            text=f'GCM-RCM: {gcm_model} - {rcm_model}')\n",
    "\n",
    "# Update layout\n",
    "fig.update_layout(\n",
    "    title={'text':f'Total number of heatwave days<br>based on temperature thresholds for day and night: {thresh_tasmax[:4]}\\u00B0C and {thresh_tasmin[:4]}\\u00B0C, for at least {thresh_window_hfreq} consequtive days<br>Location: lat {lat:.02f}\\u00B0, lon {lon:.02f}\\u00B0','x':0.5,'xanchor': 'center'},\n",
    "    xaxis_title='Year',\n",
    "    yaxis_title='Total number of days during heatwave events',\n",
    "    legend=dict(x=0, y=1, traceorder='normal', orientation='h'),\n",
    "    width=1100,\n",
    "    height=500)"
   ]
  },
  {
   "cell_type": "markdown",
   "id": "49c779b0-8e54-40f6-bf7c-551302b47329",
   "metadata": {},
   "source": [
    "## Conclusions for the XCLIM results \n",
    "We calculated three climate indices connected to extreme temperature: heatwave index, heatwave frequency, and heatwave total length for two climate scenarios (RCP4.5 and RCP8.5) based on the EURO-CORDEX data. \n",
    "\n",
    "To interpret the plotted results, it is important to remember that the result is dependent on the GCM-RCM combination of climate models that is used in the analysis. This workflow is based on a single model combination, and using a different combination will lead to a different distribution of temperature for specific years. However, the general trend over the entire analysis period will be similar. It is recommended to perform this analysis for several GCM-RCM combinations to check how much the result is dependent on the selection of the models.\n",
    "\n",
    "The plotted data with indicator values per year should not be used as a forecast of heatwaves for specific years, as this is strongly dependent on the model realization. For policy and planning it may be useful to calculate average indices (e.g. average heatwave occurence) over periods of 20-30 years and compare to historical periods of the same length (e.g. 2040-2060 vs. 1990-2010).\n",
    "\n",
    "The plotted results are obtained for a single location within the EURO-CORDEX dataset, which corresponds to a 12x12 km cell. The data within this cell does not take into account the finer resolution effects such as the urban heat island effect, and does not take into account future land use changes."
   ]
  },
  {
   "cell_type": "markdown",
   "id": "69f574af-af8d-4034-9f1f-25443da2a433",
   "metadata": {},
   "source": [
    "## References"
   ]
  },
  {
   "cell_type": "markdown",
   "id": "0a8bf8a0-2df5-4cda-a5c7-3c13cfd1bdff",
   "metadata": {},
   "source": [
    "- Copernicus Climate Data Store, heatwave days for European countries derived from climate projections (2021), https://cds.climate.copernicus.eu/cdsapp#!/software/app-health-heatwaves-projections?tab=app [2024-06-17]. \n",
    "\n",
    "- Copernicus Climate Data Store, heatwave days for Europe derived from ERA5 reanalysis (2021), https://cds.climate.copernicus.eu/cdsapp#!/software/app-health-heatwaves-current-climate?tab=app [2024-06-17].\n",
    "\n",
    "- Copernicus Climate Data Store, heatwave days and heat-related mortality for nine European cities (2021), https://cds.climate.copernicus.eu/cdsapp#!/software/app-health-urban-heat-related-mortality-projections?tab=app [2024-06-17].\n",
    "\n",
    "- Copernicus Climate Data Store, heatwaves and cold spells in Europe derived from climate projections (2019), https://cds.climate.copernicus.eu/cdsapp#!/dataset/sis-heat-and-cold-spells?tab=overview [2024-06-17].\n",
    "\n",
    "- Climate adapt, Apparent temperature heatwave days (2021), https://climate-adapt.eea.europa.eu/en/metadata/indicators/apparent-temperature-heatwave-days [2024-06-17].\n",
    "\n",
    "- Hooyberghs, H., Berckmans, J., Lefebre, F., De Ridder, K. (2019): heatwaves and cold spells in Europe derived from climate projections. Copernicus Climate Change Service (C3S) Climate Data Store (CDS). DOI: 10.24381/cds.9e7ca677 (Accessed on 06-17-2024)\n",
    "\n",
    "- Climate adapt, Tropical nights (2021), https://climate-adapt.eea.europa.eu/en/observatory/++aq++metadata/indicators/tropical-nights/ [2024-06-17].\n",
    "\n",
    "- Climate adapt, High UTCI Days (2021), https://climate-adapt.eea.europa.eu/en/metadata/indicators/high-utci-days [2024-06-17].\n",
    "\n",
    "- Bourgault et al., (2023). Xclim: xarray-based climate data analytics. Journal of Open Source Software, 8(85), 5415, https://doi.org/10.21105/joss.05415 "
   ]
  },
  {
   "cell_type": "markdown",
   "id": "47d5fedb-9af5-49f3-b522-6532b4f3d3e1",
   "metadata": {},
   "source": [
    "## Authors"
   ]
  },
  {
   "cell_type": "markdown",
   "id": "d26951d0-9d4f-45e5-9d47-7d675c890aa8",
   "metadata": {},
   "source": [
    "- Martin Kuban, KAJO services (martin.kuban@kajoservices.com)\n",
    "- Milan Kalas, KAJO services (milan.kalas@kajoservices.com)\n",
    "- Natalia Aleksandrova, Deltares (review and editing)"
   ]
  },
  {
   "cell_type": "markdown",
   "id": "bb6564c1",
   "metadata": {},
   "source": []
  }
 ],
 "metadata": {
  "kernelspec": {
   "display_name": "Python 3",
   "language": "python",
   "name": "python3"
  },
  "language_info": {
   "codemirror_mode": {
    "name": "ipython",
    "version": 3
   },
   "file_extension": ".py",
   "mimetype": "text/x-python",
   "name": "python",
   "nbconvert_exporter": "python",
   "pygments_lexer": "ipython3",
   "version": "3.11.9"
  }
 },
 "nbformat": 4,
 "nbformat_minor": 5
}
