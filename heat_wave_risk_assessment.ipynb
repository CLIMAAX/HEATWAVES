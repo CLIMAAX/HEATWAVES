{
 "cells": [
  {
   "cell_type": "markdown",
   "id": "d00ef501",
   "metadata": {},
   "source": [
    "# Heatwave: Risk assessment"
   ]
  },
  {
   "cell_type": "markdown",
   "id": "8ebde3cb-a032-431a-b4fe-60ce2e5c076c",
   "metadata": {},
   "source": [
    "## Step 1: Workflow description "
   ]
  },
  {
   "cell_type": "markdown",
   "id": "d79fad30",
   "metadata": {},
   "source": [
    "Based on the current climate scenario the occurrence of the heatwave phenomenon should be more frequent in the future in Europe. The main problems connected with heatwave events are the overheating of the urban areas, which lowers the comfort of living or causes health issues[[Integrated Assessment of Urban Overheating Impacts on Human Life](https://agupubs.onlinelibrary.wiley.com/doi/10.1029/2022EF002682)], drought, and water scarcity. Nowadays, there are a lot of studies and methodologies on how we can mitigate the influence of these events. This toolbox wants to answer simple questions that are more frequently asked by crisis management local authorities, urban planners, or policymakers. \n",
    "\n",
    " - These questions are:\n",
    "   1. What are the problematic areas? (most overheated areas)\n",
    "   2. Who or What is exposed?"
   ]
  },
  {
   "cell_type": "markdown",
   "id": "934bc187-9eb3-4408-8ddc-ae2979808a36",
   "metadata": {},
   "source": [
    "This workflow provided multiple steps to achieving the risk map for your selected area.\n",
    "1. Workflow description\n",
    "2. Importing of the packages needed for the running of the workflow\n",
    "3. Creating the directory structure for the saving of the downloaded and created data\n",
    "4. Setting of CDS API key, for the downloading of the CDS observed air temperature data\n",
    "5. Look at the Trends of the heat days/nights occurrence change under the climate scenarios\n",
    "6. Downloading the daily observed air temperature data (12x12km grid) from the CDS \n",
    "7. Identify the heat islands (**heat exposed areas**) in your selected area. Based on the observed data from RSLab Landsat8 land surface temperature (30x30m)\n",
    "8. Identification of the distribution of vulnerable population (**vulnerable population**). Based on the world population data. \n",
    "9. Calculation of the heatwave risk map based on the **risk= heat exposed areas x vulnerable areas**\n",
    "10. Conclusion\n",
    "11. Calculation of the vegetation characteristics, based on the NDVI values calculated from the Sentinel2 observed data\n",
    "12. References\n",
    "13. Authors"
   ]
  },
  {
   "cell_type": "markdown",
   "id": "91e811bd",
   "metadata": {},
   "source": [
    "## Step 2: Import packages"
   ]
  },
  {
   "cell_type": "markdown",
   "id": "bfe6baf6-6e95-4abc-ae84-1ed0016d5a7a",
   "metadata": {},
   "source": [
    "### Prepare your workspace\n",
    ":::{admonition} In this notebook we will use the following Python libraries:\n",
    ":class: hint dropdown\n",
    "* [zipfile](https://docs.python.org/3/library/zipfile.html) - Working with ZIP archive files.\n",
    "* [os](https://docs.python.org/3/library/os.html) - Handling the current working directory.\n",
    "* [rasterio](https://rasterio.readthedocs.io/en/latest/) - NetCDF and raster processing.\n",
    "* [pathlib](https://docs.python.org/3/library/pathlib.html) - File system paths.\n",
    "* [cdsapi](https://cds.climate.copernicus.eu/api-how-to) - API for downloading climate data.\n",
    "* [numpy](https://numpy.org/doc/stable/) - 2-3D array data handling.\n",
    "* [xarray](https://docs.xarray.dev/en/stable/) - 2-3D array data handling.\n",
    "* [cartopy](https://scitools.org.uk/cartopy/docs/latest/) - NetCDF data projection.\n",
    "* [matplotlib](https://matplotlib.org/stable/) - Data plotting.\n",
    "* [geopandas](https://geopandas.org/en/stable/) - Geospatial data handling.\n",
    "* [plotly](https://plotly.com/) - Creating interactive plots.\n",
    "* [sklearn](https://scikit-learn.org/stable/modules/linear_model.html#linear-regression) - Linear regression model.\n",
    "* [ipyleaflet](https://ipyleaflet.readthedocs.io/en/stable/) - Interactive maps in Jupyter notebooks.\n",
    "* [ipywidgets](https://ipywidgets.readthedocs.io/en/stable/) - Creating interactive HTML widgets.\n",
    "* [leafmap](https://leafmap.org/) - Geospatial data visualization and analysis.\n",
    "* [localtileserver](https://localtileserver.readthedocs.io/en/latest/) - Creating tile layers for maps.\n",
    "* [datetime](https://docs.python.org/3/library/datetime.html) - Handling dates and times.\n",
    "* [json](https://docs.python.org/3/library/json.html) - Handling JSON data.\n",
    "* [random](https://docs.python.org/3/library/random.html) - Generating random numbers.\n",
    "* [requests](https://docs.python-requests.org/en/latest/) - Making HTTP requests.\n",
    "* [rasterstats](https://pythonhosted.org/rasterstats/) - Zonal statistics for raster data.\n",
    "* [plotly.express](https://plotly.com/python/plotly-express/) - Creating interactive plots.\n",
    "* [folium](https://python-visualization.github.io/folium/) - Creating interactive maps.\n",
    "* [branca](https://python-visualization.github.io/branca/) - Color maps for folium maps.\n",
    "* [rasterio.transform](https://rasterio.readthedocs.io/en/latest/api/rasterio.transform.html) - Coordinate transformations for raster data.\n"
   ]
  },
  {
   "cell_type": "code",
   "execution_count": 1,
   "id": "3170331a",
   "metadata": {},
   "outputs": [],
   "source": [
    "import zipfile  # working with the zip folders\n",
    "import os  # handling the current working directory\n",
    "import rasterio  # netcdf and raster processing\n",
    "from pathlib import Path  # file system paths\n",
    "import cdsapi  # API downloading\n",
    "import numpy as np  # 2-3D array data handling\n",
    "import xarray as xr  # 2-3D array data handling\n",
    "import cartopy.crs as ccrs  # netcdf data projection\n",
    "import cartopy.feature as cf  # netcdf data projection\n",
    "import matplotlib as mpl  # data plot\n",
    "import matplotlib.pyplot as plt  # data plot\n",
    "from rasterio.crs import CRS  # raster data handling\n",
    "from pylab import pcolormesh, show, colorbar, plot, title, legend, subplot, savefig  # various plotting functions\n",
    "from xrspatial.classify import reclassify  # spatial data classification\n",
    "from matplotlib import pyplot  # data plot\n",
    "from rasterio.plot import show  # raster data handling\n",
    "from glob import glob  # file pattern matching\n",
    "import geopandas as gpd  # geospatial data handling\n",
    "import rasterio as rio  # raster data handling\n",
    "import plotly.graph_objects as go  # creating interactive plots\n",
    "from sklearn.linear_model import LinearRegression  # linear regression model\n",
    "from ipyleaflet import Map, DrawControl, Marker, LayersControl, LegendControl, GeoData, GeoJSON, WidgetControl  # interactive maps\n",
    "import ipywidgets as widgets  # creating interactive widgets\n",
    "import leafmap.leafmap as leafmap  # mapping library\n",
    "from localtileserver import get_leaflet_tile_layer, TileClient  # creating tile layers for maps\n",
    "from datetime import datetime, timedelta  # handling dates and times\n",
    "import json  # handling JSON data\n",
    "import random  # generating random numbers\n",
    "import requests  # making HTTP requests\n",
    "import rasterstats  # zonal statistics for raster data\n",
    "import plotly.express as px  # creating interactive plots\n",
    "import folium  # creating interactive maps\n",
    "from folium.raster_layers import ImageOverlay  # raster layer for folium maps\n",
    "from folium import LayerControl  # layer control for folium maps\n",
    "from branca.colormap import linear  # color maps for folium maps\n",
    "from rasterio.transform import from_bounds"
   ]
  },
  {
   "cell_type": "markdown",
   "id": "193ad66f",
   "metadata": {},
   "source": [
    "## Step 3: Create a directory structure"
   ]
  },
  {
   "cell_type": "code",
   "execution_count": 2,
   "id": "7118d8a8",
   "metadata": {},
   "outputs": [],
   "source": [
    "# Define the directory for the flashflood workflow preprocess\n",
    "workflow_folder = 'Heat_workflow'\n",
    "\n",
    "# Define directories for data and results within the previously defined workflow directory\n",
    "data_dir = os.path.join(workflow_folder,'data')\n",
    "results_dir = os.path.join(workflow_folder,'results')\n",
    "\n",
    "# Check if the workflow directory exists, if not, create it along with subdirectories for data and results\n",
    "if not os.path.exists(workflow_folder):\n",
    "    os.makedirs(workflow_folder)\n",
    "    os.makedirs(os.path.join(data_dir))\n",
    "    os.makedirs(os.path.join(results_dir))"
   ]
  },
  {
   "cell_type": "markdown",
   "id": "352401a0",
   "metadata": {},
   "source": [
    "## Step 4: Trends of the Heat days/nights occurence change under the climate scenarios"
   ]
  },
  {
   "cell_type": "markdown",
   "id": "e9e8d567",
   "metadata": {},
   "source": [
    "Even though the climate scenarios data are not directly implemented in heatwave risk workflow, it is important to understand the influence of climate change on the probability of heatwave occurrence in the present days and in the future. You can use the results provided by the heatwave hazard assessment workflow for the (12x12km data) or use the other online available heatwave related data (mostly for the regional level).\n",
    "\n",
    "On the website Climate-adapt we can find the trends of the occurrence of the days with Extreme heat. The content in the European Climate Data Explorer pages is delivered by the Copernicus Climate Change Service (C3S) implemented by ECMWF. "
   ]
  },
  {
   "cell_type": "markdown",
   "id": "4e7568c4-dadd-4c82-bedd-1f7e2e8e9ef8",
   "metadata": {},
   "source": [
    "**Climate-adapt Heat days occurence in the past [[Source](https://climate-adapt.eea.europa.eu/en/metadata/indicators/high-utci-days)]**"
   ]
  },
  {
   "cell_type": "markdown",
   "id": "cda6a78c-9e90-43c4-8ea2-555766840525",
   "metadata": {},
   "source": [
    "**Climate-adapt Heat days occurence in the future [[Source](https://climate-adapt.eea.europa.eu/en/metadata/indicators/apparent-temperature-heatwave-days)]**"
   ]
  },
  {
   "cell_type": "markdown",
   "id": "f932f2b2-d72d-4825-93fc-f7506f85d090",
   "metadata": {},
   "source": [
    "**Climate-adapt Tropical night past and projections [[Source](https://climate-adapt.eea.europa.eu/en/observatory/++aq++metadata/indicators/tropical-nights/)]**"
   ]
  },
  {
   "cell_type": "markdown",
   "id": "f0537863",
   "metadata": {},
   "source": [
    "## Step 5. Heat islands identification"
   ]
  },
  {
   "cell_type": "markdown",
   "id": "c1fb0d83-46f6-44a9-91dd-9e0f220653ad",
   "metadata": {},
   "source": [
    "### 5.1 Data description"
   ]
  },
  {
   "cell_type": "markdown",
   "id": "223b714f",
   "metadata": {
    "jp-MarkdownHeadingCollapsed": true
   },
   "source": [
    "**Heat islands:**\n",
    "\n",
    "Heat islands are urbanized areas that experience higher temperatures than outlying areas. Structures such as buildings, roads, and other infrastructure absorb and re-emit the sun’s heat more than natural landscapes such as forests and water bodies. Urban areas, where these structures are highly concentrated and greenery is limited, become “islands” of higher temperatures relative to outlying areas [[Heat islands](https://www.epa.gov/heatislands)]\n",
    "For the identification of the heat islands from the historical data we can use these data:\n",
    "\n",
    "Data needs to be manually downloaded from provided websites, it requires registration and manual choosing of your area and period (except EuroCordexdex):\n",
    "\n",
    "**Historical data from satellite sensors:**\n",
    "\n",
    "- Landsat8 land surface temperature (LST) for 2016-2020 (15-30m spatial; 8-16 days temporal). For the identification of the heat island, we can use this product, which provides the data about calculated land surface temperature from the Landsat8 imagery. The LST product is available on the RSLAB website or can be calculated from the L8 imagery bands.\n",
    "Download:  ### [[RSLAB LST data download](https://rslab.gr/Landsat_LST.html)] (only for 2015-2021) ## recalculation of the LST from Landsat8 imagery [[Landsat8-9 raw images imagery](https://earth.esa.int/eogateway/catalog/landsat-8-collection-2-european-coverage)]"
   ]
  },
  {
   "cell_type": "markdown",
   "id": "cc2f6db8",
   "metadata": {},
   "source": [
    "### 5.2 Download the Landsat 8 land surface temperature"
   ]
  },
  {
   "cell_type": "markdown",
   "id": "ae6b4332-200d-4a98-8b3c-d84d70ad3d51",
   "metadata": {},
   "source": [
    "We can use LST for the summer months (June, July, August) when we can expect the overheating of the urban areas. Based on the LST we can easily identify the heat islands (Dark Red areas).\n",
    "\n",
    "- for the best estimation of the overheated areas it is best to consult the selection of the days with local Meteorological authorities, they can provide the data about measured air temperature from the past. \n",
    "\n",
    "for [[Download of the precomputed LST](https://rslab.gr/Landsat_LST.html)] (for years 2013-2021) for [[Calculation of the LST](https://www.youtube.com/watch?v=hd7fscNTff4)]."
   ]
  },
  {
   "cell_type": "markdown",
   "id": "5821bbd7",
   "metadata": {},
   "source": [
    "**Before downloading the data create a new folder in the data_dir called LST, where you download data. Then you can proceed with this code.** \n",
    "\n",
    "- Download all available **[all available years for summer months June, July, August, in the south of the EU you also download a data form May and September]** LST imagery and save it to the created LST folder. You do not need to unzip a data, because you can do it automatically with the following code (below)\n",
    "1. You can download the precomputed values from the RSlab web portal for years 2013-2021 # [[LST data download](https://rslab.gr/Landsat_LST.html)]\n",
    "    - How to use the RSLAB:\n",
    "    - (1.) Draw a polygon on the map by clicking (not dragging) on the map to select the vertices of the polygon.\n",
    "    - (2.) Select your preferred Landsat source. Please check the availability for each Landsat above. It is recommended to use MODIS and NDVI-based emissivity for Urban/Peri-Urban areas and ASTER emissivity for Natural/Isolated areas. Refer to the paper for more details-\n",
    "    - (3.) Select your preferred emissivity source. Please check the important notes above about emissivity. For more details on this subject please refer to the paper \n",
    "    - (4.) Click the \"Calculate LST\" button.\n",
    "    - (5.) The results will be presented below the map. For each LST result you will find a \"show\" button that displays the LST as a layer on the map and calculates the mean/min/max LST value for the selected image.\n",
    "    - (6.) For each LST result you will find a **\"download\"** button that downloads the LST as a .tiff image .to download all the images click the **\"download all\"** button at the end of the list. The downloaded .tiff is cut based on your polygon.\n",
    "      \n",
    "2. Or you can calculate the LST directly from the Landsat imagery # \n",
    " [[Manual for computation](https://www.youtube.com/watch?v=hd7fscNTff4)]."
   ]
  },
  {
   "cell_type": "markdown",
   "id": "5e67a3b4-6dc5-4894-9c74-b72fdc78fc1b",
   "metadata": {},
   "source": [
    "-  Save data to your Heat_workflow folder /data_dir/LST.\n",
    "-  Then you can continue with the following code."
   ]
  },
  {
   "cell_type": "code",
   "execution_count": null,
   "id": "dd01db59-ec05-44c0-a431-801c15091706",
   "metadata": {},
   "outputs": [],
   "source": [
    "# This code unzips all downloaded LST data \n",
    "working_directory = os.path.join(data_dir, 'LST')\n",
    "# Loop through all files in the directory\n",
    "for file in os.listdir(working_directory):\n",
    "    file_path = os.path.join(working_directory, file)\n",
    "    # Check if the file is a zipfile\n",
    "    if zipfile.is_zipfile(file_path):\n",
    "        # Open the zipfile\n",
    "        with zipfile.ZipFile(file_path, 'r') as zip_ref:\n",
    "            # Extract all contents of the zipfile into the working directory\n",
    "            zip_ref.extractall(working_directory)"
   ]
  },
  {
   "cell_type": "code",
   "execution_count": null,
   "id": "92f5bddb-f671-4eb9-aa5d-096f678bd328",
   "metadata": {},
   "outputs": [],
   "source": [
    "# This code extraxcts all dates from LST tif.files\n",
    "from datetime import datetime\n",
    "# Create a list of file paths to your LST files using glob\n",
    "L8list = glob(f\"{data_dir}/LST/*LST*.tif\")\n",
    "# Initialize an empty list to store the datetime objects\n",
    "lst_dates = []\n",
    "# Loop through each filename\n",
    "for file in L8list:\n",
    "    # Extract the filename without the directory path\n",
    "    filename = file.split('/')[-1]   \n",
    "    # Extract the date and time part from the filename\n",
    "    if \"AllImages_LST\" in filename:\n",
    "        date_time_str = filename.split('.')[1]\n",
    "        date_str = date_time_str.split('_')[0]\n",
    "        time_str = date_time_str.split('_')[1]\n",
    "    else:\n",
    "        date_str = filename[4:12]  # Extract date part directly\n",
    "        time_str = filename[13:19]  # Extract time part directly    \n",
    "    # Combine date and time strings into a single string\n",
    "    datetime_str = date_str + '_' + time_str    \n",
    "    # Convert the combined datetime string to a datetime object\n",
    "    datetime_obj = datetime.strptime(datetime_str, '%Y%m%d_%H%M%S')   \n",
    "    # Append the datetime object to the lst_dates list\n",
    "    lst_dates.append(datetime_obj)"
   ]
  },
  {
   "cell_type": "code",
   "execution_count": 17,
   "id": "a93cee54",
   "metadata": {},
   "outputs": [],
   "source": [
    "# This code will create a raster stack from all downloaded data\n",
    "# Load a data and crate a raster stack from all maps\n",
    "L8list = glob(f\"{data_dir}/LST/*LST*.tif\")\n",
    "#\n",
    "with rasterio.open(L8list[0]) as src0:\n",
    "    meta = src0.meta\n",
    "#\n",
    "meta.update(count = len(L8list))\n",
    "# Save a data to working directory\n",
    "with rasterio.open(f'{data_dir}/L8_raster_stack.tif', 'w', **meta) as dst:\n",
    "    for id, layer in enumerate(L8list, start=1):\n",
    "        with rasterio.open(layer) as src1:\n",
    "            dst.write_band(id, src1.read(1))"
   ]
  },
  {
   "cell_type": "code",
   "execution_count": 19,
   "id": "41474556-1d39-4292-8626-7fff58bce0ed",
   "metadata": {},
   "outputs": [],
   "source": [
    "# This code calculates mean values from the LST rasters which are not significantly influenced by clouds\n",
    "# Open the raster stack\n",
    "stack_path = f'{data_dir}/L8_raster_stack.tif'\n",
    "raster_dataset = xr.open_dataset(stack_path)\n",
    "# Count the number of pixels greater than 0 for each band\n",
    "num_pixels_gt_zero = (raster_dataset > 0).sum(dim=('x', 'y'))\n",
    "# Calculate the total number of pixels for each band\n",
    "total_pixels = raster_dataset.sizes['x'] * raster_dataset.sizes['y']\n",
    "# Calculate the proportion of pixels greater than 0\n",
    "prop_gt_zero = num_pixels_gt_zero / total_pixels\n",
    "# Filter bands where at least 50% of pixels are greater than 0\n",
    "filtered_bands = raster_dataset.where(prop_gt_zero >= 0.5)\n",
    "# Calculate the mean values for the filtered bands\n",
    "mean_values_filtered = filtered_bands.mean(dim=('x', 'y'))\n",
    "#mean_values_filtered = mean_values_filtered.fillna(0)\n",
    "mean_values_filtered=mean_values_filtered['band_data']\n",
    "mean_values_list = mean_values_filtered.values.tolist()"
   ]
  },
  {
   "cell_type": "markdown",
   "id": "3d61b16e-43aa-4e22-a585-bc31618b1a2f",
   "metadata": {},
   "source": [
    "### 5.3 Reclasify of the maximum LST values based on the LST temperature"
   ]
  },
  {
   "cell_type": "markdown",
   "id": "842c0b61-8aa6-4767-8348-cd7e31aaa0ba",
   "metadata": {},
   "source": [
    "\n",
    "- In this step, you reclassify the LST into 5 categories based on the temperature\n",
    "- You can change the treshold values for each category:\n",
    "  \n",
    "  1. **Very low** < 20°C\n",
    "  2. **Low** > 20°C\n",
    "  3. **Medium** > 30°C\n",
    "  4. **High** > 40°C\n",
    "  5. **Very High** > 50°C\n",
    "     \n",
    "- We need to realize that these values represent the Surface temperature, not the air temperature. The surface temperature reaches higher values than the air temperature. The ground surface temperature has become an important component of weather. The temperature of the ground surface can be more than 10 C above air temperature on a sunny day and up to 10 C below air temperature on clear nights when the surface loses heat by radiation to the cold infinity of outer space. Like most environmental sensors, infrared sensors have become more accurate and lower cost over the past 10 years. [[Land surface temperature vs air temperature](https://caas.usu.edu/weather/graphical-data/surface-temperature)]"
   ]
  },
  {
   "cell_type": "code",
   "execution_count": 3,
   "id": "2938625a-77ee-4219-9ae4-f64bdaee2a5b",
   "metadata": {},
   "outputs": [
    {
     "data": {
      "image/png": "[encoded data removed]",
      "text/plain": [
       "<Figure size 640x480 with 2 Axes>"
      ]
     },
     "metadata": {},
     "output_type": "display_data"
    }
   ],
   "source": [
    "from rasterio.transform import from_bounds\n",
    "# Load the data and calculate maximum values from raster stack\n",
    "L8_path = f'{data_dir}/L8_raster_stack.tif'\n",
    "L8 = xr.open_dataset(L8_path)\n",
    "L8 = L8.max(dim='band', skipna=True, keep_attrs=True)\n",
    "L8lst2016 = L8['band_data']\n",
    "lstbbox = L8.rio.bounds()\n",
    "\n",
    "# Function to reclassify data using numpy\n",
    "def reclassify_with_numpy(array, bins, new_values):\n",
    "    reclassified_array = np.zeros_like(array)\n",
    "    reclassified_array[array < bins[0]] = new_values[0]\n",
    "    for i in range(len(bins) - 1):\n",
    "        reclassified_array[(array >= bins[i]) & (array < bins[i + 1])] = new_values[i + 1]\n",
    "    reclassified_array[array >= bins[-1]] = new_values[-1]\n",
    "    return reclassified_array\n",
    "\n",
    "# Reclassify data to the groups by the temperature\n",
    "lc_bins = [20, 30, 40, 50]  # Effect on the human health\n",
    "lc_values = [1, 2, 3, 4, 5]\n",
    "\n",
    "# Apply the reclassification function\n",
    "lc_class = reclassify_with_numpy(L8lst2016.values, bins=lc_bins, new_values=lc_values)\n",
    "\n",
    "# Convert the reclassified array back to xarray DataArray for plotting\n",
    "lc_class_da = xr.DataArray(lc_class, coords=L8lst2016.coords, dims=L8lst2016.dims)\n",
    "\n",
    "# Plot the data\n",
    "fig, ax = plt.subplots()\n",
    "oa = lc_class_da.plot(ax=ax, cmap='Reds', add_colorbar=False)\n",
    "cbar = fig.colorbar(oa, ticks=[1, 2, 3, 4, 5])\n",
    "cbar.ax.set_yticklabels(['Very Low', 'Low', 'Medium', 'High', 'Very High'], size=10)\n",
    "ax.set_xlabel('lon [deg_east]')\n",
    "ax.set_ylabel('lat [deg_north]')\n",
    "plt.title('Overheated areas in Zilina city', size=16, pad=10)\n",
    "plt.show()"
   ]
  },
  {
   "cell_type": "markdown",
   "id": "05b22b9c-8123-4cd4-9800-d18e552fa430",
   "metadata": {},
   "source": [
    "### 5.4 Calculation of the Landsat LST from Landsat 8 - 9 imagery (only in case if you not use the RSLAB!!!)"
   ]
  },
  {
   "cell_type": "markdown",
   "id": "eb52e338",
   "metadata": {},
   "source": [
    "Calculation of the Landsat LST from Landsat 8 - 9 imagery\n",
    "data are from european space agency.\n",
    "For the data download you need to choose the level of the data L1 or L2.\n",
    "L1 level contains all 11 bands\n",
    "L2 level contains bands 1-7 and band 10\n",
    "We need to download the L8-9: [[Manual](https://www.youtube.com/watch?v=Eug32jeK8Gw)], [[Data](https://earth.esa.int/eogateway/catalog/landsat-8-collection-2-european-coverage)], [[Process](https://www.youtube.com/watch?v=hd7fscNTff4)]\n",
    "\n",
    "**You do not need to calculate you can download it from [[RSLAB](https://rslab.gr/Landsat_LST.html)] for years 2013-2021**\n",
    "\n",
    "- but if you want to most recent data (2022-Now) you need to calculate it:"
   ]
  },
  {
   "cell_type": "code",
   "execution_count": null,
   "id": "f42c1f56-709f-4bd8-8ee2-955fff482917",
   "metadata": {},
   "outputs": [],
   "source": [
    "# Radiance\n",
    "rad=0.00033420 * b10 + 0.1\n",
    "\n",
    "# Brightest temperature\n",
    "bt=1321.0789/np.log(774.8853/rad + 1)-272.15\n",
    "\n",
    "# Normalized difference vegetation index\n",
    "ndvi=(b5-b4)/(b5+b4)\n",
    "ndvi_min=ndvi.min(skipna=True)\n",
    "ndvi_max=ndvi.max(skipna=True)\n",
    "\n",
    "# Proportion of the Vegetation \n",
    "pv=((ndvi +  ndvi_min)/(ndvi_max+ndvi_min))**2\n",
    "\n",
    "# Emisivity\n",
    "emi=0.004*pv+0.986\n",
    "\n",
    "# Land surface temperature\n",
    "LST=(bt+1)+10.8*(bt/14380)*np.log(emi)"
   ]
  },
  {
   "cell_type": "code",
   "execution_count": null,
   "id": "7b0664c7",
   "metadata": {},
   "outputs": [],
   "source": [
    "# Radiance\n",
    "rad=0.00033420 * b10 + 0.1"
   ]
  },
  {
   "cell_type": "code",
   "execution_count": null,
   "id": "de6b1f65",
   "metadata": {},
   "outputs": [],
   "source": [
    "# Brightest temperature\n",
    "bt=1321.0789/np.log(774.8853/rad + 1)-272.15"
   ]
  },
  {
   "cell_type": "code",
   "execution_count": null,
   "id": "0e42a4ca",
   "metadata": {},
   "outputs": [],
   "source": [
    "# Normalized difference vegetation index\n",
    "ndvi=(b5-b4)/(b5+b4)\n",
    "ndvi_min=ndvi.min(skipna=True)\n",
    "ndvi_max=ndvi.max(skipna=True)"
   ]
  },
  {
   "cell_type": "code",
   "execution_count": null,
   "id": "e7ec9514",
   "metadata": {},
   "outputs": [],
   "source": [
    "# Proportion of the Vegetation \n",
    "pv=((ndvi +  ndvi_min)/(ndvi_max+ndvi_min))**2"
   ]
  },
  {
   "cell_type": "code",
   "execution_count": null,
   "id": "5484d6dc",
   "metadata": {},
   "outputs": [],
   "source": [
    "# emisivity\n",
    "emi=0.004*pv+0.986"
   ]
  },
  {
   "cell_type": "code",
   "execution_count": null,
   "id": "77ec1e3f",
   "metadata": {},
   "outputs": [],
   "source": [
    "# land surface temperature\n",
    "LST=(bt+1)+10.8*(bt/14380)*np.log(emi)"
   ]
  },
  {
   "cell_type": "markdown",
   "id": "fd0ceb8f-a326-4a04-80a9-b450ccb52110",
   "metadata": {},
   "source": [
    "### 5.5 Plot the observed maximum 2m air temperature together with LST temperature"
   ]
  },
  {
   "cell_type": "markdown",
   "id": "96f77d02-26e2-4dc0-8388-cb1db50647a9",
   "metadata": {},
   "source": [
    "- We display the measured data of the 2m air temperature together with the LST data, to see for which days we downloaded the LST data.\n",
    "- This step will give us the information if we downloaded the data for the days with the highest air temperature. "
   ]
  },
  {
   "cell_type": "code",
   "execution_count": 63,
   "id": "c4e69e07-bf9d-47fc-839e-268fb384d6be",
   "metadata": {},
   "outputs": [
    {
     "data": {
      "application/vnd.plotly.v1+json": {
       "config": {
        "plotlyServerURL": "https://plot.ly"
       },
       "data": [
        {
         "hovertemplate": "Date=%{x}<br>LST Mean Values=%{marker.color}<extra></extra>",
         "legendgroup": "",
         "marker": {
          "color": "green",
          "coloraxis": "coloraxis",
          "symbol": "circle"
         },
         "mode": "markers",
         "name": "",
         "orientation": "v",
         "showlegend": false,
         "type": "scatter",
         "x": [
          "2013-06-20T09:34:46",
          "2013-07-06T09:34:50",
          "2013-07-13T09:41:01",
          "2013-07-22T09:34:48",
          "2013-07-29T09:41:01",
          "2013-08-07T09:34:51",
          "2013-08-14T09:41:01",
          "2013-08-23T09:34:53",
          "2013-08-30T09:41:04",
          "2014-06-07T09:32:30",
          "2014-06-14T09:38:44",
          "2014-06-23T09:32:33",
          "2014-07-16T09:38:54",
          "2014-07-25T09:32:43",
          "2014-08-01T09:39:00",
          "2014-08-10T09:32:53",
          "2014-08-17T09:39:05",
          "2015-06-01T09:38:08",
          "2015-06-10T09:32:05",
          "2015-06-26T09:32:10",
          "2015-07-03T09:38:26",
          "2015-07-12T09:32:22",
          "2015-07-19T09:38:36",
          "2015-07-28T09:32:27",
          "2015-08-04T09:38:39",
          "2015-08-13T09:32:32",
          "2015-08-20T09:38:46",
          "2015-08-29T09:32:38",
          "2016-06-03T09:38:41",
          "2016-06-19T09:38:45",
          "2016-07-05T09:38:54",
          "2016-07-21T09:39:00",
          "2016-07-30T09:32:51",
          "2016-08-15T09:32:54",
          "2017-06-06T09:38:40",
          "2017-06-15T09:32:33",
          "2017-06-22T09:38:46",
          "2017-07-08T09:38:49",
          "2017-07-17T09:32:41",
          "2017-08-02T09:32:49",
          "2017-08-09T09:39:02",
          "2017-08-18T09:32:54",
          "2017-08-25T09:39:07",
          "2018-06-02T09:31:37",
          "2018-07-04T09:31:55",
          "2018-07-27T09:38:16",
          "2018-08-05T09:32:11",
          "2018-08-12T09:38:26",
          "2018-08-21T09:32:19",
          "2018-08-28T09:38:33",
          "2019-06-05T09:32:36",
          "2019-06-12T09:38:50",
          "2019-06-21T09:32:42",
          "2019-06-28T09:38:55",
          "2019-07-07T09:32:46",
          "2019-07-14T09:38:58",
          "2019-07-30T09:39:04",
          "2019-08-08T09:32:56",
          "2019-08-15T09:39:09",
          "2019-08-24T09:33:01",
          "2020-06-07T09:32:24",
          "2020-06-14T09:38:40",
          "2020-06-23T09:32:34",
          "2020-06-30T09:38:48",
          "2020-07-09T09:32:41",
          "2020-07-25T09:32:46",
          "2020-08-01T09:38:58",
          "2020-08-10T09:32:49",
          "2020-08-26T09:32:57",
          "2021-06-01T09:38:46",
          "2021-06-10T09:32:39",
          "2021-06-17T09:38:52",
          "2021-06-26T09:32:43",
          "2021-07-03T09:38:55",
          "2021-07-19T09:38:58",
          "2021-07-28T09:32:52",
          "2021-08-13T09:32:59",
          "2021-08-20T09:39:11",
          "2021-08-29T09:33:03"
         ],
         "xaxis": "x",
         "y": [
          23.230624231791275,
          null,
          null,
          25.96498154078421,
          38.21758466737303,
          35.043346744569284,
          null,
          null,
          21.213143592813427,
          27.18838712836021,
          null,
          null,
          23.05770160835352,
          19.560092186023883,
          19.191886461727815,
          null,
          null,
          null,
          24.630229720713135,
          null,
          25.80946324833143,
          14.573387351487174,
          31.60869443118893,
          null,
          23.85117143456065,
          30.945286403871574,
          17.7360214299464,
          30.38713625644189,
          null,
          16.227949211200098,
          15.812027068209947,
          24.715507503813956,
          null,
          null,
          null,
          25.56477193273299,
          null,
          13.216433606875936,
          18.116454559572464,
          null,
          25.441580541462987,
          null,
          20.54243122426534,
          null,
          28.976739780020047,
          20.77171248459129,
          18.579970143120754,
          20.356806267215475,
          29.361107709880297,
          null,
          23.719974929004252,
          19.593117950523013,
          23.02131502475844,
          17.885362328385032,
          null,
          null,
          null,
          15.427174045036171,
          22.092159478354446,
          23.389137625901885,
          null,
          24.19919586649974,
          null,
          20.193040176812822,
          null,
          18.565240105933555,
          24.869348307622452,
          28.164723299408816,
          null,
          null,
          17.013099931526853,
          18.894640872489187,
          null,
          null,
          13.049150522363814,
          26.097252389018287,
          null,
          null,
          null
         ],
         "yaxis": "y"
        }
       ],
       "layout": {
        "autosize": true,
        "coloraxis": {
         "colorbar": {
          "title": {
           "text": "LST Mean Values"
          }
         },
         "colorscale": [
          [
           0,
           "#0d0887"
          ],
          [
           0.1111111111111111,
           "#46039f"
          ],
          [
           0.2222222222222222,
           "#7201a8"
          ],
          [
           0.3333333333333333,
           "#9c179e"
          ],
          [
           0.4444444444444444,
           "#bd3786"
          ],
          [
           0.5555555555555556,
           "#d8576b"
          ],
          [
           0.6666666666666666,
           "#ed7953"
          ],
          [
           0.7777777777777778,
           "#fb9f3a"
          ],
          [
           0.8888888888888888,
           "#fdca26"
          ],
          [
           1,
           "#f0f921"
          ]
         ]
        },
        "legend": {
         "tracegroupgap": 0
        },
        "margin": {
         "t": 60
        },
        "template": {
         "data": {
          "bar": [
           {
            "error_x": {
             "color": "#2a3f5f"
            },
            "error_y": {
             "color": "#2a3f5f"
            },
            "marker": {
             "line": {
              "color": "#E5ECF6",
              "width": 0.5
             },
             "pattern": {
              "fillmode": "overlay",
              "size": 10,
              "solidity": 0.2
             }
            },
            "type": "bar"
           }
          ],
          "barpolar": [
           {
            "marker": {
             "line": {
              "color": "#E5ECF6",
              "width": 0.5
             },
             "pattern": {
              "fillmode": "overlay",
              "size": 10,
              "solidity": 0.2
             }
            },
            "type": "barpolar"
           }
          ],
          "carpet": [
           {
            "aaxis": {
             "endlinecolor": "#2a3f5f",
             "gridcolor": "white",
             "linecolor": "white",
             "minorgridcolor": "white",
             "startlinecolor": "#2a3f5f"
            },
            "baxis": {
             "endlinecolor": "#2a3f5f",
             "gridcolor": "white",
             "linecolor": "white",
             "minorgridcolor": "white",
             "startlinecolor": "#2a3f5f"
            },
            "type": "carpet"
           }
          ],
          "choropleth": [
           {
            "colorbar": {
             "outlinewidth": 0,
             "ticks": ""
            },
            "type": "choropleth"
           }
          ],
          "contour": [
           {
            "colorbar": {
             "outlinewidth": 0,
             "ticks": ""
            },
            "colorscale": [
             [
              0,
              "#0d0887"
             ],
             [
              0.1111111111111111,
              "#46039f"
             ],
             [
              0.2222222222222222,
              "#7201a8"
             ],
             [
              0.3333333333333333,
              "#9c179e"
             ],
             [
              0.4444444444444444,
              "#bd3786"
             ],
             [
              0.5555555555555556,
              "#d8576b"
             ],
             [
              0.6666666666666666,
              "#ed7953"
             ],
             [
              0.7777777777777778,
              "#fb9f3a"
             ],
             [
              0.8888888888888888,
              "#fdca26"
             ],
             [
              1,
              "#f0f921"
             ]
            ],
            "type": "contour"
           }
          ],
          "contourcarpet": [
           {
            "colorbar": {
             "outlinewidth": 0,
             "ticks": ""
            },
            "type": "contourcarpet"
           }
          ],
          "heatmap": [
           {
            "colorbar": {
             "outlinewidth": 0,
             "ticks": ""
            },
            "colorscale": [
             [
              0,
              "#0d0887"
             ],
             [
              0.1111111111111111,
              "#46039f"
             ],
             [
              0.2222222222222222,
              "#7201a8"
             ],
             [
              0.3333333333333333,
              "#9c179e"
             ],
             [
              0.4444444444444444,
              "#bd3786"
             ],
             [
              0.5555555555555556,
              "#d8576b"
             ],
             [
              0.6666666666666666,
              "#ed7953"
             ],
             [
              0.7777777777777778,
              "#fb9f3a"
             ],
             [
              0.8888888888888888,
              "#fdca26"
             ],
             [
              1,
              "#f0f921"
             ]
            ],
            "type": "heatmap"
           }
          ],
          "heatmapgl": [
           {
            "colorbar": {
             "outlinewidth": 0,
             "ticks": ""
            },
            "colorscale": [
             [
              0,
              "#0d0887"
             ],
             [
              0.1111111111111111,
              "#46039f"
             ],
             [
              0.2222222222222222,
              "#7201a8"
             ],
             [
              0.3333333333333333,
              "#9c179e"
             ],
             [
              0.4444444444444444,
              "#bd3786"
             ],
             [
              0.5555555555555556,
              "#d8576b"
             ],
             [
              0.6666666666666666,
              "#ed7953"
             ],
             [
              0.7777777777777778,
              "#fb9f3a"
             ],
             [
              0.8888888888888888,
              "#fdca26"
             ],
             [
              1,
              "#f0f921"
             ]
            ],
            "type": "heatmapgl"
           }
          ],
          "histogram": [
           {
            "marker": {
             "pattern": {
              "fillmode": "overlay",
              "size": 10,
              "solidity": 0.2
             }
            },
            "type": "histogram"
           }
          ],
          "histogram2d": [
           {
            "colorbar": {
             "outlinewidth": 0,
             "ticks": ""
            },
            "colorscale": [
             [
              0,
              "#0d0887"
             ],
             [
              0.1111111111111111,
              "#46039f"
             ],
             [
              0.2222222222222222,
              "#7201a8"
             ],
             [
              0.3333333333333333,
              "#9c179e"
             ],
             [
              0.4444444444444444,
              "#bd3786"
             ],
             [
              0.5555555555555556,
              "#d8576b"
             ],
             [
              0.6666666666666666,
              "#ed7953"
             ],
             [
              0.7777777777777778,
              "#fb9f3a"
             ],
             [
              0.8888888888888888,
              "#fdca26"
             ],
             [
              1,
              "#f0f921"
             ]
            ],
            "type": "histogram2d"
           }
          ],
          "histogram2dcontour": [
           {
            "colorbar": {
             "outlinewidth": 0,
             "ticks": ""
            },
            "colorscale": [
             [
              0,
              "#0d0887"
             ],
             [
              0.1111111111111111,
              "#46039f"
             ],
             [
              0.2222222222222222,
              "#7201a8"
             ],
             [
              0.3333333333333333,
              "#9c179e"
             ],
             [
              0.4444444444444444,
              "#bd3786"
             ],
             [
              0.5555555555555556,
              "#d8576b"
             ],
             [
              0.6666666666666666,
              "#ed7953"
             ],
             [
              0.7777777777777778,
              "#fb9f3a"
             ],
             [
              0.8888888888888888,
              "#fdca26"
             ],
             [
              1,
              "#f0f921"
             ]
            ],
            "type": "histogram2dcontour"
           }
          ],
          "mesh3d": [
           {
            "colorbar": {
             "outlinewidth": 0,
             "ticks": ""
            },
            "type": "mesh3d"
           }
          ],
          "parcoords": [
           {
            "line": {
             "colorbar": {
              "outlinewidth": 0,
              "ticks": ""
             }
            },
            "type": "parcoords"
           }
          ],
          "pie": [
           {
            "automargin": true,
            "type": "pie"
           }
          ],
          "scatter": [
           {
            "fillpattern": {
             "fillmode": "overlay",
             "size": 10,
             "solidity": 0.2
            },
            "type": "scatter"
           }
          ],
          "scatter3d": [
           {
            "line": {
             "colorbar": {
              "outlinewidth": 0,
              "ticks": ""
             }
            },
            "marker": {
             "colorbar": {
              "outlinewidth": 0,
              "ticks": ""
             }
            },
            "type": "scatter3d"
           }
          ],
          "scattercarpet": [
           {
            "marker": {
             "colorbar": {
              "outlinewidth": 0,
              "ticks": ""
             }
            },
            "type": "scattercarpet"
           }
          ],
          "scattergeo": [
           {
            "marker": {
             "colorbar": {
              "outlinewidth": 0,
              "ticks": ""
             }
            },
            "type": "scattergeo"
           }
          ],
          "scattergl": [
           {
            "marker": {
             "colorbar": {
              "outlinewidth": 0,
              "ticks": ""
             }
            },
            "type": "scattergl"
           }
          ],
          "scattermapbox": [
           {
            "marker": {
             "colorbar": {
              "outlinewidth": 0,
              "ticks": ""
             }
            },
            "type": "scattermapbox"
           }
          ],
          "scatterpolar": [
           {
            "marker": {
             "colorbar": {
              "outlinewidth": 0,
              "ticks": ""
             }
            },
            "type": "scatterpolar"
           }
          ],
          "scatterpolargl": [
           {
            "marker": {
             "colorbar": {
              "outlinewidth": 0,
              "ticks": ""
             }
            },
            "type": "scatterpolargl"
           }
          ],
          "scatterternary": [
           {
            "marker": {
             "colorbar": {
              "outlinewidth": 0,
              "ticks": ""
             }
            },
            "type": "scatterternary"
           }
          ],
          "surface": [
           {
            "colorbar": {
             "outlinewidth": 0,
             "ticks": ""
            },
            "colorscale": [
             [
              0,
              "#0d0887"
             ],
             [
              0.1111111111111111,
              "#46039f"
             ],
             [
              0.2222222222222222,
              "#7201a8"
             ],
             [
              0.3333333333333333,
              "#9c179e"
             ],
             [
              0.4444444444444444,
              "#bd3786"
             ],
             [
              0.5555555555555556,
              "#d8576b"
             ],
             [
              0.6666666666666666,
              "#ed7953"
             ],
             [
              0.7777777777777778,
              "#fb9f3a"
             ],
             [
              0.8888888888888888,
              "#fdca26"
             ],
             [
              1,
              "#f0f921"
             ]
            ],
            "type": "surface"
           }
          ],
          "table": [
           {
            "cells": {
             "fill": {
              "color": "#EBF0F8"
             },
             "line": {
              "color": "white"
             }
            },
            "header": {
             "fill": {
              "color": "#C8D4E3"
             },
             "line": {
              "color": "white"
             }
            },
            "type": "table"
           }
          ]
         },
         "layout": {
          "annotationdefaults": {
           "arrowcolor": "#2a3f5f",
           "arrowhead": 0,
           "arrowwidth": 1
          },
          "autotypenumbers": "strict",
          "coloraxis": {
           "colorbar": {
            "outlinewidth": 0,
            "ticks": ""
           }
          },
          "colorscale": {
           "diverging": [
            [
             0,
             "#8e0152"
            ],
            [
             0.1,
             "#c51b7d"
            ],
            [
             0.2,
             "#de77ae"
            ],
            [
             0.3,
             "#f1b6da"
            ],
            [
             0.4,
             "#fde0ef"
            ],
            [
             0.5,
             "#f7f7f7"
            ],
            [
             0.6,
             "#e6f5d0"
            ],
            [
             0.7,
             "#b8e186"
            ],
            [
             0.8,
             "#7fbc41"
            ],
            [
             0.9,
             "#4d9221"
            ],
            [
             1,
             "#276419"
            ]
           ],
           "sequential": [
            [
             0,
             "#0d0887"
            ],
            [
             0.1111111111111111,
             "#46039f"
            ],
            [
             0.2222222222222222,
             "#7201a8"
            ],
            [
             0.3333333333333333,
             "#9c179e"
            ],
            [
             0.4444444444444444,
             "#bd3786"
            ],
            [
             0.5555555555555556,
             "#d8576b"
            ],
            [
             0.6666666666666666,
             "#ed7953"
            ],
            [
             0.7777777777777778,
             "#fb9f3a"
            ],
            [
             0.8888888888888888,
             "#fdca26"
            ],
            [
             1,
             "#f0f921"
            ]
           ],
           "sequentialminus": [
            [
             0,
             "#0d0887"
            ],
            [
             0.1111111111111111,
             "#46039f"
            ],
            [
             0.2222222222222222,
             "#7201a8"
            ],
            [
             0.3333333333333333,
             "#9c179e"
            ],
            [
             0.4444444444444444,
             "#bd3786"
            ],
            [
             0.5555555555555556,
             "#d8576b"
            ],
            [
             0.6666666666666666,
             "#ed7953"
            ],
            [
             0.7777777777777778,
             "#fb9f3a"
            ],
            [
             0.8888888888888888,
             "#fdca26"
            ],
            [
             1,
             "#f0f921"
            ]
           ]
          },
          "colorway": [
           "#636efa",
           "#EF553B",
           "#00cc96",
           "#ab63fa",
           "#FFA15A",
           "#19d3f3",
           "#FF6692",
           "#B6E880",
           "#FF97FF",
           "#FECB52"
          ],
          "font": {
           "color": "#2a3f5f"
          },
          "geo": {
           "bgcolor": "white",
           "lakecolor": "white",
           "landcolor": "#E5ECF6",
           "showlakes": true,
           "showland": true,
           "subunitcolor": "white"
          },
          "hoverlabel": {
           "align": "left"
          },
          "hovermode": "closest",
          "mapbox": {
           "style": "light"
          },
          "paper_bgcolor": "white",
          "plot_bgcolor": "#E5ECF6",
          "polar": {
           "angularaxis": {
            "gridcolor": "white",
            "linecolor": "white",
            "ticks": ""
           },
           "bgcolor": "#E5ECF6",
           "radialaxis": {
            "gridcolor": "white",
            "linecolor": "white",
            "ticks": ""
           }
          },
          "scene": {
           "xaxis": {
            "backgroundcolor": "#E5ECF6",
            "gridcolor": "white",
            "gridwidth": 2,
            "linecolor": "white",
            "showbackground": true,
            "ticks": "",
            "zerolinecolor": "white"
           },
           "yaxis": {
            "backgroundcolor": "#E5ECF6",
            "gridcolor": "white",
            "gridwidth": 2,
            "linecolor": "white",
            "showbackground": true,
            "ticks": "",
            "zerolinecolor": "white"
           },
           "zaxis": {
            "backgroundcolor": "#E5ECF6",
            "gridcolor": "white",
            "gridwidth": 2,
            "linecolor": "white",
            "showbackground": true,
            "ticks": "",
            "zerolinecolor": "white"
           }
          },
          "shapedefaults": {
           "line": {
            "color": "#2a3f5f"
           }
          },
          "ternary": {
           "aaxis": {
            "gridcolor": "white",
            "linecolor": "white",
            "ticks": ""
           },
           "baxis": {
            "gridcolor": "white",
            "linecolor": "white",
            "ticks": ""
           },
           "bgcolor": "#E5ECF6",
           "caxis": {
            "gridcolor": "white",
            "linecolor": "white",
            "ticks": ""
           }
          },
          "title": {
           "x": 0.05
          },
          "xaxis": {
           "automargin": true,
           "gridcolor": "white",
           "linecolor": "white",
           "ticks": "",
           "title": {
            "standoff": 15
           },
           "zerolinecolor": "white",
           "zerolinewidth": 2
          },
          "yaxis": {
           "automargin": true,
           "gridcolor": "white",
           "linecolor": "white",
           "ticks": "",
           "title": {
            "standoff": 15
           },
           "zerolinecolor": "white",
           "zerolinewidth": 2
          }
         }
        },
        "title": {
         "text": "LST mean values (cloud coverage<50%)",
         "x": 0.5,
         "y": 0.9
        },
        "xaxis": {
         "anchor": "y",
         "autorange": true,
         "domain": [
          0,
          1
         ],
         "range": [
          "2012-12-21 08:33:55.7417",
          "2022-02-26 10:33:53.2583"
         ],
         "tickformat": "%d-%m-%Y",
         "title": {
          "text": "Date"
         },
         "type": "date"
        },
        "yaxis": {
         "anchor": "x",
         "autorange": true,
         "domain": [
          0,
          1
         ],
         "range": [
          11.100413495388034,
          40.16632169434881
         ],
         "ticktext": [
          "0.00",
          "10.00",
          "20.00",
          "30.00",
          "40.00"
         ],
         "tickvals": [
          0,
          10,
          20,
          30,
          40
         ],
         "title": {
          "text": "LST Mean Values"
         },
         "type": "linear"
        }
       }
      },
      "image/png": "[encoded data removed]",
      "text/html": [
       "<div>                            <div id=\"7eaaba5c-790a-49c0-8af8-2a645bb5c606\" class=\"plotly-graph-div\" style=\"height:525px; width:100%;\"></div>            <script type=\"text/javascript\">                require([\"plotly\"], function(Plotly) {                    window.PLOTLYENV=window.PLOTLYENV || {};                                    if (document.getElementById(\"7eaaba5c-790a-49c0-8af8-2a645bb5c606\")) {                    Plotly.newPlot(                        \"7eaaba5c-790a-49c0-8af8-2a645bb5c606\",                        [{\"hovertemplate\":\"Date=%{x}\\u003cbr\\u003eLST Mean Values=%{marker.color}\\u003cextra\\u003e\\u003c\\u002fextra\\u003e\",\"legendgroup\":\"\",\"marker\":{\"color\":\"green\",\"coloraxis\":\"coloraxis\",\"symbol\":\"circle\"},\"mode\":\"markers\",\"name\":\"\",\"orientation\":\"v\",\"showlegend\":false,\"x\":[\"2013-06-20T09:34:46\",\"2013-07-06T09:34:50\",\"2013-07-13T09:41:01\",\"2013-07-22T09:34:48\",\"2013-07-29T09:41:01\",\"2013-08-07T09:34:51\",\"2013-08-14T09:41:01\",\"2013-08-23T09:34:53\",\"2013-08-30T09:41:04\",\"2014-06-07T09:32:30\",\"2014-06-14T09:38:44\",\"2014-06-23T09:32:33\",\"2014-07-16T09:38:54\",\"2014-07-25T09:32:43\",\"2014-08-01T09:39:00\",\"2014-08-10T09:32:53\",\"2014-08-17T09:39:05\",\"2015-06-01T09:38:08\",\"2015-06-10T09:32:05\",\"2015-06-26T09:32:10\",\"2015-07-03T09:38:26\",\"2015-07-12T09:32:22\",\"2015-07-19T09:38:36\",\"2015-07-28T09:32:27\",\"2015-08-04T09:38:39\",\"2015-08-13T09:32:32\",\"2015-08-20T09:38:46\",\"2015-08-29T09:32:38\",\"2016-06-03T09:38:41\",\"2016-06-19T09:38:45\",\"2016-07-05T09:38:54\",\"2016-07-21T09:39:00\",\"2016-07-30T09:32:51\",\"2016-08-15T09:32:54\",\"2017-06-06T09:38:40\",\"2017-06-15T09:32:33\",\"2017-06-22T09:38:46\",\"2017-07-08T09:38:49\",\"2017-07-17T09:32:41\",\"2017-08-02T09:32:49\",\"2017-08-09T09:39:02\",\"2017-08-18T09:32:54\",\"2017-08-25T09:39:07\",\"2018-06-02T09:31:37\",\"2018-07-04T09:31:55\",\"2018-07-27T09:38:16\",\"2018-08-05T09:32:11\",\"2018-08-12T09:38:26\",\"2018-08-21T09:32:19\",\"2018-08-28T09:38:33\",\"2019-06-05T09:32:36\",\"2019-06-12T09:38:50\",\"2019-06-21T09:32:42\",\"2019-06-28T09:38:55\",\"2019-07-07T09:32:46\",\"2019-07-14T09:38:58\",\"2019-07-30T09:39:04\",\"2019-08-08T09:32:56\",\"2019-08-15T09:39:09\",\"2019-08-24T09:33:01\",\"2020-06-07T09:32:24\",\"2020-06-14T09:38:40\",\"2020-06-23T09:32:34\",\"2020-06-30T09:38:48\",\"2020-07-09T09:32:41\",\"2020-07-25T09:32:46\",\"2020-08-01T09:38:58\",\"2020-08-10T09:32:49\",\"2020-08-26T09:32:57\",\"2021-06-01T09:38:46\",\"2021-06-10T09:32:39\",\"2021-06-17T09:38:52\",\"2021-06-26T09:32:43\",\"2021-07-03T09:38:55\",\"2021-07-19T09:38:58\",\"2021-07-28T09:32:52\",\"2021-08-13T09:32:59\",\"2021-08-20T09:39:11\",\"2021-08-29T09:33:03\"],\"xaxis\":\"x\",\"y\":[23.230624231791275,null,null,25.96498154078421,38.21758466737303,35.043346744569284,null,null,21.213143592813427,27.18838712836021,null,null,23.05770160835352,19.560092186023883,19.191886461727815,null,null,null,24.630229720713135,null,25.80946324833143,14.573387351487174,31.60869443118893,null,23.85117143456065,30.945286403871574,17.7360214299464,30.38713625644189,null,16.227949211200098,15.812027068209947,24.715507503813956,null,null,null,25.56477193273299,null,13.216433606875936,18.116454559572464,null,25.441580541462987,null,20.54243122426534,null,28.976739780020047,20.77171248459129,18.579970143120754,20.356806267215475,29.361107709880297,null,23.719974929004252,19.593117950523013,23.02131502475844,17.885362328385032,null,null,null,15.427174045036171,22.092159478354446,23.389137625901885,null,24.19919586649974,null,20.193040176812822,null,18.565240105933555,24.869348307622452,28.164723299408816,null,null,17.013099931526853,18.894640872489187,null,null,13.049150522363814,26.097252389018287,null,null,null],\"yaxis\":\"y\",\"type\":\"scatter\"}],                        {\"template\":{\"data\":{\"histogram2dcontour\":[{\"type\":\"histogram2dcontour\",\"colorbar\":{\"outlinewidth\":0,\"ticks\":\"\"},\"colorscale\":[[0.0,\"#0d0887\"],[0.1111111111111111,\"#46039f\"],[0.2222222222222222,\"#7201a8\"],[0.3333333333333333,\"#9c179e\"],[0.4444444444444444,\"#bd3786\"],[0.5555555555555556,\"#d8576b\"],[0.6666666666666666,\"#ed7953\"],[0.7777777777777778,\"#fb9f3a\"],[0.8888888888888888,\"#fdca26\"],[1.0,\"#f0f921\"]]}],\"choropleth\":[{\"type\":\"choropleth\",\"colorbar\":{\"outlinewidth\":0,\"ticks\":\"\"}}],\"histogram2d\":[{\"type\":\"histogram2d\",\"colorbar\":{\"outlinewidth\":0,\"ticks\":\"\"},\"colorscale\":[[0.0,\"#0d0887\"],[0.1111111111111111,\"#46039f\"],[0.2222222222222222,\"#7201a8\"],[0.3333333333333333,\"#9c179e\"],[0.4444444444444444,\"#bd3786\"],[0.5555555555555556,\"#d8576b\"],[0.6666666666666666,\"#ed7953\"],[0.7777777777777778,\"#fb9f3a\"],[0.8888888888888888,\"#fdca26\"],[1.0,\"#f0f921\"]]}],\"heatmap\":[{\"type\":\"heatmap\",\"colorbar\":{\"outlinewidth\":0,\"ticks\":\"\"},\"colorscale\":[[0.0,\"#0d0887\"],[0.1111111111111111,\"#46039f\"],[0.2222222222222222,\"#7201a8\"],[0.3333333333333333,\"#9c179e\"],[0.4444444444444444,\"#bd3786\"],[0.5555555555555556,\"#d8576b\"],[0.6666666666666666,\"#ed7953\"],[0.7777777777777778,\"#fb9f3a\"],[0.8888888888888888,\"#fdca26\"],[1.0,\"#f0f921\"]]}],\"heatmapgl\":[{\"type\":\"heatmapgl\",\"colorbar\":{\"outlinewidth\":0,\"ticks\":\"\"},\"colorscale\":[[0.0,\"#0d0887\"],[0.1111111111111111,\"#46039f\"],[0.2222222222222222,\"#7201a8\"],[0.3333333333333333,\"#9c179e\"],[0.4444444444444444,\"#bd3786\"],[0.5555555555555556,\"#d8576b\"],[0.6666666666666666,\"#ed7953\"],[0.7777777777777778,\"#fb9f3a\"],[0.8888888888888888,\"#fdca26\"],[1.0,\"#f0f921\"]]}],\"contourcarpet\":[{\"type\":\"contourcarpet\",\"colorbar\":{\"outlinewidth\":0,\"ticks\":\"\"}}],\"contour\":[{\"type\":\"contour\",\"colorbar\":{\"outlinewidth\":0,\"ticks\":\"\"},\"colorscale\":[[0.0,\"#0d0887\"],[0.1111111111111111,\"#46039f\"],[0.2222222222222222,\"#7201a8\"],[0.3333333333333333,\"#9c179e\"],[0.4444444444444444,\"#bd3786\"],[0.5555555555555556,\"#d8576b\"],[0.6666666666666666,\"#ed7953\"],[0.7777777777777778,\"#fb9f3a\"],[0.8888888888888888,\"#fdca26\"],[1.0,\"#f0f921\"]]}],\"surface\":[{\"type\":\"surface\",\"colorbar\":{\"outlinewidth\":0,\"ticks\":\"\"},\"colorscale\":[[0.0,\"#0d0887\"],[0.1111111111111111,\"#46039f\"],[0.2222222222222222,\"#7201a8\"],[0.3333333333333333,\"#9c179e\"],[0.4444444444444444,\"#bd3786\"],[0.5555555555555556,\"#d8576b\"],[0.6666666666666666,\"#ed7953\"],[0.7777777777777778,\"#fb9f3a\"],[0.8888888888888888,\"#fdca26\"],[1.0,\"#f0f921\"]]}],\"mesh3d\":[{\"type\":\"mesh3d\",\"colorbar\":{\"outlinewidth\":0,\"ticks\":\"\"}}],\"scatter\":[{\"fillpattern\":{\"fillmode\":\"overlay\",\"size\":10,\"solidity\":0.2},\"type\":\"scatter\"}],\"parcoords\":[{\"type\":\"parcoords\",\"line\":{\"colorbar\":{\"outlinewidth\":0,\"ticks\":\"\"}}}],\"scatterpolargl\":[{\"type\":\"scatterpolargl\",\"marker\":{\"colorbar\":{\"outlinewidth\":0,\"ticks\":\"\"}}}],\"bar\":[{\"error_x\":{\"color\":\"#2a3f5f\"},\"error_y\":{\"color\":\"#2a3f5f\"},\"marker\":{\"line\":{\"color\":\"#E5ECF6\",\"width\":0.5},\"pattern\":{\"fillmode\":\"overlay\",\"size\":10,\"solidity\":0.2}},\"type\":\"bar\"}],\"scattergeo\":[{\"type\":\"scattergeo\",\"marker\":{\"colorbar\":{\"outlinewidth\":0,\"ticks\":\"\"}}}],\"scatterpolar\":[{\"type\":\"scatterpolar\",\"marker\":{\"colorbar\":{\"outlinewidth\":0,\"ticks\":\"\"}}}],\"histogram\":[{\"marker\":{\"pattern\":{\"fillmode\":\"overlay\",\"size\":10,\"solidity\":0.2}},\"type\":\"histogram\"}],\"scattergl\":[{\"type\":\"scattergl\",\"marker\":{\"colorbar\":{\"outlinewidth\":0,\"ticks\":\"\"}}}],\"scatter3d\":[{\"type\":\"scatter3d\",\"line\":{\"colorbar\":{\"outlinewidth\":0,\"ticks\":\"\"}},\"marker\":{\"colorbar\":{\"outlinewidth\":0,\"ticks\":\"\"}}}],\"scattermapbox\":[{\"type\":\"scattermapbox\",\"marker\":{\"colorbar\":{\"outlinewidth\":0,\"ticks\":\"\"}}}],\"scatterternary\":[{\"type\":\"scatterternary\",\"marker\":{\"colorbar\":{\"outlinewidth\":0,\"ticks\":\"\"}}}],\"scattercarpet\":[{\"type\":\"scattercarpet\",\"marker\":{\"colorbar\":{\"outlinewidth\":0,\"ticks\":\"\"}}}],\"carpet\":[{\"aaxis\":{\"endlinecolor\":\"#2a3f5f\",\"gridcolor\":\"white\",\"linecolor\":\"white\",\"minorgridcolor\":\"white\",\"startlinecolor\":\"#2a3f5f\"},\"baxis\":{\"endlinecolor\":\"#2a3f5f\",\"gridcolor\":\"white\",\"linecolor\":\"white\",\"minorgridcolor\":\"white\",\"startlinecolor\":\"#2a3f5f\"},\"type\":\"carpet\"}],\"table\":[{\"cells\":{\"fill\":{\"color\":\"#EBF0F8\"},\"line\":{\"color\":\"white\"}},\"header\":{\"fill\":{\"color\":\"#C8D4E3\"},\"line\":{\"color\":\"white\"}},\"type\":\"table\"}],\"barpolar\":[{\"marker\":{\"line\":{\"color\":\"#E5ECF6\",\"width\":0.5},\"pattern\":{\"fillmode\":\"overlay\",\"size\":10,\"solidity\":0.2}},\"type\":\"barpolar\"}],\"pie\":[{\"automargin\":true,\"type\":\"pie\"}]},\"layout\":{\"autotypenumbers\":\"strict\",\"colorway\":[\"#636efa\",\"#EF553B\",\"#00cc96\",\"#ab63fa\",\"#FFA15A\",\"#19d3f3\",\"#FF6692\",\"#B6E880\",\"#FF97FF\",\"#FECB52\"],\"font\":{\"color\":\"#2a3f5f\"},\"hovermode\":\"closest\",\"hoverlabel\":{\"align\":\"left\"},\"paper_bgcolor\":\"white\",\"plot_bgcolor\":\"#E5ECF6\",\"polar\":{\"bgcolor\":\"#E5ECF6\",\"angularaxis\":{\"gridcolor\":\"white\",\"linecolor\":\"white\",\"ticks\":\"\"},\"radialaxis\":{\"gridcolor\":\"white\",\"linecolor\":\"white\",\"ticks\":\"\"}},\"ternary\":{\"bgcolor\":\"#E5ECF6\",\"aaxis\":{\"gridcolor\":\"white\",\"linecolor\":\"white\",\"ticks\":\"\"},\"baxis\":{\"gridcolor\":\"white\",\"linecolor\":\"white\",\"ticks\":\"\"},\"caxis\":{\"gridcolor\":\"white\",\"linecolor\":\"white\",\"ticks\":\"\"}},\"coloraxis\":{\"colorbar\":{\"outlinewidth\":0,\"ticks\":\"\"}},\"colorscale\":{\"sequential\":[[0.0,\"#0d0887\"],[0.1111111111111111,\"#46039f\"],[0.2222222222222222,\"#7201a8\"],[0.3333333333333333,\"#9c179e\"],[0.4444444444444444,\"#bd3786\"],[0.5555555555555556,\"#d8576b\"],[0.6666666666666666,\"#ed7953\"],[0.7777777777777778,\"#fb9f3a\"],[0.8888888888888888,\"#fdca26\"],[1.0,\"#f0f921\"]],\"sequentialminus\":[[0.0,\"#0d0887\"],[0.1111111111111111,\"#46039f\"],[0.2222222222222222,\"#7201a8\"],[0.3333333333333333,\"#9c179e\"],[0.4444444444444444,\"#bd3786\"],[0.5555555555555556,\"#d8576b\"],[0.6666666666666666,\"#ed7953\"],[0.7777777777777778,\"#fb9f3a\"],[0.8888888888888888,\"#fdca26\"],[1.0,\"#f0f921\"]],\"diverging\":[[0,\"#8e0152\"],[0.1,\"#c51b7d\"],[0.2,\"#de77ae\"],[0.3,\"#f1b6da\"],[0.4,\"#fde0ef\"],[0.5,\"#f7f7f7\"],[0.6,\"#e6f5d0\"],[0.7,\"#b8e186\"],[0.8,\"#7fbc41\"],[0.9,\"#4d9221\"],[1,\"#276419\"]]},\"xaxis\":{\"gridcolor\":\"white\",\"linecolor\":\"white\",\"ticks\":\"\",\"title\":{\"standoff\":15},\"zerolinecolor\":\"white\",\"automargin\":true,\"zerolinewidth\":2},\"yaxis\":{\"gridcolor\":\"white\",\"linecolor\":\"white\",\"ticks\":\"\",\"title\":{\"standoff\":15},\"zerolinecolor\":\"white\",\"automargin\":true,\"zerolinewidth\":2},\"scene\":{\"xaxis\":{\"backgroundcolor\":\"#E5ECF6\",\"gridcolor\":\"white\",\"linecolor\":\"white\",\"showbackground\":true,\"ticks\":\"\",\"zerolinecolor\":\"white\",\"gridwidth\":2},\"yaxis\":{\"backgroundcolor\":\"#E5ECF6\",\"gridcolor\":\"white\",\"linecolor\":\"white\",\"showbackground\":true,\"ticks\":\"\",\"zerolinecolor\":\"white\",\"gridwidth\":2},\"zaxis\":{\"backgroundcolor\":\"#E5ECF6\",\"gridcolor\":\"white\",\"linecolor\":\"white\",\"showbackground\":true,\"ticks\":\"\",\"zerolinecolor\":\"white\",\"gridwidth\":2}},\"shapedefaults\":{\"line\":{\"color\":\"#2a3f5f\"}},\"annotationdefaults\":{\"arrowcolor\":\"#2a3f5f\",\"arrowhead\":0,\"arrowwidth\":1},\"geo\":{\"bgcolor\":\"white\",\"landcolor\":\"#E5ECF6\",\"subunitcolor\":\"white\",\"showland\":true,\"showlakes\":true,\"lakecolor\":\"white\"},\"title\":{\"x\":0.05},\"mapbox\":{\"style\":\"light\"}}},\"xaxis\":{\"anchor\":\"y\",\"domain\":[0.0,1.0],\"title\":{\"text\":\"Date\"},\"tickformat\":\"%d-%m-%Y\"},\"yaxis\":{\"anchor\":\"x\",\"domain\":[0.0,1.0],\"title\":{\"text\":\"LST Mean Values\"},\"tickvals\":[0,10,20,30,40],\"ticktext\":[\"0.00\",\"10.00\",\"20.00\",\"30.00\",\"40.00\"]},\"coloraxis\":{\"colorbar\":{\"title\":{\"text\":\"LST Mean Values\"}},\"colorscale\":[[0.0,\"#0d0887\"],[0.1111111111111111,\"#46039f\"],[0.2222222222222222,\"#7201a8\"],[0.3333333333333333,\"#9c179e\"],[0.4444444444444444,\"#bd3786\"],[0.5555555555555556,\"#d8576b\"],[0.6666666666666666,\"#ed7953\"],[0.7777777777777778,\"#fb9f3a\"],[0.8888888888888888,\"#fdca26\"],[1.0,\"#f0f921\"]]},\"legend\":{\"tracegroupgap\":0},\"margin\":{\"t\":60},\"title\":{\"text\":\"LST mean values (cloud coverage\\u003c50%)\",\"x\":0.5,\"y\":0.9}},                        {\"responsive\": true}                    ).then(function(){\n",
       "                            \n",
       "var gd = document.getElementById('7eaaba5c-790a-49c0-8af8-2a645bb5c606');\n",
       "var x = new MutationObserver(function (mutations, observer) {{\n",
       "        var display = window.getComputedStyle(gd).display;\n",
       "        if (!display || display === 'none') {{\n",
       "            console.log([gd, 'removed!']);\n",
       "            Plotly.purge(gd);\n",
       "            observer.disconnect();\n",
       "        }}\n",
       "}});\n",
       "\n",
       "// Listen for the removal of the full notebook cells\n",
       "var notebookContainer = gd.closest('#notebook-container');\n",
       "if (notebookContainer) {{\n",
       "    x.observe(notebookContainer, {childList: true});\n",
       "}}\n",
       "\n",
       "// Listen for the clearing of the current output cell\n",
       "var outputEl = gd.closest('.output');\n",
       "if (outputEl) {{\n",
       "    x.observe(outputEl, {childList: true});\n",
       "}}\n",
       "\n",
       "                        })                };                });            </script>        </div>"
      ]
     },
     "metadata": {},
     "output_type": "display_data"
    }
   ],
   "source": [
    "import datetime\n",
    "# Create a dictionary from your data\n",
    "data = {'Dates': lst_dates, 'Values': mean_values_list}\n",
    "# Create a DataFrame from the dictionary\n",
    "import pandas as pd\n",
    "df = pd.DataFrame(data)\n",
    "# Plot using Plotly Express\n",
    "fig = px.scatter(df, x='Dates', y='Values', labels={'Dates': 'Date', 'Values': 'LST Mean Values'}, color='Values')\n",
    "fig.update_traces(marker=dict(color='green'))  # Set dot color to green\n",
    "fig.update_traces(mode='markers')  # Display as dots\n",
    "# Add title and center it\n",
    "fig.update_layout(title_text='LST mean values (cloud coverage<50%)',\n",
    "                  title_x=0.5,  # Center the title horizontally\n",
    "                  title_y=0.9)  # Adjust vertical position if needed\n",
    "fig.update_xaxes(tickformat='%d-%m-%Y')\n",
    "fig.show()"
   ]
  },
  {
   "cell_type": "markdown",
   "id": "9cca04f2-da34-4051-b7a8-3caf611b3135",
   "metadata": {},
   "source": [
    "- This plot gives you the information about land surface temperature mean values for the selected area. And also gives you the information for which day you have the lst picture with cloud coverage lower then 50% of the picture"
   ]
  },
  {
   "cell_type": "markdown",
   "id": "27d3d5a2",
   "metadata": {},
   "source": [
    "## Step 6: Identify vulnerable population groups "
   ]
  },
  {
   "cell_type": "markdown",
   "id": "41037646",
   "metadata": {},
   "source": [
    "- We can use the maps of the distribution of the population across the interested area and look if the most populated areas overlay with the most overheated parts. \n",
    "\n",
    "- For the Zilina pilot, we collected data from the Zilina municipality office about the buildings that are usually crowded with huge masses of people, e.g. hospitals, stadiums, main squares, big shopping centers, main roads, and bigger factories... **You can apply your data in this part**   \n",
    "\n",
    "- If places like these are overheated, a huge number of people can be negatively influenced by the Heat. With that, the risk probability also rises, and thus, these areas are prioritized for Heat mitigation measures.  "
   ]
  },
  {
   "cell_type": "markdown",
   "id": "3ac3c92d",
   "metadata": {},
   "source": [
    "### 6.1 Download the Vulnerable population data "
   ]
  },
  {
   "cell_type": "markdown",
   "id": "87a1477d",
   "metadata": {},
   "source": [
    " 1. In the link [[Source](https://data.humdata.org/dataset/?dataseries_name=Data%20for%20Good%20at%20Meta%20-%20High%20Resolution%20Population%20Density%20Maps%20and%20Demographic%20Estimates&groups=esp&res_format=GeoTIFF&q=&sort=last_modified%20desc&ext_page_size=25)]:\n",
    "       -  Select the **High Resolution Population Density Maps + Demographic Estimates**\n",
    "       -  Select the **Location**\n",
    "       -  Select the **Formats** to GeoTIFF.\n",
    "  \n",
    " 2. Download the maps for the most vulnerable groups of the population **elderly 60+ years and children under 5 years**. Save the data in the data_dir where you create a folder **population** and save it there.\n",
    "\n",
    " 3. When you download all these maps to the Heat-workflow data folder you  can use this code for data handling:\n",
    "    - in the first step we load all the maps of the critical population \n",
    "    - then we calculate the sum of the vulnerable population from each of the maps\n",
    "    - we classified the maps into 5 groups (equal intervals)\n",
    "    - plot it next to a map of overheated areas."
   ]
  },
  {
   "cell_type": "markdown",
   "id": "aaa2858d-22a0-4880-8e11-c54a1aab2359",
   "metadata": {},
   "source": [
    "### 6.2 Loads the vulnerable population data"
   ]
  },
  {
   "cell_type": "code",
   "execution_count": 7,
   "id": "83963820",
   "metadata": {},
   "outputs": [],
   "source": [
    "# This code loads all population data and creates a raster stack from them \n",
    "poplist = glob( f'{data_dir}/population/*.tif')\n",
    "#\n",
    "with rasterio.open(poplist[0]) as src0:\n",
    "    meta = src0.meta\n",
    "#\n",
    "meta.update(count = len(poplist))\n",
    "#\n",
    "with rasterio.open(f'{data_dir}/Population_raster_stack.tif', 'w', **meta) as dst:\n",
    "    for id, layer in enumerate(poplist, start=1):\n",
    "        with rasterio.open(layer) as src1:\n",
    "            dst.write_band(id, src1.read(1))"
   ]
  },
  {
   "cell_type": "markdown",
   "id": "4a86fbbc-3550-4725-9967-0b945bfcbbf9",
   "metadata": {},
   "source": [
    "### 6.3 Reclassify the vulnerable population data to 5 classes"
   ]
  },
  {
   "cell_type": "markdown",
   "id": "34bec6ba-015d-45d5-98ab-baf07ecdbd57",
   "metadata": {},
   "source": [
    "- We need to reclassify the vulnerable population dtaa to 5 groups based on the density of the population. "
   ]
  },
  {
   "cell_type": "code",
   "execution_count": 4,
   "id": "afac1859-f82c-4f8e-aadf-b775aaf2e23e",
   "metadata": {},
   "outputs": [
    {
     "data": {
      "image/png": "[encoded data removed]",
      "text/plain": [
       "<Figure size 640x480 with 2 Axes>"
      ]
     },
     "metadata": {},
     "output_type": "display_data"
    }
   ],
   "source": [
    "\n",
    "from rasterio.transform import from_bounds\n",
    "\n",
    "# Load the LST data and calculate maximum values from raster stack\n",
    "L8_path = f'{data_dir}/L8_raster_stack.tif'\n",
    "L8 = xr.open_dataset(L8_path)\n",
    "L8 = L8.max(dim='band', skipna=True, keep_attrs=True)\n",
    "L8lst2016 = L8['band_data']\n",
    "lstbbox = L8.rio.bounds()\n",
    "\n",
    "# Load the population data and calculate the sum from raster stack\n",
    "pop_path = f'{data_dir}/Population_raster_stack.tif'\n",
    "pop = xr.open_dataset(pop_path)\n",
    "pop = pop.sum(dim='band', skipna=True, keep_attrs=True)\n",
    "pop = pop['band_data']\n",
    "pop = pop.rio.clip_box(minx=lstbbox[0], miny=lstbbox[1], maxx=lstbbox[2], maxy=lstbbox[3])\n",
    "\n",
    "# Function to reclassify data using numpy\n",
    "def reclassify_with_numpy(array, bins, new_values):\n",
    "    reclassified_array = np.zeros_like(array)\n",
    "    reclassified_array[array <= bins[0]] = new_values[0]\n",
    "    for i in range(len(bins) - 1):\n",
    "        reclassified_array[(array > bins[i]) & (array <= bins[i + 1])] = new_values[i + 1]\n",
    "    reclassified_array[array > bins[-1]] = new_values[-1]\n",
    "    return reclassified_array\n",
    "\n",
    "# Calculate the number of bins (classes)\n",
    "num_bins = 4\n",
    "# Equal interval classification\n",
    "min_value = np.nanmin(pop)  # Minimum population value\n",
    "max_value = np.nanmax(pop)  # Maximum population value\n",
    "bin_width = (max_value - min_value) / num_bins  # Width of each bin\n",
    "pop_bins = [min_value + i * bin_width for i in range(num_bins)]  # Define bin boundaries\n",
    "\n",
    "# Define reclassification values\n",
    "pop_values = [1, 2, 3, 4, 5]\n",
    "\n",
    "# Apply the reclassification function to the population data\n",
    "pop_class = reclassify_with_numpy(pop.values, bins=pop_bins, new_values=pop_values)\n",
    "\n",
    "# Convert the reclassified array back to xarray DataArray for plotting\n",
    "pop_class_da = xr.DataArray(pop_class, coords=pop.coords, dims=pop.dims)\n",
    "\n",
    "# Plot the data\n",
    "fig, ax = plt.subplots()\n",
    "oa = pop_class_da.plot(ax=ax, cmap='RdYlGn_r', add_colorbar=False)\n",
    "cbar = fig.colorbar(oa, ticks=[1, 2, 3, 4, 5])\n",
    "cbar.ax.set_yticklabels(['Very Low', 'Low', 'Medium', 'High', 'Very High'], size=10)\n",
    "ax.set_xlabel('lon [deg_east]')\n",
    "ax.set_ylabel('lat [deg_north]')\n",
    "plt.title('Population Density in Zilina city', size=16, pad=10)\n",
    "plt.show()"
   ]
  },
  {
   "cell_type": "markdown",
   "id": "60bdca9a-4f35-467e-8501-6783afd8e18a",
   "metadata": {},
   "source": [
    "### 6.4 Plots the maps of the overheated areas with the vulnerable groups of population "
   ]
  },
  {
   "cell_type": "code",
   "execution_count": 5,
   "id": "7ed47473-ea09-4537-b079-709a3f4ce219",
   "metadata": {},
   "outputs": [
    {
     "data": {
      "image/png": "[encoded data removed]",
      "text/plain": [
       "<Figure size 1800x600 with 4 Axes>"
      ]
     },
     "metadata": {},
     "output_type": "display_data"
    }
   ],
   "source": [
    "# This plots the Overheated areas and Population density maps\n",
    "fig, axes=plt.subplots(ncols=2, figsize=(18,6))\n",
    "# Plot a data\n",
    "oa1 = lc_class_da.plot(ax = axes[0], cmap='RdYlGn_r', add_colorbar=False)\n",
    "cbar = fig.colorbar(oa1, ticks=[ 1, 2, 3, 4, 5])\n",
    "cbar.ax.set_yticklabels([ 'Very Low', 'Low', 'Medium', 'High', 'Very high'], size=15)\n",
    "axes[0].set_xlabel('')\n",
    "axes[0].set_ylabel('')\n",
    "axes[0].set_title('Overheated areas in Zilina city = Exposure', size=15, pad = 10)\n",
    "# Plot a data\n",
    "oa2 = pop_class_da.plot(ax = axes[1], cmap='RdYlGn_r', add_colorbar=False)\n",
    "cbar = fig.colorbar(oa2, ticks=[1, 2, 3, 4, 5])\n",
    "cbar.ax.set_yticklabels([ 'Very Low', 'Low', 'Medium', 'High', 'Very high'], size=15)\n",
    "axes[1].set_xlabel('')\n",
    "axes[1].set_ylabel('')\n",
    "axes[1].set_title('Population density in Zilina city = Vulnerability', size=15, pad = 10)\n",
    "plt.draw()"
   ]
  },
  {
   "cell_type": "markdown",
   "id": "2a44002f-2f56-431a-a253-539535b99dac",
   "metadata": {},
   "source": [
    "- On this plots we can see the most overheated areas togehter with the population density of the vulnerable groups of population\n",
    "- These maps were reclassified to the 5 groups, for the computation of the final Risk map based on the 5x5 risk matrix\n",
    "- - **The Risk matrix will be used in the next step for the estimation of the risk severity**"
   ]
  },
  {
   "cell_type": "markdown",
   "id": "592ab5fc-26c0-42c2-b698-7583b77a4cf0",
   "metadata": {},
   "source": [
    "![heatwave ilustration](https://github.com/CLIMAAX/HEATWAVES/blob/main/Images/risk_matrix.png?raw=true \"Risk matrix example\")"
   ]
  },
  {
   "cell_type": "markdown",
   "id": "45672740",
   "metadata": {},
   "source": [
    "### 6.5 Save data LST and population map"
   ]
  },
  {
   "cell_type": "code",
   "execution_count": 6,
   "id": "a2a254c7",
   "metadata": {},
   "outputs": [],
   "source": [
    "# This code saves the data to results_dir\n",
    "lc_class_da.rio.to_raster(raster_path=f'{results_dir}/risk_LST.tif')\n",
    "pop_class_da.rio.to_raster(raster_path=f'{results_dir}/risk_pop.tif')"
   ]
  },
  {
   "cell_type": "markdown",
   "id": "5f303039",
   "metadata": {},
   "source": [
    "## Step 7: Calculate the heatwave risk map "
   ]
  },
  {
   "cell_type": "markdown",
   "id": "fadeeafe-020a-4f05-8b3d-e90522e86f4c",
   "metadata": {},
   "source": [
    "- In this step we calculate the heatwave **Risk** map based on the **Exposure (LST - most exposed areas to Heat)** x **Vulnerability (Vulnerable population)**\n",
    "- **Risk = Exposure x Vulnerability**\n",
    "- We need to also consider the **Probability** of the heat-occurrence under the climate scenarios. We can use the results of the heatwave hazard assessment. However, because of the coarse resolution of the hazard data, we cannot implement it directly into the Risk equation. "
   ]
  },
  {
   "cell_type": "markdown",
   "id": "7a769955-1cc8-43e6-856b-8f6160a40972",
   "metadata": {},
   "source": [
    "### 7.1 Load a data and create a raster stack"
   ]
  },
  {
   "cell_type": "code",
   "execution_count": 7,
   "id": "6bba860f",
   "metadata": {},
   "outputs": [],
   "source": [
    "# This code creates a raster stack from risk_LST and risk_pop data, we need this step for the next processing of the data \n",
    "S2list = glob( f'{results_dir}/risk_*.tif')\n",
    "#\n",
    "with rasterio.open(S2list[0]) as src0:\n",
    "    meta = src0.meta\n",
    "#\n",
    "meta.update(count = len(S2list))\n",
    "#\n",
    "with rasterio.open(f'{results_dir}/risk_raster_stack.tif', 'w', **meta) as dst:\n",
    "    for id, layer in enumerate(S2list, start=1):\n",
    "        with rasterio.open(layer) as src1:\n",
    "            dst.write_band(id, src1.read(1))"
   ]
  },
  {
   "cell_type": "markdown",
   "id": "c26a604a-14b2-4aa5-84e2-bd3274b1182e",
   "metadata": {},
   "source": [
    "### 7.2 Calculate the risk "
   ]
  },
  {
   "cell_type": "code",
   "execution_count": 8,
   "id": "5aa8a292-6a70-4a1f-8f5c-2cc0c090db01",
   "metadata": {},
   "outputs": [
    {
     "data": {
      "text/plain": [
       "Text(0.5, 1.0, 'Heat-wave risk level')"
      ]
     },
     "execution_count": 8,
     "metadata": {},
     "output_type": "execute_result"
    },
    {
     "data": {
      "image/png": "[encoded data removed]",
      "text/plain": [
       "<Figure size 1200x900 with 2 Axes>"
      ]
     },
     "metadata": {},
     "output_type": "display_data"
    }
   ],
   "source": [
    "# This code calculates a risk map by multiplying a risk_LST and risk_pop data \n",
    "risk=f'{results_dir}/risk_raster_stack.tif'\n",
    "risk = xr.open_dataset(risk)\n",
    "risk=risk['band_data']\n",
    "risk=(risk[0])*(risk[1])\n",
    "# Plot a data\n",
    "fig, ax = plt.subplots(figsize=(12, 9))\n",
    "\n",
    "oa3 = risk.plot(ax = ax, cmap='RdYlGn_r', add_colorbar=False)\n",
    "cbar = fig.colorbar(oa3, ticks=[1, 5, 10, 15, 20, 25])\n",
    "cbar.ax.set_yticklabels([ 'Very Low', 'Low', 'Medium', 'High', 'Very high', 'Extreme'], size=10)\n",
    "ax.set_xlabel('')\n",
    "ax.set_ylabel('')\n",
    "plt.title('heatwave risk level', size=19, pad = 14)\n",
    "\n",
    "#ci= CI_WGS.plot(ax=ax, color='blue', alpha=0.3)"
   ]
  },
  {
   "cell_type": "markdown",
   "id": "9a61b9ce",
   "metadata": {},
   "source": [
    "### 7.3 Save the risk map "
   ]
  },
  {
   "cell_type": "code",
   "execution_count": 10,
   "id": "52c4f600",
   "metadata": {},
   "outputs": [],
   "source": [
    "# This code saves the risk identification map in the results_dir\n",
    "risk.rio.to_raster(raster_path=f'{results_dir}/Heatwave_risk_identificationZA.tif')"
   ]
  },
  {
   "cell_type": "markdown",
   "id": "487af4fd",
   "metadata": {},
   "source": [
    "- Based on the risk interpretation map (above), we can identify the places most influenced by the heatwaves (dark red), for better visualization we can load a map with leafmap (below)."
   ]
  },
  {
   "cell_type": "markdown",
   "id": "3c700f88",
   "metadata": {},
   "source": [
    "### 7.4 Plot Risk data on the interactive map"
   ]
  },
  {
   "cell_type": "markdown",
   "id": "27806ef5",
   "metadata": {},
   "source": [
    "- **To see these maps on the interactive zoom in/out map with the Open Street Base map run the code bellow**"
   ]
  },
  {
   "cell_type": "code",
   "execution_count": 17,
   "id": "e6229fab-48e7-4895-a9ed-5bb2c4c57f56",
   "metadata": {},
   "outputs": [],
   "source": [
    "# This code creates a tile client from risk maps\n",
    "# First, create a tile server from local raster file\n",
    "riskpop = TileClient(f'{results_dir}/risk_pop.tif')\n",
    "riskLST = TileClient(f'{results_dir}/risk_LST.tif')\n",
    "HWRI = TileClient(f'{results_dir}/Heatwave_risk_identificationZA.tif')"
   ]
  },
  {
   "cell_type": "code",
   "execution_count": 18,
   "id": "8e4adb26-0df7-4ab5-803d-ecb49d9affea",
   "metadata": {},
   "outputs": [],
   "source": [
    "# This code creates ipyleaflet tile layer from that server\n",
    "tpop = get_leaflet_tile_layer(riskpop, cmap='Reds',opacity=0.7, nodata=0, name='Risk population')\n",
    "tLST = get_leaflet_tile_layer(riskLST, cmap='bwr',opacity=0.7, nodata=0, name='LST')\n",
    "tHWRI = get_leaflet_tile_layer(HWRI, cmap='RdYlGn_r',opacity=0.7, nodata=0, name='Heat wave risk identification')"
   ]
  },
  {
   "cell_type": "code",
   "execution_count": 19,
   "id": "78bf9cbc-6ce0-4702-8bec-d45d6cf67f5a",
   "metadata": {},
   "outputs": [
    {
     "data": {
      "application/vnd.jupyter.widget-view+json": {
       "model_id": "15a42c00e3f049a2a10703766cf200fd",
       "version_major": 2,
       "version_minor": 0
      },
      "text/plain": [
       "Map(center=[49.2133495, 18.759248499999998], controls=(ZoomControl(options=['position', 'zoom_in_text', 'zoom_…"
      ]
     },
     "execution_count": 19,
     "metadata": {},
     "output_type": "execute_result"
    }
   ],
   "source": [
    "# This code plots the results on the ipyleaflet map \n",
    "from ipyleaflet import Map, LayersControl, WidgetControl\n",
    "import ipywidgets as widgets\n",
    "\n",
    "# Set the size of the map\n",
    "map_layout = widgets.Layout(width='1100px', height='800px')\n",
    "\n",
    "# This code plots all loaded rasters and vectors on the ipyleaflet map\n",
    "m = Map(center=riskLST.center(), zoom=riskLST.default_zoom, layout=map_layout)\n",
    "\n",
    "control = LayersControl(position='topright')\n",
    "\n",
    "m.add(tpop)\n",
    "m.add(tLST)\n",
    "m.add(tHWRI)\n",
    "\n",
    "labels = [\"Very low\", \"Low\", \"Medium\", \"Very high\", \"Extreme\"]\n",
    "colors = [(0, 104, 55), (35, 132, 67), (255, 255, 191), (255, 127, 0), (215, 25, 28)]\n",
    "\n",
    "# Create legend HTML content with custom styles (smaller size)\n",
    "legend_html = \"<div style='position: absolute; bottom: 2px; left: 2px; padding: 10px; \" \\\n",
    "              \"background-color: #FFF; border-radius: 10px; box-shadow: 2px 2px 2px rgba(0,0,0,0.5); \" \\\n",
    "              \"width: 75px; height: 205px; '>\"\n",
    "\n",
    "# Append legend items (labels with colored markers)\n",
    "for label, color in zip(labels, colors):\n",
    "    color_hex = '#%02x%02x%02x' % color  # Convert RGB tuple to hex color\n",
    "    legend_html += f\"<p style='font-family: Arial, sans-serif; font-size: 14px; '>\" \\\n",
    "                   f\"<i style='background: {color_hex}; width: 10px; height: 10px; display: inline-block;'></i> {label}</p>\"\n",
    "\n",
    "legend_html += \"</div>\"\n",
    "\n",
    "# Create a custom widget with the legend HTML\n",
    "legend_widget = widgets.HTML(value=legend_html)\n",
    "\n",
    "legend_control = WidgetControl(widget=legend_widget, position='bottomleft')\n",
    "m.add_control(legend_control)\n",
    "\n",
    "m.add(control)\n",
    "m.add(geo_json1)\n",
    "\n",
    "m"
   ]
  },
  {
   "cell_type": "markdown",
   "id": "51bd7198-bb93-4487-9ec4-6e7381cc47eb",
   "metadata": {},
   "source": [
    "- You can add or remove a map by \"click\" on the \"layer control\" in the top right corner, or \"Zoom in/out\" by \"click\" on the [+]/[-] in the top left corner \n",
    "- **We recommend first unclicking all the maps and then displaying them one by one, the transparency of the maps allows you to see which areas on the OpenStreetMap are most exposed to the heat, and in combination with the distribution of the vulnerable population, you can easily identify which areas should be prioritized for the application of the heat mitigation measures.** "
   ]
  },
  {
   "cell_type": "markdown",
   "id": "e9032bbc-d247-4f06-9c23-7f28a9db72b5",
   "metadata": {},
   "source": [
    "## Step 8: Conslusion for the Risk identification results"
   ]
  },
  {
   "cell_type": "markdown",
   "id": "c7cca078-a429-4dba-b7ff-c43423871bbf",
   "metadata": {},
   "source": [
    "- The results of the Risk workflow help you identify the places that are the most exposed to the effect of heat and also places populated with the vulnerable groups of populations in terms of heat.\n",
    "- Together with the results of the Hazard assessment workflow that gives you the information about the **probability of the heatwave occurrence** in the future, gives you a picture of the heatwave-connected problems in your selected area.\n",
    "\n",
    "![Heat-wave ilustration](https://github.com/CLIMAAX/HEATWAVES/blob/main/Images/hw_year_pesetaiv.png?raw=true \"Risk matrix example\")\n",
    "\n",
    "  \n",
    "- However, we need to also consider the **limitations of the data used for this analysis**:\n",
    "  - The Land surface temperature data derived from the Landsat 8 satellite imagery, do not provide data in daily steps. That means we get limited information on the maximum LST (because there is a possibility of the hotter days without an LST image from Landsat8). The resolution of the 30x30m also has a limitation, especially in the densely built-up areas.\n",
    "  - The world population data were prepared for the year 2020, and there can be a change to the current day.\n",
    "  - For this workflow, it will be best to prepare your vulnerable population (places) data with your local authorities.\n",
    " \n"
   ]
  },
  {
   "cell_type": "markdown",
   "id": "d084baeb-9e51-496a-a762-bbc328702cb0",
   "metadata": {},
   "source": [
    "## References"
   ]
  },
  {
   "cell_type": "markdown",
   "id": "636a850b-98d0-404f-b90f-30bfe7ceafee",
   "metadata": {},
   "source": [
    "- Climate adapt, Apparent temperature heatwave days (2021), https://climate-adapt.eea.europa.eu/en/metadata/indicators/apparent-temperature-heatwave-days [2024-06-17].\n",
    "\n",
    "- Climate adapt, Tropical nights (2021), https://climate-adapt.eea.europa.eu/en/observatory/++aq++metadata/indicators/tropical-nights/ [2024-06-17].\n",
    "\n",
    "- Climate adapt, High UTCI Days (2021), https://climate-adapt.eea.europa.eu/en/metadata/indicators/high-utci-days [2024-06-17].\n",
    "\n",
    "- humdata.org, High Resolution Population Density Maps + Demographic Estimates (2020), https://data.humdata.org/dataset/albania-high-resolution-population-density-maps-demographic-estimates [2024-06-20]\n",
    "\n",
    "- European Space Agency ESA, Landsat 8 satellite imagery (2013), https://earth.esa.int/eogateway/catalog/landsat-8-collection-2-european-coverage [2024-06-20]\n",
    "\n",
    "- Utah Space University, Difference between Air and surface temperature (2024), https://caas.usu.edu/weather/graphical-data/surface-temperature [2024-06-20]\n",
    "\n",
    "- United States Environmental Protection Agency EPA, Heat Island Effect (2024), https://www.epa.gov/heatislands [2024-06-20]\n",
    "\n",
    "- Nazarian, N., Krayenhoff, E. S., Bechtel, B., Hondula, D. M., Paolini, R., Vanos, J., Cheung, T., Chow, W. T. L., de Dear, R., Jay, O., Lee, J. K. W., Martilli, A., Middel, A., Norford, L. K., Sadeghi, M., Schiavon, S., Santamouris, M. (2022), Integrated Assessment of Urban Overheating Impacts on Human Life, Earth’s Future, 10(9). https://doi.org/10.1029/2022EF002682\n",
    "\n",
    "- Parastatidis D, Mitraka Z, Chrysoulakis N, Abrams M. Online Global Land Surface Temperature Estimation from Landsat. Remote Sensing. (2017); 9(12):1208. https://doi.org/10.3390/rs9121208\n",
    "\n",
    "- RSLAB, Land surface temperature, based on the Landsat8 imagery, https://rslab.gr/Landsat_LST.html [2024-06-20]"
   ]
  },
  {
   "cell_type": "markdown",
   "id": "085503ac-fb77-442d-b500-adb2243c0181",
   "metadata": {},
   "source": [
    "## Authors "
   ]
  },
  {
   "cell_type": "markdown",
   "id": "01430a36-204c-4704-8a8c-75ae42f3239d",
   "metadata": {},
   "source": [
    "- Martin Kuban, KAJO services (martin.kuban@kajoservices.com)\n",
    "- Milan Kalas, KAJO services (milan.kalas@kajoservices.com)"
   ]
  }
 ],
 "metadata": {
  "kernelspec": {
   "display_name": "Python 3 (ipykernel)",
   "language": "python",
   "name": "python3"
  },
  "language_info": {
   "codemirror_mode": {
    "name": "ipython",
    "version": 3
   },
   "file_extension": ".py",
   "mimetype": "text/x-python",
   "name": "python",
   "nbconvert_exporter": "python",
   "pygments_lexer": "ipython3",
   "version": "3.11.9"
  }
 },
 "nbformat": 4,
 "nbformat_minor": 5
}
