{
 "cells": [
  {
   "cell_type": "markdown",
   "id": "d00ef501",
   "metadata": {},
   "source": [
    "# Risk assessment for heatwaves based on satellite-derived data"
   ]
  },
  {
   "cell_type": "markdown",
   "id": "d79fad30",
   "metadata": {},
   "source": [
    "Under climate change, the occurrence of heatwaves is expected to increase in the future in Europe. The main negative impacts caused by heatwave events are related to the overheating of the urban areas, which lowers the comfort of living or causes health issues among vulnerable population (see also: [Integrated Assessment of Urban Overheating Impacts on Human Life](https://agupubs.onlinelibrary.wiley.com/doi/10.1029/2022EF002682)), drought, and water scarcity. Nowadays, there are a lot of studies and methodologies on how we can mitigate the impacts of these events. This toolbox wants to answer simple questions that are more frequently asked by crisis management local authorities, urban planners, or policymakers. \n",
    "\n",
    "These questions are:\n",
    "   1. What are the problematic areas? (most overheated areas)\n",
    "   2. Who or what is exposed?"
   ]
  },
  {
   "cell_type": "markdown",
   "id": "934bc187-9eb3-4408-8ddc-ae2979808a36",
   "metadata": {},
   "source": [
    "This workflow contains the following steps used to generate a risk map for your selected area:\n",
    " - Preparatory work: installing packages and creating directory structure\n",
    " - Understanding the trends in the occurence of hot days in the climate change scenarios\n",
    " - Identifying the heat islands (areas most exposed to heat) in your selected area, based on the observed land surface temperature (from RSLab Landsat8, resolution: 30x30m)\n",
    " - Analysing the distribution of vulnerable population, based on population distribution data. \n",
    " - Creating a heatwave risk map based on the risk matrix where **risk = (level of exposure to heat in the area) x (level of vulnerability)**"
   ]
  },
  {
   "cell_type": "markdown",
   "id": "91e811bd",
   "metadata": {},
   "source": [
    "## Preparation work"
   ]
  },
  {
   "cell_type": "markdown",
   "id": "bfe6baf6-6e95-4abc-ae84-1ed0016d5a7a",
   "metadata": {},
   "source": [
    "### Importing packages\n",
    ":::{admonition} In this notebook we will use the following Python libraries:\n",
    ":class: hint dropdown\n",
    "* [zipfile](https://docs.python.org/3/library/zipfile.html) - Working with ZIP archive files.\n",
    "* [os](https://docs.python.org/3/library/os.html) - Handling the current working directory.\n",
    "* [rasterio](https://rasterio.readthedocs.io/en/latest/) - NetCDF and raster processing.\n",
    "* [pathlib](https://docs.python.org/3/library/pathlib.html) - File system paths.\n",
    "* [cdsapi](https://cds.climate.copernicus.eu/api-how-to) - API for downloading climate data.\n",
    "* [numpy](https://numpy.org/doc/stable/) - 2-3D array data handling.\n",
    "* [xarray](https://docs.xarray.dev/en/stable/) - 2-3D array data handling.\n",
    "* [cartopy](https://scitools.org.uk/cartopy/docs/latest/) - NetCDF data projection.\n",
    "* [matplotlib](https://matplotlib.org/stable/) - Data plotting.\n",
    "* [geopandas](https://geopandas.org/en/stable/) - Geospatial data handling.\n",
    "* [plotly](https://plotly.com/) - Creating interactive plots.\n",
    "* [sklearn](https://scikit-learn.org/stable/modules/linear_model.html#linear-regression) - Linear regression model.\n",
    "* [ipyleaflet](https://ipyleaflet.readthedocs.io/en/stable/) - Interactive maps in Jupyter notebooks.\n",
    "* [ipywidgets](https://ipywidgets.readthedocs.io/en/stable/) - Creating interactive HTML widgets.\n",
    "* [leafmap](https://leafmap.org/) - Geospatial data visualization and analysis.\n",
    "* [localtileserver](https://localtileserver.readthedocs.io/en/latest/) - Creating tile layers for maps.\n",
    "* [datetime](https://docs.python.org/3/library/datetime.html) - Handling dates and times.\n",
    "* [json](https://docs.python.org/3/library/json.html) - Handling JSON data.\n",
    "* [random](https://docs.python.org/3/library/random.html) - Generating random numbers.\n",
    "* [requests](https://docs.python-requests.org/en/latest/) - Making HTTP requests.\n",
    "* [rasterstats](https://pythonhosted.org/rasterstats/) - Zonal statistics for raster data.\n",
    "* [plotly.express](https://plotly.com/python/plotly-express/) - Creating interactive plots.\n",
    "* [folium](https://python-visualization.github.io/folium/) - Creating interactive maps.\n",
    "* [branca](https://python-visualization.github.io/branca/) - Color maps for folium maps.\n",
    "* [rasterio.transform](https://rasterio.readthedocs.io/en/latest/api/rasterio.transform.html) - Coordinate transformations for raster data.\n"
   ]
  },
  {
   "cell_type": "code",
   "execution_count": 1,
   "id": "3170331a",
   "metadata": {},
   "outputs": [
    {
     "name": "stderr",
     "output_type": "stream",
     "text": [
      "c:\\Users\\aleksand\\AppData\\Local\\mambaforge\\envs\\climaax_heatwaves\\Lib\\site-packages\\dask\\dataframe\\__init__.py:49: FutureWarning: \n",
      "Dask dataframe query planning is disabled because dask-expr is not installed.\n",
      "\n",
      "You can install it with `pip install dask[dataframe]` or `conda install dask`.\n",
      "This will raise in a future version.\n",
      "\n",
      "  warnings.warn(msg, FutureWarning)\n"
     ]
    }
   ],
   "source": [
    "import zipfile  # working with the zip folders\n",
    "import os  # handling the current working directory\n",
    "import rasterio  # netcdf and raster processing\n",
    "from pathlib import Path  # file system paths\n",
    "import cdsapi  # API downloading\n",
    "import numpy as np  # 2-3D array data handling\n",
    "import xarray as xr  # 2-3D array data handling\n",
    "import cartopy.crs as ccrs  # netcdf data projection\n",
    "import cartopy.feature as cf  # netcdf data projection\n",
    "import matplotlib as mpl  # data plot\n",
    "import matplotlib.pyplot as plt  # data plot\n",
    "from rasterio.crs import CRS  # raster data handling\n",
    "from pylab import pcolormesh, show, colorbar, plot, title, legend, subplot, savefig  # various plotting functions\n",
    "from xrspatial.classify import reclassify  # spatial data classification\n",
    "from matplotlib import pyplot  # data plot\n",
    "from rasterio.plot import show  # raster data handling\n",
    "from glob import glob  # file pattern matching\n",
    "import geopandas as gpd  # geospatial data handling\n",
    "import rasterio as rio  # raster data handling\n",
    "from rasterio.transform import from_bounds\n",
    "import plotly.graph_objects as go  # creating interactive plots\n",
    "from sklearn.linear_model import LinearRegression  # linear regression model\n",
    "from ipyleaflet import Map, DrawControl, Marker, LayersControl, LegendControl, GeoData, GeoJSON, WidgetControl  # interactive maps\n",
    "import ipywidgets as widgets  # creating interactive widgets\n",
    "import leafmap.leafmap as leafmap  # mapping library\n",
    "from localtileserver import get_leaflet_tile_layer, TileClient  # creating tile layers for maps\n",
    "from datetime import datetime, timedelta  # handling dates and times\n",
    "import json  # handling JSON data\n",
    "import random  # generating random numbers\n",
    "import requests  # making HTTP requests\n",
    "import rasterstats  # zonal statistics for raster data\n",
    "import plotly.express as px  # creating interactive plots\n",
    "import folium  # creating interactive maps\n",
    "from folium.raster_layers import ImageOverlay  # raster layer for folium maps\n",
    "from folium import LayerControl  # layer control for folium maps\n",
    "from branca.colormap import linear  # color maps for folium maps\n",
    "import pandas as pd\n"
   ]
  },
  {
   "cell_type": "markdown",
   "id": "193ad66f",
   "metadata": {},
   "source": [
    "### Create directory structure"
   ]
  },
  {
   "cell_type": "code",
   "execution_count": 2,
   "id": "7118d8a8",
   "metadata": {},
   "outputs": [],
   "source": [
    "# Define the directory for the flashflood workflow preprocess\n",
    "workflow_folder = 'Heatwave_risk'\n",
    "\n",
    "# Define directories for data and results within the previously defined workflow directory\n",
    "data_dir = os.path.join(workflow_folder,'data')\n",
    "LST_dir = os.path.join(workflow_folder,'data','LST')\n",
    "pop_dir = os.path.join(workflow_folder,'data','population')\n",
    "results_dir = os.path.join(workflow_folder,'results')\n",
    "\n",
    "# Check if the workflow directory exists, if not, create it along with subdirectories for data and results\n",
    "if not os.path.exists(workflow_folder):\n",
    "    os.makedirs(workflow_folder)\n",
    "    os.makedirs(os.path.join(data_dir))\n",
    "    os.makedirs(os.path.join(LST_dir))\n",
    "    os.makedirs(os.path.join(pop_dir))\n",
    "    os.makedirs(os.path.join(results_dir))"
   ]
  },
  {
   "cell_type": "markdown",
   "id": "352401a0",
   "metadata": {},
   "source": [
    "## Understanding trends in the occurence in hot days/nights under climate change"
   ]
  },
  {
   "cell_type": "markdown",
   "id": "e9e8d567",
   "metadata": {},
   "source": [
    "Data from climate models (EURO-CORDEX or CMIP6) is too coarse to be used directly in an assessment of overheated areas in urban environment. However, in a climate risk assessment, it is important to understand the influence of climate change on the probability of heatwave occurrence in the future relative to the present climate. You can use the results from the heatwave hazard assessment workflow (applied to your area) or use other data sources available online, where heatwave occurance data is provided on regional level.\n",
    "\n",
    "On the website of [Climate-ADAPT](https://climate-adapt.eea.europa.eu/en) we can find information on the future occurrence of hot days at NUTS2 level. The content in the European Climate Data Explorer pages is delivered by the Copernicus Climate Change Service (C3S) implemented by ECMWF. You can explore this data in the following links:\n",
    " - [**Heat days occurence in the past**](https://climate-adapt.eea.europa.eu/en/metadata/indicators/high-utci-days)\n",
    " - [**Heat days occurence in the future**](https://climate-adapt.eea.europa.eu/en/metadata/indicators/apparent-temperature-heatwave-days)\n",
    " - [**Tropical night past and projections**](https://climate-adapt.eea.europa.eu/en/observatory/++aq++metadata/indicators/tropical-nights/)"
   ]
  },
  {
   "cell_type": "markdown",
   "id": "f0537863",
   "metadata": {},
   "source": [
    "## Identifying overheated areas in the urban environment"
   ]
  },
  {
   "cell_type": "markdown",
   "id": "c1fb0d83-46f6-44a9-91dd-9e0f220653ad",
   "metadata": {},
   "source": [
    "### Data description and download"
   ]
  },
  {
   "cell_type": "markdown",
   "id": "223b714f",
   "metadata": {
    "jp-MarkdownHeadingCollapsed": true
   },
   "source": [
    "**Heat islands** are urbanized areas that experience higher temperatures than surrounding areas. Structures such as buildings, roads, and other infrastructure absorb and re-emit the sun’s heat, thus resulting in warmer temperatures than in the natural landscapes (such as forests and water bodies). Urban areas, where these structures are highly concentrated and greenery is limited, become “islands” of higher temperatures relative to outlying areas (see also: [Heat islands definition](https://www.epa.gov/heatislands)).\n",
    "For the identification of the heat islands from the historical data we can use these data:\n",
    "\n",
    "**Satellite-derived land surface temperature data** in this workflow is based on the Landsat8 land surface temperature (LST) (spatial resolution: 15-30m; at 8-16 days interval). We use this data product for the identification of the heat islands. The LST product is available on the RSLAB website or can be calculated from the L8 imagery bands.\n",
    "\n",
    "For this workflow, land surface temperature data needs to be **manually downloaded** from the [RSLab portal](https://rslab.gr/Landsat_LST.html). To do this, you need to follow these steps:\n",
    "1. Go to the [RSLab portal](https://rslab.gr/Landsat_LST.html) and draw a closed polygon around your area of interest by zooming in and clicking on the map. If you are focusing on urban areas, it is important to try to select only the urban areas in the rectangular polygon.\n",
    "2. Select the time period, e.g. June to August in a specific year, where particularly high temperatures were observed. From Landsat8, data is available for 2013-2021, it is recommended to choose a year in this period (optional: consult the local meteorological authorities for more information on past heat waves). \n",
    "3. Select your preferred Landsat source and emissivity. For the dates in the period 2013-2021, please choose Landsat8 as the source. For urban areas, it is recommended to use MODIS and NDVI-based emissivity (ASTER emissivity is preferred for natural landscapes). Refer to the [documentation](https://www.mdpi.com/2072-4292/9/12/1208) for more details.\n",
    "4. Click the \"Calculate LST\" button.\n",
    "5. The results will be presented below the map. For each LST result you will find a \"show\" and \"download\" buttons. \"Show\" button allows to display the LST as a layer on the map and calculates the mean/min/max LST value for the selected image. \n",
    "6. To dowload the images, please press \"Download - All images\", this will start the download of the \"AllImages_LST.zip\" file that contains .tiff images. \n",
    "7. Once downloaded, please move the downloaded file to the folder specified above under variable *LST_dir* (folder *./Heatwave_risk/data_dir/LST*)."
   ]
  },
  {
   "cell_type": "markdown",
   "id": "ed6f9e26",
   "metadata": {},
   "source": [
    "`````{admonition} For advanced users\n",
    ":class: hint dropdown\n",
    "RSLab portal only gives access to the data up to 2021. If you need to access more recent data, you can also retrieve LST data for other years by calculating it directly from the raw Landsat8 imagery. Please check the following resources:  \n",
    " - [Landsat8 raw imagery download](https://earth.esa.int/eogateway/catalog/landsat-8-collection-2-european-coverage)\n",
    " - [How to calculate of the LST (YouTube video)](https://www.youtube.com/watch?v=hd7fscNTff4).\n",
    "\n",
    " The processing of this data is demonstrated below in the section **Alternative for advanced users: Calculation of the Landsat LST from Landsat 8/9 imagery (alternative to RSLab data)**.\n",
    "`````"
   ]
  },
  {
   "cell_type": "markdown",
   "id": "16038e9e",
   "metadata": {},
   "source": [
    "This code unzips all downloaded LST data:"
   ]
  },
  {
   "cell_type": "code",
   "execution_count": 3,
   "id": "dd01db59-ec05-44c0-a431-801c15091706",
   "metadata": {},
   "outputs": [],
   "source": [
    "# Loop through all files in the directory\n",
    "for file in os.listdir(LST_dir):\n",
    "    file_path = os.path.join(LST_dir, file)\n",
    "    # Check if the file is a zipfile\n",
    "    if zipfile.is_zipfile(file_path):\n",
    "        # Open the zipfile\n",
    "        with zipfile.ZipFile(file_path, 'r') as zip_ref:\n",
    "            # Extract all contents of the zipfile into the working directory\n",
    "            zip_ref.extractall(LST_dir)"
   ]
  },
  {
   "cell_type": "markdown",
   "id": "f580159a",
   "metadata": {},
   "source": [
    "The code below extracts all dates from LST data files:"
   ]
  },
  {
   "cell_type": "code",
   "execution_count": 4,
   "id": "92f5bddb-f671-4eb9-aa5d-096f678bd328",
   "metadata": {},
   "outputs": [
    {
     "data": {
      "text/plain": [
       "[datetime.datetime(2020, 6, 13, 10, 33, 29),\n",
       " datetime.datetime(2020, 6, 20, 10, 39, 43),\n",
       " datetime.datetime(2020, 6, 29, 10, 33, 37),\n",
       " datetime.datetime(2020, 7, 6, 10, 39, 51),\n",
       " datetime.datetime(2020, 7, 15, 10, 33, 43),\n",
       " datetime.datetime(2020, 7, 22, 10, 39, 56),\n",
       " datetime.datetime(2020, 7, 31, 10, 33, 48),\n",
       " datetime.datetime(2020, 8, 7, 10, 40),\n",
       " datetime.datetime(2020, 8, 16, 10, 33, 52),\n",
       " datetime.datetime(2020, 8, 23, 10, 40, 7)]"
      ]
     },
     "execution_count": 4,
     "metadata": {},
     "output_type": "execute_result"
    }
   ],
   "source": [
    "# Create a list of file paths to your LST files using glob\n",
    "L8list = glob(f\"{LST_dir}/*LST*.tif\")\n",
    "# Initialize an empty list to store the datetime objects\n",
    "lst_dates = []\n",
    "# Loop through each filename\n",
    "for file in L8list:\n",
    "    # Extract the filename without the directory path\n",
    "    filename = file.split('/')[-1]   \n",
    "    # Extract the date and time part from the filename\n",
    "    if \"AllImages_LST\" in filename:\n",
    "        date_time_str = filename.split('.')[1]\n",
    "        date_str = date_time_str.split('_')[0]\n",
    "        time_str = date_time_str.split('_')[1]\n",
    "    else:\n",
    "        date_str = filename[4:12]  # Extract date part directly\n",
    "        time_str = filename[13:19]  # Extract time part directly    \n",
    "    # Combine date and time strings into a single string\n",
    "    datetime_str = date_str + '_' + time_str    \n",
    "    # Convert the combined datetime string to a datetime object\n",
    "    datetime_obj = datetime.strptime(datetime_str, '%Y%m%d_%H%M%S')   \n",
    "    # Append the datetime object to the lst_dates list\n",
    "    lst_dates.append(datetime_obj)\n",
    "lst_dates"
   ]
  },
  {
   "cell_type": "code",
   "execution_count": 5,
   "id": "4ae9a21f",
   "metadata": {},
   "outputs": [],
   "source": [
    "# List all files containing LST data\n",
    "L8list = glob(f\"{LST_dir}/*LST*.tif\")"
   ]
  },
  {
   "cell_type": "markdown",
   "id": "84621113",
   "metadata": {},
   "source": [
    "This code will create a raster stack from all downloaded data:"
   ]
  },
  {
   "cell_type": "code",
   "execution_count": 6,
   "id": "a93cee54",
   "metadata": {},
   "outputs": [],
   "source": [
    "# Load the data and create a raster stack from all maps\n",
    "with rasterio.open(L8list[0]) as src0:\n",
    "    meta = src0.meta\n",
    "#\n",
    "meta.update(count = len(L8list))\n",
    "# Save a data to working directory\n",
    "with rasterio.open(f'{data_dir}/L8_raster_stack.tif', 'w', **meta) as dst:\n",
    "    for id, layer in enumerate(L8list, start=1):\n",
    "        with rasterio.open(layer) as src1:\n",
    "            dst.write_band(id, src1.read(1))"
   ]
  },
  {
   "cell_type": "markdown",
   "id": "91ee220f",
   "metadata": {},
   "source": [
    "This code calculates mean values from the LST rasters which are not significantly influenced by clouds:"
   ]
  },
  {
   "cell_type": "code",
   "execution_count": 7,
   "id": "41474556-1d39-4292-8626-7fff58bce0ed",
   "metadata": {},
   "outputs": [],
   "source": [
    "# Open the raster stack\n",
    "stack_path = f'{data_dir}/L8_raster_stack.tif'\n",
    "raster_dataset = xr.open_dataset(stack_path)\n",
    "# Count the number of pixels greater than 0 for each band\n",
    "num_pixels_gt_zero = (raster_dataset > 0).sum(dim=('x', 'y'))\n",
    "# Calculate the total number of pixels for each band\n",
    "total_pixels = raster_dataset.sizes['x'] * raster_dataset.sizes['y']\n",
    "# Calculate the proportion of pixels greater than 0\n",
    "prop_gt_zero = num_pixels_gt_zero / total_pixels\n",
    "# Filter bands where at least 50% of pixels are greater than 0\n",
    "filtered_bands = raster_dataset.where(prop_gt_zero >= 0.5)\n",
    "# Calculate the mean values for the filtered bands\n",
    "mean_values_filtered = filtered_bands.mean(dim=('x', 'y'))\n",
    "#mean_values_filtered = mean_values_filtered.fillna(0)\n",
    "mean_values_filtered=mean_values_filtered['band_data']\n",
    "mean_values_list = mean_values_filtered.values.tolist()"
   ]
  },
  {
   "cell_type": "markdown",
   "id": "3d61b16e-43aa-4e22-a585-bc31618b1a2f",
   "metadata": {},
   "source": [
    "### Classifying the LST values based on the LST temperature"
   ]
  },
  {
   "cell_type": "markdown",
   "id": "842c0b61-8aa6-4767-8348-cd7e31aaa0ba",
   "metadata": {},
   "source": [
    "\n",
    "In this step, we will divide the LST data into 5 categories based on the temperature:\n",
    "  \n",
    "  1. **Very low** < 30°C\n",
    "  2. **Low** > 30°C\n",
    "  3. **Medium** > 35°C\n",
    "  4. **High** > 40°C\n",
    "  5. **Very High** > 45°C\n",
    "\n",
    "  **Note:** If needed, you can change the threshold values for each category to see more of a difference between the different areas in the city.\n",
    "     \n",
    "**Important:** The LST values represent the surface temperature, not the air temperature. The surface temperature reaches higher values than the air temperature. The ground surface temperature is an important influencing factor for the weather as it is perceived by humans. The temperature of the ground surface can be more than 10°C higher than the air temperature on a sunny day, and up to 10°C below air temperature on clear nights when the surface loses heat by radiation. (see also: [Land surface temperature vs air temperature](https://caas.usu.edu/weather/graphical-data/surface-temperature)).\n",
    "\n"
   ]
  },
  {
   "cell_type": "code",
   "execution_count": 8,
   "id": "9fd2240a",
   "metadata": {},
   "outputs": [],
   "source": [
    "# Define classes for grouping LST data\n",
    "lc_bins = [30, 35, 40, 45]  \n",
    "lc_values = [1, 2, 3, 4, 5]"
   ]
  },
  {
   "cell_type": "code",
   "execution_count": 9,
   "id": "2938625a-77ee-4219-9ae4-f64bdaee2a5b",
   "metadata": {},
   "outputs": [
    {
     "data": {
      "image/png": "[encoded data removed]",
      "text/plain": [
       "<Figure size 640x480 with 2 Axes>"
      ]
     },
     "metadata": {},
     "output_type": "display_data"
    }
   ],
   "source": [
    "# Load the data and calculate maximum values from raster stack\n",
    "L8_path = f'{data_dir}/L8_raster_stack.tif'\n",
    "L8 = xr.open_dataset(L8_path)\n",
    "L8 = L8.max(dim='band', skipna=True, keep_attrs=True)\n",
    "L8lst2016 = L8['band_data']\n",
    "lstbbox = L8.rio.bounds()\n",
    "\n",
    "# Function to reclassify data using numpy\n",
    "def reclassify_with_numpy(array, bins, new_values):\n",
    "    reclassified_array = np.zeros_like(array)\n",
    "    reclassified_array[array < bins[0]] = new_values[0]\n",
    "    for i in range(len(bins) - 1):\n",
    "        reclassified_array[(array >= bins[i]) & (array < bins[i + 1])] = new_values[i + 1]\n",
    "    reclassified_array[array >= bins[-1]] = new_values[-1]\n",
    "    return reclassified_array\n",
    "\n",
    "# Apply the reclassification function\n",
    "lc_class = reclassify_with_numpy(L8lst2016.values, bins=lc_bins, new_values=lc_values)\n",
    "\n",
    "# Convert the reclassified array back to xarray DataArray for plotting\n",
    "lc_class_da = xr.DataArray(lc_class, coords=L8lst2016.coords, dims=L8lst2016.dims)\n",
    "\n",
    "# Plot the data\n",
    "fig, ax = plt.subplots()\n",
    "cmap = plt.get_cmap('Reds', 5) \n",
    "oa = lc_class_da.plot(ax=ax, cmap=cmap, add_colorbar=False)\n",
    "cbar = fig.colorbar(oa, ticks=[1, 2, 3, 4, 5])\n",
    "cbar.ax.set_yticklabels(['Very Low', 'Low', 'Medium', 'High', 'Very High'], size=10)\n",
    "ax.set_xlabel('lon [deg_east]')\n",
    "ax.set_ylabel('lat [deg_north]')\n",
    "plt.title('Overheated areas in the area of interest', size=16, pad=10)\n",
    "plt.show()"
   ]
  },
  {
   "cell_type": "markdown",
   "id": "05b22b9c-8123-4cd4-9800-d18e552fa430",
   "metadata": {},
   "source": [
    "### Alternative for advanced users: Calculation of the Landsat LST from Landsat 8 - 9 imagery (alternative to RSLab data)"
   ]
  },
  {
   "cell_type": "markdown",
   "id": "eb52e338",
   "metadata": {},
   "source": [
    "If you need to access the more recent data (2022 onwards) you will need to follow an alternative data retrieval that involves more calculations.\n",
    "\n",
    "**Note: You do not need to calculate this step for data in the period 2013-2021, because you can download this data from [RSLab](https://rslab.gr/Landsat_LST.html) as it was done above. Therefore you can skip this section if you are using the RSLab data for Landsat8.**\n",
    "\n",
    "In this section we demonstrate an example of the calculation of the land surface temperature from Landsat 8 - 9 imagery raw data from the European Space Agency.\n",
    "For the data download you need to choose the level of the data L1 or L2.\n",
    " - L1 level contains all 11 bands\n",
    " - L2 level contains bands 1-7 and band 10\n",
    " \n",
    "We need to download and process the Landsat 8-9 data. This data is downloded from the [ESA data catalog](https://earth.esa.int/eogateway/catalog/landsat-8-collection-2-european-coverage). Instructions for downloading the data can be found in these videos: \n",
    " - [Landsat 9 data download per-processing and LST calculation (YouTube)](https://www.youtube.com/watch?v=Eug32jeK8Gw)\n",
    " - [Calculating Land Surface Temperature Using Landsat 8 Imagery (YouTube)](https://www.youtube.com/watch?v=hd7fscNTff4).\n",
    "\n",
    " The code below shows how the data can be processed, starting with the *b10* variable. "
   ]
  },
  {
   "cell_type": "code",
   "execution_count": null,
   "id": "f42c1f56-709f-4bd8-8ee2-955fff482917",
   "metadata": {},
   "outputs": [],
   "source": [
    "# Radiance\n",
    "rad=0.00033420 * b10 + 0.1\n",
    "\n",
    "# Brightest temperature\n",
    "bt=1321.0789/np.log(774.8853/rad + 1)-272.15\n",
    "\n",
    "# Normalized difference vegetation index\n",
    "ndvi=(b5-b4)/(b5+b4)\n",
    "ndvi_min=ndvi.min(skipna=True)\n",
    "ndvi_max=ndvi.max(skipna=True)\n",
    "\n",
    "# Proportion of the Vegetation \n",
    "pv=((ndvi +  ndvi_min)/(ndvi_max+ndvi_min))**2\n",
    "\n",
    "# Emisivity\n",
    "emi=0.004*pv+0.986\n",
    "\n",
    "# Land surface temperature\n",
    "LST=(bt+1)+10.8*(bt/14380)*np.log(emi)"
   ]
  },
  {
   "cell_type": "markdown",
   "id": "fd0ceb8f-a326-4a04-80a9-b450ccb52110",
   "metadata": {},
   "source": [
    "### Plot the observed maximum 2m air temperature together with LST temperature"
   ]
  },
  {
   "cell_type": "markdown",
   "id": "96f77d02-26e2-4dc0-8388-cb1db50647a9",
   "metadata": {},
   "source": [
    "- We display the measured data of the 2m air temperature together with the LST data, to see for which days we downloaded the LST data.\n",
    "- This step will give us the information if we downloaded the data for the days with the highest air temperature. "
   ]
  },
  {
   "cell_type": "code",
   "execution_count": 10,
   "id": "c4e69e07-bf9d-47fc-839e-268fb384d6be",
   "metadata": {},
   "outputs": [
    {
     "data": {
      "application/vnd.plotly.v1+json": {
       "config": {
        "plotlyServerURL": "https://plot.ly"
       },
       "data": [
        {
         "hovertemplate": "Date=%{x}<br>LST Mean Values=%{marker.color}<extra></extra>",
         "legendgroup": "",
         "marker": {
          "color": "green",
          "coloraxis": "coloraxis",
          "symbol": "circle"
         },
         "mode": "markers",
         "name": "",
         "orientation": "v",
         "showlegend": false,
         "type": "scatter",
         "x": [
          "2020-06-13T10:33:29",
          "2020-06-20T10:39:43",
          "2020-06-29T10:33:37",
          "2020-07-06T10:39:51",
          "2020-07-15T10:33:43",
          "2020-07-22T10:39:56",
          "2020-07-31T10:33:48",
          "2020-08-07T10:40:00",
          "2020-08-16T10:33:52",
          "2020-08-23T10:40:07"
         ],
         "xaxis": "x",
         "y": [
          18.485696261933377,
          16.41997661596346,
          null,
          null,
          null,
          null,
          36.325583318432614,
          39.83256007042177,
          null,
          null
         ],
         "yaxis": "y"
        }
       ],
       "layout": {
        "coloraxis": {
         "colorbar": {
          "title": {
           "text": "LST Mean Values"
          }
         },
         "colorscale": [
          [
           0,
           "#0d0887"
          ],
          [
           0.1111111111111111,
           "#46039f"
          ],
          [
           0.2222222222222222,
           "#7201a8"
          ],
          [
           0.3333333333333333,
           "#9c179e"
          ],
          [
           0.4444444444444444,
           "#bd3786"
          ],
          [
           0.5555555555555556,
           "#d8576b"
          ],
          [
           0.6666666666666666,
           "#ed7953"
          ],
          [
           0.7777777777777778,
           "#fb9f3a"
          ],
          [
           0.8888888888888888,
           "#fdca26"
          ],
          [
           1,
           "#f0f921"
          ]
         ]
        },
        "legend": {
         "tracegroupgap": 0
        },
        "margin": {
         "t": 60
        },
        "template": {
         "data": {
          "bar": [
           {
            "error_x": {
             "color": "#2a3f5f"
            },
            "error_y": {
             "color": "#2a3f5f"
            },
            "marker": {
             "line": {
              "color": "#E5ECF6",
              "width": 0.5
             },
             "pattern": {
              "fillmode": "overlay",
              "size": 10,
              "solidity": 0.2
             }
            },
            "type": "bar"
           }
          ],
          "barpolar": [
           {
            "marker": {
             "line": {
              "color": "#E5ECF6",
              "width": 0.5
             },
             "pattern": {
              "fillmode": "overlay",
              "size": 10,
              "solidity": 0.2
             }
            },
            "type": "barpolar"
           }
          ],
          "carpet": [
           {
            "aaxis": {
             "endlinecolor": "#2a3f5f",
             "gridcolor": "white",
             "linecolor": "white",
             "minorgridcolor": "white",
             "startlinecolor": "#2a3f5f"
            },
            "baxis": {
             "endlinecolor": "#2a3f5f",
             "gridcolor": "white",
             "linecolor": "white",
             "minorgridcolor": "white",
             "startlinecolor": "#2a3f5f"
            },
            "type": "carpet"
           }
          ],
          "choropleth": [
           {
            "colorbar": {
             "outlinewidth": 0,
             "ticks": ""
            },
            "type": "choropleth"
           }
          ],
          "contour": [
           {
            "colorbar": {
             "outlinewidth": 0,
             "ticks": ""
            },
            "colorscale": [
             [
              0,
              "#0d0887"
             ],
             [
              0.1111111111111111,
              "#46039f"
             ],
             [
              0.2222222222222222,
              "#7201a8"
             ],
             [
              0.3333333333333333,
              "#9c179e"
             ],
             [
              0.4444444444444444,
              "#bd3786"
             ],
             [
              0.5555555555555556,
              "#d8576b"
             ],
             [
              0.6666666666666666,
              "#ed7953"
             ],
             [
              0.7777777777777778,
              "#fb9f3a"
             ],
             [
              0.8888888888888888,
              "#fdca26"
             ],
             [
              1,
              "#f0f921"
             ]
            ],
            "type": "contour"
           }
          ],
          "contourcarpet": [
           {
            "colorbar": {
             "outlinewidth": 0,
             "ticks": ""
            },
            "type": "contourcarpet"
           }
          ],
          "heatmap": [
           {
            "colorbar": {
             "outlinewidth": 0,
             "ticks": ""
            },
            "colorscale": [
             [
              0,
              "#0d0887"
             ],
             [
              0.1111111111111111,
              "#46039f"
             ],
             [
              0.2222222222222222,
              "#7201a8"
             ],
             [
              0.3333333333333333,
              "#9c179e"
             ],
             [
              0.4444444444444444,
              "#bd3786"
             ],
             [
              0.5555555555555556,
              "#d8576b"
             ],
             [
              0.6666666666666666,
              "#ed7953"
             ],
             [
              0.7777777777777778,
              "#fb9f3a"
             ],
             [
              0.8888888888888888,
              "#fdca26"
             ],
             [
              1,
              "#f0f921"
             ]
            ],
            "type": "heatmap"
           }
          ],
          "heatmapgl": [
           {
            "colorbar": {
             "outlinewidth": 0,
             "ticks": ""
            },
            "colorscale": [
             [
              0,
              "#0d0887"
             ],
             [
              0.1111111111111111,
              "#46039f"
             ],
             [
              0.2222222222222222,
              "#7201a8"
             ],
             [
              0.3333333333333333,
              "#9c179e"
             ],
             [
              0.4444444444444444,
              "#bd3786"
             ],
             [
              0.5555555555555556,
              "#d8576b"
             ],
             [
              0.6666666666666666,
              "#ed7953"
             ],
             [
              0.7777777777777778,
              "#fb9f3a"
             ],
             [
              0.8888888888888888,
              "#fdca26"
             ],
             [
              1,
              "#f0f921"
             ]
            ],
            "type": "heatmapgl"
           }
          ],
          "histogram": [
           {
            "marker": {
             "pattern": {
              "fillmode": "overlay",
              "size": 10,
              "solidity": 0.2
             }
            },
            "type": "histogram"
           }
          ],
          "histogram2d": [
           {
            "colorbar": {
             "outlinewidth": 0,
             "ticks": ""
            },
            "colorscale": [
             [
              0,
              "#0d0887"
             ],
             [
              0.1111111111111111,
              "#46039f"
             ],
             [
              0.2222222222222222,
              "#7201a8"
             ],
             [
              0.3333333333333333,
              "#9c179e"
             ],
             [
              0.4444444444444444,
              "#bd3786"
             ],
             [
              0.5555555555555556,
              "#d8576b"
             ],
             [
              0.6666666666666666,
              "#ed7953"
             ],
             [
              0.7777777777777778,
              "#fb9f3a"
             ],
             [
              0.8888888888888888,
              "#fdca26"
             ],
             [
              1,
              "#f0f921"
             ]
            ],
            "type": "histogram2d"
           }
          ],
          "histogram2dcontour": [
           {
            "colorbar": {
             "outlinewidth": 0,
             "ticks": ""
            },
            "colorscale": [
             [
              0,
              "#0d0887"
             ],
             [
              0.1111111111111111,
              "#46039f"
             ],
             [
              0.2222222222222222,
              "#7201a8"
             ],
             [
              0.3333333333333333,
              "#9c179e"
             ],
             [
              0.4444444444444444,
              "#bd3786"
             ],
             [
              0.5555555555555556,
              "#d8576b"
             ],
             [
              0.6666666666666666,
              "#ed7953"
             ],
             [
              0.7777777777777778,
              "#fb9f3a"
             ],
             [
              0.8888888888888888,
              "#fdca26"
             ],
             [
              1,
              "#f0f921"
             ]
            ],
            "type": "histogram2dcontour"
           }
          ],
          "mesh3d": [
           {
            "colorbar": {
             "outlinewidth": 0,
             "ticks": ""
            },
            "type": "mesh3d"
           }
          ],
          "parcoords": [
           {
            "line": {
             "colorbar": {
              "outlinewidth": 0,
              "ticks": ""
             }
            },
            "type": "parcoords"
           }
          ],
          "pie": [
           {
            "automargin": true,
            "type": "pie"
           }
          ],
          "scatter": [
           {
            "fillpattern": {
             "fillmode": "overlay",
             "size": 10,
             "solidity": 0.2
            },
            "type": "scatter"
           }
          ],
          "scatter3d": [
           {
            "line": {
             "colorbar": {
              "outlinewidth": 0,
              "ticks": ""
             }
            },
            "marker": {
             "colorbar": {
              "outlinewidth": 0,
              "ticks": ""
             }
            },
            "type": "scatter3d"
           }
          ],
          "scattercarpet": [
           {
            "marker": {
             "colorbar": {
              "outlinewidth": 0,
              "ticks": ""
             }
            },
            "type": "scattercarpet"
           }
          ],
          "scattergeo": [
           {
            "marker": {
             "colorbar": {
              "outlinewidth": 0,
              "ticks": ""
             }
            },
            "type": "scattergeo"
           }
          ],
          "scattergl": [
           {
            "marker": {
             "colorbar": {
              "outlinewidth": 0,
              "ticks": ""
             }
            },
            "type": "scattergl"
           }
          ],
          "scattermapbox": [
           {
            "marker": {
             "colorbar": {
              "outlinewidth": 0,
              "ticks": ""
             }
            },
            "type": "scattermapbox"
           }
          ],
          "scatterpolar": [
           {
            "marker": {
             "colorbar": {
              "outlinewidth": 0,
              "ticks": ""
             }
            },
            "type": "scatterpolar"
           }
          ],
          "scatterpolargl": [
           {
            "marker": {
             "colorbar": {
              "outlinewidth": 0,
              "ticks": ""
             }
            },
            "type": "scatterpolargl"
           }
          ],
          "scatterternary": [
           {
            "marker": {
             "colorbar": {
              "outlinewidth": 0,
              "ticks": ""
             }
            },
            "type": "scatterternary"
           }
          ],
          "surface": [
           {
            "colorbar": {
             "outlinewidth": 0,
             "ticks": ""
            },
            "colorscale": [
             [
              0,
              "#0d0887"
             ],
             [
              0.1111111111111111,
              "#46039f"
             ],
             [
              0.2222222222222222,
              "#7201a8"
             ],
             [
              0.3333333333333333,
              "#9c179e"
             ],
             [
              0.4444444444444444,
              "#bd3786"
             ],
             [
              0.5555555555555556,
              "#d8576b"
             ],
             [
              0.6666666666666666,
              "#ed7953"
             ],
             [
              0.7777777777777778,
              "#fb9f3a"
             ],
             [
              0.8888888888888888,
              "#fdca26"
             ],
             [
              1,
              "#f0f921"
             ]
            ],
            "type": "surface"
           }
          ],
          "table": [
           {
            "cells": {
             "fill": {
              "color": "#EBF0F8"
             },
             "line": {
              "color": "white"
             }
            },
            "header": {
             "fill": {
              "color": "#C8D4E3"
             },
             "line": {
              "color": "white"
             }
            },
            "type": "table"
           }
          ]
         },
         "layout": {
          "annotationdefaults": {
           "arrowcolor": "#2a3f5f",
           "arrowhead": 0,
           "arrowwidth": 1
          },
          "autotypenumbers": "strict",
          "coloraxis": {
           "colorbar": {
            "outlinewidth": 0,
            "ticks": ""
           }
          },
          "colorscale": {
           "diverging": [
            [
             0,
             "#8e0152"
            ],
            [
             0.1,
             "#c51b7d"
            ],
            [
             0.2,
             "#de77ae"
            ],
            [
             0.3,
             "#f1b6da"
            ],
            [
             0.4,
             "#fde0ef"
            ],
            [
             0.5,
             "#f7f7f7"
            ],
            [
             0.6,
             "#e6f5d0"
            ],
            [
             0.7,
             "#b8e186"
            ],
            [
             0.8,
             "#7fbc41"
            ],
            [
             0.9,
             "#4d9221"
            ],
            [
             1,
             "#276419"
            ]
           ],
           "sequential": [
            [
             0,
             "#0d0887"
            ],
            [
             0.1111111111111111,
             "#46039f"
            ],
            [
             0.2222222222222222,
             "#7201a8"
            ],
            [
             0.3333333333333333,
             "#9c179e"
            ],
            [
             0.4444444444444444,
             "#bd3786"
            ],
            [
             0.5555555555555556,
             "#d8576b"
            ],
            [
             0.6666666666666666,
             "#ed7953"
            ],
            [
             0.7777777777777778,
             "#fb9f3a"
            ],
            [
             0.8888888888888888,
             "#fdca26"
            ],
            [
             1,
             "#f0f921"
            ]
           ],
           "sequentialminus": [
            [
             0,
             "#0d0887"
            ],
            [
             0.1111111111111111,
             "#46039f"
            ],
            [
             0.2222222222222222,
             "#7201a8"
            ],
            [
             0.3333333333333333,
             "#9c179e"
            ],
            [
             0.4444444444444444,
             "#bd3786"
            ],
            [
             0.5555555555555556,
             "#d8576b"
            ],
            [
             0.6666666666666666,
             "#ed7953"
            ],
            [
             0.7777777777777778,
             "#fb9f3a"
            ],
            [
             0.8888888888888888,
             "#fdca26"
            ],
            [
             1,
             "#f0f921"
            ]
           ]
          },
          "colorway": [
           "#636efa",
           "#EF553B",
           "#00cc96",
           "#ab63fa",
           "#FFA15A",
           "#19d3f3",
           "#FF6692",
           "#B6E880",
           "#FF97FF",
           "#FECB52"
          ],
          "font": {
           "color": "#2a3f5f"
          },
          "geo": {
           "bgcolor": "white",
           "lakecolor": "white",
           "landcolor": "#E5ECF6",
           "showlakes": true,
           "showland": true,
           "subunitcolor": "white"
          },
          "hoverlabel": {
           "align": "left"
          },
          "hovermode": "closest",
          "mapbox": {
           "style": "light"
          },
          "paper_bgcolor": "white",
          "plot_bgcolor": "#E5ECF6",
          "polar": {
           "angularaxis": {
            "gridcolor": "white",
            "linecolor": "white",
            "ticks": ""
           },
           "bgcolor": "#E5ECF6",
           "radialaxis": {
            "gridcolor": "white",
            "linecolor": "white",
            "ticks": ""
           }
          },
          "scene": {
           "xaxis": {
            "backgroundcolor": "#E5ECF6",
            "gridcolor": "white",
            "gridwidth": 2,
            "linecolor": "white",
            "showbackground": true,
            "ticks": "",
            "zerolinecolor": "white"
           },
           "yaxis": {
            "backgroundcolor": "#E5ECF6",
            "gridcolor": "white",
            "gridwidth": 2,
            "linecolor": "white",
            "showbackground": true,
            "ticks": "",
            "zerolinecolor": "white"
           },
           "zaxis": {
            "backgroundcolor": "#E5ECF6",
            "gridcolor": "white",
            "gridwidth": 2,
            "linecolor": "white",
            "showbackground": true,
            "ticks": "",
            "zerolinecolor": "white"
           }
          },
          "shapedefaults": {
           "line": {
            "color": "#2a3f5f"
           }
          },
          "ternary": {
           "aaxis": {
            "gridcolor": "white",
            "linecolor": "white",
            "ticks": ""
           },
           "baxis": {
            "gridcolor": "white",
            "linecolor": "white",
            "ticks": ""
           },
           "bgcolor": "#E5ECF6",
           "caxis": {
            "gridcolor": "white",
            "linecolor": "white",
            "ticks": ""
           }
          },
          "title": {
           "x": 0.05
          },
          "xaxis": {
           "automargin": true,
           "gridcolor": "white",
           "linecolor": "white",
           "ticks": "",
           "title": {
            "standoff": 15
           },
           "zerolinecolor": "white",
           "zerolinewidth": 2
          },
          "yaxis": {
           "automargin": true,
           "gridcolor": "white",
           "linecolor": "white",
           "ticks": "",
           "title": {
            "standoff": 15
           },
           "zerolinecolor": "white",
           "zerolinewidth": 2
          }
         }
        },
        "title": {
         "text": "LST mean values (cloud coverage<50%)",
         "x": 0.5,
         "y": 0.9
        },
        "xaxis": {
         "anchor": "y",
         "domain": [
          0,
          1
         ],
         "tickformat": "%d-%m-%Y",
         "title": {
          "text": "Date"
         }
        },
        "yaxis": {
         "anchor": "x",
         "domain": [
          0,
          1
         ],
         "title": {
          "text": "LST Mean Values"
         }
        }
       }
      }
     },
     "metadata": {},
     "output_type": "display_data"
    }
   ],
   "source": [
    "# Create a dictionary from your data\n",
    "data = {'Dates': lst_dates, 'Values': mean_values_list}\n",
    "# Create a DataFrame from the dictionary\n",
    "\n",
    "df = pd.DataFrame(data)\n",
    "# Plot using Plotly Express\n",
    "fig = px.scatter(df, x='Dates', y='Values', labels={'Dates': 'Date', 'Values': 'LST Mean Values'}, color='Values')\n",
    "fig.update_traces(marker=dict(color='green'))  # Set dot color to green\n",
    "fig.update_traces(mode='markers')  # Display as dots\n",
    "# Add title and center it\n",
    "fig.update_layout(title_text='LST mean values (cloud coverage<50%)',\n",
    "                  title_x=0.5,  # Center the title horizontally\n",
    "                  title_y=0.9)  # Adjust vertical position if needed\n",
    "fig.update_xaxes(tickformat='%d-%m-%Y')\n",
    "fig.show()"
   ]
  },
  {
   "cell_type": "markdown",
   "id": "9cca04f2-da34-4051-b7a8-3caf611b3135",
   "metadata": {},
   "source": [
    "This plot gives you the information about land surface temperature mean values for the selected area, per Landsat8 image. Only the days corresponding to the LST pictures with cloud coverage lower then 50% are plotted."
   ]
  },
  {
   "cell_type": "markdown",
   "id": "27d3d5a2",
   "metadata": {},
   "source": [
    "## Identify vulnerable population groups "
   ]
  },
  {
   "cell_type": "markdown",
   "id": "41037646",
   "metadata": {},
   "source": [
    "We can now use the maps of population distribution and combine these with LST maps to assess how the most populated areas overlap with the most overheated areas. \n",
    "\n",
    "The default option in this workflow is to retreive the population data from the WorldPop dataset. "
   ]
  },
  {
   "cell_type": "markdown",
   "id": "b2b61365",
   "metadata": {},
   "source": [
    "`````{admonition} Using your own data for population and infrastructure\n",
    ":class: hint dropdown\n",
    "For a more accurate assessment, it is advisable to use local data for the vulnerable population. For example, for the Zilina pilot in the CLIMAAX project, we collected data from the Zilina municipality office about the buildings that are usually crowded with huge masses of people, e.g. hospitals, stadiums, main squares, big shopping centers, main roads, and bigger factories. If places like these are overheated, a huge number of people can be negatively influenced by the heat. Therefore, the risk also becomes higher and it would be most effective to prioritize these areas when working on heat mitigation measures.  \n",
    "`````"
   ]
  },
  {
   "cell_type": "markdown",
   "id": "3ac3c92d",
   "metadata": {},
   "source": [
    "### Download the vulnerable population data "
   ]
  },
  {
   "cell_type": "markdown",
   "id": "87a1477d",
   "metadata": {},
   "source": [
    " 1. Go to the [portal for accessing WorldPop data](https://data.humdata.org/dataset/?dataseries_name=WorldPop%20-%20Age%20and%20sex%20structures&groups=esp&res_format=GeoTIFF&q=&sort=last_modified%20desc&ext_page_size=25):\n",
    "       -  Select the **WorldPop-Age and sex structures**\n",
    "       -  Select the **Location**\n",
    "       -  Select the **Formats** to GeoTIFF.\n",
    " 2. Download the maps for the most vulnerable groups of the population. This is done by manually downloading the relevant files. The data files have names according to the following pattern: **[country code]**\\_**[sex]**\\_**[age]**_2020.tif. \n",
    " For example, svk_m_1_2020.tif =\n",
    "     -  svk = Slovakia\n",
    "     -  m = male (please download both male and female (f))\n",
    "     -  1 = 1 to 5 years of age, download also for 65, 70, 75, 80\n",
    "     -  2020 = age structures in 2020 \n",
    " 3. Copy the data into the directory that was defined earlier (*pop_dir* variable,  or *./Heatwave_risk/data/population/*).\n",
    " \n",
    " \n",
    "Now we can use the below code to do the following:\n",
    "- load all the maps of the vulnerable population (based on age)\n",
    "- calculate the sum of the vulnerable population across ages and sexes\n",
    "- classify the population data into 5 groups (equal intervals)\n",
    "- plot it next to a map of overheated areas"
   ]
  },
  {
   "cell_type": "markdown",
   "id": "aaa2858d-22a0-4880-8e11-c54a1aab2359",
   "metadata": {},
   "source": [
    "### Process population data\n",
    "\n",
    "First we will load the population data:"
   ]
  },
  {
   "cell_type": "code",
   "execution_count": 11,
   "id": "83963820",
   "metadata": {},
   "outputs": [],
   "source": [
    "# This code loads all population data and creates a raster stack from them \n",
    "poplist = glob( f'{pop_dir}/*.tif')\n",
    "#\n",
    "with rasterio.open(poplist[0]) as src0:\n",
    "    meta = src0.meta\n",
    "#\n",
    "meta.update(count = len(poplist))\n",
    "#\n",
    "with rasterio.open(f'{data_dir}/Population_raster_stack.tif', 'w', **meta) as dst:\n",
    "    for id, layer in enumerate(poplist, start=1):\n",
    "        with rasterio.open(layer) as src1:\n",
    "            dst.write_band(id, src1.read(1))"
   ]
  },
  {
   "cell_type": "markdown",
   "id": "34bec6ba-015d-45d5-98ab-baf07ecdbd57",
   "metadata": {},
   "source": [
    "Now we can classify the vulnerable population data into 5 groups based on the spatial density of this subset of the population: "
   ]
  },
  {
   "cell_type": "code",
   "execution_count": null,
   "id": "144b0937",
   "metadata": {},
   "outputs": [],
   "source": [
    "# Load the LST data and calculate maximum values from raster stack\n",
    "L8_path = f'{data_dir}/L8_raster_stack.tif'\n",
    "L8 = xr.open_dataset(L8_path)\n",
    "L8 = L8.max(dim='band', skipna=True, keep_attrs=True)\n",
    "L8lst2016 = L8['band_data']\n",
    "lstbbox = L8.rio.bounds()\n",
    "\n",
    "# Load the population data and calculate the sum from raster stack\n",
    "pop_path = f'{data_dir}/Population_raster_stack.tif'\n",
    "pop = xr.open_dataset(pop_path)\n",
    "pop = pop.sum(dim='band', skipna=True, keep_attrs=True)\n",
    "pop = pop['band_data']\n",
    "pop = pop.rio.clip_box(minx=lstbbox[0], miny=lstbbox[1], maxx=lstbbox[2], maxy=lstbbox[3])"
   ]
  },
  {
   "cell_type": "code",
   "execution_count": 20,
   "id": "33e98b6c",
   "metadata": {},
   "outputs": [
    {
     "data": {
      "text/plain": [
       "<matplotlib.collections.QuadMesh at 0x22e8e41ff50>"
      ]
     },
     "execution_count": 20,
     "metadata": {},
     "output_type": "execute_result"
    },
    {
     "data": {
      "image/png": "[encoded data removed]",
      "text/plain": [
       "<Figure size 640x480 with 2 Axes>"
      ]
     },
     "metadata": {},
     "output_type": "display_data"
    }
   ],
   "source": [
    "# check the distribution of the data across the selected domain\n",
    "pop.plot()"
   ]
  },
  {
   "cell_type": "code",
   "execution_count": 42,
   "id": "afac1859-f82c-4f8e-aadf-b775aaf2e23e",
   "metadata": {},
   "outputs": [
    {
     "data": {
      "image/png": "[encoded data removed]",
      "text/plain": [
       "<Figure size 640x480 with 2 Axes>"
      ]
     },
     "metadata": {},
     "output_type": "display_data"
    }
   ],
   "source": [
    "# Function to reclassify data using numpy\n",
    "def reclassify_with_numpy(array, bins, new_values):\n",
    "    reclassified_array = np.zeros_like(array)\n",
    "    reclassified_array[array <= bins[0]] = new_values[0]\n",
    "    for i in range(len(bins) - 1):\n",
    "        reclassified_array[(array > bins[i]) & (array <= bins[i + 1])] = new_values[i + 1]\n",
    "    reclassified_array[array > bins[-1]] = new_values[-1]\n",
    "    return reclassified_array\n",
    "\n",
    "# Calculate the number of bins (classes)\n",
    "num_bins = 4\n",
    "\n",
    "# Equal interval classification\n",
    "min_value = np.nanmin(pop)  # Minimum population value\n",
    "max_value = np.nanmax(pop)  # Maximum population value\n",
    "\n",
    "bin_width = (max_value - min_value) / num_bins  # Width of each bin\n",
    "pop_bins = [min_value + i * bin_width for i in range(num_bins)]  # Define bin boundaries\n",
    "\n",
    "# alternative to calculating pop_bins using a threshold to only make bins within the urban (more densely populated) area:\n",
    "#thresh_value = 3.2\n",
    "#bin_width = (max_value - min_value) / num_bins  # Width of each bin\n",
    "#pop_bins = [min_value]\n",
    "#tmp = [thresh_value + i * bin_width for i in range(num_bins)]\n",
    "#pop_bins = pop_bins + tmp\n",
    "\n",
    "# Define classes\n",
    "pop_values = [1, 2, 3, 4, 5]\n",
    "\n",
    "# Apply the reclassification function to the population data\n",
    "pop_class = reclassify_with_numpy(pop.values, bins=pop_bins, new_values=pop_values)\n",
    "\n",
    "# Convert the reclassified array back to xarray DataArray for plotting\n",
    "pop_class_da = xr.DataArray(pop_class, coords=pop.coords, dims=pop.dims)\n",
    "\n",
    "# Plot the data\n",
    "fig, ax = plt.subplots()\n",
    "cmap = plt.get_cmap('RdYlGn_r', 5) \n",
    "oa = pop_class_da.plot(ax=ax, cmap=cmap, add_colorbar=False)\n",
    "cbar = fig.colorbar(oa, ticks=[1, 2, 3, 4, 5])\n",
    "cbar.ax.set_yticklabels(['Very Low', 'Low', 'Medium', 'High', 'Very High'], size=10)\n",
    "ax.set_xlabel('lon [deg_east]')\n",
    "ax.set_ylabel('lat [deg_north]')\n",
    "plt.title('Density of the vulnerable population in the region of interest', size=16, pad=10)\n",
    "plt.show()"
   ]
  },
  {
   "cell_type": "markdown",
   "id": "60bdca9a-4f35-467e-8501-6783afd8e18a",
   "metadata": {},
   "source": [
    "### Plot maps of the overheated areas next to the map of vulnerable population density"
   ]
  },
  {
   "cell_type": "code",
   "execution_count": 45,
   "id": "7ed47473-ea09-4537-b079-709a3f4ce219",
   "metadata": {},
   "outputs": [
    {
     "data": {
      "image/png": "[encoded data removed]",
      "text/plain": [
       "<Figure size 1800x600 with 4 Axes>"
      ]
     },
     "metadata": {},
     "output_type": "display_data"
    }
   ],
   "source": [
    "# This plots the overheated areas and population density maps\n",
    "fig, axes=plt.subplots(ncols=2, figsize=(18,6))\n",
    "cmap = plt.get_cmap('RdYlGn_r', 5) \n",
    "# Plot a data\n",
    "oa1 = lc_class_da.plot(ax = axes[0], cmap=cmap, add_colorbar=False)\n",
    "cbar = fig.colorbar(oa1, ticks=[ 1, 2, 3, 4, 5])\n",
    "cbar.ax.set_yticklabels([ 'Very Low', 'Low', 'Medium', 'High', 'Very high'], size=15)\n",
    "axes[0].set_xlabel('')\n",
    "axes[0].set_ylabel('')\n",
    "axes[0].set_title('Overheated areas in the area of interest - exposure', size=15, pad = 10)\n",
    "# Plot a data\n",
    "oa2 = pop_class_da.plot(ax = axes[1], cmap=cmap, add_colorbar=False)\n",
    "cbar = fig.colorbar(oa2, ticks=[1, 2, 3, 4, 5])\n",
    "cbar.ax.set_yticklabels([ 'Very Low', 'Low', 'Medium', 'High', 'Very high'], size=15)\n",
    "axes[1].set_xlabel('')\n",
    "axes[1].set_ylabel('')\n",
    "axes[1].set_title('Population density in the area of interest - vulnerability', size=15, pad = 10)\n",
    "plt.draw()"
   ]
  },
  {
   "cell_type": "markdown",
   "id": "2a44002f-2f56-431a-a253-539535b99dac",
   "metadata": {},
   "source": [
    "On the plot above we can see the most overheated areas next to the density of the vulnerable population groups\n",
    "The data behind these maps was classified into 5 groups. This will now be used to calculate a risk map, using the risk matrix below."
   ]
  },
  {
   "cell_type": "markdown",
   "id": "592ab5fc-26c0-42c2-b698-7583b77a4cf0",
   "metadata": {},
   "source": [
    "![heatwave ilustration](https://github.com/CLIMAAX/HEATWAVES/blob/main/Images/risk_matrix.png?raw=true \"Risk matrix example\")"
   ]
  },
  {
   "cell_type": "markdown",
   "id": "45672740",
   "metadata": {},
   "source": [
    "### Save data LST and population map"
   ]
  },
  {
   "cell_type": "code",
   "execution_count": 46,
   "id": "a2a254c7",
   "metadata": {},
   "outputs": [],
   "source": [
    "# This code saves the data to results_dir\n",
    "lc_class_da.rio.to_raster(raster_path=f'{results_dir}/risk_LST.tif')\n",
    "pop_class_da.rio.to_raster(raster_path=f'{results_dir}/risk_pop.tif')"
   ]
  },
  {
   "cell_type": "markdown",
   "id": "5f303039",
   "metadata": {},
   "source": [
    "## Calculate the heatwave risk map "
   ]
  },
  {
   "cell_type": "markdown",
   "id": "fadeeafe-020a-4f05-8b3d-e90522e86f4c",
   "metadata": {},
   "source": [
    "In this step we calculate the heatwave **risk** map based on the **exposure (LST - areas that heat up most)** x **vulnerability (density of vulnerable population)**. This risk map would then be based on historical data, and some interpretation is still needed to translate this result to future risk (see more information on this in the conclusions)."
   ]
  },
  {
   "cell_type": "markdown",
   "id": "7a769955-1cc8-43e6-856b-8f6160a40972",
   "metadata": {},
   "source": [
    "### Load data and create a raster stack"
   ]
  },
  {
   "cell_type": "code",
   "execution_count": 47,
   "id": "6bba860f",
   "metadata": {},
   "outputs": [],
   "source": [
    "# This code creates a raster stack from risk_LST and risk_pop data, we need this step for the next processing of the data \n",
    "S2list = glob( f'{results_dir}/risk_*.tif')\n",
    "#\n",
    "with rasterio.open(S2list[0]) as src0:\n",
    "    meta = src0.meta\n",
    "#\n",
    "meta.update(count = len(S2list))\n",
    "#\n",
    "with rasterio.open(f'{results_dir}/risk_raster_stack.tif', 'w', **meta) as dst:\n",
    "    for id, layer in enumerate(S2list, start=1):\n",
    "        with rasterio.open(layer) as src1:\n",
    "            dst.write_band(id, src1.read(1))"
   ]
  },
  {
   "cell_type": "markdown",
   "id": "c26a604a-14b2-4aa5-84e2-bd3274b1182e",
   "metadata": {},
   "source": [
    "### Calculate the risk "
   ]
  },
  {
   "cell_type": "code",
   "execution_count": 50,
   "id": "5aa8a292-6a70-4a1f-8f5c-2cc0c090db01",
   "metadata": {},
   "outputs": [
    {
     "data": {
      "text/plain": [
       "Text(0.5, 1.0, 'heatwave risk level')"
      ]
     },
     "execution_count": 50,
     "metadata": {},
     "output_type": "execute_result"
    },
    {
     "data": {
      "image/png": "[encoded data removed]",
      "text/plain": [
       "<Figure size 1200x900 with 2 Axes>"
      ]
     },
     "metadata": {},
     "output_type": "display_data"
    }
   ],
   "source": [
    "# This code calculates a risk map by multiplying a risk_LST and risk_pop data \n",
    "risk=f'{results_dir}/risk_raster_stack.tif'\n",
    "risk = xr.open_dataset(risk)\n",
    "risk=risk['band_data']\n",
    "risk=(risk[0])*(risk[1])\n",
    "# Plot a data\n",
    "fig, ax = plt.subplots(figsize=(12, 9))\n",
    "\n",
    "cmap = plt.get_cmap('RdYlGn_r', 6) \n",
    "oa3 = risk.plot(ax = ax, cmap=cmap, add_colorbar=False)\n",
    "cbar = fig.colorbar(oa3, ticks=[1, 5, 10, 15, 20, 25])\n",
    "cbar.ax.set_yticklabels([ 'Very Low', 'Low', 'Medium', 'High', 'Very high', 'Extreme'], size=10)\n",
    "ax.set_xlabel('')\n",
    "ax.set_ylabel('')\n",
    "plt.title('heatwave risk level', size=19, pad = 14)\n",
    "\n",
    "#ci= CI_WGS.plot(ax=ax, color='blue', alpha=0.3)"
   ]
  },
  {
   "cell_type": "markdown",
   "id": "9a61b9ce",
   "metadata": {},
   "source": [
    "### Save the risk map "
   ]
  },
  {
   "cell_type": "code",
   "execution_count": 51,
   "id": "52c4f600",
   "metadata": {},
   "outputs": [],
   "source": [
    "# This code saves the risk identification map in the results_dir\n",
    "risk.rio.to_raster(raster_path=f'{results_dir}/Heatwave_risk_identification_map.tif')"
   ]
  },
  {
   "cell_type": "markdown",
   "id": "487af4fd",
   "metadata": {},
   "source": [
    "Based on the risk interpretation map (above), we can identify the places most influenced by the heatwaves (dark red), for better visualization we can load a map with leafmap (below)."
   ]
  },
  {
   "cell_type": "markdown",
   "id": "3c700f88",
   "metadata": {},
   "source": [
    "### Plot Risk data on the interactive map"
   ]
  },
  {
   "cell_type": "markdown",
   "id": "27806ef5",
   "metadata": {},
   "source": [
    "To see these maps on the interactive zoom in/out map with the Open Street Base map run the code below."
   ]
  },
  {
   "cell_type": "code",
   "execution_count": 54,
   "id": "e6229fab-48e7-4895-a9ed-5bb2c4c57f56",
   "metadata": {},
   "outputs": [],
   "source": [
    "# This code creates a tile client from risk maps\n",
    "# First, create a tile server from local raster file\n",
    "riskpop = TileClient(f'{results_dir}/risk_pop.tif')\n",
    "riskLST = TileClient(f'{results_dir}/risk_LST.tif')\n",
    "HWRI = TileClient(f'{results_dir}/Heatwave_risk_identification_map.tif')"
   ]
  },
  {
   "cell_type": "code",
   "execution_count": 61,
   "id": "8e4adb26-0df7-4ab5-803d-ecb49d9affea",
   "metadata": {},
   "outputs": [],
   "source": [
    "# This code creates ipyleaflet tile layer from that server\n",
    "tpop = get_leaflet_tile_layer(riskpop, cmap='Reds',opacity=0.7, nodata=0, name='Risk population')\n",
    "tLST = get_leaflet_tile_layer(riskLST, cmap='bwr',opacity=0.7, nodata=0, name='LST')\n",
    "tHWRI = get_leaflet_tile_layer(HWRI, cmap='RdYlGn_r',opacity=0.7, nodata=0, name='Heat wave risk identification')"
   ]
  },
  {
   "cell_type": "code",
   "execution_count": 63,
   "id": "78bf9cbc-6ce0-4702-8bec-d45d6cf67f5a",
   "metadata": {},
   "outputs": [
    {
     "data": {
      "application/vnd.jupyter.widget-view+json": {
       "model_id": "97414a6d50f2411cab630c24b9300c08",
       "version_major": 2,
       "version_minor": 0
      },
      "text/plain": [
       "Map(center=[52.06163771232584, 4.306253977483751], controls=(ZoomControl(options=['position', 'zoom_in_text', …"
      ]
     },
     "execution_count": 63,
     "metadata": {},
     "output_type": "execute_result"
    }
   ],
   "source": [
    "# This code plots the results on the ipyleaflet map \n",
    "\n",
    "# Set the size of the map\n",
    "map_layout = widgets.Layout(width='1100px', height='800px')\n",
    "\n",
    "# This code plots all loaded rasters and vectors on the ipyleaflet map\n",
    "m = Map(center=riskLST.center(), zoom=riskLST.default_zoom, layout=map_layout)\n",
    "\n",
    "control = LayersControl(position='topright')\n",
    "\n",
    "m.add(tpop)\n",
    "m.add(tLST)\n",
    "m.add(tHWRI)\n",
    "\n",
    "labels = [\"Very low\", \"Low\", \"Medium\", \"Very high\", \"Extreme\"]\n",
    "colors = [(0, 104, 55), (35, 132, 67), (255, 255, 191), (255, 127, 0), (215, 25, 28)]\n",
    "\n",
    "# Create legend HTML content with custom styles (smaller size)\n",
    "legend_html = \"<div style='position: absolute; bottom: 2px; left: 2px; padding: 10px; \" \\\n",
    "              \"background-color: #FFF; border-radius: 10px; box-shadow: 2px 2px 2px rgba(0,0,0,0.5); \" \\\n",
    "              \"width: 75px; height: 205px; '>\"\n",
    "\n",
    "# Append legend items (labels with colored markers)\n",
    "for label, color in zip(labels, colors):\n",
    "    color_hex = '#%02x%02x%02x' % color  # Convert RGB tuple to hex color\n",
    "    legend_html += f\"<p style='font-family: Arial, sans-serif; font-size: 14px; '>\" \\\n",
    "                   f\"<i style='background: {color_hex}; width: 10px; height: 10px; display: inline-block;'></i> {label}</p>\"\n",
    "\n",
    "legend_html += \"</div>\"\n",
    "\n",
    "# Create a custom widget with the legend HTML\n",
    "legend_widget = widgets.HTML(value=legend_html)\n",
    "\n",
    "legend_control = WidgetControl(widget=legend_widget, position='bottomleft')\n",
    "m.add_control(legend_control)\n",
    "\n",
    "m.add(control)\n",
    "#m.add(geo_json1)\n",
    "\n",
    "m"
   ]
  },
  {
   "cell_type": "markdown",
   "id": "51bd7198-bb93-4487-9ec4-6e7381cc47eb",
   "metadata": {},
   "source": [
    "**How to use the map**: You can add or remove a map by \"click\" on the \"layer control\" in the top right corner, or \"Zoom in/out\" by \"click\" on the [+]/[-] in the top left corner \n",
    "We recommend first unclicking all the maps and then displaying them one by one, the transparency of the maps allows you to see which areas on the OpenStreetMap are most exposed to the heat, and in combination with the distribution of the vulnerable population, you can identify which areas should be prioritized for the application of the heat mitigation measures."
   ]
  },
  {
   "cell_type": "markdown",
   "id": "e9032bbc-d247-4f06-9c23-7f28a9db72b5",
   "metadata": {},
   "source": [
    "## Conslusion for the Risk identification results"
   ]
  },
  {
   "cell_type": "markdown",
   "id": "c7cca078-a429-4dba-b7ff-c43423871bbf",
   "metadata": {},
   "source": [
    "The results of the risk workflow help you identify the places that are the most exposed to the effects of heat in combination with the map of areas with high density of vulnerable groups of population (based on age).\n",
    "\n",
    "Together with the results of the hazard assessment workflow that gives you the information both on future heatwave occurences and most vulnerable areas to the heatwaves.\n",
    "\n",
    "![Heat-wave ilustration](https://github.com/CLIMAAX/HEATWAVES/blob/main/Images/hw_year_pesetaiv.png?raw=true \"Risk matrix example\")\n",
    "\n",
    "**Important: **\n",
    "There are important limitations to this analysis, associated with the source datasets:\n",
    "  - The Land surface temperature data is derived from the Landsat 8 satellite imagery and data of acceptable quality (without cloud cover) is only available for a limited number of days. That means that we get limited information on the maximum LST (past heatwaves are not always captured in the images from Landsat8). The resolution of the 30x30m also has its limitations, especially in the densely built-up areas.\n",
    "  - The world population data are available for 2020, and the distribution of the population may have changed (and will continue to change). Moreover, WorldPop data is based on modelling of populations distributions and not on local census data, therefore it may be inaccurate. Use of local data may help to reduce this uncertainty.\n",
    " \n"
   ]
  },
  {
   "cell_type": "markdown",
   "id": "d084baeb-9e51-496a-a762-bbc328702cb0",
   "metadata": {},
   "source": [
    "## 9: References"
   ]
  },
  {
   "cell_type": "markdown",
   "id": "636a850b-98d0-404f-b90f-30bfe7ceafee",
   "metadata": {},
   "source": [
    "- Climate adapt, Apparent temperature heatwave days (2021), https://climate-adapt.eea.europa.eu/en/metadata/indicators/apparent-temperature-heatwave-days [2024-06-17].\n",
    "\n",
    "- Climate adapt, Tropical nights (2021), https://climate-adapt.eea.europa.eu/en/observatory/++aq++metadata/indicators/tropical-nights/ [2024-06-17].\n",
    "\n",
    "- Climate adapt, High UTCI Days (2021), https://climate-adapt.eea.europa.eu/en/metadata/indicators/high-utci-days [2024-06-17].\n",
    "\n",
    "- humdata.org, High Resolution Population Density Maps + Demographic Estimates (2020), https://data.humdata.org/dataset/albania-high-resolution-population-density-maps-demographic-estimates [2024-06-20]\n",
    "\n",
    "- European Space Agency ESA, Landsat 8 satellite imagery (2013), https://earth.esa.int/eogateway/catalog/landsat-8-collection-2-european-coverage [2024-06-20]\n",
    "\n",
    "- Utah Space University, Difference between Air and surface temperature (2024), https://caas.usu.edu/weather/graphical-data/surface-temperature [2024-06-20]\n",
    "\n",
    "- United States Environmental Protection Agency EPA, Heat Island Effect (2024), https://www.epa.gov/heatislands [2024-06-20]\n",
    "\n",
    "- Nazarian, N., Krayenhoff, E. S., Bechtel, B., Hondula, D. M., Paolini, R., Vanos, J., Cheung, T., Chow, W. T. L., de Dear, R., Jay, O., Lee, J. K. W., Martilli, A., Middel, A., Norford, L. K., Sadeghi, M., Schiavon, S., Santamouris, M. (2022), Integrated Assessment of Urban Overheating Impacts on Human Life, Earth’s Future, 10(9). https://doi.org/10.1029/2022EF002682\n",
    "\n",
    "- Parastatidis D, Mitraka Z, Chrysoulakis N, Abrams M. Online Global Land Surface Temperature Estimation from Landsat. Remote Sensing. (2017); 9(12):1208. https://doi.org/10.3390/rs9121208\n",
    "\n",
    "- RSLAB, Land surface temperature, based on the Landsat8 imagery, https://rslab.gr/Landsat_LST.html [2024-06-20]"
   ]
  },
  {
   "cell_type": "markdown",
   "id": "085503ac-fb77-442d-b500-adb2243c0181",
   "metadata": {},
   "source": [
    "## 10: Authors "
   ]
  },
  {
   "cell_type": "markdown",
   "id": "01430a36-204c-4704-8a8c-75ae42f3239d",
   "metadata": {},
   "source": [
    "- Martin Kuban, KAJO services (martin.kuban@kajoservices.com)\n",
    "- Milan Kalas, KAJO services (milan.kalas@kajoservices.com)\n",
    "- Natalia Aleksandrova, Deltares (review and editing)"
   ]
  },
  {
   "cell_type": "markdown",
   "id": "7c87c262",
   "metadata": {},
   "source": []
  }
 ],
 "metadata": {
  "kernelspec": {
   "display_name": "Python 3 (ipykernel)",
   "language": "python",
   "name": "python3"
  },
  "language_info": {
   "codemirror_mode": {
    "name": "ipython",
    "version": 3
   },
   "file_extension": ".py",
   "mimetype": "text/x-python",
   "name": "python",
   "nbconvert_exporter": "python",
   "pygments_lexer": "ipython3",
   "version": "3.11.9"
  }
 },
 "nbformat": 4,
 "nbformat_minor": 5
}
