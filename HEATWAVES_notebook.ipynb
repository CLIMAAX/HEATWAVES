{
 "cells": [
  {
   "cell_type": "markdown",
   "id": "114c11c0-af34-4523-92fb-9a0d62cd518b",
   "metadata": {
    "tags": [],
    "user_expressions": []
   },
   "source": [
    "# My workflow\n",
    "\n",
    "This template workflow should help us make sure that all the notebooks have the same structure.  \n",
    "The green 'tip' boxes are there with the example text. **Make sure you delete them when you add your own text**.\n",
    "\n",
    "Useful links:\n",
    "\n",
    "- [Jupyter book documentation](https://jupyterbook.org/en/stable/intro.html)\n",
    "- [MyST Markdown documentation](https://myst-parser.readthedocs.io/en/latest/index.html)"
   ]
  },
  {
   "cell_type": "markdown",
   "id": "2096c862-1b27-4fcf-bfd2-d85c5d3e3b22",
   "metadata": {
    "tags": [],
    "user_expressions": []
   },
   "source": [
    "## Risk assessment methodology\n",
    "\n",
    "Write here a description of the methodology.  \n",
    "\n",
    "Describe the workflow and the data that is used.  \n",
    "\n",
    "Desrcibe where the data can be found, is there an API to download it or the files can be downloaded from some data repository. Provide a link to the repository (as DOI if possible)."
   ]
  },
  {
   "cell_type": "markdown",
   "id": "f4638e58-ddc6-4789-a747-f76f38a7107d",
   "metadata": {
    "tags": [],
    "user_expressions": []
   },
   "source": [
    ":::{tip} This is the example of the text cell with description of the data:\n",
    "\n",
    "- River flood extent and water depth: available from the [JRC repository](https://data.jrc.ec.europa.eu/dataset/1d128b6c-a4ee-4858-9e34-6210707f3c81) for different return periods. Flood extent map of 100m resolution  \n",
    "- Land-use information: The land cover map and all the spatial projections of population and land cover are available from the [JRC Data Catalogue](https://data.jrc.ec.europa.eu/collection/luisa)   \n",
    "- Flood damage: assessed as a combination between flood extent/water depths and damage curve (available [here](https://publications.jrc.ec.europa.eu/repository/handle/JRC105688). For each pixel, the water depths are used as input in the damage curve to assess the damage, together with different land use and country.   \n",
    "- Flood affected population is assessed by overlaying the [European population density map at 100 m resolution](https://doi.org/10.6084/m9.figshare.6210392) with the flood inundation maps for a given return map. Another possible dataset is the [Global Human Settlement Population dataset](https://ghsl.jrc.ec.europa.eu/download.php?ds=pop) which also has 100m resolution as the JRC flood data.  \n",
    "::: "
   ]
  },
  {
   "cell_type": "markdown",
   "id": "a152b2d2-a3c0-4f88-9d1a-eaf19320251c",
   "metadata": {
    "user_expressions": []
   },
   "source": [
    "And a cell with description of the work\n",
    "\n",
    "**Probabilistic assessment of flood damage** is calculated for different return periods (i.e. 2, 5, 10, 20, 50, 100, 250 and 500 years). In this way, damage-probability curves can be obtained at the grid cell by interpolating the damage estimates between the different recurrence intervals considered. The expected annual damages at a given grid cell due to river flooding are thus the integral of the damage-probability curve. Flood protection can be included in the expected annual damages estimation by truncating the damage-probability curves at the corresponding protection level (e.g. design flood with return period of 100 years). The integral of the remaining part after truncation quantifies the expected annual damages and expected annual population affected caused by river flooding considering flood protection up to the design flood.  \n",
    "Similar to flood damages, population exposure probability functions can be derived for each grid cell within the modelled domain.  "
   ]
  },
  {
   "cell_type": "markdown",
   "id": "ce4ea887-31e9-4663-8790-74189e64ac61",
   "metadata": {
    "toc-hr-collapsed": true
   },
   "source": [
    "## Preparation work"
   ]
  },
  {
   "cell_type": "markdown",
   "id": "0e9ef342-8e60-4280-95d1-a06f4f91d92c",
   "metadata": {
    "tags": [],
    "user_expressions": []
   },
   "source": [
    "### Load libraries\n",
    "\n",
    "In this notebook we will use the following Python libraries:\n",
    "\n",
    "**Replace the libraries in the next two cells with the libraries used in the workflow**"
   ]
  },
  {
   "cell_type": "markdown",
   "id": "5c7f97fe-2578-4ce9-b4c7-1fe40214f045",
   "metadata": {
    "tags": [],
    "user_expressions": []
   },
   "source": [
    "::::{grid} 2 3 4 4\n",
    "\n",
    ":::{card}\n",
    ":header: [os](https://docs.python.org/3/library/os.html)\n",
    "To create directories and work with files\n",
    ":::\n",
    "\n",
    ":::{card}\n",
    ":header: [pooch](https://www.fatiando.org/pooch/latest/index.html)\n",
    "To download and unzip the data\n",
    ":::\n",
    "\n",
    ":::{card}\n",
    ":header: [rasterio](https://rasterio.readthedocs.io/en/stable/)\n",
    "To access and explore geospatial raster data in GeoTIFF format\n",
    ":::\n",
    "\n",
    ":::{card}\n",
    ":header: [xarray](https://docs.xarray.dev/en/stable/)\n",
    "To process the data and prepare it for damage calculation\n",
    ":::\n",
    "\n",
    ":::{card}\n",
    ":header: [rioxarray](https://corteva.github.io/rioxarray/stable/)\n",
    "Rasterio xarray extension - to make it easier to use GeoTIFF data with xarray\n",
    ":::\n",
    "\n",
    ":::{card}\n",
    ":header: [damagescanner](https://damagescanner.readthedocs.io/en/latest/#)\n",
    "To calculate the damage maps\n",
    ":::\n",
    "\n",
    ":::{card}\n",
    ":header: [cartopy](https://scitools.org.uk/cartopy/docs/latest/)\n",
    "To plot the maps\n",
    ":::\n",
    "\n",
    ":::{card}\n",
    ":header: [matplotlib](https://matplotlib.org/)\n",
    "For plotting as well\n",
    ":::\n",
    "::::"
   ]
  },
  {
   "cell_type": "code",
   "execution_count": 10,
   "id": "79e25ef6-9a3b-4d42-a2b5-d787c2b70878",
   "metadata": {},
   "outputs": [],
   "source": [
    "import os\n",
    "import pooch\n",
    "\n",
    "import rasterio\n",
    "from pathlib import Path\n",
    "import rioxarray as rxr\n",
    "import xarray as xr\n",
    "\n",
    "import matplotlib.pyplot as plt\n",
    "import cartopy.crs as ccrs\n",
    "import cartopy.feature as cfeature\n",
    "import cartopy"
   ]
  },
  {
   "cell_type": "markdown",
   "id": "81faf965-390d-4da5-afc4-eb46a3c1feaa",
   "metadata": {
    "tags": [],
    "user_expressions": []
   },
   "source": [
    "### Create the directory structure\n",
    "In order for this workflow to work even if you download and use just this notebook, we need to set up the directory structure.  \n",
    "Next cell will create the directory called 'my_workflow' in the same directory where this notebook is saved.\n",
    "\n",
    "\n",
    ":::{tip} Don't forget!\n",
    "Replace **my_workflow** with the workflow name and delete this note\n",
    ":::\n"
   ]
  },
  {
   "cell_type": "code",
   "execution_count": 2,
   "id": "262714f0-48e3-451c-a1c3-186a056f3286",
   "metadata": {},
   "outputs": [],
   "source": [
    "workflow_folder = 'my_workflow'\n",
    "if not os.path.exists(workflow_folder):\n",
    "    os.makedirs(workflow_folder)"
   ]
  },
  {
   "cell_type": "markdown",
   "id": "62fc175d-16ed-44c5-b868-4aa434e92292",
   "metadata": {
    "tags": [],
    "user_expressions": []
   },
   "source": [
    "### Download data\n",
    "\n",
    "**You can keep the text below if you want to use pooch for downloading. Otherwise add a text about the API and delete the pooch bit.**\n",
    "\n",
    "The data we are using is available as compressed ZIP files in the JRC data portal. \n",
    "Since there is no API to download this data, we can use **[pooch](https://www.fatiando.org/pooch/latest/index.html)** library to donwload and unzip the data.  \n",
    "\n",
    "Pooch will check if the zip file already exists by comparing the hash of the file with what is stored in the default and only download it if it is not already there."
   ]
  },
  {
   "cell_type": "code",
   "execution_count": 3,
   "id": "1433fbba-fa30-497c-a20f-9c785d41fe13",
   "metadata": {},
   "outputs": [],
   "source": [
    "data_dir = os.path.join(workflow_folder,'data')"
   ]
  },
  {
   "cell_type": "markdown",
   "id": "72c0958b-4f4a-4563-82a0-c3943dd6b36e",
   "metadata": {
    "tags": [],
    "user_expressions": []
   },
   "source": [
    "Note that now we have a directory **my_workflow/data** where all the zip files and unzipped flood files are.  \n",
    "We can list all the files in the **data_dir** using the os library.  "
   ]
  },
  {
   "cell_type": "code",
   "execution_count": null,
   "id": "f962de58-cb2b-4df7-8f00-7b31626273a5",
   "metadata": {},
   "outputs": [],
   "source": [
    "with os.scandir(data_dir) as entries:\n",
    "    for entry in entries:\n",
    "        print(entry.name)"
   ]
  },
  {
   "cell_type": "markdown",
   "id": "b57d8c85-f9b7-4cb6-8d48-4c82f0c8d785",
   "metadata": {
    "tags": [],
    "user_expressions": []
   },
   "source": [
    "#### First type of data\n",
    "First we need the information on land use. We will download it from the JRC data portal.\n",
    ":::{tip} Here's an example of the text and code\n",
    "Once the data is downloaded and unzipped, Pooch will list the content of the directory with the data.\n",
    "\n",
    "```python\n",
    "url = 'https://cidportal.jrc.ec.europa.eu/ftp/jrc-opendata/LUISA/PrimaryOutput/Europe/REF-2014/JRC_LUISA_Output_land_use_ref_2014.zip'\n",
    "pooch.retrieve(\n",
    "    url=url,\n",
    "    known_hash=None,\n",
    "    path=data_dir,\n",
    "    processor=pooch.Unzip(extract_dir='')\n",
    ")\n",
    "```\n",
    "\n",
    ":::"
   ]
  },
  {
   "cell_type": "markdown",
   "id": "81918667-f0e0-4302-aad5-640d086df490",
   "metadata": {
    "tags": [],
    "toc-hr-collapsed": true,
    "user_expressions": []
   },
   "source": [
    "## Explore the data\n",
    "Now that we have downloaded and unpacked the needed data, we can have a look what is inside.  "
   ]
  },
  {
   "cell_type": "markdown",
   "id": "4aa0611e-2798-44f2-a789-ccafa546d9c9",
   "metadata": {
    "tags": [],
    "user_expressions": []
   },
   "source": [
    "### Some data I\n",
    "Add text about your data here.\n",
    "\n",
    "Explain the folder structure and file names.\n",
    "\n",
    "All the downloaded files are stored in our **data_dir** folder, with filenames starting with: ...  \n",
    "First we can explore one of them."
   ]
  },
  {
   "cell_type": "markdown",
   "id": "6f7fa049-8c2f-41e0-a73e-bb691bc27c5b",
   "metadata": {
    "tags": [],
    "user_expressions": []
   },
   "source": [
    ":::{tip} Explore the file content\n",
    "Fell free to explore the content and structure of the datasets.  \n",
    "Note the coordinates, dimensions and attributes!\n",
    ":::\n",
    "\n",
    ":::{hint} Find the information about spatial references, statistics👆 (click)\n",
    ":class: dropdown\n",
    "👋 Click on **spatial_ref** 📄 _show/hide attributes_ to see the spatial information  \n",
    "👋 Look at _STATISTICS_ attributes to find minimum, maximum and other statistics\n",
    "\n",
    ":::"
   ]
  },
  {
   "cell_type": "code",
   "execution_count": 2,
   "id": "942cb714-4bd8-49a3-a83e-4f331cdd419d",
   "metadata": {},
   "outputs": [],
   "source": [
    "# code here to open and show the data"
   ]
  },
  {
   "cell_type": "markdown",
   "id": "185ece4e-e965-4ba4-9de7-5a2e31c93b8b",
   "metadata": {
    "tags": [],
    "user_expressions": []
   },
   "source": [
    "### Some data II\n",
    "Add text about other dataset you are using here.  \n",
    "\n",
    "If there are more files in the directory, you can list the directory and explain what is what."
   ]
  },
  {
   "cell_type": "code",
   "execution_count": null,
   "id": "8cb4b52d-30a4-451e-9924-0625465337d4",
   "metadata": {},
   "outputs": [],
   "source": [
    "#with os.scandir(f'{data_dir}/other_data') as entries:\n",
    "#    for entry in entries:\n",
    "#        print(entry.name)"
   ]
  },
  {
   "cell_type": "markdown",
   "id": "601084bb-760d-4007-ac4c-b88c204b9b20",
   "metadata": {
    "tags": [],
    "user_expressions": []
   },
   "source": [
    "Let's explore one of the dataset files, for example this one...  \n",
    "Write which library is used, especially if it is different from other datasets."
   ]
  },
  {
   "cell_type": "code",
   "execution_count": 3,
   "id": "a62471b9-d92d-43d6-949e-c1a40410e164",
   "metadata": {},
   "outputs": [],
   "source": [
    "# code here to open and show the data"
   ]
  },
  {
   "cell_type": "markdown",
   "id": "d96e4348-a93c-431c-956a-d930e7bc449d",
   "metadata": {
    "tags": [],
    "toc-hr-collapsed": true,
    "user_expressions": []
   },
   "source": [
    "## Process the data\n",
    "\n",
    "Explain why the processing is needed. For example:\n",
    "- if the data is global, we might need to crop all the datasets to the area of interest, set the coordinates of the bounding box in a separate cell\n",
    "- if datasets have different resolution and projection we need to reproject one of them and interpolate to the same resolution in order to be able to do computations.\n",
    "- try to use areas of one of the pilots in the examples\n",
    "\n",
    "Explain which libraries are used in this step and why."
   ]
  },
  {
   "cell_type": "markdown",
   "id": "e5fc0632-2f92-4fdb-8849-9a489a691b8e",
   "metadata": {
    "tags": [],
    "user_expressions": []
   },
   "source": [
    ":::{tip} Here's an example text:\n",
    "\n",
    "If we have a closer look at the x and y dimensions of the datasets, we can see that the data has different resolutions. Flood extent maps are at 100 m resolution, while land use data is at 1km. We can use xarray to get them to the same resolution.  \n",
    "\n",
    "But first we need to clip them to the same area, so we don't interpolate the whole global field.   \n",
    "\n",
    "For this we use the rioxarray library again.  \n",
    "**minx** and **maxx** are longitudes, and **miny** and **maxy** are latitudes of the bounding box.  \n",
    "\n",
    "In this example we are clipping the bounding box around city of Zilina in Slovakia.\n",
    ":::"
   ]
  },
  {
   "cell_type": "code",
   "execution_count": 6,
   "id": "1a4d73c4-eae4-4cf2-807d-13c85f670363",
   "metadata": {},
   "outputs": [],
   "source": [
    "xmin=18\n",
    "ymin=48\n",
    "xmax=20\n",
    "ymax=50"
   ]
  },
  {
   "cell_type": "code",
   "execution_count": 4,
   "id": "8a905e17-88a4-474a-9f40-981564a7cfae",
   "metadata": {},
   "outputs": [],
   "source": [
    "# code cell with processing"
   ]
  },
  {
   "cell_type": "markdown",
   "id": "4bcc921a-28af-48d5-b792-f90ccd801113",
   "metadata": {
    "user_expressions": []
   },
   "source": [
    "#### Explanation of the processing step I\n",
    "\n",
    "Explain the processing step, what library is used and why.  \n",
    "Try to include links to the documentation about the functions you are using."
   ]
  },
  {
   "cell_type": "markdown",
   "id": "d06bbd60-392e-4869-a68c-9aa23600f353",
   "metadata": {
    "tags": [],
    "user_expressions": []
   },
   "source": [
    ":::{tip} Here's an example text:\n",
    "#### Interpolate the land use data array\n",
    "\n",
    "Next we need to interpolate the land use data into the flood map grid in order to be able to calculate the damage map.  \n",
    "We can use the xarray [**interp_like()**](https://docs.xarray.dev/en/stable/generated/xarray.Dataset.interp_like.html) function, that will interpolate the land use data into flood grid.  \n",
    "\n",
    "Since we don't really want interpolate the values, we are using method **'nearest'**, to assing the values of the nearest grid points.\n",
    "\n",
    ":::"
   ]
  },
  {
   "cell_type": "code",
   "execution_count": 5,
   "id": "956c7306-7f47-400e-b707-c053a5c5c458",
   "metadata": {},
   "outputs": [],
   "source": [
    "# code cell with processing, for example:\n",
    "#flood_200_small_area_1km  = flood_200_small_area.interp_like(land_use_small_area, method='nearest')\n",
    "#flood_200_small_area_1km"
   ]
  },
  {
   "cell_type": "markdown",
   "id": "c856232e-cfdf-4bb8-a6ce-dd6510d30667",
   "metadata": {
    "tags": [],
    "user_expressions": []
   },
   "source": [
    "You may include a simple plot to quickly visualise the result. But make sure to explain what is plotted"
   ]
  },
  {
   "cell_type": "code",
   "execution_count": 6,
   "id": "0fec3a73-0c2b-4348-b7e6-332587ac8b4f",
   "metadata": {},
   "outputs": [],
   "source": [
    "#flood_200_small_area_1km.plot()"
   ]
  },
  {
   "cell_type": "markdown",
   "id": "2570993d-88cf-4eea-92fe-15bb39b2904d",
   "metadata": {
    "user_expressions": []
   },
   "source": [
    "## Calculate the indices\n",
    "\n",
    "Calculating some indices using the processed data is often part of the workflow. \n",
    "\n",
    "- Explain here what is calculated, include the links to the documentation about the methond.\n",
    "- Explain what libraries are used and include link to the documentation\n",
    "- Explain clearly what input fields are\n",
    "- Explain which functions are used and possibly their parameters\n",
    "- Explain what the output is"
   ]
  },
  {
   "cell_type": "code",
   "execution_count": 8,
   "id": "982a3f71-0b22-4736-855b-e2629f4c63e1",
   "metadata": {},
   "outputs": [],
   "source": [
    "# code for the calculation"
   ]
  },
  {
   "cell_type": "code",
   "execution_count": 7,
   "id": "b5f57bf2-7560-4996-aca6-404aa29d4fec",
   "metadata": {},
   "outputs": [],
   "source": [
    "# another code cell"
   ]
  },
  {
   "cell_type": "markdown",
   "id": "6c852071-20e6-44ae-ad52-4e4dfb81fcbd",
   "metadata": {},
   "source": [
    "## Plot the results"
   ]
  },
  {
   "cell_type": "markdown",
   "id": "aac3e33d-92b9-464c-bb6d-ed9da569891a",
   "metadata": {
    "tags": [],
    "user_expressions": []
   },
   "source": [
    "Plot the results. Explain what libray is used and provide the link if it is not already there.\n",
    "\n",
    "If the plotting code is large, break it into more cells and explain each part."
   ]
  },
  {
   "cell_type": "code",
   "execution_count": 31,
   "id": "9544402a-1e8f-430e-b3b7-19a5e96623e5",
   "metadata": {},
   "outputs": [
    {
     "data": {
      "text/plain": [
       "<matplotlib.collections.QuadMesh at 0x1934e7ed0>"
      ]
     },
     "execution_count": 31,
     "metadata": {},
     "output_type": "execute_result"
    },
    {
     "data": {
      "image/png": "[encoded data removed]",
      "text/plain": [
       "<Figure size 640x480 with 2 Axes>"
      ]
     },
     "metadata": {},
     "output_type": "display_data"
    }
   ],
   "source": [
    "damagemap = rxr.open_rasterio('scenario_damagemap.tif')\n",
    "damagemap.plot()"
   ]
  },
  {
   "cell_type": "markdown",
   "id": "9894fe05-7206-4468-9441-6d974a1a2e27",
   "metadata": {},
   "source": [
    "## Conclusions\n",
    "\n",
    "Some text about conclusions and lessons learned"
   ]
  },
  {
   "cell_type": "markdown",
   "id": "58a12200-0053-4e52-945e-844b6ad72543",
   "metadata": {},
   "source": [
    "## Contributors\n",
    "authors, links to libraries documentation, references etc"
   ]
  }
 ],
 "metadata": {
  "kernelspec": {
   "display_name": "climaax",
   "language": "python",
   "name": "climaax"
  },
  "language_info": {
   "codemirror_mode": {
    "name": "ipython",
    "version": 3
   },
   "file_extension": ".py",
   "mimetype": "text/x-python",
   "name": "python",
   "nbconvert_exporter": "python",
   "pygments_lexer": "ipython3",
   "version": "3.11.3"
  }
 },
 "nbformat": 4,
 "nbformat_minor": 5
}
