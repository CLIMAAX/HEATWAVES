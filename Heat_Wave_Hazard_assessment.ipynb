{
 "cells": [
  {
   "cell_type": "markdown",
   "id": "d00ef501",
   "metadata": {},
   "source": [
    "# Heat-Wave Hazard"
   ]
  },
  {
   "cell_type": "markdown",
   "id": "d79fad30",
   "metadata": {},
   "source": [
    "For The heat-wave we use the EURO-CORDEX (or Chelsa only to consider) daily maximum temperature data. We used the methodology from the PESETA IV project https://joint-research-centre.ec.europa.eu/peseta-projects/jrc-peseta-iv_en\n",
    "\n",
    "Specifically, a Heat-Wave is defined as a period ≥ 3 consecutive days with maximum temperature above a daily threshold calculated for a 30-year-long reference period (for the purpose of testing we choose shorter period). At least 30-year time series of daily vales are needed to obtain a robust estimation of the indicator. The threshold is defined as the 90th percentile of daily maxima temperature, centred on a 31-day window.\n",
    "\n",
    "For the Calculation of the Heat wave you can follow these next steps:\n",
    "\n",
    "- Firstly look at the CLIMAAX hazard portal, if your area should suffer by Heat-Wave more frequently in the future (all these maps will be added)\n",
    "- Secondly look at the climateadapt webpages:\n",
    "    1. Heat days occurence in the past [https://climate-adapt.eea.europa.eu/en/metadata/indicators/high-utci-days]\n",
    "    2. Heat days occurence in the future [https://climate-adapt.eea.europa.eu/en/metadata/indicators/apparent-temperature-heatwave-days]\n",
    "    3. Tropical nights [https://climate-adapt.eea.europa.eu/en/observatory/++aq++metadata/indicators/tropical-nights/]\n",
    "  \n",
    "If you whant to produce a Heat wave graphs with your own data you can use this toolbox:\n",
    "1. Import the packages\n",
    "2. Create a directory structure\n",
    "3. Set the crs for the Euro-Cordex data\n",
    "4. Download the data from the:\n",
    "- CDS [https://cds.climate.copernicus.eu/cdsapp#!/dataset/sis-heat-and-cold-spells?tab=form] (suggested, and used by this toolbox)\n",
    "- Or Chelsa [ https://envicloud.wsl.ch/#/?prefix=chelsa%2Fchelsa_V2%2FGLOBAL%2F ### https://chelsa-climate.org/]\n",
    "- Or use your own data.\n",
    "6. Load a data convert Kelvin to Celsius\n",
    "7. Calculate the Heat wave occurence for past and future\n",
    "8. Plot the results and compare\n",
    "9. Conclusion"
   ]
  },
  {
   "cell_type": "markdown",
   "id": "91e811bd",
   "metadata": {},
   "source": [
    "# 1. Import packages"
   ]
  },
  {
   "cell_type": "code",
   "execution_count": 21,
   "id": "3170331a",
   "metadata": {},
   "outputs": [],
   "source": [
    "import zipfile        # working with the zip folders #\n",
    "import os             # handling the current working directory\n",
    "import rasterio       # netcdf and raster processing  #\n",
    "from pathlib import Path # file system paths\n",
    "import rioxarray as rxr # netcdf and raster processing\n",
    "import cdsapi         # API downloading\n",
    "import numpy as np    # 2-3D array data handling\n",
    "import pandas as pd   # data handling #\n",
    "import xarray as xr   # 2-3D array data handling \n",
    "from osgeo import gdal # Geo data handling \n",
    "import cartopy.crs as ccrs # netcdf data projection \n",
    "import cartopy.feature as cf # netcdf data projection \n",
    "import cartopy.crs as ccrs # netcdf data projection \n",
    "import matplotlib as mpl  #  data plot #\n",
    "import matplotlib.pyplot as plt #  data plot #\n",
    "from rasterio.crs import CRS  #  raster dat handling \n",
    "from pylab import pcolormesh,show,colorbar,plot,title,legend,subplot,savefig\n",
    "from xrspatial.classify import reclassify\n",
    "from matplotlib import pyplot\n",
    "from rasterio.plot import show\n",
    "from glob import glob\n",
    "import geopandas as gpd\n",
    "import rasterio as rio\n",
    "import plotly.graph_objects as go\n",
    "from sklearn.linear_model import LinearRegression"
   ]
  },
  {
   "cell_type": "markdown",
   "id": "193ad66f",
   "metadata": {},
   "source": [
    "# 2. Create a directory structure"
   ]
  },
  {
   "cell_type": "code",
   "execution_count": 2,
   "id": "7118d8a8",
   "metadata": {},
   "outputs": [],
   "source": [
    "# Define the directory for the flashflood workflow preprocess\n",
    "workflow_folder = 'Heat_workflow'\n",
    "\n",
    "# Define directories for data and results within the previously defined workflow directory\n",
    "data_dir = os.path.join(workflow_folder,'data')\n",
    "results_dir = os.path.join(workflow_folder,'results')\n",
    "\n",
    "# Check if the workflow directory exists, if not, create it along with subdirectories for data and results\n",
    "if not os.path.exists(workflow_folder):\n",
    "    os.makedirs(workflow_folder)\n",
    "    os.makedirs(os.path.join(data_dir))\n",
    "    os.makedirs(os.path.join(results_dir))"
   ]
  },
  {
   "cell_type": "markdown",
   "id": "6a2f02c7-3a03-4b65-ab10-a0f24b40478f",
   "metadata": {},
   "source": [
    "# 3. Set a Cooridinate system"
   ]
  },
  {
   "cell_type": "code",
   "execution_count": 3,
   "id": "e8fa4929-489f-40fc-a2a0-bdca504ef544",
   "metadata": {},
   "outputs": [],
   "source": [
    "## CRS for Eurocordex data\n",
    "rotated_pole = ccrs.RotatedPole(pole_latitude=39.25, pole_longitude=-162)"
   ]
  },
  {
   "cell_type": "code",
   "execution_count": 1,
   "id": "1f3572e1-d458-4c01-9691-069d7d11c36c",
   "metadata": {},
   "outputs": [],
   "source": [
    "## You can also use the GDAL warp for the crs setting"
   ]
  },
  {
   "cell_type": "markdown",
   "id": "f250b360-8a07-4526-a8cc-10dca0fa6f7e",
   "metadata": {},
   "source": [
    "# 4. Download a data from the CDS"
   ]
  },
  {
   "cell_type": "markdown",
   "id": "40dda23e-a9c2-49a9-bc5f-3444b3623182",
   "metadata": {},
   "source": [
    "You can download a data from the CDS with the API\n",
    "\n",
    "- Firstly you download a data for the past\n",
    "- Secondly data for the future you can select the Climate scenario rcp 4.5 and 8.5\n",
    "\n",
    "Based on the PesetaIV methodology you need to download at least 30 year period, to see a change in the Heat wave occurence. The most frequently 30 year periods used by the CDS are:\n",
    "\n",
    "- for the past: 1971-2000 \n",
    "- for the future: 2011-2040, 2041-2070 and 2070-2100\n",
    "\n",
    "Or you can use your own data for computing.\n"
   ]
  },
  {
   "cell_type": "markdown",
   "id": "a1168e82-2090-40b5-a22d-b120569597b2",
   "metadata": {},
   "source": [
    "1971-2000"
   ]
  },
  {
   "cell_type": "code",
   "execution_count": null,
   "id": "123c4ad4-ac89-42f8-9e50-c1b40b98eb92",
   "metadata": {},
   "outputs": [],
   "source": [
    "## Data for the 1971-2000\n",
    "# Change KEY!!!\n",
    "URL = \"https://cds.climate.copernicus.eu/api/v2\"\n",
    "KEY = \"152800:1c6ca43d-189d-48d1-9bef-b571c3f35f34\"\n",
    "c = cdsapi.Client(url=URL, key=KEY)\n",
    "\n",
    "# Define zip file's absolute path\n",
    "zip_path = os.path.join(data_dir, 'era5_daily_t2m_eurminmax_45_1971_2000.zip')\n",
    "\n",
    "c.retrieve(\n",
    "    'projections-cordex-domains-single-levels',\n",
    "    {\n",
    "        'format': 'zip',\n",
    "        'domain': 'europe',\n",
    "        'experiment': 'historical',\n",
    "        'horizontal_resolution': '0_11_degree_x_0_11_degree',\n",
    "        'temporal_resolution': 'daily_mean',\n",
    "        'variable': 'maximum_2m_temperature_in_the_last_24_hours',\n",
    "        'gcm_model': 'cnrm_cerfacs_cm5',\n",
    "        'rcm_model': 'clmcom_clm_cclm4_8_17',\n",
    "        'ensemble_member': 'r1i1p1',\n",
    "        'start_year': [\n",
    "            '1971', '1976', '1981', '1986', '1991', '1996', \n",
    "        ],\n",
    "        'end_year': [\n",
    "            '1975', '1980', '1985', '1990', '1995', '2000', \n",
    "        ],\n",
    "    },\n",
    "   f\"{data_dir}/era5_daily_t2m_eurminmax_1971_2000.zip\")"
   ]
  },
  {
   "cell_type": "code",
   "execution_count": null,
   "id": "f5946a25-118e-4eb8-b45e-fda4d4789ad6",
   "metadata": {},
   "outputs": [],
   "source": [
    "# Define zip file's absolute path\n",
    "zip_path = os.path.join(data_dir, 'era5_daily_t2m_eurminmax_1971_2000.zip')\n",
    "# Extract from zip file\n",
    "with zipfile.ZipFile(zip_path, 'r') as zObject:\n",
    "    zObject.extractall(path=data_dir)"
   ]
  },
  {
   "cell_type": "markdown",
   "id": "dafc980e-e9a6-4883-ba9a-c4d0e09b483b",
   "metadata": {},
   "source": [
    "2011-2040 rcp_8_5 (or you can select other suggested period or rcp)"
   ]
  },
  {
   "cell_type": "code",
   "execution_count": null,
   "id": "5147a3f4-e570-4113-a868-3f241e9008fe",
   "metadata": {},
   "outputs": [],
   "source": [
    "# Change KEY!!!\n",
    "URL = \"https://cds.climate.copernicus.eu/api/v2\"\n",
    "KEY = \"152800:1c6ca43d-189d-48d1-9bef-b571c3f35f34\"\n",
    "c = cdsapi.Client(url=URL, key=KEY)\n",
    "\n",
    "# Define zip file's absolute path\n",
    "zip_path = os.path.join(data_dir, 'era5_daily_t2m_eurminmax_2011_2040.zip')\n",
    "\n",
    "c.retrieve(\n",
    "    'projections-cordex-domains-single-levels',\n",
    "    {\n",
    "        'format': 'zip',\n",
    "        'domain': 'europe',\n",
    "        'experiment': 'rcp_8_5',\n",
    "        'horizontal_resolution': '0_11_degree_x_0_11_degree',\n",
    "        'temporal_resolution': 'daily_mean',\n",
    "        'variable': 'maximum_2m_temperature_in_the_last_24_hours',\n",
    "        'gcm_model': 'cnrm_cerfacs_cm5',\n",
    "        'rcm_model': 'clmcom_clm_cclm4_8_17',\n",
    "        'ensemble_member': 'r1i1p1',\n",
    "        'start_year': [\n",
    "            '2011', '2016', '2021', '2026', '2031', '2036', \n",
    "        ],\n",
    "        'end_year': [\n",
    "            '2015', '2020', '2025', '2030', '2035', '2040',\n",
    "        ],\n",
    "    },\n",
    "   f\"{data_dir}/era5_daily_t2m_eurminmax_2011_2040.zip\")"
   ]
  },
  {
   "cell_type": "code",
   "execution_count": null,
   "id": "a45f45fa",
   "metadata": {},
   "outputs": [],
   "source": [
    "# Define zip file's absolute path\n",
    "zip_path = os.path.join(data_dir, 'era5_daily_t2m_eurminmax_2011_2040.zip')\n",
    "# Extract from zip file\n",
    "with zipfile.ZipFile(zip_path, 'r') as zObject:\n",
    "    zObject.extractall(path=data_dir)"
   ]
  },
  {
   "cell_type": "markdown",
   "id": "4305edb4-479e-410b-9961-94b07318f965",
   "metadata": {},
   "source": [
    "# 5. Load data and convert Kelvin to Celsius"
   ]
  },
  {
   "cell_type": "code",
   "execution_count": null,
   "id": "1c8c1c20-46c5-4e1e-98d1-94ff28964ea7",
   "metadata": {},
   "outputs": [],
   "source": [
    "# 1. Data are for 5 year periods, you can select one which you prefer or merge all in one... \n",
    "dmax = xr.open_mfdataset(f'{data_dir}/tasmax*.nc', decode_coords='all')\n",
    "# 2. Convert from K to °C\n",
    "dmax=dmax['tasmax']\n",
    "tasmax=dmax - 273.15\n",
    "tasmax=tasmax.assign_attrs(dmax.attrs)\n",
    "tasmax.attrs['units']='°C'\n",
    "# Select a time period\n",
    "tasmaxh=tasmax.sel(time=slice(\"1971-01-01\", \"2000-12-31\"))\n",
    "tasmaxp1=tasmax.sel(time=slice(\"2011-01-01\", \"2040-12-31\"))\n",
    "#tasmaxp2=tasmax.sel(time=slice(\"2041-01-01\", \"2070-12-31\")) # You can select your own time period\n",
    "#tasmaxp3=tasmax.sel(time=slice(\"1971-01-01\", \"2100-12-31\")) # You can select your own time period\n",
    "# Clip tasmax to Your area or continue with dat for whole Europe\n",
    "rotated_pole = ccrs.RotatedPole(pole_latitude=39.25, pole_longitude=-162)\n",
    "tasmax.rio.write_crs(rotated_pole, inplace=True)\n",
    "tasmaxPILOT=tasmax.rio.clip_box(minx=0.3, miny=-1.7, maxx=0.7, maxy=-1.2,) #select your own coordintes\n",
    "## "
   ]
  },
  {
   "cell_type": "markdown",
   "id": "ce657073-9c9a-42f6-9944-b6357c3ca7fc",
   "metadata": {},
   "source": [
    "# 6. Calculation of the Heat-Wave events based on the Peseta IV methodology"
   ]
  },
  {
   "cell_type": "markdown",
   "id": "1dd22330-396d-4910-aed9-a0b8591e87b1",
   "metadata": {},
   "source": [
    "### For the historical data 1971-2000"
   ]
  },
  {
   "cell_type": "code",
   "execution_count": null,
   "id": "f9b8cf4b-34e7-45bd-9b21-edb439cb2e96",
   "metadata": {},
   "outputs": [],
   "source": [
    "# Divide the time series to months \n",
    "tasmax_month=tasmaxh.groupby('time.month').groups\n",
    "#aty=at_city.groupby('time.year').groups\n",
    "# Calculate the heat wave occurence for all months in given period  \n",
    "for i in range (1, 13):\n",
    "    tasmax_idxs=tasmax_month[i]\n",
    "    # Extract the  months by selecting the relevant indices\n",
    "    #at_max=at_city.isel(time=at_idxs)\n",
    "    tas_maxh=tasmaxh.isel(time=tasmax_idxs)   \n",
    "    # 90 percentile \n",
    "    #junq90_maxZA=jun_maxZA.chunk(dict(time=-1)).quantile(0.90,'time')\n",
    "    tas_max90=tas_maxh.chunk(dict(time=-1)).quantile(0.90,'time')   \n",
    "    heatpt=xr.where(tas_maxh>tas_max90, 1, 0)\n",
    "    # Create + time dataset\n",
    "    vat=heatpt\n",
    "    v1at=heatpt[:-1,:,:]\n",
    "    v2at=heatpt[:-2,:,:]\n",
    "    v3at=heatpt[:-3,:,:]\n",
    "    # Create missing days\n",
    "    t1at=heatpt[0:1,:,:]\n",
    "    t2at=heatpt[0:2,:,:]\n",
    "    t3at=heatpt[0:3,:,:]\n",
    "    # Concatenate missing dates to + time dataset\n",
    "    vi1at=xr.concat([t1at, v1at], dim='time')\n",
    "    vi2at=xr.concat([t2at, v2at], dim='time')\n",
    "    vi3at=xr.concat([t3at, v3at], dim='time')\n",
    "    # Change the time dimesion for correct one\n",
    "    tiat=heatpt[\"time\"]\n",
    "    # add a time dimension\n",
    "    vi1at[\"time\"]=tiat\n",
    "    vi2at[\"time\"]=tiat\n",
    "    vi3at[\"time\"]=tiat\n",
    "    # Sum of the Heat-Wave\n",
    "    sumvat=xr.where((vat==1)&(vi1at==1)&(vi2at==1), 1, 0) # count 3 day HW\n",
    "    sumv2at=xr.where((vat==1)&(vi1at==1)&(vi2at==1)&(vi3at==1), -1, 0)    \n",
    "    sumvatf=sumvat+sumv2at\n",
    "    for j in range (1971,1976):     # 2051 is exclusive\n",
    "        sumvyp=sumvatf.groupby('time.year').groups  \n",
    "        sat1p=sumvyp[j]\n",
    "        sumt1p=sumvatf.isel(time=sat1p) \n",
    "        sumyear1p=sumt1p.sum(dim='time')\n",
    "        sumyear1p.rio.to_raster(raster_path=f'{data_dir}/HW_1971_2000_rcp8.5/HW_' + str(j) + '_hYM_' + str(i) + '.tif')"
   ]
  },
  {
   "cell_type": "markdown",
   "id": "9b9e0118-d5fe-4ae6-9f25-a006237d1499",
   "metadata": {},
   "source": [
    "### For the projections data 2011-2040 ... (2041-2070, 2071-2100)"
   ]
  },
  {
   "cell_type": "markdown",
   "id": "744a5abb-cacd-4d42-ae6b-9880314b5a99",
   "metadata": {},
   "source": [
    "- For the extraction of th Heatwave events in the future we use the 90percentile treshold from the reference period 1971-2000"
   ]
  },
  {
   "cell_type": "code",
   "execution_count": null,
   "id": "e2f91735-15ce-4827-a763-929730f6099d",
   "metadata": {},
   "outputs": [],
   "source": [
    "# Divide the time series to months \n",
    "tasmax_month=tasmaxh.groupby('time.month').groups\n",
    "tasmax_montp1=tasmaxp1.groupby('time.month').groups\n",
    "#aty=at_city.groupby('time.year').groups\n",
    "# Calculate the heat wave occurence for all months in given period  \n",
    "for i in range (1, 13):\n",
    "    tasmaxh_idxs=tasmax_month[i]\n",
    "    tasmaxp1_idxs=tasmax_montp1[i]\n",
    "    # Extract the  months by selecting the relevant indices\n",
    "    #at_max=at_city.isel(time=at_idxs)\n",
    "    tas_maxh=tasmaxh.isel(time=tasmaxh_idxs)\n",
    "    tas_maxp1=tasmaxp1.isel(time=tasmaxp1_idxs)    \n",
    "    # 90 percentile \n",
    "    #junq90_maxZA=jun_maxZA.chunk(dict(time=-1)).quantile(0.90,'time')\n",
    "    tas_maxh90=tas_maxh.chunk(dict(time=-1)).quantile(0.90,'time')\n",
    "    tas_maxp190=tas_maxp1.chunk(dict(time=-1)).quantile(0.90,'time')\n",
    "    heatp1t=xr.where(tas_maxp1>tas_maxh90, 1, 0)\n",
    "    # Create + time dataset\n",
    "    vat=heatp1t\n",
    "    v1at=heatp1t[:-1,:,:]\n",
    "    v2at=heatp1t[:-2,:,:]\n",
    "    v3at=heatp1t[:-3,:,:]\n",
    "    # Create missing days\n",
    "    t1at=heatp1t[0:1,:,:]\n",
    "    t2at=heatp1t[0:2,:,:]\n",
    "    t3at=heatp1t[0:3,:,:]\n",
    "    # Concatenate missing dates to + time dataset\n",
    "    vi1at=xr.concat([t1at, v1at], dim='time')\n",
    "    vi2at=xr.concat([t2at, v2at], dim='time')\n",
    "    vi3at=xr.concat([t3at, v3at], dim='time')\n",
    "    # Change the time dimesion for correct one\n",
    "    tiat=heatp1t[\"time\"]\n",
    "    # add a time dimension\n",
    "    vi1at[\"time\"]=tiat\n",
    "    vi2at[\"time\"]=tiat\n",
    "    vi3at[\"time\"]=tiat\n",
    "    # Sum of the Heat-Wave\n",
    "    sumvat=xr.where((vat==1)&(vi1at==1)&(vi2at==1), 1, 0) # count 3 day HW\n",
    "    sumv2at=xr.where((vat==1)&(vi1at==1)&(vi2at==1)&(vi3at==1), -1, 0)  \n",
    "    sumvatf=sumvat+sumv2at\n",
    "    for j in range (2011,2041):     # 2051 is exclusive\n",
    "        sumvyp=sumvatf.groupby('time.year').groups \n",
    "        sat1p=sumvyp[j]\n",
    "        sumt1p=sumvatf.isel(time=sat1p)\n",
    "        sumyear1p=sumt1p.sum(dim='time')\n",
    "        sumyear1p.rio.to_raster(raster_path=f'{data_dir}/HW_2011_2040_rcp8.5/HW_' + str(j) + '_projYM_' + str(i) + '.tif')"
   ]
  },
  {
   "cell_type": "markdown",
   "id": "63ab0d9e-aa34-4b9a-a197-9c5197e50d9d",
   "metadata": {},
   "source": [
    "### Sum the Heat Wave events by month and years and plot the results"
   ]
  },
  {
   "cell_type": "markdown",
   "id": "58385336-a65a-4617-ae98-d2d4e223715e",
   "metadata": {},
   "source": [
    "#### Sum of the Heat wave events by months Historical"
   ]
  },
  {
   "cell_type": "code",
   "execution_count": null,
   "id": "51694ec5-a1ce-45f7-8a4f-dbb3a7699012",
   "metadata": {},
   "outputs": [],
   "source": [
    "for i in range (1,13):    \n",
    "    # Read a paths for Heat-waves\n",
    "    HW = glob(f'{data_dir}/HW_1971_2000_rcp8.5/*hYM_' + str(i) + '.tif')\n",
    "    # Create a raster stack \n",
    "    with rasterio.open(HW[0]) as src0:\n",
    "        meta = src0.meta\n",
    "    #\n",
    "    meta.update(count = len(HW))\n",
    "    #\n",
    "    with rasterio.open(f'{data_dir}/stackHWEUhM_' + str(i) + '.tif','w', **meta) as dst:\n",
    "        for id, layer in enumerate(HW, start=1):\n",
    "            with rasterio.open(layer) as src1:\n",
    "                dst.write_band(id, src1.read(1))\n",
    "#\n",
    "for i in range (1, 13):    \n",
    "    HWEUpm=f'{data_dir}/stackHWEUhM_' + str(i) + '.tif'\n",
    "    HWEUpm= xr.open_dataset(HWEUpm)\n",
    "    HWEUpm=HWEUpm.sum(dim='band', skipna=True,  keep_attrs=True)\n",
    "    HWEUpm=HWEUpm['band_data']\n",
    "    HWEUpm.rio.to_raster(raster_path=f'{data_dir}/HWsumhM_' + str(i) + '.tif')\n",
    "#\n",
    "HW = sorted (glob(f'{data_dir}/HWsumhM_*'), key=os.path.getmtime)\n",
    "# Create a raster stack \n",
    "with rasterio.open(HW[0]) as src0:\n",
    "    meta = src0.meta\n",
    "#\n",
    "meta.update(count = len(HW))\n",
    "#\n",
    "with rasterio.open(f'{data_dir}/HWsumM_1971_2000.tif','w', **meta) as dst:\n",
    "    for id, layer in enumerate(HW, start=1):\n",
    "        with rasterio.open(layer) as src1:\n",
    "            dst.write_band(id, src1.read(1))"
   ]
  },
  {
   "cell_type": "code",
   "execution_count": 4,
   "id": "88b7180a-dcdf-483d-9012-2d480ae655e9",
   "metadata": {},
   "outputs": [
    {
     "data": {
      "text/plain": [
       "(0.0, 30.0)"
      ]
     },
     "execution_count": 4,
     "metadata": {},
     "output_type": "execute_result"
    },
    {
     "data": {
      "image/png": "[encoded data removed]",
      "text/plain": [
       "<Figure size 600x400 with 1 Axes>"
      ]
     },
     "metadata": {},
     "output_type": "display_data"
    }
   ],
   "source": [
    "HWbarhm=f'{data_dir}/HWsumM_1971_2000.tif'\n",
    "HWbarhm= xr.open_dataset(HWbarhm)\n",
    "#HWy=HWy.sum(dim='band', skipna=True,  keep_attrs=True)\n",
    "HWbarhm=HWbarhm['band_data']\n",
    "HWbarhm.rio.write_crs(rotated_pole, inplace=True)\n",
    "HWbarhm=HWbarhm.rio.clip_box(minx=0.3, miny=-1.7, maxx=0.7, maxy=-1.2,)\n",
    "#ZApast=ZApast.rio.clip_box(minx=18.67, miny=49.175, maxx=18.8, maxy=49.250)\n",
    "#HWyZA=HWbar.rio.clip_box(minx=18.6, miny=49, maxx=19, maxy=49.5)\n",
    "HWyZAhm=HWbarhm.isel(x= 1, y=2)\n",
    "# Select a pixel for plotting \n",
    "# Plot a data \n",
    "fig, ax = plt.subplots(figsize=(6, 4))\n",
    "years = list(range(1, 13))\n",
    "HWyhserm = HWyZAhm.to_series()\n",
    "HWyhserm.plot.bar(x=years, ax=ax)\n",
    "plt.title('Heat wave occurence in Zilina by months for period 1971-2000') \n",
    "ax.set_xlabel('year')\n",
    "ax.set_ylabel('number of Heat-waves')\n",
    "ax.set_xticklabels(years)\n",
    "ax.set_ylim(0,30)"
   ]
  },
  {
   "cell_type": "markdown",
   "id": "c58d36f0-09ad-4968-a588-4d4110c10974",
   "metadata": {},
   "source": [
    "#### Sum of the Heat wave events by months Projection"
   ]
  },
  {
   "cell_type": "code",
   "execution_count": null,
   "id": "4bc25d31-ec8d-4def-aaa2-f570b751ae2c",
   "metadata": {},
   "outputs": [],
   "source": [
    "for i in range (1,13):    \n",
    "    # Read a paths for Heat-waves\n",
    "    HW = glob(f'{data_dir}/HW_2011_2040_rcp8.5/*projYM_' + str(i) + '.tif')\n",
    "    # Create a raster stack \n",
    "    with rasterio.open(HW[0]) as src0:\n",
    "        meta = src0.meta\n",
    "    #\n",
    "    meta.update(count = len(HW))\n",
    "    #\n",
    "    with rasterio.open(f'{data_dir}/stackHWEUp1M_' + str(i) + '.tif','w', **meta) as dst:\n",
    "        for id, layer in enumerate(HW, start=1):\n",
    "            with rasterio.open(layer) as src1:\n",
    "                dst.write_band(id, src1.read(1))\n",
    "###\n",
    "for i in range (1, 13):    \n",
    "    HWEUpm=f'{data_dir}/stackHWEUp1M_' + str(i) + '.tif'\n",
    "    HWEUpm= xr.open_dataset(HWEUpm)\n",
    "    HWEUpm=HWEUpm.sum(dim='band', skipna=True,  keep_attrs=True)\n",
    "    HWEUpm=HWEUpm['band_data']\n",
    "    HWEUpm.rio.to_raster(raster_path=f'{data_dir}/HWsump1M_' + str(i) + '.tif')\n",
    "###\n",
    "HW = sorted (glob(f'{data_dir}/HWsump1M_*'), key=os.path.getmtime)\n",
    "# Create a raster stack \n",
    "with rasterio.open(HW[0]) as src0:\n",
    "    meta = src0.meta\n",
    "#\n",
    "meta.update(count = len(HW))\n",
    "#\n",
    "with rasterio.open(f'{data_dir}/HWsumM_2011_2040.tif','w', **meta) as dst:\n",
    "    for id, layer in enumerate(HW, start=1):\n",
    "        with rasterio.open(layer) as src1:\n",
    "            dst.write_band(id, src1.read(1)) "
   ]
  },
  {
   "cell_type": "code",
   "execution_count": 5,
   "id": "0f9c7e76-dbd4-4abc-9e70-e7da3c1bd62a",
   "metadata": {},
   "outputs": [
    {
     "data": {
      "text/plain": [
       "(0.0, 30.0)"
      ]
     },
     "execution_count": 5,
     "metadata": {},
     "output_type": "execute_result"
    },
    {
     "data": {
      "image/png": "[encoded data removed]",
      "text/plain": [
       "<Figure size 600x400 with 1 Axes>"
      ]
     },
     "metadata": {},
     "output_type": "display_data"
    }
   ],
   "source": [
    "HWbarpm=f'{data_dir}/HWsumM_2011_2040.tif'\n",
    "HWbarpm= xr.open_dataset(HWbarpm)\n",
    "#HWy=HWy.sum(dim='band', skipna=True,  keep_attrs=True)\n",
    "HWbarpm=HWbarpm['band_data']\n",
    "HWbarpm.rio.write_crs(rotated_pole, inplace=True)\n",
    "HWbarpm=HWbarpm.rio.clip_box(minx=0.3, miny=-1.7, maxx=0.7, maxy=-1.2,)\n",
    "#ZApast=ZApast.rio.clip_box(minx=18.67, miny=49.175, maxx=18.8, maxy=49.250)\n",
    "#HWyZA=HWbar.rio.clip_box(minx=18.6, miny=49, maxx=19, maxy=49.5)\n",
    "HWyZApm=HWbarpm.isel(x= 1, y=2)\n",
    "# Select a pixel for plotting \n",
    "# Plot a data \n",
    "fig, ax = plt.subplots(figsize=(6, 4))\n",
    "years = list(range(1, 13))\n",
    "HWypserm = HWyZApm.to_series()\n",
    "HWypserm.plot.bar(x=years, ax=ax)\n",
    "plt.title('Heat wave occurence in Zilina by months for period 2011-2040') \n",
    "ax.set_xlabel('year')\n",
    "ax.set_ylabel('number of Heat-waves')\n",
    "ax.set_xticklabels(years)\n",
    "ax.set_ylim(0,30)"
   ]
  },
  {
   "cell_type": "markdown",
   "id": "d52b8bfd-1cff-44b2-9083-e7c5aff4e178",
   "metadata": {},
   "source": [
    "#### Sum of the Heat wave by years historical"
   ]
  },
  {
   "cell_type": "code",
   "execution_count": null,
   "id": "f8e67cb9-23ab-4dfa-b48d-f2c658a78560",
   "metadata": {},
   "outputs": [],
   "source": [
    "for i in range (1971,2001):    \n",
    "    # Read a paths for Heat-waves\n",
    "    HW = glob(f'{data_dir}/HW_1971_2000_rcp8.5/HW_' + str(i) + '*')\n",
    "    # Create a raster stack \n",
    "    with rasterio.open(HW[0]) as src0:\n",
    "        meta = src0.meta\n",
    "    #\n",
    "    meta.update(count = len(HW))\n",
    "    #\n",
    "    with rasterio.open(f'{data_dir}/stackHWEUhY_' + str(i) + '.tif','w', **meta) as dst:\n",
    "        for id, layer in enumerate(HW, start=1):\n",
    "            with rasterio.open(layer) as src1:\n",
    "                dst.write_band(id, src1.read(1))\n",
    "##################################################\n",
    "for i in range (1971, 2001):    \n",
    "    HWEUp=f'{data_dir}/stackHWEUhY_' + str(i) + '.tif'\n",
    "    HWEUp= xr.open_dataset(HWEUp)\n",
    "    HWEUp=HWEUp.sum(dim='band', skipna=True,  keep_attrs=True)\n",
    "    HWEUp=HWEUp['band_data']\n",
    "    HWEUp.rio.to_raster(raster_path=f'{data_dir}/HWsumhY_' + str(i) + '.tif')\n",
    "##################################################\n",
    "# Read a paths for Heat-waves\n",
    "HW = sorted (glob(f'{data_dir}/HWsumhY_*'), key=os.path.getmtime)\n",
    "# Create a raster stack \n",
    "with rasterio.open(HW[0]) as src0:\n",
    "    meta = src0.meta\n",
    "#\n",
    "meta.update(count = len(HW))\n",
    "#\n",
    "with rasterio.open(f'{data_dir}/HWsumY_1971_2000.tif','w', **meta) as dst:\n",
    "    for id, layer in enumerate(HW, start=1):\n",
    "        with rasterio.open(layer) as src1:\n",
    "            dst.write_band(id, src1.read(1))  \n",
    "##\n",
    "HWbar=f'{data_dir}/HWsumY_1971_2000.tif'\n",
    "HWbar= xr.open_dataset(HWbar)\n",
    "#HWy=HWy.sum(dim='band', skipna=True,  keep_attrs=True)\n",
    "HWbar=HWbar['band_data']\n",
    "HWbar.rio.write_crs(rotated_pole, inplace=True)\n",
    "HWbar=HWbar.rio.clip_box(minx=0.3, miny=-1.7, maxx=0.7, maxy=-1.2,)"
   ]
  },
  {
   "cell_type": "code",
   "execution_count": 7,
   "id": "e9c1a4e3-9286-42a1-960d-cfe6c87d657e",
   "metadata": {},
   "outputs": [
    {
     "data": {
      "text/plain": [
       "(0.0, 16.0)"
      ]
     },
     "execution_count": 7,
     "metadata": {},
     "output_type": "execute_result"
    },
    {
     "data": {
      "image/png": "[encoded data removed]",
      "text/plain": [
       "<Figure size 600x400 with 1 Axes>"
      ]
     },
     "metadata": {},
     "output_type": "display_data"
    }
   ],
   "source": [
    "HWbarh=f'{data_dir}/HWsumY_1971_2000.tif'\n",
    "HWbarh= xr.open_dataset(HWbarh)\n",
    "#HWy=HWy.sum(dim='band', skipna=True,  keep_attrs=True)\n",
    "HWbarh=HWbarh['band_data']\n",
    "HWbarh.rio.write_crs(rotated_pole, inplace=True)\n",
    "HWbarh=HWbarh.rio.clip_box(minx=0.3, miny=-1.7, maxx=0.7, maxy=-1.2,)\n",
    "HWyZAh=HWbarh.isel(x= 1, y=2)\n",
    "# Select a pixel for plotting \n",
    "# Plot a data \n",
    "fig, ax = plt.subplots(figsize=(6, 4))\n",
    "years = list(range(1971, 2001))\n",
    "HWyhser = HWyZAh.to_series()\n",
    "HWyhser.plot.bar(x=years, ax=ax)\n",
    "plt.title('Heat wave occurence in Zilina by year for period 1971-2000') \n",
    "ax.set_xlabel('year')\n",
    "ax.set_ylabel('number of Heat-waves')\n",
    "ax.set_xticklabels(years)\n",
    "ax.set_ylim(0,16)"
   ]
  },
  {
   "cell_type": "markdown",
   "id": "28626cc4-1bf1-489f-ba3b-c2b9733e8a1a",
   "metadata": {},
   "source": [
    "#### Sum of the Heat wave by years projections"
   ]
  },
  {
   "cell_type": "code",
   "execution_count": null,
   "id": "bd7cb5f6-47d0-4bef-97bf-278e88a44a34",
   "metadata": {},
   "outputs": [],
   "source": [
    "for i in range (2011,2041):    \n",
    "    # Read a paths for Heat-waves\n",
    "    HW = glob(f'{data_dir}/HW_2011_2040_rcp8.5/HW_' + str(i) + '*')\n",
    "    # Create a raster stack \n",
    "    with rasterio.open(HW[0]) as src0:\n",
    "        meta = src0.meta\n",
    "    #\n",
    "    meta.update(count = len(HW))\n",
    "    #\n",
    "    with rasterio.open(f'{data_dir}/stackHWEUp1Y_' + str(i) + '.tif','w', **meta) as dst:\n",
    "        for id, layer in enumerate(HW, start=1):\n",
    "            with rasterio.open(layer) as src1:\n",
    "                dst.write_band(id, src1.read(1))\n",
    "##################################################\n",
    "for i in range (2011, 2041):    \n",
    "    HWEUp=f'{data_dir}/stackHWEUp1Y_' + str(i) + '.tif'\n",
    "    HWEUp= xr.open_dataset(HWEUp)\n",
    "    HWEUp=HWEUp.sum(dim='band', skipna=True,  keep_attrs=True)\n",
    "    HWEUp=HWEUp['band_data']\n",
    "    HWEUp.rio.to_raster(raster_path=f'{data_dir}/HWsump1Y_' + str(i) + '.tif')\n",
    "#################################################\n",
    "# Read a paths for Heat-waves\n",
    "HW = sorted (glob(f'{data_dir}/HWsump1Y_*'), key=os.path.getmtime)\n",
    "# Create a raster stack \n",
    "with rasterio.open(HW[0]) as src0:\n",
    "    meta = src0.meta\n",
    "#\n",
    "meta.update(count = len(HW))\n",
    "#\n",
    "with rasterio.open(f'{data_dir}/HWsump1Y_2011_2040.tif','w', **meta) as dst:\n",
    "    for id, layer in enumerate(HW, start=1):\n",
    "        with rasterio.open(layer) as src1:\n",
    "            dst.write_band(id, src1.read(1))   \n",
    "################################################\n",
    "HWbar=f'{data_dir}/HWsump1Y_2011_2040.tif'\n",
    "HWbar= xr.open_dataset(HWbar)\n",
    "#HWy=HWy.sum(dim='band', skipna=True,  keep_attrs=True)\n",
    "HWbar=HWbar['band_data']\n",
    "HWbar.rio.write_crs(rotated_pole, inplace=True)\n",
    "HWbar=HWbar.rio.clip_box(minx=0.3, miny=-1.7, maxx=0.7, maxy=-1.2,)"
   ]
  },
  {
   "cell_type": "code",
   "execution_count": 9,
   "id": "8101b2e1-5ce4-4863-8b24-5dfae4a373ae",
   "metadata": {},
   "outputs": [
    {
     "data": {
      "text/plain": [
       "(0.0, 16.0)"
      ]
     },
     "execution_count": 9,
     "metadata": {},
     "output_type": "execute_result"
    },
    {
     "data": {
      "image/png": "[encoded data removed]",
      "text/plain": [
       "<Figure size 600x400 with 1 Axes>"
      ]
     },
     "metadata": {},
     "output_type": "display_data"
    }
   ],
   "source": [
    "HWbarh=f'{data_dir}/HWsump1Y_2011_2040.tif'\n",
    "HWbarh= xr.open_dataset(HWbarh)\n",
    "#HWy=HWy.sum(dim='band', skipna=True,  keep_attrs=True)\n",
    "HWbarh=HWbarh['band_data']\n",
    "HWbarh.rio.write_crs(rotated_pole, inplace=True)\n",
    "HWbarh=HWbarh.rio.clip_box(minx=0.3, miny=-1.7, maxx=0.7, maxy=-1.2,)\n",
    "HWyZAh=HWbarh.isel(x= 1, y=2)\n",
    "# Select a pixel for plotting \n",
    "# Plot a data \n",
    "fig, ax = plt.subplots(figsize=(6, 4))\n",
    "years = list(range(2011, 2041))\n",
    "HWyp1ser = HWyZAh.to_series()\n",
    "HWyp1ser.plot.bar(x=years, ax=ax)\n",
    "plt.title('Heat wave occurence in Zilina by year for period 2011-2040') \n",
    "ax.set_xlabel('year')\n",
    "ax.set_ylabel('number of Heat-waves')\n",
    "ax.set_xticklabels(years)\n",
    "ax.set_ylim(0,16)"
   ]
  },
  {
   "cell_type": "markdown",
   "id": "dfb69128-e753-44f0-8b8b-45310ea853c5",
   "metadata": {},
   "source": [
    "# 7. Plot the results and compare"
   ]
  },
  {
   "cell_type": "markdown",
   "id": "16adcf13-befb-49f9-aa9d-12bc40f7e59a",
   "metadata": {},
   "source": [
    "### Comparison by months"
   ]
  },
  {
   "cell_type": "code",
   "execution_count": 12,
   "id": "894f1014-5a90-4463-94a2-47c7b0ae6cbc",
   "metadata": {},
   "outputs": [
    {
     "data": {
      "image/png": "[encoded data removed]",
      "text/plain": [
       "<Figure size 640x480 with 1 Axes>"
      ]
     },
     "metadata": {},
     "output_type": "display_data"
    }
   ],
   "source": [
    "month = ['Jan', 'Feb', 'Mar', 'Apr', 'May', 'Jun',\n",
    "          'Jul', 'Aug', 'Sep', 'Oct', 'Nov', 'Dec']\n",
    "bar = HWyhserm\n",
    "line = HWypserm\n",
    "fig, ax = plt.subplots()\n",
    "ax.bar(month, bar, label='1971-2000')\n",
    "ax.plot(month, line, color='red', marker='o', label='2011-2040 (rcp 8.5)')\n",
    "ax.set_xlabel('Month')\n",
    "ax.set_ylabel('Number of heat wave occurrences')\n",
    "ax.set_title('Heat wave occurence in Zilina', fontsize=20, pad=10)\n",
    "ax.legend()\n",
    "ax.grid(True, linestyle='--', alpha=0.7)\n",
    "plt.subplots_adjust(left=0.1, bottom=0.1, right=2, top=0.9)\n",
    "plt.show()"
   ]
  },
  {
   "cell_type": "markdown",
   "id": "e3a1181a-bf27-43f3-88a8-3e78a42c9be2",
   "metadata": {},
   "source": [
    "### Comparison by years"
   ]
  },
  {
   "cell_type": "code",
   "execution_count": 34,
   "id": "c169178b-d25f-43b6-8178-5e6ab358da1d",
   "metadata": {},
   "outputs": [
    {
     "data": {
      "application/vnd.plotly.v1+json": {
       "config": {
        "plotlyServerURL": "https://plot.ly"
       },
       "data": [
        {
         "name": "1971-2000 (rcp8.5)",
         "type": "bar",
         "x": [
          1971,
          1972,
          1973,
          1974,
          1975,
          1976,
          1977,
          1978,
          1979,
          1980,
          1981,
          1982,
          1983,
          1984,
          1985,
          1986,
          1987,
          1988,
          1989,
          1990,
          1991,
          1992,
          1993,
          1994,
          1995,
          1996,
          1997,
          1998,
          1999,
          2000,
          2011,
          2012,
          2013,
          2014,
          2015,
          2016,
          2017,
          2018,
          2019,
          2020,
          2021,
          2022,
          2023,
          2024,
          2025,
          2026,
          2027,
          2028,
          2029,
          2030,
          2031,
          2032,
          2033,
          2034,
          2035,
          2036,
          2037,
          2038,
          2039,
          2040
         ],
         "y": [
          6,
          12,
          11,
          4,
          2,
          2,
          5,
          3,
          3,
          3,
          3,
          4,
          4,
          4,
          2,
          4,
          5,
          11,
          2,
          4,
          14,
          5,
          4,
          1,
          1,
          1,
          8,
          4,
          5,
          6,
          3,
          7,
          5,
          15,
          8,
          3,
          4,
          4,
          6,
          6,
          5,
          7,
          8,
          10,
          3,
          6,
          7,
          8,
          9,
          5,
          3,
          7,
          8,
          4,
          11,
          6,
          9,
          6,
          11,
          9
         ]
        },
        {
         "line": {
          "color": "red"
         },
         "mode": "lines",
         "name": "Trend Line",
         "type": "scatter",
         "x": [
          1971,
          1972,
          1973,
          1974,
          1975,
          1976,
          1977,
          1978,
          1979,
          1980,
          1981,
          1982,
          1983,
          1984,
          1985,
          1986,
          1987,
          1988,
          1989,
          1990,
          1991,
          1992,
          1993,
          1994,
          1995,
          1996,
          1997,
          1998,
          1999,
          2000,
          2011,
          2012,
          2013,
          2014,
          2015,
          2016,
          2017,
          2018,
          2019,
          2020,
          2021,
          2022,
          2023,
          2024,
          2025,
          2026,
          2027,
          2028,
          2029,
          2030,
          2031,
          2032,
          2033,
          2034,
          2035,
          2036,
          2037,
          2038,
          2039,
          2040
         ],
         "y": [
          4.226607007077263,
          4.271246417500151,
          4.315885827923026,
          4.3605252383459145,
          4.405164648768789,
          4.449804059191678,
          4.494443469614552,
          4.539082880037441,
          4.583722290460315,
          4.628361700883204,
          4.673001111306078,
          4.717640521728967,
          4.762279932151841,
          4.80691934257473,
          4.8515587529976045,
          4.896198163420479,
          4.940837573843368,
          4.985476984266242,
          5.030116394689131,
          5.074755805112005,
          5.119395215534894,
          5.164034625957768,
          5.208674036380657,
          5.253313446803531,
          5.29795285722642,
          5.3425922676492945,
          5.387231678072183,
          5.431871088495058,
          5.476510498917946,
          5.521149909340821,
          6.012183423992511,
          6.056822834415399,
          6.101462244838274,
          6.1461016552611625,
          6.190741065684037,
          6.235380476106926,
          6.2800198865298,
          6.324659296952689,
          6.369298707375563,
          6.413938117798452,
          6.458577528221326,
          6.503216938644215,
          6.547856349067089,
          6.592495759489978,
          6.6371351699128525,
          6.681774580335741,
          6.726413990758616,
          6.77105340118149,
          6.815692811604379,
          6.860332222027253,
          6.904971632450142,
          6.949611042873016,
          6.994250453295905,
          7.038889863718779,
          7.083529274141668,
          7.1281686845645424,
          7.172808094987431,
          7.2174475054103056,
          7.262086915833194,
          7.306726326256069
         ]
        }
       ],
       "layout": {
        "autosize": true,
        "barmode": "stack",
        "legend": {
         "orientation": "h",
         "traceorder": "normal",
         "x": 0,
         "y": 1
        },
        "showlegend": true,
        "template": {
         "data": {
          "bar": [
           {
            "error_x": {
             "color": "#2a3f5f"
            },
            "error_y": {
             "color": "#2a3f5f"
            },
            "marker": {
             "line": {
              "color": "#E5ECF6",
              "width": 0.5
             },
             "pattern": {
              "fillmode": "overlay",
              "size": 10,
              "solidity": 0.2
             }
            },
            "type": "bar"
           }
          ],
          "barpolar": [
           {
            "marker": {
             "line": {
              "color": "#E5ECF6",
              "width": 0.5
             },
             "pattern": {
              "fillmode": "overlay",
              "size": 10,
              "solidity": 0.2
             }
            },
            "type": "barpolar"
           }
          ],
          "carpet": [
           {
            "aaxis": {
             "endlinecolor": "#2a3f5f",
             "gridcolor": "white",
             "linecolor": "white",
             "minorgridcolor": "white",
             "startlinecolor": "#2a3f5f"
            },
            "baxis": {
             "endlinecolor": "#2a3f5f",
             "gridcolor": "white",
             "linecolor": "white",
             "minorgridcolor": "white",
             "startlinecolor": "#2a3f5f"
            },
            "type": "carpet"
           }
          ],
          "choropleth": [
           {
            "colorbar": {
             "outlinewidth": 0,
             "ticks": ""
            },
            "type": "choropleth"
           }
          ],
          "contour": [
           {
            "colorbar": {
             "outlinewidth": 0,
             "ticks": ""
            },
            "colorscale": [
             [
              0,
              "#0d0887"
             ],
             [
              0.1111111111111111,
              "#46039f"
             ],
             [
              0.2222222222222222,
              "#7201a8"
             ],
             [
              0.3333333333333333,
              "#9c179e"
             ],
             [
              0.4444444444444444,
              "#bd3786"
             ],
             [
              0.5555555555555556,
              "#d8576b"
             ],
             [
              0.6666666666666666,
              "#ed7953"
             ],
             [
              0.7777777777777778,
              "#fb9f3a"
             ],
             [
              0.8888888888888888,
              "#fdca26"
             ],
             [
              1,
              "#f0f921"
             ]
            ],
            "type": "contour"
           }
          ],
          "contourcarpet": [
           {
            "colorbar": {
             "outlinewidth": 0,
             "ticks": ""
            },
            "type": "contourcarpet"
           }
          ],
          "heatmap": [
           {
            "colorbar": {
             "outlinewidth": 0,
             "ticks": ""
            },
            "colorscale": [
             [
              0,
              "#0d0887"
             ],
             [
              0.1111111111111111,
              "#46039f"
             ],
             [
              0.2222222222222222,
              "#7201a8"
             ],
             [
              0.3333333333333333,
              "#9c179e"
             ],
             [
              0.4444444444444444,
              "#bd3786"
             ],
             [
              0.5555555555555556,
              "#d8576b"
             ],
             [
              0.6666666666666666,
              "#ed7953"
             ],
             [
              0.7777777777777778,
              "#fb9f3a"
             ],
             [
              0.8888888888888888,
              "#fdca26"
             ],
             [
              1,
              "#f0f921"
             ]
            ],
            "type": "heatmap"
           }
          ],
          "heatmapgl": [
           {
            "colorbar": {
             "outlinewidth": 0,
             "ticks": ""
            },
            "colorscale": [
             [
              0,
              "#0d0887"
             ],
             [
              0.1111111111111111,
              "#46039f"
             ],
             [
              0.2222222222222222,
              "#7201a8"
             ],
             [
              0.3333333333333333,
              "#9c179e"
             ],
             [
              0.4444444444444444,
              "#bd3786"
             ],
             [
              0.5555555555555556,
              "#d8576b"
             ],
             [
              0.6666666666666666,
              "#ed7953"
             ],
             [
              0.7777777777777778,
              "#fb9f3a"
             ],
             [
              0.8888888888888888,
              "#fdca26"
             ],
             [
              1,
              "#f0f921"
             ]
            ],
            "type": "heatmapgl"
           }
          ],
          "histogram": [
           {
            "marker": {
             "pattern": {
              "fillmode": "overlay",
              "size": 10,
              "solidity": 0.2
             }
            },
            "type": "histogram"
           }
          ],
          "histogram2d": [
           {
            "colorbar": {
             "outlinewidth": 0,
             "ticks": ""
            },
            "colorscale": [
             [
              0,
              "#0d0887"
             ],
             [
              0.1111111111111111,
              "#46039f"
             ],
             [
              0.2222222222222222,
              "#7201a8"
             ],
             [
              0.3333333333333333,
              "#9c179e"
             ],
             [
              0.4444444444444444,
              "#bd3786"
             ],
             [
              0.5555555555555556,
              "#d8576b"
             ],
             [
              0.6666666666666666,
              "#ed7953"
             ],
             [
              0.7777777777777778,
              "#fb9f3a"
             ],
             [
              0.8888888888888888,
              "#fdca26"
             ],
             [
              1,
              "#f0f921"
             ]
            ],
            "type": "histogram2d"
           }
          ],
          "histogram2dcontour": [
           {
            "colorbar": {
             "outlinewidth": 0,
             "ticks": ""
            },
            "colorscale": [
             [
              0,
              "#0d0887"
             ],
             [
              0.1111111111111111,
              "#46039f"
             ],
             [
              0.2222222222222222,
              "#7201a8"
             ],
             [
              0.3333333333333333,
              "#9c179e"
             ],
             [
              0.4444444444444444,
              "#bd3786"
             ],
             [
              0.5555555555555556,
              "#d8576b"
             ],
             [
              0.6666666666666666,
              "#ed7953"
             ],
             [
              0.7777777777777778,
              "#fb9f3a"
             ],
             [
              0.8888888888888888,
              "#fdca26"
             ],
             [
              1,
              "#f0f921"
             ]
            ],
            "type": "histogram2dcontour"
           }
          ],
          "mesh3d": [
           {
            "colorbar": {
             "outlinewidth": 0,
             "ticks": ""
            },
            "type": "mesh3d"
           }
          ],
          "parcoords": [
           {
            "line": {
             "colorbar": {
              "outlinewidth": 0,
              "ticks": ""
             }
            },
            "type": "parcoords"
           }
          ],
          "pie": [
           {
            "automargin": true,
            "type": "pie"
           }
          ],
          "scatter": [
           {
            "fillpattern": {
             "fillmode": "overlay",
             "size": 10,
             "solidity": 0.2
            },
            "type": "scatter"
           }
          ],
          "scatter3d": [
           {
            "line": {
             "colorbar": {
              "outlinewidth": 0,
              "ticks": ""
             }
            },
            "marker": {
             "colorbar": {
              "outlinewidth": 0,
              "ticks": ""
             }
            },
            "type": "scatter3d"
           }
          ],
          "scattercarpet": [
           {
            "marker": {
             "colorbar": {
              "outlinewidth": 0,
              "ticks": ""
             }
            },
            "type": "scattercarpet"
           }
          ],
          "scattergeo": [
           {
            "marker": {
             "colorbar": {
              "outlinewidth": 0,
              "ticks": ""
             }
            },
            "type": "scattergeo"
           }
          ],
          "scattergl": [
           {
            "marker": {
             "colorbar": {
              "outlinewidth": 0,
              "ticks": ""
             }
            },
            "type": "scattergl"
           }
          ],
          "scattermapbox": [
           {
            "marker": {
             "colorbar": {
              "outlinewidth": 0,
              "ticks": ""
             }
            },
            "type": "scattermapbox"
           }
          ],
          "scatterpolar": [
           {
            "marker": {
             "colorbar": {
              "outlinewidth": 0,
              "ticks": ""
             }
            },
            "type": "scatterpolar"
           }
          ],
          "scatterpolargl": [
           {
            "marker": {
             "colorbar": {
              "outlinewidth": 0,
              "ticks": ""
             }
            },
            "type": "scatterpolargl"
           }
          ],
          "scatterternary": [
           {
            "marker": {
             "colorbar": {
              "outlinewidth": 0,
              "ticks": ""
             }
            },
            "type": "scatterternary"
           }
          ],
          "surface": [
           {
            "colorbar": {
             "outlinewidth": 0,
             "ticks": ""
            },
            "colorscale": [
             [
              0,
              "#0d0887"
             ],
             [
              0.1111111111111111,
              "#46039f"
             ],
             [
              0.2222222222222222,
              "#7201a8"
             ],
             [
              0.3333333333333333,
              "#9c179e"
             ],
             [
              0.4444444444444444,
              "#bd3786"
             ],
             [
              0.5555555555555556,
              "#d8576b"
             ],
             [
              0.6666666666666666,
              "#ed7953"
             ],
             [
              0.7777777777777778,
              "#fb9f3a"
             ],
             [
              0.8888888888888888,
              "#fdca26"
             ],
             [
              1,
              "#f0f921"
             ]
            ],
            "type": "surface"
           }
          ],
          "table": [
           {
            "cells": {
             "fill": {
              "color": "#EBF0F8"
             },
             "line": {
              "color": "white"
             }
            },
            "header": {
             "fill": {
              "color": "#C8D4E3"
             },
             "line": {
              "color": "white"
             }
            },
            "type": "table"
           }
          ]
         },
         "layout": {
          "annotationdefaults": {
           "arrowcolor": "#2a3f5f",
           "arrowhead": 0,
           "arrowwidth": 1
          },
          "autotypenumbers": "strict",
          "coloraxis": {
           "colorbar": {
            "outlinewidth": 0,
            "ticks": ""
           }
          },
          "colorscale": {
           "diverging": [
            [
             0,
             "#8e0152"
            ],
            [
             0.1,
             "#c51b7d"
            ],
            [
             0.2,
             "#de77ae"
            ],
            [
             0.3,
             "#f1b6da"
            ],
            [
             0.4,
             "#fde0ef"
            ],
            [
             0.5,
             "#f7f7f7"
            ],
            [
             0.6,
             "#e6f5d0"
            ],
            [
             0.7,
             "#b8e186"
            ],
            [
             0.8,
             "#7fbc41"
            ],
            [
             0.9,
             "#4d9221"
            ],
            [
             1,
             "#276419"
            ]
           ],
           "sequential": [
            [
             0,
             "#0d0887"
            ],
            [
             0.1111111111111111,
             "#46039f"
            ],
            [
             0.2222222222222222,
             "#7201a8"
            ],
            [
             0.3333333333333333,
             "#9c179e"
            ],
            [
             0.4444444444444444,
             "#bd3786"
            ],
            [
             0.5555555555555556,
             "#d8576b"
            ],
            [
             0.6666666666666666,
             "#ed7953"
            ],
            [
             0.7777777777777778,
             "#fb9f3a"
            ],
            [
             0.8888888888888888,
             "#fdca26"
            ],
            [
             1,
             "#f0f921"
            ]
           ],
           "sequentialminus": [
            [
             0,
             "#0d0887"
            ],
            [
             0.1111111111111111,
             "#46039f"
            ],
            [
             0.2222222222222222,
             "#7201a8"
            ],
            [
             0.3333333333333333,
             "#9c179e"
            ],
            [
             0.4444444444444444,
             "#bd3786"
            ],
            [
             0.5555555555555556,
             "#d8576b"
            ],
            [
             0.6666666666666666,
             "#ed7953"
            ],
            [
             0.7777777777777778,
             "#fb9f3a"
            ],
            [
             0.8888888888888888,
             "#fdca26"
            ],
            [
             1,
             "#f0f921"
            ]
           ]
          },
          "colorway": [
           "#636efa",
           "#EF553B",
           "#00cc96",
           "#ab63fa",
           "#FFA15A",
           "#19d3f3",
           "#FF6692",
           "#B6E880",
           "#FF97FF",
           "#FECB52"
          ],
          "font": {
           "color": "#2a3f5f"
          },
          "geo": {
           "bgcolor": "white",
           "lakecolor": "white",
           "landcolor": "#E5ECF6",
           "showlakes": true,
           "showland": true,
           "subunitcolor": "white"
          },
          "hoverlabel": {
           "align": "left"
          },
          "hovermode": "closest",
          "mapbox": {
           "style": "light"
          },
          "paper_bgcolor": "white",
          "plot_bgcolor": "#E5ECF6",
          "polar": {
           "angularaxis": {
            "gridcolor": "white",
            "linecolor": "white",
            "ticks": ""
           },
           "bgcolor": "#E5ECF6",
           "radialaxis": {
            "gridcolor": "white",
            "linecolor": "white",
            "ticks": ""
           }
          },
          "scene": {
           "xaxis": {
            "backgroundcolor": "#E5ECF6",
            "gridcolor": "white",
            "gridwidth": 2,
            "linecolor": "white",
            "showbackground": true,
            "ticks": "",
            "zerolinecolor": "white"
           },
           "yaxis": {
            "backgroundcolor": "#E5ECF6",
            "gridcolor": "white",
            "gridwidth": 2,
            "linecolor": "white",
            "showbackground": true,
            "ticks": "",
            "zerolinecolor": "white"
           },
           "zaxis": {
            "backgroundcolor": "#E5ECF6",
            "gridcolor": "white",
            "gridwidth": 2,
            "linecolor": "white",
            "showbackground": true,
            "ticks": "",
            "zerolinecolor": "white"
           }
          },
          "shapedefaults": {
           "line": {
            "color": "#2a3f5f"
           }
          },
          "ternary": {
           "aaxis": {
            "gridcolor": "white",
            "linecolor": "white",
            "ticks": ""
           },
           "baxis": {
            "gridcolor": "white",
            "linecolor": "white",
            "ticks": ""
           },
           "bgcolor": "#E5ECF6",
           "caxis": {
            "gridcolor": "white",
            "linecolor": "white",
            "ticks": ""
           }
          },
          "title": {
           "x": 0.05
          },
          "xaxis": {
           "automargin": true,
           "gridcolor": "white",
           "linecolor": "white",
           "ticks": "",
           "title": {
            "standoff": 15
           },
           "zerolinecolor": "white",
           "zerolinewidth": 2
          },
          "yaxis": {
           "automargin": true,
           "gridcolor": "white",
           "linecolor": "white",
           "ticks": "",
           "title": {
            "standoff": 15
           },
           "zerolinecolor": "white",
           "zerolinewidth": 2
          }
         }
        },
        "title": {
         "text": "Heat wave occurence in Zilina by year for period 1971-2000 and (2011-2040 rcp8.5)",
         "x": 0.5
        },
        "xaxis": {
         "autorange": true,
         "range": [
          1970.5,
          2040.5
         ],
         "title": {
          "text": "Year"
         },
         "type": "linear"
        },
        "yaxis": {
         "autorange": true,
         "range": [
          0,
          15.789473684210526
         ],
         "title": {
          "text": "Number of heat wave occurrences"
         },
         "type": "linear"
        }
       }
      },
      "image/png": "[encoded data removed]",
      "text/html": [
       "<div>                            <div id=\"02ea16f9-eb50-44a5-90e0-ceab7b41c2b3\" class=\"plotly-graph-div\" style=\"height:525px; width:100%;\"></div>            <script type=\"text/javascript\">                require([\"plotly\"], function(Plotly) {                    window.PLOTLYENV=window.PLOTLYENV || {};                                    if (document.getElementById(\"02ea16f9-eb50-44a5-90e0-ceab7b41c2b3\")) {                    Plotly.newPlot(                        \"02ea16f9-eb50-44a5-90e0-ceab7b41c2b3\",                        [{\"name\":\"1971-2000 (rcp8.5)\",\"x\":[1971,1972,1973,1974,1975,1976,1977,1978,1979,1980,1981,1982,1983,1984,1985,1986,1987,1988,1989,1990,1991,1992,1993,1994,1995,1996,1997,1998,1999,2000,2011,2012,2013,2014,2015,2016,2017,2018,2019,2020,2021,2022,2023,2024,2025,2026,2027,2028,2029,2030,2031,2032,2033,2034,2035,2036,2037,2038,2039,2040],\"y\":[6.0,12.0,11.0,4.0,2.0,2.0,5.0,3.0,3.0,3.0,3.0,4.0,4.0,4.0,2.0,4.0,5.0,11.0,2.0,4.0,14.0,5.0,4.0,1.0,1.0,1.0,8.0,4.0,5.0,6.0,3.0,7.0,5.0,15.0,8.0,3.0,4.0,4.0,6.0,6.0,5.0,7.0,8.0,10.0,3.0,6.0,7.0,8.0,9.0,5.0,3.0,7.0,8.0,4.0,11.0,6.0,9.0,6.0,11.0,9.0],\"type\":\"bar\"},{\"line\":{\"color\":\"red\"},\"mode\":\"lines\",\"name\":\"Trend Line\",\"x\":[1971,1972,1973,1974,1975,1976,1977,1978,1979,1980,1981,1982,1983,1984,1985,1986,1987,1988,1989,1990,1991,1992,1993,1994,1995,1996,1997,1998,1999,2000,2011,2012,2013,2014,2015,2016,2017,2018,2019,2020,2021,2022,2023,2024,2025,2026,2027,2028,2029,2030,2031,2032,2033,2034,2035,2036,2037,2038,2039,2040],\"y\":[4.226607007077263,4.271246417500151,4.315885827923026,4.3605252383459145,4.405164648768789,4.449804059191678,4.494443469614552,4.539082880037441,4.583722290460315,4.628361700883204,4.673001111306078,4.717640521728967,4.762279932151841,4.80691934257473,4.8515587529976045,4.896198163420479,4.940837573843368,4.985476984266242,5.030116394689131,5.074755805112005,5.119395215534894,5.164034625957768,5.208674036380657,5.253313446803531,5.29795285722642,5.3425922676492945,5.387231678072183,5.431871088495058,5.476510498917946,5.521149909340821,6.012183423992511,6.056822834415399,6.101462244838274,6.1461016552611625,6.190741065684037,6.235380476106926,6.2800198865298,6.324659296952689,6.369298707375563,6.413938117798452,6.458577528221326,6.503216938644215,6.547856349067089,6.592495759489978,6.6371351699128525,6.681774580335741,6.726413990758616,6.77105340118149,6.815692811604379,6.860332222027253,6.904971632450142,6.949611042873016,6.994250453295905,7.038889863718779,7.083529274141668,7.1281686845645424,7.172808094987431,7.2174475054103056,7.262086915833194,7.306726326256069],\"type\":\"scatter\"}],                        {\"template\":{\"data\":{\"histogram2dcontour\":[{\"type\":\"histogram2dcontour\",\"colorbar\":{\"outlinewidth\":0,\"ticks\":\"\"},\"colorscale\":[[0.0,\"#0d0887\"],[0.1111111111111111,\"#46039f\"],[0.2222222222222222,\"#7201a8\"],[0.3333333333333333,\"#9c179e\"],[0.4444444444444444,\"#bd3786\"],[0.5555555555555556,\"#d8576b\"],[0.6666666666666666,\"#ed7953\"],[0.7777777777777778,\"#fb9f3a\"],[0.8888888888888888,\"#fdca26\"],[1.0,\"#f0f921\"]]}],\"choropleth\":[{\"type\":\"choropleth\",\"colorbar\":{\"outlinewidth\":0,\"ticks\":\"\"}}],\"histogram2d\":[{\"type\":\"histogram2d\",\"colorbar\":{\"outlinewidth\":0,\"ticks\":\"\"},\"colorscale\":[[0.0,\"#0d0887\"],[0.1111111111111111,\"#46039f\"],[0.2222222222222222,\"#7201a8\"],[0.3333333333333333,\"#9c179e\"],[0.4444444444444444,\"#bd3786\"],[0.5555555555555556,\"#d8576b\"],[0.6666666666666666,\"#ed7953\"],[0.7777777777777778,\"#fb9f3a\"],[0.8888888888888888,\"#fdca26\"],[1.0,\"#f0f921\"]]}],\"heatmap\":[{\"type\":\"heatmap\",\"colorbar\":{\"outlinewidth\":0,\"ticks\":\"\"},\"colorscale\":[[0.0,\"#0d0887\"],[0.1111111111111111,\"#46039f\"],[0.2222222222222222,\"#7201a8\"],[0.3333333333333333,\"#9c179e\"],[0.4444444444444444,\"#bd3786\"],[0.5555555555555556,\"#d8576b\"],[0.6666666666666666,\"#ed7953\"],[0.7777777777777778,\"#fb9f3a\"],[0.8888888888888888,\"#fdca26\"],[1.0,\"#f0f921\"]]}],\"heatmapgl\":[{\"type\":\"heatmapgl\",\"colorbar\":{\"outlinewidth\":0,\"ticks\":\"\"},\"colorscale\":[[0.0,\"#0d0887\"],[0.1111111111111111,\"#46039f\"],[0.2222222222222222,\"#7201a8\"],[0.3333333333333333,\"#9c179e\"],[0.4444444444444444,\"#bd3786\"],[0.5555555555555556,\"#d8576b\"],[0.6666666666666666,\"#ed7953\"],[0.7777777777777778,\"#fb9f3a\"],[0.8888888888888888,\"#fdca26\"],[1.0,\"#f0f921\"]]}],\"contourcarpet\":[{\"type\":\"contourcarpet\",\"colorbar\":{\"outlinewidth\":0,\"ticks\":\"\"}}],\"contour\":[{\"type\":\"contour\",\"colorbar\":{\"outlinewidth\":0,\"ticks\":\"\"},\"colorscale\":[[0.0,\"#0d0887\"],[0.1111111111111111,\"#46039f\"],[0.2222222222222222,\"#7201a8\"],[0.3333333333333333,\"#9c179e\"],[0.4444444444444444,\"#bd3786\"],[0.5555555555555556,\"#d8576b\"],[0.6666666666666666,\"#ed7953\"],[0.7777777777777778,\"#fb9f3a\"],[0.8888888888888888,\"#fdca26\"],[1.0,\"#f0f921\"]]}],\"surface\":[{\"type\":\"surface\",\"colorbar\":{\"outlinewidth\":0,\"ticks\":\"\"},\"colorscale\":[[0.0,\"#0d0887\"],[0.1111111111111111,\"#46039f\"],[0.2222222222222222,\"#7201a8\"],[0.3333333333333333,\"#9c179e\"],[0.4444444444444444,\"#bd3786\"],[0.5555555555555556,\"#d8576b\"],[0.6666666666666666,\"#ed7953\"],[0.7777777777777778,\"#fb9f3a\"],[0.8888888888888888,\"#fdca26\"],[1.0,\"#f0f921\"]]}],\"mesh3d\":[{\"type\":\"mesh3d\",\"colorbar\":{\"outlinewidth\":0,\"ticks\":\"\"}}],\"scatter\":[{\"fillpattern\":{\"fillmode\":\"overlay\",\"size\":10,\"solidity\":0.2},\"type\":\"scatter\"}],\"parcoords\":[{\"type\":\"parcoords\",\"line\":{\"colorbar\":{\"outlinewidth\":0,\"ticks\":\"\"}}}],\"scatterpolargl\":[{\"type\":\"scatterpolargl\",\"marker\":{\"colorbar\":{\"outlinewidth\":0,\"ticks\":\"\"}}}],\"bar\":[{\"error_x\":{\"color\":\"#2a3f5f\"},\"error_y\":{\"color\":\"#2a3f5f\"},\"marker\":{\"line\":{\"color\":\"#E5ECF6\",\"width\":0.5},\"pattern\":{\"fillmode\":\"overlay\",\"size\":10,\"solidity\":0.2}},\"type\":\"bar\"}],\"scattergeo\":[{\"type\":\"scattergeo\",\"marker\":{\"colorbar\":{\"outlinewidth\":0,\"ticks\":\"\"}}}],\"scatterpolar\":[{\"type\":\"scatterpolar\",\"marker\":{\"colorbar\":{\"outlinewidth\":0,\"ticks\":\"\"}}}],\"histogram\":[{\"marker\":{\"pattern\":{\"fillmode\":\"overlay\",\"size\":10,\"solidity\":0.2}},\"type\":\"histogram\"}],\"scattergl\":[{\"type\":\"scattergl\",\"marker\":{\"colorbar\":{\"outlinewidth\":0,\"ticks\":\"\"}}}],\"scatter3d\":[{\"type\":\"scatter3d\",\"line\":{\"colorbar\":{\"outlinewidth\":0,\"ticks\":\"\"}},\"marker\":{\"colorbar\":{\"outlinewidth\":0,\"ticks\":\"\"}}}],\"scattermapbox\":[{\"type\":\"scattermapbox\",\"marker\":{\"colorbar\":{\"outlinewidth\":0,\"ticks\":\"\"}}}],\"scatterternary\":[{\"type\":\"scatterternary\",\"marker\":{\"colorbar\":{\"outlinewidth\":0,\"ticks\":\"\"}}}],\"scattercarpet\":[{\"type\":\"scattercarpet\",\"marker\":{\"colorbar\":{\"outlinewidth\":0,\"ticks\":\"\"}}}],\"carpet\":[{\"aaxis\":{\"endlinecolor\":\"#2a3f5f\",\"gridcolor\":\"white\",\"linecolor\":\"white\",\"minorgridcolor\":\"white\",\"startlinecolor\":\"#2a3f5f\"},\"baxis\":{\"endlinecolor\":\"#2a3f5f\",\"gridcolor\":\"white\",\"linecolor\":\"white\",\"minorgridcolor\":\"white\",\"startlinecolor\":\"#2a3f5f\"},\"type\":\"carpet\"}],\"table\":[{\"cells\":{\"fill\":{\"color\":\"#EBF0F8\"},\"line\":{\"color\":\"white\"}},\"header\":{\"fill\":{\"color\":\"#C8D4E3\"},\"line\":{\"color\":\"white\"}},\"type\":\"table\"}],\"barpolar\":[{\"marker\":{\"line\":{\"color\":\"#E5ECF6\",\"width\":0.5},\"pattern\":{\"fillmode\":\"overlay\",\"size\":10,\"solidity\":0.2}},\"type\":\"barpolar\"}],\"pie\":[{\"automargin\":true,\"type\":\"pie\"}]},\"layout\":{\"autotypenumbers\":\"strict\",\"colorway\":[\"#636efa\",\"#EF553B\",\"#00cc96\",\"#ab63fa\",\"#FFA15A\",\"#19d3f3\",\"#FF6692\",\"#B6E880\",\"#FF97FF\",\"#FECB52\"],\"font\":{\"color\":\"#2a3f5f\"},\"hovermode\":\"closest\",\"hoverlabel\":{\"align\":\"left\"},\"paper_bgcolor\":\"white\",\"plot_bgcolor\":\"#E5ECF6\",\"polar\":{\"bgcolor\":\"#E5ECF6\",\"angularaxis\":{\"gridcolor\":\"white\",\"linecolor\":\"white\",\"ticks\":\"\"},\"radialaxis\":{\"gridcolor\":\"white\",\"linecolor\":\"white\",\"ticks\":\"\"}},\"ternary\":{\"bgcolor\":\"#E5ECF6\",\"aaxis\":{\"gridcolor\":\"white\",\"linecolor\":\"white\",\"ticks\":\"\"},\"baxis\":{\"gridcolor\":\"white\",\"linecolor\":\"white\",\"ticks\":\"\"},\"caxis\":{\"gridcolor\":\"white\",\"linecolor\":\"white\",\"ticks\":\"\"}},\"coloraxis\":{\"colorbar\":{\"outlinewidth\":0,\"ticks\":\"\"}},\"colorscale\":{\"sequential\":[[0.0,\"#0d0887\"],[0.1111111111111111,\"#46039f\"],[0.2222222222222222,\"#7201a8\"],[0.3333333333333333,\"#9c179e\"],[0.4444444444444444,\"#bd3786\"],[0.5555555555555556,\"#d8576b\"],[0.6666666666666666,\"#ed7953\"],[0.7777777777777778,\"#fb9f3a\"],[0.8888888888888888,\"#fdca26\"],[1.0,\"#f0f921\"]],\"sequentialminus\":[[0.0,\"#0d0887\"],[0.1111111111111111,\"#46039f\"],[0.2222222222222222,\"#7201a8\"],[0.3333333333333333,\"#9c179e\"],[0.4444444444444444,\"#bd3786\"],[0.5555555555555556,\"#d8576b\"],[0.6666666666666666,\"#ed7953\"],[0.7777777777777778,\"#fb9f3a\"],[0.8888888888888888,\"#fdca26\"],[1.0,\"#f0f921\"]],\"diverging\":[[0,\"#8e0152\"],[0.1,\"#c51b7d\"],[0.2,\"#de77ae\"],[0.3,\"#f1b6da\"],[0.4,\"#fde0ef\"],[0.5,\"#f7f7f7\"],[0.6,\"#e6f5d0\"],[0.7,\"#b8e186\"],[0.8,\"#7fbc41\"],[0.9,\"#4d9221\"],[1,\"#276419\"]]},\"xaxis\":{\"gridcolor\":\"white\",\"linecolor\":\"white\",\"ticks\":\"\",\"title\":{\"standoff\":15},\"zerolinecolor\":\"white\",\"automargin\":true,\"zerolinewidth\":2},\"yaxis\":{\"gridcolor\":\"white\",\"linecolor\":\"white\",\"ticks\":\"\",\"title\":{\"standoff\":15},\"zerolinecolor\":\"white\",\"automargin\":true,\"zerolinewidth\":2},\"scene\":{\"xaxis\":{\"backgroundcolor\":\"#E5ECF6\",\"gridcolor\":\"white\",\"linecolor\":\"white\",\"showbackground\":true,\"ticks\":\"\",\"zerolinecolor\":\"white\",\"gridwidth\":2},\"yaxis\":{\"backgroundcolor\":\"#E5ECF6\",\"gridcolor\":\"white\",\"linecolor\":\"white\",\"showbackground\":true,\"ticks\":\"\",\"zerolinecolor\":\"white\",\"gridwidth\":2},\"zaxis\":{\"backgroundcolor\":\"#E5ECF6\",\"gridcolor\":\"white\",\"linecolor\":\"white\",\"showbackground\":true,\"ticks\":\"\",\"zerolinecolor\":\"white\",\"gridwidth\":2}},\"shapedefaults\":{\"line\":{\"color\":\"#2a3f5f\"}},\"annotationdefaults\":{\"arrowcolor\":\"#2a3f5f\",\"arrowhead\":0,\"arrowwidth\":1},\"geo\":{\"bgcolor\":\"white\",\"landcolor\":\"#E5ECF6\",\"subunitcolor\":\"white\",\"showland\":true,\"showlakes\":true,\"lakecolor\":\"white\"},\"title\":{\"x\":0.05},\"mapbox\":{\"style\":\"light\"}}},\"title\":{\"text\":\"Heat wave occurence in Zilina by year for period 1971-2000 and (2011-2040 rcp8.5)\",\"x\":0.5},\"legend\":{\"x\":0,\"y\":1,\"traceorder\":\"normal\",\"orientation\":\"h\"},\"xaxis\":{\"title\":{\"text\":\"Year\"}},\"yaxis\":{\"title\":{\"text\":\"Number of heat wave occurrences\"}},\"showlegend\":true,\"barmode\":\"stack\"},                        {\"responsive\": true}                    ).then(function(){\n",
       "                            \n",
       "var gd = document.getElementById('02ea16f9-eb50-44a5-90e0-ceab7b41c2b3');\n",
       "var x = new MutationObserver(function (mutations, observer) {{\n",
       "        var display = window.getComputedStyle(gd).display;\n",
       "        if (!display || display === 'none') {{\n",
       "            console.log([gd, 'removed!']);\n",
       "            Plotly.purge(gd);\n",
       "            observer.disconnect();\n",
       "        }}\n",
       "}});\n",
       "\n",
       "// Listen for the removal of the full notebook cells\n",
       "var notebookContainer = gd.closest('#notebook-container');\n",
       "if (notebookContainer) {{\n",
       "    x.observe(notebookContainer, {childList: true});\n",
       "}}\n",
       "\n",
       "// Listen for the clearing of the current output cell\n",
       "var outputEl = gd.closest('.output');\n",
       "if (outputEl) {{\n",
       "    x.observe(outputEl, {childList: true});\n",
       "}}\n",
       "\n",
       "                        })                };                });            </script>        </div>"
      ]
     },
     "metadata": {},
     "output_type": "display_data"
    }
   ],
   "source": [
    "# merge past and future\n",
    "b=pd.concat([HWyhser,HWyp1ser], axis=0)\n",
    "# This is x and y of the regression line\n",
    "bar = b\n",
    "yearh=list(range(1971, 2001))\n",
    "yearp1=list(range(2011, 2041))\n",
    "g=yearh+yearp1\n",
    "year = g\n",
    "#Creating a data frame out of series\n",
    "df = pd.DataFrame({'year': year,'bar': bar})\n",
    "x = df['year'].astype(int).values.reshape(-1, 1)\n",
    "y = df['bar'].values\n",
    "# Calling a function for linear regression\n",
    "model = LinearRegression()\n",
    "model.fit(x, y)\n",
    "y_pred = model.predict(x)\n",
    "fig = go.Figure()\n",
    "#Adding a shape of graph\n",
    "fig.add_trace(go.Bar(x=df['year'], y=df['bar'], name='1971-2000 (rcp8.5)'))\n",
    "fig.add_trace(go.Scatter(x=df['year'], y=y_pred, mode='lines', name='Trend Line', line=dict(color='red')))\n",
    "# Adding a description of graph\n",
    "fig.update_layout(title='Heat wave occurence in Zilina by year for period 1971-2000 and (2011-2040 rcp8.5)', title_x = 0.5,\n",
    "                  xaxis_title='Year',\n",
    "                  yaxis_title='Number of heat wave occurrences',\n",
    "                  showlegend=True,\n",
    "                  legend=dict(x=0, y=1, traceorder='normal', orientation='h'),\n",
    "                  barmode='stack')\n",
    "fig.show()"
   ]
  }
 ],
 "metadata": {
  "kernelspec": {
   "display_name": "Python 3 (ipykernel)",
   "language": "python",
   "name": "python3"
  },
  "language_info": {
   "codemirror_mode": {
    "name": "ipython",
    "version": 3
   },
   "file_extension": ".py",
   "mimetype": "text/x-python",
   "name": "python",
   "nbconvert_exporter": "python",
   "pygments_lexer": "ipython3",
   "version": "3.11.7"
  }
 },
 "nbformat": 4,
 "nbformat_minor": 5
}
