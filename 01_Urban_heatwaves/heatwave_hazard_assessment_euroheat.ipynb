{
 "cells": [
  {
   "cell_type": "markdown",
   "id": "66cd5d38-1e96-43a0-802e-1bc31e97737c",
   "metadata": {},
   "source": [
    "# Heatwave hazard assessment using EuroHEAT methodology\n",
    "\n",
    "- A workflow from the CLIMAAX [Handbook](https://handbook.climaax.eu/) and [HEATWAVES](https://github.com/CLIMAAX/HEATWAVES) GitHub repository.\n",
    "- See our [how to use risk workflows](https://handbook.climaax.eu/notebooks/workflows_how_to.html) page for information on how to run this notebook."
   ]
  },
  {
   "cell_type": "markdown",
   "id": "eb0d77a0-683b-462b-82e5-bed19689ebbb",
   "metadata": {},
   "source": [
    "## Description of the assessment"
   ]
  },
  {
   "cell_type": "markdown",
   "id": "5b20de6a-e50c-48e0-88e3-e3fbc6895595",
   "metadata": {},
   "source": [
    "### Heatwave based on the EuroHEAT project approach"
   ]
  },
  {
   "cell_type": "markdown",
   "id": "db47b670-7787-4523-803f-a00da6602d22",
   "metadata": {},
   "source": [
    "The heatwave hazard assessment presented in this page is directly based on an existing [dataset of heat wave days on CDS](https://cds.climate.copernicus.eu/datasets/sis-heat-and-cold-spells?tab=overview). You can also view these results directly on the CDS using an [application](https://cds.climate.copernicus.eu/cdsapp#!/software/app-health-heat-waves-projections?tab=app) that shows aggregated results for the NUTS3 administrative regions. This notebook provides an example on how to extract this data for any grid cell of the dataset (resolution of 12 x 12km) in the EU.\n",
    "\n",
    "<figure class=\"align-center\">\n",
    "  <iframe width=\"560\" height=\"315\" src=\"https://www.youtube-nocookie.com/embed/_GGFbEtiYBU?si=PFC88WRs_mW0e4ny\" title=\"YouTube video player\" frameborder=\"0\" allow=\"accelerometer; autoplay; clipboard-write; encrypted-media; gyroscope; picture-in-picture; web-share\" referrerpolicy=\"strict-origin-when-cross-origin\" allowfullscreen></iframe>\n",
    "</figure>\n",
    "\n",
    "Methodology is based on the EuroHEAT project ([source](https://confluence.ecmwf.int/display/CKB/Heat+waves+and+cold+spells+in+Europe+derived+from+climate+projections+documentation)) with two options for defining heatwaves:\n",
    " - **Health-related EU-wide definition:** for the summer period of June to August, heat waves were defined as days in which the maximum apparent temperature (Tappmax) exceeds the threshold (90th percentile of Tappmax for each month) and the minimum temperature (Tmin) exceeds its threshold (90th percentile of Tmin for each month) for at least two days. The apparent temperature is a measure of relative discomfort due to combined heat and high humidity, developed based on physiological studies on evaporative skin cooling. It can be calculated as a combination of air and dew point temperature.\n",
    "-  **National heat-wave definition**: each nation uses a different methodology e.g. for Belgium, a heatwave-day is a day on which both the three-day running daily minimum and maximum temperature exceeds a threshold of 18.2 °C and 29.6 °C between April and September. This condition has to be met for three consecutive days. For this example, the source of the heat wave definition is the Belgian federal public health agency. See [this page](https://confluence.ecmwf.int/display/CKB/Heat+waves+and+cold+spells+in+Europe+derived+from+climate+projections+documentation) for more national definitions.\n",
    "\n",
    "**Advantages of using this methodology and dataset:**\n",
    "- Pre-computed indicators - less data that needs to be downloaded and processed (in comparison with the Peseta-IV and Xclim hazard workflows). \n",
    "- Data available on a 12x12km grid for years 1986-2085 for the whole EU.\n",
    "- The heatwave definition is based on both maximum and minimum daily temperatures, so it accounts for the effect of minimum temperature on the severity of a heat wave (e.g. when temperature significantly drops during the nights thus making the heatwave less severe).\n",
    "  \n",
    "**Disadvantages:**\n",
    "- No possibility of changing thresholds for temperature and number of days in the heatwave definition.\n",
    "- Only contains values aggregated per year.\n",
    "- National heat wave definitions are not available for all EU states (only a selection). "
   ]
  },
  {
   "cell_type": "markdown",
   "id": "e8807817-b472-4d82-9c18-39aa1570b01e",
   "metadata": {},
   "source": [
    "## Step 1. Preparation work"
   ]
  },
  {
   "cell_type": "markdown",
   "id": "ab3b4a3c-28e6-4f21-8999-c98904083dd5",
   "metadata": {},
   "source": [
    "### Import packages"
   ]
  },
  {
   "cell_type": "markdown",
   "id": "c3a4731a-c4ca-4eb7-a1f9-d44628123876",
   "metadata": {},
   "source": [
    ":::{admonition} Find out more about the libraries used in this workflow:\n",
    ":class: hint dropdown\n",
    "* [zipfile](https://docs.python.org/3/library/zipfile.html) - Provides tools for creating, reading, writing, and extracting ZIP files.\n",
    "* [os](https://docs.python.org/3/library/os.html) - Provides functions for interacting with the operating system, such as file and directory manipulation.\n",
    "* [cdsapi](https://cds.climate.copernicus.eu/how-to-api) - A library to request data from the datasets listed in the CDS catalogue.\n",
    "* [numpy](https://numpy.org/doc/stable/) - A powerful library for numerical computations in Python, widely used for array operations and mathematical functions.\n",
    "* [xarray](https://docs.xarray.dev/en/stable/) - Introduces labels in the form of dimensions, coordinates, and attributes on top of raw NumPy-like arrays for a more intuitive experience.\n",
    "* [rasterio](https://rasterio.readthedocs.io/en/latest/) - A library for reading and writing geospatial raster data.\n",
    "* [plotly](https://plotly.com/) - A Python Graphing Library.\n",
    "* [ipyleaflet](https://ipyleaflet.readthedocs.io/en/stable/) - Enables interactive maps in Jupyter notebooks using the Leaflet.js library.\n",
    "* [ipywidgets](https://ipywidgets.readthedocs.io/en/stable/) - Provides interactive HTML widgets for Jupyter notebooks.\n",
    "* [localtileserver](https://localtileserver.readthedocs.io/en/latest/) - Serves local raster tiles for visualization n Leaflet maps.\n"
   ]
  },
  {
   "cell_type": "code",
   "execution_count": 1,
   "id": "8ed05ac2-988a-48e4-8e95-9de9879a57fd",
   "metadata": {},
   "outputs": [],
   "source": [
    "import os\n",
    "import zipfile\n",
    "\n",
    "import cdsapi\n",
    "import numpy as np\n",
    "import xarray as xr\n",
    "import plotly.graph_objects as go\n",
    "from ipyleaflet import Map, DrawControl, Marker, LayersControl\n",
    "import ipywidgets as widgets\n",
    "from localtileserver import get_leaflet_tile_layer, TileClient\n",
    "from IPython.display import display"
   ]
  },
  {
   "cell_type": "code",
   "execution_count": 2,
   "id": "54953264-bc3c-48e3-accf-ed3ddfa65a8e",
   "metadata": {},
   "outputs": [],
   "source": [
    "# Set host forwarding for remote jupyterlab sessions\n",
    "if 'JUPYTERHUB_SERVICE_PREFIX' in os.environ:\n",
    "    os.environ['LOCALTILESERVER_CLIENT_PREFIX'] = f\"{os.environ['JUPYTERHUB_SERVICE_PREFIX']}/proxy/{{port}}\""
   ]
  },
  {
   "cell_type": "markdown",
   "id": "cdfaccfc-ac2e-40e3-989a-c0a30b001689",
   "metadata": {},
   "source": [
    "### Create a directory structure"
   ]
  },
  {
   "cell_type": "code",
   "execution_count": 3,
   "id": "bad1ecb3-8f4e-4de7-9476-8a2ddb02b084",
   "metadata": {},
   "outputs": [],
   "source": [
    "# Define the directory for storing data\n",
    "workflow_folder = 'Heatwave_hazard_EuroHEAT'\n",
    "\n",
    "# Define directories for data and results within the previously defined workflow directory\n",
    "data_dir = os.path.join(workflow_folder,'data')\n",
    "results_dir = os.path.join(workflow_folder,'results')\n",
    "\n",
    "# Check if the workflow directory exists, if not, create it along with subdirectories for data and results\n",
    "if not os.path.exists(workflow_folder):\n",
    "    os.makedirs(workflow_folder)\n",
    "    os.makedirs(os.path.join(data_dir))\n",
    "    os.makedirs(os.path.join(results_dir))"
   ]
  },
  {
   "cell_type": "markdown",
   "id": "9cb758d6-3098-4ac4-b807-5864d4848e25",
   "metadata": {},
   "source": [
    "## Step 2: Retrieving data on heat wave occurence"
   ]
  },
  {
   "cell_type": "markdown",
   "id": "f250b360-8a07-4526-a8cc-10dca0fa6f7e",
   "metadata": {},
   "source": [
    "### Download data from the CDS"
   ]
  },
  {
   "cell_type": "markdown",
   "id": "5e3a7fa3-3ff4-4963-890a-2daf2b5872c4",
   "metadata": {},
   "source": [
    "- You can download data from the CDS with the API. If this is the first time you do this, you will need to register on CDS and set your API key. Check [[How to change your API KEY](https://cds.climate.copernicus.eu/how-to-api)] and change the KEY in the code cell below.\n"
   ]
  },
  {
   "cell_type": "code",
   "execution_count": 4,
   "id": "6ebbcef3-1dd9-4b02-8d61-7527e050e908",
   "metadata": {},
   "outputs": [],
   "source": [
    "URL = \"https://cds.climate.copernicus.eu/api\"\n",
    "KEY = None # put here your key!\n",
    "\n",
    "c = cdsapi.Client(url=URL, key=KEY)"
   ]
  },
  {
   "cell_type": "markdown",
   "id": "64a27fb8-8937-4a9a-8c66-1791087df74b",
   "metadata": {},
   "source": [
    "#### Downloading the health-related dataset from EuroHEAT [[source](https://cds.climate.copernicus.eu/datasets/sis-heat-and-cold-spells?tab=download)]"
   ]
  },
  {
   "cell_type": "code",
   "execution_count": 5,
   "id": "b69ea094-82ac-4cb7-8a04-95fd509ef4ca",
   "metadata": {},
   "outputs": [],
   "source": [
    "# Define zip file's absolute path\n",
    "zip_path = os.path.join(data_dir, 'heat_spells_health_1986_2085.zip')\n",
    "\n",
    "# Heat waves and cold spells in Europe derived from climate projections\n",
    "c.retrieve(\n",
    "    'sis-heat-and-cold-spells',\n",
    "    {\n",
    "        'variable': 'heat_wave_days',\n",
    "        'definition': 'health_related',\n",
    "        'experiment': [\n",
    "            'rcp4_5', 'rcp8_5',\n",
    "        ],\n",
    "        'ensemble_statistic': [\n",
    "            'ensemble_members_average', 'ensemble_members_standard_deviation',\n",
    "        ],\n",
    "        'format': 'zip',\n",
    "    },\n",
    "    zip_path)\n",
    "\n",
    "# Unzip the downloaded files so they are ready for computing \n",
    "with zipfile.ZipFile(zip_path, 'r') as zObject:\n",
    "    zObject.extractall(path=data_dir)\n",
    "\n",
    "# Remove the downloaded zip file after unpacking\n",
    "os.remove(zip_path)"
   ]
  },
  {
   "cell_type": "markdown",
   "id": "92af4728-991a-4672-8b1c-b9113cc4c21d",
   "metadata": {},
   "source": [
    "#### Heat wave data based on National definitions from EuroHEAT [[source](https://cds.climate.copernicus.eu/datasets/sis-heat-and-cold-spells?tab=download)]"
   ]
  },
  {
   "cell_type": "code",
   "execution_count": 6,
   "id": "6fdbf730-a95e-4c8a-aa4a-c0b6e84becc3",
   "metadata": {},
   "outputs": [],
   "source": [
    "# Define zip file's absolute path\n",
    "zip_path = os.path.join(data_dir, 'heat_spells_country_1986_2085.zip')\n",
    "\n",
    "# Heat waves and cold spells in Europe derived from climate projections\n",
    "c.retrieve(\n",
    "    'sis-heat-and-cold-spells',\n",
    "    {\n",
    "        'variable': 'heat_wave_days',\n",
    "        'definition': 'country_related',\n",
    "        'experiment': [\n",
    "            'rcp4_5', 'rcp8_5',\n",
    "        ],\n",
    "        'ensemble_statistic': [\n",
    "            'ensemble_members_average', 'ensemble_members_standard_deviation',\n",
    "        ],\n",
    "        'format': 'zip',\n",
    "    },\n",
    "    zip_path)\n",
    "\n",
    "# Unzip the downloaded files so they are ready for computing \n",
    "with zipfile.ZipFile(zip_path, 'r') as zObject:\n",
    "    zObject.extractall(path=data_dir)\n",
    "\n",
    "# Remove the downloaded zip file after unpacking\n",
    "os.remove(zip_path)"
   ]
  },
  {
   "cell_type": "markdown",
   "id": "797a173c",
   "metadata": {},
   "source": [
    "## Plotting the data"
   ]
  },
  {
   "cell_type": "markdown",
   "id": "b781f542-f9f4-491c-a36d-6fccde12b67d",
   "metadata": {},
   "source": [
    "### Prepare data for plotting"
   ]
  },
  {
   "cell_type": "markdown",
   "id": "e1ee94f7-0778-452f-961c-9757cf9eddd7",
   "metadata": {},
   "source": [
    "- In this step we prepare the data for plotting. Plotting will later be done for a selected pixel on the EU map. "
   ]
  },
  {
   "cell_type": "code",
   "execution_count": 7,
   "id": "8c95d239-6aec-416a-8f49-267ba0c22c83",
   "metadata": {},
   "outputs": [
    {
     "data": {
      "text/html": [
       "<div><svg style=\"position: absolute; width: 0; height: 0; overflow: hidden\">\n",
       "<defs>\n",
       "<symbol id=\"icon-database\" viewBox=\"0 0 32 32\">\n",
       "<path d=\"M16 0c-8.837 0-16 2.239-16 5v4c0 2.761 7.163 5 16 5s16-2.239 16-5v-4c0-2.761-7.163-5-16-5z\"></path>\n",
       "<path d=\"M16 17c-8.837 0-16-2.239-16-5v6c0 2.761 7.163 5 16 5s16-2.239 16-5v-6c0 2.761-7.163 5-16 5z\"></path>\n",
       "<path d=\"M16 26c-8.837 0-16-2.239-16-5v6c0 2.761 7.163 5 16 5s16-2.239 16-5v-6c0 2.761-7.163 5-16 5z\"></path>\n",
       "</symbol>\n",
       "<symbol id=\"icon-file-text2\" viewBox=\"0 0 32 32\">\n",
       "<path d=\"M28.681 7.159c-0.694-0.947-1.662-2.053-2.724-3.116s-2.169-2.030-3.116-2.724c-1.612-1.182-2.393-1.319-2.841-1.319h-15.5c-1.378 0-2.5 1.121-2.5 2.5v27c0 1.378 1.122 2.5 2.5 2.5h23c1.378 0 2.5-1.122 2.5-2.5v-19.5c0-0.448-0.137-1.23-1.319-2.841zM24.543 5.457c0.959 0.959 1.712 1.825 2.268 2.543h-4.811v-4.811c0.718 0.556 1.584 1.309 2.543 2.268zM28 29.5c0 0.271-0.229 0.5-0.5 0.5h-23c-0.271 0-0.5-0.229-0.5-0.5v-27c0-0.271 0.229-0.5 0.5-0.5 0 0 15.499-0 15.5 0v7c0 0.552 0.448 1 1 1h7v19.5z\"></path>\n",
       "<path d=\"M23 26h-14c-0.552 0-1-0.448-1-1s0.448-1 1-1h14c0.552 0 1 0.448 1 1s-0.448 1-1 1z\"></path>\n",
       "<path d=\"M23 22h-14c-0.552 0-1-0.448-1-1s0.448-1 1-1h14c0.552 0 1 0.448 1 1s-0.448 1-1 1z\"></path>\n",
       "<path d=\"M23 18h-14c-0.552 0-1-0.448-1-1s0.448-1 1-1h14c0.552 0 1 0.448 1 1s-0.448 1-1 1z\"></path>\n",
       "</symbol>\n",
       "</defs>\n",
       "</svg>\n",
       "<style>/* CSS stylesheet for displaying xarray objects in jupyterlab.\n",
       " *\n",
       " */\n",
       "\n",
       ":root {\n",
       "  --xr-font-color0: var(--jp-content-font-color0, rgba(0, 0, 0, 1));\n",
       "  --xr-font-color2: var(--jp-content-font-color2, rgba(0, 0, 0, 0.54));\n",
       "  --xr-font-color3: var(--jp-content-font-color3, rgba(0, 0, 0, 0.38));\n",
       "  --xr-border-color: var(--jp-border-color2, #e0e0e0);\n",
       "  --xr-disabled-color: var(--jp-layout-color3, #bdbdbd);\n",
       "  --xr-background-color: var(--jp-layout-color0, white);\n",
       "  --xr-background-color-row-even: var(--jp-layout-color1, white);\n",
       "  --xr-background-color-row-odd: var(--jp-layout-color2, #eeeeee);\n",
       "}\n",
       "\n",
       "html[theme=dark],\n",
       "body[data-theme=dark],\n",
       "body.vscode-dark {\n",
       "  --xr-font-color0: rgba(255, 255, 255, 1);\n",
       "  --xr-font-color2: rgba(255, 255, 255, 0.54);\n",
       "  --xr-font-color3: rgba(255, 255, 255, 0.38);\n",
       "  --xr-border-color: #1F1F1F;\n",
       "  --xr-disabled-color: #515151;\n",
       "  --xr-background-color: #111111;\n",
       "  --xr-background-color-row-even: #111111;\n",
       "  --xr-background-color-row-odd: #313131;\n",
       "}\n",
       "\n",
       ".xr-wrap {\n",
       "  display: block !important;\n",
       "  min-width: 300px;\n",
       "  max-width: 700px;\n",
       "}\n",
       "\n",
       ".xr-text-repr-fallback {\n",
       "  /* fallback to plain text repr when CSS is not injected (untrusted notebook) */\n",
       "  display: none;\n",
       "}\n",
       "\n",
       ".xr-header {\n",
       "  padding-top: 6px;\n",
       "  padding-bottom: 6px;\n",
       "  margin-bottom: 4px;\n",
       "  border-bottom: solid 1px var(--xr-border-color);\n",
       "}\n",
       "\n",
       ".xr-header > div,\n",
       ".xr-header > ul {\n",
       "  display: inline;\n",
       "  margin-top: 0;\n",
       "  margin-bottom: 0;\n",
       "}\n",
       "\n",
       ".xr-obj-type,\n",
       ".xr-array-name {\n",
       "  margin-left: 2px;\n",
       "  margin-right: 10px;\n",
       "}\n",
       "\n",
       ".xr-obj-type {\n",
       "  color: var(--xr-font-color2);\n",
       "}\n",
       "\n",
       ".xr-sections {\n",
       "  padding-left: 0 !important;\n",
       "  display: grid;\n",
       "  grid-template-columns: 150px auto auto 1fr 20px 20px;\n",
       "}\n",
       "\n",
       ".xr-section-item {\n",
       "  display: contents;\n",
       "}\n",
       "\n",
       ".xr-section-item input {\n",
       "  display: none;\n",
       "}\n",
       "\n",
       ".xr-section-item input + label {\n",
       "  color: var(--xr-disabled-color);\n",
       "}\n",
       "\n",
       ".xr-section-item input:enabled + label {\n",
       "  cursor: pointer;\n",
       "  color: var(--xr-font-color2);\n",
       "}\n",
       "\n",
       ".xr-section-item input:enabled + label:hover {\n",
       "  color: var(--xr-font-color0);\n",
       "}\n",
       "\n",
       ".xr-section-summary {\n",
       "  grid-column: 1;\n",
       "  color: var(--xr-font-color2);\n",
       "  font-weight: 500;\n",
       "}\n",
       "\n",
       ".xr-section-summary > span {\n",
       "  display: inline-block;\n",
       "  padding-left: 0.5em;\n",
       "}\n",
       "\n",
       ".xr-section-summary-in:disabled + label {\n",
       "  color: var(--xr-font-color2);\n",
       "}\n",
       "\n",
       ".xr-section-summary-in + label:before {\n",
       "  display: inline-block;\n",
       "  content: '►';\n",
       "  font-size: 11px;\n",
       "  width: 15px;\n",
       "  text-align: center;\n",
       "}\n",
       "\n",
       ".xr-section-summary-in:disabled + label:before {\n",
       "  color: var(--xr-disabled-color);\n",
       "}\n",
       "\n",
       ".xr-section-summary-in:checked + label:before {\n",
       "  content: '▼';\n",
       "}\n",
       "\n",
       ".xr-section-summary-in:checked + label > span {\n",
       "  display: none;\n",
       "}\n",
       "\n",
       ".xr-section-summary,\n",
       ".xr-section-inline-details {\n",
       "  padding-top: 4px;\n",
       "  padding-bottom: 4px;\n",
       "}\n",
       "\n",
       ".xr-section-inline-details {\n",
       "  grid-column: 2 / -1;\n",
       "}\n",
       "\n",
       ".xr-section-details {\n",
       "  display: none;\n",
       "  grid-column: 1 / -1;\n",
       "  margin-bottom: 5px;\n",
       "}\n",
       "\n",
       ".xr-section-summary-in:checked ~ .xr-section-details {\n",
       "  display: contents;\n",
       "}\n",
       "\n",
       ".xr-array-wrap {\n",
       "  grid-column: 1 / -1;\n",
       "  display: grid;\n",
       "  grid-template-columns: 20px auto;\n",
       "}\n",
       "\n",
       ".xr-array-wrap > label {\n",
       "  grid-column: 1;\n",
       "  vertical-align: top;\n",
       "}\n",
       "\n",
       ".xr-preview {\n",
       "  color: var(--xr-font-color3);\n",
       "}\n",
       "\n",
       ".xr-array-preview,\n",
       ".xr-array-data {\n",
       "  padding: 0 5px !important;\n",
       "  grid-column: 2;\n",
       "}\n",
       "\n",
       ".xr-array-data,\n",
       ".xr-array-in:checked ~ .xr-array-preview {\n",
       "  display: none;\n",
       "}\n",
       "\n",
       ".xr-array-in:checked ~ .xr-array-data,\n",
       ".xr-array-preview {\n",
       "  display: inline-block;\n",
       "}\n",
       "\n",
       ".xr-dim-list {\n",
       "  display: inline-block !important;\n",
       "  list-style: none;\n",
       "  padding: 0 !important;\n",
       "  margin: 0;\n",
       "}\n",
       "\n",
       ".xr-dim-list li {\n",
       "  display: inline-block;\n",
       "  padding: 0;\n",
       "  margin: 0;\n",
       "}\n",
       "\n",
       ".xr-dim-list:before {\n",
       "  content: '(';\n",
       "}\n",
       "\n",
       ".xr-dim-list:after {\n",
       "  content: ')';\n",
       "}\n",
       "\n",
       ".xr-dim-list li:not(:last-child):after {\n",
       "  content: ',';\n",
       "  padding-right: 5px;\n",
       "}\n",
       "\n",
       ".xr-has-index {\n",
       "  font-weight: bold;\n",
       "}\n",
       "\n",
       ".xr-var-list,\n",
       ".xr-var-item {\n",
       "  display: contents;\n",
       "}\n",
       "\n",
       ".xr-var-item > div,\n",
       ".xr-var-item label,\n",
       ".xr-var-item > .xr-var-name span {\n",
       "  background-color: var(--xr-background-color-row-even);\n",
       "  margin-bottom: 0;\n",
       "}\n",
       "\n",
       ".xr-var-item > .xr-var-name:hover span {\n",
       "  padding-right: 5px;\n",
       "}\n",
       "\n",
       ".xr-var-list > li:nth-child(odd) > div,\n",
       ".xr-var-list > li:nth-child(odd) > label,\n",
       ".xr-var-list > li:nth-child(odd) > .xr-var-name span {\n",
       "  background-color: var(--xr-background-color-row-odd);\n",
       "}\n",
       "\n",
       ".xr-var-name {\n",
       "  grid-column: 1;\n",
       "}\n",
       "\n",
       ".xr-var-dims {\n",
       "  grid-column: 2;\n",
       "}\n",
       "\n",
       ".xr-var-dtype {\n",
       "  grid-column: 3;\n",
       "  text-align: right;\n",
       "  color: var(--xr-font-color2);\n",
       "}\n",
       "\n",
       ".xr-var-preview {\n",
       "  grid-column: 4;\n",
       "}\n",
       "\n",
       ".xr-index-preview {\n",
       "  grid-column: 2 / 5;\n",
       "  color: var(--xr-font-color2);\n",
       "}\n",
       "\n",
       ".xr-var-name,\n",
       ".xr-var-dims,\n",
       ".xr-var-dtype,\n",
       ".xr-preview,\n",
       ".xr-attrs dt {\n",
       "  white-space: nowrap;\n",
       "  overflow: hidden;\n",
       "  text-overflow: ellipsis;\n",
       "  padding-right: 10px;\n",
       "}\n",
       "\n",
       ".xr-var-name:hover,\n",
       ".xr-var-dims:hover,\n",
       ".xr-var-dtype:hover,\n",
       ".xr-attrs dt:hover {\n",
       "  overflow: visible;\n",
       "  width: auto;\n",
       "  z-index: 1;\n",
       "}\n",
       "\n",
       ".xr-var-attrs,\n",
       ".xr-var-data,\n",
       ".xr-index-data {\n",
       "  display: none;\n",
       "  background-color: var(--xr-background-color) !important;\n",
       "  padding-bottom: 5px !important;\n",
       "}\n",
       "\n",
       ".xr-var-attrs-in:checked ~ .xr-var-attrs,\n",
       ".xr-var-data-in:checked ~ .xr-var-data,\n",
       ".xr-index-data-in:checked ~ .xr-index-data {\n",
       "  display: block;\n",
       "}\n",
       "\n",
       ".xr-var-data > table {\n",
       "  float: right;\n",
       "}\n",
       "\n",
       ".xr-var-name span,\n",
       ".xr-var-data,\n",
       ".xr-index-name div,\n",
       ".xr-index-data,\n",
       ".xr-attrs {\n",
       "  padding-left: 25px !important;\n",
       "}\n",
       "\n",
       ".xr-attrs,\n",
       ".xr-var-attrs,\n",
       ".xr-var-data,\n",
       ".xr-index-data {\n",
       "  grid-column: 1 / -1;\n",
       "}\n",
       "\n",
       "dl.xr-attrs {\n",
       "  padding: 0;\n",
       "  margin: 0;\n",
       "  display: grid;\n",
       "  grid-template-columns: 125px auto;\n",
       "}\n",
       "\n",
       ".xr-attrs dt,\n",
       ".xr-attrs dd {\n",
       "  padding: 0;\n",
       "  margin: 0;\n",
       "  float: left;\n",
       "  padding-right: 10px;\n",
       "  width: auto;\n",
       "}\n",
       "\n",
       ".xr-attrs dt {\n",
       "  font-weight: normal;\n",
       "  grid-column: 1;\n",
       "}\n",
       "\n",
       ".xr-attrs dt:hover span {\n",
       "  display: inline-block;\n",
       "  background: var(--xr-background-color);\n",
       "  padding-right: 10px;\n",
       "}\n",
       "\n",
       ".xr-attrs dd {\n",
       "  grid-column: 2;\n",
       "  white-space: pre-wrap;\n",
       "  word-break: break-all;\n",
       "}\n",
       "\n",
       ".xr-icon-database,\n",
       ".xr-icon-file-text2,\n",
       ".xr-no-icon {\n",
       "  display: inline-block;\n",
       "  vertical-align: middle;\n",
       "  width: 1em;\n",
       "  height: 1.5em !important;\n",
       "  stroke-width: 0;\n",
       "  stroke: currentColor;\n",
       "  fill: currentColor;\n",
       "}\n",
       "</style><pre class='xr-text-repr-fallback'>&lt;xarray.Dataset&gt; Size: 102MB\n",
       "Dimensions:      (lat: 425, lon: 599, time: 100)\n",
       "Coordinates:\n",
       "    height       float64 8B ...\n",
       "  * lat          (lat) float64 3kB 30.1 30.2 30.3 30.4 ... 72.2 72.3 72.4 72.5\n",
       "  * lon          (lon) float64 5kB -24.9 -24.8 -24.7 -24.6 ... 34.7 34.8 34.9\n",
       "  * time         (time) datetime64[ns] 800B 1986-01-01 1987-01-01 ... 2085-01-01\n",
       "    spatial_ref  int32 4B 0\n",
       "Data variables:\n",
       "    HWD_merged   (time, lat, lon) float32 102MB ...\n",
       "Attributes:\n",
       "    title:          Processed EURO-CORDEX future climate data for the health ...\n",
       "    conventions:    CF-1.6\n",
       "    project:        Copernicus Climate Change Service Sectoral Information Sy...\n",
       "    source:         Processing of bias-corrected EURO-CORDEX data by VITO\n",
       "    contact:        bd_rma@vito.be\n",
       "    creation_date:  Thu May  9 14:08:15 2019\n",
       "    institution:    VITO (https://vito.be/en)\n",
       "    history:        Mon Jul 15 13:48:58 2019: ncatted -O -a units,HWD_merged,...\n",
       "    NCO:            netCDF Operators version 4.7.5 (Homepage = http://nco.sf....</pre><div class='xr-wrap' style='display:none'><div class='xr-header'><div class='xr-obj-type'>xarray.Dataset</div></div><ul class='xr-sections'><li class='xr-section-item'><input id='section-765240da-f75a-4a7a-913d-9ddaf05d8fa4' class='xr-section-summary-in' type='checkbox' disabled ><label for='section-765240da-f75a-4a7a-913d-9ddaf05d8fa4' class='xr-section-summary'  title='Expand/collapse section'>Dimensions:</label><div class='xr-section-inline-details'><ul class='xr-dim-list'><li><span class='xr-has-index'>lat</span>: 425</li><li><span class='xr-has-index'>lon</span>: 599</li><li><span class='xr-has-index'>time</span>: 100</li></ul></div><div class='xr-section-details'></div></li><li class='xr-section-item'><input id='section-555a275c-5ca4-4055-9c32-95777863ae8d' class='xr-section-summary-in' type='checkbox'  checked><label for='section-555a275c-5ca4-4055-9c32-95777863ae8d' class='xr-section-summary' >Coordinates: <span>(5)</span></label><div class='xr-section-inline-details'></div><div class='xr-section-details'><ul class='xr-var-list'><li class='xr-var-item'><div class='xr-var-name'><span>height</span></div><div class='xr-var-dims'>()</div><div class='xr-var-dtype'>float64</div><div class='xr-var-preview xr-preview'>...</div><input id='attrs-795924ba-c390-40d9-830a-e1c2169a36ac' class='xr-var-attrs-in' type='checkbox' ><label for='attrs-795924ba-c390-40d9-830a-e1c2169a36ac' title='Show/Hide attributes'><svg class='icon xr-icon-file-text2'><use xlink:href='#icon-file-text2'></use></svg></label><input id='data-1f1ea970-71f6-4787-a711-e8f7aa48c7d4' class='xr-var-data-in' type='checkbox'><label for='data-1f1ea970-71f6-4787-a711-e8f7aa48c7d4' title='Show/Hide data repr'><svg class='icon xr-icon-database'><use xlink:href='#icon-database'></use></svg></label><div class='xr-var-attrs'><dl class='xr-attrs'><dt><span>units :</span></dt><dd>m</dd><dt><span>axis :</span></dt><dd>Z</dd><dt><span>positive :</span></dt><dd>up</dd><dt><span>long_name :</span></dt><dd>height</dd><dt><span>standard_name :</span></dt><dd>height</dd></dl></div><div class='xr-var-data'><pre>[1 values with dtype=float64]</pre></div></li><li class='xr-var-item'><div class='xr-var-name'><span class='xr-has-index'>lat</span></div><div class='xr-var-dims'>(lat)</div><div class='xr-var-dtype'>float64</div><div class='xr-var-preview xr-preview'>30.1 30.2 30.3 ... 72.3 72.4 72.5</div><input id='attrs-205a0a62-9f10-499b-b0e9-cff35c120352' class='xr-var-attrs-in' type='checkbox' ><label for='attrs-205a0a62-9f10-499b-b0e9-cff35c120352' title='Show/Hide attributes'><svg class='icon xr-icon-file-text2'><use xlink:href='#icon-file-text2'></use></svg></label><input id='data-a8f80bf3-28d6-4770-91da-4d6dfad9daa2' class='xr-var-data-in' type='checkbox'><label for='data-a8f80bf3-28d6-4770-91da-4d6dfad9daa2' title='Show/Hide data repr'><svg class='icon xr-icon-database'><use xlink:href='#icon-database'></use></svg></label><div class='xr-var-attrs'><dl class='xr-attrs'><dt><span>units :</span></dt><dd>degrees_north</dd><dt><span>standard_name :</span></dt><dd>latitude</dd></dl></div><div class='xr-var-data'><pre>array([30.1, 30.2, 30.3, ..., 72.3, 72.4, 72.5])</pre></div></li><li class='xr-var-item'><div class='xr-var-name'><span class='xr-has-index'>lon</span></div><div class='xr-var-dims'>(lon)</div><div class='xr-var-dtype'>float64</div><div class='xr-var-preview xr-preview'>-24.9 -24.8 -24.7 ... 34.8 34.9</div><input id='attrs-2bfc7cf5-8969-480d-be34-9c833c1f0842' class='xr-var-attrs-in' type='checkbox' ><label for='attrs-2bfc7cf5-8969-480d-be34-9c833c1f0842' title='Show/Hide attributes'><svg class='icon xr-icon-file-text2'><use xlink:href='#icon-file-text2'></use></svg></label><input id='data-6a71b3e1-a5d3-4728-9c2b-c4f29bbbc461' class='xr-var-data-in' type='checkbox'><label for='data-6a71b3e1-a5d3-4728-9c2b-c4f29bbbc461' title='Show/Hide data repr'><svg class='icon xr-icon-database'><use xlink:href='#icon-database'></use></svg></label><div class='xr-var-attrs'><dl class='xr-attrs'><dt><span>units :</span></dt><dd>degrees_east</dd><dt><span>standard_name :</span></dt><dd>longitude</dd></dl></div><div class='xr-var-data'><pre>array([-24.9, -24.8, -24.7, ...,  34.7,  34.8,  34.9])</pre></div></li><li class='xr-var-item'><div class='xr-var-name'><span class='xr-has-index'>time</span></div><div class='xr-var-dims'>(time)</div><div class='xr-var-dtype'>datetime64[ns]</div><div class='xr-var-preview xr-preview'>1986-01-01 ... 2085-01-01</div><input id='attrs-c77a5dba-cd9b-44b6-be4e-4664e9ffe1b0' class='xr-var-attrs-in' type='checkbox' ><label for='attrs-c77a5dba-cd9b-44b6-be4e-4664e9ffe1b0' title='Show/Hide attributes'><svg class='icon xr-icon-file-text2'><use xlink:href='#icon-file-text2'></use></svg></label><input id='data-747dbac9-7e3b-4be9-b807-0f45522bcbe4' class='xr-var-data-in' type='checkbox'><label for='data-747dbac9-7e3b-4be9-b807-0f45522bcbe4' title='Show/Hide data repr'><svg class='icon xr-icon-database'><use xlink:href='#icon-database'></use></svg></label><div class='xr-var-attrs'><dl class='xr-attrs'><dt><span>standard_name :</span></dt><dd>time</dd></dl></div><div class='xr-var-data'><pre>array([&#x27;1986-01-01T00:00:00.000000000&#x27;, &#x27;1987-01-01T00:00:00.000000000&#x27;,\n",
       "       &#x27;1988-01-01T00:00:00.000000000&#x27;, &#x27;1989-01-01T00:00:00.000000000&#x27;,\n",
       "       &#x27;1990-01-01T00:00:00.000000000&#x27;, &#x27;1991-01-01T00:00:00.000000000&#x27;,\n",
       "       &#x27;1992-01-01T00:00:00.000000000&#x27;, &#x27;1993-01-01T00:00:00.000000000&#x27;,\n",
       "       &#x27;1994-01-01T00:00:00.000000000&#x27;, &#x27;1995-01-01T00:00:00.000000000&#x27;,\n",
       "       &#x27;1996-01-01T00:00:00.000000000&#x27;, &#x27;1997-01-01T00:00:00.000000000&#x27;,\n",
       "       &#x27;1998-01-01T00:00:00.000000000&#x27;, &#x27;1999-01-01T00:00:00.000000000&#x27;,\n",
       "       &#x27;2000-01-01T00:00:00.000000000&#x27;, &#x27;2001-01-01T00:00:00.000000000&#x27;,\n",
       "       &#x27;2002-01-01T00:00:00.000000000&#x27;, &#x27;2003-01-01T00:00:00.000000000&#x27;,\n",
       "       &#x27;2004-01-01T00:00:00.000000000&#x27;, &#x27;2005-01-01T00:00:00.000000000&#x27;,\n",
       "       &#x27;2006-01-01T00:00:00.000000000&#x27;, &#x27;2007-01-01T00:00:00.000000000&#x27;,\n",
       "       &#x27;2008-01-01T00:00:00.000000000&#x27;, &#x27;2009-01-01T00:00:00.000000000&#x27;,\n",
       "       &#x27;2010-01-01T00:00:00.000000000&#x27;, &#x27;2011-01-01T00:00:00.000000000&#x27;,\n",
       "       &#x27;2012-01-01T00:00:00.000000000&#x27;, &#x27;2013-01-01T00:00:00.000000000&#x27;,\n",
       "       &#x27;2014-01-01T00:00:00.000000000&#x27;, &#x27;2015-01-01T00:00:00.000000000&#x27;,\n",
       "       &#x27;2016-01-01T00:00:00.000000000&#x27;, &#x27;2017-01-01T00:00:00.000000000&#x27;,\n",
       "       &#x27;2018-01-01T00:00:00.000000000&#x27;, &#x27;2019-01-01T00:00:00.000000000&#x27;,\n",
       "       &#x27;2020-01-01T00:00:00.000000000&#x27;, &#x27;2021-01-01T00:00:00.000000000&#x27;,\n",
       "       &#x27;2022-01-01T00:00:00.000000000&#x27;, &#x27;2023-01-01T00:00:00.000000000&#x27;,\n",
       "       &#x27;2024-01-01T00:00:00.000000000&#x27;, &#x27;2025-01-01T00:00:00.000000000&#x27;,\n",
       "       &#x27;2026-01-01T00:00:00.000000000&#x27;, &#x27;2027-01-01T00:00:00.000000000&#x27;,\n",
       "       &#x27;2028-01-01T00:00:00.000000000&#x27;, &#x27;2029-01-01T00:00:00.000000000&#x27;,\n",
       "       &#x27;2030-01-01T00:00:00.000000000&#x27;, &#x27;2031-01-01T00:00:00.000000000&#x27;,\n",
       "       &#x27;2032-01-01T00:00:00.000000000&#x27;, &#x27;2033-01-01T00:00:00.000000000&#x27;,\n",
       "       &#x27;2034-01-01T00:00:00.000000000&#x27;, &#x27;2035-01-01T00:00:00.000000000&#x27;,\n",
       "       &#x27;2036-01-01T00:00:00.000000000&#x27;, &#x27;2037-01-01T00:00:00.000000000&#x27;,\n",
       "       &#x27;2038-01-01T00:00:00.000000000&#x27;, &#x27;2039-01-01T00:00:00.000000000&#x27;,\n",
       "       &#x27;2040-01-01T00:00:00.000000000&#x27;, &#x27;2041-01-01T00:00:00.000000000&#x27;,\n",
       "       &#x27;2042-01-01T00:00:00.000000000&#x27;, &#x27;2043-01-01T00:00:00.000000000&#x27;,\n",
       "       &#x27;2044-01-01T00:00:00.000000000&#x27;, &#x27;2045-01-01T00:00:00.000000000&#x27;,\n",
       "       &#x27;2046-01-01T00:00:00.000000000&#x27;, &#x27;2047-01-01T00:00:00.000000000&#x27;,\n",
       "       &#x27;2048-01-01T00:00:00.000000000&#x27;, &#x27;2049-01-01T00:00:00.000000000&#x27;,\n",
       "       &#x27;2050-01-01T00:00:00.000000000&#x27;, &#x27;2051-01-01T00:00:00.000000000&#x27;,\n",
       "       &#x27;2052-01-01T00:00:00.000000000&#x27;, &#x27;2053-01-01T00:00:00.000000000&#x27;,\n",
       "       &#x27;2054-01-01T00:00:00.000000000&#x27;, &#x27;2055-01-01T00:00:00.000000000&#x27;,\n",
       "       &#x27;2056-01-01T00:00:00.000000000&#x27;, &#x27;2057-01-01T00:00:00.000000000&#x27;,\n",
       "       &#x27;2058-01-01T00:00:00.000000000&#x27;, &#x27;2059-01-01T00:00:00.000000000&#x27;,\n",
       "       &#x27;2060-01-01T00:00:00.000000000&#x27;, &#x27;2061-01-01T00:00:00.000000000&#x27;,\n",
       "       &#x27;2062-01-01T00:00:00.000000000&#x27;, &#x27;2063-01-01T00:00:00.000000000&#x27;,\n",
       "       &#x27;2064-01-01T00:00:00.000000000&#x27;, &#x27;2065-01-01T00:00:00.000000000&#x27;,\n",
       "       &#x27;2066-01-01T00:00:00.000000000&#x27;, &#x27;2067-01-01T00:00:00.000000000&#x27;,\n",
       "       &#x27;2068-01-01T00:00:00.000000000&#x27;, &#x27;2069-01-01T00:00:00.000000000&#x27;,\n",
       "       &#x27;2070-01-01T00:00:00.000000000&#x27;, &#x27;2071-01-01T00:00:00.000000000&#x27;,\n",
       "       &#x27;2072-01-01T00:00:00.000000000&#x27;, &#x27;2073-01-01T00:00:00.000000000&#x27;,\n",
       "       &#x27;2074-01-01T00:00:00.000000000&#x27;, &#x27;2075-01-01T00:00:00.000000000&#x27;,\n",
       "       &#x27;2076-01-01T00:00:00.000000000&#x27;, &#x27;2077-01-01T00:00:00.000000000&#x27;,\n",
       "       &#x27;2078-01-01T00:00:00.000000000&#x27;, &#x27;2079-01-01T00:00:00.000000000&#x27;,\n",
       "       &#x27;2080-01-01T00:00:00.000000000&#x27;, &#x27;2081-01-01T00:00:00.000000000&#x27;,\n",
       "       &#x27;2082-01-01T00:00:00.000000000&#x27;, &#x27;2083-01-01T00:00:00.000000000&#x27;,\n",
       "       &#x27;2084-01-01T00:00:00.000000000&#x27;, &#x27;2085-01-01T00:00:00.000000000&#x27;],\n",
       "      dtype=&#x27;datetime64[ns]&#x27;)</pre></div></li><li class='xr-var-item'><div class='xr-var-name'><span>spatial_ref</span></div><div class='xr-var-dims'>()</div><div class='xr-var-dtype'>int32</div><div class='xr-var-preview xr-preview'>0</div><input id='attrs-bb9f3d07-1d79-4035-9af3-ea116b8d4c28' class='xr-var-attrs-in' type='checkbox' ><label for='attrs-bb9f3d07-1d79-4035-9af3-ea116b8d4c28' title='Show/Hide attributes'><svg class='icon xr-icon-file-text2'><use xlink:href='#icon-file-text2'></use></svg></label><input id='data-8070fb4e-8799-4cf9-afe0-6546c8d8c42e' class='xr-var-data-in' type='checkbox'><label for='data-8070fb4e-8799-4cf9-afe0-6546c8d8c42e' title='Show/Hide data repr'><svg class='icon xr-icon-database'><use xlink:href='#icon-database'></use></svg></label><div class='xr-var-attrs'><dl class='xr-attrs'><dt><span>crs_wkt :</span></dt><dd>GEOGCS[&quot;WGS 84&quot;,DATUM[&quot;WGS_1984&quot;,SPHEROID[&quot;WGS 84&quot;,6378137,298.257223563,AUTHORITY[&quot;EPSG&quot;,&quot;7030&quot;]],AUTHORITY[&quot;EPSG&quot;,&quot;6326&quot;]],PRIMEM[&quot;Greenwich&quot;,0,AUTHORITY[&quot;EPSG&quot;,&quot;8901&quot;]],UNIT[&quot;degree&quot;,0.0174532925199433,AUTHORITY[&quot;EPSG&quot;,&quot;9122&quot;]],AXIS[&quot;Latitude&quot;,NORTH],AXIS[&quot;Longitude&quot;,EAST],AUTHORITY[&quot;EPSG&quot;,&quot;4326&quot;]]</dd><dt><span>semi_major_axis :</span></dt><dd>6378137.0</dd><dt><span>semi_minor_axis :</span></dt><dd>6356752.314245179</dd><dt><span>inverse_flattening :</span></dt><dd>298.257223563</dd><dt><span>reference_ellipsoid_name :</span></dt><dd>WGS 84</dd><dt><span>longitude_of_prime_meridian :</span></dt><dd>0.0</dd><dt><span>prime_meridian_name :</span></dt><dd>Greenwich</dd><dt><span>geographic_crs_name :</span></dt><dd>WGS 84</dd><dt><span>horizontal_datum_name :</span></dt><dd>World Geodetic System 1984</dd><dt><span>grid_mapping_name :</span></dt><dd>latitude_longitude</dd><dt><span>spatial_ref :</span></dt><dd>GEOGCS[&quot;WGS 84&quot;,DATUM[&quot;WGS_1984&quot;,SPHEROID[&quot;WGS 84&quot;,6378137,298.257223563,AUTHORITY[&quot;EPSG&quot;,&quot;7030&quot;]],AUTHORITY[&quot;EPSG&quot;,&quot;6326&quot;]],PRIMEM[&quot;Greenwich&quot;,0,AUTHORITY[&quot;EPSG&quot;,&quot;8901&quot;]],UNIT[&quot;degree&quot;,0.0174532925199433,AUTHORITY[&quot;EPSG&quot;,&quot;9122&quot;]],AXIS[&quot;Latitude&quot;,NORTH],AXIS[&quot;Longitude&quot;,EAST],AUTHORITY[&quot;EPSG&quot;,&quot;4326&quot;]]</dd></dl></div><div class='xr-var-data'><pre>array(0)</pre></div></li></ul></div></li><li class='xr-section-item'><input id='section-4565ed7c-e533-49cf-93b4-181cfea65555' class='xr-section-summary-in' type='checkbox'  checked><label for='section-4565ed7c-e533-49cf-93b4-181cfea65555' class='xr-section-summary' >Data variables: <span>(1)</span></label><div class='xr-section-inline-details'></div><div class='xr-section-details'><ul class='xr-var-list'><li class='xr-var-item'><div class='xr-var-name'><span>HWD_merged</span></div><div class='xr-var-dims'>(time, lat, lon)</div><div class='xr-var-dtype'>float32</div><div class='xr-var-preview xr-preview'>...</div><input id='attrs-1617855d-bfa7-4c2a-8cf3-8f7e20481aa3' class='xr-var-attrs-in' type='checkbox' ><label for='attrs-1617855d-bfa7-4c2a-8cf3-8f7e20481aa3' title='Show/Hide attributes'><svg class='icon xr-icon-file-text2'><use xlink:href='#icon-file-text2'></use></svg></label><input id='data-23ab38d3-6a22-456a-b5d7-1d63990140aa' class='xr-var-data-in' type='checkbox'><label for='data-23ab38d3-6a22-456a-b5d7-1d63990140aa' title='Show/Hide data repr'><svg class='icon xr-icon-database'><use xlink:href='#icon-database'></use></svg></label><div class='xr-var-attrs'><dl class='xr-attrs'><dt><span>long_name :</span></dt><dd>Ensemble members average number of heat-wave days according to the Belgium definition for future climate under rcp85</dd><dt><span>units :</span></dt><dd>day</dd></dl></div><div class='xr-var-data'><pre>[25457500 values with dtype=float32]</pre></div></li></ul></div></li><li class='xr-section-item'><input id='section-bd36e901-a0d0-4c93-9450-6f71baf356b4' class='xr-section-summary-in' type='checkbox'  ><label for='section-bd36e901-a0d0-4c93-9450-6f71baf356b4' class='xr-section-summary' >Indexes: <span>(3)</span></label><div class='xr-section-inline-details'></div><div class='xr-section-details'><ul class='xr-var-list'><li class='xr-var-item'><div class='xr-index-name'><div>lat</div></div><div class='xr-index-preview'>PandasIndex</div><div></div><input id='index-d3649f8b-85bb-4425-bf30-c5be00a9240f' class='xr-index-data-in' type='checkbox'/><label for='index-d3649f8b-85bb-4425-bf30-c5be00a9240f' title='Show/Hide index repr'><svg class='icon xr-icon-database'><use xlink:href='#icon-database'></use></svg></label><div class='xr-index-data'><pre>PandasIndex(Index([              30.1, 30.200000000000003,               30.3,\n",
       "                     30.4,               30.5,               30.6,\n",
       "       30.700000000000003,               30.8,               30.9,\n",
       "                     31.0,\n",
       "       ...\n",
       "                     71.6,               71.7,  71.80000000000001,\n",
       "                     71.9,               72.0,               72.1,\n",
       "                     72.2,  72.30000000000001,               72.4,\n",
       "                     72.5],\n",
       "      dtype=&#x27;float64&#x27;, name=&#x27;lat&#x27;, length=425))</pre></div></li><li class='xr-var-item'><div class='xr-index-name'><div>lon</div></div><div class='xr-index-preview'>PandasIndex</div><div></div><input id='index-a11055de-4b6c-49f6-9969-645dd05ea05d' class='xr-index-data-in' type='checkbox'/><label for='index-a11055de-4b6c-49f6-9969-645dd05ea05d' title='Show/Hide index repr'><svg class='icon xr-icon-database'><use xlink:href='#icon-database'></use></svg></label><div class='xr-index-data'><pre>PandasIndex(Index([             -24.9,              -24.8,              -24.7,\n",
       "                    -24.6,              -24.5,              -24.4,\n",
       "                    -24.3,              -24.2,              -24.1,\n",
       "                    -24.0,\n",
       "       ...\n",
       "        34.00000000000001,               34.1,  34.20000000000001,\n",
       "       34.300000000000004,               34.4,  34.50000000000001,\n",
       "                     34.6,  34.70000000000001, 34.800000000000004,\n",
       "                     34.9],\n",
       "      dtype=&#x27;float64&#x27;, name=&#x27;lon&#x27;, length=599))</pre></div></li><li class='xr-var-item'><div class='xr-index-name'><div>time</div></div><div class='xr-index-preview'>PandasIndex</div><div></div><input id='index-0509b913-871f-460f-a692-2bf2eeae5435' class='xr-index-data-in' type='checkbox'/><label for='index-0509b913-871f-460f-a692-2bf2eeae5435' title='Show/Hide index repr'><svg class='icon xr-icon-database'><use xlink:href='#icon-database'></use></svg></label><div class='xr-index-data'><pre>PandasIndex(DatetimeIndex([&#x27;1986-01-01&#x27;, &#x27;1987-01-01&#x27;, &#x27;1988-01-01&#x27;, &#x27;1989-01-01&#x27;,\n",
       "               &#x27;1990-01-01&#x27;, &#x27;1991-01-01&#x27;, &#x27;1992-01-01&#x27;, &#x27;1993-01-01&#x27;,\n",
       "               &#x27;1994-01-01&#x27;, &#x27;1995-01-01&#x27;, &#x27;1996-01-01&#x27;, &#x27;1997-01-01&#x27;,\n",
       "               &#x27;1998-01-01&#x27;, &#x27;1999-01-01&#x27;, &#x27;2000-01-01&#x27;, &#x27;2001-01-01&#x27;,\n",
       "               &#x27;2002-01-01&#x27;, &#x27;2003-01-01&#x27;, &#x27;2004-01-01&#x27;, &#x27;2005-01-01&#x27;,\n",
       "               &#x27;2006-01-01&#x27;, &#x27;2007-01-01&#x27;, &#x27;2008-01-01&#x27;, &#x27;2009-01-01&#x27;,\n",
       "               &#x27;2010-01-01&#x27;, &#x27;2011-01-01&#x27;, &#x27;2012-01-01&#x27;, &#x27;2013-01-01&#x27;,\n",
       "               &#x27;2014-01-01&#x27;, &#x27;2015-01-01&#x27;, &#x27;2016-01-01&#x27;, &#x27;2017-01-01&#x27;,\n",
       "               &#x27;2018-01-01&#x27;, &#x27;2019-01-01&#x27;, &#x27;2020-01-01&#x27;, &#x27;2021-01-01&#x27;,\n",
       "               &#x27;2022-01-01&#x27;, &#x27;2023-01-01&#x27;, &#x27;2024-01-01&#x27;, &#x27;2025-01-01&#x27;,\n",
       "               &#x27;2026-01-01&#x27;, &#x27;2027-01-01&#x27;, &#x27;2028-01-01&#x27;, &#x27;2029-01-01&#x27;,\n",
       "               &#x27;2030-01-01&#x27;, &#x27;2031-01-01&#x27;, &#x27;2032-01-01&#x27;, &#x27;2033-01-01&#x27;,\n",
       "               &#x27;2034-01-01&#x27;, &#x27;2035-01-01&#x27;, &#x27;2036-01-01&#x27;, &#x27;2037-01-01&#x27;,\n",
       "               &#x27;2038-01-01&#x27;, &#x27;2039-01-01&#x27;, &#x27;2040-01-01&#x27;, &#x27;2041-01-01&#x27;,\n",
       "               &#x27;2042-01-01&#x27;, &#x27;2043-01-01&#x27;, &#x27;2044-01-01&#x27;, &#x27;2045-01-01&#x27;,\n",
       "               &#x27;2046-01-01&#x27;, &#x27;2047-01-01&#x27;, &#x27;2048-01-01&#x27;, &#x27;2049-01-01&#x27;,\n",
       "               &#x27;2050-01-01&#x27;, &#x27;2051-01-01&#x27;, &#x27;2052-01-01&#x27;, &#x27;2053-01-01&#x27;,\n",
       "               &#x27;2054-01-01&#x27;, &#x27;2055-01-01&#x27;, &#x27;2056-01-01&#x27;, &#x27;2057-01-01&#x27;,\n",
       "               &#x27;2058-01-01&#x27;, &#x27;2059-01-01&#x27;, &#x27;2060-01-01&#x27;, &#x27;2061-01-01&#x27;,\n",
       "               &#x27;2062-01-01&#x27;, &#x27;2063-01-01&#x27;, &#x27;2064-01-01&#x27;, &#x27;2065-01-01&#x27;,\n",
       "               &#x27;2066-01-01&#x27;, &#x27;2067-01-01&#x27;, &#x27;2068-01-01&#x27;, &#x27;2069-01-01&#x27;,\n",
       "               &#x27;2070-01-01&#x27;, &#x27;2071-01-01&#x27;, &#x27;2072-01-01&#x27;, &#x27;2073-01-01&#x27;,\n",
       "               &#x27;2074-01-01&#x27;, &#x27;2075-01-01&#x27;, &#x27;2076-01-01&#x27;, &#x27;2077-01-01&#x27;,\n",
       "               &#x27;2078-01-01&#x27;, &#x27;2079-01-01&#x27;, &#x27;2080-01-01&#x27;, &#x27;2081-01-01&#x27;,\n",
       "               &#x27;2082-01-01&#x27;, &#x27;2083-01-01&#x27;, &#x27;2084-01-01&#x27;, &#x27;2085-01-01&#x27;],\n",
       "              dtype=&#x27;datetime64[ns]&#x27;, name=&#x27;time&#x27;, freq=None))</pre></div></li></ul></div></li><li class='xr-section-item'><input id='section-3f32d365-717d-48d2-82bc-2e53dc5fd2fa' class='xr-section-summary-in' type='checkbox'  checked><label for='section-3f32d365-717d-48d2-82bc-2e53dc5fd2fa' class='xr-section-summary' >Attributes: <span>(9)</span></label><div class='xr-section-inline-details'></div><div class='xr-section-details'><dl class='xr-attrs'><dt><span>title :</span></dt><dd>Processed EURO-CORDEX future climate data for the health sector</dd><dt><span>conventions :</span></dt><dd>CF-1.6</dd><dt><span>project :</span></dt><dd>Copernicus Climate Change Service Sectoral Information System European Health</dd><dt><span>source :</span></dt><dd>Processing of bias-corrected EURO-CORDEX data by VITO</dd><dt><span>contact :</span></dt><dd>bd_rma@vito.be</dd><dt><span>creation_date :</span></dt><dd>Thu May  9 14:08:15 2019</dd><dt><span>institution :</span></dt><dd>VITO (https://vito.be/en)</dd><dt><span>history :</span></dt><dd>Mon Jul 15 13:48:58 2019: ncatted -O -a units,HWD_merged,o,c,day HWD_national_rcp85_mean_v1.0.nc</dd><dt><span>NCO :</span></dt><dd>netCDF Operators version 4.7.5 (Homepage = http://nco.sf.net, Code = http://github.com/nco/nco)</dd></dl></div></li></ul></div></div>"
      ],
      "text/plain": [
       "<xarray.Dataset> Size: 102MB\n",
       "Dimensions:      (lat: 425, lon: 599, time: 100)\n",
       "Coordinates:\n",
       "    height       float64 8B ...\n",
       "  * lat          (lat) float64 3kB 30.1 30.2 30.3 30.4 ... 72.2 72.3 72.4 72.5\n",
       "  * lon          (lon) float64 5kB -24.9 -24.8 -24.7 -24.6 ... 34.7 34.8 34.9\n",
       "  * time         (time) datetime64[ns] 800B 1986-01-01 1987-01-01 ... 2085-01-01\n",
       "    spatial_ref  int32 4B 0\n",
       "Data variables:\n",
       "    HWD_merged   (time, lat, lon) float32 102MB ...\n",
       "Attributes:\n",
       "    title:          Processed EURO-CORDEX future climate data for the health ...\n",
       "    conventions:    CF-1.6\n",
       "    project:        Copernicus Climate Change Service Sectoral Information Sy...\n",
       "    source:         Processing of bias-corrected EURO-CORDEX data by VITO\n",
       "    contact:        bd_rma@vito.be\n",
       "    creation_date:  Thu May  9 14:08:15 2019\n",
       "    institution:    VITO (https://vito.be/en)\n",
       "    history:        Mon Jul 15 13:48:58 2019: ncatted -O -a units,HWD_merged,...\n",
       "    NCO:            netCDF Operators version 4.7.5 (Homepage = http://nco.sf...."
      ]
     },
     "execution_count": 7,
     "metadata": {},
     "output_type": "execute_result"
    }
   ],
   "source": [
    "# This code loads a data form data dir and sets the CRS\n",
    "hwd45h = xr.open_dataset(f'{data_dir}/HWD_EU_health_rcp45_mean_v1.0.nc', decode_coords='all')\n",
    "hwd85h = xr.open_dataset(f'{data_dir}/HWD_EU_health_rcp85_mean_v1.0.nc', decode_coords='all')\n",
    "hwd45n = xr.open_dataset(f'{data_dir}/HWD_national_rcp45_mean_v1.0.nc', decode_coords='all')\n",
    "hwd85n = xr.open_dataset(f'{data_dir}/HWD_national_rcp85_mean_v1.0.nc', decode_coords='all')\n",
    "hwd45h.rio.write_crs(\"epsg:4326\", inplace=True)\n",
    "hwd85h.rio.write_crs(\"epsg:4326\", inplace=True)\n",
    "hwd45n.rio.write_crs(\"epsg:4326\", inplace=True)\n",
    "hwd85n.rio.write_crs(\"epsg:4326\", inplace=True)"
   ]
  },
  {
   "cell_type": "code",
   "execution_count": 8,
   "id": "9820279e-614e-4b05-930e-bbbd9ec22304",
   "metadata": {},
   "outputs": [],
   "source": [
    "# This code selects the variable for plotting within each dataset\n",
    "hwd45h = hwd45h['HWD_EU_health']\n",
    "hwd85h = hwd85h['HWD_EU_health']\n",
    "hwd45n = hwd45n['HWD_merged']\n",
    "hwd85n = hwd85n['HWD_merged']"
   ]
  },
  {
   "cell_type": "code",
   "execution_count": 9,
   "id": "bdbf7d88-19b2-42fb-95cf-9ba70f88d642",
   "metadata": {},
   "outputs": [],
   "source": [
    "hwd45health= hwd45h.mean(dim='time', skipna=True, keep_attrs=True)\n",
    "hwd45health.rio.to_raster(raster_path=f'{data_dir}/hwd45_health_mean.tif')\n",
    "hwd45h.rio.to_raster(raster_path=f'{data_dir}/hwd45_health.tif')\n",
    "\n",
    "hwd85health= hwd85h.mean(dim='time', skipna=True, keep_attrs=True)\n",
    "hwd85health.rio.to_raster(raster_path=f'{data_dir}/hwd85_health_mean.tif')\n",
    "hwd85h.rio.to_raster(raster_path=f'{data_dir}/hwd85_health.tif')\n",
    "\n",
    "hwd45national= hwd45n.mean(dim='time', skipna=True, keep_attrs=True)\n",
    "hwd45national.rio.to_raster(raster_path=f'{data_dir}/hwd45_national_mean.tif')\n",
    "hwd45n.rio.to_raster(raster_path=f'{data_dir}/hwd45_national.tif')\n",
    "\n",
    "hwd85national= hwd85n.mean(dim='time', skipna=True, keep_attrs=True)\n",
    "hwd85national.rio.to_raster(raster_path=f'{data_dir}/hwd85_national_mean.tif')\n",
    "hwd85n.rio.to_raster(raster_path=f'{data_dir}/hwd85_national.tif')"
   ]
  },
  {
   "cell_type": "markdown",
   "id": "43971f9f-41c8-4497-8d1f-df2480d508eb",
   "metadata": {},
   "source": [
    "### Select the location for plotting"
   ]
  },
  {
   "cell_type": "markdown",
   "id": "144f6e03",
   "metadata": {},
   "source": [
    "We will plot a map where we need to select the point for the plot of the graphs for computed indices."
   ]
  },
  {
   "cell_type": "code",
   "execution_count": 22,
   "id": "fb428994-f0d5-44cd-b4e5-781a31671fa2",
   "metadata": {},
   "outputs": [
    {
     "name": "stderr",
     "output_type": "stream",
     "text": [
      "c:\\Users\\aleksand\\AppData\\Local\\mambaforge\\envs\\climaax_heatwaves2\\Lib\\site-packages\\localtileserver\\widgets.py:90: UserWarning:\n",
      "\n",
      "The `cmap` keyword argument is deprecated. Please use `colormap` instead.\n",
      "\n",
      "c:\\Users\\aleksand\\AppData\\Local\\mambaforge\\envs\\climaax_heatwaves2\\Lib\\site-packages\\rio_tiler\\io\\base.py:52: UserWarning:\n",
      "\n",
      "BoundingBox of the dataset is inverted (minLat > maxLat).\n",
      "\n"
     ]
    },
    {
     "data": {
      "application/vnd.jupyter.widget-view+json": {
       "model_id": "c44ad42ec7714c35bcc694c98a0114b7",
       "version_major": 2,
       "version_minor": 0
      },
      "text/plain": [
       "VBox(children=(Map(center=[51.3, 5.0000000000000036], controls=(ZoomControl(options=['position', 'zoom_in_text…"
      ]
     },
     "metadata": {},
     "output_type": "display_data"
    }
   ],
   "source": [
    "# First, create a tile server from local raster file\n",
    "client1 = TileClient(f'{data_dir}/hwd45_health_mean.tif')\n",
    "# Create ipyleaflet tile layer from that server\n",
    "t1 = get_leaflet_tile_layer(client1, colormap='Reds', opacity=0.5, nodata=0, name='Heat-wave health rcp 4.5')\n",
    "#m = Map(center=client1.center(), zoom=client1.default_zoom)\n",
    "m = Map(center=client1.center(), zoom=client1.default_zoom)\n",
    "m.add(t1)\n",
    "control = LayersControl(position='topright')\n",
    "m.add_control(control)\n",
    "# Create lists to store point coordinates\n",
    "point_lon_list = []\n",
    "point_lat_list = []\n",
    "# Create a DrawControl with point drawing enabled\n",
    "draw_control = DrawControl(marker={'shapeOptions': {'color': '#FF0000'}})\n",
    "# Add the DrawControl to the map\n",
    "m.add_control(draw_control)\n",
    "# Create a text widget to display coordinates\n",
    "coord_output = widgets.Text(placeholder='Coordinates will appear here', disabled=True)\n",
    "# Define a function to handle draw events\n",
    "def handle_draw(self, action, geo_json):\n",
    "    if action == 'created':\n",
    "        if geo_json['geometry']['type'] == 'Point':\n",
    "            # Extract coordinates of the point\n",
    "            lon, lat = geo_json['geometry']['coordinates']\n",
    "            # Update text widget with coordinates\n",
    "            coord_output.value = f'Coordinates: ({lon:.2f}, {lat:.2f})'\n",
    "            # Append coordinates to lists\n",
    "            point_lon_list.append(lon)\n",
    "            point_lat_list.append(lat)\n",
    "            # Create and add a marker to the map\n",
    "            marker = Marker(location=(lat, lon))\n",
    "            #m.add_layer(marker)          \n",
    "# Attach the event handler to the DrawControl\n",
    "draw_control.on_draw(handle_draw)\n",
    "# Arrange the map and text widget vertically\n",
    "display(widgets.VBox([m, coord_output]))"
   ]
  },
  {
   "cell_type": "markdown",
   "id": "8a8dc919-6f8d-48e1-9a3a-70545ac6f035",
   "metadata": {},
   "source": [
    "On the map above you can see the mean values of the heat-wave occurrence for the years 1986-2085 for the **RCP4.5** based on the health-related definitions. The total number of heat occurrences for this map is not important, important is to see which areas can be most influenced by the heat. \n",
    "\n",
    "To select the location for further analysis:\n",
    "- Zoom with [+]/[-] to your area,\n",
    "- Select the location for plotting the values, with \"Draw a marker\" from the left panel."
   ]
  },
  {
   "cell_type": "code",
   "execution_count": 23,
   "id": "aaa0e336-57ea-4c0a-97c2-e181c7751e5c",
   "metadata": {},
   "outputs": [],
   "source": [
    "# This code extracts the data values for the selected pixel\n",
    "hwd45h = xr.open_dataset(f'{data_dir}/hwd45_health.tif')\n",
    "hwd85h = xr.open_dataset(f'{data_dir}/hwd85_health.tif')\n",
    "hwd45n = xr.open_dataset(f'{data_dir}/hwd45_national.tif')\n",
    "hwd85n = xr.open_dataset(f'{data_dir}/hwd85_national.tif')\n",
    "\n",
    "lat = point_lat_list[0] \n",
    "lon = point_lon_list[0]\n",
    "\n",
    "extracted_data1 = hwd45h.sel(y=lat, x=lon, method='nearest')\n",
    "extracted_data2 = hwd85h.sel(y=lat, x=lon, method='nearest')\n",
    "extracted_data3 = hwd45n.sel(y=lat, x=lon, method='nearest')\n",
    "extracted_data4 = hwd85n.sel(y=lat, x=lon, method='nearest')\n",
    "\n",
    "d1=extracted_data1['band_data']\n",
    "hwd45h = d1.values.tolist()\n",
    "d2=extracted_data2['band_data']\n",
    "hwd85h = d2.values.tolist()\n",
    "d3=extracted_data3['band_data']\n",
    "hwd45n = d3.values.tolist()\n",
    "d4=extracted_data4['band_data']\n",
    "hwd85n = d4.values.tolist()"
   ]
  },
  {
   "cell_type": "markdown",
   "id": "d30b308a-b511-40ec-81e3-6f1db97ec1dd",
   "metadata": {},
   "source": [
    "### Plot results for heatwave data defined based on EU-wide health-related thresholds"
   ]
  },
  {
   "cell_type": "code",
   "execution_count": 24,
   "id": "2d2fbc4b-a782-43ba-915f-637393fe28ad",
   "metadata": {},
   "outputs": [
    {
     "data": {
      "application/vnd.plotly.v1+json": {
       "config": {
        "plotlyServerURL": "https://plot.ly"
       },
       "data": [
        {
         "marker": {
          "color": "blue"
         },
         "name": "RCP 4.5",
         "type": "bar",
         "x": [
          1986,
          1987,
          1988,
          1989,
          1990,
          1991,
          1992,
          1993,
          1994,
          1995,
          1996,
          1997,
          1998,
          1999,
          2000,
          2001,
          2002,
          2003,
          2004,
          2005,
          2006,
          2007,
          2008,
          2009,
          2010,
          2011,
          2012,
          2013,
          2014,
          2015,
          2016,
          2017,
          2018,
          2019,
          2020,
          2021,
          2022,
          2023,
          2024,
          2025,
          2026,
          2027,
          2028,
          2029,
          2030,
          2031,
          2032,
          2033,
          2034,
          2035,
          2036,
          2037,
          2038,
          2039,
          2040,
          2041,
          2042,
          2043,
          2044,
          2045,
          2046,
          2047,
          2048,
          2049,
          2050,
          2051,
          2052,
          2053,
          2054,
          2055,
          2056,
          2057,
          2058,
          2059,
          2060,
          2061,
          2062,
          2063,
          2064,
          2065,
          2066,
          2067,
          2068,
          2069,
          2070,
          2071,
          2072,
          2073,
          2074,
          2075,
          2076,
          2077,
          2078,
          2079,
          2080,
          2081,
          2082,
          2083,
          2084,
          2085
         ],
         "y": [
          3.433406114578247,
          3.5788800716400146,
          3.7026946544647217,
          3.6220016479492188,
          3.603898048400879,
          3.8653206825256348,
          4.074354648590088,
          4.1998395919799805,
          4.170080184936523,
          4.180802345275879,
          4.353646755218506,
          4.548904895782471,
          4.781285285949707,
          4.727962970733643,
          4.899136543273926,
          4.994377136230469,
          5.19270658493042,
          5.217454433441162,
          5.247680187225342,
          5.5283732414245605,
          5.610288143157959,
          5.534354209899902,
          5.69103479385376,
          5.812926769256592,
          6.015315532684326,
          6.335771083831787,
          6.505059719085693,
          6.851467609405518,
          7.027186393737793,
          7.27885627746582,
          7.39290189743042,
          7.554325103759766,
          7.265514850616455,
          7.496225833892822,
          7.652655124664307,
          7.377673625946045,
          7.559102535247803,
          7.517436981201172,
          7.846710681915283,
          8.290029525756836,
          8.296710968017578,
          8.558385848999023,
          8.516718864440918,
          8.612425804138184,
          8.654326438903809,
          8.719305038452148,
          8.751220703125,
          9.26574993133545,
          9.635991096496582,
          9.571964263916016,
          9.95457935333252,
          10.17480182647705,
          10.294791221618652,
          10.39551067352295,
          10.531933784484863,
          10.587430000305176,
          10.943607330322266,
          10.800540924072266,
          10.84457778930664,
          11.24100399017334,
          11.531736373901367,
          11.679832458496094,
          12.211512565612793,
          12.43985366821289,
          12.770098686218262,
          13.026509284973145,
          13.120565414428711,
          13.5105619430542,
          13.625091552734375,
          13.439854621887207,
          13.64222526550293,
          13.432202339172363,
          13.638400077819824,
          13.715070724487305,
          14.104114532470703,
          14.293410301208496,
          14.292692184448242,
          14.081270217895508,
          13.866991996765137,
          14.304365158081055,
          14.611028671264648,
          15.040787696838379,
          14.767691612243652,
          14.878180503845215,
          14.862195014953613,
          14.698132514953613,
          14.83121395111084,
          15.025970458984375,
          15.031932830810547,
          14.95765209197998,
          14.692171096801758,
          14.453845977783203,
          14.300505638122559,
          14.348834991455078,
          14.212608337402344,
          14.60190486907959,
          14.461441993713379,
          14.49477481842041,
          14.547648429870605,
          14.446677207946777
         ]
        },
        {
         "marker": {
          "color": "red"
         },
         "name": "RCP 8.5",
         "opacity": 0.5,
         "type": "bar",
         "x": [
          1986,
          1987,
          1988,
          1989,
          1990,
          1991,
          1992,
          1993,
          1994,
          1995,
          1996,
          1997,
          1998,
          1999,
          2000,
          2001,
          2002,
          2003,
          2004,
          2005,
          2006,
          2007,
          2008,
          2009,
          2010,
          2011,
          2012,
          2013,
          2014,
          2015,
          2016,
          2017,
          2018,
          2019,
          2020,
          2021,
          2022,
          2023,
          2024,
          2025,
          2026,
          2027,
          2028,
          2029,
          2030,
          2031,
          2032,
          2033,
          2034,
          2035,
          2036,
          2037,
          2038,
          2039,
          2040,
          2041,
          2042,
          2043,
          2044,
          2045,
          2046,
          2047,
          2048,
          2049,
          2050,
          2051,
          2052,
          2053,
          2054,
          2055,
          2056,
          2057,
          2058,
          2059,
          2060,
          2061,
          2062,
          2063,
          2064,
          2065,
          2066,
          2067,
          2068,
          2069,
          2070,
          2071,
          2072,
          2073,
          2074,
          2075,
          2076,
          2077,
          2078,
          2079,
          2080,
          2081,
          2082,
          2083,
          2084,
          2085
         ],
         "y": [
          3.433406114578247,
          3.5788800716400146,
          3.7026946544647217,
          3.6220016479492188,
          3.603898048400879,
          3.8653206825256348,
          3.917691469192505,
          3.8674581050872803,
          4.071033000946045,
          4.044595241546631,
          4.236476421356201,
          4.343625068664551,
          4.372899055480957,
          4.343372821807861,
          4.564062595367432,
          4.847395896911621,
          4.975970268249512,
          5.237391948699951,
          5.374550819396973,
          5.5966949462890625,
          5.838595390319824,
          5.827657699584961,
          5.961474895477295,
          6.053374767303467,
          6.159552574157715,
          6.416449069976807,
          6.65240478515625,
          7.020489692687988,
          7.0830979347229,
          7.260468482971191,
          7.265246391296387,
          7.288576602935791,
          7.435956001281738,
          7.675700664520264,
          7.889278411865234,
          8.018804550170898,
          8.204293251037598,
          8.35761547088623,
          8.247843742370605,
          8.486888885498047,
          8.384284973144531,
          8.425036430358887,
          8.756950378417969,
          8.996031761169434,
          9.21722412109375,
          9.229113578796387,
          9.433173179626465,
          9.366524696350098,
          9.387699127197266,
          9.459826469421387,
          9.60578441619873,
          9.99935531616211,
          10.143877983093262,
          10.415789604187012,
          10.705087661743164,
          11.43795394897461,
          11.820569038391113,
          12.04104232788086,
          12.177249908447266,
          12.467245101928711,
          12.886049270629883,
          13.209397315979004,
          13.393932342529297,
          13.600147247314453,
          13.840377807617188,
          13.815610885620117,
          14.06085205078125,
          14.282296180725098,
          15.003508567810059,
          15.297311782836914,
          16.000652313232422,
          16.617048263549805,
          16.804908752441406,
          16.917264938354492,
          17.08894157409668,
          17.58181381225586,
          18.062992095947266,
          19.004871368408203,
          19.562971115112305,
          20.227014541625977,
          20.727519989013672,
          21.11467933654785,
          21.490182876586914,
          22.19639778137207,
          22.618558883666992,
          22.59427833557129,
          22.771432876586914,
          22.999540328979492,
          23.400976181030273,
          24.202180862426758,
          24.78765106201172,
          25.295480728149414,
          25.686662673950195,
          26.382856369018555,
          26.902395248413086,
          27.735261917114258,
          28.55144500732422,
          28.875259399414062,
          29.10095977783203,
          29.547151565551758
         ]
        }
       ],
       "layout": {
        "annotations": [
         {
          "showarrow": false,
          "text": "Source: EuroHEAT project data analysis based on EURO-CORDEX ensemble",
          "x": 1.05,
          "xref": "paper",
          "y": -0.2,
          "yref": "paper"
         }
        ],
        "height": 500,
        "legend": {
         "orientation": "h",
         "traceorder": "normal",
         "x": 0,
         "y": 1
        },
        "template": {
         "data": {
          "bar": [
           {
            "error_x": {
             "color": "#2a3f5f"
            },
            "error_y": {
             "color": "#2a3f5f"
            },
            "marker": {
             "line": {
              "color": "#E5ECF6",
              "width": 0.5
             },
             "pattern": {
              "fillmode": "overlay",
              "size": 10,
              "solidity": 0.2
             }
            },
            "type": "bar"
           }
          ],
          "barpolar": [
           {
            "marker": {
             "line": {
              "color": "#E5ECF6",
              "width": 0.5
             },
             "pattern": {
              "fillmode": "overlay",
              "size": 10,
              "solidity": 0.2
             }
            },
            "type": "barpolar"
           }
          ],
          "carpet": [
           {
            "aaxis": {
             "endlinecolor": "#2a3f5f",
             "gridcolor": "white",
             "linecolor": "white",
             "minorgridcolor": "white",
             "startlinecolor": "#2a3f5f"
            },
            "baxis": {
             "endlinecolor": "#2a3f5f",
             "gridcolor": "white",
             "linecolor": "white",
             "minorgridcolor": "white",
             "startlinecolor": "#2a3f5f"
            },
            "type": "carpet"
           }
          ],
          "choropleth": [
           {
            "colorbar": {
             "outlinewidth": 0,
             "ticks": ""
            },
            "type": "choropleth"
           }
          ],
          "contour": [
           {
            "colorbar": {
             "outlinewidth": 0,
             "ticks": ""
            },
            "colorscale": [
             [
              0,
              "#0d0887"
             ],
             [
              0.1111111111111111,
              "#46039f"
             ],
             [
              0.2222222222222222,
              "#7201a8"
             ],
             [
              0.3333333333333333,
              "#9c179e"
             ],
             [
              0.4444444444444444,
              "#bd3786"
             ],
             [
              0.5555555555555556,
              "#d8576b"
             ],
             [
              0.6666666666666666,
              "#ed7953"
             ],
             [
              0.7777777777777778,
              "#fb9f3a"
             ],
             [
              0.8888888888888888,
              "#fdca26"
             ],
             [
              1,
              "#f0f921"
             ]
            ],
            "type": "contour"
           }
          ],
          "contourcarpet": [
           {
            "colorbar": {
             "outlinewidth": 0,
             "ticks": ""
            },
            "type": "contourcarpet"
           }
          ],
          "heatmap": [
           {
            "colorbar": {
             "outlinewidth": 0,
             "ticks": ""
            },
            "colorscale": [
             [
              0,
              "#0d0887"
             ],
             [
              0.1111111111111111,
              "#46039f"
             ],
             [
              0.2222222222222222,
              "#7201a8"
             ],
             [
              0.3333333333333333,
              "#9c179e"
             ],
             [
              0.4444444444444444,
              "#bd3786"
             ],
             [
              0.5555555555555556,
              "#d8576b"
             ],
             [
              0.6666666666666666,
              "#ed7953"
             ],
             [
              0.7777777777777778,
              "#fb9f3a"
             ],
             [
              0.8888888888888888,
              "#fdca26"
             ],
             [
              1,
              "#f0f921"
             ]
            ],
            "type": "heatmap"
           }
          ],
          "heatmapgl": [
           {
            "colorbar": {
             "outlinewidth": 0,
             "ticks": ""
            },
            "colorscale": [
             [
              0,
              "#0d0887"
             ],
             [
              0.1111111111111111,
              "#46039f"
             ],
             [
              0.2222222222222222,
              "#7201a8"
             ],
             [
              0.3333333333333333,
              "#9c179e"
             ],
             [
              0.4444444444444444,
              "#bd3786"
             ],
             [
              0.5555555555555556,
              "#d8576b"
             ],
             [
              0.6666666666666666,
              "#ed7953"
             ],
             [
              0.7777777777777778,
              "#fb9f3a"
             ],
             [
              0.8888888888888888,
              "#fdca26"
             ],
             [
              1,
              "#f0f921"
             ]
            ],
            "type": "heatmapgl"
           }
          ],
          "histogram": [
           {
            "marker": {
             "pattern": {
              "fillmode": "overlay",
              "size": 10,
              "solidity": 0.2
             }
            },
            "type": "histogram"
           }
          ],
          "histogram2d": [
           {
            "colorbar": {
             "outlinewidth": 0,
             "ticks": ""
            },
            "colorscale": [
             [
              0,
              "#0d0887"
             ],
             [
              0.1111111111111111,
              "#46039f"
             ],
             [
              0.2222222222222222,
              "#7201a8"
             ],
             [
              0.3333333333333333,
              "#9c179e"
             ],
             [
              0.4444444444444444,
              "#bd3786"
             ],
             [
              0.5555555555555556,
              "#d8576b"
             ],
             [
              0.6666666666666666,
              "#ed7953"
             ],
             [
              0.7777777777777778,
              "#fb9f3a"
             ],
             [
              0.8888888888888888,
              "#fdca26"
             ],
             [
              1,
              "#f0f921"
             ]
            ],
            "type": "histogram2d"
           }
          ],
          "histogram2dcontour": [
           {
            "colorbar": {
             "outlinewidth": 0,
             "ticks": ""
            },
            "colorscale": [
             [
              0,
              "#0d0887"
             ],
             [
              0.1111111111111111,
              "#46039f"
             ],
             [
              0.2222222222222222,
              "#7201a8"
             ],
             [
              0.3333333333333333,
              "#9c179e"
             ],
             [
              0.4444444444444444,
              "#bd3786"
             ],
             [
              0.5555555555555556,
              "#d8576b"
             ],
             [
              0.6666666666666666,
              "#ed7953"
             ],
             [
              0.7777777777777778,
              "#fb9f3a"
             ],
             [
              0.8888888888888888,
              "#fdca26"
             ],
             [
              1,
              "#f0f921"
             ]
            ],
            "type": "histogram2dcontour"
           }
          ],
          "mesh3d": [
           {
            "colorbar": {
             "outlinewidth": 0,
             "ticks": ""
            },
            "type": "mesh3d"
           }
          ],
          "parcoords": [
           {
            "line": {
             "colorbar": {
              "outlinewidth": 0,
              "ticks": ""
             }
            },
            "type": "parcoords"
           }
          ],
          "pie": [
           {
            "automargin": true,
            "type": "pie"
           }
          ],
          "scatter": [
           {
            "fillpattern": {
             "fillmode": "overlay",
             "size": 10,
             "solidity": 0.2
            },
            "type": "scatter"
           }
          ],
          "scatter3d": [
           {
            "line": {
             "colorbar": {
              "outlinewidth": 0,
              "ticks": ""
             }
            },
            "marker": {
             "colorbar": {
              "outlinewidth": 0,
              "ticks": ""
             }
            },
            "type": "scatter3d"
           }
          ],
          "scattercarpet": [
           {
            "marker": {
             "colorbar": {
              "outlinewidth": 0,
              "ticks": ""
             }
            },
            "type": "scattercarpet"
           }
          ],
          "scattergeo": [
           {
            "marker": {
             "colorbar": {
              "outlinewidth": 0,
              "ticks": ""
             }
            },
            "type": "scattergeo"
           }
          ],
          "scattergl": [
           {
            "marker": {
             "colorbar": {
              "outlinewidth": 0,
              "ticks": ""
             }
            },
            "type": "scattergl"
           }
          ],
          "scattermapbox": [
           {
            "marker": {
             "colorbar": {
              "outlinewidth": 0,
              "ticks": ""
             }
            },
            "type": "scattermapbox"
           }
          ],
          "scatterpolar": [
           {
            "marker": {
             "colorbar": {
              "outlinewidth": 0,
              "ticks": ""
             }
            },
            "type": "scatterpolar"
           }
          ],
          "scatterpolargl": [
           {
            "marker": {
             "colorbar": {
              "outlinewidth": 0,
              "ticks": ""
             }
            },
            "type": "scatterpolargl"
           }
          ],
          "scatterternary": [
           {
            "marker": {
             "colorbar": {
              "outlinewidth": 0,
              "ticks": ""
             }
            },
            "type": "scatterternary"
           }
          ],
          "surface": [
           {
            "colorbar": {
             "outlinewidth": 0,
             "ticks": ""
            },
            "colorscale": [
             [
              0,
              "#0d0887"
             ],
             [
              0.1111111111111111,
              "#46039f"
             ],
             [
              0.2222222222222222,
              "#7201a8"
             ],
             [
              0.3333333333333333,
              "#9c179e"
             ],
             [
              0.4444444444444444,
              "#bd3786"
             ],
             [
              0.5555555555555556,
              "#d8576b"
             ],
             [
              0.6666666666666666,
              "#ed7953"
             ],
             [
              0.7777777777777778,
              "#fb9f3a"
             ],
             [
              0.8888888888888888,
              "#fdca26"
             ],
             [
              1,
              "#f0f921"
             ]
            ],
            "type": "surface"
           }
          ],
          "table": [
           {
            "cells": {
             "fill": {
              "color": "#EBF0F8"
             },
             "line": {
              "color": "white"
             }
            },
            "header": {
             "fill": {
              "color": "#C8D4E3"
             },
             "line": {
              "color": "white"
             }
            },
            "type": "table"
           }
          ]
         },
         "layout": {
          "annotationdefaults": {
           "arrowcolor": "#2a3f5f",
           "arrowhead": 0,
           "arrowwidth": 1
          },
          "autotypenumbers": "strict",
          "coloraxis": {
           "colorbar": {
            "outlinewidth": 0,
            "ticks": ""
           }
          },
          "colorscale": {
           "diverging": [
            [
             0,
             "#8e0152"
            ],
            [
             0.1,
             "#c51b7d"
            ],
            [
             0.2,
             "#de77ae"
            ],
            [
             0.3,
             "#f1b6da"
            ],
            [
             0.4,
             "#fde0ef"
            ],
            [
             0.5,
             "#f7f7f7"
            ],
            [
             0.6,
             "#e6f5d0"
            ],
            [
             0.7,
             "#b8e186"
            ],
            [
             0.8,
             "#7fbc41"
            ],
            [
             0.9,
             "#4d9221"
            ],
            [
             1,
             "#276419"
            ]
           ],
           "sequential": [
            [
             0,
             "#0d0887"
            ],
            [
             0.1111111111111111,
             "#46039f"
            ],
            [
             0.2222222222222222,
             "#7201a8"
            ],
            [
             0.3333333333333333,
             "#9c179e"
            ],
            [
             0.4444444444444444,
             "#bd3786"
            ],
            [
             0.5555555555555556,
             "#d8576b"
            ],
            [
             0.6666666666666666,
             "#ed7953"
            ],
            [
             0.7777777777777778,
             "#fb9f3a"
            ],
            [
             0.8888888888888888,
             "#fdca26"
            ],
            [
             1,
             "#f0f921"
            ]
           ],
           "sequentialminus": [
            [
             0,
             "#0d0887"
            ],
            [
             0.1111111111111111,
             "#46039f"
            ],
            [
             0.2222222222222222,
             "#7201a8"
            ],
            [
             0.3333333333333333,
             "#9c179e"
            ],
            [
             0.4444444444444444,
             "#bd3786"
            ],
            [
             0.5555555555555556,
             "#d8576b"
            ],
            [
             0.6666666666666666,
             "#ed7953"
            ],
            [
             0.7777777777777778,
             "#fb9f3a"
            ],
            [
             0.8888888888888888,
             "#fdca26"
            ],
            [
             1,
             "#f0f921"
            ]
           ]
          },
          "colorway": [
           "#636efa",
           "#EF553B",
           "#00cc96",
           "#ab63fa",
           "#FFA15A",
           "#19d3f3",
           "#FF6692",
           "#B6E880",
           "#FF97FF",
           "#FECB52"
          ],
          "font": {
           "color": "#2a3f5f"
          },
          "geo": {
           "bgcolor": "white",
           "lakecolor": "white",
           "landcolor": "#E5ECF6",
           "showlakes": true,
           "showland": true,
           "subunitcolor": "white"
          },
          "hoverlabel": {
           "align": "left"
          },
          "hovermode": "closest",
          "mapbox": {
           "style": "light"
          },
          "paper_bgcolor": "white",
          "plot_bgcolor": "#E5ECF6",
          "polar": {
           "angularaxis": {
            "gridcolor": "white",
            "linecolor": "white",
            "ticks": ""
           },
           "bgcolor": "#E5ECF6",
           "radialaxis": {
            "gridcolor": "white",
            "linecolor": "white",
            "ticks": ""
           }
          },
          "scene": {
           "xaxis": {
            "backgroundcolor": "#E5ECF6",
            "gridcolor": "white",
            "gridwidth": 2,
            "linecolor": "white",
            "showbackground": true,
            "ticks": "",
            "zerolinecolor": "white"
           },
           "yaxis": {
            "backgroundcolor": "#E5ECF6",
            "gridcolor": "white",
            "gridwidth": 2,
            "linecolor": "white",
            "showbackground": true,
            "ticks": "",
            "zerolinecolor": "white"
           },
           "zaxis": {
            "backgroundcolor": "#E5ECF6",
            "gridcolor": "white",
            "gridwidth": 2,
            "linecolor": "white",
            "showbackground": true,
            "ticks": "",
            "zerolinecolor": "white"
           }
          },
          "shapedefaults": {
           "line": {
            "color": "#2a3f5f"
           }
          },
          "ternary": {
           "aaxis": {
            "gridcolor": "white",
            "linecolor": "white",
            "ticks": ""
           },
           "baxis": {
            "gridcolor": "white",
            "linecolor": "white",
            "ticks": ""
           },
           "bgcolor": "#E5ECF6",
           "caxis": {
            "gridcolor": "white",
            "linecolor": "white",
            "ticks": ""
           }
          },
          "title": {
           "x": 0.05
          },
          "xaxis": {
           "automargin": true,
           "gridcolor": "white",
           "linecolor": "white",
           "ticks": "",
           "title": {
            "standoff": 15
           },
           "zerolinecolor": "white",
           "zerolinewidth": 2
          },
          "yaxis": {
           "automargin": true,
           "gridcolor": "white",
           "linecolor": "white",
           "ticks": "",
           "title": {
            "standoff": 15
           },
           "zerolinecolor": "white",
           "zerolinewidth": 2
          }
         }
        },
        "title": {
         "text": "Heatwave occurrence per year under RCP4.5 and RCP8.5 <br>using health-related EU-wide definition of a heatwave<br>Location: lat 49.22°, lon 18.74°",
         "x": 0.5,
         "xanchor": "center"
        },
        "width": 1100,
        "xaxis": {
         "autorange": true,
         "range": [
          1985.5,
          2085.5
         ],
         "title": {
          "text": "Year"
         },
         "type": "linear"
        },
        "yaxis": {
         "autorange": true,
         "range": [
          0,
          31.102264805843955
         ],
         "title": {
          "text": "Number of heatwaves"
         },
         "type": "linear"
        }
       }
      },
      "image/png": "[encoded data removed]"
     },
     "metadata": {},
     "output_type": "display_data"
    }
   ],
   "source": [
    "b = hwd45h\n",
    "t = hwd85h\n",
    "\n",
    "# Define years\n",
    "year = list(range(1986, 2086))\n",
    "\n",
    "# Create figure\n",
    "fig = go.Figure()\n",
    "# Add bar trace for 'b'\n",
    "fig.add_trace(go.Bar(x=year, y=b, name='RCP 4.5', marker_color='blue'))\n",
    "# Add bar trace for 't'\n",
    "fig.add_trace(go.Bar(x=year, y=t, name='RCP 8.5', opacity=0.5, marker_color='red'))\n",
    "\n",
    "# Add information on source data\n",
    "fig.add_annotation(xref='paper',yref='paper', y=-0.2,x=1.05, showarrow=False,\n",
    "            text=f'Source: EuroHEAT project data analysis based on EURO-CORDEX ensemble')\n",
    "\n",
    "# Update layout\n",
    "fig.update_layout(\n",
    "    title={'text':f'Heatwave occurrence per year under RCP4.5 and RCP8.5 <br>using health-related EU-wide definition of a heatwave<br>Location: lat {lat:.02f}\\u00B0, lon {lon:.02f}\\u00B0','x':0.5,'xanchor': 'center'},\n",
    "    xaxis_title='Year',\n",
    "    yaxis_title='Number of heatwaves',\n",
    "    legend=dict(x=0, y=1, traceorder='normal', orientation='h'),\n",
    "    width=1100,\n",
    "    height=500\n",
    ")\n",
    "fig.show()"
   ]
  },
  {
   "cell_type": "markdown",
   "id": "142795b3-7bfd-4270-9410-75cca940e4e7",
   "metadata": {},
   "source": [
    "The graph above shows the yearly heatwave occurrence for the selected location for 1986-2086 for RCP4.5 and RCP8.5.  \n",
    "These results are based on the EU-wide **heatlh-related** thresholds in the heatwave definition as used in the EuroHEAT project [[source](https://confluence.ecmwf.int/display/CKB/Heat+waves+and+cold+spells+in+Europe+derived+from+climate+projections+documentation)].\n",
    "\n",
    "The regression curve is plotted with the [standard error](https://blog.minitab.com/en/adventures-in-statistics-2/regression-analysis-how-to-interpret-s-the-standard-error-of-the-regression) around the line."
   ]
  },
  {
   "cell_type": "markdown",
   "id": "94ad1a82-d0a4-4268-8255-a1f87d772a41",
   "metadata": {},
   "source": [
    "### Plot results for heatwaves defined using national thresholds"
   ]
  },
  {
   "cell_type": "markdown",
   "id": "826408ae-ad4b-474a-b78a-24a55e061932",
   "metadata": {},
   "source": [
    "The heatwave data calculated using national heatwave definitions is only available for a few states in the EU (Belgium, Hungary, Italy, United Kingdom, Sweden, Lithuania, Latvia, Estonia, Finland)."
   ]
  },
  {
   "cell_type": "code",
   "execution_count": 25,
   "id": "06eaeec0-3548-43b8-bdda-129abe2ace6c",
   "metadata": {},
   "outputs": [
    {
     "name": "stdout",
     "output_type": "stream",
     "text": [
      "No data is available for this location based on national heatwave definition.\n"
     ]
    }
   ],
   "source": [
    "if not any(np.isnan(hwd45n)): # check if there is national data for the previously selected location\n",
    "    # Define years\n",
    "    year = list(range(1986, 2086))\n",
    "\n",
    "    # Create figure\n",
    "    fig = go.Figure()\n",
    "    # Add bar trace for 'b'\n",
    "    fig.add_trace(go.Bar(x=year, y=b, name='RCP 4.5', marker_color='blue'))\n",
    "    # Add bar trace for 't'\n",
    "    fig.add_trace(go.Bar(x=year, y=t, name='RCP 8.5', opacity=0.5, marker_color='red'))\n",
    "    # Update layout\n",
    "    fig.update_layout(\n",
    "        title={'text':f'Heatwave occurrence per year under RCP4.5 and RCP8.5 <br>using national definition of a heatwave<br>Location: lat {lat:.02f}\\u00B0, lon {lon:.02f}\\u00B0','x':0.5,'xanchor': 'center'},\n",
    "        xaxis_title='Year',\n",
    "        yaxis_title='Number of heatwaves',\n",
    "        legend=dict(x=0, y=1, traceorder='normal', orientation='h'),\n",
    "        width=1100,\n",
    "        height=500\n",
    "    )\n",
    "    fig.show()\n",
    "else:\n",
    "    print(\"No data is available for this location based on national heatwave definition.\")"
   ]
  },
  {
   "cell_type": "markdown",
   "id": "d55d8908-ec76-4171-9937-72b092b3b807",
   "metadata": {},
   "source": [
    "The graph above shows the heatwave occurrence for the selected location for 1986-2086 for RCP4.5 and RCP8.5.\n",
    "These results are based on the **national** thresholds for defining a heatwave, based on the EuroHEAT project [[source](https://confluence.ecmwf.int/display/CKB/Heat+waves+and+cold+spells+in+Europe+derived+from+climate+projections+documentation)]."
   ]
  },
  {
   "cell_type": "markdown",
   "id": "2b5fac25-ce02-428f-aeab-5a83dec52f33",
   "metadata": {},
   "source": [
    "## Conclusion for the hazard assessment result based on EuroHEAT "
   ]
  },
  {
   "cell_type": "markdown",
   "id": "cbee8742-2722-4c35-8213-1bdf4c92761c",
   "metadata": {},
   "source": [
    "- The results show the projected heatwave occurrence per year. We can plot the results based on the health-related thresholds or national thresholds for the heatwave definition. \n",
    "- The health-related data are available for the whole EU, but the national-related data are available only for a few EU states.\n",
    "- The workflow allows to evaluate the projected trend in the heat wave occurence over time under two climate change scenarios at a local resolution of 12 x 12 km. Please note that this data does not include the urban heat-island effect and therefore is not fully representative for urban environments. Extra corrections for urban locations are necessary to include the increased temperatures within built environment."
   ]
  },
  {
   "cell_type": "markdown",
   "id": "5165e9a9-c4b6-49f6-b1db-15731de5ecba",
   "metadata": {},
   "source": [
    "## Authors "
   ]
  },
  {
   "cell_type": "markdown",
   "id": "f8b3f662-92d4-40bf-9f56-711fdd54a847",
   "metadata": {},
   "source": [
    "Main contributors:\n",
    "- Martin Kuban, KAJO services (martin.kuban@kajoservices.com)\n",
    "- Milan Kalas, KAJO services (milan.kalas@kajoservices.com)\n",
    "- Milica Aleksic, KAJO services (milica.aleksic@kajoservices.com)\n",
    "- Natalia Aleksandrova (review and editing)"
   ]
  }
 ],
 "metadata": {
  "kernelspec": {
   "display_name": "Python 3 (ipykernel)",
   "language": "python",
   "name": "python3"
  },
  "language_info": {
   "codemirror_mode": {
    "name": "ipython",
    "version": 3
   },
   "file_extension": ".py",
   "mimetype": "text/x-python",
   "name": "python",
   "nbconvert_exporter": "python",
   "pygments_lexer": "ipython3",
   "version": "3.11.7"
  }
 },
 "nbformat": 4,
 "nbformat_minor": 5
}
