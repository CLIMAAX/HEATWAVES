{
 "cells": [
  {
   "cell_type": "markdown",
   "id": "66cd5d38-1e96-43a0-802e-1bc31e97737c",
   "metadata": {},
   "source": [
    "# Heat-wave: Change under climate scenarios workflow [Hazard assessment]"
   ]
  },
  {
   "cell_type": "markdown",
   "id": "eb0d77a0-683b-462b-82e5-bed19689ebbb",
   "metadata": {},
   "source": [
    "# Step 1: Description"
   ]
  },
  {
   "cell_type": "markdown",
   "id": "e1a98f98-1c6f-4754-99d2-48f4740ec03d",
   "metadata": {},
   "source": [
    "**Content:**\n",
    "- Sources of the Heat-related products provided by **CDS** and **Climate adapt**\n",
    "- Heat-wave hazard estimation based on the **Peseta IV** methodology"
   ]
  },
  {
   "cell_type": "markdown",
   "id": "13c4c9a0-a8e2-47ea-a553-f20583aac9e5",
   "metadata": {},
   "source": [
    "### Sources of the Heat wave related products."
   ]
  },
  {
   "cell_type": "markdown",
   "id": "8677b450-4503-44d1-93dd-a8d6e749dece",
   "metadata": {},
   "source": [
    "**Copernicus Climate Data store:**"
   ]
  },
  {
   "cell_type": "markdown",
   "id": "5e12bead-3e4e-4b96-bb14-74ef258434b1",
   "metadata": {},
   "source": [
    "1. **Heat wave days and heat related mortality for nine European cities** (Valencia, Barcelona, Roma, Milan, Munich, Paris, Athens, London Budapest) derived from climate projections [[source](https://cds.climate.copernicus.eu/cdsapp#!/software/app-health-urban-heat-related-mortality-projections?tab=app)]"
   ]
  },
  {
   "cell_type": "markdown",
   "id": "0b7c73d0-695c-4fa3-a157-6105960bc504",
   "metadata": {},
   "source": [
    "2. **Heat wave days for Europe derived from ERA5 reanalysis** - NUTS 3 level [[source](https://cds.climate.copernicus.eu/cdsapp#!/software/app-health-heat-waves-current-climate?tab=app)]\n",
    "    - This application allows users to explore the number of heat waves in European countries based on the ERA5 hourly data on single levels dataset.\n",
    "A heat wave is a prolonged period of high temperature, relative to the region. A number of qualifying definitions of heat waves are used in the climate and health communities. This application presents two European-wide definitions: the Climatological EURO-CORDEX and Euroheat project , and one set of National definitions which are available for a limited number of European countries."
   ]
  },
  {
   "cell_type": "markdown",
   "id": "b3e309fa-ca3a-46f1-907d-8d970499a15c",
   "metadata": {},
   "source": [
    "3. **Heat wave days for European countries derived from climate projections** [[source](ds.climate.copernicus.eu/cdsapp#!/software/app-health-heat-waves-projections?tab=app)]\n",
    "    - This application is an exploratory tool for the Heat waves and cold spells in Europe derived from climate projections dataset. This dataset provides 30 year rolling means of the number of heat wave days based on bias adjusted output from the EURO-CORDEX ensemble of climate models.\n",
    "A heat wave is a prolonged period of high temperature, relative to the region. A number of qualifying definitions of heat waves are used in the climate and health communities. This application presents two European-wide definitions: the Climatological EURO-CORDEX and Euroheat project , and one set of National definitions which are available for a limited number of European countries.\n",
    "        "
   ]
  },
  {
   "cell_type": "markdown",
   "id": "67b4cc9f-e69f-4619-8697-9471bb1b013b",
   "metadata": {},
   "source": [
    "**Climate adapt:**"
   ]
  },
  {
   "cell_type": "markdown",
   "id": "1f2f2456-0db0-439d-ab48-14fe1b1a3a0d",
   "metadata": {},
   "source": [
    "1. **Heat days occurrence in the past** [[Climate adapt heat days](https://climate-adapt.eea.europa.eu/en/metadata/indicators/high-utci-days)]\n",
    "2. **Heat days occurrence in the future** [[Climate adapt heat wave](https://climate-adapt.eea.europa.eu/en/metadata/indicators/apparent-temperature-heatwave-days)]\n",
    "3. **Tropical nights** [[Climate adapt Tropical nights](https://climate-adapt.eea.europa.eu/en/observatory/++aq++metadata/indicators/tropical-nights/)]"
   ]
  },
  {
   "cell_type": "markdown",
   "id": "e062553c-3704-4465-b37a-f73ba2068e99",
   "metadata": {},
   "source": [
    "### Heat-Wave Hazard methodology description"
   ]
  },
  {
   "cell_type": "markdown",
   "id": "d79fad30",
   "metadata": {},
   "source": [
    "**Heat-wave based on the PESETA IV methodology** [[PESETA IV project](https://joint-research-centre.ec.europa.eu/peseta-projects/jrc-peseta-iv_en)]\n",
    "Specifically, a heat-wave is defined as a period ≥ 3 consecutive days with a maximum temperature above a daily threshold calculated for a 30-year-long reference period (for testing we choose a shorter period). At least a 30-year time series of daily values is needed to obtain a robust estimation of the indicator. The threshold is defined as the 90th percentile of daily maxima temperature, centered on a 31-day window (we used a month).\n",
    "\n",
    "**Pros [+]**\n",
    "- estimation of the yearly and monthly(seasonal) values\n",
    "- 12x12km grid for years 1971-2000, 2011-2100\n",
    "- the possibility of changing the temperature and day threshold (eg. 90 percentile and 3 days for the heatwave identification)\n",
    "- the treshold is estimated for each pixel \n",
    "- This methodology is better for estimating the heat not only for the summer months but also the heat occurrence for the winter and autumn months because the treshold is counted for each month from the 30 years 1971-2000, so we can detect the seasonal changes.\n",
    "\n",
    "**Cons [-]**\n",
    "- Long time for computation - for years and months (all RCPs and years for Catalunya = 50 min)  \n",
    "- Do not count with minimum air temperature - especially in the mountainous regions the heat can cool down at night\n",
    "- 20 GB of input data "
   ]
  },
  {
   "cell_type": "markdown",
   "id": "e8807817-b472-4d82-9c18-39aa1570b01e",
   "metadata": {},
   "source": [
    "# Step 2: Prepare a workspace and load a libraries"
   ]
  },
  {
   "cell_type": "markdown",
   "id": "ab3b4a3c-28e6-4f21-8999-c98904083dd5",
   "metadata": {},
   "source": [
    "### Import packages"
   ]
  },
  {
   "cell_type": "code",
   "execution_count": null,
   "id": "942c3219-b97c-4f9f-87f7-cc5e8375ef31",
   "metadata": {},
   "outputs": [],
   "source": [
    "import zipfile        # working with the zip folders #\n",
    "import os             # handling the current working directory\n",
    "import rasterio       # netcdf and raster processing  #\n",
    "from pathlib import Path # file system paths\n",
    "import rioxarray as rxr # netcdf and raster processing\n",
    "import rioxarray\n",
    "import cdsapi         # API downloading\n",
    "import numpy as np    # 2-3D array data handling\n",
    "import pandas as pd   # data handling #\n",
    "import xarray as xr   # 2-3D array data handling \n",
    "import cartopy.crs as ccrs # netcdf data projection \n",
    "import cartopy.feature as cf # netcdf data projection \n",
    "import cartopy.crs as ccrs # netcdf data projection \n",
    "import matplotlib as mpl  #  data plot #\n",
    "import matplotlib.pyplot as plt #  data plot #\n",
    "from rasterio.crs import CRS  #  raster dat handling \n",
    "from pylab import pcolormesh,show,colorbar,plot,title,legend,subplot,savefig\n",
    "from xrspatial.classify import reclassify\n",
    "from matplotlib import pyplot\n",
    "from rasterio.plot import show\n",
    "from glob import glob\n",
    "import geopandas as gpd\n",
    "import rasterio as rio\n",
    "import plotly.graph_objects as go\n",
    "from sklearn.linear_model import LinearRegression\n",
    "from ipyleaflet import Map, DrawControl, Marker, LayersControl\n",
    "import ipywidgets as widgets\n",
    "import leafmap.leafmap as leafmap\n",
    "from localtileserver import get_leaflet_tile_layer, TileClient\n",
    "from itertools import chain\n",
    "import copy"
   ]
  },
  {
   "cell_type": "markdown",
   "id": "cdfaccfc-ac2e-40e3-989a-c0a30b001689",
   "metadata": {},
   "source": [
    "### Create a directory structure"
   ]
  },
  {
   "cell_type": "code",
   "execution_count": null,
   "id": "bad1ecb3-8f4e-4de7-9476-8a2ddb02b084",
   "metadata": {},
   "outputs": [],
   "source": [
    "# Define the directory for the flashflood workflow preprocess\n",
    "workflow_folder = 'Heat_test2'\n",
    "# Define directories for data and results within the previously defined workflow directory\n",
    "data_dir = os.path.join(workflow_folder,'data')\n",
    "results_dir = os.path.join(workflow_folder,'results')\n",
    "r1971_2000_dir = os.path.join(workflow_folder,'r1971_2000')\n",
    "r85_2011_2040_dir = os.path.join(workflow_folder,'r85_2011_2040')\n",
    "r85_2041_2070_dir = os.path.join(workflow_folder,'r85_2041_2070')\n",
    "r85_2071_2100_dir = os.path.join(workflow_folder,'r85_2071_2100')\n",
    "r45_2011_2040_dir = os.path.join(workflow_folder,'r45_2011_2040')\n",
    "r45_2041_2070_dir = os.path.join(workflow_folder,'r45_2041_2070')\n",
    "r45_2071_2100_dir = os.path.join(workflow_folder,'r45_2071_2100')\n",
    "# Check if the workflow directory exists, if not, create it along with subdirectories for data and results\n",
    "if not os.path.exists(workflow_folder):\n",
    "    os.makedirs(workflow_folder)\n",
    "    os.makedirs(os.path.join(data_dir))\n",
    "    os.makedirs(os.path.join(results_dir))\n",
    "    os.makedirs(os.path.join(r1971_2000_dir))\n",
    "    os.makedirs(os.path.join(r85_2011_2040_dir))\n",
    "    os.makedirs(os.path.join(r85_2041_2070_dir))\n",
    "    os.makedirs(os.path.join(r85_2071_2100_dir))\n",
    "    os.makedirs(os.path.join(r45_2011_2040_dir))\n",
    "    os.makedirs(os.path.join(r45_2041_2070_dir))\n",
    "    os.makedirs(os.path.join(r45_2071_2100_dir))"
   ]
  },
  {
   "cell_type": "markdown",
   "id": "9cb758d6-3098-4ac4-b807-5864d4848e25",
   "metadata": {},
   "source": [
    "# Step 3: Calculation of the Heat wave occurence"
   ]
  },
  {
   "cell_type": "markdown",
   "id": "fb67626a-c96d-4b15-8582-1a43f842bfd4",
   "metadata": {},
   "source": [
    "## Heat-wave occurrence based on the PESETA IV methodology"
   ]
  },
  {
   "cell_type": "markdown",
   "id": "7b8eb231-00ff-4bf9-ac3b-b86a7390632d",
   "metadata": {},
   "source": [
    "### Data download for PESETA IV "
   ]
  },
  {
   "cell_type": "markdown",
   "id": "e56adda8-1a54-48bd-ad5d-0ba1eaf581a5",
   "metadata": {},
   "source": [
    "- download of the maximum 2m air temperature (for PESETA IV), if you want to use also XCLIM download also minimum 2m air temperature"
   ]
  },
  {
   "cell_type": "markdown",
   "id": "a1168e82-2090-40b5-a22d-b120569597b2",
   "metadata": {},
   "source": [
    "- This code will automatically download the Euro-Cordex maximum air temperature data for the selected period and RCP\n",
    "    - In this code, you can find information about selected locations, resolutions, models, periods, etc.\n",
    "    - More information about the **data** you can find here: [[CDS data source](https://cds.climate.copernicus.eu/cdsapp#!/dataset/projections-cordex-domains-single-levels?tab=form)]\n",
    "    - More information about what is the **RCP** can find here: [[Info about RCP](https://en.wikipedia.org/wiki/Representative_Concentration_Pathway)]\n",
    "    - For **PESETA IV download only maximum 2m temperature** "
   ]
  },
  {
   "cell_type": "markdown",
   "id": "7fb2c6fe-741d-494b-a13f-a44a5ff75389",
   "metadata": {},
   "source": [
    "**1971-2000 maximum 2m temperature in the last 24h**"
   ]
  },
  {
   "cell_type": "code",
   "execution_count": null,
   "id": "123c4ad4-ac89-42f8-9e50-c1b40b98eb92",
   "metadata": {},
   "outputs": [],
   "source": [
    "# This code downloads the data for the selected time-period and rcp\n",
    "## Data for the 1971-2000\n",
    "c = cdsapi.Client(url=URL, key=KEY)\n",
    "# Define zip file's absolute path\n",
    "zip_path = os.path.join(data_dir, 'era5_daily_t2m_eurminmax_1971_2000.zip')\n",
    "c.retrieve(\n",
    "    'projections-cordex-domains-single-levels',\n",
    "    {\n",
    "        'format': 'zip',\n",
    "        'area': bbox,\n",
    "        'domain': 'europe',\n",
    "        'experiment': 'historical',\n",
    "        'horizontal_resolution': '0_11_degree_x_0_11_degree',\n",
    "        'temporal_resolution': 'daily_mean',\n",
    "        'variable': 'maximum_2m_temperature_in_the_last_24_hours',\n",
    "        'gcm_model': 'cnrm_cerfacs_cm5',\n",
    "        'rcm_model': 'clmcom_clm_cclm4_8_17',\n",
    "        'ensemble_member': 'r1i1p1',\n",
    "        'start_year': [\n",
    "            '1971', '1976', '1981', '1986', '1991', '1996', \n",
    "        ],\n",
    "        'end_year': [\n",
    "            '1975', '1980', '1985', '1990', '1995', '2000', \n",
    "        ],\n",
    "    },\n",
    "   f\"{data_dir}/era5_daily_t2m_eurminmax_1971_2000.zip\")"
   ]
  },
  {
   "cell_type": "code",
   "execution_count": null,
   "id": "f5946a25-118e-4eb8-b45e-fda4d4789ad6",
   "metadata": {},
   "outputs": [],
   "source": [
    "# This code unzips the downloaded files in your working directory, so they will be ready for computing \n",
    "# Define zip file's absolute path\n",
    "zip_path = os.path.join(data_dir, 'era5_daily_t2m_eurminmax_1971_2000.zip')\n",
    "# Extract from zip file\n",
    "with zipfile.ZipFile(zip_path, 'r') as zObject:\n",
    "    zObject.extractall(path=data_dir)"
   ]
  },
  {
   "cell_type": "markdown",
   "id": "dafc980e-e9a6-4883-ba9a-c4d0e09b483b",
   "metadata": {},
   "source": [
    "**2011-2100 rcp_8_5 maximum 2m temperature in the last 24h** \n",
    "(or you can select other suggested period 2041-2070, 2071-2100 or rcp 4.5 or 8.5)"
   ]
  },
  {
   "cell_type": "code",
   "execution_count": null,
   "id": "5147a3f4-e570-4113-a868-3f241e9008fe",
   "metadata": {},
   "outputs": [],
   "source": [
    "# This code  downloads the data for the selected time period and rcp\n",
    "c = cdsapi.Client(url=URL, key=KEY)\n",
    "# Define zip file's absolute path\n",
    "zip_path = os.path.join(data_dir, 'era5_daily_t2m_eurminmax_2011_2100.zip')\n",
    "c.retrieve(\n",
    "    'projections-cordex-domains-single-levels',\n",
    "    {\n",
    "        'format': 'zip',\n",
    "        'domain': 'europe',\n",
    "        'experiment': 'rcp_8_5',\n",
    "        'horizontal_resolution': '0_11_degree_x_0_11_degree',\n",
    "        'temporal_resolution': 'daily_mean',\n",
    "        'variable': 'maximum_2m_temperature_in_the_last_24_hours',\n",
    "        'gcm_model': 'cnrm_cerfacs_cm5',\n",
    "        'rcm_model': 'clmcom_clm_cclm4_8_17',\n",
    "        'ensemble_member': 'r1i1p1',\n",
    "        'start_year': [\n",
    "            '2011', '2016', '2021', '2026', '2031', '2036', '2041', '2046', '2051', '2056', '2061', '2066', '2071', '2076', '2081', '2086', '2091', '2096',\n",
    "        ],\n",
    "        'end_year': [\n",
    "            '2015', '2020', '2025', '2030', '2035', '2040', '2045', '2050', '2055', '2060', '2065', '2070', '2075', '2080', '2085', '2090', '2095', '2100',\n",
    "        ],\n",
    "    },\n",
    "   f\"{data_dir}/era5_daily_t2m_eurminmax_2011_2100.zip\")"
   ]
  },
  {
   "cell_type": "code",
   "execution_count": null,
   "id": "a45f45fa",
   "metadata": {},
   "outputs": [],
   "source": [
    "# This code unzips the downloaded files in your working directory, data will be ready for computing \n",
    "# Define zip file's absolute path\n",
    "zip_path = os.path.join(data_dir, 'era5_daily_t2m_eurminmax_2011_2100.zip')\n",
    "# Extract from zip file\n",
    "with zipfile.ZipFile(zip_path, 'r') as zObject:\n",
    "    zObject.extractall(path=data_dir)"
   ]
  },
  {
   "cell_type": "markdown",
   "id": "4b1a836d-c656-47d7-95c7-6462adb69671",
   "metadata": {},
   "source": [
    "**2011-2100 rcp_4_5 maximum 2m temperature in the last 24h**"
   ]
  },
  {
   "cell_type": "code",
   "execution_count": null,
   "id": "1fdf8bfa-e434-4a72-a866-5c77f04cdc0d",
   "metadata": {},
   "outputs": [],
   "source": [
    "# This code will download the data for the selected time-period and rcp\n",
    "c = cdsapi.Client(url=URL, key=KEY)\n",
    "# Define zip file's absolute path\n",
    "zip_path = os.path.join(data_dir, 'era5_daily_t2m_eurmax_rcp45_2011_2100.zip')\n",
    "c.retrieve(\n",
    "    'projections-cordex-domains-single-levels',\n",
    "    {\n",
    "        'format': 'zip',\n",
    "        'domain': 'europe',\n",
    "        'experiment': 'rcp_4_5',\n",
    "        'horizontal_resolution': '0_11_degree_x_0_11_degree',\n",
    "        'temporal_resolution': 'daily_mean',\n",
    "        'variable': 'maximum_2m_temperature_in_the_last_24_hours',\n",
    "        'gcm_model': 'cnrm_cerfacs_cm5',\n",
    "        'rcm_model': 'clmcom_clm_cclm4_8_17',\n",
    "        'ensemble_member': 'r1i1p1',\n",
    "        'start_year': [\n",
    "            '2011', '2016', '2021', '2026', '2031', '2036', '2041', '2046', '2051', '2056', '2061', '2066', '2071', '2076', '2081', '2086', '2091', '2096',\n",
    "        ],\n",
    "        'end_year': [\n",
    "            '2015', '2020', '2025', '2030', '2035', '2040', '2045', '2050', '2055', '2060', '2065', '2070', '2075', '2080', '2085', '2090', '2095', '2100',\n",
    "        ],\n",
    "    },\n",
    "   f\"{data_dir}/era5_daily_t2m_eurmax_rcp45_2011_2100.zip\")"
   ]
  },
  {
   "cell_type": "code",
   "execution_count": 5,
   "id": "29f2e79f-157e-4f12-80a5-ea64943c1e1d",
   "metadata": {},
   "outputs": [],
   "source": [
    "# This code unzips the downloaded files in your working directory, so they will be ready for computing \n",
    "# Define zip file's absolute path\n",
    "zip_path = os.path.join(data_dir, 'era5_daily_t2m_eurmax_rcp45_2011_2100.zip')\n",
    "# Extract from zip file\n",
    "with zipfile.ZipFile(zip_path, 'r') as zObject:\n",
    "    zObject.extractall(path=data_dir)"
   ]
  },
  {
   "cell_type": "markdown",
   "id": "4305edb4-479e-410b-9961-94b07318f965",
   "metadata": {},
   "source": [
    "### Load data and convert Kelvin to Celsius"
   ]
  },
  {
   "cell_type": "code",
   "execution_count": 4,
   "id": "4437dc4d-57a7-48cf-be06-8607b7854591",
   "metadata": {
    "scrolled": true
   },
   "outputs": [
    {
     "name": "stdout",
     "output_type": "stream",
     "text": [
      "Data loaded and crs has been set!!!\n"
     ]
    }
   ],
   "source": [
    "# This code loads a data from your working directory, and set the coordinates system (CRS)\n",
    "# Historical data Maximum temperature\n",
    "dmaxh = xr.open_mfdataset(f'{data_dir}/tasmax*historical*.nc', decode_coords='all')\n",
    "rotated_pole = ccrs.RotatedPole(pole_latitude=39.25, pole_longitude=-162)\n",
    "dmaxh.rio.write_crs(rotated_pole, inplace=True)\n",
    "# Maximum temperature rcp 4.5\n",
    "dmax45 = xr.open_mfdataset(f'{data_dir}/tasmax*rcp45*.nc', decode_coords='all')\n",
    "rotated_pole = ccrs.RotatedPole(pole_latitude=39.25, pole_longitude=-162)\n",
    "dmax45.rio.write_crs(rotated_pole, inplace=True)\n",
    "# Maximum temperature rcp 8.5\n",
    "dmax85 = xr.open_mfdataset(f'{data_dir}/tasmax*rcp85*.nc', decode_coords='all')\n",
    "rotated_pole = ccrs.RotatedPole(pole_latitude=39.25, pole_longitude=-162)\n",
    "dmax85.rio.write_crs(rotated_pole, inplace=True)\n",
    "print(\"Data loaded and crs has been set!!!\")"
   ]
  },
  {
   "cell_type": "markdown",
   "id": "830e7aaa-e6a6-4995-8316-a317759b2427",
   "metadata": {},
   "source": [
    "### Selection of the bbox (boundary box)"
   ]
  },
  {
   "cell_type": "markdown",
   "id": "2ebfada9-e268-4e27-a809-91bc08a21c7c",
   "metadata": {},
   "source": [
    "**Tip for the selection of the area:**\n",
    "Select at least the area of the region or state where you want to compute (bigger area is better for graphical comparison, for Euro-Cordex resolution of 12x12km)\n",
    "- \"Zoom\" to your area with [+] (top left corner)\n",
    "- \"Click\" on the rectangle on the left panel\n",
    "- \"Select your area\" by left click and drag\n",
    "-  And run a code below which \"automatically\" takes the coordinates of your area and transforms it to rotated pole CRS which is used by the Euro-Cordex data"
   ]
  },
  {
   "cell_type": "code",
   "execution_count": 6,
   "id": "450833ce-7963-42d6-8d96-0a07d8938d45",
   "metadata": {},
   "outputs": [
    {
     "data": {
      "application/vnd.jupyter.widget-view+json": {
       "model_id": "a6a51c8b5b294ba7a274fc84f933e630",
       "version_major": 2,
       "version_minor": 0
      },
      "text/plain": [
       "VBox(children=(Map(center=[0, 0], controls=(ZoomControl(options=['position', 'zoom_in_text', 'zoom_in_title', …"
      ]
     },
     "metadata": {},
     "output_type": "display_data"
    }
   ],
   "source": [
    "# This code plots a map where you need to select a bounding box, as an area for the heat wave estimation\n",
    "# Create a map centered at a specific location\n",
    "m = Map(center=(0, 0), zoom=2)\n",
    "# Create lists to store rectangle coordinates\n",
    "min_lon_list = []\n",
    "min_lat_list = []\n",
    "max_lon_list = []\n",
    "max_lat_list = []\n",
    "# Create a DrawControl with rectangle drawing enabled\n",
    "draw_control = DrawControl(rectangle={'shapeOptions': {'color': '#ff0000'}})\n",
    "# Add the DrawControl to the map\n",
    "m.add_control(draw_control)\n",
    "# Create a text widget to display coordinates\n",
    "coord_output = widgets.Text(placeholder='Coordinates will appear here', disabled=True)\n",
    "# Define a function to handle draw events\n",
    "def handle_draw(self, action, geo_json):\n",
    "    if action == 'created':\n",
    "        if geo_json['geometry']['type'] == 'Polygon':\n",
    "            # Extract coordinates of the rectangle\n",
    "            coords = geo_json['geometry']['coordinates'][0]\n",
    "            # Compute rectangle coordinates (min_lon, min_lat, max_lon, max_lat)\n",
    "            min_lon, min_lat = min(coord[0] for coord in coords), min(coord[1] for coord in coords)\n",
    "            max_lon, max_lat = max(coord[0] for coord in coords), max(coord[1] for coord in coords)\n",
    "            # Update text widget with coordinates\n",
    "            coord_output.value = f'Coordinates: ({min_lon:.2f}, {min_lat:.2f}), ({max_lon:.2f}, {max_lat:.2f})'\n",
    "            # Append coordinates to lists\n",
    "            min_lon_list.append(min_lon)\n",
    "            min_lat_list.append(min_lat)\n",
    "            max_lon_list.append(max_lon)\n",
    "            max_lat_list.append(max_lat)\n",
    "# Attach the event handler to the DrawControl\n",
    "draw_control.on_draw(handle_draw)\n",
    "# Arrange the map and text widget vertically\n",
    "display(widgets.VBox([m, coord_output]))"
   ]
  },
  {
   "cell_type": "markdown",
   "id": "b2ce54c6-5eca-464b-b6b4-05a5d4362f93",
   "metadata": {},
   "source": [
    "The coordinates will be automatically taken to next steps, you do not need to copy them !!!"
   ]
  },
  {
   "cell_type": "code",
   "execution_count": 18,
   "id": "06d5af7e-1eac-441b-a4c7-8a7ed6355f19",
   "metadata": {},
   "outputs": [
    {
     "name": "stdout",
     "output_type": "stream",
     "text": [
      "WGS 84 Coordinates: [[17.654624, 47.593788], [21.061786, 49.783602]]\n",
      "Rotated Pole Coordinates: [(-0.23326845985383018, -3.155667551259536), (1.9766316415986336, -0.9254974710815185)]\n"
     ]
    }
   ],
   "source": [
    "# This code extracts the coordinates from the bounding box selected above and transform it to Rotated pole coordinates\n",
    "a=min_lon_list + min_lat_list\n",
    "b=max_lon_list + max_lat_list\n",
    "# Define the source and destination coordinate reference systems\n",
    "source_crs = ccrs.PlateCarree()  # WGS84 CRS\n",
    "#dest_crs = ccrs.RotatedPole(pole_longitude=190, pole_latitude=39.25, central_rotated_longitude=0)\n",
    "dest_crs = ccrs.RotatedPole(pole_latitude=39.25, pole_longitude=-162)\n",
    "# Example coordinates in WGS 84\n",
    "#wgs84_coords = [(18.528168, 49.076529), (18.965041, 49.349247)]\n",
    "wgs84_coords = [(a), (b)]\n",
    "# Perform the transformation for each pair of coordinates\n",
    "rotated_pole_coords = []\n",
    "for lon, lat in wgs84_coords:\n",
    "    rotated_pole_coords.append(dest_crs.transform_point(lon, lat, source_crs))\n",
    "print(\"WGS 84 Coordinates:\", wgs84_coords)\n",
    "print(\"Rotated Pole Coordinates:\", rotated_pole_coords)"
   ]
  },
  {
   "cell_type": "code",
   "execution_count": 20,
   "id": "5f312cbe-956f-4328-9576-dcd99511daf1",
   "metadata": {},
   "outputs": [
    {
     "name": "stdout",
     "output_type": "stream",
     "text": [
      "(17.654624, 47.593788, 21.061786, 49.783602)\n"
     ]
    }
   ],
   "source": [
    "# This code will create a list from the coordinates in WGS84\n",
    "# Original list of tuples\n",
    "list_of_tuples = wgs84_coords\n",
    "# Convert the list of tuples to a single tuple\n",
    "bbox84 = tuple(chain.from_iterable(list_of_tuples))\n",
    "print(bbox84)"
   ]
  },
  {
   "cell_type": "code",
   "execution_count": null,
   "id": "265dbf52-39fe-4048-9047-2ef268addaf4",
   "metadata": {},
   "outputs": [],
   "source": [
    "# This code will create a list from the coordinates in rotated pole\n",
    "# Original list of tuples\n",
    "list_of_tuples2 = rotated_pole_coords\n",
    "# Convert the list of tuples to a single tuple\n",
    "bbox = tuple(chain.from_iterable(list_of_tuples2))\n",
    "print(bbox)"
   ]
  },
  {
   "cell_type": "markdown",
   "id": "4a26b43e-0c60-42dd-9cc1-238578b0bde6",
   "metadata": {},
   "source": [
    "### Clip area of interest\n",
    "The bouding box coordinates will be automatically copied after a selection of the bbox"
   ]
  },
  {
   "cell_type": "code",
   "execution_count": 9,
   "id": "a8933b85-ced5-40ee-b494-22dd3c60c171",
   "metadata": {},
   "outputs": [],
   "source": [
    "# This code crops the downloaded data from CDS to your selected bounding box (selected area)\n",
    "dmaxch=dmaxh.rio.clip_box(minx=bbox[0], miny=bbox[1], maxx=bbox[2], maxy=bbox[3])  \n",
    "dmaxc45=dmax45.rio.clip_box(minx=bbox[0], miny=bbox[1], maxx=bbox[2], maxy=bbox[3])  \n",
    "dmaxc85=dmax85.rio.clip_box(minx=bbox[0], miny=bbox[1], maxx=bbox[2], maxy=bbox[3])  "
   ]
  },
  {
   "cell_type": "code",
   "execution_count": 11,
   "id": "1c8c1c20-46c5-4e1e-98d1-94ff28964ea7",
   "metadata": {},
   "outputs": [],
   "source": [
    "# This code will convert the maximum temperature data from Kelvin to Celsius. The first part will also remove unnecessary data from the disk\n",
    "# Remove data from the memory\n",
    "del dmaxh\n",
    "del dmax45\n",
    "del dmax85\n",
    "# 2. Convert from K to °C\n",
    "# Max Temperature historical\n",
    "dmaxch=dmaxch['tasmax']\n",
    "tasmaxh=dmaxch - 273.15\n",
    "tasmaxh=tasmaxh.assign_attrs(dmaxch.attrs)\n",
    "tasmaxh.attrs['units']='°C'\n",
    "# Max Temperature rcp 45\n",
    "dmaxc45=dmaxc45['tasmax']\n",
    "tasmax45=dmaxc45 - 273.15\n",
    "tasmax45=tasmax45.assign_attrs(dmaxc45.attrs)\n",
    "tasmax45.attrs['units']='°C'\n",
    "# Max Temperature rcp 85\n",
    "dmaxc85=dmaxc85['tasmax']\n",
    "tasmax85=dmaxc85 - 273.15\n",
    "tasmax85=tasmax85.assign_attrs(dmaxc85.attrs)\n",
    "tasmax85.attrs['units']='°C'\n",
    "# 3. Select a time period for maximum temperature\n",
    "# Max T\n",
    "tasmaxh=tasmaxh.sel(time=slice(\"1971-01-01\", \"2000-12-31\"))\n",
    "tasmaxp1_45=tasmax45.sel(time=slice(\"2011-01-01\", \"2040-12-31\"))\n",
    "tasmaxp2_45=tasmax45.sel(time=slice(\"2041-01-01\", \"2070-12-31\"))\n",
    "tasmaxp3_45=tasmax45.sel(time=slice(\"2071-01-01\", \"2100-12-31\"))\n",
    "tasmaxp1_85=tasmax85.sel(time=slice(\"2011-01-01\", \"2040-12-31\"))\n",
    "tasmaxp2_85=tasmax85.sel(time=slice(\"2041-01-01\", \"2070-12-31\"))\n",
    "tasmaxp3_85=tasmax85.sel(time=slice(\"2071-01-01\", \"2100-12-31\"))\n",
    "#tasmaxp=tasmax.sel(time=slice(\"2011-01-01\", \"2100-12-31\"))"
   ]
  },
  {
   "cell_type": "markdown",
   "id": "ce657073-9c9a-42f6-9944-b6357c3ca7fc",
   "metadata": {},
   "source": [
    "### Define the fuction for the calculation of the number of the heat-wave events"
   ]
  },
  {
   "cell_type": "markdown",
   "id": "744a5abb-cacd-4d42-ae6b-9880314b5a99",
   "metadata": {},
   "source": [
    "- For the extraction of the Heatwave events in the future we use the 90percentile treshold from the reference period 1971-2000\n",
    "- You can change the 90 percentile (treshold) for your treshold in the row ### tas_maxh90=tas_maxh.chunk(dict(time=-1)).quantile(0.90,'time')\n",
    "- This will take multiple minutes (depending on the selected area, e.g. whole Catalunya = 50min)"
   ]
  },
  {
   "cell_type": "code",
   "execution_count": 10,
   "id": "b233c37a-1c81-475c-a8d2-2e2ab3993237",
   "metadata": {},
   "outputs": [],
   "source": [
    "# This code calculates the Heat wave occurrence for the years and months for the periods and RCP listed in the \"dirs\" and \"years\"\n",
    "# Calculation of the Heat-Wave events based on PESETA IV \n",
    "dirs= [r1971_2000_dir, r45_2011_2040_dir, r45_2041_2070_dir, r45_2071_2100_dir, r85_2011_2040_dir, r85_2041_2070_dir, r85_2071_2100_dir]\n",
    "tasx= [tasmaxh, tasmaxp1_45, tasmaxp2_45, tasmaxp3_45, tasmaxp1_85, tasmaxp2_85, tasmaxp3_85 ]\n",
    "years = [(1971,2001),(2011,2041),(2041,2071),(2071,2101),(2011,2041),(2041,2071),(2071,2101)]\n",
    "# Divide the time series to months \n",
    "for d, y, t in zip(dirs, years, tasx):\n",
    "    start_year, end_year = y\n",
    "    tasmax_month=tasmaxh.groupby('time.month').groups\n",
    "    tasmax_montp1=t.groupby('time.month').groups \n",
    "    #tasmax_montp1_45=tasmaxp1_45.groupby('time.month').groups  \n",
    "    #aty=at_city.groupby('time.year').groups\n",
    "    # Calculate the heat wave occurence for all months in given period  \n",
    "    for i in range (1, 13):\n",
    "        tasmaxh_idxs=tasmax_month[i]\n",
    "        tasmaxp1_idxs=tasmax_montp1[i]\n",
    "        # Extract the  months by selecting the relevant indices\n",
    "        #at_max=at_city.isel(time=at_idxs)\n",
    "        tas_maxh=tasmaxh.isel(time=tasmaxh_idxs)\n",
    "        tas_maxp1=t.isel(time=tasmaxp1_idxs)      \n",
    "        # 90 percentile \n",
    "        #junq90_maxZA=jun_maxZA.chunk(dict(time=-1)).quantile(0.90,'time')\n",
    "        tas_maxh90=tas_maxh.chunk(dict(time=-1)).quantile(0.90,'time')        ### Here you can change the treshold of 0.90 percentile ###\n",
    "        #tas_maxp190=tas_maxp1.chunk(dict(time=-1)).quantile(0.90,'time')\n",
    "        heatp1t=xr.where(tas_maxp1>tas_maxh90, 1, 0)\n",
    "        # Create + time dataset\n",
    "        vat=heatp1t\n",
    "        v1at=heatp1t[:-1,:,:]\n",
    "        v2at=heatp1t[:-2,:,:]\n",
    "        v3at=heatp1t[:-3,:,:]\n",
    "        # Create missing days\n",
    "        t1at=heatp1t[0:1,:,:]\n",
    "        t2at=heatp1t[0:2,:,:]\n",
    "        t3at=heatp1t[0:3,:,:]\n",
    "        # Concatenate missing dates to + time dataset\n",
    "        vi1at=xr.concat([t1at, v1at], dim='time')\n",
    "        vi2at=xr.concat([t2at, v2at], dim='time')\n",
    "        vi3at=xr.concat([t3at, v3at], dim='time')\n",
    "        # Change the time dimesion for correct one\n",
    "        tiat=heatp1t[\"time\"]\n",
    "        # add a time dimension\n",
    "        vi1at[\"time\"]=tiat\n",
    "        vi2at[\"time\"]=tiat\n",
    "        vi3at[\"time\"]=tiat\n",
    "        # Sum of the Heat-Wave\n",
    "        sumvat=xr.where((vat==1)&(vi1at==1)&(vi2at==1), 1, 0) # count 3 day HW\n",
    "        sumv2at=xr.where((vat==1)&(vi1at==1)&(vi2at==1)&(vi3at==1), -1, 0)  \n",
    "        sumvatf=sumvat+sumv2at\n",
    "        for y in range(start_year, end_year):     \n",
    "            sumvyp=sumvatf.groupby('time.year').groups \n",
    "            sat1p=sumvyp[y]\n",
    "            sumt1p=sumvatf.isel(time=sat1p)\n",
    "            sumyear1p=sumt1p.sum(dim='time')\n",
    "            sumyear1p.rio.to_raster(raster_path=f'{d}/HW_' + str(y) + '_projYM_' + str(i) + '.tif')"
   ]
  },
  {
   "cell_type": "markdown",
   "id": "63ab0d9e-aa34-4b9a-a197-9c5197e50d9d",
   "metadata": {},
   "source": [
    "### Sum the Heat-wave events by month and years and plot the results"
   ]
  },
  {
   "cell_type": "markdown",
   "id": "58385336-a65a-4617-ae98-d2d4e223715e",
   "metadata": {},
   "source": [
    "**Sum of the Heat-wave events by months historical and projections**\n",
    "- This code will compute the sum of the heat-wave events for each month January - December for all selected periods in the past and the future and all RCPs"
   ]
  },
  {
   "cell_type": "code",
   "execution_count": 11,
   "id": "da9020af-c80d-457a-931e-00d835b4755c",
   "metadata": {},
   "outputs": [],
   "source": [
    "# This code computes the sum of the heat-wave events for each month jan-dec for all selected periods in the past and the future and all RCPs\n",
    "# Sum of the Heat-wave events for months \n",
    "# List of data directory paths\n",
    "data_dirs = [r1971_2000_dir, r45_2011_2040_dir, r45_2041_2070_dir, r45_2071_2100_dir, r85_2011_2040_dir, r85_2041_2070_dir, r85_2071_2100_dir]\n",
    "\n",
    "for d in data_dirs:\n",
    "    for i in range (1,13):    \n",
    "        # Read a paths for Heat-waves\n",
    "        HW = glob(f'{d}/*YM_' + str(i) + '.tif')\n",
    "        # Create a raster stack \n",
    "        with rasterio.open(HW[0]) as src0:\n",
    "            meta = src0.meta\n",
    "        meta.update(count = len(HW))\n",
    "        #\n",
    "        with rasterio.open(f'{d}/stackHWEUM_' + str(i) + '.tif','w', **meta) as dst:\n",
    "            for id, layer in enumerate(HW, start=1):\n",
    "                with rasterio.open(layer) as src1:\n",
    "                    dst.write_band(id, src1.read(1))\n",
    "        #\n",
    "    for i in range (1, 13):    \n",
    "        HWEUpm=f'{d}/stackHWEUM_' + str(i) + '.tif'\n",
    "        HWEUpm= xr.open_dataset(HWEUpm)\n",
    "        HWEUpm=HWEUpm.sum(dim='band', skipna=True,  keep_attrs=True)\n",
    "        HWEUpm=HWEUpm['band_data']\n",
    "        HWEUpm.rio.to_raster(raster_path=f'{d}/HWsumM_' + str(i) + '.tif')\n",
    "    #\n",
    "    HW = sorted (glob(f'{d}/HWsumM_*'), key=os.path.getmtime)\n",
    "    # Create a raster stack \n",
    "    with rasterio.open(HW[0]) as src0:\n",
    "        meta = src0.meta\n",
    "    meta.update(count = len(HW))\n",
    "    #\n",
    "    with rasterio.open(f'{d}/HWsumM.tif','w', **meta) as dst:\n",
    "        for id, layer in enumerate(HW, start=1):\n",
    "            with rasterio.open(layer) as src1:\n",
    "                dst.write_band(id, src1.read(1))"
   ]
  },
  {
   "cell_type": "markdown",
   "id": "d52b8bfd-1cff-44b2-9083-e7c5aff4e178",
   "metadata": {},
   "source": [
    "**Sum of the Heatwave by years historical and projections**\n",
    "- This code will compute the sum of the heat-wave events for each period for all RCPs "
   ]
  },
  {
   "cell_type": "code",
   "execution_count": 4,
   "id": "f8e67cb9-23ab-4dfa-b48d-f2c658a78560",
   "metadata": {},
   "outputs": [],
   "source": [
    "# This code computes the sum of the heat-wave events for each period for all RCPs \n",
    "# Sum of the Heat-wave events for years \n",
    "data_dirs = [r1971_2000_dir, r45_2011_2040_dir, r45_2041_2070_dir, r45_2071_2100_dir, r85_2011_2040_dir, r85_2041_2070_dir, r85_2071_2100_dir]\n",
    "years = [(1971,2001),(2011,2041),(2041,2071),(2071,2101),(2011,2041),(2041,2071),(2071,2101)]\n",
    "\n",
    "for d, year_range in zip(data_dirs, years):\n",
    "    start_year, end_year = year_range\n",
    "    for i in range(start_year, end_year):      \n",
    "        # Read a paths for Heat-waves\n",
    "        HW = glob(f'{d}/HW_' + str(i) + '*')\n",
    "        # Create a raster stack \n",
    "        with rasterio.open(HW[0]) as src0:\n",
    "            meta = src0.meta\n",
    "        #\n",
    "        meta.update(count = len(HW))\n",
    "        #\n",
    "        with rasterio.open(f'{d}/stackHWEUY_' + str(i) + '.tif','w', **meta) as dst:\n",
    "            for id, layer in enumerate(HW, start=1):\n",
    "                with rasterio.open(layer) as src1:\n",
    "                    dst.write_band(id, src1.read(1))\n",
    "    ##################################################\n",
    "    for i in range(start_year, end_year):    \n",
    "        HWEUp=f'{d}/stackHWEUY_' + str(i) + '.tif'\n",
    "        HWEUp= xr.open_dataset(HWEUp)\n",
    "        HWEUp=HWEUp.sum(dim='band', skipna=True,  keep_attrs=True)\n",
    "        HWEUp=HWEUp['band_data']\n",
    "        HWEUp.rio.to_raster(raster_path=f'{d}/HWsumY_' + str(i) + '.tif')\n",
    "    ##################################################\n",
    "    # Read a paths for Heat-waves\n",
    "    HW = sorted (glob(f'{d}/HWsumY_*'), key=os.path.getmtime)\n",
    "    # Create a raster stack \n",
    "    with rasterio.open(HW[0]) as src0:\n",
    "        meta = src0.meta\n",
    "    #\n",
    "    meta.update(count = len(HW))\n",
    "    #\n",
    "    with rasterio.open(f'{d}/HWsumY.tif','w', **meta) as dst:\n",
    "        for id, layer in enumerate(HW, start=1):\n",
    "            with rasterio.open(layer) as src1:\n",
    "                dst.write_band(id, src1.read(1))  "
   ]
  },
  {
   "cell_type": "markdown",
   "id": "442de968-31f0-4391-99ed-b8312106219c",
   "metadata": {},
   "source": [
    "**Reproject the rasters to WGS84 (EPSG:4326)**\n",
    "\n",
    "- With this code you will reproject the data from Rotated Pole to WGS84 (EPSG:4326) CRS. We need the WGS84 because the ipyleaflet maps work with this CRS."
   ]
  },
  {
   "cell_type": "code",
   "execution_count": 5,
   "id": "79cd19e3-99d0-4abb-81ec-db6caac7153b",
   "metadata": {},
   "outputs": [],
   "source": [
    "# This code reprojects the computed data from the rotated pole to WGS84 (EPSG:4326)\n",
    "# Define your data directories\n",
    "data_dirs = [r1971_2000_dir, r45_2011_2040_dir, r45_2041_2070_dir, r45_2071_2100_dir, r85_2011_2040_dir, r85_2041_2070_dir, r85_2071_2100_dir]\n",
    "# Define the target CRS\n",
    "target_crs = 'EPSG:4326'  # WGS84\n",
    "for d in data_dirs:\n",
    "    # Open dataset\n",
    "    HWbarhm = xr.open_dataset(f'{d}/HWsumM.tif')['band_data']\n",
    "    HWbarhy = xr.open_dataset(f'{d}/HWsumY.tif')['band_data']\n",
    "    # Write CRS information\n",
    "    HWbarhm.rio.write_crs(rotated_pole, inplace=True)\n",
    "    HWbarhy.rio.write_crs(rotated_pole, inplace=True)\n",
    "    # Reproject the raster dataset\n",
    "    HWbarhm_reprojected = HWbarhm.rio.reproject(target_crs)\n",
    "    HWbarhy_reprojected = HWbarhy.rio.reproject(target_crs)\n",
    "    # Replace NaN values\n",
    "    HWbarhm_reprojected = HWbarhm_reprojected.where(HWbarhm_reprojected != 1.7976931348623157e+308, np.nan)\n",
    "    HWbarhy_reprojected = HWbarhy_reprojected.where(HWbarhy_reprojected != 1.7976931348623157e+308, np.nan)\n",
    "    # Optionally, you can save the reprojected raster to a new file\n",
    "    HWbarhm_reprojected.rio.to_raster(raster_path=f'{d}/HWbarM_reprojected.tif')\n",
    "    HWbarhy_reprojected.rio.to_raster(raster_path=f'{d}/HWbarY_reprojected.tif')\n",
    "    # Calculate mean and save to raster\n",
    "    HWhy_mean = HWbarhy_reprojected.mean(dim='band', skipna=True, keep_attrs=True)\n",
    "    HWhy_mean.rio.to_raster(raster_path=f'{d}/HWY_mean.tif')"
   ]
  },
  {
   "cell_type": "markdown",
   "id": "fa2e5296-d618-43be-821c-ddd25208c163",
   "metadata": {},
   "source": [
    "### Select a pixel for plotting"
   ]
  },
  {
   "cell_type": "markdown",
   "id": "86d1dd05-2172-4224-9f5e-9a6dd611a00c",
   "metadata": {},
   "source": [
    "- With this code, you select the point on the map, for which you want to plot the bar and line graphs (select only one point, if you accidentally select multiple points, run this code (below) again and select the point again)\n",
    "- The rasters ploted in the map below, represents "
   ]
  },
  {
   "cell_type": "code",
   "execution_count": 4,
   "id": "827da122-eb10-48ab-b675-a8092b3fa26f",
   "metadata": {},
   "outputs": [
    {
     "data": {
      "application/vnd.jupyter.widget-view+json": {
       "model_id": "9c080d7531e24362beaf4a33d1e6e6f1",
       "version_major": 2,
       "version_minor": 0
      },
      "text/plain": [
       "VBox(children=(Map(center=[41.616247, 1.6490234999999998], controls=(ZoomControl(options=['position', 'zoom_in…"
      ]
     },
     "metadata": {},
     "output_type": "display_data"
    }
   ],
   "source": [
    "# This code plots the map, where you will select the point for which you want to plot a graphs \n",
    "# First, create a tile server from the local raster file\n",
    "data_dirs = [r1971_2000_dir, r45_2011_2040_dir, r45_2041_2070_dir, r45_2071_2100_dir, r85_2011_2040_dir, r85_2041_2070_dir, r85_2071_2100_dir]\n",
    "client1 = TileClient(f'{r1971_2000_dir}/HWY_mean.tif')\n",
    "# Create ipyleaflet tile layer from that server\n",
    "t1 = get_leaflet_tile_layer(client1, band= [1], cmap='Reds', opacity=0.5, nodata = 0, name='Heat-wave mean occurence 1971-2000')\n",
    "\n",
    "m = Map(center=client1.center(), zoom=client1.default_zoom)\n",
    "\n",
    "m.add(t1)\n",
    "\n",
    "control = LayersControl(position='topright')\n",
    "m.add_control(control)\n",
    "# Create lists to store point coordinates\n",
    "point_lon_list = []\n",
    "point_lat_list = []\n",
    "# Create a DrawControl with point drawing enabled\n",
    "draw_control = DrawControl(marker={'shapeOptions': {'color': '#FF0000'}})\n",
    "# Add the DrawControl to the map\n",
    "m.add_control(draw_control)\n",
    "# Create a text widget to display coordinates\n",
    "coord_output = widgets.Text(placeholder='Coordinates will appear here', disabled=True)\n",
    "# Define a function to handle draw events\n",
    "def handle_draw(self, action, geo_json):\n",
    "    if action == 'created':\n",
    "        if geo_json['geometry']['type'] == 'Point':\n",
    "            # Extract coordinates of the point\n",
    "            lon, lat = geo_json['geometry']['coordinates']\n",
    "            # Update text widget with coordinates\n",
    "            coord_output.value = f'Coordinates: ({lon:.2f}, {lat:.2f})'\n",
    "            # Append coordinates to lists\n",
    "            point_lon_list.append(lon)\n",
    "            point_lat_list.append(lat)\n",
    "            # Create and add a marker to the map\n",
    "            marker = Marker(location=(lat, lon))\n",
    "            m.add_layer(marker)\n",
    "# Attach the event handler to the DrawControl\n",
    "draw_control.on_draw(handle_draw)\n",
    "# Arrange the map and text widget vertically\n",
    "display(widgets.VBox([m, coord_output]))"
   ]
  },
  {
   "cell_type": "markdown",
   "id": "077bad7a-3cdc-4804-b557-d3753504c820",
   "metadata": {},
   "source": [
    "- Select only one point with a flag from the left panel (point marker) from within the bbox which you choose, the coordinate will be automatically copied to the next code\n",
    "- If you accidentally select multiple points, reload the map again (only deleting the point will not help)\n",
    "- This plot is only illustrative, for the selection of the pixel for plotting of the graphs. \n",
    "- **The skewness of the raster was caused by the transformation of the coordinate system**"
   ]
  },
  {
   "cell_type": "markdown",
   "id": "23f14b88-2478-4ea0-b436-4a6fa19ff151",
   "metadata": {},
   "source": [
    "**Extract the values from the multi-and rasters based on the selected point** \n",
    "- This code will extract values needed for the plotting of the results"
   ]
  },
  {
   "cell_type": "code",
   "execution_count": 10,
   "id": "cd82f6a6-edeb-4a65-be05-ab4343aadcea",
   "metadata": {},
   "outputs": [],
   "source": [
    "# This code extract the data for the selected point in the map above\n",
    "data_dirs=[r1971_2000_dir, r45_2011_2040_dir, r45_2041_2070_dir, r45_2071_2100_dir, r85_2011_2040_dir, r85_2041_2070_dir, r85_2071_2100_dir]\n",
    "def latlon_to_pixel(raster_file, lat, lon):\n",
    "    with rasterio.open(raster_file) as src:\n",
    "        row, col = src.index(lon, lat)\n",
    "        return row, col\n",
    "def get_pixel_values(raster_file, lat, lon):\n",
    "    with rasterio.open(raster_file) as src:\n",
    "        row, col = latlon_to_pixel(raster_file, lat, lon)\n",
    "        pixel_values = [band[row, col] for band in src.read()]\n",
    "        return pixel_values\n",
    "# Generate raster file paths\n",
    "raster_files = []\n",
    "for data_dir in data_dirs:\n",
    "    raster_files.extend([\n",
    "        f'{data_dir}/HWbarM_reprojected.tif',\n",
    "        f'{data_dir}/HWbarY_reprojected.tif'\n",
    "    ])\n",
    "# Example latitude and longitude\n",
    "lat = point_lat_list[0]\n",
    "lon = point_lon_list[0]\n",
    "# Get pixel values for each raster file\n",
    "pixel_values = {}\n",
    "for raster_file in raster_files:\n",
    "    pixel_values[raster_file] = get_pixel_values(raster_file, lat, lon)\n",
    "# Example usage:\n",
    "pixel_values_hm = pixel_values[f'{r1971_2000_dir}/HWbarM_reprojected.tif']\n",
    "pixel_values_hy = pixel_values[f'{r1971_2000_dir}/HWbarY_reprojected.tif']\n",
    "pixel_values_p1m_45 = pixel_values[f'{r45_2011_2040_dir}/HWbarM_reprojected.tif']\n",
    "pixel_values_p1y_45 = pixel_values[f'{r45_2011_2040_dir}/HWbarY_reprojected.tif']\n",
    "pixel_values_p2m_45 = pixel_values[f'{r45_2041_2070_dir}/HWbarM_reprojected.tif']\n",
    "pixel_values_p2y_45 = pixel_values[f'{r45_2041_2070_dir}/HWbarY_reprojected.tif']\n",
    "pixel_values_p3m_45 = pixel_values[f'{r45_2071_2100_dir}/HWbarM_reprojected.tif']\n",
    "pixel_values_p3y_45 = pixel_values[f'{r45_2071_2100_dir}/HWbarY_reprojected.tif']\n",
    "pixel_values_p1m_85 = pixel_values[f'{r85_2011_2040_dir}/HWbarM_reprojected.tif']\n",
    "pixel_values_p1y_85 = pixel_values[f'{r85_2011_2040_dir}/HWbarY_reprojected.tif']\n",
    "pixel_values_p2m_85 = pixel_values[f'{r85_2041_2070_dir}/HWbarM_reprojected.tif']\n",
    "pixel_values_p2y_85 = pixel_values[f'{r85_2041_2070_dir}/HWbarY_reprojected.tif']\n",
    "pixel_values_p3m_85 = pixel_values[f'{r85_2071_2100_dir}/HWbarM_reprojected.tif']\n",
    "pixel_values_p3y_85 = pixel_values[f'{r85_2071_2100_dir}/HWbarY_reprojected.tif']"
   ]
  },
  {
   "cell_type": "markdown",
   "id": "16adcf13-befb-49f9-aa9d-12bc40f7e59a",
   "metadata": {},
   "source": [
    "### Plot the comparison by months for selected pixel"
   ]
  },
  {
   "cell_type": "markdown",
   "id": "6bc8f54f-2405-4ec0-9b31-4755a85f176c",
   "metadata": {},
   "source": [
    "- The plot of the bar chart comparison of the Heat-wave occurrence for the selected point"
   ]
  },
  {
   "cell_type": "code",
   "execution_count": 13,
   "id": "145153f7-6d7f-40bc-8d82-60214a540143",
   "metadata": {},
   "outputs": [
    {
     "data": {
      "image/png": "[encoded data removed]",
      "text/plain": [
       "<Figure size 640x480 with 1 Axes>"
      ]
     },
     "metadata": {},
     "output_type": "display_data"
    }
   ],
   "source": [
    "# This code plots the results for the selected point \n",
    "#list_values= [pixel_values_p1m, pixel_values_p2m, pixel_values_p3m]\n",
    "month = ['Jan', 'Feb', 'Mar', 'Apr', 'May', 'Jun',\n",
    "          'Jul', 'Aug', 'Sep', 'Oct', 'Nov', 'Dec']\n",
    "bar = pixel_values_hm\n",
    "line1 = pixel_values_p1m_45\n",
    "line2 = pixel_values_p2m_45\n",
    "line3 = pixel_values_p3m_45\n",
    "line4 = pixel_values_p1m_85\n",
    "line5 = pixel_values_p2m_85\n",
    "line6 = pixel_values_p3m_85\n",
    "fig, ax = plt.subplots()\n",
    "ax.bar(month, bar, label='1971-2000')\n",
    "ax.plot(month, line1, color='blue', marker='o', label='2011-2040 (rcp 4.5)')\n",
    "ax.plot(month, line2, color='blue', marker=\"^\", label='2041-2070 (rcp 4.5)')\n",
    "ax.plot(month, line3, color='blue', marker='s', label='2071-2100 (rcp 4.5)')\n",
    "ax.plot(month, line4, color='red', marker='o', label='2011-2040 (rcp 8.5)')\n",
    "ax.plot(month, line5, color='red', marker=\"^\", label='2041-2070 (rcp 8.5)')\n",
    "ax.plot(month, line6, color='red', marker='s', label='2071-2100 (rcp 8.5)')\n",
    "ax.set_xlabel('Month')\n",
    "ax.set_ylabel('Number of heat wave occurrences')\n",
    "ax.set_title('Heat-wave occurrence in selected area', fontsize=20, pad=10)\n",
    "ax.legend()\n",
    "ax.grid(True, linestyle='--', alpha=0.7)\n",
    "plt.subplots_adjust(left=0.1, bottom=0.1, right=2, top=0.9)\n",
    "plt.show()"
   ]
  },
  {
   "cell_type": "markdown",
   "id": "2ea82d87-b1e6-4fec-a7a1-b8140650b84f",
   "metadata": {},
   "source": [
    "- This graph compares the heat-wave occurrence for month of years 1971-2000 and 2011-2040, 2041-2070, 2071-2100 for RCP 4.5 and 8.5\n",
    "- **The heat-wave occurrence for months is based on the 90-percentile treshold for each month from reference period 1971-2000. This treshold was used for all projection periods. That's why we can also find heat waves in the winter and autumn months. We should understand the heat-wave occurrence in the winter and autumn months, as a periods when the daily maximum temperature exceeds the 90 percentile temperature treshold computed for the given month from 30 years reference (historical) period 1971-2000.**\n",
    "- These results give us an idea of heat-wave distribution throughout the year in the past and in the near and far future for different scenarios RCPs\n",
    "- We need to also realize that the heat occurrence in the winter will have a different impact than the heat occurrence in the summer. The winter heat occurrence can influence the of the snow, animals, and plants for more see [[Heat effects on human nature](https://theconversation.com/four-ways-winter-heatwaves-affect-humans-and-nature-197365)]. The summer heat-waves will have a negative effect on the human health, water scarcity etc. [[Climate adapt effect on human health](https://climate-adapt.eea.europa.eu/en/knowledge/tools/urban-adaptation/climatic-threats/heat-waves)]"
   ]
  },
  {
   "cell_type": "markdown",
   "id": "e3a1181a-bf27-43f3-88a8-3e78a42c9be2",
   "metadata": {},
   "source": [
    "### Plot the comparison by years for selected pixel"
   ]
  },
  {
   "cell_type": "markdown",
   "id": "96245050-d109-44dc-8480-38805f6fac2e",
   "metadata": {},
   "source": [
    "We compare the heat wave occurrence in the observed period (1971-2000) and projection (2011-2100) for chosen rcp. We selected these periods because these are the most used climate periods by CDS. "
   ]
  },
  {
   "cell_type": "markdown",
   "id": "a4ddc5af-a8b2-4b9a-b485-7eb324cb662b",
   "metadata": {},
   "source": [
    "- On this graph you can see the Heat-wave occurence for the reference period 1971-2000 and projection periods 2011-2100\n",
    "- The number of heat-wave occurence for each year represents the the sum of the heat have occurence for each year (also winter and autumn months)"
   ]
  },
  {
   "cell_type": "code",
   "execution_count": 33,
   "id": "5ca8593b-6454-4125-8981-2f5c22075d30",
   "metadata": {},
   "outputs": [
    {
     "data": {
      "application/vnd.plotly.v1+json": {
       "config": {
        "plotlyServerURL": "https://plot.ly"
       },
       "data": [
        {
         "marker": {
          "color": "blue"
         },
         "name": "RCP 4.5",
         "type": "bar",
         "x": [
          1971,
          1972,
          1973,
          1974,
          1975,
          1976,
          1977,
          1978,
          1979,
          1980,
          1981,
          1982,
          1983,
          1984,
          1985,
          1986,
          1987,
          1988,
          1989,
          1990,
          1991,
          1992,
          1993,
          1994,
          1995,
          1996,
          1997,
          1998,
          1999,
          2000,
          2011,
          2012,
          2013,
          2014,
          2015,
          2016,
          2017,
          2018,
          2019,
          2020,
          2021,
          2022,
          2023,
          2024,
          2025,
          2026,
          2027,
          2028,
          2029,
          2030,
          2031,
          2032,
          2033,
          2034,
          2035,
          2036,
          2037,
          2038,
          2039,
          2040,
          2041,
          2042,
          2043,
          2044,
          2045,
          2046,
          2047,
          2048,
          2049,
          2050,
          2051,
          2052,
          2053,
          2054,
          2055,
          2056,
          2057,
          2058,
          2059,
          2060,
          2061,
          2062,
          2063,
          2064,
          2065,
          2066,
          2067,
          2068,
          2069,
          2070,
          2071,
          2072,
          2073,
          2074,
          2075,
          2076,
          2077,
          2078,
          2079,
          2080,
          2081,
          2082,
          2083,
          2084,
          2085,
          2086,
          2087,
          2088,
          2089,
          2090,
          2091,
          2092,
          2093,
          2094,
          2095,
          2096,
          2097,
          2098,
          2099,
          2100
         ],
         "y": [
          3,
          6,
          7,
          8,
          9,
          5,
          5,
          5,
          3,
          1,
          6,
          4,
          2,
          3,
          0,
          9,
          8,
          5,
          3,
          6,
          2,
          2,
          1,
          1,
          3,
          9,
          4,
          3,
          4,
          1,
          6,
          3,
          3,
          0,
          10,
          3,
          7,
          5,
          8,
          2,
          7,
          6,
          4,
          2,
          4,
          9,
          8,
          9,
          8,
          8,
          7,
          6,
          5,
          3,
          8,
          3,
          9,
          5,
          16,
          10,
          11,
          8,
          6,
          12,
          6,
          4,
          13,
          9,
          8,
          6,
          7,
          8,
          9,
          12,
          13,
          11,
          11,
          9,
          11,
          14,
          7,
          10,
          12,
          12,
          8,
          9,
          13,
          5,
          7,
          8,
          11,
          7,
          8,
          7,
          10,
          10,
          6,
          9,
          9,
          7,
          8,
          10,
          8,
          12,
          9,
          7,
          15,
          13,
          10,
          5,
          6,
          10,
          18,
          14,
          11,
          9,
          8,
          8,
          4,
          15
         ]
        },
        {
         "marker": {
          "color": "red"
         },
         "name": "RCP 8.5",
         "opacity": 0.5,
         "type": "bar",
         "x": [
          1971,
          1972,
          1973,
          1974,
          1975,
          1976,
          1977,
          1978,
          1979,
          1980,
          1981,
          1982,
          1983,
          1984,
          1985,
          1986,
          1987,
          1988,
          1989,
          1990,
          1991,
          1992,
          1993,
          1994,
          1995,
          1996,
          1997,
          1998,
          1999,
          2000,
          2011,
          2012,
          2013,
          2014,
          2015,
          2016,
          2017,
          2018,
          2019,
          2020,
          2021,
          2022,
          2023,
          2024,
          2025,
          2026,
          2027,
          2028,
          2029,
          2030,
          2031,
          2032,
          2033,
          2034,
          2035,
          2036,
          2037,
          2038,
          2039,
          2040,
          2041,
          2042,
          2043,
          2044,
          2045,
          2046,
          2047,
          2048,
          2049,
          2050,
          2051,
          2052,
          2053,
          2054,
          2055,
          2056,
          2057,
          2058,
          2059,
          2060,
          2061,
          2062,
          2063,
          2064,
          2065,
          2066,
          2067,
          2068,
          2069,
          2070,
          2071,
          2072,
          2073,
          2074,
          2075,
          2076,
          2077,
          2078,
          2079,
          2080,
          2081,
          2082,
          2083,
          2084,
          2085,
          2086,
          2087,
          2088,
          2089,
          2090,
          2091,
          2092,
          2093,
          2094,
          2095,
          2096,
          2097,
          2098,
          2099,
          2100
         ],
         "y": [
          3,
          6,
          7,
          8,
          9,
          5,
          5,
          5,
          3,
          1,
          6,
          4,
          2,
          3,
          0,
          9,
          8,
          5,
          3,
          6,
          2,
          2,
          1,
          1,
          3,
          9,
          4,
          3,
          4,
          1,
          5,
          10,
          4,
          5,
          7,
          3,
          9,
          4,
          4,
          4,
          6,
          5,
          2,
          7,
          7,
          7,
          1,
          7,
          8,
          7,
          11,
          9,
          7,
          2,
          6,
          7,
          5,
          7,
          7,
          13,
          5,
          10,
          11,
          4,
          7,
          9,
          11,
          12,
          3,
          10,
          16,
          9,
          11,
          10,
          6,
          5,
          12,
          11,
          10,
          10,
          10,
          18,
          11,
          14,
          20,
          9,
          12,
          16,
          11,
          12,
          10,
          10,
          11,
          13,
          19,
          13,
          15,
          15,
          17,
          13,
          12,
          16,
          20,
          23,
          11,
          19,
          15,
          24,
          18,
          20,
          19,
          22,
          26,
          23,
          20,
          24,
          19,
          19,
          28,
          21
         ]
        },
        {
         "line": {
          "color": "blue"
         },
         "mode": "lines",
         "name": "RCP 4.5 trend",
         "type": "scatter",
         "x": [
          1971,
          1972,
          1973,
          1974,
          1975,
          1976,
          1977,
          1978,
          1979,
          1980,
          1981,
          1982,
          1983,
          1984,
          1985,
          1986,
          1987,
          1988,
          1989,
          1990,
          1991,
          1992,
          1993,
          1994,
          1995,
          1996,
          1997,
          1998,
          1999,
          2000,
          2011,
          2012,
          2013,
          2014,
          2015,
          2016,
          2017,
          2018,
          2019,
          2020,
          2021,
          2022,
          2023,
          2024,
          2025,
          2026,
          2027,
          2028,
          2029,
          2030,
          2031,
          2032,
          2033,
          2034,
          2035,
          2036,
          2037,
          2038,
          2039,
          2040,
          2041,
          2042,
          2043,
          2044,
          2045,
          2046,
          2047,
          2048,
          2049,
          2050,
          2051,
          2052,
          2053,
          2054,
          2055,
          2056,
          2057,
          2058,
          2059,
          2060,
          2061,
          2062,
          2063,
          2064,
          2065,
          2066,
          2067,
          2068,
          2069,
          2070,
          2071,
          2072,
          2073,
          2074,
          2075,
          2076,
          2077,
          2078,
          2079,
          2080,
          2081,
          2082,
          2083,
          2084,
          2085,
          2086,
          2087,
          2088,
          2089,
          2090,
          2091,
          2092,
          2093,
          2094,
          2095,
          2096,
          2097,
          2098,
          2099,
          2100
         ],
         "y": [
          3.643939393939396,
          3.705245734657501,
          3.7665520753756065,
          3.827858416093712,
          3.8891647568118177,
          3.950471097529923,
          4.0117774382480285,
          4.073083778966134,
          4.134390119684239,
          4.195696460402345,
          4.25700280112045,
          4.318309141838555,
          4.379615482556661,
          4.440921823274766,
          4.502228163992871,
          4.563534504710978,
          4.624840845429083,
          4.686147186147188,
          4.747453526865294,
          4.808759867583399,
          4.8700662083015045,
          4.93137254901961,
          4.992678889737715,
          5.053985230455821,
          5.115291571173926,
          5.176597911892031,
          5.237904252610137,
          5.299210593328242,
          5.360516934046348,
          5.421823274764453,
          5.483129615482559,
          5.544435956200664,
          5.60574229691877,
          5.667048637636875,
          5.7283549783549805,
          5.789661319073086,
          5.850967659791191,
          5.912274000509297,
          5.973580341227402,
          6.034886681945507,
          6.096193022663613,
          6.157499363381719,
          6.2188057040998235,
          6.28011204481793,
          6.341418385536034,
          6.4027247262541405,
          6.464031066972245,
          6.525337407690351,
          6.586643748408457,
          6.647950089126562,
          6.709256429844667,
          6.770562770562773,
          6.831869111280878,
          6.893175451998983,
          6.95448179271709,
          7.015788133435194,
          7.0770944741533,
          7.138400814871405,
          7.199707155589511,
          7.261013496307616,
          7.322319837025722,
          7.383626177743827,
          7.444932518461933,
          7.506238859180038,
          7.567545199898143,
          7.628851540616249,
          7.690157881334354,
          7.75146422205246,
          7.812770562770565,
          7.874076903488671,
          7.9353832442067755,
          7.996689584924882,
          8.057995925642986,
          8.119302266361093,
          8.180608607079197,
          8.241914947797303,
          8.303221288515408,
          8.364527629233514,
          8.425833969951618,
          8.487140310669725,
          8.548446651387831,
          8.609752992105935,
          8.671059332824042,
          8.732365673542146,
          8.793672014260252,
          8.854978354978357,
          8.916284695696463,
          8.977591036414568,
          9.038897377132674,
          9.100203717850778,
          9.161510058568885,
          9.22281639928699,
          9.284122740005095,
          9.345429080723202,
          9.406735421441306,
          9.468041762159412,
          9.529348102877517,
          9.590654443595623,
          9.651960784313728,
          9.713267125031834,
          9.774573465749938,
          9.835879806468045,
          9.897186147186149,
          9.958492487904255,
          10.01979882862236,
          10.081105169340466,
          10.14241151005857,
          10.203717850776677,
          10.265024191494783,
          10.326330532212888,
          10.387636872930994,
          10.448943213649098,
          10.510249554367205,
          10.571555895085309,
          10.632862235803415,
          10.69416857652152,
          10.755474917239626,
          10.81678125795773,
          10.878087598675837,
          10.939393939393941
         ]
        },
        {
         "line": {
          "color": "red"
         },
         "mode": "lines",
         "name": "RCP 8.5 trend",
         "type": "scatter",
         "x": [
          1971,
          1972,
          1973,
          1974,
          1975,
          1976,
          1977,
          1978,
          1979,
          1980,
          1981,
          1982,
          1983,
          1984,
          1985,
          1986,
          1987,
          1988,
          1989,
          1990,
          1991,
          1992,
          1993,
          1994,
          1995,
          1996,
          1997,
          1998,
          1999,
          2000,
          2011,
          2012,
          2013,
          2014,
          2015,
          2016,
          2017,
          2018,
          2019,
          2020,
          2021,
          2022,
          2023,
          2024,
          2025,
          2026,
          2027,
          2028,
          2029,
          2030,
          2031,
          2032,
          2033,
          2034,
          2035,
          2036,
          2037,
          2038,
          2039,
          2040,
          2041,
          2042,
          2043,
          2044,
          2045,
          2046,
          2047,
          2048,
          2049,
          2050,
          2051,
          2052,
          2053,
          2054,
          2055,
          2056,
          2057,
          2058,
          2059,
          2060,
          2061,
          2062,
          2063,
          2064,
          2065,
          2066,
          2067,
          2068,
          2069,
          2070,
          2071,
          2072,
          2073,
          2074,
          2075,
          2076,
          2077,
          2078,
          2079,
          2080,
          2081,
          2082,
          2083,
          2084,
          2085,
          2086,
          2087,
          2088,
          2089,
          2090,
          2091,
          2092,
          2093,
          2094,
          2095,
          2096,
          2097,
          2098,
          2099,
          2100
         ],
         "y": [
          0.747520661157026,
          0.897982498784639,
          1.048444336412252,
          1.1989061740398652,
          1.3493680116674782,
          1.4998298492950912,
          1.6502916869227042,
          1.8007535245503172,
          1.9512153621779302,
          2.1016771998055432,
          2.2521390374331562,
          2.4026008750607692,
          2.5530627126883827,
          2.7035245503159953,
          2.8539863879436087,
          3.0044482255712213,
          3.1549100631988347,
          3.3053719008264473,
          3.4558337384540607,
          3.6062955760816733,
          3.7567574137092867,
          3.9072192513368993,
          4.057681088964513,
          4.208142926592125,
          4.358604764219739,
          4.509066601847352,
          4.659528439474965,
          4.809990277102577,
          4.960452114730191,
          5.110913952357803,
          5.261375789985417,
          5.411837627613029,
          5.562299465240643,
          5.712761302868256,
          5.863223140495869,
          6.013684978123482,
          6.164146815751095,
          6.314608653378708,
          6.465070491006321,
          6.615532328633934,
          6.765994166261547,
          6.91645600388916,
          7.066917841516773,
          7.217379679144386,
          7.367841516771999,
          7.518303354399612,
          7.668765192027225,
          7.819227029654838,
          7.969688867282452,
          8.120150704910065,
          8.270612542537679,
          8.42107438016529,
          8.571536217792904,
          8.721998055420517,
          8.872459893048129,
          9.022921730675742,
          9.173383568303356,
          9.32384540593097,
          9.474307243558581,
          9.624769081186194,
          9.775230918813808,
          9.925692756441421,
          10.076154594069033,
          10.226616431696646,
          10.37707826932426,
          10.527540106951873,
          10.678001944579487,
          10.828463782207098,
          10.978925619834712,
          11.129387457462325,
          11.279849295089939,
          11.43031113271755,
          11.580772970345164,
          11.731234807972777,
          11.88169664560039,
          12.032158483228002,
          12.182620320855616,
          12.33308215848323,
          12.483543996110843,
          12.634005833738454,
          12.784467671366068,
          12.934929508993681,
          13.085391346621295,
          13.235853184248908,
          13.38631502187652,
          13.536776859504133,
          13.687238697131747,
          13.83770053475936,
          13.988162372386972,
          14.138624210014585,
          14.289086047642199,
          14.439547885269812,
          14.590009722897424,
          14.740471560525037,
          14.89093339815265,
          15.041395235780264,
          15.191857073407878,
          15.34231891103549,
          15.492780748663103,
          15.643242586290716,
          15.79370442391833,
          15.944166261545941,
          16.094628099173555,
          16.24508993680117,
          16.39555177442878,
          16.546013612056395,
          16.69647544968401,
          16.84693728731162,
          16.997399124939232,
          17.147860962566845,
          17.29832280019446,
          17.448784637822072,
          17.599246475449686,
          17.7497083130773,
          17.900170150704913,
          18.050631988332526,
          18.201093825960136,
          18.35155566358775,
          18.502017501215363,
          18.652479338842976
         ]
        }
       ],
       "layout": {
        "height": 500,
        "legend": {
         "orientation": "h",
         "traceorder": "normal",
         "x": 0,
         "y": 1
        },
        "template": {
         "data": {
          "bar": [
           {
            "error_x": {
             "color": "#2a3f5f"
            },
            "error_y": {
             "color": "#2a3f5f"
            },
            "marker": {
             "line": {
              "color": "#E5ECF6",
              "width": 0.5
             },
             "pattern": {
              "fillmode": "overlay",
              "size": 10,
              "solidity": 0.2
             }
            },
            "type": "bar"
           }
          ],
          "barpolar": [
           {
            "marker": {
             "line": {
              "color": "#E5ECF6",
              "width": 0.5
             },
             "pattern": {
              "fillmode": "overlay",
              "size": 10,
              "solidity": 0.2
             }
            },
            "type": "barpolar"
           }
          ],
          "carpet": [
           {
            "aaxis": {
             "endlinecolor": "#2a3f5f",
             "gridcolor": "white",
             "linecolor": "white",
             "minorgridcolor": "white",
             "startlinecolor": "#2a3f5f"
            },
            "baxis": {
             "endlinecolor": "#2a3f5f",
             "gridcolor": "white",
             "linecolor": "white",
             "minorgridcolor": "white",
             "startlinecolor": "#2a3f5f"
            },
            "type": "carpet"
           }
          ],
          "choropleth": [
           {
            "colorbar": {
             "outlinewidth": 0,
             "ticks": ""
            },
            "type": "choropleth"
           }
          ],
          "contour": [
           {
            "colorbar": {
             "outlinewidth": 0,
             "ticks": ""
            },
            "colorscale": [
             [
              0,
              "#0d0887"
             ],
             [
              0.1111111111111111,
              "#46039f"
             ],
             [
              0.2222222222222222,
              "#7201a8"
             ],
             [
              0.3333333333333333,
              "#9c179e"
             ],
             [
              0.4444444444444444,
              "#bd3786"
             ],
             [
              0.5555555555555556,
              "#d8576b"
             ],
             [
              0.6666666666666666,
              "#ed7953"
             ],
             [
              0.7777777777777778,
              "#fb9f3a"
             ],
             [
              0.8888888888888888,
              "#fdca26"
             ],
             [
              1,
              "#f0f921"
             ]
            ],
            "type": "contour"
           }
          ],
          "contourcarpet": [
           {
            "colorbar": {
             "outlinewidth": 0,
             "ticks": ""
            },
            "type": "contourcarpet"
           }
          ],
          "heatmap": [
           {
            "colorbar": {
             "outlinewidth": 0,
             "ticks": ""
            },
            "colorscale": [
             [
              0,
              "#0d0887"
             ],
             [
              0.1111111111111111,
              "#46039f"
             ],
             [
              0.2222222222222222,
              "#7201a8"
             ],
             [
              0.3333333333333333,
              "#9c179e"
             ],
             [
              0.4444444444444444,
              "#bd3786"
             ],
             [
              0.5555555555555556,
              "#d8576b"
             ],
             [
              0.6666666666666666,
              "#ed7953"
             ],
             [
              0.7777777777777778,
              "#fb9f3a"
             ],
             [
              0.8888888888888888,
              "#fdca26"
             ],
             [
              1,
              "#f0f921"
             ]
            ],
            "type": "heatmap"
           }
          ],
          "heatmapgl": [
           {
            "colorbar": {
             "outlinewidth": 0,
             "ticks": ""
            },
            "colorscale": [
             [
              0,
              "#0d0887"
             ],
             [
              0.1111111111111111,
              "#46039f"
             ],
             [
              0.2222222222222222,
              "#7201a8"
             ],
             [
              0.3333333333333333,
              "#9c179e"
             ],
             [
              0.4444444444444444,
              "#bd3786"
             ],
             [
              0.5555555555555556,
              "#d8576b"
             ],
             [
              0.6666666666666666,
              "#ed7953"
             ],
             [
              0.7777777777777778,
              "#fb9f3a"
             ],
             [
              0.8888888888888888,
              "#fdca26"
             ],
             [
              1,
              "#f0f921"
             ]
            ],
            "type": "heatmapgl"
           }
          ],
          "histogram": [
           {
            "marker": {
             "pattern": {
              "fillmode": "overlay",
              "size": 10,
              "solidity": 0.2
             }
            },
            "type": "histogram"
           }
          ],
          "histogram2d": [
           {
            "colorbar": {
             "outlinewidth": 0,
             "ticks": ""
            },
            "colorscale": [
             [
              0,
              "#0d0887"
             ],
             [
              0.1111111111111111,
              "#46039f"
             ],
             [
              0.2222222222222222,
              "#7201a8"
             ],
             [
              0.3333333333333333,
              "#9c179e"
             ],
             [
              0.4444444444444444,
              "#bd3786"
             ],
             [
              0.5555555555555556,
              "#d8576b"
             ],
             [
              0.6666666666666666,
              "#ed7953"
             ],
             [
              0.7777777777777778,
              "#fb9f3a"
             ],
             [
              0.8888888888888888,
              "#fdca26"
             ],
             [
              1,
              "#f0f921"
             ]
            ],
            "type": "histogram2d"
           }
          ],
          "histogram2dcontour": [
           {
            "colorbar": {
             "outlinewidth": 0,
             "ticks": ""
            },
            "colorscale": [
             [
              0,
              "#0d0887"
             ],
             [
              0.1111111111111111,
              "#46039f"
             ],
             [
              0.2222222222222222,
              "#7201a8"
             ],
             [
              0.3333333333333333,
              "#9c179e"
             ],
             [
              0.4444444444444444,
              "#bd3786"
             ],
             [
              0.5555555555555556,
              "#d8576b"
             ],
             [
              0.6666666666666666,
              "#ed7953"
             ],
             [
              0.7777777777777778,
              "#fb9f3a"
             ],
             [
              0.8888888888888888,
              "#fdca26"
             ],
             [
              1,
              "#f0f921"
             ]
            ],
            "type": "histogram2dcontour"
           }
          ],
          "mesh3d": [
           {
            "colorbar": {
             "outlinewidth": 0,
             "ticks": ""
            },
            "type": "mesh3d"
           }
          ],
          "parcoords": [
           {
            "line": {
             "colorbar": {
              "outlinewidth": 0,
              "ticks": ""
             }
            },
            "type": "parcoords"
           }
          ],
          "pie": [
           {
            "automargin": true,
            "type": "pie"
           }
          ],
          "scatter": [
           {
            "fillpattern": {
             "fillmode": "overlay",
             "size": 10,
             "solidity": 0.2
            },
            "type": "scatter"
           }
          ],
          "scatter3d": [
           {
            "line": {
             "colorbar": {
              "outlinewidth": 0,
              "ticks": ""
             }
            },
            "marker": {
             "colorbar": {
              "outlinewidth": 0,
              "ticks": ""
             }
            },
            "type": "scatter3d"
           }
          ],
          "scattercarpet": [
           {
            "marker": {
             "colorbar": {
              "outlinewidth": 0,
              "ticks": ""
             }
            },
            "type": "scattercarpet"
           }
          ],
          "scattergeo": [
           {
            "marker": {
             "colorbar": {
              "outlinewidth": 0,
              "ticks": ""
             }
            },
            "type": "scattergeo"
           }
          ],
          "scattergl": [
           {
            "marker": {
             "colorbar": {
              "outlinewidth": 0,
              "ticks": ""
             }
            },
            "type": "scattergl"
           }
          ],
          "scattermapbox": [
           {
            "marker": {
             "colorbar": {
              "outlinewidth": 0,
              "ticks": ""
             }
            },
            "type": "scattermapbox"
           }
          ],
          "scatterpolar": [
           {
            "marker": {
             "colorbar": {
              "outlinewidth": 0,
              "ticks": ""
             }
            },
            "type": "scatterpolar"
           }
          ],
          "scatterpolargl": [
           {
            "marker": {
             "colorbar": {
              "outlinewidth": 0,
              "ticks": ""
             }
            },
            "type": "scatterpolargl"
           }
          ],
          "scatterternary": [
           {
            "marker": {
             "colorbar": {
              "outlinewidth": 0,
              "ticks": ""
             }
            },
            "type": "scatterternary"
           }
          ],
          "surface": [
           {
            "colorbar": {
             "outlinewidth": 0,
             "ticks": ""
            },
            "colorscale": [
             [
              0,
              "#0d0887"
             ],
             [
              0.1111111111111111,
              "#46039f"
             ],
             [
              0.2222222222222222,
              "#7201a8"
             ],
             [
              0.3333333333333333,
              "#9c179e"
             ],
             [
              0.4444444444444444,
              "#bd3786"
             ],
             [
              0.5555555555555556,
              "#d8576b"
             ],
             [
              0.6666666666666666,
              "#ed7953"
             ],
             [
              0.7777777777777778,
              "#fb9f3a"
             ],
             [
              0.8888888888888888,
              "#fdca26"
             ],
             [
              1,
              "#f0f921"
             ]
            ],
            "type": "surface"
           }
          ],
          "table": [
           {
            "cells": {
             "fill": {
              "color": "#EBF0F8"
             },
             "line": {
              "color": "white"
             }
            },
            "header": {
             "fill": {
              "color": "#C8D4E3"
             },
             "line": {
              "color": "white"
             }
            },
            "type": "table"
           }
          ]
         },
         "layout": {
          "annotationdefaults": {
           "arrowcolor": "#2a3f5f",
           "arrowhead": 0,
           "arrowwidth": 1
          },
          "autotypenumbers": "strict",
          "coloraxis": {
           "colorbar": {
            "outlinewidth": 0,
            "ticks": ""
           }
          },
          "colorscale": {
           "diverging": [
            [
             0,
             "#8e0152"
            ],
            [
             0.1,
             "#c51b7d"
            ],
            [
             0.2,
             "#de77ae"
            ],
            [
             0.3,
             "#f1b6da"
            ],
            [
             0.4,
             "#fde0ef"
            ],
            [
             0.5,
             "#f7f7f7"
            ],
            [
             0.6,
             "#e6f5d0"
            ],
            [
             0.7,
             "#b8e186"
            ],
            [
             0.8,
             "#7fbc41"
            ],
            [
             0.9,
             "#4d9221"
            ],
            [
             1,
             "#276419"
            ]
           ],
           "sequential": [
            [
             0,
             "#0d0887"
            ],
            [
             0.1111111111111111,
             "#46039f"
            ],
            [
             0.2222222222222222,
             "#7201a8"
            ],
            [
             0.3333333333333333,
             "#9c179e"
            ],
            [
             0.4444444444444444,
             "#bd3786"
            ],
            [
             0.5555555555555556,
             "#d8576b"
            ],
            [
             0.6666666666666666,
             "#ed7953"
            ],
            [
             0.7777777777777778,
             "#fb9f3a"
            ],
            [
             0.8888888888888888,
             "#fdca26"
            ],
            [
             1,
             "#f0f921"
            ]
           ],
           "sequentialminus": [
            [
             0,
             "#0d0887"
            ],
            [
             0.1111111111111111,
             "#46039f"
            ],
            [
             0.2222222222222222,
             "#7201a8"
            ],
            [
             0.3333333333333333,
             "#9c179e"
            ],
            [
             0.4444444444444444,
             "#bd3786"
            ],
            [
             0.5555555555555556,
             "#d8576b"
            ],
            [
             0.6666666666666666,
             "#ed7953"
            ],
            [
             0.7777777777777778,
             "#fb9f3a"
            ],
            [
             0.8888888888888888,
             "#fdca26"
            ],
            [
             1,
             "#f0f921"
            ]
           ]
          },
          "colorway": [
           "#636efa",
           "#EF553B",
           "#00cc96",
           "#ab63fa",
           "#FFA15A",
           "#19d3f3",
           "#FF6692",
           "#B6E880",
           "#FF97FF",
           "#FECB52"
          ],
          "font": {
           "color": "#2a3f5f"
          },
          "geo": {
           "bgcolor": "white",
           "lakecolor": "white",
           "landcolor": "#E5ECF6",
           "showlakes": true,
           "showland": true,
           "subunitcolor": "white"
          },
          "hoverlabel": {
           "align": "left"
          },
          "hovermode": "closest",
          "mapbox": {
           "style": "light"
          },
          "paper_bgcolor": "white",
          "plot_bgcolor": "#E5ECF6",
          "polar": {
           "angularaxis": {
            "gridcolor": "white",
            "linecolor": "white",
            "ticks": ""
           },
           "bgcolor": "#E5ECF6",
           "radialaxis": {
            "gridcolor": "white",
            "linecolor": "white",
            "ticks": ""
           }
          },
          "scene": {
           "xaxis": {
            "backgroundcolor": "#E5ECF6",
            "gridcolor": "white",
            "gridwidth": 2,
            "linecolor": "white",
            "showbackground": true,
            "ticks": "",
            "zerolinecolor": "white"
           },
           "yaxis": {
            "backgroundcolor": "#E5ECF6",
            "gridcolor": "white",
            "gridwidth": 2,
            "linecolor": "white",
            "showbackground": true,
            "ticks": "",
            "zerolinecolor": "white"
           },
           "zaxis": {
            "backgroundcolor": "#E5ECF6",
            "gridcolor": "white",
            "gridwidth": 2,
            "linecolor": "white",
            "showbackground": true,
            "ticks": "",
            "zerolinecolor": "white"
           }
          },
          "shapedefaults": {
           "line": {
            "color": "#2a3f5f"
           }
          },
          "ternary": {
           "aaxis": {
            "gridcolor": "white",
            "linecolor": "white",
            "ticks": ""
           },
           "baxis": {
            "gridcolor": "white",
            "linecolor": "white",
            "ticks": ""
           },
           "bgcolor": "#E5ECF6",
           "caxis": {
            "gridcolor": "white",
            "linecolor": "white",
            "ticks": ""
           }
          },
          "title": {
           "x": 0.05
          },
          "xaxis": {
           "automargin": true,
           "gridcolor": "white",
           "linecolor": "white",
           "ticks": "",
           "title": {
            "standoff": 15
           },
           "zerolinecolor": "white",
           "zerolinewidth": 2
          },
          "yaxis": {
           "automargin": true,
           "gridcolor": "white",
           "linecolor": "white",
           "ticks": "",
           "title": {
            "standoff": 15
           },
           "zerolinecolor": "white",
           "zerolinewidth": 2
          }
         }
        },
        "title": {
         "text": "Heat wave occurence in Selected pixel by year for period 1971-2000 and 2011-2100 rcp4.5 and 8.5"
        },
        "width": 1100,
        "xaxis": {
         "autorange": true,
         "range": [
          1970.5,
          2100.5
         ],
         "title": {
          "text": "Year"
         },
         "type": "linear"
        },
        "yaxis": {
         "autorange": true,
         "range": [
          -0.7665059687786948,
          29.51402662993572
         ],
         "title": {
          "text": "Number of Heat-waves"
         },
         "type": "linear"
        }
       }
      },
      "image/png": "[encoded data removed]",
      "text/html": [
       "<div>                            <div id=\"b04d40ac-d0f7-430a-a8a2-a89028465d33\" class=\"plotly-graph-div\" style=\"height:500px; width:1100px;\"></div>            <script type=\"text/javascript\">                require([\"plotly\"], function(Plotly) {                    window.PLOTLYENV=window.PLOTLYENV || {};                                    if (document.getElementById(\"b04d40ac-d0f7-430a-a8a2-a89028465d33\")) {                    Plotly.newPlot(                        \"b04d40ac-d0f7-430a-a8a2-a89028465d33\",                        [{\"marker\":{\"color\":\"blue\"},\"name\":\"RCP 4.5\",\"x\":[1971,1972,1973,1974,1975,1976,1977,1978,1979,1980,1981,1982,1983,1984,1985,1986,1987,1988,1989,1990,1991,1992,1993,1994,1995,1996,1997,1998,1999,2000,2011,2012,2013,2014,2015,2016,2017,2018,2019,2020,2021,2022,2023,2024,2025,2026,2027,2028,2029,2030,2031,2032,2033,2034,2035,2036,2037,2038,2039,2040,2041,2042,2043,2044,2045,2046,2047,2048,2049,2050,2051,2052,2053,2054,2055,2056,2057,2058,2059,2060,2061,2062,2063,2064,2065,2066,2067,2068,2069,2070,2071,2072,2073,2074,2075,2076,2077,2078,2079,2080,2081,2082,2083,2084,2085,2086,2087,2088,2089,2090,2091,2092,2093,2094,2095,2096,2097,2098,2099,2100],\"y\":[3.0,6.0,7.0,8.0,9.0,5.0,5.0,5.0,3.0,1.0,6.0,4.0,2.0,3.0,0.0,9.0,8.0,5.0,3.0,6.0,2.0,2.0,1.0,1.0,3.0,9.0,4.0,3.0,4.0,1.0,6.0,3.0,3.0,0.0,10.0,3.0,7.0,5.0,8.0,2.0,7.0,6.0,4.0,2.0,4.0,9.0,8.0,9.0,8.0,8.0,7.0,6.0,5.0,3.0,8.0,3.0,9.0,5.0,16.0,10.0,11.0,8.0,6.0,12.0,6.0,4.0,13.0,9.0,8.0,6.0,7.0,8.0,9.0,12.0,13.0,11.0,11.0,9.0,11.0,14.0,7.0,10.0,12.0,12.0,8.0,9.0,13.0,5.0,7.0,8.0,11.0,7.0,8.0,7.0,10.0,10.0,6.0,9.0,9.0,7.0,8.0,10.0,8.0,12.0,9.0,7.0,15.0,13.0,10.0,5.0,6.0,10.0,18.0,14.0,11.0,9.0,8.0,8.0,4.0,15.0],\"type\":\"bar\"},{\"marker\":{\"color\":\"red\"},\"name\":\"RCP 8.5\",\"opacity\":0.5,\"x\":[1971,1972,1973,1974,1975,1976,1977,1978,1979,1980,1981,1982,1983,1984,1985,1986,1987,1988,1989,1990,1991,1992,1993,1994,1995,1996,1997,1998,1999,2000,2011,2012,2013,2014,2015,2016,2017,2018,2019,2020,2021,2022,2023,2024,2025,2026,2027,2028,2029,2030,2031,2032,2033,2034,2035,2036,2037,2038,2039,2040,2041,2042,2043,2044,2045,2046,2047,2048,2049,2050,2051,2052,2053,2054,2055,2056,2057,2058,2059,2060,2061,2062,2063,2064,2065,2066,2067,2068,2069,2070,2071,2072,2073,2074,2075,2076,2077,2078,2079,2080,2081,2082,2083,2084,2085,2086,2087,2088,2089,2090,2091,2092,2093,2094,2095,2096,2097,2098,2099,2100],\"y\":[3.0,6.0,7.0,8.0,9.0,5.0,5.0,5.0,3.0,1.0,6.0,4.0,2.0,3.0,0.0,9.0,8.0,5.0,3.0,6.0,2.0,2.0,1.0,1.0,3.0,9.0,4.0,3.0,4.0,1.0,5.0,10.0,4.0,5.0,7.0,3.0,9.0,4.0,4.0,4.0,6.0,5.0,2.0,7.0,7.0,7.0,1.0,7.0,8.0,7.0,11.0,9.0,7.0,2.0,6.0,7.0,5.0,7.0,7.0,13.0,5.0,10.0,11.0,4.0,7.0,9.0,11.0,12.0,3.0,10.0,16.0,9.0,11.0,10.0,6.0,5.0,12.0,11.0,10.0,10.0,10.0,18.0,11.0,14.0,20.0,9.0,12.0,16.0,11.0,12.0,10.0,10.0,11.0,13.0,19.0,13.0,15.0,15.0,17.0,13.0,12.0,16.0,20.0,23.0,11.0,19.0,15.0,24.0,18.0,20.0,19.0,22.0,26.0,23.0,20.0,24.0,19.0,19.0,28.0,21.0],\"type\":\"bar\"},{\"line\":{\"color\":\"blue\"},\"mode\":\"lines\",\"name\":\"RCP 4.5 trend\",\"x\":[1971,1972,1973,1974,1975,1976,1977,1978,1979,1980,1981,1982,1983,1984,1985,1986,1987,1988,1989,1990,1991,1992,1993,1994,1995,1996,1997,1998,1999,2000,2011,2012,2013,2014,2015,2016,2017,2018,2019,2020,2021,2022,2023,2024,2025,2026,2027,2028,2029,2030,2031,2032,2033,2034,2035,2036,2037,2038,2039,2040,2041,2042,2043,2044,2045,2046,2047,2048,2049,2050,2051,2052,2053,2054,2055,2056,2057,2058,2059,2060,2061,2062,2063,2064,2065,2066,2067,2068,2069,2070,2071,2072,2073,2074,2075,2076,2077,2078,2079,2080,2081,2082,2083,2084,2085,2086,2087,2088,2089,2090,2091,2092,2093,2094,2095,2096,2097,2098,2099,2100],\"y\":[3.643939393939396,3.705245734657501,3.7665520753756065,3.827858416093712,3.8891647568118177,3.950471097529923,4.0117774382480285,4.073083778966134,4.134390119684239,4.195696460402345,4.25700280112045,4.318309141838555,4.379615482556661,4.440921823274766,4.502228163992871,4.563534504710978,4.624840845429083,4.686147186147188,4.747453526865294,4.808759867583399,4.8700662083015045,4.93137254901961,4.992678889737715,5.053985230455821,5.115291571173926,5.176597911892031,5.237904252610137,5.299210593328242,5.360516934046348,5.421823274764453,5.483129615482559,5.544435956200664,5.60574229691877,5.667048637636875,5.7283549783549805,5.789661319073086,5.850967659791191,5.912274000509297,5.973580341227402,6.034886681945507,6.096193022663613,6.157499363381719,6.2188057040998235,6.28011204481793,6.341418385536034,6.4027247262541405,6.464031066972245,6.525337407690351,6.586643748408457,6.647950089126562,6.709256429844667,6.770562770562773,6.831869111280878,6.893175451998983,6.95448179271709,7.015788133435194,7.0770944741533,7.138400814871405,7.199707155589511,7.261013496307616,7.322319837025722,7.383626177743827,7.444932518461933,7.506238859180038,7.567545199898143,7.628851540616249,7.690157881334354,7.75146422205246,7.812770562770565,7.874076903488671,7.9353832442067755,7.996689584924882,8.057995925642986,8.119302266361093,8.180608607079197,8.241914947797303,8.303221288515408,8.364527629233514,8.425833969951618,8.487140310669725,8.548446651387831,8.609752992105935,8.671059332824042,8.732365673542146,8.793672014260252,8.854978354978357,8.916284695696463,8.977591036414568,9.038897377132674,9.100203717850778,9.161510058568885,9.22281639928699,9.284122740005095,9.345429080723202,9.406735421441306,9.468041762159412,9.529348102877517,9.590654443595623,9.651960784313728,9.713267125031834,9.774573465749938,9.835879806468045,9.897186147186149,9.958492487904255,10.01979882862236,10.081105169340466,10.14241151005857,10.203717850776677,10.265024191494783,10.326330532212888,10.387636872930994,10.448943213649098,10.510249554367205,10.571555895085309,10.632862235803415,10.69416857652152,10.755474917239626,10.81678125795773,10.878087598675837,10.939393939393941],\"type\":\"scatter\"},{\"line\":{\"color\":\"red\"},\"mode\":\"lines\",\"name\":\"RCP 8.5 trend\",\"x\":[1971,1972,1973,1974,1975,1976,1977,1978,1979,1980,1981,1982,1983,1984,1985,1986,1987,1988,1989,1990,1991,1992,1993,1994,1995,1996,1997,1998,1999,2000,2011,2012,2013,2014,2015,2016,2017,2018,2019,2020,2021,2022,2023,2024,2025,2026,2027,2028,2029,2030,2031,2032,2033,2034,2035,2036,2037,2038,2039,2040,2041,2042,2043,2044,2045,2046,2047,2048,2049,2050,2051,2052,2053,2054,2055,2056,2057,2058,2059,2060,2061,2062,2063,2064,2065,2066,2067,2068,2069,2070,2071,2072,2073,2074,2075,2076,2077,2078,2079,2080,2081,2082,2083,2084,2085,2086,2087,2088,2089,2090,2091,2092,2093,2094,2095,2096,2097,2098,2099,2100],\"y\":[0.747520661157026,0.897982498784639,1.048444336412252,1.1989061740398652,1.3493680116674782,1.4998298492950912,1.6502916869227042,1.8007535245503172,1.9512153621779302,2.1016771998055432,2.2521390374331562,2.4026008750607692,2.5530627126883827,2.7035245503159953,2.8539863879436087,3.0044482255712213,3.1549100631988347,3.3053719008264473,3.4558337384540607,3.6062955760816733,3.7567574137092867,3.9072192513368993,4.057681088964513,4.208142926592125,4.358604764219739,4.509066601847352,4.659528439474965,4.809990277102577,4.960452114730191,5.110913952357803,5.261375789985417,5.411837627613029,5.562299465240643,5.712761302868256,5.863223140495869,6.013684978123482,6.164146815751095,6.314608653378708,6.465070491006321,6.615532328633934,6.765994166261547,6.91645600388916,7.066917841516773,7.217379679144386,7.367841516771999,7.518303354399612,7.668765192027225,7.819227029654838,7.969688867282452,8.120150704910065,8.270612542537679,8.42107438016529,8.571536217792904,8.721998055420517,8.872459893048129,9.022921730675742,9.173383568303356,9.32384540593097,9.474307243558581,9.624769081186194,9.775230918813808,9.925692756441421,10.076154594069033,10.226616431696646,10.37707826932426,10.527540106951873,10.678001944579487,10.828463782207098,10.978925619834712,11.129387457462325,11.279849295089939,11.43031113271755,11.580772970345164,11.731234807972777,11.88169664560039,12.032158483228002,12.182620320855616,12.33308215848323,12.483543996110843,12.634005833738454,12.784467671366068,12.934929508993681,13.085391346621295,13.235853184248908,13.38631502187652,13.536776859504133,13.687238697131747,13.83770053475936,13.988162372386972,14.138624210014585,14.289086047642199,14.439547885269812,14.590009722897424,14.740471560525037,14.89093339815265,15.041395235780264,15.191857073407878,15.34231891103549,15.492780748663103,15.643242586290716,15.79370442391833,15.944166261545941,16.094628099173555,16.24508993680117,16.39555177442878,16.546013612056395,16.69647544968401,16.84693728731162,16.997399124939232,17.147860962566845,17.29832280019446,17.448784637822072,17.599246475449686,17.7497083130773,17.900170150704913,18.050631988332526,18.201093825960136,18.35155566358775,18.502017501215363,18.652479338842976],\"type\":\"scatter\"}],                        {\"template\":{\"data\":{\"histogram2dcontour\":[{\"type\":\"histogram2dcontour\",\"colorbar\":{\"outlinewidth\":0,\"ticks\":\"\"},\"colorscale\":[[0.0,\"#0d0887\"],[0.1111111111111111,\"#46039f\"],[0.2222222222222222,\"#7201a8\"],[0.3333333333333333,\"#9c179e\"],[0.4444444444444444,\"#bd3786\"],[0.5555555555555556,\"#d8576b\"],[0.6666666666666666,\"#ed7953\"],[0.7777777777777778,\"#fb9f3a\"],[0.8888888888888888,\"#fdca26\"],[1.0,\"#f0f921\"]]}],\"choropleth\":[{\"type\":\"choropleth\",\"colorbar\":{\"outlinewidth\":0,\"ticks\":\"\"}}],\"histogram2d\":[{\"type\":\"histogram2d\",\"colorbar\":{\"outlinewidth\":0,\"ticks\":\"\"},\"colorscale\":[[0.0,\"#0d0887\"],[0.1111111111111111,\"#46039f\"],[0.2222222222222222,\"#7201a8\"],[0.3333333333333333,\"#9c179e\"],[0.4444444444444444,\"#bd3786\"],[0.5555555555555556,\"#d8576b\"],[0.6666666666666666,\"#ed7953\"],[0.7777777777777778,\"#fb9f3a\"],[0.8888888888888888,\"#fdca26\"],[1.0,\"#f0f921\"]]}],\"heatmap\":[{\"type\":\"heatmap\",\"colorbar\":{\"outlinewidth\":0,\"ticks\":\"\"},\"colorscale\":[[0.0,\"#0d0887\"],[0.1111111111111111,\"#46039f\"],[0.2222222222222222,\"#7201a8\"],[0.3333333333333333,\"#9c179e\"],[0.4444444444444444,\"#bd3786\"],[0.5555555555555556,\"#d8576b\"],[0.6666666666666666,\"#ed7953\"],[0.7777777777777778,\"#fb9f3a\"],[0.8888888888888888,\"#fdca26\"],[1.0,\"#f0f921\"]]}],\"heatmapgl\":[{\"type\":\"heatmapgl\",\"colorbar\":{\"outlinewidth\":0,\"ticks\":\"\"},\"colorscale\":[[0.0,\"#0d0887\"],[0.1111111111111111,\"#46039f\"],[0.2222222222222222,\"#7201a8\"],[0.3333333333333333,\"#9c179e\"],[0.4444444444444444,\"#bd3786\"],[0.5555555555555556,\"#d8576b\"],[0.6666666666666666,\"#ed7953\"],[0.7777777777777778,\"#fb9f3a\"],[0.8888888888888888,\"#fdca26\"],[1.0,\"#f0f921\"]]}],\"contourcarpet\":[{\"type\":\"contourcarpet\",\"colorbar\":{\"outlinewidth\":0,\"ticks\":\"\"}}],\"contour\":[{\"type\":\"contour\",\"colorbar\":{\"outlinewidth\":0,\"ticks\":\"\"},\"colorscale\":[[0.0,\"#0d0887\"],[0.1111111111111111,\"#46039f\"],[0.2222222222222222,\"#7201a8\"],[0.3333333333333333,\"#9c179e\"],[0.4444444444444444,\"#bd3786\"],[0.5555555555555556,\"#d8576b\"],[0.6666666666666666,\"#ed7953\"],[0.7777777777777778,\"#fb9f3a\"],[0.8888888888888888,\"#fdca26\"],[1.0,\"#f0f921\"]]}],\"surface\":[{\"type\":\"surface\",\"colorbar\":{\"outlinewidth\":0,\"ticks\":\"\"},\"colorscale\":[[0.0,\"#0d0887\"],[0.1111111111111111,\"#46039f\"],[0.2222222222222222,\"#7201a8\"],[0.3333333333333333,\"#9c179e\"],[0.4444444444444444,\"#bd3786\"],[0.5555555555555556,\"#d8576b\"],[0.6666666666666666,\"#ed7953\"],[0.7777777777777778,\"#fb9f3a\"],[0.8888888888888888,\"#fdca26\"],[1.0,\"#f0f921\"]]}],\"mesh3d\":[{\"type\":\"mesh3d\",\"colorbar\":{\"outlinewidth\":0,\"ticks\":\"\"}}],\"scatter\":[{\"fillpattern\":{\"fillmode\":\"overlay\",\"size\":10,\"solidity\":0.2},\"type\":\"scatter\"}],\"parcoords\":[{\"type\":\"parcoords\",\"line\":{\"colorbar\":{\"outlinewidth\":0,\"ticks\":\"\"}}}],\"scatterpolargl\":[{\"type\":\"scatterpolargl\",\"marker\":{\"colorbar\":{\"outlinewidth\":0,\"ticks\":\"\"}}}],\"bar\":[{\"error_x\":{\"color\":\"#2a3f5f\"},\"error_y\":{\"color\":\"#2a3f5f\"},\"marker\":{\"line\":{\"color\":\"#E5ECF6\",\"width\":0.5},\"pattern\":{\"fillmode\":\"overlay\",\"size\":10,\"solidity\":0.2}},\"type\":\"bar\"}],\"scattergeo\":[{\"type\":\"scattergeo\",\"marker\":{\"colorbar\":{\"outlinewidth\":0,\"ticks\":\"\"}}}],\"scatterpolar\":[{\"type\":\"scatterpolar\",\"marker\":{\"colorbar\":{\"outlinewidth\":0,\"ticks\":\"\"}}}],\"histogram\":[{\"marker\":{\"pattern\":{\"fillmode\":\"overlay\",\"size\":10,\"solidity\":0.2}},\"type\":\"histogram\"}],\"scattergl\":[{\"type\":\"scattergl\",\"marker\":{\"colorbar\":{\"outlinewidth\":0,\"ticks\":\"\"}}}],\"scatter3d\":[{\"type\":\"scatter3d\",\"line\":{\"colorbar\":{\"outlinewidth\":0,\"ticks\":\"\"}},\"marker\":{\"colorbar\":{\"outlinewidth\":0,\"ticks\":\"\"}}}],\"scattermapbox\":[{\"type\":\"scattermapbox\",\"marker\":{\"colorbar\":{\"outlinewidth\":0,\"ticks\":\"\"}}}],\"scatterternary\":[{\"type\":\"scatterternary\",\"marker\":{\"colorbar\":{\"outlinewidth\":0,\"ticks\":\"\"}}}],\"scattercarpet\":[{\"type\":\"scattercarpet\",\"marker\":{\"colorbar\":{\"outlinewidth\":0,\"ticks\":\"\"}}}],\"carpet\":[{\"aaxis\":{\"endlinecolor\":\"#2a3f5f\",\"gridcolor\":\"white\",\"linecolor\":\"white\",\"minorgridcolor\":\"white\",\"startlinecolor\":\"#2a3f5f\"},\"baxis\":{\"endlinecolor\":\"#2a3f5f\",\"gridcolor\":\"white\",\"linecolor\":\"white\",\"minorgridcolor\":\"white\",\"startlinecolor\":\"#2a3f5f\"},\"type\":\"carpet\"}],\"table\":[{\"cells\":{\"fill\":{\"color\":\"#EBF0F8\"},\"line\":{\"color\":\"white\"}},\"header\":{\"fill\":{\"color\":\"#C8D4E3\"},\"line\":{\"color\":\"white\"}},\"type\":\"table\"}],\"barpolar\":[{\"marker\":{\"line\":{\"color\":\"#E5ECF6\",\"width\":0.5},\"pattern\":{\"fillmode\":\"overlay\",\"size\":10,\"solidity\":0.2}},\"type\":\"barpolar\"}],\"pie\":[{\"automargin\":true,\"type\":\"pie\"}]},\"layout\":{\"autotypenumbers\":\"strict\",\"colorway\":[\"#636efa\",\"#EF553B\",\"#00cc96\",\"#ab63fa\",\"#FFA15A\",\"#19d3f3\",\"#FF6692\",\"#B6E880\",\"#FF97FF\",\"#FECB52\"],\"font\":{\"color\":\"#2a3f5f\"},\"hovermode\":\"closest\",\"hoverlabel\":{\"align\":\"left\"},\"paper_bgcolor\":\"white\",\"plot_bgcolor\":\"#E5ECF6\",\"polar\":{\"bgcolor\":\"#E5ECF6\",\"angularaxis\":{\"gridcolor\":\"white\",\"linecolor\":\"white\",\"ticks\":\"\"},\"radialaxis\":{\"gridcolor\":\"white\",\"linecolor\":\"white\",\"ticks\":\"\"}},\"ternary\":{\"bgcolor\":\"#E5ECF6\",\"aaxis\":{\"gridcolor\":\"white\",\"linecolor\":\"white\",\"ticks\":\"\"},\"baxis\":{\"gridcolor\":\"white\",\"linecolor\":\"white\",\"ticks\":\"\"},\"caxis\":{\"gridcolor\":\"white\",\"linecolor\":\"white\",\"ticks\":\"\"}},\"coloraxis\":{\"colorbar\":{\"outlinewidth\":0,\"ticks\":\"\"}},\"colorscale\":{\"sequential\":[[0.0,\"#0d0887\"],[0.1111111111111111,\"#46039f\"],[0.2222222222222222,\"#7201a8\"],[0.3333333333333333,\"#9c179e\"],[0.4444444444444444,\"#bd3786\"],[0.5555555555555556,\"#d8576b\"],[0.6666666666666666,\"#ed7953\"],[0.7777777777777778,\"#fb9f3a\"],[0.8888888888888888,\"#fdca26\"],[1.0,\"#f0f921\"]],\"sequentialminus\":[[0.0,\"#0d0887\"],[0.1111111111111111,\"#46039f\"],[0.2222222222222222,\"#7201a8\"],[0.3333333333333333,\"#9c179e\"],[0.4444444444444444,\"#bd3786\"],[0.5555555555555556,\"#d8576b\"],[0.6666666666666666,\"#ed7953\"],[0.7777777777777778,\"#fb9f3a\"],[0.8888888888888888,\"#fdca26\"],[1.0,\"#f0f921\"]],\"diverging\":[[0,\"#8e0152\"],[0.1,\"#c51b7d\"],[0.2,\"#de77ae\"],[0.3,\"#f1b6da\"],[0.4,\"#fde0ef\"],[0.5,\"#f7f7f7\"],[0.6,\"#e6f5d0\"],[0.7,\"#b8e186\"],[0.8,\"#7fbc41\"],[0.9,\"#4d9221\"],[1,\"#276419\"]]},\"xaxis\":{\"gridcolor\":\"white\",\"linecolor\":\"white\",\"ticks\":\"\",\"title\":{\"standoff\":15},\"zerolinecolor\":\"white\",\"automargin\":true,\"zerolinewidth\":2},\"yaxis\":{\"gridcolor\":\"white\",\"linecolor\":\"white\",\"ticks\":\"\",\"title\":{\"standoff\":15},\"zerolinecolor\":\"white\",\"automargin\":true,\"zerolinewidth\":2},\"scene\":{\"xaxis\":{\"backgroundcolor\":\"#E5ECF6\",\"gridcolor\":\"white\",\"linecolor\":\"white\",\"showbackground\":true,\"ticks\":\"\",\"zerolinecolor\":\"white\",\"gridwidth\":2},\"yaxis\":{\"backgroundcolor\":\"#E5ECF6\",\"gridcolor\":\"white\",\"linecolor\":\"white\",\"showbackground\":true,\"ticks\":\"\",\"zerolinecolor\":\"white\",\"gridwidth\":2},\"zaxis\":{\"backgroundcolor\":\"#E5ECF6\",\"gridcolor\":\"white\",\"linecolor\":\"white\",\"showbackground\":true,\"ticks\":\"\",\"zerolinecolor\":\"white\",\"gridwidth\":2}},\"shapedefaults\":{\"line\":{\"color\":\"#2a3f5f\"}},\"annotationdefaults\":{\"arrowcolor\":\"#2a3f5f\",\"arrowhead\":0,\"arrowwidth\":1},\"geo\":{\"bgcolor\":\"white\",\"landcolor\":\"#E5ECF6\",\"subunitcolor\":\"white\",\"showland\":true,\"showlakes\":true,\"lakecolor\":\"white\"},\"title\":{\"x\":0.05},\"mapbox\":{\"style\":\"light\"}}},\"legend\":{\"x\":0,\"y\":1,\"traceorder\":\"normal\",\"orientation\":\"h\"},\"title\":{\"text\":\"Heat wave occurence in Selected pixel by year for period 1971-2000 and 2011-2100 rcp4.5 and 8.5\"},\"xaxis\":{\"title\":{\"text\":\"Year\"}},\"yaxis\":{\"title\":{\"text\":\"Number of Heat-waves\"}},\"width\":1100,\"height\":500},                        {\"responsive\": true}                    ).then(function(){\n",
       "                            \n",
       "var gd = document.getElementById('b04d40ac-d0f7-430a-a8a2-a89028465d33');\n",
       "var x = new MutationObserver(function (mutations, observer) {{\n",
       "        var display = window.getComputedStyle(gd).display;\n",
       "        if (!display || display === 'none') {{\n",
       "            console.log([gd, 'removed!']);\n",
       "            Plotly.purge(gd);\n",
       "            observer.disconnect();\n",
       "        }}\n",
       "}});\n",
       "\n",
       "// Listen for the removal of the full notebook cells\n",
       "var notebookContainer = gd.closest('#notebook-container');\n",
       "if (notebookContainer) {{\n",
       "    x.observe(notebookContainer, {childList: true});\n",
       "}}\n",
       "\n",
       "// Listen for the clearing of the current output cell\n",
       "var outputEl = gd.closest('.output');\n",
       "if (outputEl) {{\n",
       "    x.observe(outputEl, {childList: true});\n",
       "}}\n",
       "\n",
       "                        })                };                });            </script>        </div>"
      ]
     },
     "metadata": {},
     "output_type": "display_data"
    }
   ],
   "source": [
    "# This code plots the heat-wave occurrence for the selected point for years \n",
    "# Sample data\n",
    "b = pixel_values_hy + pixel_values_p1y_45 + pixel_values_p2y_45 + pixel_values_p3y_45\n",
    "t = pixel_values_hy + pixel_values_p1y_85 + pixel_values_p2y_85 + pixel_values_p3y_85\n",
    "# Calculate trend lines for b and t\n",
    "b_trend = np.polyfit(np.arange(len(b)), b, 1)\n",
    "t_trend = np.polyfit(np.arange(len(t)), t, 1)\n",
    "# Define years\n",
    "yearh = list(range(1971, 2001))\n",
    "yearp1 = list(range(2011, 2101))\n",
    "year = yearh + yearp1\n",
    "# Create figure\n",
    "fig = go.Figure()\n",
    "# Add bar trace for 'b'\n",
    "fig.add_trace(go.Bar(x=year, y=b, name='RCP 4.5', marker_color='blue'))\n",
    "# Add bar trace for 't'\n",
    "fig.add_trace(go.Bar(x=year, y=t, name='RCP 8.5', opacity=0.5, marker_color='red'))\n",
    "# Add trend line trace for 'b'\n",
    "fig.add_trace(go.Scatter(x=year, y=np.polyval(b_trend, np.arange(len(b))), mode='lines', name='RCP 4.5 trend', line=dict(color='blue')))\n",
    "# Add trend line trace for 't'\n",
    "fig.add_trace(go.Scatter(x=year, y=np.polyval(t_trend, np.arange(len(t))), mode='lines', name='RCP 8.5 trend', line=dict(color='red')))\n",
    "# Update layout\n",
    "fig.update_layout(\n",
    "    title='Heat wave occurence in Selected pixel by year for period 1971-2000 and 2011-2100 rcp4.5 and 8.5',\n",
    "    xaxis_title='Year',\n",
    "    yaxis_title='Number of Heat-waves',\n",
    "    legend=dict(x=0, y=1, traceorder='normal', orientation='h'),\n",
    "    width=1100,\n",
    "    height=500)"
   ]
  },
  {
   "cell_type": "markdown",
   "id": "b2f917bc-39f2-4622-bc80-85d722c1e0e0",
   "metadata": {},
   "source": [
    "### Conclusion for Peseta IV results"
   ]
  },
  {
   "cell_type": "markdown",
   "id": "363e41bd-ca39-4fb8-ab08-7bbdb61ff806",
   "metadata": {},
   "source": [
    "Monthly comparison shows in which months we can expect the highest increase in the Heat-wave occurrence. Yearly comparisons show that the trend of Heat-wave occurrence should rise, however, how steep the trendline will be depends on the rcp and area you choose. "
   ]
  },
  {
   "cell_type": "markdown",
   "id": "2debc036-6c41-415a-a123-ecdef7f6d987",
   "metadata": {},
   "source": [
    "XCLIM is an operational Python library for climate services, providing numerous climate-related indicator tools with an extensible framework for constructing custom climate indicators, statistical downscaling and bias adjustment of climate model simulations, as well as climate model ensemble analysis tools.\r\n",
    "XCLIMim is built using xarray and can seamlessly benefit from the parallelization handling provided by dask. Its objective is to make it as simple as possible for users to perform typical climate services data treatment workflows. Leveraging xarray and dask, users can easily bias-adjust climate simulations over large spatial domains or compute indices from large climate datast [[XCLIM](https://xclim.readthedocs.io/en/stable/indicators.html)]\n",
    "\n",
    "\n",
    "Examples of the code for the computing of the climate indices.\n",
    "- xclim.indices.heat_wave_max_length(tasmin, tasmax, thresh_tasmin='22.0 degC', thresh_tasmax='30 degC', window=3, freq='YS', op='>', resample_before_rl=True)\n",
    "  \n",
    "The thresholds of 22° and 25°C for night temperatures and 30° and 35°C for day temperatures were selected by Health Canada professionals, following a temperature–mortality analysis. These absolute temperature thresholds characterize the occurrence of hot weather events that can result in adverse health outcomes for Canadian communities [Casati et al., 2013].\n",
    "\n",
    "In Robinson [2001], the parameters would be: thresh_tasmin=27.22, thresh_tasmax=39.44, window=2 (81F, 103F).\n",
    "Casati, Yagouti, and Chaumont [2013], Robinson [2001]\n",
    "\n",
    "- The biggest difference vs PESETA IV is that in XCLIM is the treshold for the heat waves calculated directly from the 30 years (rough estimate, identifies heat wave mainly in summer months), while in PESETA IV is calculated for monthly values from 30 years and we can detect also seasonal heat-wave changes. "
   ]
  },
  {
   "cell_type": "markdown",
   "id": "431aa284-1c0d-4d89-a6e7-e9a04124f992",
   "metadata": {},
   "source": [
    "### XCLIM packages"
   ]
  },
  {
   "cell_type": "code",
   "execution_count": 16,
   "id": "9c60be70-4b40-407a-b119-290c0c92260a",
   "metadata": {},
   "outputs": [],
   "source": [
    "# This code imports the XCLIM package\n",
    "import xclim.indices as xci\n",
    "import xclim"
   ]
  },
  {
   "cell_type": "markdown",
   "id": "20e4e359-fb3d-48d7-a071-d86686070f4f",
   "metadata": {},
   "source": [
    "### Data load\n",
    "- For XCLIM we are using the same data as for PESETA IV + data about minimum air temperature\n",
    "- These data are downloaded at the beginning of this notebook"
   ]
  },
  {
   "cell_type": "markdown",
   "id": "1217cdeb-f385-4ccc-bc3d-b5b8e7cfd353",
   "metadata": {},
   "source": [
    "- We can select our own bbox or use the selected one at the begginig of the notebook\n",
    "- Before proceeding this code you need to run whole section 1"
   ]
  },
  {
   "cell_type": "code",
   "execution_count": 12,
   "id": "9840ba7c-32f6-45cb-b5d7-2ad6b48b2829",
   "metadata": {},
   "outputs": [],
   "source": [
    "# This code selects the periods and RCPs for the computation of the climate indices by the XCLIM \n",
    "# Max T\n",
    "tasmaxh=tasmaxh.sel(time=slice(\"1971-01-01\", \"2000-12-31\"))\n",
    "tasmaxp_45=tasmax45.sel(time=slice(\"2011-01-01\", \"2100-12-31\"))\n",
    "tasmaxp_85=tasmax85.sel(time=slice(\"2011-01-01\", \"2100-12-31\"))\n",
    "# Min T\n",
    "tasminh=tasminh.sel(time=slice(\"1971-01-01\", \"2000-12-31\"))\n",
    "tasminp_45=tasmin45.sel(time=slice(\"2011-01-01\", \"2100-12-31\"))\n",
    "tasminp_85=tasmin85.sel(time=slice(\"2011-01-01\", \"2100-12-31\"))"
   ]
  },
  {
   "cell_type": "markdown",
   "id": "3ce9626d-877c-49e1-9c6b-181d9b290f0e",
   "metadata": {},
   "source": [
    "### Defining of the temperature tresholds"
   ]
  },
  {
   "cell_type": "markdown",
   "id": "71f61292-7ac1-4a58-8caa-8f1d32d06824",
   "metadata": {},
   "source": [
    "**Treshold temperatures based on the percentile:**\n",
    "1. compute the percentile for your selected area\n",
    "2. calculate the mean value for your selected area\n",
    "\n",
    "**Treshold temperatures based on the impact on human health:** \n",
    "1. based on the preferred studies e.g.: A multi-city epidemiologic study in Europe found that the mortality threshold for heat effects was 29.4 °C for Mediterranean cities and 23.3 °C for the north European cities [[Maximum temperature threshold for EU](https://ehjournal.biomedcentral.com/articles/10.1186/s12940-022-00921-4)].\n",
    "2. or the thresholds given by your national meteorological or health service. "
   ]
  },
  {
   "cell_type": "code",
   "execution_count": 17,
   "id": "fc21d980-d428-4d04-80b9-badf9c75a9ac",
   "metadata": {},
   "outputs": [],
   "source": [
    "# This code uses the XCLIM package for the computation of the climate indices\n",
    "# Heat-wave index \n",
    "# RCP 4.5\n",
    "HWIp45=xclim.indices.heat_wave_index(tasmaxp_45, thresh='25.0 degC', window=5, freq='YS', op='>', resample_before_rl=True)\n",
    "# RCP 8.5\n",
    "HWIp85=xclim.indices.heat_wave_index(tasmaxp_85, thresh='25.0 degC', window=5, freq='YS', op='>', resample_before_rl=True)\n",
    "# Historical \n",
    "HWIh=xclim.indices.heat_wave_index(tasmaxh, thresh='25.0 degC', window=5, freq='YS', op='>', resample_before_rl=True)\n",
    "#\n",
    "# Heat-wave frequency\n",
    "# RCP 4.5\n",
    "HWFp45=xclim.indices.heat_wave_frequency(tasminp_45, tasmaxp_45, thresh_tasmin='17.0 degC', thresh_tasmax='28.0 degC', window=3, freq='YS', op='>', resample_before_rl=True)\n",
    "# RCP 8.5\n",
    "HWFp85=xclim.indices.heat_wave_frequency(tasminp_85, tasmaxp_85, thresh_tasmin='17.0 degC', thresh_tasmax='28.0 degC', window=3, freq='YS', op='>', resample_before_rl=True)\n",
    "#Historical\n",
    "HWFh=xclim.indices.heat_wave_frequency(tasminh, tasmaxh, thresh_tasmin='17.0 degC', thresh_tasmax='28.0 degC', window=3, freq='YS', op='>', resample_before_rl=True)\n",
    "# Data correction\n",
    "# Set a right type\n",
    "HWFp45=HWFp45.astype(np.float64)\n",
    "HWFp85=HWFp85.astype(np.float64)\n",
    "HWFh=HWFh.astype(np.float64)\n",
    "#\n",
    "# Heat-wave total length\n",
    "# RCP 4.5\n",
    "HWTLp45=xclim.indices.heat_wave_total_length(tasminp_45, tasmaxp_45, thresh_tasmin='17.0 degC', thresh_tasmax='28.0 degC', window=3, freq='YS', op='>', resample_before_rl=True)\n",
    "# RCP 8.5\n",
    "HWTLp85=xclim.indices.heat_wave_total_length(tasminp_85, tasmaxp_85, thresh_tasmin='17.0 degC', thresh_tasmax='28.0 degC', window=3, freq='YS', op='>', resample_before_rl=True)\n",
    "# Historical\n",
    "HWTLh=xclim.indices.heat_wave_total_length(tasminh, tasmaxh, thresh_tasmin='17.0 degC', thresh_tasmax='28.0 degC', window=3, freq='YS', op='>', resample_before_rl=True)"
   ]
  },
  {
   "cell_type": "code",
   "execution_count": null,
   "id": "155e78f3-f0ee-43b3-992d-f8a94d35cc17",
   "metadata": {},
   "outputs": [],
   "source": [
    "# This code sets the rotated pole CRS to the calculated data\n",
    "## CRS for Eurocordex data\n",
    "rotated_pole = ccrs.RotatedPole(pole_latitude=39.25, pole_longitude=-162)\n",
    "HWIp45.rio.write_crs(rotated_pole, inplace=True)\n",
    "HWIp85.rio.write_crs(rotated_pole, inplace=True)\n",
    "HWIh.rio.write_crs(rotated_pole, inplace=True)\n",
    "HWFp45.rio.write_crs(rotated_pole, inplace=True)\n",
    "HWFp85.rio.write_crs(rotated_pole, inplace=True)\n",
    "HWFh.rio.write_crs(rotated_pole, inplace=True)\n",
    "HWTLp45.rio.write_crs(rotated_pole, inplace=True)\n",
    "HWTLp85.rio.write_crs(rotated_pole, inplace=True)\n",
    "HWTLh.rio.write_crs(rotated_pole, inplace=True)\n",
    "print(\"CRS writed!!!\")"
   ]
  },
  {
   "cell_type": "markdown",
   "id": "fac22036-94ec-47c5-8a91-c289d777b6b2",
   "metadata": {},
   "source": [
    "- This step will take a few minutes"
   ]
  },
  {
   "cell_type": "code",
   "execution_count": 19,
   "id": "97349d05-226c-4494-89cc-bf7a38d8e26b",
   "metadata": {},
   "outputs": [],
   "source": [
    "# This code saves the computed indices in the disk in raster tif format \n",
    "HWIp45.rio.to_raster(raster_path=f'{data_dir}/HWIp45.tif')\n",
    "HWIp85.rio.to_raster(raster_path=f'{data_dir}/HWIp85.tif')\n",
    "HWIh.rio.to_raster(raster_path=f'{data_dir}/HWIh.tif')\n",
    "HWFp45.rio.to_raster(raster_path=f'{data_dir}/HWFp45.tif')\n",
    "HWFp85.rio.to_raster(raster_path=f'{data_dir}/HWFp85.tif')\n",
    "HWFh.rio.to_raster(raster_path=f'{data_dir}/HWFh.tif')\n",
    "HWTLp45.rio.to_raster(raster_path=f'{data_dir}/HWTLp45.tif')\n",
    "HWTLp85.rio.to_raster(raster_path=f'{data_dir}/HWTLp85.tif')\n",
    "HWTLh.rio.to_raster(raster_path=f'{data_dir}/HWTLh.tif')"
   ]
  },
  {
   "cell_type": "markdown",
   "id": "3821c850-f504-4212-af84-ff2875368ac8",
   "metadata": {},
   "source": [
    "### Select the pixel for plotting "
   ]
  },
  {
   "cell_type": "code",
   "execution_count": 4,
   "id": "2201a0cf-6e05-48a8-b40c-a46955aa3007",
   "metadata": {},
   "outputs": [],
   "source": [
    "# This code reprojects the computed indices to the WGS84 (EPSG:4326)\n",
    "# Define the files and their corresponding variables\n",
    "file_variables = [\n",
    "    (\"HWIp45.tif\", \"HWIp45\"),\n",
    "    (\"HWIp85.tif\", \"HWIp85\"),\n",
    "    (\"HWIh.tif\", \"HWIh\"),\n",
    "    (\"HWFp45.tif\", \"HWFp45\"),\n",
    "    (\"HWFp85.tif\", \"HWFp85\"),\n",
    "    (\"HWFh.tif\", \"HWFh\"),\n",
    "    (\"HWTLp45.tif\", \"HWTLp45\"),\n",
    "    (\"HWTLp85.tif\", \"HWTLp85\"),\n",
    "    (\"HWTLh.tif\", \"HWTLh\")\n",
    "]\n",
    "# Define the target CRS\n",
    "target_crs = 'EPSG:4326'  # WGS84\n",
    "# Iterate over each file and variable\n",
    "for filename, var_name in file_variables:\n",
    "    # Open the raster dataset\n",
    "    data = xr.open_dataset(f'{data_dir}/{filename}')['band_data']   \n",
    "    # Write the CRS information to the dataset\n",
    "    data.rio.write_crs(rotated_pole, inplace=True)  \n",
    "    # Reproject the clipped raster dataset to the target CRS\n",
    "    reprojected_data = data.rio.reproject(target_crs)\n",
    "    # Replace NaN values\n",
    "    reprojected_data.where(reprojected_data != 1.7976931348623157e+308, np.nan)   \n",
    "    # Optionally, you can save the reprojected raster to a new file\n",
    "    reprojected_data.rio.to_raster(raster_path=f'{data_dir}/{var_name}_reprojected.tif') \n",
    "    # Calculate mean and save to file\n",
    "    mean_data = reprojected_data.mean(dim='band', skipna=True, keep_attrs=True)\n",
    "    mean_data.rio.to_raster(raster_path=f'{data_dir}/{var_name}_m.tif')"
   ]
  },
  {
   "cell_type": "code",
   "execution_count": 5,
   "id": "1a90323a-b9b8-4c71-a8b9-b1fa879a092a",
   "metadata": {},
   "outputs": [
    {
     "data": {
      "application/vnd.jupyter.widget-view+json": {
       "model_id": "e6f4cc7496db494a8adf28118b7391e4",
       "version_major": 2,
       "version_minor": 0
      },
      "text/plain": [
       "VBox(children=(Map(center=[41.720755499999996, 1.8683455], controls=(ZoomControl(options=['position', 'zoom_in…"
      ]
     },
     "metadata": {},
     "output_type": "display_data"
    }
   ],
   "source": [
    "# This code plots the map where we need to select the point for the plot of the graphs for computed indices\n",
    "# First, create a tile server from local raster file\n",
    "client1 = TileClient(f'{data_dir}/HWIp85_m.tif')\n",
    "client2 = TileClient(f'{data_dir}/HWFp85_m.tif')\n",
    "client3 = TileClient(f'{data_dir}/HWTLp85_m.tif')\n",
    "# Create ipyleaflet tile layer from that server\n",
    "t1 = get_leaflet_tile_layer(client1, cmap='Reds', opacity=0.5, nodata=0, name='Heat-wave index')\n",
    "t2 = get_leaflet_tile_layer(client2, cmap='Reds', opacity=0.5, nodata=0, name='Heat-wave frequency')\n",
    "t3 = get_leaflet_tile_layer(client3, cmap='Reds', opacity=0.5, nodata=0, name='Heat-wave total length')\n",
    "m = Map(center=client1.center(), zoom=client1.default_zoom)\n",
    "m = Map(center=client2.center(), zoom=client2.default_zoom)\n",
    "m = Map(center=client3.center(), zoom=client3.default_zoom)\n",
    "m.add(t1)\n",
    "m.add(t2)\n",
    "m.add(t3)\n",
    "control = LayersControl(position='topright')\n",
    "m.add_control(control)\n",
    "# Create lists to store point coordinates\n",
    "point_lon_list = []\n",
    "point_lat_list = []\n",
    "# Create a DrawControl with point drawing enabled\n",
    "draw_control = DrawControl(marker={'shapeOptions': {'color': '#FF0000'}})\n",
    "# Add the DrawControl to the map\n",
    "m.add_control(draw_control)\n",
    "# Create a text widget to display coordinates\n",
    "coord_output = widgets.Text(placeholder='Coordinates will appear here', disabled=True)\n",
    "# Define a function to handle draw events\n",
    "def handle_draw(self, action, geo_json):\n",
    "    if action == 'created':\n",
    "        if geo_json['geometry']['type'] == 'Point':\n",
    "            # Extract coordinates of the point\n",
    "            lon, lat = geo_json['geometry']['coordinates']\n",
    "            # Update text widget with coordinates\n",
    "            coord_output.value = f'Coordinates: ({lon:.2f}, {lat:.2f})'\n",
    "            # Append coordinates to lists\n",
    "            point_lon_list.append(lon)\n",
    "            point_lat_list.append(lat)\n",
    "            # Create and add a marker to the map\n",
    "            marker = Marker(location=(lat, lon))\n",
    "            m.add_layer(marker)\n",
    "# Attach the event handler to the DrawControl\n",
    "draw_control.on_draw(handle_draw)\n",
    "# Arrange the map and text widget vertically\n",
    "display(widgets.VBox([m, coord_output]))"
   ]
  },
  {
   "cell_type": "markdown",
   "id": "d60a142a-765f-41fd-806a-39f57eef9128",
   "metadata": {},
   "source": [
    "- In the picture above, we can find the plotted raster data in the area that we select by bbox at the beginning of the code\n",
    "- These rasters provide three types of data, which you can select in the right upper corner\n",
    "- These data are scaled for Heat-wave Index, Heat-wave frequency, and Heat-wave total length (total duration) for the projected period 2011-2100\n",
    "- This graphical comparison is only for the better imagination of which place in your selected area will more suffer from heat (dark red will be most affected)\n",
    "- For the visual comparison of the number of heat occurrences you need to select a point (flag) from the left panel and select a pixel that you prefer\n",
    "- **The skewness of the rasters was caused by the transformation of the coordinates system** "
   ]
  },
  {
   "cell_type": "code",
   "execution_count": 7,
   "id": "2e3547a8-5a3d-4e7d-af95-7a7c802a87aa",
   "metadata": {},
   "outputs": [],
   "source": [
    "# This code extracts the values from the computed indices for the selected pixel \n",
    "def get_pixel_values(raster_file, lat, lon):\n",
    "    with rasterio.open(raster_file) as src:\n",
    "        # Transform lat/lon coordinates to pixel coordinates\n",
    "        row, col = src.index(lon, lat)\n",
    "        \n",
    "        # Read pixel values from each band\n",
    "        pixel_values = [band[row, col] for band in src.read()]\n",
    "        \n",
    "        # Return pixel values for each band\n",
    "        return pixel_values\n",
    "\n",
    "# Example usage\n",
    "raster_file_hwi45 = f'{data_dir}/HWIp45_reprojected.tif'\n",
    "raster_file_hwi85 = f'{data_dir}/HWIp85_reprojected.tif'\n",
    "raster_file_hwih = f'{data_dir}/HWIh_reprojected.tif'\n",
    "raster_file_hwf45 = f'{data_dir}/HWFp45_reprojected.tif'\n",
    "raster_file_hwf85 = f'{data_dir}/HWFp85_reprojected.tif'\n",
    "raster_file_hwfh = f'{data_dir}/HWFh_reprojected.tif'\n",
    "raster_file_hwtl45 = f'{data_dir}/HWTLp45_reprojected.tif'\n",
    "raster_file_hwtl85 = f'{data_dir}/HWTLp85_reprojected.tif'\n",
    "raster_file_hwtlh = f'{data_dir}/HWTLh_reprojected.tif'\n",
    "# extract lat lon from map\n",
    "lat = point_lat_list[0]\n",
    "lon = point_lon_list[0]\n",
    "# extract values for selected pixel \n",
    "pixel_values_hwi45 = get_pixel_values(raster_file_hwi45, lat, lon)\n",
    "pixel_values_hwi85 = get_pixel_values(raster_file_hwi85, lat, lon)\n",
    "pixel_values_hwih = get_pixel_values(raster_file_hwih, lat, lon)\n",
    "pixel_values_hwf45 = get_pixel_values(raster_file_hwf45, lat, lon)\n",
    "pixel_values_hwf85 = get_pixel_values(raster_file_hwf85, lat, lon)\n",
    "pixel_values_hwfh = get_pixel_values(raster_file_hwfh, lat, lon)\n",
    "pixel_values_hwtl45 = get_pixel_values(raster_file_hwtl45, lat, lon)\n",
    "pixel_values_hwtl85 = get_pixel_values(raster_file_hwtl85, lat, lon)\n",
    "pixel_values_hwtlh = get_pixel_values(raster_file_hwtlh, lat, lon)"
   ]
  },
  {
   "cell_type": "markdown",
   "id": "8239435c-fa18-49e9-9e71-c15e244a1bd5",
   "metadata": {},
   "source": [
    "### Plots the Heat-wave index (HWI)\n",
    "Number of days that are part of a heatwave, defined as five or more consecutive days over a threshold of 25 degrees."
   ]
  },
  {
   "cell_type": "code",
   "execution_count": 21,
   "id": "051083af-484d-41f6-8d20-7f2f085fa618",
   "metadata": {},
   "outputs": [
    {
     "data": {
      "application/vnd.plotly.v1+json": {
       "config": {
        "plotlyServerURL": "https://plot.ly"
       },
       "data": [
        {
         "marker": {
          "color": "blue"
         },
         "name": "HWI RCP 4.5",
         "type": "bar",
         "x": [
          1971,
          1972,
          1973,
          1974,
          1975,
          1976,
          1977,
          1978,
          1979,
          1980,
          1981,
          1982,
          1983,
          1984,
          1985,
          1986,
          1987,
          1988,
          1989,
          1990,
          1991,
          1992,
          1993,
          1994,
          1995,
          1996,
          1997,
          1998,
          1999,
          2000,
          2011,
          2012,
          2013,
          2014,
          2015,
          2016,
          2017,
          2018,
          2019,
          2020,
          2021,
          2022,
          2023,
          2024,
          2025,
          2026,
          2027,
          2028,
          2029,
          2030,
          2031,
          2032,
          2033,
          2034,
          2035,
          2036,
          2037,
          2038,
          2039,
          2040,
          2041,
          2042,
          2043,
          2044,
          2045,
          2046,
          2047,
          2048,
          2049,
          2050,
          2051,
          2052,
          2053,
          2054,
          2055,
          2056,
          2057,
          2058,
          2059,
          2060,
          2061,
          2062,
          2063,
          2064,
          2065,
          2066,
          2067,
          2068,
          2069,
          2070,
          2071,
          2072,
          2073,
          2074,
          2075,
          2076,
          2077,
          2078,
          2079,
          2080,
          2081,
          2082,
          2083,
          2084,
          2085,
          2086,
          2087,
          2088,
          2089,
          2090,
          2091,
          2092,
          2093,
          2094,
          2095,
          2096,
          2097,
          2098,
          2099,
          2100
         ],
         "y": [
          58,
          49,
          53,
          66,
          86,
          57,
          80,
          65,
          47,
          27,
          55,
          47,
          30,
          57,
          63,
          54,
          64,
          74,
          68,
          69,
          78,
          53,
          68,
          53,
          69,
          69,
          69,
          51,
          56,
          42,
          80,
          65,
          68,
          43,
          84,
          72,
          51,
          64,
          93,
          70,
          86,
          44,
          58,
          47,
          47,
          92,
          79,
          57,
          83,
          80,
          57,
          86,
          89,
          67,
          74,
          72,
          77,
          60,
          111,
          82,
          93,
          85,
          95,
          78,
          82,
          65,
          84,
          97,
          64,
          68,
          57,
          91,
          71,
          70,
          98,
          88,
          86,
          84,
          90,
          97,
          53,
          102,
          91,
          117,
          69,
          86,
          87,
          83,
          73,
          77,
          106,
          95,
          83,
          75,
          78,
          67,
          89,
          74,
          92,
          72,
          79,
          68,
          91,
          71,
          66,
          91,
          119,
          89,
          77,
          85,
          66,
          88,
          93,
          91,
          101,
          93,
          82,
          105,
          93,
          105
         ]
        },
        {
         "marker": {
          "color": "red"
         },
         "name": "HWI RCP 8.5",
         "opacity": 0.5,
         "type": "bar",
         "x": [
          1971,
          1972,
          1973,
          1974,
          1975,
          1976,
          1977,
          1978,
          1979,
          1980,
          1981,
          1982,
          1983,
          1984,
          1985,
          1986,
          1987,
          1988,
          1989,
          1990,
          1991,
          1992,
          1993,
          1994,
          1995,
          1996,
          1997,
          1998,
          1999,
          2000,
          2011,
          2012,
          2013,
          2014,
          2015,
          2016,
          2017,
          2018,
          2019,
          2020,
          2021,
          2022,
          2023,
          2024,
          2025,
          2026,
          2027,
          2028,
          2029,
          2030,
          2031,
          2032,
          2033,
          2034,
          2035,
          2036,
          2037,
          2038,
          2039,
          2040,
          2041,
          2042,
          2043,
          2044,
          2045,
          2046,
          2047,
          2048,
          2049,
          2050,
          2051,
          2052,
          2053,
          2054,
          2055,
          2056,
          2057,
          2058,
          2059,
          2060,
          2061,
          2062,
          2063,
          2064,
          2065,
          2066,
          2067,
          2068,
          2069,
          2070,
          2071,
          2072,
          2073,
          2074,
          2075,
          2076,
          2077,
          2078,
          2079,
          2080,
          2081,
          2082,
          2083,
          2084,
          2085,
          2086,
          2087,
          2088,
          2089,
          2090,
          2091,
          2092,
          2093,
          2094,
          2095,
          2096,
          2097,
          2098,
          2099,
          2100
         ],
         "y": [
          58,
          49,
          53,
          66,
          86,
          57,
          80,
          65,
          47,
          27,
          55,
          47,
          30,
          57,
          63,
          54,
          64,
          74,
          68,
          69,
          78,
          53,
          68,
          53,
          69,
          69,
          69,
          51,
          56,
          42,
          75,
          88,
          61,
          82,
          83,
          69,
          76,
          65,
          70,
          61,
          57,
          58,
          56,
          83,
          81,
          92,
          64,
          80,
          69,
          76,
          79,
          99,
          90,
          66,
          80,
          85,
          78,
          83,
          91,
          112,
          68,
          79,
          72,
          80,
          72,
          71,
          67,
          76,
          71,
          94,
          90,
          92,
          105,
          91,
          67,
          76,
          60,
          75,
          76,
          100,
          83,
          119,
          113,
          94,
          115,
          89,
          98,
          78,
          97,
          107,
          92,
          86,
          90,
          97,
          93,
          101,
          89,
          98,
          116,
          120,
          108,
          122,
          124,
          93,
          89,
          112,
          101,
          122,
          96,
          116,
          122,
          105,
          122,
          109,
          104,
          94,
          116,
          101,
          122,
          155
         ]
        },
        {
         "line": {
          "color": "blue"
         },
         "mode": "lines",
         "name": "RCP 4.5 trend",
         "type": "scatter",
         "x": [
          1971,
          1972,
          1973,
          1974,
          1975,
          1976,
          1977,
          1978,
          1979,
          1980,
          1981,
          1982,
          1983,
          1984,
          1985,
          1986,
          1987,
          1988,
          1989,
          1990,
          1991,
          1992,
          1993,
          1994,
          1995,
          1996,
          1997,
          1998,
          1999,
          2000,
          2011,
          2012,
          2013,
          2014,
          2015,
          2016,
          2017,
          2018,
          2019,
          2020,
          2021,
          2022,
          2023,
          2024,
          2025,
          2026,
          2027,
          2028,
          2029,
          2030,
          2031,
          2032,
          2033,
          2034,
          2035,
          2036,
          2037,
          2038,
          2039,
          2040,
          2041,
          2042,
          2043,
          2044,
          2045,
          2046,
          2047,
          2048,
          2049,
          2050,
          2051,
          2052,
          2053,
          2054,
          2055,
          2056,
          2057,
          2058,
          2059,
          2060,
          2061,
          2062,
          2063,
          2064,
          2065,
          2066,
          2067,
          2068,
          2069,
          2070,
          2071,
          2072,
          2073,
          2074,
          2075,
          2076,
          2077,
          2078,
          2079,
          2080,
          2081,
          2082,
          2083,
          2084,
          2085,
          2086,
          2087,
          2088,
          2089,
          2090,
          2091,
          2092,
          2093,
          2094,
          2095,
          2096,
          2097,
          2098,
          2099,
          2100
         ],
         "y": [
          56.58911845730031,
          56.8957439174017,
          57.2023693775031,
          57.5089948376045,
          57.81562029770589,
          58.122245757807285,
          58.428871217908686,
          58.73549667801008,
          59.04212213811147,
          59.34874759821287,
          59.65537305831427,
          59.96199851841566,
          60.268623978517056,
          60.57524943861845,
          60.88187489871985,
          61.188500358821244,
          61.49512581892264,
          61.80175127902403,
          62.10837673912543,
          62.41500219922683,
          62.72162765932822,
          63.028253119429614,
          63.334878579531015,
          63.64150403963241,
          63.9481294997338,
          64.2547549598352,
          64.5613804199366,
          64.868005880038,
          65.17463134013938,
          65.48125680024079,
          65.78788226034217,
          66.09450772044357,
          66.40113318054497,
          66.70775864064636,
          67.01438410074776,
          67.32100956084915,
          67.62763502095055,
          67.93426048105195,
          68.24088594115334,
          68.54751140125474,
          68.85413686135614,
          69.16076232145753,
          69.46738778155893,
          69.77401324166033,
          70.08063870176171,
          70.38726416186311,
          70.6938896219645,
          71.0005150820659,
          71.3071405421673,
          71.61376600226869,
          71.92039146237009,
          72.22701692247149,
          72.53364238257288,
          72.84026784267428,
          73.14689330277568,
          73.45351876287707,
          73.76014422297847,
          74.06676968307985,
          74.37339514318126,
          74.68002060328266,
          74.98664606338404,
          75.29327152348544,
          75.59989698358683,
          75.90652244368823,
          76.21314790378963,
          76.51977336389103,
          76.82639882399242,
          77.13302428409382,
          77.43964974419521,
          77.74627520429661,
          78.05290066439801,
          78.3595261244994,
          78.6661515846008,
          78.97277704470218,
          79.27940250480358,
          79.58602796490499,
          79.89265342500637,
          80.19927888510777,
          80.50590434520916,
          80.81252980531056,
          81.11915526541196,
          81.42578072551336,
          81.73240618561475,
          82.03903164571615,
          82.34565710581754,
          82.65228256591894,
          82.95890802602034,
          83.26553348612173,
          83.57215894622313,
          83.87878440632451,
          84.18540986642591,
          84.49203532652731,
          84.7986607866287,
          85.1052862467301,
          85.41191170683149,
          85.71853716693289,
          86.02516262703429,
          86.33178808713569,
          86.63841354723708,
          86.94503900733848,
          87.25166446743987,
          87.55828992754127,
          87.86491538764267,
          88.17154084774405,
          88.47816630784546,
          88.78479176794684,
          89.09141722804824,
          89.39804268814964,
          89.70466814825105,
          90.01129360835243,
          90.31791906845382,
          90.62454452855522,
          90.93116998865662,
          91.23779544875802,
          91.54442090885941,
          91.85104636896081,
          92.1576718290622,
          92.4642972891636,
          92.770922749265,
          93.0775482093664
         ]
        },
        {
         "line": {
          "color": "red"
         },
         "mode": "lines",
         "name": "RCP 8.5 trend",
         "type": "scatter",
         "x": [
          1971,
          1972,
          1973,
          1974,
          1975,
          1976,
          1977,
          1978,
          1979,
          1980,
          1981,
          1982,
          1983,
          1984,
          1985,
          1986,
          1987,
          1988,
          1989,
          1990,
          1991,
          1992,
          1993,
          1994,
          1995,
          1996,
          1997,
          1998,
          1999,
          2000,
          2011,
          2012,
          2013,
          2014,
          2015,
          2016,
          2017,
          2018,
          2019,
          2020,
          2021,
          2022,
          2023,
          2024,
          2025,
          2026,
          2027,
          2028,
          2029,
          2030,
          2031,
          2032,
          2033,
          2034,
          2035,
          2036,
          2037,
          2038,
          2039,
          2040,
          2041,
          2042,
          2043,
          2044,
          2045,
          2046,
          2047,
          2048,
          2049,
          2050,
          2051,
          2052,
          2053,
          2054,
          2055,
          2056,
          2057,
          2058,
          2059,
          2060,
          2061,
          2062,
          2063,
          2064,
          2065,
          2066,
          2067,
          2068,
          2069,
          2070,
          2071,
          2072,
          2073,
          2074,
          2075,
          2076,
          2077,
          2078,
          2079,
          2080,
          2081,
          2082,
          2083,
          2084,
          2085,
          2086,
          2087,
          2088,
          2089,
          2090,
          2091,
          2092,
          2093,
          2094,
          2095,
          2096,
          2097,
          2098,
          2099,
          2100
         ],
         "y": [
          51.42396694214877,
          51.94289186749081,
          52.46181679283285,
          52.98074171817488,
          53.499666643516925,
          54.01859156885896,
          54.537516494201,
          55.056441419543034,
          55.575366344885076,
          56.09429127022711,
          56.61321619556915,
          57.132141120911186,
          57.65106604625322,
          58.16999097159526,
          58.688915896937296,
          59.20784082227934,
          59.72676574762137,
          60.24569067296341,
          60.76461559830545,
          61.28354052364749,
          61.80246544898952,
          62.32139037433156,
          62.8403152996736,
          63.35924022501564,
          63.878165150357674,
          64.39709007569971,
          64.91601500104174,
          65.43493992638379,
          65.95386485172583,
          66.47278977706786,
          66.9917147024099,
          67.51063962775194,
          68.02956455309398,
          68.54848947843601,
          69.06741440377805,
          69.58633932912008,
          70.10526425446213,
          70.62418917980416,
          71.1431141051462,
          71.66203903048823,
          72.18096395583026,
          72.69988888117231,
          73.21881380651435,
          73.73773873185638,
          74.25666365719843,
          74.77558858254046,
          75.2945135078825,
          75.81343843322453,
          76.33236335856657,
          76.85128828390862,
          77.37021320925065,
          77.88913813459268,
          78.40806305993472,
          78.92698798527675,
          79.4459129106188,
          79.96483783596084,
          80.48376276130287,
          81.00268768664492,
          81.52161261198695,
          82.04053753732899,
          82.55946246267102,
          83.07838738801306,
          83.5973123133551,
          84.11623723869714,
          84.63516216403917,
          85.1540870893812,
          85.67301201472324,
          86.19193694006529,
          86.71086186540732,
          87.22978679074936,
          87.7487117160914,
          88.26763664143343,
          88.78656156677548,
          89.30548649211751,
          89.82441141745954,
          90.34333634280159,
          90.86226126814361,
          91.38118619348566,
          91.9001111188277,
          92.41903604416973,
          92.93796096951178,
          93.45688589485381,
          93.97581082019585,
          94.4947357455379,
          95.01366067087991,
          95.53258559622196,
          96.051510521564,
          96.57043544690603,
          97.08936037224808,
          97.6082852975901,
          98.12721022293215,
          98.64613514827418,
          99.16506007361622,
          99.68398499895827,
          100.2029099243003,
          100.72183484964233,
          101.24075977498438,
          101.7596847003264,
          102.27860962566845,
          102.79753455101049,
          103.31645947635252,
          103.83538440169457,
          104.35430932703659,
          104.87323425237864,
          105.39215917772067,
          105.9110841030627,
          106.43000902840475,
          106.94893395374677,
          107.46785887908882,
          107.98678380443086,
          108.50570872977289,
          109.02463365511494,
          109.54355858045697,
          110.06248350579901,
          110.58140843114106,
          111.10033335648308,
          111.61925828182513,
          112.13818320716716,
          112.6571081325092,
          113.17603305785124
         ]
        }
       ],
       "layout": {
        "height": 500,
        "legend": {
         "orientation": "h",
         "traceorder": "normal",
         "x": 0,
         "y": 1
        },
        "template": {
         "data": {
          "bar": [
           {
            "error_x": {
             "color": "#2a3f5f"
            },
            "error_y": {
             "color": "#2a3f5f"
            },
            "marker": {
             "line": {
              "color": "#E5ECF6",
              "width": 0.5
             },
             "pattern": {
              "fillmode": "overlay",
              "size": 10,
              "solidity": 0.2
             }
            },
            "type": "bar"
           }
          ],
          "barpolar": [
           {
            "marker": {
             "line": {
              "color": "#E5ECF6",
              "width": 0.5
             },
             "pattern": {
              "fillmode": "overlay",
              "size": 10,
              "solidity": 0.2
             }
            },
            "type": "barpolar"
           }
          ],
          "carpet": [
           {
            "aaxis": {
             "endlinecolor": "#2a3f5f",
             "gridcolor": "white",
             "linecolor": "white",
             "minorgridcolor": "white",
             "startlinecolor": "#2a3f5f"
            },
            "baxis": {
             "endlinecolor": "#2a3f5f",
             "gridcolor": "white",
             "linecolor": "white",
             "minorgridcolor": "white",
             "startlinecolor": "#2a3f5f"
            },
            "type": "carpet"
           }
          ],
          "choropleth": [
           {
            "colorbar": {
             "outlinewidth": 0,
             "ticks": ""
            },
            "type": "choropleth"
           }
          ],
          "contour": [
           {
            "colorbar": {
             "outlinewidth": 0,
             "ticks": ""
            },
            "colorscale": [
             [
              0,
              "#0d0887"
             ],
             [
              0.1111111111111111,
              "#46039f"
             ],
             [
              0.2222222222222222,
              "#7201a8"
             ],
             [
              0.3333333333333333,
              "#9c179e"
             ],
             [
              0.4444444444444444,
              "#bd3786"
             ],
             [
              0.5555555555555556,
              "#d8576b"
             ],
             [
              0.6666666666666666,
              "#ed7953"
             ],
             [
              0.7777777777777778,
              "#fb9f3a"
             ],
             [
              0.8888888888888888,
              "#fdca26"
             ],
             [
              1,
              "#f0f921"
             ]
            ],
            "type": "contour"
           }
          ],
          "contourcarpet": [
           {
            "colorbar": {
             "outlinewidth": 0,
             "ticks": ""
            },
            "type": "contourcarpet"
           }
          ],
          "heatmap": [
           {
            "colorbar": {
             "outlinewidth": 0,
             "ticks": ""
            },
            "colorscale": [
             [
              0,
              "#0d0887"
             ],
             [
              0.1111111111111111,
              "#46039f"
             ],
             [
              0.2222222222222222,
              "#7201a8"
             ],
             [
              0.3333333333333333,
              "#9c179e"
             ],
             [
              0.4444444444444444,
              "#bd3786"
             ],
             [
              0.5555555555555556,
              "#d8576b"
             ],
             [
              0.6666666666666666,
              "#ed7953"
             ],
             [
              0.7777777777777778,
              "#fb9f3a"
             ],
             [
              0.8888888888888888,
              "#fdca26"
             ],
             [
              1,
              "#f0f921"
             ]
            ],
            "type": "heatmap"
           }
          ],
          "heatmapgl": [
           {
            "colorbar": {
             "outlinewidth": 0,
             "ticks": ""
            },
            "colorscale": [
             [
              0,
              "#0d0887"
             ],
             [
              0.1111111111111111,
              "#46039f"
             ],
             [
              0.2222222222222222,
              "#7201a8"
             ],
             [
              0.3333333333333333,
              "#9c179e"
             ],
             [
              0.4444444444444444,
              "#bd3786"
             ],
             [
              0.5555555555555556,
              "#d8576b"
             ],
             [
              0.6666666666666666,
              "#ed7953"
             ],
             [
              0.7777777777777778,
              "#fb9f3a"
             ],
             [
              0.8888888888888888,
              "#fdca26"
             ],
             [
              1,
              "#f0f921"
             ]
            ],
            "type": "heatmapgl"
           }
          ],
          "histogram": [
           {
            "marker": {
             "pattern": {
              "fillmode": "overlay",
              "size": 10,
              "solidity": 0.2
             }
            },
            "type": "histogram"
           }
          ],
          "histogram2d": [
           {
            "colorbar": {
             "outlinewidth": 0,
             "ticks": ""
            },
            "colorscale": [
             [
              0,
              "#0d0887"
             ],
             [
              0.1111111111111111,
              "#46039f"
             ],
             [
              0.2222222222222222,
              "#7201a8"
             ],
             [
              0.3333333333333333,
              "#9c179e"
             ],
             [
              0.4444444444444444,
              "#bd3786"
             ],
             [
              0.5555555555555556,
              "#d8576b"
             ],
             [
              0.6666666666666666,
              "#ed7953"
             ],
             [
              0.7777777777777778,
              "#fb9f3a"
             ],
             [
              0.8888888888888888,
              "#fdca26"
             ],
             [
              1,
              "#f0f921"
             ]
            ],
            "type": "histogram2d"
           }
          ],
          "histogram2dcontour": [
           {
            "colorbar": {
             "outlinewidth": 0,
             "ticks": ""
            },
            "colorscale": [
             [
              0,
              "#0d0887"
             ],
             [
              0.1111111111111111,
              "#46039f"
             ],
             [
              0.2222222222222222,
              "#7201a8"
             ],
             [
              0.3333333333333333,
              "#9c179e"
             ],
             [
              0.4444444444444444,
              "#bd3786"
             ],
             [
              0.5555555555555556,
              "#d8576b"
             ],
             [
              0.6666666666666666,
              "#ed7953"
             ],
             [
              0.7777777777777778,
              "#fb9f3a"
             ],
             [
              0.8888888888888888,
              "#fdca26"
             ],
             [
              1,
              "#f0f921"
             ]
            ],
            "type": "histogram2dcontour"
           }
          ],
          "mesh3d": [
           {
            "colorbar": {
             "outlinewidth": 0,
             "ticks": ""
            },
            "type": "mesh3d"
           }
          ],
          "parcoords": [
           {
            "line": {
             "colorbar": {
              "outlinewidth": 0,
              "ticks": ""
             }
            },
            "type": "parcoords"
           }
          ],
          "pie": [
           {
            "automargin": true,
            "type": "pie"
           }
          ],
          "scatter": [
           {
            "fillpattern": {
             "fillmode": "overlay",
             "size": 10,
             "solidity": 0.2
            },
            "type": "scatter"
           }
          ],
          "scatter3d": [
           {
            "line": {
             "colorbar": {
              "outlinewidth": 0,
              "ticks": ""
             }
            },
            "marker": {
             "colorbar": {
              "outlinewidth": 0,
              "ticks": ""
             }
            },
            "type": "scatter3d"
           }
          ],
          "scattercarpet": [
           {
            "marker": {
             "colorbar": {
              "outlinewidth": 0,
              "ticks": ""
             }
            },
            "type": "scattercarpet"
           }
          ],
          "scattergeo": [
           {
            "marker": {
             "colorbar": {
              "outlinewidth": 0,
              "ticks": ""
             }
            },
            "type": "scattergeo"
           }
          ],
          "scattergl": [
           {
            "marker": {
             "colorbar": {
              "outlinewidth": 0,
              "ticks": ""
             }
            },
            "type": "scattergl"
           }
          ],
          "scattermapbox": [
           {
            "marker": {
             "colorbar": {
              "outlinewidth": 0,
              "ticks": ""
             }
            },
            "type": "scattermapbox"
           }
          ],
          "scatterpolar": [
           {
            "marker": {
             "colorbar": {
              "outlinewidth": 0,
              "ticks": ""
             }
            },
            "type": "scatterpolar"
           }
          ],
          "scatterpolargl": [
           {
            "marker": {
             "colorbar": {
              "outlinewidth": 0,
              "ticks": ""
             }
            },
            "type": "scatterpolargl"
           }
          ],
          "scatterternary": [
           {
            "marker": {
             "colorbar": {
              "outlinewidth": 0,
              "ticks": ""
             }
            },
            "type": "scatterternary"
           }
          ],
          "surface": [
           {
            "colorbar": {
             "outlinewidth": 0,
             "ticks": ""
            },
            "colorscale": [
             [
              0,
              "#0d0887"
             ],
             [
              0.1111111111111111,
              "#46039f"
             ],
             [
              0.2222222222222222,
              "#7201a8"
             ],
             [
              0.3333333333333333,
              "#9c179e"
             ],
             [
              0.4444444444444444,
              "#bd3786"
             ],
             [
              0.5555555555555556,
              "#d8576b"
             ],
             [
              0.6666666666666666,
              "#ed7953"
             ],
             [
              0.7777777777777778,
              "#fb9f3a"
             ],
             [
              0.8888888888888888,
              "#fdca26"
             ],
             [
              1,
              "#f0f921"
             ]
            ],
            "type": "surface"
           }
          ],
          "table": [
           {
            "cells": {
             "fill": {
              "color": "#EBF0F8"
             },
             "line": {
              "color": "white"
             }
            },
            "header": {
             "fill": {
              "color": "#C8D4E3"
             },
             "line": {
              "color": "white"
             }
            },
            "type": "table"
           }
          ]
         },
         "layout": {
          "annotationdefaults": {
           "arrowcolor": "#2a3f5f",
           "arrowhead": 0,
           "arrowwidth": 1
          },
          "autotypenumbers": "strict",
          "coloraxis": {
           "colorbar": {
            "outlinewidth": 0,
            "ticks": ""
           }
          },
          "colorscale": {
           "diverging": [
            [
             0,
             "#8e0152"
            ],
            [
             0.1,
             "#c51b7d"
            ],
            [
             0.2,
             "#de77ae"
            ],
            [
             0.3,
             "#f1b6da"
            ],
            [
             0.4,
             "#fde0ef"
            ],
            [
             0.5,
             "#f7f7f7"
            ],
            [
             0.6,
             "#e6f5d0"
            ],
            [
             0.7,
             "#b8e186"
            ],
            [
             0.8,
             "#7fbc41"
            ],
            [
             0.9,
             "#4d9221"
            ],
            [
             1,
             "#276419"
            ]
           ],
           "sequential": [
            [
             0,
             "#0d0887"
            ],
            [
             0.1111111111111111,
             "#46039f"
            ],
            [
             0.2222222222222222,
             "#7201a8"
            ],
            [
             0.3333333333333333,
             "#9c179e"
            ],
            [
             0.4444444444444444,
             "#bd3786"
            ],
            [
             0.5555555555555556,
             "#d8576b"
            ],
            [
             0.6666666666666666,
             "#ed7953"
            ],
            [
             0.7777777777777778,
             "#fb9f3a"
            ],
            [
             0.8888888888888888,
             "#fdca26"
            ],
            [
             1,
             "#f0f921"
            ]
           ],
           "sequentialminus": [
            [
             0,
             "#0d0887"
            ],
            [
             0.1111111111111111,
             "#46039f"
            ],
            [
             0.2222222222222222,
             "#7201a8"
            ],
            [
             0.3333333333333333,
             "#9c179e"
            ],
            [
             0.4444444444444444,
             "#bd3786"
            ],
            [
             0.5555555555555556,
             "#d8576b"
            ],
            [
             0.6666666666666666,
             "#ed7953"
            ],
            [
             0.7777777777777778,
             "#fb9f3a"
            ],
            [
             0.8888888888888888,
             "#fdca26"
            ],
            [
             1,
             "#f0f921"
            ]
           ]
          },
          "colorway": [
           "#636efa",
           "#EF553B",
           "#00cc96",
           "#ab63fa",
           "#FFA15A",
           "#19d3f3",
           "#FF6692",
           "#B6E880",
           "#FF97FF",
           "#FECB52"
          ],
          "font": {
           "color": "#2a3f5f"
          },
          "geo": {
           "bgcolor": "white",
           "lakecolor": "white",
           "landcolor": "#E5ECF6",
           "showlakes": true,
           "showland": true,
           "subunitcolor": "white"
          },
          "hoverlabel": {
           "align": "left"
          },
          "hovermode": "closest",
          "mapbox": {
           "style": "light"
          },
          "paper_bgcolor": "white",
          "plot_bgcolor": "#E5ECF6",
          "polar": {
           "angularaxis": {
            "gridcolor": "white",
            "linecolor": "white",
            "ticks": ""
           },
           "bgcolor": "#E5ECF6",
           "radialaxis": {
            "gridcolor": "white",
            "linecolor": "white",
            "ticks": ""
           }
          },
          "scene": {
           "xaxis": {
            "backgroundcolor": "#E5ECF6",
            "gridcolor": "white",
            "gridwidth": 2,
            "linecolor": "white",
            "showbackground": true,
            "ticks": "",
            "zerolinecolor": "white"
           },
           "yaxis": {
            "backgroundcolor": "#E5ECF6",
            "gridcolor": "white",
            "gridwidth": 2,
            "linecolor": "white",
            "showbackground": true,
            "ticks": "",
            "zerolinecolor": "white"
           },
           "zaxis": {
            "backgroundcolor": "#E5ECF6",
            "gridcolor": "white",
            "gridwidth": 2,
            "linecolor": "white",
            "showbackground": true,
            "ticks": "",
            "zerolinecolor": "white"
           }
          },
          "shapedefaults": {
           "line": {
            "color": "#2a3f5f"
           }
          },
          "ternary": {
           "aaxis": {
            "gridcolor": "white",
            "linecolor": "white",
            "ticks": ""
           },
           "baxis": {
            "gridcolor": "white",
            "linecolor": "white",
            "ticks": ""
           },
           "bgcolor": "#E5ECF6",
           "caxis": {
            "gridcolor": "white",
            "linecolor": "white",
            "ticks": ""
           }
          },
          "title": {
           "x": 0.05
          },
          "xaxis": {
           "automargin": true,
           "gridcolor": "white",
           "linecolor": "white",
           "ticks": "",
           "title": {
            "standoff": 15
           },
           "zerolinecolor": "white",
           "zerolinewidth": 2
          },
          "yaxis": {
           "automargin": true,
           "gridcolor": "white",
           "linecolor": "white",
           "ticks": "",
           "title": {
            "standoff": 15
           },
           "zerolinecolor": "white",
           "zerolinewidth": 2
          }
         }
        },
        "title": {
         "text": "Number of days that are part of a heatwave defined as five or more consecutive days over a threshold of 25 degrees"
        },
        "width": 1100,
        "xaxis": {
         "autorange": true,
         "range": [
          1970.5,
          2100.5
         ],
         "title": {
          "text": "Year"
         },
         "type": "linear"
        },
        "yaxis": {
         "autorange": true,
         "range": [
          0,
          163.1578947368421
         ],
         "title": {
          "text": "Number of Heat-waves"
         },
         "type": "linear"
        }
       }
      },
      "image/png": "[encoded data removed]",
      "text/html": [
       "<div>                            <div id=\"02b75b09-f4b6-4b5a-8da2-c40bd4277bb3\" class=\"plotly-graph-div\" style=\"height:500px; width:1100px;\"></div>            <script type=\"text/javascript\">                require([\"plotly\"], function(Plotly) {                    window.PLOTLYENV=window.PLOTLYENV || {};                                    if (document.getElementById(\"02b75b09-f4b6-4b5a-8da2-c40bd4277bb3\")) {                    Plotly.newPlot(                        \"02b75b09-f4b6-4b5a-8da2-c40bd4277bb3\",                        [{\"marker\":{\"color\":\"blue\"},\"name\":\"HWI RCP 4.5\",\"x\":[1971,1972,1973,1974,1975,1976,1977,1978,1979,1980,1981,1982,1983,1984,1985,1986,1987,1988,1989,1990,1991,1992,1993,1994,1995,1996,1997,1998,1999,2000,2011,2012,2013,2014,2015,2016,2017,2018,2019,2020,2021,2022,2023,2024,2025,2026,2027,2028,2029,2030,2031,2032,2033,2034,2035,2036,2037,2038,2039,2040,2041,2042,2043,2044,2045,2046,2047,2048,2049,2050,2051,2052,2053,2054,2055,2056,2057,2058,2059,2060,2061,2062,2063,2064,2065,2066,2067,2068,2069,2070,2071,2072,2073,2074,2075,2076,2077,2078,2079,2080,2081,2082,2083,2084,2085,2086,2087,2088,2089,2090,2091,2092,2093,2094,2095,2096,2097,2098,2099,2100],\"y\":[58.0,49.0,53.0,66.0,86.0,57.0,80.0,65.0,47.0,27.0,55.0,47.0,30.0,57.0,63.0,54.0,64.0,74.0,68.0,69.0,78.0,53.0,68.0,53.0,69.0,69.0,69.0,51.0,56.0,42.0,80.0,65.0,68.0,43.0,84.0,72.0,51.0,64.0,93.0,70.0,86.0,44.0,58.0,47.0,47.0,92.0,79.0,57.0,83.0,80.0,57.0,86.0,89.0,67.0,74.0,72.0,77.0,60.0,111.0,82.0,93.0,85.0,95.0,78.0,82.0,65.0,84.0,97.0,64.0,68.0,57.0,91.0,71.0,70.0,98.0,88.0,86.0,84.0,90.0,97.0,53.0,102.0,91.0,117.0,69.0,86.0,87.0,83.0,73.0,77.0,106.0,95.0,83.0,75.0,78.0,67.0,89.0,74.0,92.0,72.0,79.0,68.0,91.0,71.0,66.0,91.0,119.0,89.0,77.0,85.0,66.0,88.0,93.0,91.0,101.0,93.0,82.0,105.0,93.0,105.0],\"type\":\"bar\"},{\"marker\":{\"color\":\"red\"},\"name\":\"HWI RCP 8.5\",\"opacity\":0.5,\"x\":[1971,1972,1973,1974,1975,1976,1977,1978,1979,1980,1981,1982,1983,1984,1985,1986,1987,1988,1989,1990,1991,1992,1993,1994,1995,1996,1997,1998,1999,2000,2011,2012,2013,2014,2015,2016,2017,2018,2019,2020,2021,2022,2023,2024,2025,2026,2027,2028,2029,2030,2031,2032,2033,2034,2035,2036,2037,2038,2039,2040,2041,2042,2043,2044,2045,2046,2047,2048,2049,2050,2051,2052,2053,2054,2055,2056,2057,2058,2059,2060,2061,2062,2063,2064,2065,2066,2067,2068,2069,2070,2071,2072,2073,2074,2075,2076,2077,2078,2079,2080,2081,2082,2083,2084,2085,2086,2087,2088,2089,2090,2091,2092,2093,2094,2095,2096,2097,2098,2099,2100],\"y\":[58.0,49.0,53.0,66.0,86.0,57.0,80.0,65.0,47.0,27.0,55.0,47.0,30.0,57.0,63.0,54.0,64.0,74.0,68.0,69.0,78.0,53.0,68.0,53.0,69.0,69.0,69.0,51.0,56.0,42.0,75.0,88.0,61.0,82.0,83.0,69.0,76.0,65.0,70.0,61.0,57.0,58.0,56.0,83.0,81.0,92.0,64.0,80.0,69.0,76.0,79.0,99.0,90.0,66.0,80.0,85.0,78.0,83.0,91.0,112.0,68.0,79.0,72.0,80.0,72.0,71.0,67.0,76.0,71.0,94.0,90.0,92.0,105.0,91.0,67.0,76.0,60.0,75.0,76.0,100.0,83.0,119.0,113.0,94.0,115.0,89.0,98.0,78.0,97.0,107.0,92.0,86.0,90.0,97.0,93.0,101.0,89.0,98.0,116.0,120.0,108.0,122.0,124.0,93.0,89.0,112.0,101.0,122.0,96.0,116.0,122.0,105.0,122.0,109.0,104.0,94.0,116.0,101.0,122.0,155.0],\"type\":\"bar\"},{\"line\":{\"color\":\"blue\"},\"mode\":\"lines\",\"name\":\"RCP 4.5 trend\",\"x\":[1971,1972,1973,1974,1975,1976,1977,1978,1979,1980,1981,1982,1983,1984,1985,1986,1987,1988,1989,1990,1991,1992,1993,1994,1995,1996,1997,1998,1999,2000,2011,2012,2013,2014,2015,2016,2017,2018,2019,2020,2021,2022,2023,2024,2025,2026,2027,2028,2029,2030,2031,2032,2033,2034,2035,2036,2037,2038,2039,2040,2041,2042,2043,2044,2045,2046,2047,2048,2049,2050,2051,2052,2053,2054,2055,2056,2057,2058,2059,2060,2061,2062,2063,2064,2065,2066,2067,2068,2069,2070,2071,2072,2073,2074,2075,2076,2077,2078,2079,2080,2081,2082,2083,2084,2085,2086,2087,2088,2089,2090,2091,2092,2093,2094,2095,2096,2097,2098,2099,2100],\"y\":[56.58911845730031,56.8957439174017,57.2023693775031,57.5089948376045,57.81562029770589,58.122245757807285,58.428871217908686,58.73549667801008,59.04212213811147,59.34874759821287,59.65537305831427,59.96199851841566,60.268623978517056,60.57524943861845,60.88187489871985,61.188500358821244,61.49512581892264,61.80175127902403,62.10837673912543,62.41500219922683,62.72162765932822,63.028253119429614,63.334878579531015,63.64150403963241,63.9481294997338,64.2547549598352,64.5613804199366,64.868005880038,65.17463134013938,65.48125680024079,65.78788226034217,66.09450772044357,66.40113318054497,66.70775864064636,67.01438410074776,67.32100956084915,67.62763502095055,67.93426048105195,68.24088594115334,68.54751140125474,68.85413686135614,69.16076232145753,69.46738778155893,69.77401324166033,70.08063870176171,70.38726416186311,70.6938896219645,71.0005150820659,71.3071405421673,71.61376600226869,71.92039146237009,72.22701692247149,72.53364238257288,72.84026784267428,73.14689330277568,73.45351876287707,73.76014422297847,74.06676968307985,74.37339514318126,74.68002060328266,74.98664606338404,75.29327152348544,75.59989698358683,75.90652244368823,76.21314790378963,76.51977336389103,76.82639882399242,77.13302428409382,77.43964974419521,77.74627520429661,78.05290066439801,78.3595261244994,78.6661515846008,78.97277704470218,79.27940250480358,79.58602796490499,79.89265342500637,80.19927888510777,80.50590434520916,80.81252980531056,81.11915526541196,81.42578072551336,81.73240618561475,82.03903164571615,82.34565710581754,82.65228256591894,82.95890802602034,83.26553348612173,83.57215894622313,83.87878440632451,84.18540986642591,84.49203532652731,84.7986607866287,85.1052862467301,85.41191170683149,85.71853716693289,86.02516262703429,86.33178808713569,86.63841354723708,86.94503900733848,87.25166446743987,87.55828992754127,87.86491538764267,88.17154084774405,88.47816630784546,88.78479176794684,89.09141722804824,89.39804268814964,89.70466814825105,90.01129360835243,90.31791906845382,90.62454452855522,90.93116998865662,91.23779544875802,91.54442090885941,91.85104636896081,92.1576718290622,92.4642972891636,92.770922749265,93.0775482093664],\"type\":\"scatter\"},{\"line\":{\"color\":\"red\"},\"mode\":\"lines\",\"name\":\"RCP 8.5 trend\",\"x\":[1971,1972,1973,1974,1975,1976,1977,1978,1979,1980,1981,1982,1983,1984,1985,1986,1987,1988,1989,1990,1991,1992,1993,1994,1995,1996,1997,1998,1999,2000,2011,2012,2013,2014,2015,2016,2017,2018,2019,2020,2021,2022,2023,2024,2025,2026,2027,2028,2029,2030,2031,2032,2033,2034,2035,2036,2037,2038,2039,2040,2041,2042,2043,2044,2045,2046,2047,2048,2049,2050,2051,2052,2053,2054,2055,2056,2057,2058,2059,2060,2061,2062,2063,2064,2065,2066,2067,2068,2069,2070,2071,2072,2073,2074,2075,2076,2077,2078,2079,2080,2081,2082,2083,2084,2085,2086,2087,2088,2089,2090,2091,2092,2093,2094,2095,2096,2097,2098,2099,2100],\"y\":[51.42396694214877,51.94289186749081,52.46181679283285,52.98074171817488,53.499666643516925,54.01859156885896,54.537516494201,55.056441419543034,55.575366344885076,56.09429127022711,56.61321619556915,57.132141120911186,57.65106604625322,58.16999097159526,58.688915896937296,59.20784082227934,59.72676574762137,60.24569067296341,60.76461559830545,61.28354052364749,61.80246544898952,62.32139037433156,62.8403152996736,63.35924022501564,63.878165150357674,64.39709007569971,64.91601500104174,65.43493992638379,65.95386485172583,66.47278977706786,66.9917147024099,67.51063962775194,68.02956455309398,68.54848947843601,69.06741440377805,69.58633932912008,70.10526425446213,70.62418917980416,71.1431141051462,71.66203903048823,72.18096395583026,72.69988888117231,73.21881380651435,73.73773873185638,74.25666365719843,74.77558858254046,75.2945135078825,75.81343843322453,76.33236335856657,76.85128828390862,77.37021320925065,77.88913813459268,78.40806305993472,78.92698798527675,79.4459129106188,79.96483783596084,80.48376276130287,81.00268768664492,81.52161261198695,82.04053753732899,82.55946246267102,83.07838738801306,83.5973123133551,84.11623723869714,84.63516216403917,85.1540870893812,85.67301201472324,86.19193694006529,86.71086186540732,87.22978679074936,87.7487117160914,88.26763664143343,88.78656156677548,89.30548649211751,89.82441141745954,90.34333634280159,90.86226126814361,91.38118619348566,91.9001111188277,92.41903604416973,92.93796096951178,93.45688589485381,93.97581082019585,94.4947357455379,95.01366067087991,95.53258559622196,96.051510521564,96.57043544690603,97.08936037224808,97.6082852975901,98.12721022293215,98.64613514827418,99.16506007361622,99.68398499895827,100.2029099243003,100.72183484964233,101.24075977498438,101.7596847003264,102.27860962566845,102.79753455101049,103.31645947635252,103.83538440169457,104.35430932703659,104.87323425237864,105.39215917772067,105.9110841030627,106.43000902840475,106.94893395374677,107.46785887908882,107.98678380443086,108.50570872977289,109.02463365511494,109.54355858045697,110.06248350579901,110.58140843114106,111.10033335648308,111.61925828182513,112.13818320716716,112.6571081325092,113.17603305785124],\"type\":\"scatter\"}],                        {\"template\":{\"data\":{\"histogram2dcontour\":[{\"type\":\"histogram2dcontour\",\"colorbar\":{\"outlinewidth\":0,\"ticks\":\"\"},\"colorscale\":[[0.0,\"#0d0887\"],[0.1111111111111111,\"#46039f\"],[0.2222222222222222,\"#7201a8\"],[0.3333333333333333,\"#9c179e\"],[0.4444444444444444,\"#bd3786\"],[0.5555555555555556,\"#d8576b\"],[0.6666666666666666,\"#ed7953\"],[0.7777777777777778,\"#fb9f3a\"],[0.8888888888888888,\"#fdca26\"],[1.0,\"#f0f921\"]]}],\"choropleth\":[{\"type\":\"choropleth\",\"colorbar\":{\"outlinewidth\":0,\"ticks\":\"\"}}],\"histogram2d\":[{\"type\":\"histogram2d\",\"colorbar\":{\"outlinewidth\":0,\"ticks\":\"\"},\"colorscale\":[[0.0,\"#0d0887\"],[0.1111111111111111,\"#46039f\"],[0.2222222222222222,\"#7201a8\"],[0.3333333333333333,\"#9c179e\"],[0.4444444444444444,\"#bd3786\"],[0.5555555555555556,\"#d8576b\"],[0.6666666666666666,\"#ed7953\"],[0.7777777777777778,\"#fb9f3a\"],[0.8888888888888888,\"#fdca26\"],[1.0,\"#f0f921\"]]}],\"heatmap\":[{\"type\":\"heatmap\",\"colorbar\":{\"outlinewidth\":0,\"ticks\":\"\"},\"colorscale\":[[0.0,\"#0d0887\"],[0.1111111111111111,\"#46039f\"],[0.2222222222222222,\"#7201a8\"],[0.3333333333333333,\"#9c179e\"],[0.4444444444444444,\"#bd3786\"],[0.5555555555555556,\"#d8576b\"],[0.6666666666666666,\"#ed7953\"],[0.7777777777777778,\"#fb9f3a\"],[0.8888888888888888,\"#fdca26\"],[1.0,\"#f0f921\"]]}],\"heatmapgl\":[{\"type\":\"heatmapgl\",\"colorbar\":{\"outlinewidth\":0,\"ticks\":\"\"},\"colorscale\":[[0.0,\"#0d0887\"],[0.1111111111111111,\"#46039f\"],[0.2222222222222222,\"#7201a8\"],[0.3333333333333333,\"#9c179e\"],[0.4444444444444444,\"#bd3786\"],[0.5555555555555556,\"#d8576b\"],[0.6666666666666666,\"#ed7953\"],[0.7777777777777778,\"#fb9f3a\"],[0.8888888888888888,\"#fdca26\"],[1.0,\"#f0f921\"]]}],\"contourcarpet\":[{\"type\":\"contourcarpet\",\"colorbar\":{\"outlinewidth\":0,\"ticks\":\"\"}}],\"contour\":[{\"type\":\"contour\",\"colorbar\":{\"outlinewidth\":0,\"ticks\":\"\"},\"colorscale\":[[0.0,\"#0d0887\"],[0.1111111111111111,\"#46039f\"],[0.2222222222222222,\"#7201a8\"],[0.3333333333333333,\"#9c179e\"],[0.4444444444444444,\"#bd3786\"],[0.5555555555555556,\"#d8576b\"],[0.6666666666666666,\"#ed7953\"],[0.7777777777777778,\"#fb9f3a\"],[0.8888888888888888,\"#fdca26\"],[1.0,\"#f0f921\"]]}],\"surface\":[{\"type\":\"surface\",\"colorbar\":{\"outlinewidth\":0,\"ticks\":\"\"},\"colorscale\":[[0.0,\"#0d0887\"],[0.1111111111111111,\"#46039f\"],[0.2222222222222222,\"#7201a8\"],[0.3333333333333333,\"#9c179e\"],[0.4444444444444444,\"#bd3786\"],[0.5555555555555556,\"#d8576b\"],[0.6666666666666666,\"#ed7953\"],[0.7777777777777778,\"#fb9f3a\"],[0.8888888888888888,\"#fdca26\"],[1.0,\"#f0f921\"]]}],\"mesh3d\":[{\"type\":\"mesh3d\",\"colorbar\":{\"outlinewidth\":0,\"ticks\":\"\"}}],\"scatter\":[{\"fillpattern\":{\"fillmode\":\"overlay\",\"size\":10,\"solidity\":0.2},\"type\":\"scatter\"}],\"parcoords\":[{\"type\":\"parcoords\",\"line\":{\"colorbar\":{\"outlinewidth\":0,\"ticks\":\"\"}}}],\"scatterpolargl\":[{\"type\":\"scatterpolargl\",\"marker\":{\"colorbar\":{\"outlinewidth\":0,\"ticks\":\"\"}}}],\"bar\":[{\"error_x\":{\"color\":\"#2a3f5f\"},\"error_y\":{\"color\":\"#2a3f5f\"},\"marker\":{\"line\":{\"color\":\"#E5ECF6\",\"width\":0.5},\"pattern\":{\"fillmode\":\"overlay\",\"size\":10,\"solidity\":0.2}},\"type\":\"bar\"}],\"scattergeo\":[{\"type\":\"scattergeo\",\"marker\":{\"colorbar\":{\"outlinewidth\":0,\"ticks\":\"\"}}}],\"scatterpolar\":[{\"type\":\"scatterpolar\",\"marker\":{\"colorbar\":{\"outlinewidth\":0,\"ticks\":\"\"}}}],\"histogram\":[{\"marker\":{\"pattern\":{\"fillmode\":\"overlay\",\"size\":10,\"solidity\":0.2}},\"type\":\"histogram\"}],\"scattergl\":[{\"type\":\"scattergl\",\"marker\":{\"colorbar\":{\"outlinewidth\":0,\"ticks\":\"\"}}}],\"scatter3d\":[{\"type\":\"scatter3d\",\"line\":{\"colorbar\":{\"outlinewidth\":0,\"ticks\":\"\"}},\"marker\":{\"colorbar\":{\"outlinewidth\":0,\"ticks\":\"\"}}}],\"scattermapbox\":[{\"type\":\"scattermapbox\",\"marker\":{\"colorbar\":{\"outlinewidth\":0,\"ticks\":\"\"}}}],\"scatterternary\":[{\"type\":\"scatterternary\",\"marker\":{\"colorbar\":{\"outlinewidth\":0,\"ticks\":\"\"}}}],\"scattercarpet\":[{\"type\":\"scattercarpet\",\"marker\":{\"colorbar\":{\"outlinewidth\":0,\"ticks\":\"\"}}}],\"carpet\":[{\"aaxis\":{\"endlinecolor\":\"#2a3f5f\",\"gridcolor\":\"white\",\"linecolor\":\"white\",\"minorgridcolor\":\"white\",\"startlinecolor\":\"#2a3f5f\"},\"baxis\":{\"endlinecolor\":\"#2a3f5f\",\"gridcolor\":\"white\",\"linecolor\":\"white\",\"minorgridcolor\":\"white\",\"startlinecolor\":\"#2a3f5f\"},\"type\":\"carpet\"}],\"table\":[{\"cells\":{\"fill\":{\"color\":\"#EBF0F8\"},\"line\":{\"color\":\"white\"}},\"header\":{\"fill\":{\"color\":\"#C8D4E3\"},\"line\":{\"color\":\"white\"}},\"type\":\"table\"}],\"barpolar\":[{\"marker\":{\"line\":{\"color\":\"#E5ECF6\",\"width\":0.5},\"pattern\":{\"fillmode\":\"overlay\",\"size\":10,\"solidity\":0.2}},\"type\":\"barpolar\"}],\"pie\":[{\"automargin\":true,\"type\":\"pie\"}]},\"layout\":{\"autotypenumbers\":\"strict\",\"colorway\":[\"#636efa\",\"#EF553B\",\"#00cc96\",\"#ab63fa\",\"#FFA15A\",\"#19d3f3\",\"#FF6692\",\"#B6E880\",\"#FF97FF\",\"#FECB52\"],\"font\":{\"color\":\"#2a3f5f\"},\"hovermode\":\"closest\",\"hoverlabel\":{\"align\":\"left\"},\"paper_bgcolor\":\"white\",\"plot_bgcolor\":\"#E5ECF6\",\"polar\":{\"bgcolor\":\"#E5ECF6\",\"angularaxis\":{\"gridcolor\":\"white\",\"linecolor\":\"white\",\"ticks\":\"\"},\"radialaxis\":{\"gridcolor\":\"white\",\"linecolor\":\"white\",\"ticks\":\"\"}},\"ternary\":{\"bgcolor\":\"#E5ECF6\",\"aaxis\":{\"gridcolor\":\"white\",\"linecolor\":\"white\",\"ticks\":\"\"},\"baxis\":{\"gridcolor\":\"white\",\"linecolor\":\"white\",\"ticks\":\"\"},\"caxis\":{\"gridcolor\":\"white\",\"linecolor\":\"white\",\"ticks\":\"\"}},\"coloraxis\":{\"colorbar\":{\"outlinewidth\":0,\"ticks\":\"\"}},\"colorscale\":{\"sequential\":[[0.0,\"#0d0887\"],[0.1111111111111111,\"#46039f\"],[0.2222222222222222,\"#7201a8\"],[0.3333333333333333,\"#9c179e\"],[0.4444444444444444,\"#bd3786\"],[0.5555555555555556,\"#d8576b\"],[0.6666666666666666,\"#ed7953\"],[0.7777777777777778,\"#fb9f3a\"],[0.8888888888888888,\"#fdca26\"],[1.0,\"#f0f921\"]],\"sequentialminus\":[[0.0,\"#0d0887\"],[0.1111111111111111,\"#46039f\"],[0.2222222222222222,\"#7201a8\"],[0.3333333333333333,\"#9c179e\"],[0.4444444444444444,\"#bd3786\"],[0.5555555555555556,\"#d8576b\"],[0.6666666666666666,\"#ed7953\"],[0.7777777777777778,\"#fb9f3a\"],[0.8888888888888888,\"#fdca26\"],[1.0,\"#f0f921\"]],\"diverging\":[[0,\"#8e0152\"],[0.1,\"#c51b7d\"],[0.2,\"#de77ae\"],[0.3,\"#f1b6da\"],[0.4,\"#fde0ef\"],[0.5,\"#f7f7f7\"],[0.6,\"#e6f5d0\"],[0.7,\"#b8e186\"],[0.8,\"#7fbc41\"],[0.9,\"#4d9221\"],[1,\"#276419\"]]},\"xaxis\":{\"gridcolor\":\"white\",\"linecolor\":\"white\",\"ticks\":\"\",\"title\":{\"standoff\":15},\"zerolinecolor\":\"white\",\"automargin\":true,\"zerolinewidth\":2},\"yaxis\":{\"gridcolor\":\"white\",\"linecolor\":\"white\",\"ticks\":\"\",\"title\":{\"standoff\":15},\"zerolinecolor\":\"white\",\"automargin\":true,\"zerolinewidth\":2},\"scene\":{\"xaxis\":{\"backgroundcolor\":\"#E5ECF6\",\"gridcolor\":\"white\",\"linecolor\":\"white\",\"showbackground\":true,\"ticks\":\"\",\"zerolinecolor\":\"white\",\"gridwidth\":2},\"yaxis\":{\"backgroundcolor\":\"#E5ECF6\",\"gridcolor\":\"white\",\"linecolor\":\"white\",\"showbackground\":true,\"ticks\":\"\",\"zerolinecolor\":\"white\",\"gridwidth\":2},\"zaxis\":{\"backgroundcolor\":\"#E5ECF6\",\"gridcolor\":\"white\",\"linecolor\":\"white\",\"showbackground\":true,\"ticks\":\"\",\"zerolinecolor\":\"white\",\"gridwidth\":2}},\"shapedefaults\":{\"line\":{\"color\":\"#2a3f5f\"}},\"annotationdefaults\":{\"arrowcolor\":\"#2a3f5f\",\"arrowhead\":0,\"arrowwidth\":1},\"geo\":{\"bgcolor\":\"white\",\"landcolor\":\"#E5ECF6\",\"subunitcolor\":\"white\",\"showland\":true,\"showlakes\":true,\"lakecolor\":\"white\"},\"title\":{\"x\":0.05},\"mapbox\":{\"style\":\"light\"}}},\"legend\":{\"x\":0,\"y\":1,\"traceorder\":\"normal\",\"orientation\":\"h\"},\"title\":{\"text\":\"Number of days that are part of a heatwave defined as five or more consecutive days over a threshold of 25 degrees\"},\"xaxis\":{\"title\":{\"text\":\"Year\"}},\"yaxis\":{\"title\":{\"text\":\"Number of Heat-waves\"}},\"width\":1100,\"height\":500},                        {\"responsive\": true}                    ).then(function(){\n",
       "                            \n",
       "var gd = document.getElementById('02b75b09-f4b6-4b5a-8da2-c40bd4277bb3');\n",
       "var x = new MutationObserver(function (mutations, observer) {{\n",
       "        var display = window.getComputedStyle(gd).display;\n",
       "        if (!display || display === 'none') {{\n",
       "            console.log([gd, 'removed!']);\n",
       "            Plotly.purge(gd);\n",
       "            observer.disconnect();\n",
       "        }}\n",
       "}});\n",
       "\n",
       "// Listen for the removal of the full notebook cells\n",
       "var notebookContainer = gd.closest('#notebook-container');\n",
       "if (notebookContainer) {{\n",
       "    x.observe(notebookContainer, {childList: true});\n",
       "}}\n",
       "\n",
       "// Listen for the clearing of the current output cell\n",
       "var outputEl = gd.closest('.output');\n",
       "if (outputEl) {{\n",
       "    x.observe(outputEl, {childList: true});\n",
       "}}\n",
       "\n",
       "                        })                };                });            </script>        </div>"
      ]
     },
     "metadata": {},
     "output_type": "display_data"
    }
   ],
   "source": [
    "# This code plots the data with Heat-wave index for the selected pixel \n",
    "# Sample data\n",
    "b = pixel_values_hwih + pixel_values_hwi45\n",
    "t = pixel_values_hwih + pixel_values_hwi85 \n",
    "# Calculate trend lines for b and t\n",
    "b_trend = np.polyfit(np.arange(len(b)), b, 1)\n",
    "t_trend = np.polyfit(np.arange(len(t)), t, 1)\n",
    "# Define years\n",
    "yearh = list(range(1971, 2001))\n",
    "yearp1 = list(range(2011, 2101))\n",
    "year = yearh + yearp1\n",
    "# Create figure\n",
    "fig = go.Figure()\n",
    "# Add bar trace for 'b'\n",
    "fig.add_trace(go.Bar(x=year, y=b, name='HWI RCP 4.5', marker_color='blue'))\n",
    "# Add bar trace for 't'\n",
    "fig.add_trace(go.Bar(x=year, y=t, name='HWI RCP 8.5', opacity=0.5, marker_color='red'))\n",
    "# Add trend line trace for 'b'\n",
    "fig.add_trace(go.Scatter(x=year, y=np.polyval(b_trend, np.arange(len(b))), mode='lines', name='RCP 4.5 trend', line=dict(color='blue')))\n",
    "# Add trend line trace for 't'\n",
    "fig.add_trace(go.Scatter(x=year, y=np.polyval(t_trend, np.arange(len(t))), mode='lines', name='RCP 8.5 trend', line=dict(color='red')))\n",
    "# Update layout\n",
    "fig.update_layout(\n",
    "    title='Number of days that are part of a heatwave defined as five or more consecutive days over a threshold of 25 degrees',\n",
    "    xaxis_title='Year',\n",
    "    yaxis_title='Number of Heat-waves',\n",
    "    legend=dict(x=0, y=1, traceorder='normal', orientation='h'),\n",
    "    width=1100,\n",
    "    height=500)"
   ]
  },
  {
   "cell_type": "markdown",
   "id": "e748669d-b79c-4126-a038-2afc4853eb5a",
   "metadata": {},
   "source": [
    "### Plots the Heat-wave frequency\n",
    "- Number of heat waves over a given period. A heat wave is defined as an event where the minimum and maximum daily temperature both exceed specific thresholds over a minimum number of days.\n",
    "- The number of the heat-waves depends strictly on the treshold which we select\n"
   ]
  },
  {
   "cell_type": "code",
   "execution_count": 9,
   "id": "fbc92bdc-3ac4-46af-952e-352ada5c50f9",
   "metadata": {},
   "outputs": [
    {
     "data": {
      "application/vnd.plotly.v1+json": {
       "config": {
        "plotlyServerURL": "https://plot.ly"
       },
       "data": [
        {
         "marker": {
          "color": "blue"
         },
         "name": "HWI RCP 4.5",
         "type": "bar",
         "x": [
          1971,
          1972,
          1973,
          1974,
          1975,
          1976,
          1977,
          1978,
          1979,
          1980,
          1981,
          1982,
          1983,
          1984,
          1985,
          1986,
          1987,
          1988,
          1989,
          1990,
          1991,
          1992,
          1993,
          1994,
          1995,
          1996,
          1997,
          1998,
          1999,
          2000,
          2011,
          2012,
          2013,
          2014,
          2015,
          2016,
          2017,
          2018,
          2019,
          2020,
          2021,
          2022,
          2023,
          2024,
          2025,
          2026,
          2027,
          2028,
          2029,
          2030,
          2031,
          2032,
          2033,
          2034,
          2035,
          2036,
          2037,
          2038,
          2039,
          2040,
          2041,
          2042,
          2043,
          2044,
          2045,
          2046,
          2047,
          2048,
          2049,
          2050,
          2051,
          2052,
          2053,
          2054,
          2055,
          2056,
          2057,
          2058,
          2059,
          2060,
          2061,
          2062,
          2063,
          2064,
          2065,
          2066,
          2067,
          2068,
          2069,
          2070,
          2071,
          2072,
          2073,
          2074,
          2075,
          2076,
          2077,
          2078,
          2079,
          2080,
          2081,
          2082,
          2083,
          2084,
          2085,
          2086,
          2087,
          2088,
          2089,
          2090,
          2091,
          2092,
          2093,
          2094,
          2095,
          2096,
          2097,
          2098,
          2099,
          2100
         ],
         "y": [
          3,
          4,
          4,
          7,
          8,
          8,
          4,
          3,
          3,
          1,
          6,
          2,
          1,
          5,
          4,
          4,
          6,
          6,
          6,
          3,
          7,
          2,
          3,
          3,
          6,
          9,
          6,
          3,
          4,
          3,
          6,
          4,
          7,
          3,
          6,
          3,
          6,
          5,
          9,
          5,
          6,
          3,
          4,
          1,
          5,
          5,
          6,
          4,
          7,
          8,
          4,
          7,
          5,
          5,
          6,
          3,
          5,
          7,
          8,
          5,
          7,
          5,
          5,
          5,
          5,
          5,
          9,
          8,
          5,
          6,
          5,
          9,
          7,
          5,
          7,
          6,
          5,
          7,
          7,
          7,
          5,
          6,
          6,
          10,
          3,
          8,
          5,
          9,
          7,
          6,
          13,
          7,
          4,
          6,
          7,
          3,
          6,
          3,
          5,
          5,
          5,
          7,
          7,
          7,
          7,
          7,
          8,
          7,
          8,
          5,
          4,
          9,
          6,
          4,
          7,
          7,
          3,
          9,
          8,
          5
         ]
        },
        {
         "marker": {
          "color": "red"
         },
         "name": "HWI RCP 8.5",
         "opacity": 0.5,
         "type": "bar",
         "x": [
          1971,
          1972,
          1973,
          1974,
          1975,
          1976,
          1977,
          1978,
          1979,
          1980,
          1981,
          1982,
          1983,
          1984,
          1985,
          1986,
          1987,
          1988,
          1989,
          1990,
          1991,
          1992,
          1993,
          1994,
          1995,
          1996,
          1997,
          1998,
          1999,
          2000,
          2011,
          2012,
          2013,
          2014,
          2015,
          2016,
          2017,
          2018,
          2019,
          2020,
          2021,
          2022,
          2023,
          2024,
          2025,
          2026,
          2027,
          2028,
          2029,
          2030,
          2031,
          2032,
          2033,
          2034,
          2035,
          2036,
          2037,
          2038,
          2039,
          2040,
          2041,
          2042,
          2043,
          2044,
          2045,
          2046,
          2047,
          2048,
          2049,
          2050,
          2051,
          2052,
          2053,
          2054,
          2055,
          2056,
          2057,
          2058,
          2059,
          2060,
          2061,
          2062,
          2063,
          2064,
          2065,
          2066,
          2067,
          2068,
          2069,
          2070,
          2071,
          2072,
          2073,
          2074,
          2075,
          2076,
          2077,
          2078,
          2079,
          2080,
          2081,
          2082,
          2083,
          2084,
          2085,
          2086,
          2087,
          2088,
          2089,
          2090,
          2091,
          2092,
          2093,
          2094,
          2095,
          2096,
          2097,
          2098,
          2099,
          2100
         ],
         "y": [
          3,
          4,
          4,
          7,
          8,
          8,
          4,
          3,
          3,
          1,
          6,
          2,
          1,
          5,
          4,
          4,
          6,
          6,
          6,
          3,
          7,
          2,
          3,
          3,
          6,
          9,
          6,
          3,
          4,
          3,
          4,
          8,
          4,
          6,
          7,
          5,
          4,
          4,
          6,
          8,
          6,
          8,
          4,
          5,
          6,
          6,
          3,
          4,
          4,
          8,
          6,
          10,
          8,
          3,
          6,
          7,
          5,
          6,
          9,
          6,
          7,
          7,
          9,
          4,
          6,
          7,
          7,
          6,
          4,
          8,
          6,
          5,
          5,
          6,
          5,
          4,
          3,
          7,
          4,
          9,
          7,
          8,
          6,
          8,
          5,
          7,
          5,
          7,
          6,
          9,
          7,
          6,
          8,
          10,
          5,
          7,
          4,
          6,
          4,
          5,
          6,
          10,
          9,
          9,
          7,
          9,
          6,
          9,
          6,
          5,
          6,
          5,
          6,
          6,
          8,
          8,
          5,
          6,
          9,
          9
         ]
        },
        {
         "line": {
          "color": "blue"
         },
         "mode": "lines",
         "name": "RCP 4.5 trend",
         "type": "scatter",
         "x": [
          1971,
          1972,
          1973,
          1974,
          1975,
          1976,
          1977,
          1978,
          1979,
          1980,
          1981,
          1982,
          1983,
          1984,
          1985,
          1986,
          1987,
          1988,
          1989,
          1990,
          1991,
          1992,
          1993,
          1994,
          1995,
          1996,
          1997,
          1998,
          1999,
          2000,
          2011,
          2012,
          2013,
          2014,
          2015,
          2016,
          2017,
          2018,
          2019,
          2020,
          2021,
          2022,
          2023,
          2024,
          2025,
          2026,
          2027,
          2028,
          2029,
          2030,
          2031,
          2032,
          2033,
          2034,
          2035,
          2036,
          2037,
          2038,
          2039,
          2040,
          2041,
          2042,
          2043,
          2044,
          2045,
          2046,
          2047,
          2048,
          2049,
          2050,
          2051,
          2052,
          2053,
          2054,
          2055,
          2056,
          2057,
          2058,
          2059,
          2060,
          2061,
          2062,
          2063,
          2064,
          2065,
          2066,
          2067,
          2068,
          2069,
          2070,
          2071,
          2072,
          2073,
          2074,
          2075,
          2076,
          2077,
          2078,
          2079,
          2080,
          2081,
          2082,
          2083,
          2084,
          2085,
          2086,
          2087,
          2088,
          2089,
          2090,
          2091,
          2092,
          2093,
          2094,
          2095,
          2096,
          2097,
          2098,
          2099,
          2100
         ],
         "y": [
          4.317493112947662,
          4.338907794522771,
          4.36032247609788,
          4.3817371576729895,
          4.403151839248099,
          4.424566520823208,
          4.445981202398318,
          4.467395883973428,
          4.488810565548537,
          4.510225247123646,
          4.531639928698755,
          4.553054610273865,
          4.574469291848974,
          4.595883973424083,
          4.617298654999193,
          4.638713336574302,
          4.660128018149411,
          4.681542699724521,
          4.702957381299631,
          4.72437206287474,
          4.745786744449849,
          4.767201426024958,
          4.788616107600068,
          4.810030789175177,
          4.831445470750286,
          4.852860152325396,
          4.874274833900506,
          4.895689515475615,
          4.917104197050724,
          4.938518878625834,
          4.959933560200943,
          4.981348241776052,
          5.0027629233511615,
          5.024177604926271,
          5.04559228650138,
          5.067006968076489,
          5.088421649651599,
          5.109836331226708,
          5.131251012801817,
          5.152665694376927,
          5.174080375952037,
          5.195495057527146,
          5.216909739102255,
          5.2383244206773645,
          5.259739102252474,
          5.281153783827583,
          5.302568465402692,
          5.3239831469778025,
          5.345397828552912,
          5.366812510128021,
          5.38822719170313,
          5.40964187327824,
          5.431056554853349,
          5.452471236428458,
          5.4738859180035675,
          5.495300599578677,
          5.516715281153786,
          5.538129962728895,
          5.559544644304005,
          5.580959325879114,
          5.602374007454223,
          5.623788689029333,
          5.645203370604443,
          5.666618052179552,
          5.688032733754661,
          5.7094474153297705,
          5.73086209690488,
          5.752276778479989,
          5.773691460055099,
          5.7951061416302085,
          5.816520823205318,
          5.837935504780427,
          5.859350186355536,
          5.880764867930646,
          5.902179549505755,
          5.923594231080864,
          5.9450089126559735,
          5.966423594231083,
          5.987838275806192,
          6.009252957381301,
          6.030667638956411,
          6.05208232053152,
          6.07349700210663,
          6.094911683681739,
          6.116326365256849,
          6.137741046831958,
          6.159155728407067,
          6.1805704099821765,
          6.201985091557286,
          6.223399773132395,
          6.244814454707505,
          6.266229136282615,
          6.287643817857724,
          6.309058499432833,
          6.330473181007942,
          6.351887862583052,
          6.373302544158161,
          6.39471722573327,
          6.41613190730838,
          6.437546588883489,
          6.458961270458598,
          6.480375952033707,
          6.501790633608817,
          6.523205315183926,
          6.544619996759036,
          6.5660346783341454,
          6.587449359909255,
          6.608864041484364,
          6.630278723059473,
          6.651693404634583,
          6.673108086209693,
          6.694522767784802,
          6.715937449359911,
          6.737352130935021,
          6.75876681251013,
          6.780181494085239,
          6.8015961756603485,
          6.823010857235458,
          6.844425538810567,
          6.865840220385676
         ]
        },
        {
         "line": {
          "color": "red"
         },
         "mode": "lines",
         "name": "RCP 8.5 trend",
         "type": "scatter",
         "x": [
          1971,
          1972,
          1973,
          1974,
          1975,
          1976,
          1977,
          1978,
          1979,
          1980,
          1981,
          1982,
          1983,
          1984,
          1985,
          1986,
          1987,
          1988,
          1989,
          1990,
          1991,
          1992,
          1993,
          1994,
          1995,
          1996,
          1997,
          1998,
          1999,
          2000,
          2011,
          2012,
          2013,
          2014,
          2015,
          2016,
          2017,
          2018,
          2019,
          2020,
          2021,
          2022,
          2023,
          2024,
          2025,
          2026,
          2027,
          2028,
          2029,
          2030,
          2031,
          2032,
          2033,
          2034,
          2035,
          2036,
          2037,
          2038,
          2039,
          2040,
          2041,
          2042,
          2043,
          2044,
          2045,
          2046,
          2047,
          2048,
          2049,
          2050,
          2051,
          2052,
          2053,
          2054,
          2055,
          2056,
          2057,
          2058,
          2059,
          2060,
          2061,
          2062,
          2063,
          2064,
          2065,
          2066,
          2067,
          2068,
          2069,
          2070,
          2071,
          2072,
          2073,
          2074,
          2075,
          2076,
          2077,
          2078,
          2079,
          2080,
          2081,
          2082,
          2083,
          2084,
          2085,
          2086,
          2087,
          2088,
          2089,
          2090,
          2091,
          2092,
          2093,
          2094,
          2095,
          2096,
          2097,
          2098,
          2099,
          2100
         ],
         "y": [
          4.384573002754821,
          4.409342083941015,
          4.434111165127208,
          4.458880246313401,
          4.483649327499594,
          4.508418408685788,
          4.533187489871982,
          4.557956571058175,
          4.582725652244369,
          4.6074947334305625,
          4.632263814616755,
          4.657032895802949,
          4.681801976989142,
          4.706571058175336,
          4.73134013936153,
          4.756109220547723,
          4.7808783017339165,
          4.80564738292011,
          4.830416464106303,
          4.855185545292497,
          4.87995462647869,
          4.904723707664884,
          4.929492788851078,
          4.9542618700372705,
          4.979030951223464,
          5.003800032409657,
          5.028569113595851,
          5.053338194782045,
          5.078107275968238,
          5.1028763571544316,
          5.127645438340625,
          5.152414519526818,
          5.177183600713012,
          5.201952681899205,
          5.226721763085399,
          5.251490844271593,
          5.2762599254577855,
          5.301029006643979,
          5.325798087830172,
          5.350567169016366,
          5.37533625020256,
          5.400105331388753,
          5.424874412574947,
          5.44964349376114,
          5.474412574947333,
          5.499181656133527,
          5.523950737319721,
          5.548719818505914,
          5.573488899692107,
          5.598257980878301,
          5.623027062064494,
          5.647796143250687,
          5.672565224436881,
          5.697334305623075,
          5.722103386809268,
          5.746872467995462,
          5.7716415491816555,
          5.796410630367848,
          5.821179711554042,
          5.845948792740236,
          5.870717873926429,
          5.895486955112623,
          5.920256036298816,
          5.9450251174850095,
          5.969794198671202,
          5.994563279857396,
          6.01933236104359,
          6.044101442229783,
          6.068870523415977,
          6.093639604602171,
          6.1184086857883635,
          6.143177766974557,
          6.167946848160751,
          6.192715929346944,
          6.217485010533138,
          6.242254091719331,
          6.267023172905525,
          6.2917922540917175,
          6.316561335277911,
          6.341330416464105,
          6.366099497650298,
          6.390868578836492,
          6.415637660022686,
          6.440406741208879,
          6.465175822395072,
          6.489944903581266,
          6.514713984767459,
          6.539483065953652,
          6.564252147139847,
          6.58902122832604,
          6.613790309512233,
          6.638559390698426,
          6.66332847188462,
          6.688097553070813,
          6.712866634257007,
          6.737635715443201,
          6.762404796629394,
          6.7871738778155875,
          6.811942959001781,
          6.836712040187974,
          6.861481121374167,
          6.886250202560362,
          6.911019283746555,
          6.935788364932748,
          6.9605574461189414,
          6.985326527305135,
          7.010095608491328,
          7.034864689677522,
          7.059633770863716,
          7.084402852049909,
          7.1091719332361025,
          7.133941014422296,
          7.158710095608489,
          7.183479176794682,
          7.208248257980877,
          7.23301733916707,
          7.257786420353263,
          7.2825555015394565,
          7.30732458272565,
          7.332093663911843
         ]
        }
       ],
       "layout": {
        "height": 500,
        "legend": {
         "orientation": "h",
         "traceorder": "normal",
         "x": 0,
         "y": 1
        },
        "template": {
         "data": {
          "bar": [
           {
            "error_x": {
             "color": "#2a3f5f"
            },
            "error_y": {
             "color": "#2a3f5f"
            },
            "marker": {
             "line": {
              "color": "#E5ECF6",
              "width": 0.5
             },
             "pattern": {
              "fillmode": "overlay",
              "size": 10,
              "solidity": 0.2
             }
            },
            "type": "bar"
           }
          ],
          "barpolar": [
           {
            "marker": {
             "line": {
              "color": "#E5ECF6",
              "width": 0.5
             },
             "pattern": {
              "fillmode": "overlay",
              "size": 10,
              "solidity": 0.2
             }
            },
            "type": "barpolar"
           }
          ],
          "carpet": [
           {
            "aaxis": {
             "endlinecolor": "#2a3f5f",
             "gridcolor": "white",
             "linecolor": "white",
             "minorgridcolor": "white",
             "startlinecolor": "#2a3f5f"
            },
            "baxis": {
             "endlinecolor": "#2a3f5f",
             "gridcolor": "white",
             "linecolor": "white",
             "minorgridcolor": "white",
             "startlinecolor": "#2a3f5f"
            },
            "type": "carpet"
           }
          ],
          "choropleth": [
           {
            "colorbar": {
             "outlinewidth": 0,
             "ticks": ""
            },
            "type": "choropleth"
           }
          ],
          "contour": [
           {
            "colorbar": {
             "outlinewidth": 0,
             "ticks": ""
            },
            "colorscale": [
             [
              0,
              "#0d0887"
             ],
             [
              0.1111111111111111,
              "#46039f"
             ],
             [
              0.2222222222222222,
              "#7201a8"
             ],
             [
              0.3333333333333333,
              "#9c179e"
             ],
             [
              0.4444444444444444,
              "#bd3786"
             ],
             [
              0.5555555555555556,
              "#d8576b"
             ],
             [
              0.6666666666666666,
              "#ed7953"
             ],
             [
              0.7777777777777778,
              "#fb9f3a"
             ],
             [
              0.8888888888888888,
              "#fdca26"
             ],
             [
              1,
              "#f0f921"
             ]
            ],
            "type": "contour"
           }
          ],
          "contourcarpet": [
           {
            "colorbar": {
             "outlinewidth": 0,
             "ticks": ""
            },
            "type": "contourcarpet"
           }
          ],
          "heatmap": [
           {
            "colorbar": {
             "outlinewidth": 0,
             "ticks": ""
            },
            "colorscale": [
             [
              0,
              "#0d0887"
             ],
             [
              0.1111111111111111,
              "#46039f"
             ],
             [
              0.2222222222222222,
              "#7201a8"
             ],
             [
              0.3333333333333333,
              "#9c179e"
             ],
             [
              0.4444444444444444,
              "#bd3786"
             ],
             [
              0.5555555555555556,
              "#d8576b"
             ],
             [
              0.6666666666666666,
              "#ed7953"
             ],
             [
              0.7777777777777778,
              "#fb9f3a"
             ],
             [
              0.8888888888888888,
              "#fdca26"
             ],
             [
              1,
              "#f0f921"
             ]
            ],
            "type": "heatmap"
           }
          ],
          "heatmapgl": [
           {
            "colorbar": {
             "outlinewidth": 0,
             "ticks": ""
            },
            "colorscale": [
             [
              0,
              "#0d0887"
             ],
             [
              0.1111111111111111,
              "#46039f"
             ],
             [
              0.2222222222222222,
              "#7201a8"
             ],
             [
              0.3333333333333333,
              "#9c179e"
             ],
             [
              0.4444444444444444,
              "#bd3786"
             ],
             [
              0.5555555555555556,
              "#d8576b"
             ],
             [
              0.6666666666666666,
              "#ed7953"
             ],
             [
              0.7777777777777778,
              "#fb9f3a"
             ],
             [
              0.8888888888888888,
              "#fdca26"
             ],
             [
              1,
              "#f0f921"
             ]
            ],
            "type": "heatmapgl"
           }
          ],
          "histogram": [
           {
            "marker": {
             "pattern": {
              "fillmode": "overlay",
              "size": 10,
              "solidity": 0.2
             }
            },
            "type": "histogram"
           }
          ],
          "histogram2d": [
           {
            "colorbar": {
             "outlinewidth": 0,
             "ticks": ""
            },
            "colorscale": [
             [
              0,
              "#0d0887"
             ],
             [
              0.1111111111111111,
              "#46039f"
             ],
             [
              0.2222222222222222,
              "#7201a8"
             ],
             [
              0.3333333333333333,
              "#9c179e"
             ],
             [
              0.4444444444444444,
              "#bd3786"
             ],
             [
              0.5555555555555556,
              "#d8576b"
             ],
             [
              0.6666666666666666,
              "#ed7953"
             ],
             [
              0.7777777777777778,
              "#fb9f3a"
             ],
             [
              0.8888888888888888,
              "#fdca26"
             ],
             [
              1,
              "#f0f921"
             ]
            ],
            "type": "histogram2d"
           }
          ],
          "histogram2dcontour": [
           {
            "colorbar": {
             "outlinewidth": 0,
             "ticks": ""
            },
            "colorscale": [
             [
              0,
              "#0d0887"
             ],
             [
              0.1111111111111111,
              "#46039f"
             ],
             [
              0.2222222222222222,
              "#7201a8"
             ],
             [
              0.3333333333333333,
              "#9c179e"
             ],
             [
              0.4444444444444444,
              "#bd3786"
             ],
             [
              0.5555555555555556,
              "#d8576b"
             ],
             [
              0.6666666666666666,
              "#ed7953"
             ],
             [
              0.7777777777777778,
              "#fb9f3a"
             ],
             [
              0.8888888888888888,
              "#fdca26"
             ],
             [
              1,
              "#f0f921"
             ]
            ],
            "type": "histogram2dcontour"
           }
          ],
          "mesh3d": [
           {
            "colorbar": {
             "outlinewidth": 0,
             "ticks": ""
            },
            "type": "mesh3d"
           }
          ],
          "parcoords": [
           {
            "line": {
             "colorbar": {
              "outlinewidth": 0,
              "ticks": ""
             }
            },
            "type": "parcoords"
           }
          ],
          "pie": [
           {
            "automargin": true,
            "type": "pie"
           }
          ],
          "scatter": [
           {
            "fillpattern": {
             "fillmode": "overlay",
             "size": 10,
             "solidity": 0.2
            },
            "type": "scatter"
           }
          ],
          "scatter3d": [
           {
            "line": {
             "colorbar": {
              "outlinewidth": 0,
              "ticks": ""
             }
            },
            "marker": {
             "colorbar": {
              "outlinewidth": 0,
              "ticks": ""
             }
            },
            "type": "scatter3d"
           }
          ],
          "scattercarpet": [
           {
            "marker": {
             "colorbar": {
              "outlinewidth": 0,
              "ticks": ""
             }
            },
            "type": "scattercarpet"
           }
          ],
          "scattergeo": [
           {
            "marker": {
             "colorbar": {
              "outlinewidth": 0,
              "ticks": ""
             }
            },
            "type": "scattergeo"
           }
          ],
          "scattergl": [
           {
            "marker": {
             "colorbar": {
              "outlinewidth": 0,
              "ticks": ""
             }
            },
            "type": "scattergl"
           }
          ],
          "scattermapbox": [
           {
            "marker": {
             "colorbar": {
              "outlinewidth": 0,
              "ticks": ""
             }
            },
            "type": "scattermapbox"
           }
          ],
          "scatterpolar": [
           {
            "marker": {
             "colorbar": {
              "outlinewidth": 0,
              "ticks": ""
             }
            },
            "type": "scatterpolar"
           }
          ],
          "scatterpolargl": [
           {
            "marker": {
             "colorbar": {
              "outlinewidth": 0,
              "ticks": ""
             }
            },
            "type": "scatterpolargl"
           }
          ],
          "scatterternary": [
           {
            "marker": {
             "colorbar": {
              "outlinewidth": 0,
              "ticks": ""
             }
            },
            "type": "scatterternary"
           }
          ],
          "surface": [
           {
            "colorbar": {
             "outlinewidth": 0,
             "ticks": ""
            },
            "colorscale": [
             [
              0,
              "#0d0887"
             ],
             [
              0.1111111111111111,
              "#46039f"
             ],
             [
              0.2222222222222222,
              "#7201a8"
             ],
             [
              0.3333333333333333,
              "#9c179e"
             ],
             [
              0.4444444444444444,
              "#bd3786"
             ],
             [
              0.5555555555555556,
              "#d8576b"
             ],
             [
              0.6666666666666666,
              "#ed7953"
             ],
             [
              0.7777777777777778,
              "#fb9f3a"
             ],
             [
              0.8888888888888888,
              "#fdca26"
             ],
             [
              1,
              "#f0f921"
             ]
            ],
            "type": "surface"
           }
          ],
          "table": [
           {
            "cells": {
             "fill": {
              "color": "#EBF0F8"
             },
             "line": {
              "color": "white"
             }
            },
            "header": {
             "fill": {
              "color": "#C8D4E3"
             },
             "line": {
              "color": "white"
             }
            },
            "type": "table"
           }
          ]
         },
         "layout": {
          "annotationdefaults": {
           "arrowcolor": "#2a3f5f",
           "arrowhead": 0,
           "arrowwidth": 1
          },
          "autotypenumbers": "strict",
          "coloraxis": {
           "colorbar": {
            "outlinewidth": 0,
            "ticks": ""
           }
          },
          "colorscale": {
           "diverging": [
            [
             0,
             "#8e0152"
            ],
            [
             0.1,
             "#c51b7d"
            ],
            [
             0.2,
             "#de77ae"
            ],
            [
             0.3,
             "#f1b6da"
            ],
            [
             0.4,
             "#fde0ef"
            ],
            [
             0.5,
             "#f7f7f7"
            ],
            [
             0.6,
             "#e6f5d0"
            ],
            [
             0.7,
             "#b8e186"
            ],
            [
             0.8,
             "#7fbc41"
            ],
            [
             0.9,
             "#4d9221"
            ],
            [
             1,
             "#276419"
            ]
           ],
           "sequential": [
            [
             0,
             "#0d0887"
            ],
            [
             0.1111111111111111,
             "#46039f"
            ],
            [
             0.2222222222222222,
             "#7201a8"
            ],
            [
             0.3333333333333333,
             "#9c179e"
            ],
            [
             0.4444444444444444,
             "#bd3786"
            ],
            [
             0.5555555555555556,
             "#d8576b"
            ],
            [
             0.6666666666666666,
             "#ed7953"
            ],
            [
             0.7777777777777778,
             "#fb9f3a"
            ],
            [
             0.8888888888888888,
             "#fdca26"
            ],
            [
             1,
             "#f0f921"
            ]
           ],
           "sequentialminus": [
            [
             0,
             "#0d0887"
            ],
            [
             0.1111111111111111,
             "#46039f"
            ],
            [
             0.2222222222222222,
             "#7201a8"
            ],
            [
             0.3333333333333333,
             "#9c179e"
            ],
            [
             0.4444444444444444,
             "#bd3786"
            ],
            [
             0.5555555555555556,
             "#d8576b"
            ],
            [
             0.6666666666666666,
             "#ed7953"
            ],
            [
             0.7777777777777778,
             "#fb9f3a"
            ],
            [
             0.8888888888888888,
             "#fdca26"
            ],
            [
             1,
             "#f0f921"
            ]
           ]
          },
          "colorway": [
           "#636efa",
           "#EF553B",
           "#00cc96",
           "#ab63fa",
           "#FFA15A",
           "#19d3f3",
           "#FF6692",
           "#B6E880",
           "#FF97FF",
           "#FECB52"
          ],
          "font": {
           "color": "#2a3f5f"
          },
          "geo": {
           "bgcolor": "white",
           "lakecolor": "white",
           "landcolor": "#E5ECF6",
           "showlakes": true,
           "showland": true,
           "subunitcolor": "white"
          },
          "hoverlabel": {
           "align": "left"
          },
          "hovermode": "closest",
          "mapbox": {
           "style": "light"
          },
          "paper_bgcolor": "white",
          "plot_bgcolor": "#E5ECF6",
          "polar": {
           "angularaxis": {
            "gridcolor": "white",
            "linecolor": "white",
            "ticks": ""
           },
           "bgcolor": "#E5ECF6",
           "radialaxis": {
            "gridcolor": "white",
            "linecolor": "white",
            "ticks": ""
           }
          },
          "scene": {
           "xaxis": {
            "backgroundcolor": "#E5ECF6",
            "gridcolor": "white",
            "gridwidth": 2,
            "linecolor": "white",
            "showbackground": true,
            "ticks": "",
            "zerolinecolor": "white"
           },
           "yaxis": {
            "backgroundcolor": "#E5ECF6",
            "gridcolor": "white",
            "gridwidth": 2,
            "linecolor": "white",
            "showbackground": true,
            "ticks": "",
            "zerolinecolor": "white"
           },
           "zaxis": {
            "backgroundcolor": "#E5ECF6",
            "gridcolor": "white",
            "gridwidth": 2,
            "linecolor": "white",
            "showbackground": true,
            "ticks": "",
            "zerolinecolor": "white"
           }
          },
          "shapedefaults": {
           "line": {
            "color": "#2a3f5f"
           }
          },
          "ternary": {
           "aaxis": {
            "gridcolor": "white",
            "linecolor": "white",
            "ticks": ""
           },
           "baxis": {
            "gridcolor": "white",
            "linecolor": "white",
            "ticks": ""
           },
           "bgcolor": "#E5ECF6",
           "caxis": {
            "gridcolor": "white",
            "linecolor": "white",
            "ticks": ""
           }
          },
          "title": {
           "x": 0.05
          },
          "xaxis": {
           "automargin": true,
           "gridcolor": "white",
           "linecolor": "white",
           "ticks": "",
           "title": {
            "standoff": 15
           },
           "zerolinecolor": "white",
           "zerolinewidth": 2
          },
          "yaxis": {
           "automargin": true,
           "gridcolor": "white",
           "linecolor": "white",
           "ticks": "",
           "title": {
            "standoff": 15
           },
           "zerolinecolor": "white",
           "zerolinewidth": 2
          }
         }
        },
        "title": {
         "text": "Heat wave occurence in Selected pixel by year for period 1971-2000 and 2011-2100 rcp4.5 and 8.5"
        },
        "width": 1100,
        "xaxis": {
         "autorange": true,
         "range": [
          1970.5,
          2100.5
         ],
         "title": {
          "text": "Year"
         },
         "type": "linear"
        },
        "yaxis": {
         "autorange": true,
         "range": [
          0,
          13.68421052631579
         ],
         "title": {
          "text": "Number of Heat-waves"
         },
         "type": "linear"
        }
       }
      },
      "image/png": "[encoded data removed]",
      "text/html": [
       "<div>                            <div id=\"15226ac7-52fb-42e5-8cd1-19f786fd9a47\" class=\"plotly-graph-div\" style=\"height:500px; width:1100px;\"></div>            <script type=\"text/javascript\">                require([\"plotly\"], function(Plotly) {                    window.PLOTLYENV=window.PLOTLYENV || {};                                    if (document.getElementById(\"15226ac7-52fb-42e5-8cd1-19f786fd9a47\")) {                    Plotly.newPlot(                        \"15226ac7-52fb-42e5-8cd1-19f786fd9a47\",                        [{\"marker\":{\"color\":\"blue\"},\"name\":\"HWI RCP 4.5\",\"x\":[1971,1972,1973,1974,1975,1976,1977,1978,1979,1980,1981,1982,1983,1984,1985,1986,1987,1988,1989,1990,1991,1992,1993,1994,1995,1996,1997,1998,1999,2000,2011,2012,2013,2014,2015,2016,2017,2018,2019,2020,2021,2022,2023,2024,2025,2026,2027,2028,2029,2030,2031,2032,2033,2034,2035,2036,2037,2038,2039,2040,2041,2042,2043,2044,2045,2046,2047,2048,2049,2050,2051,2052,2053,2054,2055,2056,2057,2058,2059,2060,2061,2062,2063,2064,2065,2066,2067,2068,2069,2070,2071,2072,2073,2074,2075,2076,2077,2078,2079,2080,2081,2082,2083,2084,2085,2086,2087,2088,2089,2090,2091,2092,2093,2094,2095,2096,2097,2098,2099,2100],\"y\":[3.0,4.0,4.0,7.0,8.0,8.0,4.0,3.0,3.0,1.0,6.0,2.0,1.0,5.0,4.0,4.0,6.0,6.0,6.0,3.0,7.0,2.0,3.0,3.0,6.0,9.0,6.0,3.0,4.0,3.0,6.0,4.0,7.0,3.0,6.0,3.0,6.0,5.0,9.0,5.0,6.0,3.0,4.0,1.0,5.0,5.0,6.0,4.0,7.0,8.0,4.0,7.0,5.0,5.0,6.0,3.0,5.0,7.0,8.0,5.0,7.0,5.0,5.0,5.0,5.0,5.0,9.0,8.0,5.0,6.0,5.0,9.0,7.0,5.0,7.0,6.0,5.0,7.0,7.0,7.0,5.0,6.0,6.0,10.0,3.0,8.0,5.0,9.0,7.0,6.0,13.0,7.0,4.0,6.0,7.0,3.0,6.0,3.0,5.0,5.0,5.0,7.0,7.0,7.0,7.0,7.0,8.0,7.0,8.0,5.0,4.0,9.0,6.0,4.0,7.0,7.0,3.0,9.0,8.0,5.0],\"type\":\"bar\"},{\"marker\":{\"color\":\"red\"},\"name\":\"HWI RCP 8.5\",\"opacity\":0.5,\"x\":[1971,1972,1973,1974,1975,1976,1977,1978,1979,1980,1981,1982,1983,1984,1985,1986,1987,1988,1989,1990,1991,1992,1993,1994,1995,1996,1997,1998,1999,2000,2011,2012,2013,2014,2015,2016,2017,2018,2019,2020,2021,2022,2023,2024,2025,2026,2027,2028,2029,2030,2031,2032,2033,2034,2035,2036,2037,2038,2039,2040,2041,2042,2043,2044,2045,2046,2047,2048,2049,2050,2051,2052,2053,2054,2055,2056,2057,2058,2059,2060,2061,2062,2063,2064,2065,2066,2067,2068,2069,2070,2071,2072,2073,2074,2075,2076,2077,2078,2079,2080,2081,2082,2083,2084,2085,2086,2087,2088,2089,2090,2091,2092,2093,2094,2095,2096,2097,2098,2099,2100],\"y\":[3.0,4.0,4.0,7.0,8.0,8.0,4.0,3.0,3.0,1.0,6.0,2.0,1.0,5.0,4.0,4.0,6.0,6.0,6.0,3.0,7.0,2.0,3.0,3.0,6.0,9.0,6.0,3.0,4.0,3.0,4.0,8.0,4.0,6.0,7.0,5.0,4.0,4.0,6.0,8.0,6.0,8.0,4.0,5.0,6.0,6.0,3.0,4.0,4.0,8.0,6.0,10.0,8.0,3.0,6.0,7.0,5.0,6.0,9.0,6.0,7.0,7.0,9.0,4.0,6.0,7.0,7.0,6.0,4.0,8.0,6.0,5.0,5.0,6.0,5.0,4.0,3.0,7.0,4.0,9.0,7.0,8.0,6.0,8.0,5.0,7.0,5.0,7.0,6.0,9.0,7.0,6.0,8.0,10.0,5.0,7.0,4.0,6.0,4.0,5.0,6.0,10.0,9.0,9.0,7.0,9.0,6.0,9.0,6.0,5.0,6.0,5.0,6.0,6.0,8.0,8.0,5.0,6.0,9.0,9.0],\"type\":\"bar\"},{\"line\":{\"color\":\"blue\"},\"mode\":\"lines\",\"name\":\"RCP 4.5 trend\",\"x\":[1971,1972,1973,1974,1975,1976,1977,1978,1979,1980,1981,1982,1983,1984,1985,1986,1987,1988,1989,1990,1991,1992,1993,1994,1995,1996,1997,1998,1999,2000,2011,2012,2013,2014,2015,2016,2017,2018,2019,2020,2021,2022,2023,2024,2025,2026,2027,2028,2029,2030,2031,2032,2033,2034,2035,2036,2037,2038,2039,2040,2041,2042,2043,2044,2045,2046,2047,2048,2049,2050,2051,2052,2053,2054,2055,2056,2057,2058,2059,2060,2061,2062,2063,2064,2065,2066,2067,2068,2069,2070,2071,2072,2073,2074,2075,2076,2077,2078,2079,2080,2081,2082,2083,2084,2085,2086,2087,2088,2089,2090,2091,2092,2093,2094,2095,2096,2097,2098,2099,2100],\"y\":[4.317493112947662,4.338907794522771,4.36032247609788,4.3817371576729895,4.403151839248099,4.424566520823208,4.445981202398318,4.467395883973428,4.488810565548537,4.510225247123646,4.531639928698755,4.553054610273865,4.574469291848974,4.595883973424083,4.617298654999193,4.638713336574302,4.660128018149411,4.681542699724521,4.702957381299631,4.72437206287474,4.745786744449849,4.767201426024958,4.788616107600068,4.810030789175177,4.831445470750286,4.852860152325396,4.874274833900506,4.895689515475615,4.917104197050724,4.938518878625834,4.959933560200943,4.981348241776052,5.0027629233511615,5.024177604926271,5.04559228650138,5.067006968076489,5.088421649651599,5.109836331226708,5.131251012801817,5.152665694376927,5.174080375952037,5.195495057527146,5.216909739102255,5.2383244206773645,5.259739102252474,5.281153783827583,5.302568465402692,5.3239831469778025,5.345397828552912,5.366812510128021,5.38822719170313,5.40964187327824,5.431056554853349,5.452471236428458,5.4738859180035675,5.495300599578677,5.516715281153786,5.538129962728895,5.559544644304005,5.580959325879114,5.602374007454223,5.623788689029333,5.645203370604443,5.666618052179552,5.688032733754661,5.7094474153297705,5.73086209690488,5.752276778479989,5.773691460055099,5.7951061416302085,5.816520823205318,5.837935504780427,5.859350186355536,5.880764867930646,5.902179549505755,5.923594231080864,5.9450089126559735,5.966423594231083,5.987838275806192,6.009252957381301,6.030667638956411,6.05208232053152,6.07349700210663,6.094911683681739,6.116326365256849,6.137741046831958,6.159155728407067,6.1805704099821765,6.201985091557286,6.223399773132395,6.244814454707505,6.266229136282615,6.287643817857724,6.309058499432833,6.330473181007942,6.351887862583052,6.373302544158161,6.39471722573327,6.41613190730838,6.437546588883489,6.458961270458598,6.480375952033707,6.501790633608817,6.523205315183926,6.544619996759036,6.5660346783341454,6.587449359909255,6.608864041484364,6.630278723059473,6.651693404634583,6.673108086209693,6.694522767784802,6.715937449359911,6.737352130935021,6.75876681251013,6.780181494085239,6.8015961756603485,6.823010857235458,6.844425538810567,6.865840220385676],\"type\":\"scatter\"},{\"line\":{\"color\":\"red\"},\"mode\":\"lines\",\"name\":\"RCP 8.5 trend\",\"x\":[1971,1972,1973,1974,1975,1976,1977,1978,1979,1980,1981,1982,1983,1984,1985,1986,1987,1988,1989,1990,1991,1992,1993,1994,1995,1996,1997,1998,1999,2000,2011,2012,2013,2014,2015,2016,2017,2018,2019,2020,2021,2022,2023,2024,2025,2026,2027,2028,2029,2030,2031,2032,2033,2034,2035,2036,2037,2038,2039,2040,2041,2042,2043,2044,2045,2046,2047,2048,2049,2050,2051,2052,2053,2054,2055,2056,2057,2058,2059,2060,2061,2062,2063,2064,2065,2066,2067,2068,2069,2070,2071,2072,2073,2074,2075,2076,2077,2078,2079,2080,2081,2082,2083,2084,2085,2086,2087,2088,2089,2090,2091,2092,2093,2094,2095,2096,2097,2098,2099,2100],\"y\":[4.384573002754821,4.409342083941015,4.434111165127208,4.458880246313401,4.483649327499594,4.508418408685788,4.533187489871982,4.557956571058175,4.582725652244369,4.6074947334305625,4.632263814616755,4.657032895802949,4.681801976989142,4.706571058175336,4.73134013936153,4.756109220547723,4.7808783017339165,4.80564738292011,4.830416464106303,4.855185545292497,4.87995462647869,4.904723707664884,4.929492788851078,4.9542618700372705,4.979030951223464,5.003800032409657,5.028569113595851,5.053338194782045,5.078107275968238,5.1028763571544316,5.127645438340625,5.152414519526818,5.177183600713012,5.201952681899205,5.226721763085399,5.251490844271593,5.2762599254577855,5.301029006643979,5.325798087830172,5.350567169016366,5.37533625020256,5.400105331388753,5.424874412574947,5.44964349376114,5.474412574947333,5.499181656133527,5.523950737319721,5.548719818505914,5.573488899692107,5.598257980878301,5.623027062064494,5.647796143250687,5.672565224436881,5.697334305623075,5.722103386809268,5.746872467995462,5.7716415491816555,5.796410630367848,5.821179711554042,5.845948792740236,5.870717873926429,5.895486955112623,5.920256036298816,5.9450251174850095,5.969794198671202,5.994563279857396,6.01933236104359,6.044101442229783,6.068870523415977,6.093639604602171,6.1184086857883635,6.143177766974557,6.167946848160751,6.192715929346944,6.217485010533138,6.242254091719331,6.267023172905525,6.2917922540917175,6.316561335277911,6.341330416464105,6.366099497650298,6.390868578836492,6.415637660022686,6.440406741208879,6.465175822395072,6.489944903581266,6.514713984767459,6.539483065953652,6.564252147139847,6.58902122832604,6.613790309512233,6.638559390698426,6.66332847188462,6.688097553070813,6.712866634257007,6.737635715443201,6.762404796629394,6.7871738778155875,6.811942959001781,6.836712040187974,6.861481121374167,6.886250202560362,6.911019283746555,6.935788364932748,6.9605574461189414,6.985326527305135,7.010095608491328,7.034864689677522,7.059633770863716,7.084402852049909,7.1091719332361025,7.133941014422296,7.158710095608489,7.183479176794682,7.208248257980877,7.23301733916707,7.257786420353263,7.2825555015394565,7.30732458272565,7.332093663911843],\"type\":\"scatter\"}],                        {\"template\":{\"data\":{\"histogram2dcontour\":[{\"type\":\"histogram2dcontour\",\"colorbar\":{\"outlinewidth\":0,\"ticks\":\"\"},\"colorscale\":[[0.0,\"#0d0887\"],[0.1111111111111111,\"#46039f\"],[0.2222222222222222,\"#7201a8\"],[0.3333333333333333,\"#9c179e\"],[0.4444444444444444,\"#bd3786\"],[0.5555555555555556,\"#d8576b\"],[0.6666666666666666,\"#ed7953\"],[0.7777777777777778,\"#fb9f3a\"],[0.8888888888888888,\"#fdca26\"],[1.0,\"#f0f921\"]]}],\"choropleth\":[{\"type\":\"choropleth\",\"colorbar\":{\"outlinewidth\":0,\"ticks\":\"\"}}],\"histogram2d\":[{\"type\":\"histogram2d\",\"colorbar\":{\"outlinewidth\":0,\"ticks\":\"\"},\"colorscale\":[[0.0,\"#0d0887\"],[0.1111111111111111,\"#46039f\"],[0.2222222222222222,\"#7201a8\"],[0.3333333333333333,\"#9c179e\"],[0.4444444444444444,\"#bd3786\"],[0.5555555555555556,\"#d8576b\"],[0.6666666666666666,\"#ed7953\"],[0.7777777777777778,\"#fb9f3a\"],[0.8888888888888888,\"#fdca26\"],[1.0,\"#f0f921\"]]}],\"heatmap\":[{\"type\":\"heatmap\",\"colorbar\":{\"outlinewidth\":0,\"ticks\":\"\"},\"colorscale\":[[0.0,\"#0d0887\"],[0.1111111111111111,\"#46039f\"],[0.2222222222222222,\"#7201a8\"],[0.3333333333333333,\"#9c179e\"],[0.4444444444444444,\"#bd3786\"],[0.5555555555555556,\"#d8576b\"],[0.6666666666666666,\"#ed7953\"],[0.7777777777777778,\"#fb9f3a\"],[0.8888888888888888,\"#fdca26\"],[1.0,\"#f0f921\"]]}],\"heatmapgl\":[{\"type\":\"heatmapgl\",\"colorbar\":{\"outlinewidth\":0,\"ticks\":\"\"},\"colorscale\":[[0.0,\"#0d0887\"],[0.1111111111111111,\"#46039f\"],[0.2222222222222222,\"#7201a8\"],[0.3333333333333333,\"#9c179e\"],[0.4444444444444444,\"#bd3786\"],[0.5555555555555556,\"#d8576b\"],[0.6666666666666666,\"#ed7953\"],[0.7777777777777778,\"#fb9f3a\"],[0.8888888888888888,\"#fdca26\"],[1.0,\"#f0f921\"]]}],\"contourcarpet\":[{\"type\":\"contourcarpet\",\"colorbar\":{\"outlinewidth\":0,\"ticks\":\"\"}}],\"contour\":[{\"type\":\"contour\",\"colorbar\":{\"outlinewidth\":0,\"ticks\":\"\"},\"colorscale\":[[0.0,\"#0d0887\"],[0.1111111111111111,\"#46039f\"],[0.2222222222222222,\"#7201a8\"],[0.3333333333333333,\"#9c179e\"],[0.4444444444444444,\"#bd3786\"],[0.5555555555555556,\"#d8576b\"],[0.6666666666666666,\"#ed7953\"],[0.7777777777777778,\"#fb9f3a\"],[0.8888888888888888,\"#fdca26\"],[1.0,\"#f0f921\"]]}],\"surface\":[{\"type\":\"surface\",\"colorbar\":{\"outlinewidth\":0,\"ticks\":\"\"},\"colorscale\":[[0.0,\"#0d0887\"],[0.1111111111111111,\"#46039f\"],[0.2222222222222222,\"#7201a8\"],[0.3333333333333333,\"#9c179e\"],[0.4444444444444444,\"#bd3786\"],[0.5555555555555556,\"#d8576b\"],[0.6666666666666666,\"#ed7953\"],[0.7777777777777778,\"#fb9f3a\"],[0.8888888888888888,\"#fdca26\"],[1.0,\"#f0f921\"]]}],\"mesh3d\":[{\"type\":\"mesh3d\",\"colorbar\":{\"outlinewidth\":0,\"ticks\":\"\"}}],\"scatter\":[{\"fillpattern\":{\"fillmode\":\"overlay\",\"size\":10,\"solidity\":0.2},\"type\":\"scatter\"}],\"parcoords\":[{\"type\":\"parcoords\",\"line\":{\"colorbar\":{\"outlinewidth\":0,\"ticks\":\"\"}}}],\"scatterpolargl\":[{\"type\":\"scatterpolargl\",\"marker\":{\"colorbar\":{\"outlinewidth\":0,\"ticks\":\"\"}}}],\"bar\":[{\"error_x\":{\"color\":\"#2a3f5f\"},\"error_y\":{\"color\":\"#2a3f5f\"},\"marker\":{\"line\":{\"color\":\"#E5ECF6\",\"width\":0.5},\"pattern\":{\"fillmode\":\"overlay\",\"size\":10,\"solidity\":0.2}},\"type\":\"bar\"}],\"scattergeo\":[{\"type\":\"scattergeo\",\"marker\":{\"colorbar\":{\"outlinewidth\":0,\"ticks\":\"\"}}}],\"scatterpolar\":[{\"type\":\"scatterpolar\",\"marker\":{\"colorbar\":{\"outlinewidth\":0,\"ticks\":\"\"}}}],\"histogram\":[{\"marker\":{\"pattern\":{\"fillmode\":\"overlay\",\"size\":10,\"solidity\":0.2}},\"type\":\"histogram\"}],\"scattergl\":[{\"type\":\"scattergl\",\"marker\":{\"colorbar\":{\"outlinewidth\":0,\"ticks\":\"\"}}}],\"scatter3d\":[{\"type\":\"scatter3d\",\"line\":{\"colorbar\":{\"outlinewidth\":0,\"ticks\":\"\"}},\"marker\":{\"colorbar\":{\"outlinewidth\":0,\"ticks\":\"\"}}}],\"scattermapbox\":[{\"type\":\"scattermapbox\",\"marker\":{\"colorbar\":{\"outlinewidth\":0,\"ticks\":\"\"}}}],\"scatterternary\":[{\"type\":\"scatterternary\",\"marker\":{\"colorbar\":{\"outlinewidth\":0,\"ticks\":\"\"}}}],\"scattercarpet\":[{\"type\":\"scattercarpet\",\"marker\":{\"colorbar\":{\"outlinewidth\":0,\"ticks\":\"\"}}}],\"carpet\":[{\"aaxis\":{\"endlinecolor\":\"#2a3f5f\",\"gridcolor\":\"white\",\"linecolor\":\"white\",\"minorgridcolor\":\"white\",\"startlinecolor\":\"#2a3f5f\"},\"baxis\":{\"endlinecolor\":\"#2a3f5f\",\"gridcolor\":\"white\",\"linecolor\":\"white\",\"minorgridcolor\":\"white\",\"startlinecolor\":\"#2a3f5f\"},\"type\":\"carpet\"}],\"table\":[{\"cells\":{\"fill\":{\"color\":\"#EBF0F8\"},\"line\":{\"color\":\"white\"}},\"header\":{\"fill\":{\"color\":\"#C8D4E3\"},\"line\":{\"color\":\"white\"}},\"type\":\"table\"}],\"barpolar\":[{\"marker\":{\"line\":{\"color\":\"#E5ECF6\",\"width\":0.5},\"pattern\":{\"fillmode\":\"overlay\",\"size\":10,\"solidity\":0.2}},\"type\":\"barpolar\"}],\"pie\":[{\"automargin\":true,\"type\":\"pie\"}]},\"layout\":{\"autotypenumbers\":\"strict\",\"colorway\":[\"#636efa\",\"#EF553B\",\"#00cc96\",\"#ab63fa\",\"#FFA15A\",\"#19d3f3\",\"#FF6692\",\"#B6E880\",\"#FF97FF\",\"#FECB52\"],\"font\":{\"color\":\"#2a3f5f\"},\"hovermode\":\"closest\",\"hoverlabel\":{\"align\":\"left\"},\"paper_bgcolor\":\"white\",\"plot_bgcolor\":\"#E5ECF6\",\"polar\":{\"bgcolor\":\"#E5ECF6\",\"angularaxis\":{\"gridcolor\":\"white\",\"linecolor\":\"white\",\"ticks\":\"\"},\"radialaxis\":{\"gridcolor\":\"white\",\"linecolor\":\"white\",\"ticks\":\"\"}},\"ternary\":{\"bgcolor\":\"#E5ECF6\",\"aaxis\":{\"gridcolor\":\"white\",\"linecolor\":\"white\",\"ticks\":\"\"},\"baxis\":{\"gridcolor\":\"white\",\"linecolor\":\"white\",\"ticks\":\"\"},\"caxis\":{\"gridcolor\":\"white\",\"linecolor\":\"white\",\"ticks\":\"\"}},\"coloraxis\":{\"colorbar\":{\"outlinewidth\":0,\"ticks\":\"\"}},\"colorscale\":{\"sequential\":[[0.0,\"#0d0887\"],[0.1111111111111111,\"#46039f\"],[0.2222222222222222,\"#7201a8\"],[0.3333333333333333,\"#9c179e\"],[0.4444444444444444,\"#bd3786\"],[0.5555555555555556,\"#d8576b\"],[0.6666666666666666,\"#ed7953\"],[0.7777777777777778,\"#fb9f3a\"],[0.8888888888888888,\"#fdca26\"],[1.0,\"#f0f921\"]],\"sequentialminus\":[[0.0,\"#0d0887\"],[0.1111111111111111,\"#46039f\"],[0.2222222222222222,\"#7201a8\"],[0.3333333333333333,\"#9c179e\"],[0.4444444444444444,\"#bd3786\"],[0.5555555555555556,\"#d8576b\"],[0.6666666666666666,\"#ed7953\"],[0.7777777777777778,\"#fb9f3a\"],[0.8888888888888888,\"#fdca26\"],[1.0,\"#f0f921\"]],\"diverging\":[[0,\"#8e0152\"],[0.1,\"#c51b7d\"],[0.2,\"#de77ae\"],[0.3,\"#f1b6da\"],[0.4,\"#fde0ef\"],[0.5,\"#f7f7f7\"],[0.6,\"#e6f5d0\"],[0.7,\"#b8e186\"],[0.8,\"#7fbc41\"],[0.9,\"#4d9221\"],[1,\"#276419\"]]},\"xaxis\":{\"gridcolor\":\"white\",\"linecolor\":\"white\",\"ticks\":\"\",\"title\":{\"standoff\":15},\"zerolinecolor\":\"white\",\"automargin\":true,\"zerolinewidth\":2},\"yaxis\":{\"gridcolor\":\"white\",\"linecolor\":\"white\",\"ticks\":\"\",\"title\":{\"standoff\":15},\"zerolinecolor\":\"white\",\"automargin\":true,\"zerolinewidth\":2},\"scene\":{\"xaxis\":{\"backgroundcolor\":\"#E5ECF6\",\"gridcolor\":\"white\",\"linecolor\":\"white\",\"showbackground\":true,\"ticks\":\"\",\"zerolinecolor\":\"white\",\"gridwidth\":2},\"yaxis\":{\"backgroundcolor\":\"#E5ECF6\",\"gridcolor\":\"white\",\"linecolor\":\"white\",\"showbackground\":true,\"ticks\":\"\",\"zerolinecolor\":\"white\",\"gridwidth\":2},\"zaxis\":{\"backgroundcolor\":\"#E5ECF6\",\"gridcolor\":\"white\",\"linecolor\":\"white\",\"showbackground\":true,\"ticks\":\"\",\"zerolinecolor\":\"white\",\"gridwidth\":2}},\"shapedefaults\":{\"line\":{\"color\":\"#2a3f5f\"}},\"annotationdefaults\":{\"arrowcolor\":\"#2a3f5f\",\"arrowhead\":0,\"arrowwidth\":1},\"geo\":{\"bgcolor\":\"white\",\"landcolor\":\"#E5ECF6\",\"subunitcolor\":\"white\",\"showland\":true,\"showlakes\":true,\"lakecolor\":\"white\"},\"title\":{\"x\":0.05},\"mapbox\":{\"style\":\"light\"}}},\"legend\":{\"x\":0,\"y\":1,\"traceorder\":\"normal\",\"orientation\":\"h\"},\"title\":{\"text\":\"Heat wave occurence in Selected pixel by year for period 1971-2000 and 2011-2100 rcp4.5 and 8.5\"},\"xaxis\":{\"title\":{\"text\":\"Year\"}},\"yaxis\":{\"title\":{\"text\":\"Number of Heat-waves\"}},\"width\":1100,\"height\":500},                        {\"responsive\": true}                    ).then(function(){\n",
       "                            \n",
       "var gd = document.getElementById('15226ac7-52fb-42e5-8cd1-19f786fd9a47');\n",
       "var x = new MutationObserver(function (mutations, observer) {{\n",
       "        var display = window.getComputedStyle(gd).display;\n",
       "        if (!display || display === 'none') {{\n",
       "            console.log([gd, 'removed!']);\n",
       "            Plotly.purge(gd);\n",
       "            observer.disconnect();\n",
       "        }}\n",
       "}});\n",
       "\n",
       "// Listen for the removal of the full notebook cells\n",
       "var notebookContainer = gd.closest('#notebook-container');\n",
       "if (notebookContainer) {{\n",
       "    x.observe(notebookContainer, {childList: true});\n",
       "}}\n",
       "\n",
       "// Listen for the clearing of the current output cell\n",
       "var outputEl = gd.closest('.output');\n",
       "if (outputEl) {{\n",
       "    x.observe(outputEl, {childList: true});\n",
       "}}\n",
       "\n",
       "                        })                };                });            </script>        </div>"
      ]
     },
     "metadata": {},
     "output_type": "display_data"
    }
   ],
   "source": [
    "# This code plots the data with Heat-wave frequency for the selected pixel \n",
    "# Sample data\n",
    "b = pixel_values_hwfh + pixel_values_hwf45\n",
    "t = pixel_values_hwfh + pixel_values_hwf85 \n",
    "# Calculate trend lines for b and t\n",
    "b_trend = np.polyfit(np.arange(len(b)), b, 1)\n",
    "t_trend = np.polyfit(np.arange(len(t)), t, 1)\n",
    "# Define years\n",
    "yearh = list(range(1971, 2001))\n",
    "yearp1 = list(range(2011, 2101))\n",
    "year = yearh + yearp1\n",
    "# Create figure\n",
    "fig = go.Figure()\n",
    "# Add bar trace for 'b'\n",
    "fig.add_trace(go.Bar(x=year, y=b, name='HWI RCP 4.5', marker_color='blue'))\n",
    "# Add bar trace for 't'\n",
    "fig.add_trace(go.Bar(x=year, y=t, name='HWI RCP 8.5', opacity=0.5, marker_color='red'))\n",
    "# Add trend line trace for 'b'\n",
    "fig.add_trace(go.Scatter(x=year, y=np.polyval(b_trend, np.arange(len(b))), mode='lines', name='RCP 4.5 trend', line=dict(color='blue')))\n",
    "# Add trend line trace for 't'\n",
    "fig.add_trace(go.Scatter(x=year, y=np.polyval(t_trend, np.arange(len(t))), mode='lines', name='RCP 8.5 trend', line=dict(color='red')))\n",
    "# Update layout\n",
    "fig.update_layout(\n",
    "    title='Heat wave occurence in Selected pixel by year for period 1971-2000 and 2011-2100 rcp4.5 and 8.5',\n",
    "    xaxis_title='Year',\n",
    "    yaxis_title='Number of Heat-waves',\n",
    "    legend=dict(x=0, y=1, traceorder='normal', orientation='h'),\n",
    "    width=1100,\n",
    "    height=500)"
   ]
  },
  {
   "cell_type": "markdown",
   "id": "935a52f3-25f5-4389-a170-4c9b0c5ef005",
   "metadata": {},
   "source": [
    "### Plots the Heat-wave total length\n",
    "Total length of heat waves over a given period. A heat wave is defined as an event where the minimum and maximum daily temperature both exceeds specific thresholds over a minimum number of days. This the sum of all days in such events."
   ]
  },
  {
   "cell_type": "code",
   "execution_count": 22,
   "id": "23af0f2e-fe1c-4001-9f33-30edfe41432e",
   "metadata": {},
   "outputs": [
    {
     "data": {
      "application/vnd.plotly.v1+json": {
       "config": {
        "plotlyServerURL": "https://plot.ly"
       },
       "data": [
        {
         "marker": {
          "color": "blue"
         },
         "name": "HWI RCP 4.5",
         "type": "bar",
         "x": [
          1971,
          1972,
          1973,
          1974,
          1975,
          1976,
          1977,
          1978,
          1979,
          1980,
          1981,
          1982,
          1983,
          1984,
          1985,
          1986,
          1987,
          1988,
          1989,
          1990,
          1991,
          1992,
          1993,
          1994,
          1995,
          1996,
          1997,
          1998,
          1999,
          2000,
          2011,
          2012,
          2013,
          2014,
          2015,
          2016,
          2017,
          2018,
          2019,
          2020,
          2021,
          2022,
          2023,
          2024,
          2025,
          2026,
          2027,
          2028,
          2029,
          2030,
          2031,
          2032,
          2033,
          2034,
          2035,
          2036,
          2037,
          2038,
          2039,
          2040,
          2041,
          2042,
          2043,
          2044,
          2045,
          2046,
          2047,
          2048,
          2049,
          2050,
          2051,
          2052,
          2053,
          2054,
          2055,
          2056,
          2057,
          2058,
          2059,
          2060,
          2061,
          2062,
          2063,
          2064,
          2065,
          2066,
          2067,
          2068,
          2069,
          2070,
          2071,
          2072,
          2073,
          2074,
          2075,
          2076,
          2077,
          2078,
          2079,
          2080,
          2081,
          2082,
          2083,
          2084,
          2085,
          2086,
          2087,
          2088,
          2089,
          2090,
          2091,
          2092,
          2093,
          2094,
          2095,
          2096,
          2097,
          2098,
          2099,
          2100
         ],
         "y": [
          20,
          27,
          32,
          35,
          54,
          33,
          20,
          27,
          10,
          3,
          22,
          6,
          14,
          28,
          14,
          19,
          34,
          32,
          33,
          42,
          40,
          10,
          30,
          12,
          49,
          40,
          42,
          13,
          28,
          13,
          41,
          16,
          35,
          19,
          53,
          27,
          26,
          24,
          71,
          29,
          47,
          36,
          19,
          5,
          24,
          45,
          41,
          26,
          64,
          50,
          19,
          49,
          28,
          30,
          41,
          47,
          35,
          28,
          76,
          69,
          64,
          30,
          57,
          60,
          34,
          21,
          52,
          64,
          29,
          38,
          38,
          61,
          48,
          41,
          63,
          49,
          41,
          39,
          42,
          56,
          42,
          61,
          70,
          64,
          55,
          50,
          63,
          43,
          32,
          39,
          58,
          50,
          39,
          42,
          47,
          40,
          40,
          25,
          56,
          27,
          45,
          41,
          58,
          64,
          41,
          45,
          80,
          45,
          46,
          44,
          39,
          63,
          62,
          61,
          61,
          61,
          48,
          66,
          64,
          73
         ]
        },
        {
         "marker": {
          "color": "red"
         },
         "name": "HWI RCP 8.5",
         "opacity": 0.5,
         "type": "bar",
         "x": [
          1971,
          1972,
          1973,
          1974,
          1975,
          1976,
          1977,
          1978,
          1979,
          1980,
          1981,
          1982,
          1983,
          1984,
          1985,
          1986,
          1987,
          1988,
          1989,
          1990,
          1991,
          1992,
          1993,
          1994,
          1995,
          1996,
          1997,
          1998,
          1999,
          2000,
          2011,
          2012,
          2013,
          2014,
          2015,
          2016,
          2017,
          2018,
          2019,
          2020,
          2021,
          2022,
          2023,
          2024,
          2025,
          2026,
          2027,
          2028,
          2029,
          2030,
          2031,
          2032,
          2033,
          2034,
          2035,
          2036,
          2037,
          2038,
          2039,
          2040,
          2041,
          2042,
          2043,
          2044,
          2045,
          2046,
          2047,
          2048,
          2049,
          2050,
          2051,
          2052,
          2053,
          2054,
          2055,
          2056,
          2057,
          2058,
          2059,
          2060,
          2061,
          2062,
          2063,
          2064,
          2065,
          2066,
          2067,
          2068,
          2069,
          2070,
          2071,
          2072,
          2073,
          2074,
          2075,
          2076,
          2077,
          2078,
          2079,
          2080,
          2081,
          2082,
          2083,
          2084,
          2085,
          2086,
          2087,
          2088,
          2089,
          2090,
          2091,
          2092,
          2093,
          2094,
          2095,
          2096,
          2097,
          2098,
          2099,
          2100
         ],
         "y": [
          20,
          27,
          32,
          35,
          54,
          33,
          20,
          27,
          10,
          3,
          22,
          6,
          14,
          28,
          14,
          19,
          34,
          32,
          33,
          42,
          40,
          10,
          30,
          12,
          49,
          40,
          42,
          13,
          28,
          13,
          33,
          52,
          16,
          61,
          39,
          36,
          22,
          18,
          37,
          34,
          36,
          45,
          22,
          36,
          64,
          42,
          44,
          35,
          37,
          38,
          35,
          55,
          64,
          21,
          45,
          56,
          35,
          53,
          54,
          42,
          23,
          32,
          53,
          39,
          23,
          49,
          37,
          42,
          31,
          50,
          64,
          25,
          70,
          71,
          42,
          43,
          44,
          53,
          39,
          61,
          47,
          63,
          60,
          60,
          97,
          62,
          48,
          61,
          63,
          70,
          46,
          50,
          65,
          62,
          68,
          50,
          63,
          63,
          73,
          75,
          60,
          67,
          78,
          63,
          59,
          68,
          78,
          67,
          75,
          88,
          84,
          72,
          84,
          81,
          56,
          75,
          85,
          84,
          82,
          93
         ]
        },
        {
         "line": {
          "color": "blue"
         },
         "mode": "lines",
         "name": "RCP 4.5 trend",
         "type": "scatter",
         "x": [
          1971,
          1972,
          1973,
          1974,
          1975,
          1976,
          1977,
          1978,
          1979,
          1980,
          1981,
          1982,
          1983,
          1984,
          1985,
          1986,
          1987,
          1988,
          1989,
          1990,
          1991,
          1992,
          1993,
          1994,
          1995,
          1996,
          1997,
          1998,
          1999,
          2000,
          2011,
          2012,
          2013,
          2014,
          2015,
          2016,
          2017,
          2018,
          2019,
          2020,
          2021,
          2022,
          2023,
          2024,
          2025,
          2026,
          2027,
          2028,
          2029,
          2030,
          2031,
          2032,
          2033,
          2034,
          2035,
          2036,
          2037,
          2038,
          2039,
          2040,
          2041,
          2042,
          2043,
          2044,
          2045,
          2046,
          2047,
          2048,
          2049,
          2050,
          2051,
          2052,
          2053,
          2054,
          2055,
          2056,
          2057,
          2058,
          2059,
          2060,
          2061,
          2062,
          2063,
          2064,
          2065,
          2066,
          2067,
          2068,
          2069,
          2070,
          2071,
          2072,
          2073,
          2074,
          2075,
          2076,
          2077,
          2078,
          2079,
          2080,
          2081,
          2082,
          2083,
          2084,
          2085,
          2086,
          2087,
          2088,
          2089,
          2090,
          2091,
          2092,
          2093,
          2094,
          2095,
          2096,
          2097,
          2098,
          2099,
          2100
         ],
         "y": [
          23.176308539944916,
          23.47012408269094,
          23.763939625436965,
          24.05775516818299,
          24.351570710929014,
          24.645386253675035,
          24.93920179642106,
          25.233017339167084,
          25.52683288191311,
          25.820648424659133,
          26.114463967405158,
          26.408279510151182,
          26.702095052897207,
          26.99591059564323,
          27.289726138389256,
          27.583541681135276,
          27.8773572238813,
          28.171172766627326,
          28.46498830937335,
          28.758803852119375,
          29.0526193948654,
          29.346434937611424,
          29.640250480357444,
          29.93406602310347,
          30.227881565849493,
          30.521697108595518,
          30.815512651341542,
          31.109328194087567,
          31.40314373683359,
          31.696959279579616,
          31.99077482232564,
          32.284590365071665,
          32.57840590781769,
          32.872221450563714,
          33.16603699330974,
          33.45985253605576,
          33.75366807880178,
          34.04748362154781,
          34.34129916429383,
          34.635114707039854,
          34.92893024978588,
          35.2227457925319,
          35.51656133527793,
          35.81037687802395,
          36.10419242076998,
          36.398007963516,
          36.691823506262025,
          36.98563904900805,
          37.279454591754074,
          37.5732701345001,
          37.86708567724612,
          38.16090121999215,
          38.45471676273817,
          38.74853230548419,
          39.04234784823022,
          39.33616339097624,
          39.62997893372227,
          39.92379447646829,
          40.21761001921432,
          40.51142556196034,
          40.80524110470636,
          41.099056647452386,
          41.39287219019841,
          41.686687732944435,
          41.98050327569046,
          42.274318818436484,
          42.56813436118251,
          42.86194990392853,
          43.15576544667456,
          43.44958098942058,
          43.7433965321666,
          44.03721207491263,
          44.33102761765865,
          44.62484316040468,
          44.9186587031507,
          45.21247424589673,
          45.506289788642746,
          45.80010533138878,
          46.093920874134795,
          46.38773641688082,
          46.681551959626844,
          46.97536750237287,
          47.26918304511889,
          47.56299858786492,
          47.85681413061094,
          48.15062967335697,
          48.44444521610299,
          48.73826075884901,
          49.03207630159504,
          49.32589184434106,
          49.61970738708709,
          49.91352292983311,
          50.20733847257914,
          50.501154015325156,
          50.79496955807119,
          51.088785100817205,
          51.38260064356324,
          51.676416186309254,
          51.97023172905528,
          52.2640472718013,
          52.55786281454733,
          52.85167835729335,
          53.14549390003938,
          53.4393094427854,
          53.733124985531425,
          54.02694052827745,
          54.32075607102347,
          54.6145716137695,
          54.908387156515516,
          55.20220269926155,
          55.496018242007565,
          55.7898337847536,
          56.083649327499614,
          56.377464870245646,
          56.67128041299166,
          56.965095955737695,
          57.25891149848371,
          57.552727041229744,
          57.84654258397576,
          58.14035812672178
         ]
        },
        {
         "line": {
          "color": "red"
         },
         "mode": "lines",
         "name": "RCP 8.5 trend",
         "type": "scatter",
         "x": [
          1971,
          1972,
          1973,
          1974,
          1975,
          1976,
          1977,
          1978,
          1979,
          1980,
          1981,
          1982,
          1983,
          1984,
          1985,
          1986,
          1987,
          1988,
          1989,
          1990,
          1991,
          1992,
          1993,
          1994,
          1995,
          1996,
          1997,
          1998,
          1999,
          2000,
          2011,
          2012,
          2013,
          2014,
          2015,
          2016,
          2017,
          2018,
          2019,
          2020,
          2021,
          2022,
          2023,
          2024,
          2025,
          2026,
          2027,
          2028,
          2029,
          2030,
          2031,
          2032,
          2033,
          2034,
          2035,
          2036,
          2037,
          2038,
          2039,
          2040,
          2041,
          2042,
          2043,
          2044,
          2045,
          2046,
          2047,
          2048,
          2049,
          2050,
          2051,
          2052,
          2053,
          2054,
          2055,
          2056,
          2057,
          2058,
          2059,
          2060,
          2061,
          2062,
          2063,
          2064,
          2065,
          2066,
          2067,
          2068,
          2069,
          2070,
          2071,
          2072,
          2073,
          2074,
          2075,
          2076,
          2077,
          2078,
          2079,
          2080,
          2081,
          2082,
          2083,
          2084,
          2085,
          2086,
          2087,
          2088,
          2089,
          2090,
          2091,
          2092,
          2093,
          2094,
          2095,
          2096,
          2097,
          2098,
          2099,
          2100
         ],
         "y": [
          17.62727272727274,
          18.118831168831182,
          18.61038961038962,
          19.101948051948064,
          19.593506493506506,
          20.08506493506495,
          20.576623376623388,
          21.06818181818183,
          21.559740259740273,
          22.051298701298713,
          22.542857142857155,
          23.034415584415598,
          23.525974025974037,
          24.01753246753248,
          24.509090909090922,
          25.00064935064936,
          25.492207792207804,
          25.983766233766247,
          26.475324675324686,
          26.966883116883132,
          27.45844155844157,
          27.950000000000014,
          28.441558441558456,
          28.933116883116895,
          29.424675324675338,
          29.91623376623378,
          30.40779220779222,
          30.899350649350662,
          31.390909090909105,
          31.882467532467544,
          32.37402597402598,
          32.86558441558443,
          33.35714285714287,
          33.848701298701314,
          34.340259740259754,
          34.83181818181819,
          35.32337662337663,
          35.81493506493508,
          36.306493506493524,
          36.79805194805196,
          37.2896103896104,
          37.78116883116884,
          38.27272727272729,
          38.76428571428573,
          39.25584415584417,
          39.74740259740261,
          40.23896103896105,
          40.73051948051949,
          41.222077922077936,
          41.713636363636375,
          42.20519480519482,
          42.69675324675326,
          43.1883116883117,
          43.67987012987014,
          44.171428571428585,
          44.66298701298703,
          45.15454545454547,
          45.64610389610391,
          46.13766233766235,
          46.62922077922079,
          47.120779220779234,
          47.61233766233768,
          48.10389610389612,
          48.59545454545456,
          49.087012987013,
          49.57857142857144,
          50.07012987012988,
          50.56168831168833,
          51.05324675324677,
          51.54480519480521,
          52.03636363636365,
          52.52792207792209,
          53.01948051948053,
          53.51103896103898,
          54.00259740259742,
          54.494155844155856,
          54.9857142857143,
          55.47727272727274,
          55.96883116883118,
          56.460389610389626,
          56.951948051948065,
          57.443506493506504,
          57.93506493506495,
          58.42662337662339,
          58.918181818181836,
          59.409740259740275,
          59.901298701298714,
          60.39285714285716,
          60.8844155844156,
          61.37597402597404,
          61.867532467532484,
          62.359090909090924,
          62.85064935064936,
          63.34220779220781,
          63.83376623376625,
          64.32532467532468,
          64.81688311688313,
          65.30844155844157,
          65.80000000000001,
          66.29155844155846,
          66.78311688311689,
          67.27467532467534,
          67.76623376623378,
          68.25779220779222,
          68.74935064935067,
          69.2409090909091,
          69.73246753246755,
          70.22402597402599,
          70.71558441558443,
          71.20714285714287,
          71.69870129870131,
          72.19025974025976,
          72.68181818181819,
          73.17337662337664,
          73.66493506493508,
          74.15649350649352,
          74.64805194805197,
          75.1396103896104,
          75.63116883116885,
          76.12272727272729
         ]
        }
       ],
       "layout": {
        "height": 500,
        "legend": {
         "orientation": "h",
         "traceorder": "normal",
         "x": 0,
         "y": 1
        },
        "template": {
         "data": {
          "bar": [
           {
            "error_x": {
             "color": "#2a3f5f"
            },
            "error_y": {
             "color": "#2a3f5f"
            },
            "marker": {
             "line": {
              "color": "#E5ECF6",
              "width": 0.5
             },
             "pattern": {
              "fillmode": "overlay",
              "size": 10,
              "solidity": 0.2
             }
            },
            "type": "bar"
           }
          ],
          "barpolar": [
           {
            "marker": {
             "line": {
              "color": "#E5ECF6",
              "width": 0.5
             },
             "pattern": {
              "fillmode": "overlay",
              "size": 10,
              "solidity": 0.2
             }
            },
            "type": "barpolar"
           }
          ],
          "carpet": [
           {
            "aaxis": {
             "endlinecolor": "#2a3f5f",
             "gridcolor": "white",
             "linecolor": "white",
             "minorgridcolor": "white",
             "startlinecolor": "#2a3f5f"
            },
            "baxis": {
             "endlinecolor": "#2a3f5f",
             "gridcolor": "white",
             "linecolor": "white",
             "minorgridcolor": "white",
             "startlinecolor": "#2a3f5f"
            },
            "type": "carpet"
           }
          ],
          "choropleth": [
           {
            "colorbar": {
             "outlinewidth": 0,
             "ticks": ""
            },
            "type": "choropleth"
           }
          ],
          "contour": [
           {
            "colorbar": {
             "outlinewidth": 0,
             "ticks": ""
            },
            "colorscale": [
             [
              0,
              "#0d0887"
             ],
             [
              0.1111111111111111,
              "#46039f"
             ],
             [
              0.2222222222222222,
              "#7201a8"
             ],
             [
              0.3333333333333333,
              "#9c179e"
             ],
             [
              0.4444444444444444,
              "#bd3786"
             ],
             [
              0.5555555555555556,
              "#d8576b"
             ],
             [
              0.6666666666666666,
              "#ed7953"
             ],
             [
              0.7777777777777778,
              "#fb9f3a"
             ],
             [
              0.8888888888888888,
              "#fdca26"
             ],
             [
              1,
              "#f0f921"
             ]
            ],
            "type": "contour"
           }
          ],
          "contourcarpet": [
           {
            "colorbar": {
             "outlinewidth": 0,
             "ticks": ""
            },
            "type": "contourcarpet"
           }
          ],
          "heatmap": [
           {
            "colorbar": {
             "outlinewidth": 0,
             "ticks": ""
            },
            "colorscale": [
             [
              0,
              "#0d0887"
             ],
             [
              0.1111111111111111,
              "#46039f"
             ],
             [
              0.2222222222222222,
              "#7201a8"
             ],
             [
              0.3333333333333333,
              "#9c179e"
             ],
             [
              0.4444444444444444,
              "#bd3786"
             ],
             [
              0.5555555555555556,
              "#d8576b"
             ],
             [
              0.6666666666666666,
              "#ed7953"
             ],
             [
              0.7777777777777778,
              "#fb9f3a"
             ],
             [
              0.8888888888888888,
              "#fdca26"
             ],
             [
              1,
              "#f0f921"
             ]
            ],
            "type": "heatmap"
           }
          ],
          "heatmapgl": [
           {
            "colorbar": {
             "outlinewidth": 0,
             "ticks": ""
            },
            "colorscale": [
             [
              0,
              "#0d0887"
             ],
             [
              0.1111111111111111,
              "#46039f"
             ],
             [
              0.2222222222222222,
              "#7201a8"
             ],
             [
              0.3333333333333333,
              "#9c179e"
             ],
             [
              0.4444444444444444,
              "#bd3786"
             ],
             [
              0.5555555555555556,
              "#d8576b"
             ],
             [
              0.6666666666666666,
              "#ed7953"
             ],
             [
              0.7777777777777778,
              "#fb9f3a"
             ],
             [
              0.8888888888888888,
              "#fdca26"
             ],
             [
              1,
              "#f0f921"
             ]
            ],
            "type": "heatmapgl"
           }
          ],
          "histogram": [
           {
            "marker": {
             "pattern": {
              "fillmode": "overlay",
              "size": 10,
              "solidity": 0.2
             }
            },
            "type": "histogram"
           }
          ],
          "histogram2d": [
           {
            "colorbar": {
             "outlinewidth": 0,
             "ticks": ""
            },
            "colorscale": [
             [
              0,
              "#0d0887"
             ],
             [
              0.1111111111111111,
              "#46039f"
             ],
             [
              0.2222222222222222,
              "#7201a8"
             ],
             [
              0.3333333333333333,
              "#9c179e"
             ],
             [
              0.4444444444444444,
              "#bd3786"
             ],
             [
              0.5555555555555556,
              "#d8576b"
             ],
             [
              0.6666666666666666,
              "#ed7953"
             ],
             [
              0.7777777777777778,
              "#fb9f3a"
             ],
             [
              0.8888888888888888,
              "#fdca26"
             ],
             [
              1,
              "#f0f921"
             ]
            ],
            "type": "histogram2d"
           }
          ],
          "histogram2dcontour": [
           {
            "colorbar": {
             "outlinewidth": 0,
             "ticks": ""
            },
            "colorscale": [
             [
              0,
              "#0d0887"
             ],
             [
              0.1111111111111111,
              "#46039f"
             ],
             [
              0.2222222222222222,
              "#7201a8"
             ],
             [
              0.3333333333333333,
              "#9c179e"
             ],
             [
              0.4444444444444444,
              "#bd3786"
             ],
             [
              0.5555555555555556,
              "#d8576b"
             ],
             [
              0.6666666666666666,
              "#ed7953"
             ],
             [
              0.7777777777777778,
              "#fb9f3a"
             ],
             [
              0.8888888888888888,
              "#fdca26"
             ],
             [
              1,
              "#f0f921"
             ]
            ],
            "type": "histogram2dcontour"
           }
          ],
          "mesh3d": [
           {
            "colorbar": {
             "outlinewidth": 0,
             "ticks": ""
            },
            "type": "mesh3d"
           }
          ],
          "parcoords": [
           {
            "line": {
             "colorbar": {
              "outlinewidth": 0,
              "ticks": ""
             }
            },
            "type": "parcoords"
           }
          ],
          "pie": [
           {
            "automargin": true,
            "type": "pie"
           }
          ],
          "scatter": [
           {
            "fillpattern": {
             "fillmode": "overlay",
             "size": 10,
             "solidity": 0.2
            },
            "type": "scatter"
           }
          ],
          "scatter3d": [
           {
            "line": {
             "colorbar": {
              "outlinewidth": 0,
              "ticks": ""
             }
            },
            "marker": {
             "colorbar": {
              "outlinewidth": 0,
              "ticks": ""
             }
            },
            "type": "scatter3d"
           }
          ],
          "scattercarpet": [
           {
            "marker": {
             "colorbar": {
              "outlinewidth": 0,
              "ticks": ""
             }
            },
            "type": "scattercarpet"
           }
          ],
          "scattergeo": [
           {
            "marker": {
             "colorbar": {
              "outlinewidth": 0,
              "ticks": ""
             }
            },
            "type": "scattergeo"
           }
          ],
          "scattergl": [
           {
            "marker": {
             "colorbar": {
              "outlinewidth": 0,
              "ticks": ""
             }
            },
            "type": "scattergl"
           }
          ],
          "scattermapbox": [
           {
            "marker": {
             "colorbar": {
              "outlinewidth": 0,
              "ticks": ""
             }
            },
            "type": "scattermapbox"
           }
          ],
          "scatterpolar": [
           {
            "marker": {
             "colorbar": {
              "outlinewidth": 0,
              "ticks": ""
             }
            },
            "type": "scatterpolar"
           }
          ],
          "scatterpolargl": [
           {
            "marker": {
             "colorbar": {
              "outlinewidth": 0,
              "ticks": ""
             }
            },
            "type": "scatterpolargl"
           }
          ],
          "scatterternary": [
           {
            "marker": {
             "colorbar": {
              "outlinewidth": 0,
              "ticks": ""
             }
            },
            "type": "scatterternary"
           }
          ],
          "surface": [
           {
            "colorbar": {
             "outlinewidth": 0,
             "ticks": ""
            },
            "colorscale": [
             [
              0,
              "#0d0887"
             ],
             [
              0.1111111111111111,
              "#46039f"
             ],
             [
              0.2222222222222222,
              "#7201a8"
             ],
             [
              0.3333333333333333,
              "#9c179e"
             ],
             [
              0.4444444444444444,
              "#bd3786"
             ],
             [
              0.5555555555555556,
              "#d8576b"
             ],
             [
              0.6666666666666666,
              "#ed7953"
             ],
             [
              0.7777777777777778,
              "#fb9f3a"
             ],
             [
              0.8888888888888888,
              "#fdca26"
             ],
             [
              1,
              "#f0f921"
             ]
            ],
            "type": "surface"
           }
          ],
          "table": [
           {
            "cells": {
             "fill": {
              "color": "#EBF0F8"
             },
             "line": {
              "color": "white"
             }
            },
            "header": {
             "fill": {
              "color": "#C8D4E3"
             },
             "line": {
              "color": "white"
             }
            },
            "type": "table"
           }
          ]
         },
         "layout": {
          "annotationdefaults": {
           "arrowcolor": "#2a3f5f",
           "arrowhead": 0,
           "arrowwidth": 1
          },
          "autotypenumbers": "strict",
          "coloraxis": {
           "colorbar": {
            "outlinewidth": 0,
            "ticks": ""
           }
          },
          "colorscale": {
           "diverging": [
            [
             0,
             "#8e0152"
            ],
            [
             0.1,
             "#c51b7d"
            ],
            [
             0.2,
             "#de77ae"
            ],
            [
             0.3,
             "#f1b6da"
            ],
            [
             0.4,
             "#fde0ef"
            ],
            [
             0.5,
             "#f7f7f7"
            ],
            [
             0.6,
             "#e6f5d0"
            ],
            [
             0.7,
             "#b8e186"
            ],
            [
             0.8,
             "#7fbc41"
            ],
            [
             0.9,
             "#4d9221"
            ],
            [
             1,
             "#276419"
            ]
           ],
           "sequential": [
            [
             0,
             "#0d0887"
            ],
            [
             0.1111111111111111,
             "#46039f"
            ],
            [
             0.2222222222222222,
             "#7201a8"
            ],
            [
             0.3333333333333333,
             "#9c179e"
            ],
            [
             0.4444444444444444,
             "#bd3786"
            ],
            [
             0.5555555555555556,
             "#d8576b"
            ],
            [
             0.6666666666666666,
             "#ed7953"
            ],
            [
             0.7777777777777778,
             "#fb9f3a"
            ],
            [
             0.8888888888888888,
             "#fdca26"
            ],
            [
             1,
             "#f0f921"
            ]
           ],
           "sequentialminus": [
            [
             0,
             "#0d0887"
            ],
            [
             0.1111111111111111,
             "#46039f"
            ],
            [
             0.2222222222222222,
             "#7201a8"
            ],
            [
             0.3333333333333333,
             "#9c179e"
            ],
            [
             0.4444444444444444,
             "#bd3786"
            ],
            [
             0.5555555555555556,
             "#d8576b"
            ],
            [
             0.6666666666666666,
             "#ed7953"
            ],
            [
             0.7777777777777778,
             "#fb9f3a"
            ],
            [
             0.8888888888888888,
             "#fdca26"
            ],
            [
             1,
             "#f0f921"
            ]
           ]
          },
          "colorway": [
           "#636efa",
           "#EF553B",
           "#00cc96",
           "#ab63fa",
           "#FFA15A",
           "#19d3f3",
           "#FF6692",
           "#B6E880",
           "#FF97FF",
           "#FECB52"
          ],
          "font": {
           "color": "#2a3f5f"
          },
          "geo": {
           "bgcolor": "white",
           "lakecolor": "white",
           "landcolor": "#E5ECF6",
           "showlakes": true,
           "showland": true,
           "subunitcolor": "white"
          },
          "hoverlabel": {
           "align": "left"
          },
          "hovermode": "closest",
          "mapbox": {
           "style": "light"
          },
          "paper_bgcolor": "white",
          "plot_bgcolor": "#E5ECF6",
          "polar": {
           "angularaxis": {
            "gridcolor": "white",
            "linecolor": "white",
            "ticks": ""
           },
           "bgcolor": "#E5ECF6",
           "radialaxis": {
            "gridcolor": "white",
            "linecolor": "white",
            "ticks": ""
           }
          },
          "scene": {
           "xaxis": {
            "backgroundcolor": "#E5ECF6",
            "gridcolor": "white",
            "gridwidth": 2,
            "linecolor": "white",
            "showbackground": true,
            "ticks": "",
            "zerolinecolor": "white"
           },
           "yaxis": {
            "backgroundcolor": "#E5ECF6",
            "gridcolor": "white",
            "gridwidth": 2,
            "linecolor": "white",
            "showbackground": true,
            "ticks": "",
            "zerolinecolor": "white"
           },
           "zaxis": {
            "backgroundcolor": "#E5ECF6",
            "gridcolor": "white",
            "gridwidth": 2,
            "linecolor": "white",
            "showbackground": true,
            "ticks": "",
            "zerolinecolor": "white"
           }
          },
          "shapedefaults": {
           "line": {
            "color": "#2a3f5f"
           }
          },
          "ternary": {
           "aaxis": {
            "gridcolor": "white",
            "linecolor": "white",
            "ticks": ""
           },
           "baxis": {
            "gridcolor": "white",
            "linecolor": "white",
            "ticks": ""
           },
           "bgcolor": "#E5ECF6",
           "caxis": {
            "gridcolor": "white",
            "linecolor": "white",
            "ticks": ""
           }
          },
          "title": {
           "x": 0.05
          },
          "xaxis": {
           "automargin": true,
           "gridcolor": "white",
           "linecolor": "white",
           "ticks": "",
           "title": {
            "standoff": 15
           },
           "zerolinecolor": "white",
           "zerolinewidth": 2
          },
          "yaxis": {
           "automargin": true,
           "gridcolor": "white",
           "linecolor": "white",
           "ticks": "",
           "title": {
            "standoff": 15
           },
           "zerolinecolor": "white",
           "zerolinewidth": 2
          }
         }
        },
        "title": {
         "text": "Total length of heat waves over a given period"
        },
        "width": 1100,
        "xaxis": {
         "autorange": true,
         "range": [
          1970.5,
          2100.5
         ],
         "title": {
          "text": "Year"
         },
         "type": "linear"
        },
        "yaxis": {
         "autorange": true,
         "range": [
          0,
          102.10526315789474
         ],
         "title": {
          "text": "Number of Heat-waves"
         },
         "type": "linear"
        }
       }
      },
      "image/png": "[encoded data removed]",
      "text/html": [
       "<div>                            <div id=\"23311807-c6d9-4be3-85e6-1aa821384d4e\" class=\"plotly-graph-div\" style=\"height:500px; width:1100px;\"></div>            <script type=\"text/javascript\">                require([\"plotly\"], function(Plotly) {                    window.PLOTLYENV=window.PLOTLYENV || {};                                    if (document.getElementById(\"23311807-c6d9-4be3-85e6-1aa821384d4e\")) {                    Plotly.newPlot(                        \"23311807-c6d9-4be3-85e6-1aa821384d4e\",                        [{\"marker\":{\"color\":\"blue\"},\"name\":\"HWI RCP 4.5\",\"x\":[1971,1972,1973,1974,1975,1976,1977,1978,1979,1980,1981,1982,1983,1984,1985,1986,1987,1988,1989,1990,1991,1992,1993,1994,1995,1996,1997,1998,1999,2000,2011,2012,2013,2014,2015,2016,2017,2018,2019,2020,2021,2022,2023,2024,2025,2026,2027,2028,2029,2030,2031,2032,2033,2034,2035,2036,2037,2038,2039,2040,2041,2042,2043,2044,2045,2046,2047,2048,2049,2050,2051,2052,2053,2054,2055,2056,2057,2058,2059,2060,2061,2062,2063,2064,2065,2066,2067,2068,2069,2070,2071,2072,2073,2074,2075,2076,2077,2078,2079,2080,2081,2082,2083,2084,2085,2086,2087,2088,2089,2090,2091,2092,2093,2094,2095,2096,2097,2098,2099,2100],\"y\":[20.0,27.0,32.0,35.0,54.0,33.0,20.0,27.0,10.0,3.0,22.0,6.0,14.0,28.0,14.0,19.0,34.0,32.0,33.0,42.0,40.0,10.0,30.0,12.0,49.0,40.0,42.0,13.0,28.0,13.0,41.0,16.0,35.0,19.0,53.0,27.0,26.0,24.0,71.0,29.0,47.0,36.0,19.0,5.0,24.0,45.0,41.0,26.0,64.0,50.0,19.0,49.0,28.0,30.0,41.0,47.0,35.0,28.0,76.0,69.0,64.0,30.0,57.0,60.0,34.0,21.0,52.0,64.0,29.0,38.0,38.0,61.0,48.0,41.0,63.0,49.0,41.0,39.0,42.0,56.0,42.0,61.0,70.0,64.0,55.0,50.0,63.0,43.0,32.0,39.0,58.0,50.0,39.0,42.0,47.0,40.0,40.0,25.0,56.0,27.0,45.0,41.0,58.0,64.0,41.0,45.0,80.0,45.0,46.0,44.0,39.0,63.0,62.0,61.0,61.0,61.0,48.0,66.0,64.0,73.0],\"type\":\"bar\"},{\"marker\":{\"color\":\"red\"},\"name\":\"HWI RCP 8.5\",\"opacity\":0.5,\"x\":[1971,1972,1973,1974,1975,1976,1977,1978,1979,1980,1981,1982,1983,1984,1985,1986,1987,1988,1989,1990,1991,1992,1993,1994,1995,1996,1997,1998,1999,2000,2011,2012,2013,2014,2015,2016,2017,2018,2019,2020,2021,2022,2023,2024,2025,2026,2027,2028,2029,2030,2031,2032,2033,2034,2035,2036,2037,2038,2039,2040,2041,2042,2043,2044,2045,2046,2047,2048,2049,2050,2051,2052,2053,2054,2055,2056,2057,2058,2059,2060,2061,2062,2063,2064,2065,2066,2067,2068,2069,2070,2071,2072,2073,2074,2075,2076,2077,2078,2079,2080,2081,2082,2083,2084,2085,2086,2087,2088,2089,2090,2091,2092,2093,2094,2095,2096,2097,2098,2099,2100],\"y\":[20.0,27.0,32.0,35.0,54.0,33.0,20.0,27.0,10.0,3.0,22.0,6.0,14.0,28.0,14.0,19.0,34.0,32.0,33.0,42.0,40.0,10.0,30.0,12.0,49.0,40.0,42.0,13.0,28.0,13.0,33.0,52.0,16.0,61.0,39.0,36.0,22.0,18.0,37.0,34.0,36.0,45.0,22.0,36.0,64.0,42.0,44.0,35.0,37.0,38.0,35.0,55.0,64.0,21.0,45.0,56.0,35.0,53.0,54.0,42.0,23.0,32.0,53.0,39.0,23.0,49.0,37.0,42.0,31.0,50.0,64.0,25.0,70.0,71.0,42.0,43.0,44.0,53.0,39.0,61.0,47.0,63.0,60.0,60.0,97.0,62.0,48.0,61.0,63.0,70.0,46.0,50.0,65.0,62.0,68.0,50.0,63.0,63.0,73.0,75.0,60.0,67.0,78.0,63.0,59.0,68.0,78.0,67.0,75.0,88.0,84.0,72.0,84.0,81.0,56.0,75.0,85.0,84.0,82.0,93.0],\"type\":\"bar\"},{\"line\":{\"color\":\"blue\"},\"mode\":\"lines\",\"name\":\"RCP 4.5 trend\",\"x\":[1971,1972,1973,1974,1975,1976,1977,1978,1979,1980,1981,1982,1983,1984,1985,1986,1987,1988,1989,1990,1991,1992,1993,1994,1995,1996,1997,1998,1999,2000,2011,2012,2013,2014,2015,2016,2017,2018,2019,2020,2021,2022,2023,2024,2025,2026,2027,2028,2029,2030,2031,2032,2033,2034,2035,2036,2037,2038,2039,2040,2041,2042,2043,2044,2045,2046,2047,2048,2049,2050,2051,2052,2053,2054,2055,2056,2057,2058,2059,2060,2061,2062,2063,2064,2065,2066,2067,2068,2069,2070,2071,2072,2073,2074,2075,2076,2077,2078,2079,2080,2081,2082,2083,2084,2085,2086,2087,2088,2089,2090,2091,2092,2093,2094,2095,2096,2097,2098,2099,2100],\"y\":[23.176308539944916,23.47012408269094,23.763939625436965,24.05775516818299,24.351570710929014,24.645386253675035,24.93920179642106,25.233017339167084,25.52683288191311,25.820648424659133,26.114463967405158,26.408279510151182,26.702095052897207,26.99591059564323,27.289726138389256,27.583541681135276,27.8773572238813,28.171172766627326,28.46498830937335,28.758803852119375,29.0526193948654,29.346434937611424,29.640250480357444,29.93406602310347,30.227881565849493,30.521697108595518,30.815512651341542,31.109328194087567,31.40314373683359,31.696959279579616,31.99077482232564,32.284590365071665,32.57840590781769,32.872221450563714,33.16603699330974,33.45985253605576,33.75366807880178,34.04748362154781,34.34129916429383,34.635114707039854,34.92893024978588,35.2227457925319,35.51656133527793,35.81037687802395,36.10419242076998,36.398007963516,36.691823506262025,36.98563904900805,37.279454591754074,37.5732701345001,37.86708567724612,38.16090121999215,38.45471676273817,38.74853230548419,39.04234784823022,39.33616339097624,39.62997893372227,39.92379447646829,40.21761001921432,40.51142556196034,40.80524110470636,41.099056647452386,41.39287219019841,41.686687732944435,41.98050327569046,42.274318818436484,42.56813436118251,42.86194990392853,43.15576544667456,43.44958098942058,43.7433965321666,44.03721207491263,44.33102761765865,44.62484316040468,44.9186587031507,45.21247424589673,45.506289788642746,45.80010533138878,46.093920874134795,46.38773641688082,46.681551959626844,46.97536750237287,47.26918304511889,47.56299858786492,47.85681413061094,48.15062967335697,48.44444521610299,48.73826075884901,49.03207630159504,49.32589184434106,49.61970738708709,49.91352292983311,50.20733847257914,50.501154015325156,50.79496955807119,51.088785100817205,51.38260064356324,51.676416186309254,51.97023172905528,52.2640472718013,52.55786281454733,52.85167835729335,53.14549390003938,53.4393094427854,53.733124985531425,54.02694052827745,54.32075607102347,54.6145716137695,54.908387156515516,55.20220269926155,55.496018242007565,55.7898337847536,56.083649327499614,56.377464870245646,56.67128041299166,56.965095955737695,57.25891149848371,57.552727041229744,57.84654258397576,58.14035812672178],\"type\":\"scatter\"},{\"line\":{\"color\":\"red\"},\"mode\":\"lines\",\"name\":\"RCP 8.5 trend\",\"x\":[1971,1972,1973,1974,1975,1976,1977,1978,1979,1980,1981,1982,1983,1984,1985,1986,1987,1988,1989,1990,1991,1992,1993,1994,1995,1996,1997,1998,1999,2000,2011,2012,2013,2014,2015,2016,2017,2018,2019,2020,2021,2022,2023,2024,2025,2026,2027,2028,2029,2030,2031,2032,2033,2034,2035,2036,2037,2038,2039,2040,2041,2042,2043,2044,2045,2046,2047,2048,2049,2050,2051,2052,2053,2054,2055,2056,2057,2058,2059,2060,2061,2062,2063,2064,2065,2066,2067,2068,2069,2070,2071,2072,2073,2074,2075,2076,2077,2078,2079,2080,2081,2082,2083,2084,2085,2086,2087,2088,2089,2090,2091,2092,2093,2094,2095,2096,2097,2098,2099,2100],\"y\":[17.62727272727274,18.118831168831182,18.61038961038962,19.101948051948064,19.593506493506506,20.08506493506495,20.576623376623388,21.06818181818183,21.559740259740273,22.051298701298713,22.542857142857155,23.034415584415598,23.525974025974037,24.01753246753248,24.509090909090922,25.00064935064936,25.492207792207804,25.983766233766247,26.475324675324686,26.966883116883132,27.45844155844157,27.950000000000014,28.441558441558456,28.933116883116895,29.424675324675338,29.91623376623378,30.40779220779222,30.899350649350662,31.390909090909105,31.882467532467544,32.37402597402598,32.86558441558443,33.35714285714287,33.848701298701314,34.340259740259754,34.83181818181819,35.32337662337663,35.81493506493508,36.306493506493524,36.79805194805196,37.2896103896104,37.78116883116884,38.27272727272729,38.76428571428573,39.25584415584417,39.74740259740261,40.23896103896105,40.73051948051949,41.222077922077936,41.713636363636375,42.20519480519482,42.69675324675326,43.1883116883117,43.67987012987014,44.171428571428585,44.66298701298703,45.15454545454547,45.64610389610391,46.13766233766235,46.62922077922079,47.120779220779234,47.61233766233768,48.10389610389612,48.59545454545456,49.087012987013,49.57857142857144,50.07012987012988,50.56168831168833,51.05324675324677,51.54480519480521,52.03636363636365,52.52792207792209,53.01948051948053,53.51103896103898,54.00259740259742,54.494155844155856,54.9857142857143,55.47727272727274,55.96883116883118,56.460389610389626,56.951948051948065,57.443506493506504,57.93506493506495,58.42662337662339,58.918181818181836,59.409740259740275,59.901298701298714,60.39285714285716,60.8844155844156,61.37597402597404,61.867532467532484,62.359090909090924,62.85064935064936,63.34220779220781,63.83376623376625,64.32532467532468,64.81688311688313,65.30844155844157,65.80000000000001,66.29155844155846,66.78311688311689,67.27467532467534,67.76623376623378,68.25779220779222,68.74935064935067,69.2409090909091,69.73246753246755,70.22402597402599,70.71558441558443,71.20714285714287,71.69870129870131,72.19025974025976,72.68181818181819,73.17337662337664,73.66493506493508,74.15649350649352,74.64805194805197,75.1396103896104,75.63116883116885,76.12272727272729],\"type\":\"scatter\"}],                        {\"template\":{\"data\":{\"histogram2dcontour\":[{\"type\":\"histogram2dcontour\",\"colorbar\":{\"outlinewidth\":0,\"ticks\":\"\"},\"colorscale\":[[0.0,\"#0d0887\"],[0.1111111111111111,\"#46039f\"],[0.2222222222222222,\"#7201a8\"],[0.3333333333333333,\"#9c179e\"],[0.4444444444444444,\"#bd3786\"],[0.5555555555555556,\"#d8576b\"],[0.6666666666666666,\"#ed7953\"],[0.7777777777777778,\"#fb9f3a\"],[0.8888888888888888,\"#fdca26\"],[1.0,\"#f0f921\"]]}],\"choropleth\":[{\"type\":\"choropleth\",\"colorbar\":{\"outlinewidth\":0,\"ticks\":\"\"}}],\"histogram2d\":[{\"type\":\"histogram2d\",\"colorbar\":{\"outlinewidth\":0,\"ticks\":\"\"},\"colorscale\":[[0.0,\"#0d0887\"],[0.1111111111111111,\"#46039f\"],[0.2222222222222222,\"#7201a8\"],[0.3333333333333333,\"#9c179e\"],[0.4444444444444444,\"#bd3786\"],[0.5555555555555556,\"#d8576b\"],[0.6666666666666666,\"#ed7953\"],[0.7777777777777778,\"#fb9f3a\"],[0.8888888888888888,\"#fdca26\"],[1.0,\"#f0f921\"]]}],\"heatmap\":[{\"type\":\"heatmap\",\"colorbar\":{\"outlinewidth\":0,\"ticks\":\"\"},\"colorscale\":[[0.0,\"#0d0887\"],[0.1111111111111111,\"#46039f\"],[0.2222222222222222,\"#7201a8\"],[0.3333333333333333,\"#9c179e\"],[0.4444444444444444,\"#bd3786\"],[0.5555555555555556,\"#d8576b\"],[0.6666666666666666,\"#ed7953\"],[0.7777777777777778,\"#fb9f3a\"],[0.8888888888888888,\"#fdca26\"],[1.0,\"#f0f921\"]]}],\"heatmapgl\":[{\"type\":\"heatmapgl\",\"colorbar\":{\"outlinewidth\":0,\"ticks\":\"\"},\"colorscale\":[[0.0,\"#0d0887\"],[0.1111111111111111,\"#46039f\"],[0.2222222222222222,\"#7201a8\"],[0.3333333333333333,\"#9c179e\"],[0.4444444444444444,\"#bd3786\"],[0.5555555555555556,\"#d8576b\"],[0.6666666666666666,\"#ed7953\"],[0.7777777777777778,\"#fb9f3a\"],[0.8888888888888888,\"#fdca26\"],[1.0,\"#f0f921\"]]}],\"contourcarpet\":[{\"type\":\"contourcarpet\",\"colorbar\":{\"outlinewidth\":0,\"ticks\":\"\"}}],\"contour\":[{\"type\":\"contour\",\"colorbar\":{\"outlinewidth\":0,\"ticks\":\"\"},\"colorscale\":[[0.0,\"#0d0887\"],[0.1111111111111111,\"#46039f\"],[0.2222222222222222,\"#7201a8\"],[0.3333333333333333,\"#9c179e\"],[0.4444444444444444,\"#bd3786\"],[0.5555555555555556,\"#d8576b\"],[0.6666666666666666,\"#ed7953\"],[0.7777777777777778,\"#fb9f3a\"],[0.8888888888888888,\"#fdca26\"],[1.0,\"#f0f921\"]]}],\"surface\":[{\"type\":\"surface\",\"colorbar\":{\"outlinewidth\":0,\"ticks\":\"\"},\"colorscale\":[[0.0,\"#0d0887\"],[0.1111111111111111,\"#46039f\"],[0.2222222222222222,\"#7201a8\"],[0.3333333333333333,\"#9c179e\"],[0.4444444444444444,\"#bd3786\"],[0.5555555555555556,\"#d8576b\"],[0.6666666666666666,\"#ed7953\"],[0.7777777777777778,\"#fb9f3a\"],[0.8888888888888888,\"#fdca26\"],[1.0,\"#f0f921\"]]}],\"mesh3d\":[{\"type\":\"mesh3d\",\"colorbar\":{\"outlinewidth\":0,\"ticks\":\"\"}}],\"scatter\":[{\"fillpattern\":{\"fillmode\":\"overlay\",\"size\":10,\"solidity\":0.2},\"type\":\"scatter\"}],\"parcoords\":[{\"type\":\"parcoords\",\"line\":{\"colorbar\":{\"outlinewidth\":0,\"ticks\":\"\"}}}],\"scatterpolargl\":[{\"type\":\"scatterpolargl\",\"marker\":{\"colorbar\":{\"outlinewidth\":0,\"ticks\":\"\"}}}],\"bar\":[{\"error_x\":{\"color\":\"#2a3f5f\"},\"error_y\":{\"color\":\"#2a3f5f\"},\"marker\":{\"line\":{\"color\":\"#E5ECF6\",\"width\":0.5},\"pattern\":{\"fillmode\":\"overlay\",\"size\":10,\"solidity\":0.2}},\"type\":\"bar\"}],\"scattergeo\":[{\"type\":\"scattergeo\",\"marker\":{\"colorbar\":{\"outlinewidth\":0,\"ticks\":\"\"}}}],\"scatterpolar\":[{\"type\":\"scatterpolar\",\"marker\":{\"colorbar\":{\"outlinewidth\":0,\"ticks\":\"\"}}}],\"histogram\":[{\"marker\":{\"pattern\":{\"fillmode\":\"overlay\",\"size\":10,\"solidity\":0.2}},\"type\":\"histogram\"}],\"scattergl\":[{\"type\":\"scattergl\",\"marker\":{\"colorbar\":{\"outlinewidth\":0,\"ticks\":\"\"}}}],\"scatter3d\":[{\"type\":\"scatter3d\",\"line\":{\"colorbar\":{\"outlinewidth\":0,\"ticks\":\"\"}},\"marker\":{\"colorbar\":{\"outlinewidth\":0,\"ticks\":\"\"}}}],\"scattermapbox\":[{\"type\":\"scattermapbox\",\"marker\":{\"colorbar\":{\"outlinewidth\":0,\"ticks\":\"\"}}}],\"scatterternary\":[{\"type\":\"scatterternary\",\"marker\":{\"colorbar\":{\"outlinewidth\":0,\"ticks\":\"\"}}}],\"scattercarpet\":[{\"type\":\"scattercarpet\",\"marker\":{\"colorbar\":{\"outlinewidth\":0,\"ticks\":\"\"}}}],\"carpet\":[{\"aaxis\":{\"endlinecolor\":\"#2a3f5f\",\"gridcolor\":\"white\",\"linecolor\":\"white\",\"minorgridcolor\":\"white\",\"startlinecolor\":\"#2a3f5f\"},\"baxis\":{\"endlinecolor\":\"#2a3f5f\",\"gridcolor\":\"white\",\"linecolor\":\"white\",\"minorgridcolor\":\"white\",\"startlinecolor\":\"#2a3f5f\"},\"type\":\"carpet\"}],\"table\":[{\"cells\":{\"fill\":{\"color\":\"#EBF0F8\"},\"line\":{\"color\":\"white\"}},\"header\":{\"fill\":{\"color\":\"#C8D4E3\"},\"line\":{\"color\":\"white\"}},\"type\":\"table\"}],\"barpolar\":[{\"marker\":{\"line\":{\"color\":\"#E5ECF6\",\"width\":0.5},\"pattern\":{\"fillmode\":\"overlay\",\"size\":10,\"solidity\":0.2}},\"type\":\"barpolar\"}],\"pie\":[{\"automargin\":true,\"type\":\"pie\"}]},\"layout\":{\"autotypenumbers\":\"strict\",\"colorway\":[\"#636efa\",\"#EF553B\",\"#00cc96\",\"#ab63fa\",\"#FFA15A\",\"#19d3f3\",\"#FF6692\",\"#B6E880\",\"#FF97FF\",\"#FECB52\"],\"font\":{\"color\":\"#2a3f5f\"},\"hovermode\":\"closest\",\"hoverlabel\":{\"align\":\"left\"},\"paper_bgcolor\":\"white\",\"plot_bgcolor\":\"#E5ECF6\",\"polar\":{\"bgcolor\":\"#E5ECF6\",\"angularaxis\":{\"gridcolor\":\"white\",\"linecolor\":\"white\",\"ticks\":\"\"},\"radialaxis\":{\"gridcolor\":\"white\",\"linecolor\":\"white\",\"ticks\":\"\"}},\"ternary\":{\"bgcolor\":\"#E5ECF6\",\"aaxis\":{\"gridcolor\":\"white\",\"linecolor\":\"white\",\"ticks\":\"\"},\"baxis\":{\"gridcolor\":\"white\",\"linecolor\":\"white\",\"ticks\":\"\"},\"caxis\":{\"gridcolor\":\"white\",\"linecolor\":\"white\",\"ticks\":\"\"}},\"coloraxis\":{\"colorbar\":{\"outlinewidth\":0,\"ticks\":\"\"}},\"colorscale\":{\"sequential\":[[0.0,\"#0d0887\"],[0.1111111111111111,\"#46039f\"],[0.2222222222222222,\"#7201a8\"],[0.3333333333333333,\"#9c179e\"],[0.4444444444444444,\"#bd3786\"],[0.5555555555555556,\"#d8576b\"],[0.6666666666666666,\"#ed7953\"],[0.7777777777777778,\"#fb9f3a\"],[0.8888888888888888,\"#fdca26\"],[1.0,\"#f0f921\"]],\"sequentialminus\":[[0.0,\"#0d0887\"],[0.1111111111111111,\"#46039f\"],[0.2222222222222222,\"#7201a8\"],[0.3333333333333333,\"#9c179e\"],[0.4444444444444444,\"#bd3786\"],[0.5555555555555556,\"#d8576b\"],[0.6666666666666666,\"#ed7953\"],[0.7777777777777778,\"#fb9f3a\"],[0.8888888888888888,\"#fdca26\"],[1.0,\"#f0f921\"]],\"diverging\":[[0,\"#8e0152\"],[0.1,\"#c51b7d\"],[0.2,\"#de77ae\"],[0.3,\"#f1b6da\"],[0.4,\"#fde0ef\"],[0.5,\"#f7f7f7\"],[0.6,\"#e6f5d0\"],[0.7,\"#b8e186\"],[0.8,\"#7fbc41\"],[0.9,\"#4d9221\"],[1,\"#276419\"]]},\"xaxis\":{\"gridcolor\":\"white\",\"linecolor\":\"white\",\"ticks\":\"\",\"title\":{\"standoff\":15},\"zerolinecolor\":\"white\",\"automargin\":true,\"zerolinewidth\":2},\"yaxis\":{\"gridcolor\":\"white\",\"linecolor\":\"white\",\"ticks\":\"\",\"title\":{\"standoff\":15},\"zerolinecolor\":\"white\",\"automargin\":true,\"zerolinewidth\":2},\"scene\":{\"xaxis\":{\"backgroundcolor\":\"#E5ECF6\",\"gridcolor\":\"white\",\"linecolor\":\"white\",\"showbackground\":true,\"ticks\":\"\",\"zerolinecolor\":\"white\",\"gridwidth\":2},\"yaxis\":{\"backgroundcolor\":\"#E5ECF6\",\"gridcolor\":\"white\",\"linecolor\":\"white\",\"showbackground\":true,\"ticks\":\"\",\"zerolinecolor\":\"white\",\"gridwidth\":2},\"zaxis\":{\"backgroundcolor\":\"#E5ECF6\",\"gridcolor\":\"white\",\"linecolor\":\"white\",\"showbackground\":true,\"ticks\":\"\",\"zerolinecolor\":\"white\",\"gridwidth\":2}},\"shapedefaults\":{\"line\":{\"color\":\"#2a3f5f\"}},\"annotationdefaults\":{\"arrowcolor\":\"#2a3f5f\",\"arrowhead\":0,\"arrowwidth\":1},\"geo\":{\"bgcolor\":\"white\",\"landcolor\":\"#E5ECF6\",\"subunitcolor\":\"white\",\"showland\":true,\"showlakes\":true,\"lakecolor\":\"white\"},\"title\":{\"x\":0.05},\"mapbox\":{\"style\":\"light\"}}},\"legend\":{\"x\":0,\"y\":1,\"traceorder\":\"normal\",\"orientation\":\"h\"},\"title\":{\"text\":\"Total length of heat waves over a given period\"},\"xaxis\":{\"title\":{\"text\":\"Year\"}},\"yaxis\":{\"title\":{\"text\":\"Number of Heat-waves\"}},\"width\":1100,\"height\":500},                        {\"responsive\": true}                    ).then(function(){\n",
       "                            \n",
       "var gd = document.getElementById('23311807-c6d9-4be3-85e6-1aa821384d4e');\n",
       "var x = new MutationObserver(function (mutations, observer) {{\n",
       "        var display = window.getComputedStyle(gd).display;\n",
       "        if (!display || display === 'none') {{\n",
       "            console.log([gd, 'removed!']);\n",
       "            Plotly.purge(gd);\n",
       "            observer.disconnect();\n",
       "        }}\n",
       "}});\n",
       "\n",
       "// Listen for the removal of the full notebook cells\n",
       "var notebookContainer = gd.closest('#notebook-container');\n",
       "if (notebookContainer) {{\n",
       "    x.observe(notebookContainer, {childList: true});\n",
       "}}\n",
       "\n",
       "// Listen for the clearing of the current output cell\n",
       "var outputEl = gd.closest('.output');\n",
       "if (outputEl) {{\n",
       "    x.observe(outputEl, {childList: true});\n",
       "}}\n",
       "\n",
       "                        })                };                });            </script>        </div>"
      ]
     },
     "metadata": {},
     "output_type": "display_data"
    }
   ],
   "source": [
    "# This code plots the data with Heat-wave total length for the selected pixel \n",
    "# Sample data\n",
    "b = pixel_values_hwtlh + pixel_values_hwtl45\n",
    "t = pixel_values_hwtlh + pixel_values_hwtl85 \n",
    "# Calculate trend lines for b and t\n",
    "b_trend = np.polyfit(np.arange(len(b)), b, 1)\n",
    "t_trend = np.polyfit(np.arange(len(t)), t, 1)\n",
    "# Define years\n",
    "yearh = list(range(1971, 2001))\n",
    "yearp1 = list(range(2011, 2101))\n",
    "year = yearh + yearp1\n",
    "# Create figure\n",
    "fig = go.Figure()\n",
    "# Add bar trace for 'b'\n",
    "fig.add_trace(go.Bar(x=year, y=b, name='HWI RCP 4.5', marker_color='blue'))\n",
    "# Add bar trace for 't'\n",
    "fig.add_trace(go.Bar(x=year, y=t, name='HWI RCP 8.5', opacity=0.5, marker_color='red'))\n",
    "# Add trend line trace for 'b'\n",
    "fig.add_trace(go.Scatter(x=year, y=np.polyval(b_trend, np.arange(len(b))), mode='lines', name='RCP 4.5 trend', line=dict(color='blue')))\n",
    "# Add trend line trace for 't'\n",
    "fig.add_trace(go.Scatter(x=year, y=np.polyval(t_trend, np.arange(len(t))), mode='lines', name='RCP 8.5 trend', line=dict(color='red')))\n",
    "# Update layout\n",
    "fig.update_layout(\n",
    "    title='Total length of heat waves over a given period',\n",
    "    xaxis_title='Year',\n",
    "    yaxis_title='Number of Heat-waves',\n",
    "    legend=dict(x=0, y=1, traceorder='normal', orientation='h'),\n",
    "    width=1100,\n",
    "    height=500)"
   ]
  },
  {
   "cell_type": "markdown",
   "id": "49c779b0-8e54-40f6-bf7c-551302b47329",
   "metadata": {},
   "source": [
    "### Conclusion for the XCLIM results \n",
    "- We calculated three climate indices connected to extreme temperature: Heat-wave index, Heat-wave frequency, and Heat-wave total length for two climate scenarios RCP 4.5 and 8.5 based on the Euro-Cordex data. \n",
    "- The results depend on the area and point that you select for the plotting of the graphs "
   ]
  }
 ],
 "metadata": {
  "kernelspec": {
   "display_name": "Python 3 (ipykernel)",
   "language": "python",
   "name": "python3"
  },
  "language_info": {
   "codemirror_mode": {
    "name": "ipython",
    "version": 3
   },
   "file_extension": ".py",
   "mimetype": "text/x-python",
   "name": "python",
   "nbconvert_exporter": "python",
   "pygments_lexer": "ipython3",
   "version": "3.11.7"
  }
 },
 "nbformat": 4,
 "nbformat_minor": 5
}
