{
 "cells": [
  {
   "cell_type": "markdown",
   "id": "66cd5d38-1e96-43a0-802e-1bc31e97737c",
   "metadata": {},
   "source": [
    "# Heatwave hazard assessment using PESETA IV methodology"
   ]
  },
  {
   "cell_type": "markdown",
   "id": "eb0d77a0-683b-462b-82e5-bed19689ebbb",
   "metadata": {},
   "source": [
    "## Description of the assessment"
   ]
  },
  {
   "cell_type": "markdown",
   "id": "d79fad30",
   "metadata": {},
   "source": [
    "In this workflow we will assess the heatwave hazard based on the methodology used in the [PESETA IV project](https://joint-research-centre.ec.europa.eu/peseta-projects/jrc-peseta-iv_en).  \n",
    "\n",
    "In this approach, a heatwave is defined as a period of three or more consecutive days with a maximum temperature above a daily threshold. The threshold temperature is defined as the 90th percentile of daily maximum temperature, centered on a 31-day window (1 month), which is calculated based on a historical 30-year reference period (for testing in this workflow we choose a shorter period). At least 30 years of daily temperature timeseries are needed to obtain a robust estimation of the heatwave occurence. \n",
    "\n",
    "The hazard calculation is based on climate data with resolution of 12x12km (EURO-CORDEX) with data available for 1971-2100.\n",
    "\n",
    "**Advantages of using this methodology:**\n",
    "- Allows for the estimation of the yearly and monthly (seasonal) heatwave occurence\n",
    "- Flexibility of the methodology: the possibility of changing the temperature threshold (eg. 90 percentile)\n",
    "- The threshold is estimated for each grid cell in the climate dataset (12x12km) and is based on location-specific historical temperature conditions.\n",
    "- This methodology is better for estimating the occurence of heatwave events not only for the summer months but also in other seasons, because thresholds are calculated separately for different times in a year. This allows to detect the season-specific changes.\n",
    "\n",
    "**Disadvantages:**\n",
    "- Computationally intensive due to the large amount of data.\n",
    "- Methodology does not take into account variations in the minimum daily temperature. This can be a shortcoming in e.g. mountainous regions where there are large differences between the day and night temperatures."
   ]
  },
  {
   "cell_type": "markdown",
   "id": "e8807817-b472-4d82-9c18-39aa1570b01e",
   "metadata": {},
   "source": [
    "## Step 1: Preparation work"
   ]
  },
  {
   "cell_type": "markdown",
   "id": "ab3b4a3c-28e6-4f21-8999-c98904083dd5",
   "metadata": {},
   "source": [
    "### Import packages"
   ]
  },
  {
   "cell_type": "markdown",
   "id": "d5d44f20-11b9-49c1-ac0d-c950a3460da4",
   "metadata": {},
   "source": [
    ":::{admonition} In this notebook we will use the following Python libraries:\n",
    ":class: hint dropdown\n",
    "* [zipfile](https://docs.python.org/3/library/zipfile.html) - Provides tools for creating, reading, writing, and extracting ZIP files.\n",
    "* [os](https://docs.python.org/3/library/os.html) - Provides functions for interacting with the operating system, such as file and directory manipulation.\n",
    "* [glob](https://docs.python.org/3/library/glob.html) - Unix style pathname pattern expansion.\n",
    "* [itertools](https://docs.python.org/3/library/itertools.html) - Functions for creating iterators forefficient looping.\n",
    "* [rasterio](https://rasterio.readthedocs.io/en/latest/) - A library for reading and writing geospatial raster data.\n",
    "* [cdsapi](https://cds.climate.copernicus.eu/api-how-to) - A library to request data from the datasets listed in the CDS catalogue.\n",
    "* [numpy](https://numpy.org/doc/stable/) - A powerful library for numerical computations in Python, widely used for array operations and mathematical functions.\n",
    "* [xarray](https://docs.xarray.dev/en/stable/) - Introduces labels in the form of dimensions, coordinates, and attributes on top of raw NumPy-like arrays for a more intuitive experience.\n",
    "* [dask](https://docs.dask.org/en/stable/index.html) - Efficient handling of large datasets and computations.\n",
    "* [cartopy](https://scitools.org.uk/cartopy/docs/latest/) - A package designed for geospatial data processing in order to produce maps and other geospatial data analyses.\n",
    "* [matplotlib](https://matplotlib.org/stable/) - A versatile plotting library in Python, commonly used for creating static, animated, and interactive visualizations.\n",
    "* [plotly](https://plotly.com/) - A Python Graphing Library.\n",
    "* [ipyleaflet](https://ipyleaflet.readthedocs.io/en/stable/) - Enables interactive maps in Jupyter notebooks using the Leaflet.js library.\n",
    "* [ipywidgets](https://ipywidgets.readthedocs.io/en/stable/) - Provides interactive HTML widgets for Jupyter notebooks.\n",
    "* [localtileserver](https://localtileserver.readthedocs.io/en/latest/) - Serves local raster tiles for visualization in Leaflet maps.\n"
   ]
  },
  {
   "cell_type": "code",
   "execution_count": 1,
   "id": "942c3219-b97c-4f9f-87f7-cc5e8375ef31",
   "metadata": {},
   "outputs": [],
   "source": [
    "import zipfile\n",
    "import os\n",
    "from glob import glob\n",
    "from itertools import chain\n",
    "\n",
    "import cdsapi\n",
    "import numpy as np\n",
    "import xarray as xr\n",
    "import rasterio\n",
    "from dask.diagnostics import ProgressBar \n",
    "import matplotlib.pyplot as plt\n",
    "import cartopy.crs as ccrs\n",
    "import plotly.graph_objects as go\n",
    "from ipyleaflet import Map, DrawControl, Marker, LayersControl\n",
    "import ipywidgets as widgets\n",
    "from localtileserver import get_leaflet_tile_layer, TileClient"
   ]
  },
  {
   "cell_type": "code",
   "execution_count": 2,
   "id": "703cfaaf-d7ca-4f25-9e64-582d01c85a87",
   "metadata": {},
   "outputs": [],
   "source": [
    "# Set host forwarding for remote jupyterlab sessions\n",
    "if 'JUPYTERHUB_SERVICE_PREFIX' in os.environ:\n",
    "    os.environ['LOCALTILESERVER_CLIENT_PREFIX'] = f\"{os.environ['JUPYTERHUB_SERVICE_PREFIX']}/proxy/{{port}}\""
   ]
  },
  {
   "cell_type": "markdown",
   "id": "cdfaccfc-ac2e-40e3-989a-c0a30b001689",
   "metadata": {},
   "source": [
    "### Create directory structure"
   ]
  },
  {
   "cell_type": "code",
   "execution_count": 2,
   "id": "bad1ecb3-8f4e-4de7-9476-8a2ddb02b084",
   "metadata": {},
   "outputs": [],
   "source": [
    "# Define the directory for the flashflood workflow preprocess\n",
    "workflow_folder = 'Heatwave_hazard_PesetaIV'\n",
    "# Define directories for data and results within the previously defined workflow directory\n",
    "data_dir = os.path.join(workflow_folder,'data')\n",
    "results_dir = os.path.join(workflow_folder,'results')\n",
    "r1971_2000_dir = os.path.join(workflow_folder,'r1971_2000')\n",
    "r85_2011_2040_dir = os.path.join(workflow_folder,'r85_2011_2040')\n",
    "r85_2041_2070_dir = os.path.join(workflow_folder,'r85_2041_2070')\n",
    "r85_2071_2100_dir = os.path.join(workflow_folder,'r85_2071_2100')\n",
    "r45_2011_2040_dir = os.path.join(workflow_folder,'r45_2011_2040')\n",
    "r45_2041_2070_dir = os.path.join(workflow_folder,'r45_2041_2070')\n",
    "r45_2071_2100_dir = os.path.join(workflow_folder,'r45_2071_2100')\n",
    "# Check if the workflow directory exists, if not, create it along with subdirectories for data and results\n",
    "if not os.path.exists(workflow_folder):\n",
    "    os.makedirs(workflow_folder)\n",
    "    os.makedirs(os.path.join(data_dir))\n",
    "    os.makedirs(os.path.join(results_dir))\n",
    "    os.makedirs(os.path.join(r1971_2000_dir))\n",
    "    os.makedirs(os.path.join(r85_2011_2040_dir))\n",
    "    os.makedirs(os.path.join(r85_2041_2070_dir))\n",
    "    os.makedirs(os.path.join(r85_2071_2100_dir))\n",
    "    os.makedirs(os.path.join(r45_2011_2040_dir))\n",
    "    os.makedirs(os.path.join(r45_2041_2070_dir))\n",
    "    os.makedirs(os.path.join(r45_2071_2100_dir))"
   ]
  },
  {
   "cell_type": "markdown",
   "id": "9cb758d6-3098-4ac4-b807-5864d4848e25",
   "metadata": {},
   "source": [
    "## Step 2: Retrieving data"
   ]
  },
  {
   "cell_type": "markdown",
   "id": "e56adda8-1a54-48bd-ad5d-0ba1eaf581a5",
   "metadata": {},
   "source": [
    "We need to download the daily maximum air temperature at 2m height from the EURO-CORDEX dataset. The code below will download this data for the selected period and RCP scenario.\n",
    "- In the code below you can find information about selected locations, resolutions, models, periods, etc.\n",
    "- More information about the **data** you can find [here](https://cds.climate.copernicus.eu/cdsapp#!/dataset/projections-cordex-domains-single-levels?tab=form)\n",
    "- More information about **RCP** scenarios can be found [here](https://en.wikipedia.org/wiki/Representative_Concentration_Pathway)"
   ]
  },
  {
   "cell_type": "markdown",
   "id": "28cc01f8",
   "metadata": {},
   "source": [
    "We can download data from the CDS with the API. If this is the first time you do this, you will need to register on CDS and set your API key. Check [[How to change your API KEY](https://cds.climate.copernicus.eu/api-how-to)] and change the KEY in the code cell below."
   ]
  },
  {
   "cell_type": "code",
   "execution_count": 3,
   "id": "c9eecec7",
   "metadata": {},
   "outputs": [],
   "source": [
    "URL = \"https://cds.climate.copernicus.eu/api/v2\"\n",
    "KEY = None # put your key here\n",
    "\n",
    "c = cdsapi.Client(url=URL, key=KEY)"
   ]
  },
  {
   "cell_type": "markdown",
   "id": "1a4344e4",
   "metadata": {},
   "source": [
    "**Important:** we will only download data for a single combination of GCM and RCM models. Below you can specify which combination you would like to use. For a more reliable result of the assessment, it is recommended to make the analysis for several combinations of GCM-RCM. For an overview of available combinations see the [CDS download form](https://cds.climate.copernicus.eu/cdsapp#!/dataset/projections-cordex-domains-single-levels?tab=form) and [documentation on GCM-RCM models](https://confluence.ecmwf.int/display/CKB/CORDEX%3A+Regional+climate+projections#heading-DrivingGlobalClimateModelsandRegionalClimateModels)."
   ]
  },
  {
   "cell_type": "code",
   "execution_count": 1,
   "id": "74e93156",
   "metadata": {},
   "outputs": [],
   "source": [
    "gcm_model = 'cnrm_cerfacs_cm5'\n",
    "rcm_model = 'clmcom_clm_cclm4_8_17'"
   ]
  },
  {
   "cell_type": "markdown",
   "id": "7fb2c6fe-741d-494b-a13f-a44a5ff75389",
   "metadata": {},
   "source": [
    "First we download the daily maximum 2m temperature for 1971-2000."
   ]
  },
  {
   "cell_type": "code",
   "execution_count": 9,
   "id": "123c4ad4-ac89-42f8-9e50-c1b40b98eb92",
   "metadata": {},
   "outputs": [
    {
     "name": "stderr",
     "output_type": "stream",
     "text": [
      "2024-06-28 16:16:20,286 INFO Welcome to the CDS\n",
      "2024-06-28 16:16:20,287 INFO Sending request to https://cds.climate.copernicus.eu/api/v2/resources/projections-cordex-domains-single-levels\n",
      "2024-06-28 16:16:20,428 INFO Request is queued\n",
      "2024-06-28 16:16:21,500 INFO Request is running\n",
      "2024-06-28 16:28:39,913 INFO Request is completed\n",
      "2024-06-28 16:28:39,963 INFO Downloading https://download-0014-clone.copernicus-climate.eu/cache-compute-0014/cache/data7/dataset-projections-cordex-domains-single-levels-bbd1da20-9898-4bce-91cb-bada1af556a2.zip to Heatwave_hazard_PesetaIV\\data/era5_daily_t2m_eurminmax_1971_2000.zip (3.9G)\n",
      "2024-06-28 16:38:21,672 INFO Download rate 6.9M/s   \n"
     ]
    }
   ],
   "source": [
    "# Define zip file's absolute path\n",
    "zip_path = os.path.join(data_dir, 'eurocordex_daily_t2m_eurminmax_1971_2000.zip')\n",
    "\n",
    "# Download the data for the selected time-period and RCP\n",
    "c.retrieve(\n",
    "    'projections-cordex-domains-single-levels',\n",
    "    {\n",
    "        'format': 'zip',\n",
    "        'domain': 'europe',\n",
    "        'experiment': 'historical',\n",
    "        'horizontal_resolution': '0_11_degree_x_0_11_degree',\n",
    "        'temporal_resolution': 'daily_mean',\n",
    "        'variable': 'maximum_2m_temperature_in_the_last_24_hours',\n",
    "        'gcm_model': gcm_model,\n",
    "        'rcm_model': rcm_model,\n",
    "        'ensemble_member': 'r1i1p1',\n",
    "        'start_year': [\n",
    "            '1971', '1976', '1981', '1986', '1991', '1996', \n",
    "        ],\n",
    "        'end_year': [\n",
    "            '1975', '1980', '1985', '1990', '1995', '2000', \n",
    "        ],\n",
    "    },\n",
    "    zip_path)\n",
    "\n",
    "# Unzip the downloaded files so they are ready for computing \n",
    "with zipfile.ZipFile(zip_path, 'r') as zObject:\n",
    "    zObject.extractall(path=data_dir)\n",
    "\n",
    "# Remove the downloaded zip file after unpacking\n",
    "os.remove(zip_path)"
   ]
  },
  {
   "cell_type": "markdown",
   "id": "dafc980e-e9a6-4883-ba9a-c4d0e09b483b",
   "metadata": {},
   "source": [
    "Next we download the daily maximum temperature at 2m for RCP8.5, 2011-2100\n",
    "(or you can select other suggested period 2041-2070, 2071-2100, RCP4.5 or RCP8.5)"
   ]
  },
  {
   "cell_type": "code",
   "execution_count": null,
   "id": "5147a3f4-e570-4113-a868-3f241e9008fe",
   "metadata": {},
   "outputs": [
    {
     "name": "stderr",
     "output_type": "stream",
     "text": [
      "2024-07-08 18:35:04,354 INFO Welcome to the CDS\n",
      "2024-07-08 18:35:04,355 INFO Sending request to https://cds.climate.copernicus.eu/api/v2/resources/projections-cordex-domains-single-levels\n",
      "2024-07-08 18:35:04,504 INFO Request is queued\n",
      "2024-07-08 18:35:05,543 INFO Request is running\n",
      "2024-07-08 18:59:24,066 INFO Request is completed\n",
      "2024-07-08 18:59:24,105 INFO Downloading https://download-0015-clone.copernicus-climate.eu/cache-compute-0015/cache/data1/dataset-projections-cordex-domains-single-levels-aa2ecfc6-66d3-4f75-ab1d-638ac263d8fd.zip to Heatwave_hazard_PesetaIV\\data/era5_daily_t2m_eurminmax_2011_2100.zip (11.7G)\n",
      " 17%|█████████████▏                                                               | 2.01G/11.7G [08:07<35:32, 4.89MB/s]"
     ]
    }
   ],
   "source": [
    "# Define zip file's absolute path\n",
    "zip_path = os.path.join(data_dir, 'eurocordex_daily_t2m_eurminmax_2011_2100.zip')\n",
    "\n",
    "# Download the data for the selected time-period and RCP\n",
    "c.retrieve(\n",
    "    'projections-cordex-domains-single-levels',\n",
    "    {\n",
    "        'format': 'zip',\n",
    "        'domain': 'europe',\n",
    "        'experiment': 'rcp_8_5',\n",
    "        'horizontal_resolution': '0_11_degree_x_0_11_degree',\n",
    "        'temporal_resolution': 'daily_mean',\n",
    "        'variable': 'maximum_2m_temperature_in_the_last_24_hours',\n",
    "        'gcm_model': gcm_model,\n",
    "        'rcm_model': rcm_model,\n",
    "        'ensemble_member': 'r1i1p1',\n",
    "        'start_year': [\n",
    "            '2011', '2016', '2021', '2026', '2031', '2036', '2041', '2046', '2051', '2056', '2061', '2066', '2071', '2076', '2081', '2086', '2091', '2096',\n",
    "        ],\n",
    "        'end_year': [\n",
    "            '2015', '2020', '2025', '2030', '2035', '2040', '2045', '2050', '2055', '2060', '2065', '2070', '2075', '2080', '2085', '2090', '2095', '2100',\n",
    "        ],\n",
    "    },\n",
    "    zip_path)\n",
    "\n",
    "# Unzip the downloaded files so they are ready for computing \n",
    "with zipfile.ZipFile(zip_path, 'r') as zObject:\n",
    "    zObject.extractall(path=data_dir)\n",
    "\n",
    "# Remove the downloaded zip file after unpacking\n",
    "os.remove(zip_path)"
   ]
  },
  {
   "cell_type": "markdown",
   "id": "4b1a836d-c656-47d7-95c7-6462adb69671",
   "metadata": {},
   "source": [
    "Next we download the daily maximum temperature at 2m for RCP4.5, 2011-2100:"
   ]
  },
  {
   "cell_type": "code",
   "execution_count": 4,
   "id": "1fdf8bfa-e434-4a72-a866-5c77f04cdc0d",
   "metadata": {},
   "outputs": [
    {
     "name": "stderr",
     "output_type": "stream",
     "text": [
      "2024-07-09 15:13:19,632 INFO Welcome to the CDS\n",
      "2024-07-09 15:13:19,642 INFO Sending request to https://cds.climate.copernicus.eu/api/v2/resources/projections-cordex-domains-single-levels\n",
      "2024-07-09 15:13:19,968 INFO Request is queued\n",
      "2024-07-09 15:13:21,038 INFO Request is running\n",
      "2024-07-09 15:51:42,960 INFO Request is completed\n",
      "2024-07-09 15:51:43,082 INFO Downloading https://download-0018.copernicus-climate.eu/cache-compute-0018/cache/data2/dataset-projections-cordex-domains-single-levels-ddc2627b-2129-46a2-afe9-b91a75c2ed0f.zip to Heatwave_hazard_PesetaIV\\data/era5_daily_t2m_eurmax_rcp45_2011_2100.zip (11.7G)\n",
      "2024-07-09 16:33:59,797 INFO Download rate 4.7M/s     \n"
     ]
    },
    {
     "data": {
      "text/plain": [
       "Result(content_length=12592570100,content_type=application/zip,location=https://download-0018.copernicus-climate.eu/cache-compute-0018/cache/data2/dataset-projections-cordex-domains-single-levels-ddc2627b-2129-46a2-afe9-b91a75c2ed0f.zip)"
      ]
     },
     "execution_count": 4,
     "metadata": {},
     "output_type": "execute_result"
    }
   ],
   "source": [
    "# Define zip file's absolute path\n",
    "zip_path = os.path.join(data_dir, 'eurocordex_daily_t2m_eurmax_rcp45_2011_2100.zip')\n",
    "\n",
    "# Download the data for the selected time-period and RCP\n",
    "c.retrieve(\n",
    "    'projections-cordex-domains-single-levels',\n",
    "    {\n",
    "        'format': 'zip',\n",
    "        'domain': 'europe',\n",
    "        'experiment': 'rcp_4_5',\n",
    "        'horizontal_resolution': '0_11_degree_x_0_11_degree',\n",
    "        'temporal_resolution': 'daily_mean',\n",
    "        'variable': 'maximum_2m_temperature_in_the_last_24_hours',\n",
    "        'gcm_model': gcm_model,\n",
    "        'rcm_model': rcm_model,\n",
    "        'ensemble_member': 'r1i1p1',\n",
    "        'start_year': [\n",
    "            '2011', '2016', '2021', '2026', '2031', '2036', '2041', '2046', '2051', '2056', '2061', '2066', '2071', '2076', '2081', '2086', '2091', '2096',\n",
    "        ],\n",
    "        'end_year': [\n",
    "            '2015', '2020', '2025', '2030', '2035', '2040', '2045', '2050', '2055', '2060', '2065', '2070', '2075', '2080', '2085', '2090', '2095', '2100',\n",
    "        ],\n",
    "    },\n",
    "    zip_path)\n",
    "\n",
    "# Unzip the downloaded files so they are ready for computing \n",
    "with zipfile.ZipFile(zip_path, 'r') as zObject:\n",
    "    zObject.extractall(path=data_dir)\n",
    "\n",
    "# Remove the downloaded zip file after unpacking\n",
    "os.remove(zip_path)"
   ]
  },
  {
   "cell_type": "markdown",
   "id": "a030c26d",
   "metadata": {},
   "source": [
    "## Step 3: analyze the data"
   ]
  },
  {
   "cell_type": "markdown",
   "id": "4305edb4-479e-410b-9961-94b07318f965",
   "metadata": {},
   "source": [
    "### Load data and convert Kelvin to Celsius\n",
    "\n",
    "Load data from your working directory, and set the coordinates system (CRS)"
   ]
  },
  {
   "cell_type": "code",
   "execution_count": 6,
   "id": "4437dc4d-57a7-48cf-be06-8607b7854591",
   "metadata": {},
   "outputs": [
    {
     "name": "stdout",
     "output_type": "stream",
     "text": [
      "Data loaded and crs has been set\n"
     ]
    }
   ],
   "source": [
    "# Historical data Maximum temperature\n",
    "dmaxh = xr.open_mfdataset(f'{data_dir}/tasmax*historical*.nc', decode_coords='all')\n",
    "rotated_pole = ccrs.RotatedPole(pole_latitude=39.25, pole_longitude=-162)\n",
    "dmaxh.rio.write_crs(rotated_pole, inplace=True)\n",
    "\n",
    "# Maximum temperature rcp 4.5\n",
    "dmax45 = xr.open_mfdataset(f'{data_dir}/tasmax*rcp45*.nc', decode_coords='all')\n",
    "rotated_pole = ccrs.RotatedPole(pole_latitude=39.25, pole_longitude=-162)\n",
    "dmax45.rio.write_crs(rotated_pole, inplace=True)\n",
    "\n",
    "# Maximum temperature rcp 8.5\n",
    "dmax85 = xr.open_mfdataset(f'{data_dir}/tasmax*rcp85*.nc', decode_coords='all')\n",
    "rotated_pole = ccrs.RotatedPole(pole_latitude=39.25, pole_longitude=-162)\n",
    "dmax85.rio.write_crs(rotated_pole, inplace=True)\n",
    "\n",
    "print(\"Data loaded and crs has been set\")"
   ]
  },
  {
   "cell_type": "markdown",
   "id": "830e7aaa-e6a6-4995-8316-a317759b2427",
   "metadata": {},
   "source": [
    "### Selection of the region of interest"
   ]
  },
  {
   "cell_type": "markdown",
   "id": "2ebfada9-e268-4e27-a809-91bc08a21c7c",
   "metadata": {},
   "source": [
    "**Tip for the selection of the area:**\n",
    "Select at least the area of the region or state where you want to assess the heatwave hazard (bigger area is better for graphical comparison, for EURO-CORDEX resolution of 12x12km)\n",
    "- \"Zoom\" to your area with [+] (top left corner)\n",
    "- \"Click\" on the rectangle on the left panel\n",
    "- \"Select your area\" by left click and drag\n",
    "-  And run a code below which \"automatically\" takes the coordinates of your area and transforms it to rotated pole CRS which is used by the EuroCordex data"
   ]
  },
  {
   "cell_type": "code",
   "execution_count": null,
   "id": "450833ce-7963-42d6-8d96-0a07d8938d45",
   "metadata": {},
   "outputs": [],
   "source": [
    "# This code plots a map where you need to select a bounding box, as an area for the heatwave estimation\n",
    "# Create a map centered at a specific location\n",
    "m = Map(center=(0, 0), zoom=2)\n",
    "# Create lists to store rectangle coordinates\n",
    "min_lon_list = []\n",
    "min_lat_list = []\n",
    "max_lon_list = []\n",
    "max_lat_list = []\n",
    "# Create a DrawControl with rectangle drawing enabled\n",
    "draw_control = DrawControl(rectangle={'shapeOptions': {'color': '#ff0000'}})\n",
    "# Add the DrawControl to the map\n",
    "m.add_control(draw_control)\n",
    "# Create a text widget to display coordinates\n",
    "coord_output = widgets.Text(placeholder='Coordinates will appear here', disabled=True)\n",
    "# Define a function to handle draw events\n",
    "def handle_draw(self, action, geo_json):\n",
    "    if action == 'created':\n",
    "        if geo_json['geometry']['type'] == 'Polygon':\n",
    "            # Extract coordinates of the rectangle\n",
    "            coords = geo_json['geometry']['coordinates'][0]\n",
    "            # Compute rectangle coordinates (min_lon, min_lat, max_lon, max_lat)\n",
    "            min_lon, min_lat = min(coord[0] for coord in coords), min(coord[1] for coord in coords)\n",
    "            max_lon, max_lat = max(coord[0] for coord in coords), max(coord[1] for coord in coords)\n",
    "            # Update text widget with coordinates\n",
    "            coord_output.value = f'Coordinates: ({min_lon:.2f}, {min_lat:.2f}), ({max_lon:.2f}, {max_lat:.2f})'\n",
    "            # Append coordinates to lists\n",
    "            min_lon_list.append(min_lon)\n",
    "            min_lat_list.append(min_lat)\n",
    "            max_lon_list.append(max_lon)\n",
    "            max_lat_list.append(max_lat)\n",
    "# Attach the event handler to the DrawControl\n",
    "draw_control.on_draw(handle_draw)\n",
    "# Arrange the map and text widget vertically\n",
    "display(widgets.VBox([m, coord_output]))"
   ]
  },
  {
   "cell_type": "markdown",
   "id": "b2ce54c6-5eca-464b-b6b4-05a5d4362f93",
   "metadata": {},
   "source": [
    "Note: the coordinates will be automatically taken to next steps, you do not need to copy them!"
   ]
  },
  {
   "cell_type": "code",
   "execution_count": 6,
   "id": "06d5af7e-1eac-441b-a4c7-8a7ed6355f19",
   "metadata": {},
   "outputs": [
    {
     "name": "stdout",
     "output_type": "stream",
     "text": [
      "WGS 84 Coordinates: [[4.232483, 52.010246], [4.43573, 52.125058]]\n",
      "Rotated Pole Coordinates: [(np.float64(-8.428593492369622), np.float64(2.045221059630215)), (np.float64(-8.284647659185556), np.float64(2.1352180634217377))]\n"
     ]
    }
   ],
   "source": [
    "# This code extracts the coordinates from the bounding box selected above and transform it to Rotated pole coordinates\n",
    "a=min_lon_list + min_lat_list\n",
    "b=max_lon_list + max_lat_list\n",
    "# Define the source and destination coordinate reference systems\n",
    "source_crs = ccrs.PlateCarree()  # WGS84 CRS\n",
    "#dest_crs = ccrs.RotatedPole(pole_longitude=190, pole_latitude=39.25, central_rotated_longitude=0)\n",
    "dest_crs = ccrs.RotatedPole(pole_latitude=39.25, pole_longitude=-162)\n",
    "# Example coordinates in WGS 84\n",
    "#wgs84_coords = [(18.528168, 49.076529), (18.965041, 49.349247)]\n",
    "wgs84_coords = [(a), (b)]\n",
    "# Perform the transformation for each pair of coordinates\n",
    "rotated_pole_coords = []\n",
    "for lon, lat in wgs84_coords:\n",
    "    rotated_pole_coords.append(dest_crs.transform_point(lon, lat, source_crs))\n",
    "print(\"WGS 84 Coordinates:\", wgs84_coords)\n",
    "print(\"Rotated Pole Coordinates:\", rotated_pole_coords)"
   ]
  },
  {
   "cell_type": "code",
   "execution_count": 7,
   "id": "5f312cbe-956f-4328-9576-dcd99511daf1",
   "metadata": {},
   "outputs": [
    {
     "name": "stdout",
     "output_type": "stream",
     "text": [
      "(4.232483, 52.010246, 4.43573, 52.125058)\n"
     ]
    }
   ],
   "source": [
    "# This code will create a list from the coordinates in WGS84\n",
    "# Original list of tuples\n",
    "list_of_tuples = wgs84_coords\n",
    "# Convert the list of tuples to a single tuple\n",
    "bbox84 = tuple(chain.from_iterable(list_of_tuples))\n",
    "print(bbox84)"
   ]
  },
  {
   "cell_type": "code",
   "execution_count": 8,
   "id": "265dbf52-39fe-4048-9047-2ef268addaf4",
   "metadata": {},
   "outputs": [
    {
     "name": "stdout",
     "output_type": "stream",
     "text": [
      "(np.float64(-8.428593492369622), np.float64(2.045221059630215), np.float64(-8.284647659185556), np.float64(2.1352180634217377))\n"
     ]
    }
   ],
   "source": [
    "# This code will create a list from the coordinates in rotated pole\n",
    "# Original list of tuples\n",
    "list_of_tuples2 = rotated_pole_coords\n",
    "# Convert the list of tuples to a single tuple\n",
    "bbox = tuple(chain.from_iterable(list_of_tuples2))\n",
    "print(bbox)"
   ]
  },
  {
   "cell_type": "markdown",
   "id": "4a26b43e-0c60-42dd-9cc1-238578b0bde6",
   "metadata": {},
   "source": [
    "### Clip data to the region of interest\n",
    "The bouding box coordinates will be automatically copied after a selection of the bbox"
   ]
  },
  {
   "cell_type": "code",
   "execution_count": 11,
   "id": "a8933b85-ced5-40ee-b494-22dd3c60c171",
   "metadata": {},
   "outputs": [],
   "source": [
    "# This code crops the downloaded data from CDS to your selected bounding box (selected area)\n",
    "dmaxch = dmaxh.rio.clip_box(minx=bbox[0], miny=bbox[1], maxx=bbox[2], maxy=bbox[3])  \n",
    "dmaxc45 = dmax45.rio.clip_box(minx=bbox[0], miny=bbox[1], maxx=bbox[2], maxy=bbox[3])  \n",
    "dmaxc85 = dmax85.rio.clip_box(minx=bbox[0], miny=bbox[1], maxx=bbox[2], maxy=bbox[3])  "
   ]
  },
  {
   "cell_type": "markdown",
   "id": "0c20c79d-61cf-4f20-bbc8-eee4c1953fc4",
   "metadata": {},
   "source": [
    "Convert the maximum temperature data from Kelvin (K) to Celsius (°C)."
   ]
  },
  {
   "cell_type": "code",
   "execution_count": 12,
   "id": "1c8c1c20-46c5-4e1e-98d1-94ff28964ea7",
   "metadata": {},
   "outputs": [],
   "source": [
    "# Max Temperature historical\n",
    "dmaxch = dmaxch['tasmax']\n",
    "tasmaxh = dmaxch - 273.15\n",
    "tasmaxh = tasmaxh.assign_attrs(dmaxch.attrs)\n",
    "tasmaxh.attrs['units']='°C'\n",
    "\n",
    "# Max Temperature rcp 45\n",
    "dmaxc45 = dmaxc45['tasmax']\n",
    "tasmax45 = dmaxc45 - 273.15\n",
    "tasmax45 = tasmax45.assign_attrs(dmaxc45.attrs)\n",
    "tasmax45.attrs['units']='°C'\n",
    "\n",
    "# Max Temperature rcp 85\n",
    "dmaxc85 = dmaxc85['tasmax']\n",
    "tasmax85 = dmaxc85 - 273.15\n",
    "tasmax85 = tasmax85.assign_attrs(dmaxc85.attrs)\n",
    "tasmax85.attrs['units']='°C'\n",
    "\n",
    "# Select a time period for maximum temperature\n",
    "# Max T\n",
    "tasmaxh = tasmaxh.sel(time=slice(\"1971-01-01\", \"2000-12-31\"))\n",
    "tasmaxp1_45 = tasmax45.sel(time=slice(\"2011-01-01\", \"2040-12-31\"))\n",
    "tasmaxp2_45 = tasmax45.sel(time=slice(\"2041-01-01\", \"2070-12-31\"))\n",
    "tasmaxp3_45 = tasmax45.sel(time=slice(\"2071-01-01\", \"2100-12-31\"))\n",
    "tasmaxp1_85 = tasmax85.sel(time=slice(\"2011-01-01\", \"2040-12-31\"))\n",
    "tasmaxp2_85 = tasmax85.sel(time=slice(\"2041-01-01\", \"2070-12-31\"))\n",
    "tasmaxp3_85 = tasmax85.sel(time=slice(\"2071-01-01\", \"2100-12-31\"))\n",
    "#tasmaxp=tasmax.sel(time=slice(\"2011-01-01\", \"2100-12-31\"))"
   ]
  },
  {
   "cell_type": "markdown",
   "id": "7c8b5627-2781-4285-850f-c21523073f74",
   "metadata": {},
   "source": [
    "### Set the temperature treshold "
   ]
  },
  {
   "cell_type": "markdown",
   "id": "0a747e40-9309-4d8f-a6b7-3e0cf4521d56",
   "metadata": {},
   "source": [
    "Set the percentile/quantile treshold for the daily maximum air temperature e.g. 0.90 quantile = 90th percentile"
   ]
  },
  {
   "cell_type": "code",
   "execution_count": 15,
   "id": "e1f5dbd9-c9cd-44c2-bc87-48233e1fc23a",
   "metadata": {},
   "outputs": [],
   "source": [
    "# the treshold given by the quantile of the maximum daily air temperature for the month for 30 years. \n",
    "temperature_threshold = 0.90 # quantile (i.e. 90% percentile is 0.9 quantile)"
   ]
  },
  {
   "cell_type": "markdown",
   "id": "ce657073-9c9a-42f6-9944-b6357c3ca7fc",
   "metadata": {},
   "source": [
    "### Define the fuction for the calculation of the number of the heatwave events"
   ]
  },
  {
   "cell_type": "markdown",
   "id": "744a5abb-cacd-4d42-ae6b-9880314b5a99",
   "metadata": {},
   "source": [
    "- For the extraction of the heatwave events in the future we use the 90percentile treshold from the reference period 1971-2000\n",
    "- You can change the 90th percentile (treshold) for your treshold in the row ### tas_maxh90=tas_maxh.chunk(dict(time=-1)).quantile(0.90,'time')\n",
    "- This will take multiple minutes (depending on the selected area, e.g. whole Catalunya = 50min)"
   ]
  },
  {
   "cell_type": "code",
   "execution_count": null,
   "id": "b233c37a-1c81-475c-a8d2-2e2ab3993237",
   "metadata": {},
   "outputs": [],
   "source": [
    "# This code calculates the heatwave occurrence for the years and months for the periods and RCP listed in the \"dirs\" and \"years\"\n",
    "# Calculation of the heatwave events based on PESETA IV\n",
    "\n",
    "print(\"loading reference data\")\n",
    "with ProgressBar():\n",
    "    tasmaxh = tasmaxh.persist()\n",
    "\n",
    "dtyy = [\n",
    "    (r1971_2000_dir, tasmaxh, 1971, 2001),\n",
    "    (r45_2011_2040_dir, tasmaxp1_45, 2011, 2041),\n",
    "    (r45_2041_2070_dir, tasmaxp2_45, 2041, 2071),\n",
    "    (r45_2071_2100_dir, tasmaxp3_45, 2071, 2101),\n",
    "    (r85_2011_2040_dir, tasmaxp1_85, 2011, 2041),\n",
    "    (r85_2041_2070_dir, tasmaxp2_85, 2041, 2071),\n",
    "    (r85_2071_2100_dir, tasmaxp3_85, 2071, 2101)\n",
    "]\n",
    "\n",
    "# Divide the time series to months \n",
    "for d, t, start_year, end_year in dtyy:\n",
    "    print(\"loading\", d)\n",
    "    with ProgressBar():\n",
    "        t = t.persist()\n",
    "    tasmax_month = tasmaxh.groupby('time.month').groups\n",
    "    tasmax_montp1 = t.groupby('time.month').groups\n",
    "\n",
    "    print(\"processing\")\n",
    "    # Calculate the heatwave occurence for all months in given period  \n",
    "    for i in range (1, 13):\n",
    "        tasmaxh_idxs = tasmax_month[i]\n",
    "        tasmaxp1_idxs = tasmax_montp1[i]\n",
    "        # Extract the  months by selecting the relevant indices\n",
    "        tas_maxh = tasmaxh.isel(time=tasmaxh_idxs)\n",
    "        tas_maxp1 = t.isel(time=tasmaxp1_idxs)      \n",
    "        # based on percentile threshold\n",
    "        tas_maxh90 = tas_maxh.chunk({ \"time\": -1 }).quantile(temperature_threshold, 'time')\n",
    "        heatp1t = xr.where(tas_maxp1>tas_maxh90, 1, 0).persist()\n",
    "        # Create + time dataset\n",
    "        vat = heatp1t\n",
    "        v1at = heatp1t[:-1,:,:]\n",
    "        v2at = heatp1t[:-2,:,:]\n",
    "        v3at = heatp1t[:-3,:,:]\n",
    "        # Create missing days\n",
    "        t1at = heatp1t[0:1,:,:]\n",
    "        t2at = heatp1t[0:2,:,:]\n",
    "        t3at = heatp1t[0:3,:,:]\n",
    "        # Concatenate missing dates to + time dataset\n",
    "        vi1at = xr.concat([t1at, v1at], dim='time')\n",
    "        vi2at = xr.concat([t2at, v2at], dim='time')\n",
    "        vi3at = xr.concat([t3at, v3at], dim='time')\n",
    "        # Change the time dimesion for correct one\n",
    "        tiat = heatp1t[\"time\"]\n",
    "        # add a time dimension\n",
    "        vi1at[\"time\"] = tiat\n",
    "        vi2at[\"time\"] = tiat\n",
    "        vi3at[\"time\"] = tiat\n",
    "        # Sum of the heatwave\n",
    "        sumvat = xr.where((vat==1)&(vi1at==1)&(vi2at==1), 1, 0) # count 3 day HW\n",
    "        sumv2at = xr.where((vat==1)&(vi1at==1)&(vi2at==1)&(vi3at==1), -1, 0)  \n",
    "        sumvatf = (sumvat+sumv2at).persist()\n",
    "        sumvyp = sumvatf.groupby('time.year').groups\n",
    "        for y in range(start_year, end_year):\n",
    "            sat1p = sumvyp[y]\n",
    "            sumt1p = sumvatf.isel(time=sat1p)\n",
    "            sumyear1p = sumt1p.sum(dim='time')\n",
    "            sumyear1p.rio.to_raster(raster_path=f'{d}/HW_' + str(y) + '_projYM_' + str(i) + '.tif')\n",
    "\n",
    "print(\"done\")"
   ]
  },
  {
   "cell_type": "markdown",
   "id": "63ab0d9e-aa34-4b9a-a197-9c5197e50d9d",
   "metadata": {},
   "source": [
    "### Sum up the heatwave events by month and years and plot the results"
   ]
  },
  {
   "cell_type": "markdown",
   "id": "58385336-a65a-4617-ae98-d2d4e223715e",
   "metadata": {},
   "source": [
    "The code below will compute the sum of the heatwave events for each month (January - December) for all selected periods in the past and the future and all RCPs:"
   ]
  },
  {
   "cell_type": "code",
   "execution_count": 11,
   "id": "da9020af-c80d-457a-931e-00d835b4755c",
   "metadata": {},
   "outputs": [],
   "source": [
    "# Sum of the heatwave events for months \n",
    "# List of data directory paths\n",
    "data_dirs = [r1971_2000_dir, r45_2011_2040_dir, r45_2041_2070_dir, r45_2071_2100_dir, r85_2011_2040_dir, r85_2041_2070_dir, r85_2071_2100_dir]\n",
    "\n",
    "for d in data_dirs:\n",
    "    for i in range (1,13):    \n",
    "        # Read a paths for heatwaves\n",
    "        HW = glob(f'{d}/*YM_' + str(i) + '.tif')\n",
    "        # Create a raster stack \n",
    "        with rasterio.open(HW[0]) as src0:\n",
    "            meta = src0.meta\n",
    "        meta.update(count = len(HW))\n",
    "        #\n",
    "        with rasterio.open(f'{d}/stackHWEUM_' + str(i) + '.tif','w', **meta) as dst:\n",
    "            for id, layer in enumerate(HW, start=1):\n",
    "                with rasterio.open(layer) as src1:\n",
    "                    dst.write_band(id, src1.read(1))\n",
    "        #\n",
    "    for i in range (1, 13):    \n",
    "        HWEUpm=f'{d}/stackHWEUM_' + str(i) + '.tif'\n",
    "        HWEUpm= xr.open_dataset(HWEUpm)\n",
    "        HWEUpm=HWEUpm.sum(dim='band', skipna=True,  keep_attrs=True)\n",
    "        HWEUpm=HWEUpm['band_data']\n",
    "        HWEUpm.rio.to_raster(raster_path=f'{d}/HWsumM_' + str(i) + '.tif')\n",
    "    #\n",
    "    HW = sorted (glob(f'{d}/HWsumM_*'), key=os.path.getmtime)\n",
    "    # Create a raster stack \n",
    "    with rasterio.open(HW[0]) as src0:\n",
    "        meta = src0.meta\n",
    "    meta.update(count = len(HW))\n",
    "    #\n",
    "    with rasterio.open(f'{d}/HWsumM.tif','w', **meta) as dst:\n",
    "        for id, layer in enumerate(HW, start=1):\n",
    "            with rasterio.open(layer) as src1:\n",
    "                dst.write_band(id, src1.read(1))"
   ]
  },
  {
   "cell_type": "markdown",
   "id": "d52b8bfd-1cff-44b2-9083-e7c5aff4e178",
   "metadata": {},
   "source": [
    "This code will compute the sum of the heatwave events for each period for all RCPs:"
   ]
  },
  {
   "cell_type": "code",
   "execution_count": 4,
   "id": "f8e67cb9-23ab-4dfa-b48d-f2c658a78560",
   "metadata": {},
   "outputs": [],
   "source": [
    "# Sum of the heatwave events for years \n",
    "data_dirs = [r1971_2000_dir, r45_2011_2040_dir, r45_2041_2070_dir, r45_2071_2100_dir, r85_2011_2040_dir, r85_2041_2070_dir, r85_2071_2100_dir]\n",
    "years = [(1971,2001),(2011,2041),(2041,2071),(2071,2101),(2011,2041),(2041,2071),(2071,2101)]\n",
    "\n",
    "for d, year_range in zip(data_dirs, years):\n",
    "    start_year, end_year = year_range\n",
    "    for i in range(start_year, end_year):      \n",
    "        # Read a paths for heatwaves\n",
    "        HW = glob(f'{d}/HW_' + str(i) + '*')\n",
    "        # Create a raster stack \n",
    "        with rasterio.open(HW[0]) as src0:\n",
    "            meta = src0.meta\n",
    "        #\n",
    "        meta.update(count = len(HW))\n",
    "        #\n",
    "        with rasterio.open(f'{d}/stackHWEUY_' + str(i) + '.tif','w', **meta) as dst:\n",
    "            for id, layer in enumerate(HW, start=1):\n",
    "                with rasterio.open(layer) as src1:\n",
    "                    dst.write_band(id, src1.read(1))\n",
    "    ##################################################\n",
    "    for i in range(start_year, end_year):    \n",
    "        HWEUp=f'{d}/stackHWEUY_' + str(i) + '.tif'\n",
    "        HWEUp= xr.open_dataset(HWEUp)\n",
    "        HWEUp=HWEUp.sum(dim='band', skipna=True,  keep_attrs=True)\n",
    "        HWEUp=HWEUp['band_data']\n",
    "        HWEUp.rio.to_raster(raster_path=f'{d}/HWsumY_' + str(i) + '.tif')\n",
    "    ##################################################\n",
    "    # Read a paths for heatwaves\n",
    "    HW = sorted (glob(f'{d}/HWsumY_*'), key=os.path.getmtime)\n",
    "    # Create a raster stack \n",
    "    with rasterio.open(HW[0]) as src0:\n",
    "        meta = src0.meta\n",
    "    #\n",
    "    meta.update(count = len(HW))\n",
    "    #\n",
    "    with rasterio.open(f'{d}/HWsumY.tif','w', **meta) as dst:\n",
    "        for id, layer in enumerate(HW, start=1):\n",
    "            with rasterio.open(layer) as src1:\n",
    "                dst.write_band(id, src1.read(1))  "
   ]
  },
  {
   "cell_type": "markdown",
   "id": "442de968-31f0-4391-99ed-b8312106219c",
   "metadata": {},
   "source": [
    "### Reproject the rasters to WGS84 (EPSG:4326)\n",
    "With this code you will reproject the data from Rotated Pole to WGS84 (EPSG:4326) CRS. We need the WGS84 because the ipyleaflet maps work with this CRS."
   ]
  },
  {
   "cell_type": "code",
   "execution_count": 5,
   "id": "79cd19e3-99d0-4abb-81ec-db6caac7153b",
   "metadata": {},
   "outputs": [],
   "source": [
    "# This code reprojects the computed data from the rotated pole to WGS84 (EPSG:4326)\n",
    "# Define your data directories\n",
    "data_dirs = [r1971_2000_dir, r45_2011_2040_dir, r45_2041_2070_dir, r45_2071_2100_dir, r85_2011_2040_dir, r85_2041_2070_dir, r85_2071_2100_dir]\n",
    "# Define the target CRS\n",
    "target_crs = 'EPSG:4326'  # WGS84\n",
    "for d in data_dirs:\n",
    "    # Open dataset\n",
    "    HWbarhm = xr.open_dataset(f'{d}/HWsumM.tif')['band_data']\n",
    "    HWbarhy = xr.open_dataset(f'{d}/HWsumY.tif')['band_data']\n",
    "    # Write CRS information\n",
    "    HWbarhm.rio.write_crs(rotated_pole, inplace=True)\n",
    "    HWbarhy.rio.write_crs(rotated_pole, inplace=True)\n",
    "    # Reproject the raster dataset\n",
    "    HWbarhm_reprojected = HWbarhm.rio.reproject(target_crs)\n",
    "    HWbarhy_reprojected = HWbarhy.rio.reproject(target_crs)\n",
    "    # Replace NaN values\n",
    "    HWbarhm_reprojected = HWbarhm_reprojected.where(HWbarhm_reprojected != 1.7976931348623157e+308, np.nan)\n",
    "    HWbarhy_reprojected = HWbarhy_reprojected.where(HWbarhy_reprojected != 1.7976931348623157e+308, np.nan)\n",
    "    # Optionally, you can save the reprojected raster to a new file\n",
    "    HWbarhm_reprojected.rio.to_raster(raster_path=f'{d}/HWbarM_reprojected.tif')\n",
    "    HWbarhy_reprojected.rio.to_raster(raster_path=f'{d}/HWbarY_reprojected.tif')\n",
    "    # Calculate mean and save to raster\n",
    "    HWhy_mean = HWbarhy_reprojected.mean(dim='band', skipna=True, keep_attrs=True)\n",
    "    HWhy_mean.rio.to_raster(raster_path=f'{d}/HWY_mean.tif')"
   ]
  },
  {
   "cell_type": "markdown",
   "id": "fa2e5296-d618-43be-821c-ddd25208c163",
   "metadata": {},
   "source": [
    "### Select the location for plotting"
   ]
  },
  {
   "cell_type": "markdown",
   "id": "86d1dd05-2172-4224-9f5e-9a6dd611a00c",
   "metadata": {},
   "source": [
    "With this code, you select the point on the map, for which you want to plot the bar and line graphs (select only one point, if you accidentally select multiple points, run this code (below) again and select the point again)"
   ]
  },
  {
   "cell_type": "code",
   "execution_count": 3,
   "id": "827da122-eb10-48ab-b675-a8092b3fa26f",
   "metadata": {},
   "outputs": [
    {
     "data": {
      "application/vnd.jupyter.widget-view+json": {
       "model_id": "6b662af6b0f7485e8c89f9c4ed5ebfb2",
       "version_major": 2,
       "version_minor": 0
      },
      "text/plain": [
       "VBox(children=(Map(center=[41.616247, 1.6490234999999998], controls=(ZoomControl(options=['position', 'zoom_in…"
      ]
     },
     "metadata": {},
     "output_type": "display_data"
    }
   ],
   "source": [
    "# This code plots the map, where you will select the point for which you want to plot a graphs \n",
    "# First, create a tile server from the local raster file\n",
    "data_dirs = [r1971_2000_dir, r45_2011_2040_dir, r45_2041_2070_dir, r45_2071_2100_dir, r85_2011_2040_dir, r85_2041_2070_dir, r85_2071_2100_dir]\n",
    "client1 = TileClient(f'{r1971_2000_dir}/HWY_mean.tif')\n",
    "# Create ipyleaflet tile layer from that server\n",
    "t1 = get_leaflet_tile_layer(client1, band= [1], cmap='Reds', opacity=0.5, nodata = 0, name='heatwave mean occurence 1971-2000')\n",
    "\n",
    "m = Map(center=client1.center(), zoom=client1.default_zoom)\n",
    "\n",
    "m.add(t1)\n",
    "\n",
    "control = LayersControl(position='topright')\n",
    "m.add_control(control)\n",
    "# Create lists to store point coordinates\n",
    "point_lon_list = []\n",
    "point_lat_list = []\n",
    "# Create a DrawControl with point drawing enabled\n",
    "draw_control = DrawControl(marker={'shapeOptions': {'color': '#FF0000'}})\n",
    "# Add the DrawControl to the map\n",
    "m.add_control(draw_control)\n",
    "# Create a text widget to display coordinates\n",
    "coord_output = widgets.Text(placeholder='Coordinates will appear here', disabled=True)\n",
    "# Define a function to handle draw events\n",
    "def handle_draw(self, action, geo_json):\n",
    "    if action == 'created':\n",
    "        if geo_json['geometry']['type'] == 'Point':\n",
    "            # Extract coordinates of the point\n",
    "            lon, lat = geo_json['geometry']['coordinates']\n",
    "            # Update text widget with coordinates\n",
    "            coord_output.value = f'Coordinates: ({lon:.2f}, {lat:.2f})'\n",
    "            # Append coordinates to lists\n",
    "            point_lon_list.append(lon)\n",
    "            point_lat_list.append(lat)\n",
    "            # Create and add a marker to the map\n",
    "            marker = Marker(location=(lat, lon))\n",
    "            m.add_layer(marker)\n",
    "# Attach the event handler to the DrawControl\n",
    "draw_control.on_draw(handle_draw)\n",
    "# Arrange the map and text widget vertically\n",
    "display(widgets.VBox([m, coord_output]))"
   ]
  },
  {
   "cell_type": "markdown",
   "id": "077bad7a-3cdc-4804-b557-d3753504c820",
   "metadata": {},
   "source": [
    "- Select only one point with a flag from the left panel (point marker) from within the bbox which you choose, the coordinate will be automatically copied to the next code\n",
    "- If you accidentally select multiple points, reload the map again (only deleting the point will not help)\n",
    "- This plot is only illustrative, for the selection of the pixel for plotting of the graphs. \n",
    "- **The skewness of the raster was caused by the transformation of the coordinate system**"
   ]
  },
  {
   "cell_type": "markdown",
   "id": "23f14b88-2478-4ea0-b436-4a6fa19ff151",
   "metadata": {},
   "source": [
    "### Extract the values from the multi-and rasters based on the selected point \n",
    "- This code will extract values needed for the plotting of the results"
   ]
  },
  {
   "cell_type": "code",
   "execution_count": 10,
   "id": "cd82f6a6-edeb-4a65-be05-ab4343aadcea",
   "metadata": {},
   "outputs": [],
   "source": [
    "# This code extract the data for the selected point in the map above\n",
    "data_dirs=[r1971_2000_dir, r45_2011_2040_dir, r45_2041_2070_dir, r45_2071_2100_dir, r85_2011_2040_dir, r85_2041_2070_dir, r85_2071_2100_dir]\n",
    "def latlon_to_pixel(raster_file, lat, lon):\n",
    "    with rasterio.open(raster_file) as src:\n",
    "        row, col = src.index(lon, lat)\n",
    "        return row, col\n",
    "def get_pixel_values(raster_file, lat, lon):\n",
    "    with rasterio.open(raster_file) as src:\n",
    "        row, col = latlon_to_pixel(raster_file, lat, lon)\n",
    "        pixel_values = [band[row, col] for band in src.read()]\n",
    "        return pixel_values\n",
    "# Generate raster file paths\n",
    "raster_files = []\n",
    "for data_dir in data_dirs:\n",
    "    raster_files.extend([\n",
    "        f'{data_dir}/HWbarM_reprojected.tif',\n",
    "        f'{data_dir}/HWbarY_reprojected.tif'\n",
    "    ])\n",
    "# Example latitude and longitude\n",
    "lat = point_lat_list[0]\n",
    "lon = point_lon_list[0]\n",
    "# Get pixel values for each raster file\n",
    "pixel_values = {}\n",
    "for raster_file in raster_files:\n",
    "    pixel_values[raster_file] = get_pixel_values(raster_file, lat, lon)\n",
    "# Example usage:\n",
    "pixel_values_hm = pixel_values[f'{r1971_2000_dir}/HWbarM_reprojected.tif']\n",
    "pixel_values_hy = pixel_values[f'{r1971_2000_dir}/HWbarY_reprojected.tif']\n",
    "pixel_values_p1m_45 = pixel_values[f'{r45_2011_2040_dir}/HWbarM_reprojected.tif']\n",
    "pixel_values_p1y_45 = pixel_values[f'{r45_2011_2040_dir}/HWbarY_reprojected.tif']\n",
    "pixel_values_p2m_45 = pixel_values[f'{r45_2041_2070_dir}/HWbarM_reprojected.tif']\n",
    "pixel_values_p2y_45 = pixel_values[f'{r45_2041_2070_dir}/HWbarY_reprojected.tif']\n",
    "pixel_values_p3m_45 = pixel_values[f'{r45_2071_2100_dir}/HWbarM_reprojected.tif']\n",
    "pixel_values_p3y_45 = pixel_values[f'{r45_2071_2100_dir}/HWbarY_reprojected.tif']\n",
    "pixel_values_p1m_85 = pixel_values[f'{r85_2011_2040_dir}/HWbarM_reprojected.tif']\n",
    "pixel_values_p1y_85 = pixel_values[f'{r85_2011_2040_dir}/HWbarY_reprojected.tif']\n",
    "pixel_values_p2m_85 = pixel_values[f'{r85_2041_2070_dir}/HWbarM_reprojected.tif']\n",
    "pixel_values_p2y_85 = pixel_values[f'{r85_2041_2070_dir}/HWbarY_reprojected.tif']\n",
    "pixel_values_p3m_85 = pixel_values[f'{r85_2071_2100_dir}/HWbarM_reprojected.tif']\n",
    "pixel_values_p3y_85 = pixel_values[f'{r85_2071_2100_dir}/HWbarY_reprojected.tif']"
   ]
  },
  {
   "cell_type": "markdown",
   "id": "16adcf13-befb-49f9-aa9d-12bc40f7e59a",
   "metadata": {},
   "source": [
    "### Plot the comparison by months for selected location"
   ]
  },
  {
   "cell_type": "markdown",
   "id": "6bc8f54f-2405-4ec0-9b31-4755a85f176c",
   "metadata": {},
   "source": [
    "Plot the bar chart comparison of the heatwave occurrence for the selected point."
   ]
  },
  {
   "cell_type": "code",
   "execution_count": 13,
   "id": "145153f7-6d7f-40bc-8d82-60214a540143",
   "metadata": {},
   "outputs": [
    {
     "data": {
      "image/png": "[encoded data removed]",
      "text/plain": [
       "<Figure size 640x480 with 1 Axes>"
      ]
     },
     "metadata": {},
     "output_type": "display_data"
    }
   ],
   "source": [
    "# This code plots the results for the selected point \n",
    "#list_values= [pixel_values_p1m, pixel_values_p2m, pixel_values_p3m]\n",
    "month = ['Jan', 'Feb', 'Mar', 'Apr', 'May', 'Jun',\n",
    "          'Jul', 'Aug', 'Sep', 'Oct', 'Nov', 'Dec']\n",
    "bar = pixel_values_hm\n",
    "line1 = pixel_values_p1m_45\n",
    "line2 = pixel_values_p2m_45\n",
    "line3 = pixel_values_p3m_45\n",
    "line4 = pixel_values_p1m_85\n",
    "line5 = pixel_values_p2m_85\n",
    "line6 = pixel_values_p3m_85\n",
    "fig, ax = plt.subplots()\n",
    "ax.bar(month, bar, label='1971-2000')\n",
    "ax.plot(month, line1, color='blue', marker='o', label='2011-2040 (rcp 4.5)')\n",
    "ax.plot(month, line2, color='blue', marker=\"^\", label='2041-2070 (rcp 4.5)')\n",
    "ax.plot(month, line3, color='blue', marker='s', label='2071-2100 (rcp 4.5)')\n",
    "ax.plot(month, line4, color='red', marker='o', label='2011-2040 (rcp 8.5)')\n",
    "ax.plot(month, line5, color='red', marker=\"^\", label='2041-2070 (rcp 8.5)')\n",
    "ax.plot(month, line6, color='red', marker='s', label='2071-2100 (rcp 8.5)')\n",
    "ax.set_xlabel('Month')\n",
    "ax.set_ylabel('Number of heatwave occurrences')\n",
    "ax.set_title('heatwave occurrence in selected area', fontsize=20, pad=10)\n",
    "ax.legend()\n",
    "ax.grid(True, linestyle='--', alpha=0.7)\n",
    "plt.subplots_adjust(left=0.1, bottom=0.1, right=2, top=0.9)\n",
    "plt.show()"
   ]
  },
  {
   "cell_type": "markdown",
   "id": "2ea82d87-b1e6-4fec-a7a1-b8140650b84f",
   "metadata": {},
   "source": [
    "- This graph compares the heatwave occurrence for month of years 1971-2000 and 2011-2040, 2041-2070, 2071-2100 for RCP 4.5 and 8.5\n",
    "- The heatwave occurrence for months is based on the 90-percentile treshold for each month from reference period 1971-2000. This treshold was used for all projection periods. That's why we can also find heatwaves in the winter and autumn months. We should understand the heatwave occurrence in the winter and autumn months, as a periods when the daily maximum temperature exceeds the 90th percentile temperature threshold computed for the given month from 30 years reference (historical) period 1971-2000.\n",
    "- These results give us an idea of heatwave distribution throughout the year in the past and in the near and far future for different scenarios RCPs\n",
    "- We need to also realize that the heat occurrence in the winter will have a different impact than the heat occurrence in the summer. The winter heat occurrence can influence the of the snow, animals, and plants for more see [[Heat effects on human nature](https://theconversation.com/four-ways-winter-heatwaves-affect-humans-and-nature-197365)]. The summer heatwaves will have a negative effect on the human health, water scarcity etc. [[Climate adapt effect on human health](https://climate-adapt.eea.europa.eu/en/knowledge/tools/urban-adaptation/climatic-threats/heatwaves)]"
   ]
  },
  {
   "cell_type": "markdown",
   "id": "e3a1181a-bf27-43f3-88a8-3e78a42c9be2",
   "metadata": {},
   "source": [
    "### Plot the comparison by years for the selected location"
   ]
  },
  {
   "cell_type": "markdown",
   "id": "96245050-d109-44dc-8480-38805f6fac2e",
   "metadata": {},
   "source": [
    "We compare the heatwave occurrence in the observed period (1971-2000) and projection (2011-2100) for chosen climate scenario. We selected these periods because these are the most used climate periods by CDS. "
   ]
  },
  {
   "cell_type": "markdown",
   "id": "a4ddc5af-a8b2-4b9a-b485-7eb324cb662b",
   "metadata": {},
   "source": [
    "- On this graph you can see the heatwave occurence for the reference period 1971-2000 and projection periods 2011-2100\n",
    "- The number of heatwave occurence for each year represents the the sum of the heat have occurence for each year (also winter and autumn months)"
   ]
  },
  {
   "cell_type": "code",
   "execution_count": 33,
   "id": "5ca8593b-6454-4125-8981-2f5c22075d30",
   "metadata": {},
   "outputs": [
    {
     "data": {
      "application/vnd.plotly.v1+json": {
       "config": {
        "plotlyServerURL": "https://plot.ly"
       },
       "data": [
        {
         "marker": {
          "color": "blue"
         },
         "name": "RCP 4.5",
         "type": "bar",
         "x": [
          1971,
          1972,
          1973,
          1974,
          1975,
          1976,
          1977,
          1978,
          1979,
          1980,
          1981,
          1982,
          1983,
          1984,
          1985,
          1986,
          1987,
          1988,
          1989,
          1990,
          1991,
          1992,
          1993,
          1994,
          1995,
          1996,
          1997,
          1998,
          1999,
          2000,
          2011,
          2012,
          2013,
          2014,
          2015,
          2016,
          2017,
          2018,
          2019,
          2020,
          2021,
          2022,
          2023,
          2024,
          2025,
          2026,
          2027,
          2028,
          2029,
          2030,
          2031,
          2032,
          2033,
          2034,
          2035,
          2036,
          2037,
          2038,
          2039,
          2040,
          2041,
          2042,
          2043,
          2044,
          2045,
          2046,
          2047,
          2048,
          2049,
          2050,
          2051,
          2052,
          2053,
          2054,
          2055,
          2056,
          2057,
          2058,
          2059,
          2060,
          2061,
          2062,
          2063,
          2064,
          2065,
          2066,
          2067,
          2068,
          2069,
          2070,
          2071,
          2072,
          2073,
          2074,
          2075,
          2076,
          2077,
          2078,
          2079,
          2080,
          2081,
          2082,
          2083,
          2084,
          2085,
          2086,
          2087,
          2088,
          2089,
          2090,
          2091,
          2092,
          2093,
          2094,
          2095,
          2096,
          2097,
          2098,
          2099,
          2100
         ],
         "y": [
          3,
          6,
          7,
          8,
          9,
          5,
          5,
          5,
          3,
          1,
          6,
          4,
          2,
          3,
          0,
          9,
          8,
          5,
          3,
          6,
          2,
          2,
          1,
          1,
          3,
          9,
          4,
          3,
          4,
          1,
          6,
          3,
          3,
          0,
          10,
          3,
          7,
          5,
          8,
          2,
          7,
          6,
          4,
          2,
          4,
          9,
          8,
          9,
          8,
          8,
          7,
          6,
          5,
          3,
          8,
          3,
          9,
          5,
          16,
          10,
          11,
          8,
          6,
          12,
          6,
          4,
          13,
          9,
          8,
          6,
          7,
          8,
          9,
          12,
          13,
          11,
          11,
          9,
          11,
          14,
          7,
          10,
          12,
          12,
          8,
          9,
          13,
          5,
          7,
          8,
          11,
          7,
          8,
          7,
          10,
          10,
          6,
          9,
          9,
          7,
          8,
          10,
          8,
          12,
          9,
          7,
          15,
          13,
          10,
          5,
          6,
          10,
          18,
          14,
          11,
          9,
          8,
          8,
          4,
          15
         ]
        },
        {
         "marker": {
          "color": "red"
         },
         "name": "RCP 8.5",
         "opacity": 0.5,
         "type": "bar",
         "x": [
          1971,
          1972,
          1973,
          1974,
          1975,
          1976,
          1977,
          1978,
          1979,
          1980,
          1981,
          1982,
          1983,
          1984,
          1985,
          1986,
          1987,
          1988,
          1989,
          1990,
          1991,
          1992,
          1993,
          1994,
          1995,
          1996,
          1997,
          1998,
          1999,
          2000,
          2011,
          2012,
          2013,
          2014,
          2015,
          2016,
          2017,
          2018,
          2019,
          2020,
          2021,
          2022,
          2023,
          2024,
          2025,
          2026,
          2027,
          2028,
          2029,
          2030,
          2031,
          2032,
          2033,
          2034,
          2035,
          2036,
          2037,
          2038,
          2039,
          2040,
          2041,
          2042,
          2043,
          2044,
          2045,
          2046,
          2047,
          2048,
          2049,
          2050,
          2051,
          2052,
          2053,
          2054,
          2055,
          2056,
          2057,
          2058,
          2059,
          2060,
          2061,
          2062,
          2063,
          2064,
          2065,
          2066,
          2067,
          2068,
          2069,
          2070,
          2071,
          2072,
          2073,
          2074,
          2075,
          2076,
          2077,
          2078,
          2079,
          2080,
          2081,
          2082,
          2083,
          2084,
          2085,
          2086,
          2087,
          2088,
          2089,
          2090,
          2091,
          2092,
          2093,
          2094,
          2095,
          2096,
          2097,
          2098,
          2099,
          2100
         ],
         "y": [
          3,
          6,
          7,
          8,
          9,
          5,
          5,
          5,
          3,
          1,
          6,
          4,
          2,
          3,
          0,
          9,
          8,
          5,
          3,
          6,
          2,
          2,
          1,
          1,
          3,
          9,
          4,
          3,
          4,
          1,
          5,
          10,
          4,
          5,
          7,
          3,
          9,
          4,
          4,
          4,
          6,
          5,
          2,
          7,
          7,
          7,
          1,
          7,
          8,
          7,
          11,
          9,
          7,
          2,
          6,
          7,
          5,
          7,
          7,
          13,
          5,
          10,
          11,
          4,
          7,
          9,
          11,
          12,
          3,
          10,
          16,
          9,
          11,
          10,
          6,
          5,
          12,
          11,
          10,
          10,
          10,
          18,
          11,
          14,
          20,
          9,
          12,
          16,
          11,
          12,
          10,
          10,
          11,
          13,
          19,
          13,
          15,
          15,
          17,
          13,
          12,
          16,
          20,
          23,
          11,
          19,
          15,
          24,
          18,
          20,
          19,
          22,
          26,
          23,
          20,
          24,
          19,
          19,
          28,
          21
         ]
        },
        {
         "line": {
          "color": "blue"
         },
         "mode": "lines",
         "name": "RCP 4.5 trend",
         "type": "scatter",
         "x": [
          1971,
          1972,
          1973,
          1974,
          1975,
          1976,
          1977,
          1978,
          1979,
          1980,
          1981,
          1982,
          1983,
          1984,
          1985,
          1986,
          1987,
          1988,
          1989,
          1990,
          1991,
          1992,
          1993,
          1994,
          1995,
          1996,
          1997,
          1998,
          1999,
          2000,
          2011,
          2012,
          2013,
          2014,
          2015,
          2016,
          2017,
          2018,
          2019,
          2020,
          2021,
          2022,
          2023,
          2024,
          2025,
          2026,
          2027,
          2028,
          2029,
          2030,
          2031,
          2032,
          2033,
          2034,
          2035,
          2036,
          2037,
          2038,
          2039,
          2040,
          2041,
          2042,
          2043,
          2044,
          2045,
          2046,
          2047,
          2048,
          2049,
          2050,
          2051,
          2052,
          2053,
          2054,
          2055,
          2056,
          2057,
          2058,
          2059,
          2060,
          2061,
          2062,
          2063,
          2064,
          2065,
          2066,
          2067,
          2068,
          2069,
          2070,
          2071,
          2072,
          2073,
          2074,
          2075,
          2076,
          2077,
          2078,
          2079,
          2080,
          2081,
          2082,
          2083,
          2084,
          2085,
          2086,
          2087,
          2088,
          2089,
          2090,
          2091,
          2092,
          2093,
          2094,
          2095,
          2096,
          2097,
          2098,
          2099,
          2100
         ],
         "y": [
          3.643939393939396,
          3.705245734657501,
          3.7665520753756065,
          3.827858416093712,
          3.8891647568118177,
          3.950471097529923,
          4.0117774382480285,
          4.073083778966134,
          4.134390119684239,
          4.195696460402345,
          4.25700280112045,
          4.318309141838555,
          4.379615482556661,
          4.440921823274766,
          4.502228163992871,
          4.563534504710978,
          4.624840845429083,
          4.686147186147188,
          4.747453526865294,
          4.808759867583399,
          4.8700662083015045,
          4.93137254901961,
          4.992678889737715,
          5.053985230455821,
          5.115291571173926,
          5.176597911892031,
          5.237904252610137,
          5.299210593328242,
          5.360516934046348,
          5.421823274764453,
          5.483129615482559,
          5.544435956200664,
          5.60574229691877,
          5.667048637636875,
          5.7283549783549805,
          5.789661319073086,
          5.850967659791191,
          5.912274000509297,
          5.973580341227402,
          6.034886681945507,
          6.096193022663613,
          6.157499363381719,
          6.2188057040998235,
          6.28011204481793,
          6.341418385536034,
          6.4027247262541405,
          6.464031066972245,
          6.525337407690351,
          6.586643748408457,
          6.647950089126562,
          6.709256429844667,
          6.770562770562773,
          6.831869111280878,
          6.893175451998983,
          6.95448179271709,
          7.015788133435194,
          7.0770944741533,
          7.138400814871405,
          7.199707155589511,
          7.261013496307616,
          7.322319837025722,
          7.383626177743827,
          7.444932518461933,
          7.506238859180038,
          7.567545199898143,
          7.628851540616249,
          7.690157881334354,
          7.75146422205246,
          7.812770562770565,
          7.874076903488671,
          7.9353832442067755,
          7.996689584924882,
          8.057995925642986,
          8.119302266361093,
          8.180608607079197,
          8.241914947797303,
          8.303221288515408,
          8.364527629233514,
          8.425833969951618,
          8.487140310669725,
          8.548446651387831,
          8.609752992105935,
          8.671059332824042,
          8.732365673542146,
          8.793672014260252,
          8.854978354978357,
          8.916284695696463,
          8.977591036414568,
          9.038897377132674,
          9.100203717850778,
          9.161510058568885,
          9.22281639928699,
          9.284122740005095,
          9.345429080723202,
          9.406735421441306,
          9.468041762159412,
          9.529348102877517,
          9.590654443595623,
          9.651960784313728,
          9.713267125031834,
          9.774573465749938,
          9.835879806468045,
          9.897186147186149,
          9.958492487904255,
          10.01979882862236,
          10.081105169340466,
          10.14241151005857,
          10.203717850776677,
          10.265024191494783,
          10.326330532212888,
          10.387636872930994,
          10.448943213649098,
          10.510249554367205,
          10.571555895085309,
          10.632862235803415,
          10.69416857652152,
          10.755474917239626,
          10.81678125795773,
          10.878087598675837,
          10.939393939393941
         ]
        },
        {
         "line": {
          "color": "red"
         },
         "mode": "lines",
         "name": "RCP 8.5 trend",
         "type": "scatter",
         "x": [
          1971,
          1972,
          1973,
          1974,
          1975,
          1976,
          1977,
          1978,
          1979,
          1980,
          1981,
          1982,
          1983,
          1984,
          1985,
          1986,
          1987,
          1988,
          1989,
          1990,
          1991,
          1992,
          1993,
          1994,
          1995,
          1996,
          1997,
          1998,
          1999,
          2000,
          2011,
          2012,
          2013,
          2014,
          2015,
          2016,
          2017,
          2018,
          2019,
          2020,
          2021,
          2022,
          2023,
          2024,
          2025,
          2026,
          2027,
          2028,
          2029,
          2030,
          2031,
          2032,
          2033,
          2034,
          2035,
          2036,
          2037,
          2038,
          2039,
          2040,
          2041,
          2042,
          2043,
          2044,
          2045,
          2046,
          2047,
          2048,
          2049,
          2050,
          2051,
          2052,
          2053,
          2054,
          2055,
          2056,
          2057,
          2058,
          2059,
          2060,
          2061,
          2062,
          2063,
          2064,
          2065,
          2066,
          2067,
          2068,
          2069,
          2070,
          2071,
          2072,
          2073,
          2074,
          2075,
          2076,
          2077,
          2078,
          2079,
          2080,
          2081,
          2082,
          2083,
          2084,
          2085,
          2086,
          2087,
          2088,
          2089,
          2090,
          2091,
          2092,
          2093,
          2094,
          2095,
          2096,
          2097,
          2098,
          2099,
          2100
         ],
         "y": [
          0.747520661157026,
          0.897982498784639,
          1.048444336412252,
          1.1989061740398652,
          1.3493680116674782,
          1.4998298492950912,
          1.6502916869227042,
          1.8007535245503172,
          1.9512153621779302,
          2.1016771998055432,
          2.2521390374331562,
          2.4026008750607692,
          2.5530627126883827,
          2.7035245503159953,
          2.8539863879436087,
          3.0044482255712213,
          3.1549100631988347,
          3.3053719008264473,
          3.4558337384540607,
          3.6062955760816733,
          3.7567574137092867,
          3.9072192513368993,
          4.057681088964513,
          4.208142926592125,
          4.358604764219739,
          4.509066601847352,
          4.659528439474965,
          4.809990277102577,
          4.960452114730191,
          5.110913952357803,
          5.261375789985417,
          5.411837627613029,
          5.562299465240643,
          5.712761302868256,
          5.863223140495869,
          6.013684978123482,
          6.164146815751095,
          6.314608653378708,
          6.465070491006321,
          6.615532328633934,
          6.765994166261547,
          6.91645600388916,
          7.066917841516773,
          7.217379679144386,
          7.367841516771999,
          7.518303354399612,
          7.668765192027225,
          7.819227029654838,
          7.969688867282452,
          8.120150704910065,
          8.270612542537679,
          8.42107438016529,
          8.571536217792904,
          8.721998055420517,
          8.872459893048129,
          9.022921730675742,
          9.173383568303356,
          9.32384540593097,
          9.474307243558581,
          9.624769081186194,
          9.775230918813808,
          9.925692756441421,
          10.076154594069033,
          10.226616431696646,
          10.37707826932426,
          10.527540106951873,
          10.678001944579487,
          10.828463782207098,
          10.978925619834712,
          11.129387457462325,
          11.279849295089939,
          11.43031113271755,
          11.580772970345164,
          11.731234807972777,
          11.88169664560039,
          12.032158483228002,
          12.182620320855616,
          12.33308215848323,
          12.483543996110843,
          12.634005833738454,
          12.784467671366068,
          12.934929508993681,
          13.085391346621295,
          13.235853184248908,
          13.38631502187652,
          13.536776859504133,
          13.687238697131747,
          13.83770053475936,
          13.988162372386972,
          14.138624210014585,
          14.289086047642199,
          14.439547885269812,
          14.590009722897424,
          14.740471560525037,
          14.89093339815265,
          15.041395235780264,
          15.191857073407878,
          15.34231891103549,
          15.492780748663103,
          15.643242586290716,
          15.79370442391833,
          15.944166261545941,
          16.094628099173555,
          16.24508993680117,
          16.39555177442878,
          16.546013612056395,
          16.69647544968401,
          16.84693728731162,
          16.997399124939232,
          17.147860962566845,
          17.29832280019446,
          17.448784637822072,
          17.599246475449686,
          17.7497083130773,
          17.900170150704913,
          18.050631988332526,
          18.201093825960136,
          18.35155566358775,
          18.502017501215363,
          18.652479338842976
         ]
        }
       ],
       "layout": {
        "height": 500,
        "legend": {
         "orientation": "h",
         "traceorder": "normal",
         "x": 0,
         "y": 1
        },
        "template": {
         "data": {
          "bar": [
           {
            "error_x": {
             "color": "#2a3f5f"
            },
            "error_y": {
             "color": "#2a3f5f"
            },
            "marker": {
             "line": {
              "color": "#E5ECF6",
              "width": 0.5
             },
             "pattern": {
              "fillmode": "overlay",
              "size": 10,
              "solidity": 0.2
             }
            },
            "type": "bar"
           }
          ],
          "barpolar": [
           {
            "marker": {
             "line": {
              "color": "#E5ECF6",
              "width": 0.5
             },
             "pattern": {
              "fillmode": "overlay",
              "size": 10,
              "solidity": 0.2
             }
            },
            "type": "barpolar"
           }
          ],
          "carpet": [
           {
            "aaxis": {
             "endlinecolor": "#2a3f5f",
             "gridcolor": "white",
             "linecolor": "white",
             "minorgridcolor": "white",
             "startlinecolor": "#2a3f5f"
            },
            "baxis": {
             "endlinecolor": "#2a3f5f",
             "gridcolor": "white",
             "linecolor": "white",
             "minorgridcolor": "white",
             "startlinecolor": "#2a3f5f"
            },
            "type": "carpet"
           }
          ],
          "choropleth": [
           {
            "colorbar": {
             "outlinewidth": 0,
             "ticks": ""
            },
            "type": "choropleth"
           }
          ],
          "contour": [
           {
            "colorbar": {
             "outlinewidth": 0,
             "ticks": ""
            },
            "colorscale": [
             [
              0,
              "#0d0887"
             ],
             [
              0.1111111111111111,
              "#46039f"
             ],
             [
              0.2222222222222222,
              "#7201a8"
             ],
             [
              0.3333333333333333,
              "#9c179e"
             ],
             [
              0.4444444444444444,
              "#bd3786"
             ],
             [
              0.5555555555555556,
              "#d8576b"
             ],
             [
              0.6666666666666666,
              "#ed7953"
             ],
             [
              0.7777777777777778,
              "#fb9f3a"
             ],
             [
              0.8888888888888888,
              "#fdca26"
             ],
             [
              1,
              "#f0f921"
             ]
            ],
            "type": "contour"
           }
          ],
          "contourcarpet": [
           {
            "colorbar": {
             "outlinewidth": 0,
             "ticks": ""
            },
            "type": "contourcarpet"
           }
          ],
          "heatmap": [
           {
            "colorbar": {
             "outlinewidth": 0,
             "ticks": ""
            },
            "colorscale": [
             [
              0,
              "#0d0887"
             ],
             [
              0.1111111111111111,
              "#46039f"
             ],
             [
              0.2222222222222222,
              "#7201a8"
             ],
             [
              0.3333333333333333,
              "#9c179e"
             ],
             [
              0.4444444444444444,
              "#bd3786"
             ],
             [
              0.5555555555555556,
              "#d8576b"
             ],
             [
              0.6666666666666666,
              "#ed7953"
             ],
             [
              0.7777777777777778,
              "#fb9f3a"
             ],
             [
              0.8888888888888888,
              "#fdca26"
             ],
             [
              1,
              "#f0f921"
             ]
            ],
            "type": "heatmap"
           }
          ],
          "heatmapgl": [
           {
            "colorbar": {
             "outlinewidth": 0,
             "ticks": ""
            },
            "colorscale": [
             [
              0,
              "#0d0887"
             ],
             [
              0.1111111111111111,
              "#46039f"
             ],
             [
              0.2222222222222222,
              "#7201a8"
             ],
             [
              0.3333333333333333,
              "#9c179e"
             ],
             [
              0.4444444444444444,
              "#bd3786"
             ],
             [
              0.5555555555555556,
              "#d8576b"
             ],
             [
              0.6666666666666666,
              "#ed7953"
             ],
             [
              0.7777777777777778,
              "#fb9f3a"
             ],
             [
              0.8888888888888888,
              "#fdca26"
             ],
             [
              1,
              "#f0f921"
             ]
            ],
            "type": "heatmapgl"
           }
          ],
          "histogram": [
           {
            "marker": {
             "pattern": {
              "fillmode": "overlay",
              "size": 10,
              "solidity": 0.2
             }
            },
            "type": "histogram"
           }
          ],
          "histogram2d": [
           {
            "colorbar": {
             "outlinewidth": 0,
             "ticks": ""
            },
            "colorscale": [
             [
              0,
              "#0d0887"
             ],
             [
              0.1111111111111111,
              "#46039f"
             ],
             [
              0.2222222222222222,
              "#7201a8"
             ],
             [
              0.3333333333333333,
              "#9c179e"
             ],
             [
              0.4444444444444444,
              "#bd3786"
             ],
             [
              0.5555555555555556,
              "#d8576b"
             ],
             [
              0.6666666666666666,
              "#ed7953"
             ],
             [
              0.7777777777777778,
              "#fb9f3a"
             ],
             [
              0.8888888888888888,
              "#fdca26"
             ],
             [
              1,
              "#f0f921"
             ]
            ],
            "type": "histogram2d"
           }
          ],
          "histogram2dcontour": [
           {
            "colorbar": {
             "outlinewidth": 0,
             "ticks": ""
            },
            "colorscale": [
             [
              0,
              "#0d0887"
             ],
             [
              0.1111111111111111,
              "#46039f"
             ],
             [
              0.2222222222222222,
              "#7201a8"
             ],
             [
              0.3333333333333333,
              "#9c179e"
             ],
             [
              0.4444444444444444,
              "#bd3786"
             ],
             [
              0.5555555555555556,
              "#d8576b"
             ],
             [
              0.6666666666666666,
              "#ed7953"
             ],
             [
              0.7777777777777778,
              "#fb9f3a"
             ],
             [
              0.8888888888888888,
              "#fdca26"
             ],
             [
              1,
              "#f0f921"
             ]
            ],
            "type": "histogram2dcontour"
           }
          ],
          "mesh3d": [
           {
            "colorbar": {
             "outlinewidth": 0,
             "ticks": ""
            },
            "type": "mesh3d"
           }
          ],
          "parcoords": [
           {
            "line": {
             "colorbar": {
              "outlinewidth": 0,
              "ticks": ""
             }
            },
            "type": "parcoords"
           }
          ],
          "pie": [
           {
            "automargin": true,
            "type": "pie"
           }
          ],
          "scatter": [
           {
            "fillpattern": {
             "fillmode": "overlay",
             "size": 10,
             "solidity": 0.2
            },
            "type": "scatter"
           }
          ],
          "scatter3d": [
           {
            "line": {
             "colorbar": {
              "outlinewidth": 0,
              "ticks": ""
             }
            },
            "marker": {
             "colorbar": {
              "outlinewidth": 0,
              "ticks": ""
             }
            },
            "type": "scatter3d"
           }
          ],
          "scattercarpet": [
           {
            "marker": {
             "colorbar": {
              "outlinewidth": 0,
              "ticks": ""
             }
            },
            "type": "scattercarpet"
           }
          ],
          "scattergeo": [
           {
            "marker": {
             "colorbar": {
              "outlinewidth": 0,
              "ticks": ""
             }
            },
            "type": "scattergeo"
           }
          ],
          "scattergl": [
           {
            "marker": {
             "colorbar": {
              "outlinewidth": 0,
              "ticks": ""
             }
            },
            "type": "scattergl"
           }
          ],
          "scattermapbox": [
           {
            "marker": {
             "colorbar": {
              "outlinewidth": 0,
              "ticks": ""
             }
            },
            "type": "scattermapbox"
           }
          ],
          "scatterpolar": [
           {
            "marker": {
             "colorbar": {
              "outlinewidth": 0,
              "ticks": ""
             }
            },
            "type": "scatterpolar"
           }
          ],
          "scatterpolargl": [
           {
            "marker": {
             "colorbar": {
              "outlinewidth": 0,
              "ticks": ""
             }
            },
            "type": "scatterpolargl"
           }
          ],
          "scatterternary": [
           {
            "marker": {
             "colorbar": {
              "outlinewidth": 0,
              "ticks": ""
             }
            },
            "type": "scatterternary"
           }
          ],
          "surface": [
           {
            "colorbar": {
             "outlinewidth": 0,
             "ticks": ""
            },
            "colorscale": [
             [
              0,
              "#0d0887"
             ],
             [
              0.1111111111111111,
              "#46039f"
             ],
             [
              0.2222222222222222,
              "#7201a8"
             ],
             [
              0.3333333333333333,
              "#9c179e"
             ],
             [
              0.4444444444444444,
              "#bd3786"
             ],
             [
              0.5555555555555556,
              "#d8576b"
             ],
             [
              0.6666666666666666,
              "#ed7953"
             ],
             [
              0.7777777777777778,
              "#fb9f3a"
             ],
             [
              0.8888888888888888,
              "#fdca26"
             ],
             [
              1,
              "#f0f921"
             ]
            ],
            "type": "surface"
           }
          ],
          "table": [
           {
            "cells": {
             "fill": {
              "color": "#EBF0F8"
             },
             "line": {
              "color": "white"
             }
            },
            "header": {
             "fill": {
              "color": "#C8D4E3"
             },
             "line": {
              "color": "white"
             }
            },
            "type": "table"
           }
          ]
         },
         "layout": {
          "annotationdefaults": {
           "arrowcolor": "#2a3f5f",
           "arrowhead": 0,
           "arrowwidth": 1
          },
          "autotypenumbers": "strict",
          "coloraxis": {
           "colorbar": {
            "outlinewidth": 0,
            "ticks": ""
           }
          },
          "colorscale": {
           "diverging": [
            [
             0,
             "#8e0152"
            ],
            [
             0.1,
             "#c51b7d"
            ],
            [
             0.2,
             "#de77ae"
            ],
            [
             0.3,
             "#f1b6da"
            ],
            [
             0.4,
             "#fde0ef"
            ],
            [
             0.5,
             "#f7f7f7"
            ],
            [
             0.6,
             "#e6f5d0"
            ],
            [
             0.7,
             "#b8e186"
            ],
            [
             0.8,
             "#7fbc41"
            ],
            [
             0.9,
             "#4d9221"
            ],
            [
             1,
             "#276419"
            ]
           ],
           "sequential": [
            [
             0,
             "#0d0887"
            ],
            [
             0.1111111111111111,
             "#46039f"
            ],
            [
             0.2222222222222222,
             "#7201a8"
            ],
            [
             0.3333333333333333,
             "#9c179e"
            ],
            [
             0.4444444444444444,
             "#bd3786"
            ],
            [
             0.5555555555555556,
             "#d8576b"
            ],
            [
             0.6666666666666666,
             "#ed7953"
            ],
            [
             0.7777777777777778,
             "#fb9f3a"
            ],
            [
             0.8888888888888888,
             "#fdca26"
            ],
            [
             1,
             "#f0f921"
            ]
           ],
           "sequentialminus": [
            [
             0,
             "#0d0887"
            ],
            [
             0.1111111111111111,
             "#46039f"
            ],
            [
             0.2222222222222222,
             "#7201a8"
            ],
            [
             0.3333333333333333,
             "#9c179e"
            ],
            [
             0.4444444444444444,
             "#bd3786"
            ],
            [
             0.5555555555555556,
             "#d8576b"
            ],
            [
             0.6666666666666666,
             "#ed7953"
            ],
            [
             0.7777777777777778,
             "#fb9f3a"
            ],
            [
             0.8888888888888888,
             "#fdca26"
            ],
            [
             1,
             "#f0f921"
            ]
           ]
          },
          "colorway": [
           "#636efa",
           "#EF553B",
           "#00cc96",
           "#ab63fa",
           "#FFA15A",
           "#19d3f3",
           "#FF6692",
           "#B6E880",
           "#FF97FF",
           "#FECB52"
          ],
          "font": {
           "color": "#2a3f5f"
          },
          "geo": {
           "bgcolor": "white",
           "lakecolor": "white",
           "landcolor": "#E5ECF6",
           "showlakes": true,
           "showland": true,
           "subunitcolor": "white"
          },
          "hoverlabel": {
           "align": "left"
          },
          "hovermode": "closest",
          "mapbox": {
           "style": "light"
          },
          "paper_bgcolor": "white",
          "plot_bgcolor": "#E5ECF6",
          "polar": {
           "angularaxis": {
            "gridcolor": "white",
            "linecolor": "white",
            "ticks": ""
           },
           "bgcolor": "#E5ECF6",
           "radialaxis": {
            "gridcolor": "white",
            "linecolor": "white",
            "ticks": ""
           }
          },
          "scene": {
           "xaxis": {
            "backgroundcolor": "#E5ECF6",
            "gridcolor": "white",
            "gridwidth": 2,
            "linecolor": "white",
            "showbackground": true,
            "ticks": "",
            "zerolinecolor": "white"
           },
           "yaxis": {
            "backgroundcolor": "#E5ECF6",
            "gridcolor": "white",
            "gridwidth": 2,
            "linecolor": "white",
            "showbackground": true,
            "ticks": "",
            "zerolinecolor": "white"
           },
           "zaxis": {
            "backgroundcolor": "#E5ECF6",
            "gridcolor": "white",
            "gridwidth": 2,
            "linecolor": "white",
            "showbackground": true,
            "ticks": "",
            "zerolinecolor": "white"
           }
          },
          "shapedefaults": {
           "line": {
            "color": "#2a3f5f"
           }
          },
          "ternary": {
           "aaxis": {
            "gridcolor": "white",
            "linecolor": "white",
            "ticks": ""
           },
           "baxis": {
            "gridcolor": "white",
            "linecolor": "white",
            "ticks": ""
           },
           "bgcolor": "#E5ECF6",
           "caxis": {
            "gridcolor": "white",
            "linecolor": "white",
            "ticks": ""
           }
          },
          "title": {
           "x": 0.05
          },
          "xaxis": {
           "automargin": true,
           "gridcolor": "white",
           "linecolor": "white",
           "ticks": "",
           "title": {
            "standoff": 15
           },
           "zerolinecolor": "white",
           "zerolinewidth": 2
          },
          "yaxis": {
           "automargin": true,
           "gridcolor": "white",
           "linecolor": "white",
           "ticks": "",
           "title": {
            "standoff": 15
           },
           "zerolinecolor": "white",
           "zerolinewidth": 2
          }
         }
        },
        "title": {
         "text": "Heat wave occurence in Selected pixel by year for period 1971-2000 and 2011-2100 rcp4.5 and 8.5"
        },
        "width": 1100,
        "xaxis": {
         "autorange": true,
         "range": [
          1970.5,
          2100.5
         ],
         "title": {
          "text": "Year"
         },
         "type": "linear"
        },
        "yaxis": {
         "autorange": true,
         "range": [
          -0.7665059687786948,
          29.51402662993572
         ],
         "title": {
          "text": "Number of Heat-waves"
         },
         "type": "linear"
        }
       }
      },
      "image/png": "[encoded data removed]",
      "text/html": [
       "<div>                            <div id=\"b04d40ac-d0f7-430a-a8a2-a89028465d33\" class=\"plotly-graph-div\" style=\"height:500px; width:1100px;\"></div>            <script type=\"text/javascript\">                require([\"plotly\"], function(Plotly) {                    window.PLOTLYENV=window.PLOTLYENV || {};                                    if (document.getElementById(\"b04d40ac-d0f7-430a-a8a2-a89028465d33\")) {                    Plotly.newPlot(                        \"b04d40ac-d0f7-430a-a8a2-a89028465d33\",                        [{\"marker\":{\"color\":\"blue\"},\"name\":\"RCP 4.5\",\"x\":[1971,1972,1973,1974,1975,1976,1977,1978,1979,1980,1981,1982,1983,1984,1985,1986,1987,1988,1989,1990,1991,1992,1993,1994,1995,1996,1997,1998,1999,2000,2011,2012,2013,2014,2015,2016,2017,2018,2019,2020,2021,2022,2023,2024,2025,2026,2027,2028,2029,2030,2031,2032,2033,2034,2035,2036,2037,2038,2039,2040,2041,2042,2043,2044,2045,2046,2047,2048,2049,2050,2051,2052,2053,2054,2055,2056,2057,2058,2059,2060,2061,2062,2063,2064,2065,2066,2067,2068,2069,2070,2071,2072,2073,2074,2075,2076,2077,2078,2079,2080,2081,2082,2083,2084,2085,2086,2087,2088,2089,2090,2091,2092,2093,2094,2095,2096,2097,2098,2099,2100],\"y\":[3.0,6.0,7.0,8.0,9.0,5.0,5.0,5.0,3.0,1.0,6.0,4.0,2.0,3.0,0.0,9.0,8.0,5.0,3.0,6.0,2.0,2.0,1.0,1.0,3.0,9.0,4.0,3.0,4.0,1.0,6.0,3.0,3.0,0.0,10.0,3.0,7.0,5.0,8.0,2.0,7.0,6.0,4.0,2.0,4.0,9.0,8.0,9.0,8.0,8.0,7.0,6.0,5.0,3.0,8.0,3.0,9.0,5.0,16.0,10.0,11.0,8.0,6.0,12.0,6.0,4.0,13.0,9.0,8.0,6.0,7.0,8.0,9.0,12.0,13.0,11.0,11.0,9.0,11.0,14.0,7.0,10.0,12.0,12.0,8.0,9.0,13.0,5.0,7.0,8.0,11.0,7.0,8.0,7.0,10.0,10.0,6.0,9.0,9.0,7.0,8.0,10.0,8.0,12.0,9.0,7.0,15.0,13.0,10.0,5.0,6.0,10.0,18.0,14.0,11.0,9.0,8.0,8.0,4.0,15.0],\"type\":\"bar\"},{\"marker\":{\"color\":\"red\"},\"name\":\"RCP 8.5\",\"opacity\":0.5,\"x\":[1971,1972,1973,1974,1975,1976,1977,1978,1979,1980,1981,1982,1983,1984,1985,1986,1987,1988,1989,1990,1991,1992,1993,1994,1995,1996,1997,1998,1999,2000,2011,2012,2013,2014,2015,2016,2017,2018,2019,2020,2021,2022,2023,2024,2025,2026,2027,2028,2029,2030,2031,2032,2033,2034,2035,2036,2037,2038,2039,2040,2041,2042,2043,2044,2045,2046,2047,2048,2049,2050,2051,2052,2053,2054,2055,2056,2057,2058,2059,2060,2061,2062,2063,2064,2065,2066,2067,2068,2069,2070,2071,2072,2073,2074,2075,2076,2077,2078,2079,2080,2081,2082,2083,2084,2085,2086,2087,2088,2089,2090,2091,2092,2093,2094,2095,2096,2097,2098,2099,2100],\"y\":[3.0,6.0,7.0,8.0,9.0,5.0,5.0,5.0,3.0,1.0,6.0,4.0,2.0,3.0,0.0,9.0,8.0,5.0,3.0,6.0,2.0,2.0,1.0,1.0,3.0,9.0,4.0,3.0,4.0,1.0,5.0,10.0,4.0,5.0,7.0,3.0,9.0,4.0,4.0,4.0,6.0,5.0,2.0,7.0,7.0,7.0,1.0,7.0,8.0,7.0,11.0,9.0,7.0,2.0,6.0,7.0,5.0,7.0,7.0,13.0,5.0,10.0,11.0,4.0,7.0,9.0,11.0,12.0,3.0,10.0,16.0,9.0,11.0,10.0,6.0,5.0,12.0,11.0,10.0,10.0,10.0,18.0,11.0,14.0,20.0,9.0,12.0,16.0,11.0,12.0,10.0,10.0,11.0,13.0,19.0,13.0,15.0,15.0,17.0,13.0,12.0,16.0,20.0,23.0,11.0,19.0,15.0,24.0,18.0,20.0,19.0,22.0,26.0,23.0,20.0,24.0,19.0,19.0,28.0,21.0],\"type\":\"bar\"},{\"line\":{\"color\":\"blue\"},\"mode\":\"lines\",\"name\":\"RCP 4.5 trend\",\"x\":[1971,1972,1973,1974,1975,1976,1977,1978,1979,1980,1981,1982,1983,1984,1985,1986,1987,1988,1989,1990,1991,1992,1993,1994,1995,1996,1997,1998,1999,2000,2011,2012,2013,2014,2015,2016,2017,2018,2019,2020,2021,2022,2023,2024,2025,2026,2027,2028,2029,2030,2031,2032,2033,2034,2035,2036,2037,2038,2039,2040,2041,2042,2043,2044,2045,2046,2047,2048,2049,2050,2051,2052,2053,2054,2055,2056,2057,2058,2059,2060,2061,2062,2063,2064,2065,2066,2067,2068,2069,2070,2071,2072,2073,2074,2075,2076,2077,2078,2079,2080,2081,2082,2083,2084,2085,2086,2087,2088,2089,2090,2091,2092,2093,2094,2095,2096,2097,2098,2099,2100],\"y\":[3.643939393939396,3.705245734657501,3.7665520753756065,3.827858416093712,3.8891647568118177,3.950471097529923,4.0117774382480285,4.073083778966134,4.134390119684239,4.195696460402345,4.25700280112045,4.318309141838555,4.379615482556661,4.440921823274766,4.502228163992871,4.563534504710978,4.624840845429083,4.686147186147188,4.747453526865294,4.808759867583399,4.8700662083015045,4.93137254901961,4.992678889737715,5.053985230455821,5.115291571173926,5.176597911892031,5.237904252610137,5.299210593328242,5.360516934046348,5.421823274764453,5.483129615482559,5.544435956200664,5.60574229691877,5.667048637636875,5.7283549783549805,5.789661319073086,5.850967659791191,5.912274000509297,5.973580341227402,6.034886681945507,6.096193022663613,6.157499363381719,6.2188057040998235,6.28011204481793,6.341418385536034,6.4027247262541405,6.464031066972245,6.525337407690351,6.586643748408457,6.647950089126562,6.709256429844667,6.770562770562773,6.831869111280878,6.893175451998983,6.95448179271709,7.015788133435194,7.0770944741533,7.138400814871405,7.199707155589511,7.261013496307616,7.322319837025722,7.383626177743827,7.444932518461933,7.506238859180038,7.567545199898143,7.628851540616249,7.690157881334354,7.75146422205246,7.812770562770565,7.874076903488671,7.9353832442067755,7.996689584924882,8.057995925642986,8.119302266361093,8.180608607079197,8.241914947797303,8.303221288515408,8.364527629233514,8.425833969951618,8.487140310669725,8.548446651387831,8.609752992105935,8.671059332824042,8.732365673542146,8.793672014260252,8.854978354978357,8.916284695696463,8.977591036414568,9.038897377132674,9.100203717850778,9.161510058568885,9.22281639928699,9.284122740005095,9.345429080723202,9.406735421441306,9.468041762159412,9.529348102877517,9.590654443595623,9.651960784313728,9.713267125031834,9.774573465749938,9.835879806468045,9.897186147186149,9.958492487904255,10.01979882862236,10.081105169340466,10.14241151005857,10.203717850776677,10.265024191494783,10.326330532212888,10.387636872930994,10.448943213649098,10.510249554367205,10.571555895085309,10.632862235803415,10.69416857652152,10.755474917239626,10.81678125795773,10.878087598675837,10.939393939393941],\"type\":\"scatter\"},{\"line\":{\"color\":\"red\"},\"mode\":\"lines\",\"name\":\"RCP 8.5 trend\",\"x\":[1971,1972,1973,1974,1975,1976,1977,1978,1979,1980,1981,1982,1983,1984,1985,1986,1987,1988,1989,1990,1991,1992,1993,1994,1995,1996,1997,1998,1999,2000,2011,2012,2013,2014,2015,2016,2017,2018,2019,2020,2021,2022,2023,2024,2025,2026,2027,2028,2029,2030,2031,2032,2033,2034,2035,2036,2037,2038,2039,2040,2041,2042,2043,2044,2045,2046,2047,2048,2049,2050,2051,2052,2053,2054,2055,2056,2057,2058,2059,2060,2061,2062,2063,2064,2065,2066,2067,2068,2069,2070,2071,2072,2073,2074,2075,2076,2077,2078,2079,2080,2081,2082,2083,2084,2085,2086,2087,2088,2089,2090,2091,2092,2093,2094,2095,2096,2097,2098,2099,2100],\"y\":[0.747520661157026,0.897982498784639,1.048444336412252,1.1989061740398652,1.3493680116674782,1.4998298492950912,1.6502916869227042,1.8007535245503172,1.9512153621779302,2.1016771998055432,2.2521390374331562,2.4026008750607692,2.5530627126883827,2.7035245503159953,2.8539863879436087,3.0044482255712213,3.1549100631988347,3.3053719008264473,3.4558337384540607,3.6062955760816733,3.7567574137092867,3.9072192513368993,4.057681088964513,4.208142926592125,4.358604764219739,4.509066601847352,4.659528439474965,4.809990277102577,4.960452114730191,5.110913952357803,5.261375789985417,5.411837627613029,5.562299465240643,5.712761302868256,5.863223140495869,6.013684978123482,6.164146815751095,6.314608653378708,6.465070491006321,6.615532328633934,6.765994166261547,6.91645600388916,7.066917841516773,7.217379679144386,7.367841516771999,7.518303354399612,7.668765192027225,7.819227029654838,7.969688867282452,8.120150704910065,8.270612542537679,8.42107438016529,8.571536217792904,8.721998055420517,8.872459893048129,9.022921730675742,9.173383568303356,9.32384540593097,9.474307243558581,9.624769081186194,9.775230918813808,9.925692756441421,10.076154594069033,10.226616431696646,10.37707826932426,10.527540106951873,10.678001944579487,10.828463782207098,10.978925619834712,11.129387457462325,11.279849295089939,11.43031113271755,11.580772970345164,11.731234807972777,11.88169664560039,12.032158483228002,12.182620320855616,12.33308215848323,12.483543996110843,12.634005833738454,12.784467671366068,12.934929508993681,13.085391346621295,13.235853184248908,13.38631502187652,13.536776859504133,13.687238697131747,13.83770053475936,13.988162372386972,14.138624210014585,14.289086047642199,14.439547885269812,14.590009722897424,14.740471560525037,14.89093339815265,15.041395235780264,15.191857073407878,15.34231891103549,15.492780748663103,15.643242586290716,15.79370442391833,15.944166261545941,16.094628099173555,16.24508993680117,16.39555177442878,16.546013612056395,16.69647544968401,16.84693728731162,16.997399124939232,17.147860962566845,17.29832280019446,17.448784637822072,17.599246475449686,17.7497083130773,17.900170150704913,18.050631988332526,18.201093825960136,18.35155566358775,18.502017501215363,18.652479338842976],\"type\":\"scatter\"}],                        {\"template\":{\"data\":{\"histogram2dcontour\":[{\"type\":\"histogram2dcontour\",\"colorbar\":{\"outlinewidth\":0,\"ticks\":\"\"},\"colorscale\":[[0.0,\"#0d0887\"],[0.1111111111111111,\"#46039f\"],[0.2222222222222222,\"#7201a8\"],[0.3333333333333333,\"#9c179e\"],[0.4444444444444444,\"#bd3786\"],[0.5555555555555556,\"#d8576b\"],[0.6666666666666666,\"#ed7953\"],[0.7777777777777778,\"#fb9f3a\"],[0.8888888888888888,\"#fdca26\"],[1.0,\"#f0f921\"]]}],\"choropleth\":[{\"type\":\"choropleth\",\"colorbar\":{\"outlinewidth\":0,\"ticks\":\"\"}}],\"histogram2d\":[{\"type\":\"histogram2d\",\"colorbar\":{\"outlinewidth\":0,\"ticks\":\"\"},\"colorscale\":[[0.0,\"#0d0887\"],[0.1111111111111111,\"#46039f\"],[0.2222222222222222,\"#7201a8\"],[0.3333333333333333,\"#9c179e\"],[0.4444444444444444,\"#bd3786\"],[0.5555555555555556,\"#d8576b\"],[0.6666666666666666,\"#ed7953\"],[0.7777777777777778,\"#fb9f3a\"],[0.8888888888888888,\"#fdca26\"],[1.0,\"#f0f921\"]]}],\"heatmap\":[{\"type\":\"heatmap\",\"colorbar\":{\"outlinewidth\":0,\"ticks\":\"\"},\"colorscale\":[[0.0,\"#0d0887\"],[0.1111111111111111,\"#46039f\"],[0.2222222222222222,\"#7201a8\"],[0.3333333333333333,\"#9c179e\"],[0.4444444444444444,\"#bd3786\"],[0.5555555555555556,\"#d8576b\"],[0.6666666666666666,\"#ed7953\"],[0.7777777777777778,\"#fb9f3a\"],[0.8888888888888888,\"#fdca26\"],[1.0,\"#f0f921\"]]}],\"heatmapgl\":[{\"type\":\"heatmapgl\",\"colorbar\":{\"outlinewidth\":0,\"ticks\":\"\"},\"colorscale\":[[0.0,\"#0d0887\"],[0.1111111111111111,\"#46039f\"],[0.2222222222222222,\"#7201a8\"],[0.3333333333333333,\"#9c179e\"],[0.4444444444444444,\"#bd3786\"],[0.5555555555555556,\"#d8576b\"],[0.6666666666666666,\"#ed7953\"],[0.7777777777777778,\"#fb9f3a\"],[0.8888888888888888,\"#fdca26\"],[1.0,\"#f0f921\"]]}],\"contourcarpet\":[{\"type\":\"contourcarpet\",\"colorbar\":{\"outlinewidth\":0,\"ticks\":\"\"}}],\"contour\":[{\"type\":\"contour\",\"colorbar\":{\"outlinewidth\":0,\"ticks\":\"\"},\"colorscale\":[[0.0,\"#0d0887\"],[0.1111111111111111,\"#46039f\"],[0.2222222222222222,\"#7201a8\"],[0.3333333333333333,\"#9c179e\"],[0.4444444444444444,\"#bd3786\"],[0.5555555555555556,\"#d8576b\"],[0.6666666666666666,\"#ed7953\"],[0.7777777777777778,\"#fb9f3a\"],[0.8888888888888888,\"#fdca26\"],[1.0,\"#f0f921\"]]}],\"surface\":[{\"type\":\"surface\",\"colorbar\":{\"outlinewidth\":0,\"ticks\":\"\"},\"colorscale\":[[0.0,\"#0d0887\"],[0.1111111111111111,\"#46039f\"],[0.2222222222222222,\"#7201a8\"],[0.3333333333333333,\"#9c179e\"],[0.4444444444444444,\"#bd3786\"],[0.5555555555555556,\"#d8576b\"],[0.6666666666666666,\"#ed7953\"],[0.7777777777777778,\"#fb9f3a\"],[0.8888888888888888,\"#fdca26\"],[1.0,\"#f0f921\"]]}],\"mesh3d\":[{\"type\":\"mesh3d\",\"colorbar\":{\"outlinewidth\":0,\"ticks\":\"\"}}],\"scatter\":[{\"fillpattern\":{\"fillmode\":\"overlay\",\"size\":10,\"solidity\":0.2},\"type\":\"scatter\"}],\"parcoords\":[{\"type\":\"parcoords\",\"line\":{\"colorbar\":{\"outlinewidth\":0,\"ticks\":\"\"}}}],\"scatterpolargl\":[{\"type\":\"scatterpolargl\",\"marker\":{\"colorbar\":{\"outlinewidth\":0,\"ticks\":\"\"}}}],\"bar\":[{\"error_x\":{\"color\":\"#2a3f5f\"},\"error_y\":{\"color\":\"#2a3f5f\"},\"marker\":{\"line\":{\"color\":\"#E5ECF6\",\"width\":0.5},\"pattern\":{\"fillmode\":\"overlay\",\"size\":10,\"solidity\":0.2}},\"type\":\"bar\"}],\"scattergeo\":[{\"type\":\"scattergeo\",\"marker\":{\"colorbar\":{\"outlinewidth\":0,\"ticks\":\"\"}}}],\"scatterpolar\":[{\"type\":\"scatterpolar\",\"marker\":{\"colorbar\":{\"outlinewidth\":0,\"ticks\":\"\"}}}],\"histogram\":[{\"marker\":{\"pattern\":{\"fillmode\":\"overlay\",\"size\":10,\"solidity\":0.2}},\"type\":\"histogram\"}],\"scattergl\":[{\"type\":\"scattergl\",\"marker\":{\"colorbar\":{\"outlinewidth\":0,\"ticks\":\"\"}}}],\"scatter3d\":[{\"type\":\"scatter3d\",\"line\":{\"colorbar\":{\"outlinewidth\":0,\"ticks\":\"\"}},\"marker\":{\"colorbar\":{\"outlinewidth\":0,\"ticks\":\"\"}}}],\"scattermapbox\":[{\"type\":\"scattermapbox\",\"marker\":{\"colorbar\":{\"outlinewidth\":0,\"ticks\":\"\"}}}],\"scatterternary\":[{\"type\":\"scatterternary\",\"marker\":{\"colorbar\":{\"outlinewidth\":0,\"ticks\":\"\"}}}],\"scattercarpet\":[{\"type\":\"scattercarpet\",\"marker\":{\"colorbar\":{\"outlinewidth\":0,\"ticks\":\"\"}}}],\"carpet\":[{\"aaxis\":{\"endlinecolor\":\"#2a3f5f\",\"gridcolor\":\"white\",\"linecolor\":\"white\",\"minorgridcolor\":\"white\",\"startlinecolor\":\"#2a3f5f\"},\"baxis\":{\"endlinecolor\":\"#2a3f5f\",\"gridcolor\":\"white\",\"linecolor\":\"white\",\"minorgridcolor\":\"white\",\"startlinecolor\":\"#2a3f5f\"},\"type\":\"carpet\"}],\"table\":[{\"cells\":{\"fill\":{\"color\":\"#EBF0F8\"},\"line\":{\"color\":\"white\"}},\"header\":{\"fill\":{\"color\":\"#C8D4E3\"},\"line\":{\"color\":\"white\"}},\"type\":\"table\"}],\"barpolar\":[{\"marker\":{\"line\":{\"color\":\"#E5ECF6\",\"width\":0.5},\"pattern\":{\"fillmode\":\"overlay\",\"size\":10,\"solidity\":0.2}},\"type\":\"barpolar\"}],\"pie\":[{\"automargin\":true,\"type\":\"pie\"}]},\"layout\":{\"autotypenumbers\":\"strict\",\"colorway\":[\"#636efa\",\"#EF553B\",\"#00cc96\",\"#ab63fa\",\"#FFA15A\",\"#19d3f3\",\"#FF6692\",\"#B6E880\",\"#FF97FF\",\"#FECB52\"],\"font\":{\"color\":\"#2a3f5f\"},\"hovermode\":\"closest\",\"hoverlabel\":{\"align\":\"left\"},\"paper_bgcolor\":\"white\",\"plot_bgcolor\":\"#E5ECF6\",\"polar\":{\"bgcolor\":\"#E5ECF6\",\"angularaxis\":{\"gridcolor\":\"white\",\"linecolor\":\"white\",\"ticks\":\"\"},\"radialaxis\":{\"gridcolor\":\"white\",\"linecolor\":\"white\",\"ticks\":\"\"}},\"ternary\":{\"bgcolor\":\"#E5ECF6\",\"aaxis\":{\"gridcolor\":\"white\",\"linecolor\":\"white\",\"ticks\":\"\"},\"baxis\":{\"gridcolor\":\"white\",\"linecolor\":\"white\",\"ticks\":\"\"},\"caxis\":{\"gridcolor\":\"white\",\"linecolor\":\"white\",\"ticks\":\"\"}},\"coloraxis\":{\"colorbar\":{\"outlinewidth\":0,\"ticks\":\"\"}},\"colorscale\":{\"sequential\":[[0.0,\"#0d0887\"],[0.1111111111111111,\"#46039f\"],[0.2222222222222222,\"#7201a8\"],[0.3333333333333333,\"#9c179e\"],[0.4444444444444444,\"#bd3786\"],[0.5555555555555556,\"#d8576b\"],[0.6666666666666666,\"#ed7953\"],[0.7777777777777778,\"#fb9f3a\"],[0.8888888888888888,\"#fdca26\"],[1.0,\"#f0f921\"]],\"sequentialminus\":[[0.0,\"#0d0887\"],[0.1111111111111111,\"#46039f\"],[0.2222222222222222,\"#7201a8\"],[0.3333333333333333,\"#9c179e\"],[0.4444444444444444,\"#bd3786\"],[0.5555555555555556,\"#d8576b\"],[0.6666666666666666,\"#ed7953\"],[0.7777777777777778,\"#fb9f3a\"],[0.8888888888888888,\"#fdca26\"],[1.0,\"#f0f921\"]],\"diverging\":[[0,\"#8e0152\"],[0.1,\"#c51b7d\"],[0.2,\"#de77ae\"],[0.3,\"#f1b6da\"],[0.4,\"#fde0ef\"],[0.5,\"#f7f7f7\"],[0.6,\"#e6f5d0\"],[0.7,\"#b8e186\"],[0.8,\"#7fbc41\"],[0.9,\"#4d9221\"],[1,\"#276419\"]]},\"xaxis\":{\"gridcolor\":\"white\",\"linecolor\":\"white\",\"ticks\":\"\",\"title\":{\"standoff\":15},\"zerolinecolor\":\"white\",\"automargin\":true,\"zerolinewidth\":2},\"yaxis\":{\"gridcolor\":\"white\",\"linecolor\":\"white\",\"ticks\":\"\",\"title\":{\"standoff\":15},\"zerolinecolor\":\"white\",\"automargin\":true,\"zerolinewidth\":2},\"scene\":{\"xaxis\":{\"backgroundcolor\":\"#E5ECF6\",\"gridcolor\":\"white\",\"linecolor\":\"white\",\"showbackground\":true,\"ticks\":\"\",\"zerolinecolor\":\"white\",\"gridwidth\":2},\"yaxis\":{\"backgroundcolor\":\"#E5ECF6\",\"gridcolor\":\"white\",\"linecolor\":\"white\",\"showbackground\":true,\"ticks\":\"\",\"zerolinecolor\":\"white\",\"gridwidth\":2},\"zaxis\":{\"backgroundcolor\":\"#E5ECF6\",\"gridcolor\":\"white\",\"linecolor\":\"white\",\"showbackground\":true,\"ticks\":\"\",\"zerolinecolor\":\"white\",\"gridwidth\":2}},\"shapedefaults\":{\"line\":{\"color\":\"#2a3f5f\"}},\"annotationdefaults\":{\"arrowcolor\":\"#2a3f5f\",\"arrowhead\":0,\"arrowwidth\":1},\"geo\":{\"bgcolor\":\"white\",\"landcolor\":\"#E5ECF6\",\"subunitcolor\":\"white\",\"showland\":true,\"showlakes\":true,\"lakecolor\":\"white\"},\"title\":{\"x\":0.05},\"mapbox\":{\"style\":\"light\"}}},\"legend\":{\"x\":0,\"y\":1,\"traceorder\":\"normal\",\"orientation\":\"h\"},\"title\":{\"text\":\"Heat wave occurence in Selected pixel by year for period 1971-2000 and 2011-2100 rcp4.5 and 8.5\"},\"xaxis\":{\"title\":{\"text\":\"Year\"}},\"yaxis\":{\"title\":{\"text\":\"Number of Heat-waves\"}},\"width\":1100,\"height\":500},                        {\"responsive\": true}                    ).then(function(){\n",
       "                            \n",
       "var gd = document.getElementById('b04d40ac-d0f7-430a-a8a2-a89028465d33');\n",
       "var x = new MutationObserver(function (mutations, observer) {{\n",
       "        var display = window.getComputedStyle(gd).display;\n",
       "        if (!display || display === 'none') {{\n",
       "            console.log([gd, 'removed!']);\n",
       "            Plotly.purge(gd);\n",
       "            observer.disconnect();\n",
       "        }}\n",
       "}});\n",
       "\n",
       "// Listen for the removal of the full notebook cells\n",
       "var notebookContainer = gd.closest('#notebook-container');\n",
       "if (notebookContainer) {{\n",
       "    x.observe(notebookContainer, {childList: true});\n",
       "}}\n",
       "\n",
       "// Listen for the clearing of the current output cell\n",
       "var outputEl = gd.closest('.output');\n",
       "if (outputEl) {{\n",
       "    x.observe(outputEl, {childList: true});\n",
       "}}\n",
       "\n",
       "                        })                };                });            </script>        </div>"
      ]
     },
     "metadata": {},
     "output_type": "display_data"
    }
   ],
   "source": [
    "# This code plots the heatwave occurrence for the selected point for years \n",
    "# Sample data\n",
    "b = pixel_values_hy + pixel_values_p1y_45 + pixel_values_p2y_45 + pixel_values_p3y_45\n",
    "t = pixel_values_hy + pixel_values_p1y_85 + pixel_values_p2y_85 + pixel_values_p3y_85\n",
    "\n",
    "# Define years\n",
    "yearh = list(range(1971, 2001))\n",
    "yearp1 = list(range(2011, 2101))\n",
    "year = yearh + yearp1\n",
    "# Create figure\n",
    "fig = go.Figure()\n",
    "# Add bar trace for 'b'\n",
    "fig.add_trace(go.Bar(x=year, y=b, name='RCP 4.5', marker_color='blue'))\n",
    "# Add bar trace for 't'\n",
    "fig.add_trace(go.Bar(x=year, y=t, name='RCP 8.5', opacity=0.5, marker_color='red'))\n",
    "# Update layout\n",
    "fig.update_layout(\n",
    "    title='Yearly heatwave occurence in selected location by year for period 1971-2000 and 2011-2100 RCP4.5 and RCP8.5',\n",
    "    xaxis_title='Year',\n",
    "    yaxis_title='Number of heatwaves',\n",
    "    legend=dict(x=0, y=1, traceorder='normal', orientation='h'),\n",
    "    width=1100,\n",
    "    height=500)"
   ]
  },
  {
   "cell_type": "markdown",
   "id": "b2f917bc-39f2-4622-bc80-85d722c1e0e0",
   "metadata": {},
   "source": [
    "## Step 4: Conclusion for Peseta IV results"
   ]
  },
  {
   "cell_type": "markdown",
   "id": "363e41bd-ca39-4fb8-ab08-7bbdb61ff806",
   "metadata": {},
   "source": [
    "Monthly comparison shows in which months we can expect the highest increase in the heatwave occurrence. Yearly comparisons show that the trend of heatwave occurrence should rise, however, how steep the trendline will be depends on the climate scenario and area you choose. "
   ]
  },
  {
   "cell_type": "markdown",
   "id": "51ce9825-12da-4750-b6bf-b6fa77eae50f",
   "metadata": {},
   "source": [
    "## Authors"
   ]
  },
  {
   "cell_type": "markdown",
   "id": "ca97e542-4403-4d07-a86c-37e334b80d54",
   "metadata": {},
   "source": [
    "Main contributors:\n",
    "- Martin Kuban, KAJO services (martin.kuban@kajoservices.com)\n",
    "- Milan Kalas, KAJO services (milan.kalas@kajoservices.com)"
   ]
  },
  {
   "cell_type": "markdown",
   "id": "a8255076",
   "metadata": {},
   "source": []
  }
 ],
 "metadata": {
  "kernelspec": {
   "display_name": "Python 3",
   "language": "python",
   "name": "python3"
  },
  "language_info": {
   "codemirror_mode": {
    "name": "ipython",
    "version": 3
   },
   "file_extension": ".py",
   "mimetype": "text/x-python",
   "name": "python",
   "nbconvert_exporter": "python",
   "pygments_lexer": "ipython3",
   "version": "3.11.9"
  }
 },
 "nbformat": 4,
 "nbformat_minor": 5
}
